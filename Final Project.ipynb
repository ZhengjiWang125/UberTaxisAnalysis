{
 "cells": [
  {
   "cell_type": "code",
   "execution_count": 1,
   "metadata": {},
   "outputs": [],
   "source": [
    "import numpy as np\n",
    "import pandas as pd\n",
    "from bs4 import BeautifulSoup\n",
    "import requests\n",
    "import re"
   ]
  },
  {
   "cell_type": "code",
   "execution_count": 2,
   "metadata": {},
   "outputs": [],
   "source": [
    "import matplotlib.pyplot as plt\n",
    "import math\n",
    "import seaborn as sns"
   ]
  },
  {
   "cell_type": "code",
   "execution_count": 3,
   "metadata": {},
   "outputs": [],
   "source": [
    "from sqlalchemy import create_engine\n",
    "import logging\n",
    "from sqlalchemy.orm import declarative_base\n",
    "from sqlalchemy import Column, Integer, String\n",
    "from sqlalchemy.orm import sessionmaker\n",
    "from sqlalchemy import text"
   ]
  },
  {
   "cell_type": "markdown",
   "metadata": {},
   "source": [
    "# Data Preprocessing"
   ]
  },
  {
   "cell_type": "markdown",
   "metadata": {},
   "source": [
    "Running this part will download all the files in the local repo, but it will take a long time. \n",
    "Depending on the machine it runs on, it might throw error due to large size."
   ]
  },
  {
   "cell_type": "markdown",
   "metadata": {},
   "source": [
    "### Clean Weather Data"
   ]
  },
  {
   "cell_type": "markdown",
   "metadata": {},
   "source": [
    "All weather csv are cleaned and seperated into hours part and days part"
   ]
  },
  {
   "cell_type": "code",
   "execution_count": null,
   "metadata": {},
   "outputs": [],
   "source": [
    "#create the clean version of weather csv and seprated into two parts\n",
    "def create_weather_csv(filename):\n",
    "    # make sure the output title is consistent \n",
    "    title1 = \"\"\n",
    "    title2 = \"\"\n",
    "    m = re.search(r'(\\d+_weather)', filename)\n",
    "    if m:\n",
    "        title1 = m.group(1) + '_hours.csv'\n",
    "        title2 = m.group(1) + '_days.csv'\n",
    "    \n",
    "    \n",
    "    #this function cleans the weather csv and output 2 csv, one is for daily and one is for hour\n",
    "    df = pd.read_csv(filename,usecols=['DATE','HourlyWindSpeed','HourlyPrecipitation'])\n",
    "    #deal with missing value and special character\n",
    "    df = df.fillna(0)\n",
    "    df = df.replace('T',0)\n",
    "    df = df.replace('s','',regex = True)\n",
    "    #change the data type\n",
    "    df.DATE = pd.to_datetime(df.DATE)\n",
    "    df = df.astype({'HourlyPrecipitation':float,'HourlyWindSpeed':float})\n",
    "    df.set_index('DATE',drop = True).to_csv(title1)\n",
    "    df = df.resample('D', on='DATE').mean() \n",
    "    df = df.rename(mapper = {\"HourlyPrecipitation\":\"DailyPrecipitation\", \"HourlyWindSpeed\":\"DailyWindSpeed\"},axis = 1)\n",
    "    df.to_csv(title2)\n",
    "    \n",
    "    "
   ]
  },
  {
   "cell_type": "code",
   "execution_count": null,
   "metadata": {},
   "outputs": [],
   "source": [
    "for i in range(2009,2016):\n",
    "    #create all weather data from 2009 to 2015\n",
    "    filename = str(i)+\"_weather.csv\"\n",
    "    create_weather_csv(filename)"
   ]
  },
  {
   "cell_type": "markdown",
   "metadata": {},
   "source": [
    "### Clean Uber Data"
   ]
  },
  {
   "cell_type": "markdown",
   "metadata": {},
   "source": [
    "Clean uber sample data and makes the name consistent to the yellow taxi data"
   ]
  },
  {
   "cell_type": "code",
   "execution_count": null,
   "metadata": {},
   "outputs": [],
   "source": [
    "uber = pd.read_csv('uber_rides_sample.csv')"
   ]
  },
  {
   "cell_type": "code",
   "execution_count": null,
   "metadata": {},
   "outputs": [],
   "source": [
    "#this function gets the distance between two coordinates\n",
    "def get_distance(lon1,lat1,lon2,lat2):\n",
    "    from math import sin, cos, sqrt, atan2, radians\n",
    "    R = 6373\n",
    "    lon1 = radians(lon1)\n",
    "    lat1 = radians(lat1)\n",
    "    lon2 = radians(lon2)\n",
    "    lat2 = radians(lat2)\n",
    "    \n",
    "    dlon = lon1 - lon2\n",
    "    dlat = lat1 - lat2\n",
    "    a = sin(dlat / 2)**2 + cos(lat1) * cos(lat2) * sin(dlon / 2)**2\n",
    "    c = 2 * atan2(sqrt(a), sqrt(1 - a))\n",
    "    \n",
    "    distance = R * c\n",
    "    return distance"
   ]
  },
  {
   "cell_type": "code",
   "execution_count": null,
   "metadata": {},
   "outputs": [],
   "source": [
    "#add distance to the dataframe with coordinates\n",
    "def add_distance(df):\n",
    "    distance = []\n",
    "    lon1 = list(df['pickup_longitude'])\n",
    "    lon2 = list(df['dropoff_longitude'])\n",
    "    lat1 = list(df['pickup_latitude'])\n",
    "    lat2 = list(df['dropoff_latitude'])\n",
    "    for i in range(len(lon1)):\n",
    "        distance.append(get_distance(lon1[i],lat1[i],lon2[i],lat2[i]))\n",
    "    df['distance']  = distance"
   ]
  },
  {
   "cell_type": "code",
   "execution_count": null,
   "metadata": {},
   "outputs": [],
   "source": [
    "#create the clean version of uber dataframe\n",
    "def create_uber(df):\n",
    "    #clean uber data\n",
    "    df = df.rename(columns = lambda x: x.strip())\n",
    "   \n",
    "    #drop and rename column\n",
    "    to_drop = [\n",
    "        \"Unnamed: 0\",\n",
    "        \"key\",\n",
    "        \"passenger_count\"\n",
    "    ]\n",
    "    \n",
    "    mapper = {\n",
    "        \"pickup_datetime\" :\"pickup_time\",\n",
    "        \"fare_amount\" : \"charge\"\n",
    "    }\n",
    "    df = df.drop(to_drop, axis = 1,errors = \"ignore\")\n",
    "    df = df.rename(mapper, axis = 1)\n",
    "    df.dropna(inplace = True)\n",
    "    \n",
    "    #modify datatype\n",
    "    df = df.astype({\"pickup_time\":np.datetime64})\n",
    "    \n",
    "    \n",
    "    #add distance\n",
    "    add_distance(df)\n",
    "    df.to_csv('uber.csv',index = False)"
   ]
  },
  {
   "cell_type": "code",
   "execution_count": null,
   "metadata": {},
   "outputs": [],
   "source": [
    "create_uber(uber)"
   ]
  },
  {
   "cell_type": "markdown",
   "metadata": {},
   "source": [
    "### Clean Yellow Taxi Data"
   ]
  },
  {
   "cell_type": "markdown",
   "metadata": {},
   "source": [
    "find all csv files and filter them, then download as a dataframe and clean the data"
   ]
  },
  {
   "cell_type": "code",
   "execution_count": null,
   "metadata": {},
   "outputs": [],
   "source": [
    "def get_csv_links():\n",
    "    #this function visits： https://www1.nyc.gov/site/tlc/about/tlc-trip-record-data.page\n",
    "    #It requests the source code on the website and get all the hrefs related to csv\n",
    "    #the urls are saved in link_lists\n",
    "    link_lists = []\n",
    "    url = \"https://www1.nyc.gov/site/tlc/about/tlc-trip-record-data.page\"\n",
    "    page = requests.get(url)\n",
    "    soup = BeautifulSoup(page.text, 'html.parser')\n",
    "    aclasses = soup.find_all('a')\n",
    "    for a in aclasses:\n",
    "        link_lists.append(a.get('href'))\n",
    "    #Then we filter on link_lists using re because we only want to grab csv for yellow taxi ranging from 2009 - 2015.\n",
    "    csv_links = []\n",
    "    pattern = re.compile(r'.yellow_tripdata_(200[9]|201[0-5])-\\d\\d\\.csv$')\n",
    "    for i in link_lists:\n",
    "        if re.search(pattern,i):\n",
    "            csv_links.append(i)\n",
    "    return csv_links\n",
    "    "
   ]
  },
  {
   "cell_type": "code",
   "execution_count": null,
   "metadata": {},
   "outputs": [],
   "source": [
    "westlimit=-74.242330; southlimit=40.560445; eastlimit=-73.717047; northlimit=40.908524\n",
    "#Remove the data that is not within the limits specified above\n",
    "\n",
    "def fix_longitude(input_longitude):\n",
    "    try:\n",
    "        input_longitude = float(input_longitude)\n",
    "    except:\n",
    "        return np.NaN\n",
    "    if input_longitude < westlimit or input_longitude > eastlimit:\n",
    "        return np.NaN\n",
    "    return input_longitude\n",
    "\n",
    "\n",
    "def fix_latitude(input_latitude):\n",
    "    try:\n",
    "        input_latitude = float(input_latitude)\n",
    "    except:\n",
    "        return np.NaN\n",
    "    if input_latitude < southlimit or input_latitude > northlimit:\n",
    "        return np.NaN\n",
    "    return input_latitude\n",
    "\n",
    "\n",
    "def fix_df(df):\n",
    "    df['pickup_longitude']=df['pickup_longitude'].apply(fix_longitude)\n",
    "    df['dropoff_longitude']=df['dropoff_longitude'].apply(fix_longitude)\n",
    "    df['pickup_latitude']=df['pickup_latitude'].apply(fix_latitude)\n",
    "    df['dropoff_latitude']=df['dropoff_latitude'].apply(fix_latitude)\n",
    "    df.dropna(inplace = True)"
   ]
  },
  {
   "cell_type": "code",
   "execution_count": null,
   "metadata": {},
   "outputs": [],
   "source": [
    "def create_csv(csv_link):\n",
    "   \n",
    "    # make sure the output title is consistent \n",
    "    title = \"\"\n",
    "    m = re.search(r'(yellow.+)', csv_link)\n",
    "    if m:\n",
    "        title = m.group(1)\n",
    "   \n",
    "    #read the data into a dataframe\n",
    "    df = pd.read_csv(csv_link,on_bad_lines='skip')\n",
    "    df = df.rename(columns = lambda x: x.strip())\n",
    "   \n",
    "    #drop and rename column\n",
    "    to_drop = [\n",
    "        \"Unnamed: 0\",\n",
    "        \"vendor_name\",\n",
    "        \"vendor_id\",\n",
    "        \"Vendor_id\",\n",
    "        'VendorID',\n",
    "        \"Trip_distance\",\n",
    "        \"Trip_Distance\",\n",
    "        \"trip_distance\",\n",
    "        \"Rate_Code\",\n",
    "        \"store_and_forward\",\n",
    "        \"store_and_fwd_flag\",\n",
    "        \"Payment_Type\",\n",
    "        \"Fare_Amt\",\n",
    "        \"surcharge\",\n",
    "        \"mta_tax\",\n",
    "        \"Tolls_Amt\",\n",
    "        \"rate_code\",\n",
    "        \"RatecodeID\",\n",
    "        \"RateCodeID\",\n",
    "        \"payment_type\",\n",
    "        \"fare_amount\",\n",
    "        \"extra\",\n",
    "        \"tolls_amount\",\n",
    "        \"improvement_surcharge\",\n",
    "        \"Passenger_Count\",\n",
    "        \"passenger_count\"\n",
    "    ]\n",
    "    \n",
    "    mapper = {\n",
    "        \"Trip_Pickup_DateTime\" : \"pickup_time\",\n",
    "        \"tpep_pickup_datetime\" : \"pickup_time\",\n",
    "        \"pickup_datetime\": \"pickup_time\",\n",
    "        \"dropoff_datetime\" : \"dropoff_time\",\n",
    "        \"Trip_Dropoff_DateTime\" : \"dropoff_time\",\n",
    "        \"tpep_dropoff_datetime\" : \"dropoff_time\",\n",
    "        \"Start_Lon\" : \"pickup_longitude\",\n",
    "        \"Start_Lat\" : \"pickup_latitude\",\n",
    "        \"End_Lon\" : \"dropoff_longitude\",\n",
    "        \"End_Lat\" : \"dropoff_latitude\",\n",
    "        \"Tip_Amt\" : 'tip',\n",
    "        \"tip_amount\" : \"tip\",\n",
    "        \"Total_Amt\" : \"charge\",\n",
    "        \"total_amount\" : \"charge\"\n",
    "    }\n",
    "    df = df.drop(to_drop, axis = 1,errors = \"ignore\")\n",
    "    df = df.rename(mapper, axis = 1)\n",
    "    df.dropna(inplace = True)\n",
    "    \n",
    "    #modify datatype\n",
    "    df = df.astype({\"pickup_time\":np.datetime64,\"dropoff_time\": np.datetime64})\n",
    "    \n",
    "    \n",
    "    #make sure the trip is within(40.560445, -74.242330) and (40.908524, -73.717047)\n",
    "    fix_df(df)\n",
    "    \n",
    "    #sample 3000 rows\n",
    "    df = df.sample(n=3000)\n",
    "    \n",
    "    #add distance\n",
    "    add_distance(df)\n",
    "    df.reset_index(inplace = True, drop = True)\n",
    "    \n",
    "    df.to_csv(title,index= False)"
   ]
  },
  {
   "cell_type": "markdown",
   "metadata": {},
   "source": [
    "run this to download all the yellow taxi sample data"
   ]
  },
  {
   "cell_type": "code",
   "execution_count": null,
   "metadata": {},
   "outputs": [],
   "source": [
    "from tqdm import tqdm\n",
    "links = get_csv_links()\n",
    "for i in tqdm(range(len(links))):\n",
    "    create_csv(links[i])\n"
   ]
  },
  {
   "cell_type": "markdown",
   "metadata": {},
   "source": [
    "# Storing Data"
   ]
  },
  {
   "cell_type": "markdown",
   "metadata": {},
   "source": [
    "We first read all csv files into 4 dataframe"
   ]
  },
  {
   "cell_type": "code",
   "execution_count": 4,
   "metadata": {},
   "outputs": [],
   "source": [
    "def createuber():\n",
    "    #this function reads in uber.csv and returns the data in pd.DataFrame format\n",
    "    uber = pd.read_csv('uber.csv')\n",
    "    uber.pickup_time = pd.to_datetime(uber.pickup_time)\n",
    "    uber = uber[uber.distance != 0]\n",
    "    return uber"
   ]
  },
  {
   "cell_type": "code",
   "execution_count": 5,
   "metadata": {},
   "outputs": [],
   "source": [
    "def createtaxi():\n",
    "    #this function reads in yellow_trip_{year}-{month}.csv and returns the data in pd.DataFrame format\n",
    "    filenames = []\n",
    "    for i in range(2009,2016):\n",
    "        for j in range(1,13):\n",
    "            if j <10:\n",
    "                filename = f'yellow_tripdata_{i}-0{j}.csv'\n",
    "                filenames.append(filename)\n",
    "            else:\n",
    "                filename = f'yellow_tripdata_{i}-{j}.csv'\n",
    "                filenames.append(filename)\n",
    "    taxi = pd.read_csv('yellow_tripdata_2009-01.csv',usecols = ['pickup_time','dropoff_time','pickup_longitude','pickup_latitude','dropoff_longitude','dropoff_latitude','charge','tip','distance'],nrows = 2314)\n",
    "    for i in range(1,len(filenames)):\n",
    "        df = pd.read_csv(filenames[i],usecols = ['pickup_time','dropoff_time','pickup_longitude','pickup_latitude','dropoff_longitude','dropoff_latitude','charge','tip','distance'], nrows = 2314)\n",
    "        taxi = pd.concat([taxi,df])\n",
    "    taxi.reset_index(inplace = True, drop = True)\n",
    "    taxi.pickup_time = pd.to_datetime(taxi.pickup_time)\n",
    "    taxi.dropoff_time = pd.to_datetime(taxi.dropoff_time)\n",
    "    return taxi"
   ]
  },
  {
   "cell_type": "code",
   "execution_count": 6,
   "metadata": {},
   "outputs": [],
   "source": [
    "def createhourlyweather():\n",
    "    #this function reads in {year}_weather_hours.csv and returns the data in pd.DataFrame format\n",
    "    filenames = []\n",
    "    for i in range(2009,2016):\n",
    "        filenames.append(f'{i}_weather_hours.csv')\n",
    "    weather_hourly = pd.read_csv('2009_weather_hours.csv')\n",
    "    for i in range(1,len(filenames)):\n",
    "        df = pd.read_csv(filenames[i])\n",
    "        weather_hourly = pd.concat([weather_hourly,df])\n",
    "    weather_hourly.reset_index(inplace = True, drop = True)\n",
    "    weather_hourly.DATE = pd.to_datetime(weather_hourly.DATE)\n",
    "    weather_hourly['DATE'] = weather_hourly['DATE'].dt.floor('H')\n",
    "    weather_hourly = weather_hourly.drop_duplicates('DATE',keep = 'first')\n",
    "    mapper = {'DATE': 'date', \"HourlyPrecipitation\":'precipitation','HourlyWindSpeed':'windspeed'}\n",
    "    weather_hourly = weather_hourly.rename(mapper,axis = 1)\n",
    "    return weather_hourly\n",
    "    "
   ]
  },
  {
   "cell_type": "code",
   "execution_count": 7,
   "metadata": {},
   "outputs": [],
   "source": [
    "def createdailyweather():\n",
    "    #this function reads in {year}_weather_days.csv and returns the data in pd.DataFrame format\n",
    "    filenames = []\n",
    "    for i in range(2009,2016):\n",
    "        filenames.append(f'{i}_weather_days.csv')\n",
    "    weather_daily = pd.read_csv('2009_weather_days.csv')\n",
    "    for i in range(1,len(filenames)):\n",
    "        df = pd.read_csv(filenames[i])\n",
    "        weather_daily = pd.concat([weather_daily,df])\n",
    "    weather_daily.reset_index(inplace = True, drop = True)\n",
    "    weather_daily.DATE = pd.to_datetime(weather_daily.DATE)\n",
    "    mapper = {'DATE': 'date', \"DailyPrecipitation\":'precipitation','DailyWindSpeed':'windspeed'}\n",
    "    weather_daily = weather_daily.rename(mapper,axis = 1)\n",
    "    return weather_daily"
   ]
  },
  {
   "cell_type": "code",
   "execution_count": 8,
   "metadata": {},
   "outputs": [],
   "source": [
    "uber = createuber()\n",
    "taxi = createtaxi()\n",
    "weather_hourly= createhourlyweather()\n",
    "weather_daily = createdailyweather()\n"
   ]
  },
  {
   "cell_type": "markdown",
   "metadata": {},
   "source": [
    "Now we try to build database and four tables"
   ]
  },
  {
   "cell_type": "code",
   "execution_count": 9,
   "metadata": {},
   "outputs": [
    {
     "name": "stdout",
     "output_type": "stream",
     "text": [
      "[sqlalchemy] BEGIN (implicit)\n",
      "[sqlalchemy] COMMIT\n"
     ]
    }
   ],
   "source": [
    "#build database\n",
    "engine = create_engine(f\"sqlite:///ubertaxi.db\", echo=True)\n",
    "sqllogger = logging.getLogger(\"sqlalchemy.engine.Engine\")\n",
    "formatter = logging.Formatter(\"[sqlalchemy] %(message)s\")\n",
    "sqllogger.handlers[0].setFormatter(formatter)\n",
    "Base = declarative_base()\n",
    "Base.metadata.create_all(engine, checkfirst=True)\n",
    "# sessionmaker returns a Session class\n",
    "Session = sessionmaker(bind=engine)\n",
    "# and we create an instance of Session\n",
    "session = Session()"
   ]
  },
  {
   "cell_type": "code",
   "execution_count": 10,
   "metadata": {},
   "outputs": [],
   "source": [
    "def readsqlfile(filename):\n",
    "    #I am gonna be honest, I found this on stack overflow. Basically it allows the sqlalchemy to execute multiple queries \n",
    "    #in one file. \n",
    "    sql_file = open('schema.sql','r')\n",
    "\n",
    "    # Create an empty command string\n",
    "    sql_command = ''\n",
    "    for line in sql_file:\n",
    "        # Ignore commented lines\n",
    "        if not line.startswith('--') and line.strip('\\n'):\n",
    "            # Append line to the command string\n",
    "            sql_command += line.strip('\\n')\n",
    "            # If the command string ends with ';', it is a full statement\n",
    "            if sql_command.endswith(';'):\n",
    "                # Try to execute statement and commit it\n",
    "                try:\n",
    "                    session.execute(text(sql_command))\n",
    "                    session.commit()\n",
    "                # Assert in case of error\n",
    "                except:\n",
    "                    print('Ops')\n",
    "                # Finally, clear command string\n",
    "                finally:\n",
    "                    sql_command = ''"
   ]
  },
  {
   "cell_type": "markdown",
   "metadata": {},
   "source": [
    "Read schema file"
   ]
  },
  {
   "cell_type": "code",
   "execution_count": 11,
   "metadata": {},
   "outputs": [
    {
     "name": "stdout",
     "output_type": "stream",
     "text": [
      "[sqlalchemy] BEGIN (implicit)\n",
      "[sqlalchemy] CREATE TABLE weather_daily(date Datetime,precipitation FLOAT,windspeed FLOAT);\n",
      "[sqlalchemy] [generated in 0.00296s] ()\n",
      "Ops\n",
      "[sqlalchemy] CREATE TABLE weather_hourly(date Datetime,precipitation FLOAT,windspeed FLOAT);\n",
      "[sqlalchemy] [generated in 0.00188s] ()\n",
      "Ops\n",
      "[sqlalchemy] CREATE TABLE yellow_taxi(pickup_time DATETIME,dropoff_time DATETIME,pickup_longitude FLOAT,pickup_latitude FLOAT,dropoff_longitude FLOAT,dropoff_latitude FLOAT,tip FLOAT,charge FLOAT,distance FLOAT);\n",
      "[sqlalchemy] [generated in 0.00154s] ()\n",
      "Ops\n",
      "[sqlalchemy] CREATE TABLE Uber(charge FLOAT,pickup_time DATETIME,pickup_longitude FLOAT,dropoff_longitude FLOAT,pickup_latitude FLOAT,dropoff_latitude FLOAT,distance FLOAT);\n",
      "[sqlalchemy] [generated in 0.00173s] ()\n",
      "Ops\n"
     ]
    }
   ],
   "source": [
    "readsqlfile('schema.sql')"
   ]
  },
  {
   "cell_type": "code",
   "execution_count": 12,
   "metadata": {},
   "outputs": [
    {
     "name": "stdout",
     "output_type": "stream",
     "text": [
      "[sqlalchemy] PRAGMA main.table_info(\"Uber\")\n",
      "[sqlalchemy] [raw sql] ()\n",
      "[sqlalchemy] PRAGMA temp.table_info(\"Uber\")\n",
      "[sqlalchemy] [raw sql] ()\n",
      "[sqlalchemy] BEGIN (implicit)\n",
      "[sqlalchemy] \n",
      "CREATE TABLE \"Uber\" (\n",
      "\tcharge FLOAT, \n",
      "\tpickup_time DATETIME, \n",
      "\tpickup_longitude FLOAT, \n",
      "\tpickup_latitude FLOAT, \n",
      "\tdropoff_longitude FLOAT, \n",
      "\tdropoff_latitude FLOAT, \n",
      "\tdistance FLOAT\n",
      ")\n",
      "\n",
      "\n",
      "[sqlalchemy] [no key 0.00068s] ()\n",
      "[sqlalchemy] COMMIT\n",
      "[sqlalchemy] BEGIN (implicit)\n",
      "[sqlalchemy] INSERT INTO \"Uber\" (charge, pickup_time, pickup_longitude, pickup_latitude, dropoff_longitude, dropoff_latitude, distance) VALUES (?, ?, ?, ?, ?, ?, ?)\n",
      "[sqlalchemy] [generated in 1.76549s] ((7.5, '2015-05-07 19:52:06.000000', -73.99981689453125, 40.73835372924805, -73.99951171875, 40.72321701049805, 1.6838511852242786), (7.7, '2009-07-17 20:04:56.000000', -73.994355, 40.728225, -73.99471, 40.750325, 2.458361376443877), (12.9, '2009-08-24 21:45:00.000000', -74.005043, 40.74077, -73.962565, 40.772647, 5.0379582221658445), (5.3, '2009-06-26 08:22:21.000000', -73.976124, 40.790844, -73.965316, 40.803349, 1.6622050981962735), (16.0, '2014-08-28 17:47:00.000000', -73.925023, 40.744085, -73.97308199999999, 40.761247, 4.4768549072953325), (24.5, '2014-10-12 07:04:00.000000', -73.96144699999999, 40.693965000000006, -73.871195, 40.774297, 11.734697512602486), (9.7, '2012-02-17 09:32:00.000000', -73.975187, 40.745767, -74.00272, 40.743537, 2.333443299721285), (12.5, '2012-03-29 19:06:00.000000', -74.001065, 40.741787, -73.96304, 40.775012, 4.890951785888044)  ... displaying 10 of 194367 total bound parameter sets ...  (14.5, '2015-05-20 14:56:25.000000', -73.99712371826173, 40.7254524230957, -73.98321533203125, 40.69541549682617, 3.5408266479309387), (14.1, '2010-05-15 04:08:00.000000', -73.98439499999999, 40.720077, -73.985508, 40.768793, 5.419484244981255))\n",
      "[sqlalchemy] COMMIT\n",
      "[sqlalchemy] SELECT name FROM sqlite_master WHERE type='table' ORDER BY name\n",
      "[sqlalchemy] [raw sql] ()\n",
      "[sqlalchemy] PRAGMA main.table_info(\"yellow_taxi\")\n",
      "[sqlalchemy] [raw sql] ()\n",
      "[sqlalchemy] PRAGMA temp.table_info(\"yellow_taxi\")\n",
      "[sqlalchemy] [raw sql] ()\n",
      "[sqlalchemy] BEGIN (implicit)\n",
      "[sqlalchemy] \n",
      "CREATE TABLE yellow_taxi (\n",
      "\tpickup_time DATETIME, \n",
      "\tdropoff_time DATETIME, \n",
      "\tpickup_longitude FLOAT, \n",
      "\tpickup_latitude FLOAT, \n",
      "\tdropoff_longitude FLOAT, \n",
      "\tdropoff_latitude FLOAT, \n",
      "\ttip FLOAT, \n",
      "\tcharge FLOAT, \n",
      "\tdistance FLOAT\n",
      ")\n",
      "\n",
      "\n",
      "[sqlalchemy] [no key 0.00061s] ()\n",
      "[sqlalchemy] COMMIT\n",
      "[sqlalchemy] BEGIN (implicit)\n",
      "[sqlalchemy] INSERT INTO yellow_taxi (pickup_time, dropoff_time, pickup_longitude, pickup_latitude, dropoff_longitude, dropoff_latitude, tip, charge, distance) VALUES (?, ?, ?, ?, ?, ?, ?, ?, ?)\n",
      "[sqlalchemy] [generated in 2.44100s] (('2009-01-10 22:00:53.000000', '2009-01-10 22:12:59.000000', -73.985455, 40.735604, -73.980652, 40.763299, 0.5999999999999999, 10.0, 3.106983034371679), ('2009-01-20 17:50:03.000000', '2009-01-20 18:11:48.000000', -73.946053, 40.775474, -73.982416, 40.764801, 0.0, 13.5, 3.285159434004516), ('2009-01-05 11:27:15.000000', '2009-01-05 11:40:23.000000', -73.96777199999998, 40.786988, -73.95498, 40.76623, 0.0, 9.3, 2.547941290711391), ('2009-01-03 12:01:37.000000', '2009-01-03 12:05:31.000000', -73.979783, 40.7572, -73.973967, 40.766057, 0.0, 4.5, 1.1002900803175624), ('2009-01-18 01:01:06.000000', '2009-01-18 01:06:11.000000', -73.973095, 40.744304, -73.95614899999998, 40.771973, 0.0, 7.4, 3.3926733836607244), ('2009-01-06 00:07:16.000000', '2009-01-06 00:23:58.000000', -73.874791, 40.774081, -73.953866, 40.818769, 0.0, 23.15, 8.30920976716833), ('2009-01-17 14:38:00.000000', '2009-01-17 14:51:00.000000', -74.003163, 40.731217, -74.01419199999998, 40.717087, 0.0, 8.5, 1.8260682409046776), ('2009-01-18 02:22:00.000000', '2009-01-18 02:26:00.000000', -74.000253, 40.737798, -74.000253, 40.737798, 0.0, 4.6, 0.0)  ... displaying 10 of 194376 total bound parameter sets ...  ('2015-12-16 16:54:54.000000', '2015-12-16 16:57:34.000000', -73.94960021972656, 40.77705001831056, -73.95596313476561, 40.77965927124024, 0.4, 6.2, 0.609473353061974), ('2015-12-23 22:34:02.000000', '2015-12-23 22:39:05.000000', -73.97403717041014, 40.762657165527344, -73.97759246826173, 40.7539176940918, 0.0, 6.3, 1.0171953963618967))\n",
      "[sqlalchemy] COMMIT\n",
      "[sqlalchemy] PRAGMA main.table_info(\"weather_hourly\")\n",
      "[sqlalchemy] [raw sql] ()\n",
      "[sqlalchemy] PRAGMA temp.table_info(\"weather_hourly\")\n",
      "[sqlalchemy] [raw sql] ()\n",
      "[sqlalchemy] BEGIN (implicit)\n",
      "[sqlalchemy] \n",
      "CREATE TABLE weather_hourly (\n",
      "\tdate DATETIME, \n",
      "\tprecipitation FLOAT, \n",
      "\twindspeed FLOAT\n",
      ")\n",
      "\n",
      "\n",
      "[sqlalchemy] [no key 0.00052s] ()\n",
      "[sqlalchemy] COMMIT\n",
      "[sqlalchemy] BEGIN (implicit)\n",
      "[sqlalchemy] INSERT INTO weather_hourly (date, precipitation, windspeed) VALUES (?, ?, ?)\n",
      "[sqlalchemy] [generated in 0.34296s] (('2009-01-01 00:00:00.000000', 0.0, 18.0), ('2009-01-01 01:00:00.000000', 0.0, 18.0), ('2009-01-01 02:00:00.000000', 0.0, 18.0), ('2009-01-01 03:00:00.000000', 0.0, 8.0), ('2009-01-01 04:00:00.000000', 0.0, 11.0), ('2009-01-01 05:00:00.000000', 0.0, 18.0), ('2009-01-01 06:00:00.000000', 0.0, 14.0), ('2009-01-01 07:00:00.000000', 0.0, 8.0)  ... displaying 10 of 60458 total bound parameter sets ...  ('2015-12-31 22:00:00.000000', 0.0, 7.0), ('2015-12-31 23:00:00.000000', 0.0, 5.0))\n",
      "[sqlalchemy] COMMIT\n",
      "[sqlalchemy] PRAGMA main.table_info(\"weather_daily\")\n",
      "[sqlalchemy] [raw sql] ()\n",
      "[sqlalchemy] PRAGMA temp.table_info(\"weather_daily\")\n",
      "[sqlalchemy] [raw sql] ()\n",
      "[sqlalchemy] BEGIN (implicit)\n",
      "[sqlalchemy] \n",
      "CREATE TABLE weather_daily (\n",
      "\tdate DATETIME, \n",
      "\tprecipitation FLOAT, \n",
      "\twindspeed FLOAT\n",
      ")\n",
      "\n",
      "\n",
      "[sqlalchemy] [no key 0.00090s] ()\n",
      "[sqlalchemy] COMMIT\n",
      "[sqlalchemy] BEGIN (implicit)\n",
      "[sqlalchemy] INSERT INTO weather_daily (date, precipitation, windspeed) VALUES (?, ?, ?)\n",
      "[sqlalchemy] [generated in 0.01494s] (('2009-01-01 00:00:00.000000', 0.0, 11.041666666666666), ('2009-01-02 00:00:00.000000', 0.0, 6.59375), ('2009-01-03 00:00:00.000000', 0.0, 9.875), ('2009-01-04 00:00:00.000000', 0.0, 7.37037037037037), ('2009-01-05 00:00:00.000000', 0.0, 6.925925925925926), ('2009-01-06 00:00:00.000000', 0.004, 6.9), ('2009-01-07 00:00:00.000000', 0.0466666666666666, 9.58974358974359), ('2009-01-08 00:00:00.000000', 0.0, 11.192307692307692)  ... displaying 10 of 2556 total bound parameter sets ...  ('2015-12-30 00:00:00.000000', 0.0074358974358974, 4.076923076923077), ('2015-12-31 00:00:00.000000', 0.0022857142857142, 4.2))\n",
      "[sqlalchemy] COMMIT\n"
     ]
    }
   ],
   "source": [
    "#add four dataframes into sql tables\n",
    "#DONT EXECUTE TWINCE!!!!!\n",
    "'''\n",
    "uber.to_sql('Uber', engine, if_exists='append',index = False)\n",
    "taxi.to_sql('yellow_taxi', engine, if_exists='append',index = False)\n",
    "weather_hourly.to_sql('weather_hourly', engine, if_exists='append',index = False)\n",
    "weather_daily.to_sql('weather_daily', engine, if_exists='append',index = False)"
   ]
  },
  {
   "cell_type": "markdown",
   "metadata": {},
   "source": [
    "# Understanding Data"
   ]
  },
  {
   "cell_type": "markdown",
   "metadata": {},
   "source": [
    "Simply for test"
   ]
  },
  {
   "cell_type": "code",
   "execution_count": 12,
   "metadata": {},
   "outputs": [
    {
     "name": "stdout",
     "output_type": "stream",
     "text": [
      "[sqlalchemy] SELECT COUNT(*) FROM yellow_taxi\n",
      "[sqlalchemy] [raw sql] ()\n"
     ]
    },
    {
     "data": {
      "text/plain": [
       "[(194376,)]"
      ]
     },
     "execution_count": 12,
     "metadata": {},
     "output_type": "execute_result"
    }
   ],
   "source": [
    "engine.execute(\"SELECT COUNT(*) FROM yellow_taxi\").fetchall()"
   ]
  },
  {
   "cell_type": "code",
   "execution_count": 13,
   "metadata": {},
   "outputs": [],
   "source": [
    "#specifically for the file that only contains one command\n",
    "def readsql(filename):\n",
    "    with engine.connect() as con:\n",
    "        with open(filename) as file:\n",
    "            query = text(file.read())\n",
    "            return engine.execute(query).fetchall()"
   ]
  },
  {
   "cell_type": "markdown",
   "metadata": {},
   "source": [
    "### Question 1"
   ]
  },
  {
   "cell_type": "markdown",
   "metadata": {},
   "source": [
    "For 01-2009 through 06-2015, what hour of the day was the most popular to take a Yellow Taxi? The result should have 24 bins."
   ]
  },
  {
   "cell_type": "code",
   "execution_count": 14,
   "metadata": {},
   "outputs": [
    {
     "name": "stdout",
     "output_type": "stream",
     "text": [
      "[sqlalchemy] SELECT \n",
      "strftime ('%H',pickup_time) as most_popular_hour,\n",
      "Count(*) as times\n",
      "FROM\n",
      "yellow_taxi\n",
      "WHERE\n",
      "pickup_time between '2009-01-01' AND '2015-06-30'\n",
      "GROUP BY strftime ('%H',pickup_time) \n",
      "ORDER BY times DESC\n",
      "LIMIT 1;\n",
      "[sqlalchemy] [generated in 0.00171s] ()\n"
     ]
    },
    {
     "data": {
      "text/plain": [
       "[('19', 11260)]"
      ]
     },
     "execution_count": 14,
     "metadata": {},
     "output_type": "execute_result"
    }
   ],
   "source": [
    "readsql('most_popular_hour.sql')"
   ]
  },
  {
   "cell_type": "markdown",
   "metadata": {},
   "source": [
    "### Question 2"
   ]
  },
  {
   "cell_type": "markdown",
   "metadata": {},
   "source": [
    "For the same time frame, what day of the week was the most popular to take an Uber? The result should have 7 bins."
   ]
  },
  {
   "cell_type": "code",
   "execution_count": 15,
   "metadata": {},
   "outputs": [
    {
     "name": "stdout",
     "output_type": "stream",
     "text": [
      "[sqlalchemy] SELECT \n",
      "strftime ('%w',pickup_time) as most_popular_day,\n",
      "Count(*) as times\n",
      "FROM\n",
      "Uber\n",
      "WHERE\n",
      "pickup_time between '2009-01-01' AND '2015-06-30'\n",
      "GROUP BY strftime ('%w',pickup_time) \n",
      "ORDER BY times DESC\n",
      "LIMIT 1;\n",
      "[sqlalchemy] [generated in 0.00133s] ()\n"
     ]
    },
    {
     "data": {
      "text/plain": [
       "[('5', 29996)]"
      ]
     },
     "execution_count": 15,
     "metadata": {},
     "output_type": "execute_result"
    }
   ],
   "source": [
    "readsql('most_popular_day.sql')\n",
    "#So it is Friday! "
   ]
  },
  {
   "cell_type": "markdown",
   "metadata": {},
   "source": [
    "### Question 3"
   ]
  },
  {
   "cell_type": "code",
   "execution_count": 149,
   "metadata": {},
   "outputs": [],
   "source": [
    "from datetime import datetime\n",
    "temp1 = pd.concat([uber.loc[:,['pickup_time','distance']],\n",
    "          taxi.loc[:,['pickup_time','distance']]],axis=0)\n",
    "temp = temp1.loc[(temp1['pickup_time']<='2013-07-31')&(temp1['pickup_time']>='2013-07-01')]"
   ]
  },
  {
   "cell_type": "code",
   "execution_count": 150,
   "metadata": {
    "scrolled": true
   },
   "outputs": [
    {
     "data": {
      "text/plain": [
       "10.511437894197023"
      ]
     },
     "execution_count": 150,
     "metadata": {},
     "output_type": "execute_result"
    }
   ],
   "source": [
    "np.percentile(temp.distance,95)"
   ]
  },
  {
   "cell_type": "code",
   "execution_count": null,
   "metadata": {},
   "outputs": [],
   "source": [
    "## why sql output does not equal to python output"
   ]
  },
  {
   "cell_type": "markdown",
   "metadata": {},
   "source": [
    "What is the 95% percentile of distance traveled for all hired trips during July 2013?\n"
   ]
  },
  {
   "cell_type": "code",
   "execution_count": 87,
   "metadata": {
    "scrolled": true
   },
   "outputs": [
    {
     "name": "stdout",
     "output_type": "stream",
     "text": [
      "[sqlalchemy] select \n",
      "t_1.distance as '95percentile'\n",
      "\n",
      "from \n",
      "\n",
      "(\n",
      "select \n",
      "distance\n",
      "\n",
      "from \n",
      "yellow_taxi\n",
      "\n",
      "where \n",
      "pickup_time between '2013-07-01' and '2013-07-31'\n",
      "\n",
      "union \n",
      "\n",
      "select \n",
      "distance\n",
      "\n",
      "from \n",
      "Uber\n",
      "\n",
      "where \n",
      "pickup_time between '2013-07-01' and '2013-07-31'\n",
      "\n",
      ")t_1\n",
      "\n",
      "order by t_1.distance asc\n",
      "\n",
      "limit 1\n",
      "\n",
      "offset \n",
      "\n",
      "(select\n",
      "\n",
      "count(*)\n",
      "\n",
      "from \n",
      "\n",
      "(select \n",
      "distance\n",
      "\n",
      "from \n",
      "yellow_taxi\n",
      "\n",
      "where \n",
      "pickup_time between '2013-07-01' and '2013-07-31'\n",
      "\n",
      "union \n",
      "\n",
      "select \n",
      "distance\n",
      "\n",
      "from \n",
      "Uber\n",
      "\n",
      "where \n",
      "pickup_time between '2013-07-01' and '2013-07-31'\n",
      "\n",
      ")\n",
      "\n",
      ") * 95 / 100 -1\n",
      "\n",
      "\n",
      "\n",
      "\n",
      "\n",
      "\n",
      "\n",
      "\n",
      "\n",
      "[sqlalchemy] [generated in 0.00201s] ()\n"
     ]
    },
    {
     "data": {
      "text/plain": [
       "[(10.51429989869938,)]"
      ]
     },
     "execution_count": 87,
     "metadata": {},
     "output_type": "execute_result"
    }
   ],
   "source": [
    "readsql('95distance.sql')"
   ]
  },
  {
   "cell_type": "markdown",
   "metadata": {},
   "source": [
    "### Question 4"
   ]
  },
  {
   "cell_type": "markdown",
   "metadata": {},
   "source": [
    "What were the top 10 days with the highest number of hired rides for 2009, and what was the average distance for each day?\n"
   ]
  },
  {
   "cell_type": "code",
   "execution_count": 184,
   "metadata": {
    "scrolled": true
   },
   "outputs": [
    {
     "name": "stdout",
     "output_type": "stream",
     "text": [
      "[sqlalchemy] \n",
      "select \n",
      "t_1.date as date,\n",
      "t_1.sum_distance/t_1.total_trips as avg_distance\n",
      "\n",
      "from \n",
      "\n",
      "(select \n",
      "\n",
      "t_0.date as date,\n",
      "sum(t_0.total_trips) as total_trips,\n",
      "sum(t_0.sum_distance) as sum_distance\n",
      "\n",
      "from \n",
      "\n",
      "(select \n",
      "strftime ('%Y-%m-%d',pickup_time) as date,\n",
      "count(*) as total_trips,\n",
      "sum(distance) as sum_distance\n",
      "\n",
      "from \n",
      "yellow_taxi\n",
      "\n",
      "where \n",
      "pickup_time between '2009-01-01' and '2009-12-31'\n",
      "\n",
      "group by \n",
      "strftime ('%Y-%m-%d',pickup_time)\n",
      "\n",
      "union \n",
      "\n",
      "select \n",
      "strftime ('%Y-%m-%d',pickup_time) as date,\n",
      "count(*) as total_trips,\n",
      "sum(distance) as sum_distance\n",
      "\n",
      "from \n",
      "Uber\n",
      "\n",
      "where \n",
      "pickup_time between '2009-01-01' and '2009-12-31'\n",
      "\n",
      "group by \n",
      "strftime ('%Y-%m-%d',pickup_time)\n",
      "\n",
      ")t_0\n",
      "\n",
      "group by \n",
      "t_0.date \n",
      "\n",
      ")t_1\n",
      "\n",
      "group by \n",
      "t_1.date\n",
      "\n",
      "order by \n",
      "sum(t_1.total_trips) desc\n",
      "\n",
      "limit 10\n",
      "\n",
      "[sqlalchemy] [generated in 0.00685s] ()\n"
     ]
    },
    {
     "data": {
      "text/plain": [
       "[('2009-02-20', 3.263599853629076),\n",
       " ('2009-01-31', 3.1723376976203603),\n",
       " ('2009-10-23', 3.0628925035762635),\n",
       " ('2009-12-11', 2.91146117591069),\n",
       " ('2009-04-04', 2.776783009971279),\n",
       " ('2009-04-18', 3.162042435346948),\n",
       " ('2009-08-14', 3.3734259374996878),\n",
       " ('2009-04-16', 3.1843847137729346),\n",
       " ('2009-09-10', 3.047313220759373),\n",
       " ('2009-12-05', 3.029545346863909)]"
      ]
     },
     "execution_count": 184,
     "metadata": {},
     "output_type": "execute_result"
    }
   ],
   "source": [
    "readsql('top10days.sql')"
   ]
  },
  {
   "cell_type": "markdown",
   "metadata": {},
   "source": [
    "### Question 5"
   ]
  },
  {
   "cell_type": "markdown",
   "metadata": {},
   "source": [
    "Which 10 days in 2014 were the windiest on average, and how many hired trips were made on those days?"
   ]
  },
  {
   "cell_type": "code",
   "execution_count": 59,
   "metadata": {
    "scrolled": true
   },
   "outputs": [
    {
     "name": "stdout",
     "output_type": "stream",
     "text": [
      "[sqlalchemy] \n",
      "select \n",
      "t_1.date as date,\n",
      "sum(t_2.total_trips) as total_trips\n",
      "\n",
      "from \n",
      "\n",
      "(select \n",
      "strftime ('%Y-%m-%d',date) as date,\n",
      "windspeed\n",
      "\n",
      "from \n",
      "weather_daily\n",
      "\n",
      "where \n",
      "date between '2014-01-01' and '2014-12-31'\n",
      ")t_1\n",
      "\n",
      "left join \n",
      "\n",
      "(select \n",
      "strftime ('%Y-%m-%d',pickup_time) as date,\n",
      "count(*) as total_trips\n",
      "\n",
      "from \n",
      "yellow_taxi\n",
      "\n",
      "where \n",
      "pickup_time between '2014-01-01' and '2014-12-31'\n",
      "\n",
      "group by \n",
      "strftime ('%Y-%m-%d',pickup_time)\n",
      "\n",
      "union \n",
      "\n",
      "select \n",
      "strftime ('%Y-%m-%d',pickup_time) as date,\n",
      "count(*) as total_trips\n",
      "\n",
      "from \n",
      "Uber\n",
      "\n",
      "where \n",
      "pickup_time between '2014-01-01' and '2014-12-31'\n",
      "\n",
      "group by \n",
      "strftime ('%Y-%m-%d',pickup_time)\n",
      ")t_2\n",
      "\n",
      "on \n",
      "t_1.date = t_2.date\n",
      "\n",
      "group by \n",
      "t_1.date\n",
      "\n",
      "order by \n",
      "t_1.windspeed desc \n",
      "\n",
      "limit 10\n",
      "\n",
      "\n",
      "\n",
      "[sqlalchemy] [generated in 0.00154s] ()\n"
     ]
    },
    {
     "data": {
      "text/plain": [
       "[('2014-03-13', 192),\n",
       " ('2014-01-07', 147),\n",
       " ('2014-01-02', 117),\n",
       " ('2014-02-13', 116),\n",
       " ('2014-03-29', 202),\n",
       " ('2014-12-07', 165),\n",
       " ('2014-12-09', 154),\n",
       " ('2014-12-08', 159),\n",
       " ('2014-03-26', 175),\n",
       " ('2014-01-03', 85)]"
      ]
     },
     "execution_count": 59,
     "metadata": {},
     "output_type": "execute_result"
    }
   ],
   "source": [
    "readsql('top10windspeed.sql')"
   ]
  },
  {
   "cell_type": "markdown",
   "metadata": {},
   "source": [
    "## Question 6"
   ]
  },
  {
   "cell_type": "markdown",
   "metadata": {},
   "source": [
    "During Hurricane Sandy in NYC (Oct 29-30, 2012), plus the week leading up and the week after, how many trips were taken each hour, and for each hour, how much precipitation did NYC receive and what was the sustained wind speed? There should be an entry for every single hour, even if no rides were taken, no precipitation was measured, or there was no wind."
   ]
  },
  {
   "cell_type": "code",
   "execution_count": null,
   "metadata": {},
   "outputs": [],
   "source": [
    "# what's the dimension?  [date,hour] or hour\n",
    "# if it is hour, then precipitation should be summed? wind speed should be averaged?"
   ]
  },
  {
   "cell_type": "code",
   "execution_count": 167,
   "metadata": {},
   "outputs": [],
   "source": [
    "temp0 = temp1.groupby(['hour']).agg({'precipitation': 'sum', 'windspeed': 'mean'}).reset_index()"
   ]
  },
  {
   "cell_type": "code",
   "execution_count": 173,
   "metadata": {},
   "outputs": [],
   "source": [
    "temp2 = pd.concat([uber.loc[:,['pickup_time']],\n",
    "          taxi.loc[:,['pickup_time']]],axis=0)"
   ]
  },
  {
   "cell_type": "code",
   "execution_count": 175,
   "metadata": {},
   "outputs": [],
   "source": [
    "temp2 = temp2.loc[(temp2['pickup_time']>='2012-10-22')&(temp2['pickup_time']<='2012-11-06')]"
   ]
  },
  {
   "cell_type": "code",
   "execution_count": 176,
   "metadata": {},
   "outputs": [
    {
     "name": "stderr",
     "output_type": "stream",
     "text": [
      "/Users/yuanshuqing/opt/anaconda3/lib/python3.6/site-packages/ipykernel_launcher.py:1: SettingWithCopyWarning: \n",
      "A value is trying to be set on a copy of a slice from a DataFrame.\n",
      "Try using .loc[row_indexer,col_indexer] = value instead\n",
      "\n",
      "See the caveats in the documentation: https://pandas.pydata.org/pandas-docs/stable/user_guide/indexing.html#returning-a-view-versus-a-copy\n",
      "  \"\"\"Entry point for launching an IPython kernel.\n"
     ]
    }
   ],
   "source": [
    "temp2['hour'] = temp2['pickup_time'].apply(lambda x: x.hour)"
   ]
  },
  {
   "cell_type": "code",
   "execution_count": 181,
   "metadata": {},
   "outputs": [],
   "source": [
    "temp2 = temp2.groupby('hour').count().reset_index().rename(columns={'pickup_time':'count'})"
   ]
  },
  {
   "cell_type": "code",
   "execution_count": 183,
   "metadata": {
    "scrolled": true
   },
   "outputs": [
    {
     "data": {
      "text/html": [
       "<div>\n",
       "<style scoped>\n",
       "    .dataframe tbody tr th:only-of-type {\n",
       "        vertical-align: middle;\n",
       "    }\n",
       "\n",
       "    .dataframe tbody tr th {\n",
       "        vertical-align: top;\n",
       "    }\n",
       "\n",
       "    .dataframe thead th {\n",
       "        text-align: right;\n",
       "    }\n",
       "</style>\n",
       "<table border=\"1\" class=\"dataframe\">\n",
       "  <thead>\n",
       "    <tr style=\"text-align: right;\">\n",
       "      <th></th>\n",
       "      <th>hour</th>\n",
       "      <th>precipitation</th>\n",
       "      <th>windspeed</th>\n",
       "      <th>count</th>\n",
       "    </tr>\n",
       "  </thead>\n",
       "  <tbody>\n",
       "    <tr>\n",
       "      <th>0</th>\n",
       "      <td>0</td>\n",
       "      <td>0.03</td>\n",
       "      <td>5.937500</td>\n",
       "      <td>76</td>\n",
       "    </tr>\n",
       "    <tr>\n",
       "      <th>1</th>\n",
       "      <td>1</td>\n",
       "      <td>0.01</td>\n",
       "      <td>5.333333</td>\n",
       "      <td>58</td>\n",
       "    </tr>\n",
       "    <tr>\n",
       "      <th>2</th>\n",
       "      <td>2</td>\n",
       "      <td>0.03</td>\n",
       "      <td>4.933333</td>\n",
       "      <td>59</td>\n",
       "    </tr>\n",
       "    <tr>\n",
       "      <th>3</th>\n",
       "      <td>3</td>\n",
       "      <td>0.04</td>\n",
       "      <td>6.066667</td>\n",
       "      <td>31</td>\n",
       "    </tr>\n",
       "    <tr>\n",
       "      <th>4</th>\n",
       "      <td>4</td>\n",
       "      <td>0.00</td>\n",
       "      <td>5.800000</td>\n",
       "      <td>31</td>\n",
       "    </tr>\n",
       "    <tr>\n",
       "      <th>5</th>\n",
       "      <td>5</td>\n",
       "      <td>0.01</td>\n",
       "      <td>5.066667</td>\n",
       "      <td>28</td>\n",
       "    </tr>\n",
       "    <tr>\n",
       "      <th>6</th>\n",
       "      <td>6</td>\n",
       "      <td>0.03</td>\n",
       "      <td>6.666667</td>\n",
       "      <td>36</td>\n",
       "    </tr>\n",
       "    <tr>\n",
       "      <th>7</th>\n",
       "      <td>7</td>\n",
       "      <td>0.02</td>\n",
       "      <td>5.000000</td>\n",
       "      <td>71</td>\n",
       "    </tr>\n",
       "    <tr>\n",
       "      <th>8</th>\n",
       "      <td>8</td>\n",
       "      <td>0.01</td>\n",
       "      <td>6.733333</td>\n",
       "      <td>76</td>\n",
       "    </tr>\n",
       "    <tr>\n",
       "      <th>9</th>\n",
       "      <td>9</td>\n",
       "      <td>0.01</td>\n",
       "      <td>6.866667</td>\n",
       "      <td>94</td>\n",
       "    </tr>\n",
       "    <tr>\n",
       "      <th>10</th>\n",
       "      <td>10</td>\n",
       "      <td>0.02</td>\n",
       "      <td>4.666667</td>\n",
       "      <td>82</td>\n",
       "    </tr>\n",
       "    <tr>\n",
       "      <th>11</th>\n",
       "      <td>11</td>\n",
       "      <td>0.00</td>\n",
       "      <td>6.266667</td>\n",
       "      <td>109</td>\n",
       "    </tr>\n",
       "    <tr>\n",
       "      <th>12</th>\n",
       "      <td>12</td>\n",
       "      <td>0.02</td>\n",
       "      <td>7.800000</td>\n",
       "      <td>87</td>\n",
       "    </tr>\n",
       "    <tr>\n",
       "      <th>13</th>\n",
       "      <td>13</td>\n",
       "      <td>0.02</td>\n",
       "      <td>6.800000</td>\n",
       "      <td>107</td>\n",
       "    </tr>\n",
       "    <tr>\n",
       "      <th>14</th>\n",
       "      <td>14</td>\n",
       "      <td>0.03</td>\n",
       "      <td>6.733333</td>\n",
       "      <td>99</td>\n",
       "    </tr>\n",
       "    <tr>\n",
       "      <th>15</th>\n",
       "      <td>15</td>\n",
       "      <td>0.07</td>\n",
       "      <td>6.466667</td>\n",
       "      <td>109</td>\n",
       "    </tr>\n",
       "    <tr>\n",
       "      <th>16</th>\n",
       "      <td>16</td>\n",
       "      <td>0.11</td>\n",
       "      <td>6.600000</td>\n",
       "      <td>75</td>\n",
       "    </tr>\n",
       "    <tr>\n",
       "      <th>17</th>\n",
       "      <td>17</td>\n",
       "      <td>0.04</td>\n",
       "      <td>7.500000</td>\n",
       "      <td>123</td>\n",
       "    </tr>\n",
       "    <tr>\n",
       "      <th>18</th>\n",
       "      <td>18</td>\n",
       "      <td>0.02</td>\n",
       "      <td>6.666667</td>\n",
       "      <td>122</td>\n",
       "    </tr>\n",
       "    <tr>\n",
       "      <th>19</th>\n",
       "      <td>19</td>\n",
       "      <td>0.01</td>\n",
       "      <td>6.800000</td>\n",
       "      <td>126</td>\n",
       "    </tr>\n",
       "    <tr>\n",
       "      <th>20</th>\n",
       "      <td>20</td>\n",
       "      <td>0.02</td>\n",
       "      <td>5.533333</td>\n",
       "      <td>136</td>\n",
       "    </tr>\n",
       "    <tr>\n",
       "      <th>21</th>\n",
       "      <td>21</td>\n",
       "      <td>0.00</td>\n",
       "      <td>6.800000</td>\n",
       "      <td>120</td>\n",
       "    </tr>\n",
       "    <tr>\n",
       "      <th>22</th>\n",
       "      <td>22</td>\n",
       "      <td>0.03</td>\n",
       "      <td>5.533333</td>\n",
       "      <td>119</td>\n",
       "    </tr>\n",
       "    <tr>\n",
       "      <th>23</th>\n",
       "      <td>23</td>\n",
       "      <td>0.03</td>\n",
       "      <td>4.933333</td>\n",
       "      <td>82</td>\n",
       "    </tr>\n",
       "  </tbody>\n",
       "</table>\n",
       "</div>"
      ],
      "text/plain": [
       "    hour  precipitation  windspeed  count\n",
       "0      0           0.03   5.937500     76\n",
       "1      1           0.01   5.333333     58\n",
       "2      2           0.03   4.933333     59\n",
       "3      3           0.04   6.066667     31\n",
       "4      4           0.00   5.800000     31\n",
       "5      5           0.01   5.066667     28\n",
       "6      6           0.03   6.666667     36\n",
       "7      7           0.02   5.000000     71\n",
       "8      8           0.01   6.733333     76\n",
       "9      9           0.01   6.866667     94\n",
       "10    10           0.02   4.666667     82\n",
       "11    11           0.00   6.266667    109\n",
       "12    12           0.02   7.800000     87\n",
       "13    13           0.02   6.800000    107\n",
       "14    14           0.03   6.733333     99\n",
       "15    15           0.07   6.466667    109\n",
       "16    16           0.11   6.600000     75\n",
       "17    17           0.04   7.500000    123\n",
       "18    18           0.02   6.666667    122\n",
       "19    19           0.01   6.800000    126\n",
       "20    20           0.02   5.533333    136\n",
       "21    21           0.00   6.800000    120\n",
       "22    22           0.03   5.533333    119\n",
       "23    23           0.03   4.933333     82"
      ]
     },
     "execution_count": 183,
     "metadata": {},
     "output_type": "execute_result"
    }
   ],
   "source": [
    "temp0.merge(temp2,on = ['hour'])"
   ]
  },
  {
   "cell_type": "code",
   "execution_count": 65,
   "metadata": {
    "scrolled": true
   },
   "outputs": [
    {
     "name": "stdout",
     "output_type": "stream",
     "text": [
      "[sqlalchemy] \n",
      "select \n",
      "t_1.hour as hour,\n",
      "t_1.sum_precipitation as sum_precipitation,\n",
      "t_1.avg_windspeed as avg_windspeed,\n",
      "sum(t_2.total_trips) as total_trips\n",
      "\n",
      "from \n",
      "\n",
      "(select \n",
      "strftime ('%H',date) as hour,\n",
      "sum(precipitation) as sum_precipitation,\n",
      "avg(windspeed) as avg_windspeed\n",
      "\n",
      "from\n",
      "weather_hourly \n",
      "\n",
      "where \n",
      "date between '2012-10-22' and '2012-11-06'\n",
      "\n",
      "group by \n",
      "strftime ('%H',date) \n",
      ")t_1\n",
      "\n",
      "left join \n",
      "\n",
      "(select \n",
      "strftime ('%H',pickup_time) as hour,\n",
      "count(*) as total_trips\n",
      "\n",
      "from \n",
      "yellow_taxi\n",
      "\n",
      "where \n",
      "pickup_time between '2012-10-22' and '2012-11-06'\n",
      "\n",
      "group by \n",
      "strftime ('%H',pickup_time)\n",
      "\n",
      "union \n",
      "\n",
      "select \n",
      "strftime ('%H',pickup_time) as hour,\n",
      "count(*) as total_trips\n",
      "\n",
      "from \n",
      "Uber\n",
      "\n",
      "where \n",
      "pickup_time between '2012-10-22' and '2012-11-06'\n",
      "\n",
      "group by \n",
      "strftime ('%H',pickup_time)\n",
      "\n",
      ")t_2\n",
      "\n",
      "on \n",
      "t_1.hour = t_2.hour\n",
      "\n",
      "group by \n",
      "t_1.hour,\n",
      "t_1.sum_precipitation,\n",
      "t_1.avg_windspeed\n",
      "\n",
      "\n",
      "\n",
      "[sqlalchemy] [generated in 0.00186s] ()\n"
     ]
    },
    {
     "data": {
      "text/plain": [
       "[('00', 0.03, 5.933333333333334, 76),\n",
       " ('01', 0.01, 5.333333333333333, 58),\n",
       " ('02', 0.03, 4.933333333333334, 59),\n",
       " ('03', 0.04, 6.066666666666666, 31),\n",
       " ('04', 0.0, 5.8, 31),\n",
       " ('05', 0.01, 5.066666666666666, 28),\n",
       " ('06', 0.03, 6.666666666666667, 36),\n",
       " ('07', 0.02, 5.0, 71),\n",
       " ('08', 0.01, 6.733333333333333, 76),\n",
       " ('09', 0.01, 6.866666666666666, 94),\n",
       " ('10', 0.02, 4.666666666666667, 82),\n",
       " ('11', 0.0, 6.266666666666667, 109),\n",
       " ('12', 0.02, 7.8, 87),\n",
       " ('13', 0.02, 6.8, 107),\n",
       " ('14', 0.03, 6.733333333333333, 99),\n",
       " ('15', 0.07, 6.466666666666667, 109),\n",
       " ('16', 0.11, 6.6, 75),\n",
       " ('17', 0.04, 7.5, 123),\n",
       " ('18', 0.02, 6.666666666666667, 122),\n",
       " ('19', 0.01, 6.8, 126),\n",
       " ('20', 0.02, 5.533333333333333, 136),\n",
       " ('21', 0.0, 6.8, 120),\n",
       " ('22', 0.03, 5.533333333333333, 119),\n",
       " ('23', 0.03, 4.933333333333334, 82)]"
      ]
     },
     "execution_count": 65,
     "metadata": {},
     "output_type": "execute_result"
    }
   ],
   "source": [
    "readsql('hurricane_hourly.sql')"
   ]
  },
  {
   "cell_type": "markdown",
   "metadata": {},
   "source": [
    "## Visualizing Data "
   ]
  },
  {
   "cell_type": "code",
   "execution_count": 250,
   "metadata": {},
   "outputs": [],
   "source": [
    "%matplotlib inline\n",
    "import matplotlib.pyplot as plt\n",
    "plt.style.use('seaborn')"
   ]
  },
  {
   "cell_type": "markdown",
   "metadata": {},
   "source": [
    "Create an appropriate visualization for the first query/question in part 3."
   ]
  },
  {
   "cell_type": "code",
   "execution_count": 251,
   "metadata": {},
   "outputs": [],
   "source": [
    "def figure1():\n",
    "    query1 = '''\n",
    "    SELECT \n",
    "    strftime ('%H',pickup_time) as most_popular_hour,\n",
    "    Count(*) as times\n",
    "    FROM\n",
    "    yellow_taxi\n",
    "    WHERE\n",
    "    pickup_time between '2009-01-01' AND '2015-06-30'\n",
    "    GROUP BY strftime ('%H',pickup_time) \n",
    "    '''\n",
    "    df = pd.DataFrame(data = engine.execute(query1).fetchall(),columns = ['hour','num_trip'])\n",
    "    plt.bar(df['hour'],df['num_trip'])\n",
    "    plt.title('Hourly distribution of yellow taxi trips')\n",
    "    plt.xlabel('Hours')\n",
    "    plt.ylabel('Number of trips')\n",
    "    plt.show()"
   ]
  },
  {
   "cell_type": "code",
   "execution_count": 252,
   "metadata": {
    "scrolled": false
   },
   "outputs": [
    {
     "name": "stdout",
     "output_type": "stream",
     "text": [
      "[sqlalchemy] \n",
      "    SELECT \n",
      "    strftime ('%H',pickup_time) as most_popular_hour,\n",
      "    Count(*) as times\n",
      "    FROM\n",
      "    yellow_taxi\n",
      "    WHERE\n",
      "    pickup_time between '2009-01-01' AND '2015-06-30'\n",
      "    GROUP BY strftime ('%H',pickup_time) \n",
      "    \n",
      "[sqlalchemy] [raw sql] ()\n"
     ]
    },
    {
     "data": {
      "image/png": "[encoded data removed]",
      "text/plain": [
       "<Figure size 576x396 with 1 Axes>"
      ]
     },
     "metadata": {},
     "output_type": "display_data"
    }
   ],
   "source": [
    "figure1()"
   ]
  },
  {
   "cell_type": "markdown",
   "metadata": {},
   "source": [
    "Create a visualization that shows the average distance traveled per month (regardless of year - so group by each month) for both taxis and Ubers combined. Include the 90% confidence interval around the mean in the visualization.\n"
   ]
  },
  {
   "cell_type": "code",
   "execution_count": 270,
   "metadata": {},
   "outputs": [],
   "source": [
    "def figure2():\n",
    "    import scipy.stats as st\n",
    "    query1 = '''\n",
    "    select \n",
    "    t_0.month as month,\n",
    "    sum(t_0.total_trips) as total_trips,\n",
    "    sum(t_0.distance) as distance\n",
    "\n",
    "    from \n",
    "\n",
    "    (select \n",
    "    strftime ('%m',pickup_time) as month,\n",
    "    count(*) as\ttotal_trips,\n",
    "    sum(distance) as distance\n",
    "\n",
    "    from \n",
    "    yellow_taxi\n",
    "\n",
    "    where \n",
    "    pickup_time between '2009-01-01' and '2015-06-30'\n",
    "\n",
    "    group by \n",
    "    strftime ('%m',pickup_time)\n",
    "\n",
    "    union \n",
    "\n",
    "    select \n",
    "    strftime ('%m',pickup_time) as month,\n",
    "    count(*) as\ttotal_trips,\n",
    "    sum(distance) as distance\n",
    "\n",
    "    from \n",
    "    Uber\n",
    "\n",
    "    where \n",
    "    pickup_time between '2009-01-01' and '2015-06-30'\n",
    "\n",
    "    group by \n",
    "    strftime ('%m',pickup_time)\n",
    "    )t_0\n",
    "    \n",
    "    group by \n",
    "    t_0.month\n",
    "    '''\n",
    "    df = pd.DataFrame(data = engine.execute(query1).fetchall(),columns = ['month','total_trips','distance'])\n",
    "    df['avg_distance'] = df['distance']/df['total_trips']\n",
    "    low_CI_bound, high_CI_bound = st.t.interval(0.90, len(df['avg_distance']) - 1,\n",
    "                                            loc= df['avg_distance'].mean(),\n",
    "                                            scale= st.sem(df['avg_distance']))\n",
    "    plt.bar(df['month'],df['avg_distance'])\n",
    "    plt.plot(df['month'], [low_CI_bound]*12,'--',label = 'low_CI_bound',color = 'purple')\n",
    "    plt.plot(df['month'], [high_CI_bound]*12,'--',label = 'high_CI_bound',color = 'blue')\n",
    "    plt.plot(df['month'],[df['avg_distance'].mean()]*12,color = 'r',label = 'Mean Value')\n",
    "\n",
    "    \n",
    "    plt.title('Monthly distribution of average distance for hired taxi')\n",
    "    plt.xlabel('Month')\n",
    "    plt.ylabel('Average Distance')\n",
    "    legend = plt.legend(frameon = 1)\n",
    "    frame = legend.get_frame()\n",
    "    frame.set_color('white')\n",
    "    plt.show()"
   ]
  },
  {
   "cell_type": "code",
   "execution_count": 271,
   "metadata": {
    "scrolled": true
   },
   "outputs": [
    {
     "name": "stdout",
     "output_type": "stream",
     "text": [
      "[sqlalchemy] \n",
      "    select \n",
      "    t_0.month as month,\n",
      "    sum(t_0.total_trips) as total_trips,\n",
      "    sum(t_0.distance) as distance\n",
      "\n",
      "    from \n",
      "\n",
      "    (select \n",
      "    strftime ('%m',pickup_time) as month,\n",
      "    count(*) as\ttotal_trips,\n",
      "    sum(distance) as distance\n",
      "\n",
      "    from \n",
      "    yellow_taxi\n",
      "\n",
      "    where \n",
      "    pickup_time between '2009-01-01' and '2015-06-30'\n",
      "\n",
      "    group by \n",
      "    strftime ('%m',pickup_time)\n",
      "\n",
      "    union \n",
      "\n",
      "    select \n",
      "    strftime ('%m',pickup_time) as month,\n",
      "    count(*) as\ttotal_trips,\n",
      "    sum(distance) as distance\n",
      "\n",
      "    from \n",
      "    Uber\n",
      "\n",
      "    where \n",
      "    pickup_time between '2009-01-01' and '2015-06-30'\n",
      "\n",
      "    group by \n",
      "    strftime ('%m',pickup_time)\n",
      "    )t_0\n",
      "    \n",
      "    group by \n",
      "    t_0.month\n",
      "    \n",
      "[sqlalchemy] [raw sql] ()\n"
     ]
    },
    {
     "data": {
      "image/png": "[encoded data removed]",
      "text/plain": [
       "<Figure size 576x396 with 1 Axes>"
      ]
     },
     "metadata": {},
     "output_type": "display_data"
    }
   ],
   "source": [
    "figure2()"
   ]
  },
  {
   "cell_type": "markdown",
   "metadata": {},
   "source": [
    "Define three lat/long coordinate boxes around the three major New York airports: LGA, JFK, and EWR (you can use bboxfinder to help). Create a visualization that compares what day of the week was most popular for drop offs for each airport.\n"
   ]
  },
  {
   "cell_type": "code",
   "execution_count": 273,
   "metadata": {},
   "outputs": [],
   "source": [
    "## LGA: -73.890736,40.764350,-73.850310,40.786514\n",
    "## JFK: -73.827581,40.620071,-73.746385,40.665530\n",
    "## EWR: -74.193342,40.685069,-74.166541,40.695986"
   ]
  },
  {
   "cell_type": "code",
   "execution_count": 296,
   "metadata": {},
   "outputs": [],
   "source": [
    "def figure3():\n",
    "    query1 = '''\n",
    "    select \n",
    "    strftime ('%w',pickup_time) as day,\n",
    "    dropoff_longitude,\n",
    "    dropoff_latitude\n",
    "\n",
    "\n",
    "    from \n",
    "\n",
    "    yellow_taxi\n",
    "\n",
    "    union \n",
    "\n",
    "    select \n",
    "    strftime ('%w',pickup_time) as day,\n",
    "    dropoff_longitude,\n",
    "    dropoff_latitude\n",
    "\n",
    "\n",
    "    from \n",
    "\n",
    "    Uber \n",
    "    '''\n",
    "    airports = {'LGA':[-73.890736,40.764350,-73.850310,40.786514],\n",
    "                'JFK':[-73.827581,40.620071,-73.746257,40.665530],\n",
    "                'EWR':[-74.193342,40.685069,-74.166541,40.695986]\n",
    "               }\n",
    "    df = pd.DataFrame(data = engine.execute(query1).fetchall(),columns = ['day','dropoff_longitude','dropoff_latitude'])\n",
    "    for airport in airports.keys():\n",
    "        location = airports[airport]\n",
    "        df_temp = df.loc[(df['dropoff_longitude']>=location[0])&(df['dropoff_longitude']<=location[2])\n",
    "                         &(df['dropoff_latitude']>=location[1])&(df['dropoff_latitude']<=location[3])]\n",
    "        \n",
    "        df_temp = df_temp.groupby(['day']).size().reset_index().rename(columns = {0:'count'})\n",
    "        \n",
    "        plt.bar(df_temp['day'], df_temp['count'])\n",
    "        x_ticks = ['Sun','Mon','Tue','Wed','Thur','Fri','Sat']\n",
    "        plt.xticks(np.arange(7),x_ticks)\n",
    "        plt.title('Daily distribution of drop offs amount near {}'.format(airport))\n",
    "        plt.xlabel('Day of the week')\n",
    "        plt.ylabel('Number of drop offs')\n",
    "        plt.show()"
   ]
  },
  {
   "cell_type": "code",
   "execution_count": 297,
   "metadata": {
    "scrolled": true
   },
   "outputs": [
    {
     "name": "stdout",
     "output_type": "stream",
     "text": [
      "[sqlalchemy] \n",
      "    select \n",
      "    strftime ('%w',pickup_time) as day,\n",
      "    dropoff_longitude,\n",
      "    dropoff_latitude\n",
      "\n",
      "\n",
      "    from \n",
      "\n",
      "    yellow_taxi\n",
      "\n",
      "    union \n",
      "\n",
      "    select \n",
      "    strftime ('%w',pickup_time) as day,\n",
      "    dropoff_longitude,\n",
      "    dropoff_latitude\n",
      "\n",
      "\n",
      "    from \n",
      "\n",
      "    Uber \n",
      "    \n",
      "[sqlalchemy] [raw sql] ()\n"
     ]
    },
    {
     "data": {
      "image/png": "[encoded data removed]",
      "text/plain": [
       "<Figure size 576x396 with 1 Axes>"
      ]
     },
     "metadata": {},
     "output_type": "display_data"
    },
    {
     "data": {
      "image/png": "[encoded data removed]",
      "text/plain": [
       "<Figure size 576x396 with 1 Axes>"
      ]
     },
     "metadata": {},
     "output_type": "display_data"
    },
    {
     "data": {
      "image/png": "[encoded data removed]",
      "text/plain": [
       "<Figure size 576x396 with 1 Axes>"
      ]
     },
     "metadata": {},
     "output_type": "display_data"
    }
   ],
   "source": [
    "figure3()"
   ]
  },
  {
   "cell_type": "markdown",
   "metadata": {},
   "source": [
    "Thus, the most popular day for drop offs in LGA, JFK and EWR is Friday, Sunday and Sunday respectively"
   ]
  },
  {
   "cell_type": "markdown",
   "metadata": {},
   "source": [
    "Create a heatmap of all hired trips over a map of the area. Consider using KeplerGL or another library that helps generate geospatial visualizations.\n"
   ]
  },
  {
   "cell_type": "code",
   "execution_count": 42,
   "metadata": {},
   "outputs": [],
   "source": [
    "def createZoneTable(zone_factor,westlimit, southlimit, eastlimit, northlimit):\n",
    "    zone_table = list()\n",
    "    hor = np.linspace(start = westlimit, stop = eastlimit, num=zone_factor+1)\n",
    "    ver = np.linspace(start = southlimit, stop = northlimit, num=zone_factor+1)\n",
    "    for i in range(zone_factor*zone_factor):\n",
    "        zone_number = \"%02d\" % i \n",
    "        bottomleft_co = [hor[i%zone_factor],ver[i//zone_factor]]\n",
    "        bottomright_co = [hor[(i%zone_factor+1)],ver[i//zone_factor]]\n",
    "        upperleft_co = [hor[i%zone_factor],ver[i//zone_factor+1]]\n",
    "        upperright_co = [hor[i%zone_factor+1],ver[i//zone_factor+1]]\n",
    "        zone_table.append((zone_number,[bottomleft_co,bottomright_co,upperright_co,upperleft_co,bottomleft_co]))\n",
    "    return zone_table"
   ]
  },
  {
   "cell_type": "code",
   "execution_count": 43,
   "metadata": {},
   "outputs": [],
   "source": [
    "def createGeoJsonObject(zone_table):\n",
    "    zone_data_dict = dict()\n",
    "    zone_data_dict['type'] = 'FeatureCollection'\n",
    "    zone_data_dict_features = list()\n",
    "    zone_data_dict['features'] = zone_data_dict_features\n",
    "    \n",
    "    for index in range(len(zone_table)):\n",
    "        coordinates_list = [zone_table[index][1]]\n",
    "        zone_id = zone_table[index][0]        \n",
    "        content = {\n",
    "            'geometry': {\"coordinates\": coordinates_list,'type':'Polygon'},\n",
    "            \"properties\":{'zone_id':zone_id},\n",
    "            'type':'Feature'\n",
    "        }\n",
    "        zone_data_dict_features.append(content)\n",
    "    \n",
    "    return zone_data_dict"
   ]
  },
  {
   "cell_type": "code",
   "execution_count": 44,
   "metadata": {},
   "outputs": [],
   "source": [
    "def get_zone(lon,lat,zone_table):\n",
    "    for i in range(len(zone_table)):\n",
    "        zone = None\n",
    "        item = zone_table[i]\n",
    "        hormin = item[1][0][0]\n",
    "        vermin = item[1][0][1]\n",
    "        hormax = item[1][2][0]\n",
    "        vermax = item[1][2][1]\n",
    "        if np.logical_and(lon<=hormax,lon>=hormin) & np.logical_and(lat<=vermax,lat>=vermin):\n",
    "            zone = item[0]\n",
    "            break\n",
    "    return zone"
   ]
  },
  {
   "cell_type": "code",
   "execution_count": 45,
   "metadata": {},
   "outputs": [],
   "source": [
    "def figure4():\n",
    "    query1 = '''\n",
    "    select \n",
    "    pickup_longitude,\n",
    "    pickup_latitude,\n",
    "    dropoff_longitude,\n",
    "    dropoff_latitude\n",
    "\n",
    "\n",
    "    from \n",
    "\n",
    "    yellow_taxi\n",
    "\n",
    "    union \n",
    "\n",
    "    select \n",
    "    pickup_longitude,\n",
    "    pickup_latitude,\n",
    "    dropoff_longitude,\n",
    "    dropoff_latitude\n",
    "\n",
    "    from \n",
    "\n",
    "    Uber \n",
    "    '''\n",
    " \n",
    "    df = pd.DataFrame(data = engine.execute(query1).fetchall(),columns = ['pickup_longitude','pickup_latitude','dropoff_longitude','dropoff_latitude'])\n",
    "    df = df.loc[(df['pickup_longitude']>= -74.242330)&(df['pickup_longitude']<= -73.717047)&(df['pickup_latitude']>=40.560445)&(df['pickup_latitude']<=40.908524)&\n",
    "                (df['dropoff_longitude']>= -74.242330)&(df['dropoff_longitude']<= -73.717047)&(df['dropoff_latitude']>=40.560445)&(df['dropoff_latitude']<=40.908524)\n",
    "               ]\n",
    "    \n",
    "    \n",
    "    zonetable = createZoneTable(20,df['pickup_longitude'].min(), df['pickup_latitude'].min(), \n",
    "                            df['pickup_longitude'].max(), df['pickup_latitude'].max())\n",
    "    df['pickup_zone'] = df.apply(lambda x: get_zone(x['pickup_longitude'],x['pickup_latitude'],zonetable),axis=1)\n",
    "    \n",
    "    pickup_cnt = df.groupby(['pickup_zone']).size().to_frame().rename(columns = {0:'pickup_count'}).reset_index()\n",
    "    \n",
    "    import folium\n",
    "    #Center the map at Times Square\n",
    "    m = folium.Map(location = [40.7589,-73.9851],zoom_start=12,titles = 'Heatmap for pickups')\n",
    "    m.choropleth(geo_data = createGeoJsonObject(zonetable) , data = pickup_cnt, \n",
    "                 columns=['pickup_zone', 'pickup_count'],key_on=\"properties.zone_id\",\n",
    "                 fill_color='YlGn', fill_opacity=0.7, line_opacity=0.8,\n",
    "                 legend_name='Distribution of pickups')\n",
    "    folium.LayerControl().add_to(m)\n",
    "    return m\n",
    "    \n",
    "    "
   ]
  },
  {
   "cell_type": "code",
   "execution_count": 46,
   "metadata": {
    "scrolled": false
   },
   "outputs": [
    {
     "name": "stdout",
     "output_type": "stream",
     "text": [
      "[sqlalchemy] \n",
      "    select \n",
      "    pickup_longitude,\n",
      "    pickup_latitude,\n",
      "    dropoff_longitude,\n",
      "    dropoff_latitude\n",
      "\n",
      "\n",
      "    from \n",
      "\n",
      "    yellow_taxi\n",
      "\n",
      "    union \n",
      "\n",
      "    select \n",
      "    pickup_longitude,\n",
      "    pickup_latitude,\n",
      "    dropoff_longitude,\n",
      "    dropoff_latitude\n",
      "\n",
      "    from \n",
      "\n",
      "    Uber \n",
      "    \n",
      "[sqlalchemy] [raw sql] ()\n"
     ]
    },
    {
     "name": "stderr",
     "output_type": "stream",
     "text": [
      "/Users/yuanshuqing/.local/lib/python3.6/site-packages/folium/folium.py:413: FutureWarning: The choropleth  method has been deprecated. Instead use the new Choropleth class, which has the same arguments. See the example notebook 'GeoJSON_and_choropleth' for how to do this.\n",
      "  FutureWarning\n"
     ]
    },
    {
     "data": {
      "text/html": [
       "<div style=\"width:100%;\"><div style=\"position:relative;width:100%;height:0;padding-bottom:60%;\"><span style=\"color:#565656\">Make this Notebook Trusted to load map: File -> Trust Notebook</span><iframe src=\"about:blank\" style=\"position:absolute;width:100%;height:100%;left:0;top:0;border:none !important;\" data-html=%3C%21DOCTYPE%20html%3E%0A%3Chead%3E%20%20%20%20%0A%20%20%20%20%3Cmeta%20http-equiv%3D%22content-type%22%20content%3D%22text/html%3B%20charset%3DUTF-8%22%20/%3E%0A%20%20%20%20%0A%20%20%20%20%20%20%20%20%3Cscript%3E%0A%20%20%20%20%20%20%20%20%20%20%20%20L_NO_TOUCH%20%3D%20false%3B%0A%20%20%20%20%20%20%20%20%20%20%20%20L_DISABLE_3D%20%3D%20false%3B%0A%20%20%20%20%20%20%20%20%3C/script%3E%0A%20%20%20%20%0A%20%20%20%20%3Cstyle%3Ehtml%2C%20body%20%7Bwidth%3A%20100%25%3Bheight%3A%20100%25%3Bmargin%3A%200%3Bpadding%3A%200%3B%7D%3C/style%3E%0A%20%20%20%20%3Cstyle%3E%23map%20%7Bposition%3Aabsolute%3Btop%3A0%3Bbottom%3A0%3Bright%3A0%3Bleft%3A0%3B%7D%3C/style%3E%0A%20%20%20%20%3Cscript%20src%3D%22https%3A//cdn.jsdelivr.net/npm/leaflet%401.6.0/dist/leaflet.js%22%3E%3C/script%3E%0A%20%20%20%20%3Cscript%20src%3D%22https%3A//code.jquery.com/jquery-1.12.4.min.js%22%3E%3C/script%3E%0A%20%20%20%20%3Cscript%20src%3D%22https%3A//maxcdn.bootstrapcdn.com/bootstrap/3.2.0/js/bootstrap.min.js%22%3E%3C/script%3E%0A%20%20%20%20%3Cscript%20src%3D%22https%3A//cdnjs.cloudflare.com/ajax/libs/Leaflet.awesome-markers/2.0.2/leaflet.awesome-markers.js%22%3E%3C/script%3E%0A%20%20%20%20%3Clink%20rel%3D%22stylesheet%22%20href%3D%22https%3A//cdn.jsdelivr.net/npm/leaflet%401.6.0/dist/leaflet.css%22/%3E%0A%20%20%20%20%3Clink%20rel%3D%22stylesheet%22%20href%3D%22https%3A//maxcdn.bootstrapcdn.com/bootstrap/3.2.0/css/bootstrap.min.css%22/%3E%0A%20%20%20%20%3Clink%20rel%3D%22stylesheet%22%20href%3D%22https%3A//maxcdn.bootstrapcdn.com/bootstrap/3.2.0/css/bootstrap-theme.min.css%22/%3E%0A%20%20%20%20%3Clink%20rel%3D%22stylesheet%22%20href%3D%22https%3A//maxcdn.bootstrapcdn.com/font-awesome/4.6.3/css/font-awesome.min.css%22/%3E%0A%20%20%20%20%3Clink%20rel%3D%22stylesheet%22%20href%3D%22https%3A//cdnjs.cloudflare.com/ajax/libs/Leaflet.awesome-markers/2.0.2/leaflet.awesome-markers.css%22/%3E%0A%20%20%20%20%3Clink%20rel%3D%22stylesheet%22%20href%3D%22https%3A//cdn.jsdelivr.net/gh/python-visualization/folium/folium/templates/leaflet.awesome.rotate.min.css%22/%3E%0A%20%20%20%20%0A%20%20%20%20%20%20%20%20%20%20%20%20%3Cmeta%20name%3D%22viewport%22%20content%3D%22width%3Ddevice-width%2C%0A%20%20%20%20%20%20%20%20%20%20%20%20%20%20%20%20initial-scale%3D1.0%2C%20maximum-scale%3D1.0%2C%20user-scalable%3Dno%22%20/%3E%0A%20%20%20%20%20%20%20%20%20%20%20%20%3Cstyle%3E%0A%20%20%20%20%20%20%20%20%20%20%20%20%20%20%20%20%23map_b52ff4e5960d457493bea4c608f17c51%20%7B%0A%20%20%20%20%20%20%20%20%20%20%20%20%20%20%20%20%20%20%20%20position%3A%20relative%3B%0A%20%20%20%20%20%20%20%20%20%20%20%20%20%20%20%20%20%20%20%20width%3A%20100.0%25%3B%0A%20%20%20%20%20%20%20%20%20%20%20%20%20%20%20%20%20%20%20%20height%3A%20100.0%25%3B%0A%20%20%20%20%20%20%20%20%20%20%20%20%20%20%20%20%20%20%20%20left%3A%200.0%25%3B%0A%20%20%20%20%20%20%20%20%20%20%20%20%20%20%20%20%20%20%20%20top%3A%200.0%25%3B%0A%20%20%20%20%20%20%20%20%20%20%20%20%20%20%20%20%7D%0A%20%20%20%20%20%20%20%20%20%20%20%20%3C/style%3E%0A%20%20%20%20%20%20%20%20%0A%20%20%20%20%3Cscript%20src%3D%22https%3A//cdnjs.cloudflare.com/ajax/libs/d3/3.5.5/d3.min.js%22%3E%3C/script%3E%0A%3C/head%3E%0A%3Cbody%3E%20%20%20%20%0A%20%20%20%20%0A%20%20%20%20%20%20%20%20%20%20%20%20%3Cdiv%20class%3D%22folium-map%22%20id%3D%22map_b52ff4e5960d457493bea4c608f17c51%22%20%3E%3C/div%3E%0A%20%20%20%20%20%20%20%20%0A%3C/body%3E%0A%3Cscript%3E%20%20%20%20%0A%20%20%20%20%0A%20%20%20%20%20%20%20%20%20%20%20%20var%20map_b52ff4e5960d457493bea4c608f17c51%20%3D%20L.map%28%0A%20%20%20%20%20%20%20%20%20%20%20%20%20%20%20%20%22map_b52ff4e5960d457493bea4c608f17c51%22%2C%0A%20%20%20%20%20%20%20%20%20%20%20%20%20%20%20%20%7B%0A%20%20%20%20%20%20%20%20%20%20%20%20%20%20%20%20%20%20%20%20center%3A%20%5B40.7589%2C%20-73.9851%5D%2C%0A%20%20%20%20%20%20%20%20%20%20%20%20%20%20%20%20%20%20%20%20crs%3A%20L.CRS.EPSG3857%2C%0A%20%20%20%20%20%20%20%20%20%20%20%20%20%20%20%20%20%20%20%20zoom%3A%2012%2C%0A%20%20%20%20%20%20%20%20%20%20%20%20%20%20%20%20%20%20%20%20zoomControl%3A%20true%2C%0A%20%20%20%20%20%20%20%20%20%20%20%20%20%20%20%20%20%20%20%20preferCanvas%3A%20false%2C%0A%20%20%20%20%20%20%20%20%20%20%20%20%20%20%20%20%20%20%20%20titles%3A%20%22Heatmap%20for%20pickups%22%2C%0A%20%20%20%20%20%20%20%20%20%20%20%20%20%20%20%20%7D%0A%20%20%20%20%20%20%20%20%20%20%20%20%29%3B%0A%0A%20%20%20%20%20%20%20%20%20%20%20%20%0A%0A%20%20%20%20%20%20%20%20%0A%20%20%20%20%0A%20%20%20%20%20%20%20%20%20%20%20%20var%20tile_layer_291aa231a0bb4898a74017e93f8ce97d%20%3D%20L.tileLayer%28%0A%20%20%20%20%20%20%20%20%20%20%20%20%20%20%20%20%22https%3A//%7Bs%7D.tile.openstreetmap.org/%7Bz%7D/%7Bx%7D/%7By%7D.png%22%2C%0A%20%20%20%20%20%20%20%20%20%20%20%20%20%20%20%20%7B%22attribution%22%3A%20%22Data%20by%20%5Cu0026copy%3B%20%5Cu003ca%20href%3D%5C%22http%3A//openstreetmap.org%5C%22%5Cu003eOpenStreetMap%5Cu003c/a%5Cu003e%2C%20under%20%5Cu003ca%20href%3D%5C%22http%3A//www.openstreetmap.org/copyright%5C%22%5Cu003eODbL%5Cu003c/a%5Cu003e.%22%2C%20%22detectRetina%22%3A%20false%2C%20%22maxNativeZoom%22%3A%2018%2C%20%22maxZoom%22%3A%2018%2C%20%22minZoom%22%3A%200%2C%20%22noWrap%22%3A%20false%2C%20%22opacity%22%3A%201%2C%20%22subdomains%22%3A%20%22abc%22%2C%20%22tms%22%3A%20false%7D%0A%20%20%20%20%20%20%20%20%20%20%20%20%29.addTo%28map_b52ff4e5960d457493bea4c608f17c51%29%3B%0A%20%20%20%20%20%20%20%20%0A%20%20%20%20%0A%20%20%20%20%20%20%20%20%20%20%20%20var%20choropleth_f93126c706664047b6a7069c0c90ec7e%20%3D%20L.featureGroup%28%0A%20%20%20%20%20%20%20%20%20%20%20%20%20%20%20%20%7B%7D%0A%20%20%20%20%20%20%20%20%20%20%20%20%29.addTo%28map_b52ff4e5960d457493bea4c608f17c51%29%3B%0A%20%20%20%20%20%20%20%20%0A%20%20%20%20%0A%20%20%20%20%20%20%20%20function%20geo_json_2c93fa05ffba47ee82f78399e859567e_styler%28feature%29%20%7B%0A%20%20%20%20%20%20%20%20%20%20%20%20switch%28feature.properties.zone_id%29%20%7B%0A%20%20%20%20%20%20%20%20%20%20%20%20%20%20%20%20case%20%2201%22%3A%20case%20%2204%22%3A%20case%20%2206%22%3A%20case%20%2212%22%3A%20case%20%2213%22%3A%20case%20%2214%22%3A%20case%20%2215%22%3A%20case%20%2217%22%3A%20case%20%2218%22%3A%20case%20%2221%22%3A%20case%20%2222%22%3A%20case%20%2223%22%3A%20case%20%2224%22%3A%20case%20%2232%22%3A%20case%20%2233%22%3A%20case%20%2234%22%3A%20case%20%2236%22%3A%20case%20%2237%22%3A%20case%20%2238%22%3A%20case%20%2240%22%3A%20case%20%2241%22%3A%20case%20%2242%22%3A%20case%20%2244%22%3A%20case%20%2245%22%3A%20case%20%2254%22%3A%20case%20%2255%22%3A%20case%20%2256%22%3A%20case%20%2258%22%3A%20case%20%2259%22%3A%20case%20%2260%22%3A%20case%20%2261%22%3A%20case%20%2262%22%3A%20case%20%2263%22%3A%20case%20%2266%22%3A%20case%20%2280%22%3A%20case%20%2284%22%3A%20case%20%2294%22%3A%20case%20%22101%22%3A%20case%20%22103%22%3A%20case%20%22106%22%3A%20case%20%22120%22%3A%20case%20%22123%22%3A%20case%20%22124%22%3A%20case%20%22140%22%3A%20case%20%22143%22%3A%20case%20%22144%22%3A%20case%20%22160%22%3A%20case%20%22161%22%3A%20case%20%22180%22%3A%20case%20%22181%22%3A%20case%20%22183%22%3A%20case%20%22200%22%3A%20case%20%22201%22%3A%20case%20%22202%22%3A%20case%20%22217%22%3A%20case%20%22220%22%3A%20case%20%22221%22%3A%20case%20%22222%22%3A%20case%20%22224%22%3A%20case%20%22241%22%3A%20case%20%22244%22%3A%20case%20%22258%22%3A%20case%20%22259%22%3A%20case%20%22262%22%3A%20case%20%22264%22%3A%20case%20%22276%22%3A%20case%20%22279%22%3A%20case%20%22282%22%3A%20case%20%22283%22%3A%20case%20%22297%22%3A%20case%20%22300%22%3A%20case%20%22303%22%3A%20case%20%22319%22%3A%20case%20%22320%22%3A%20case%20%22321%22%3A%20case%20%22322%22%3A%20case%20%22323%22%3A%20case%20%22324%22%3A%20case%20%22327%22%3A%20case%20%22338%22%3A%20case%20%22339%22%3A%20case%20%22340%22%3A%20case%20%22341%22%3A%20case%20%22343%22%3A%20case%20%22344%22%3A%20case%20%22356%22%3A%20case%20%22357%22%3A%20case%20%22358%22%3A%20case%20%22359%22%3A%20case%20%22360%22%3A%20case%20%22361%22%3A%20case%20%22362%22%3A%20case%20%22363%22%3A%20case%20%22364%22%3A%20case%20%22365%22%3A%20case%20%22366%22%3A%20case%20%22367%22%3A%20case%20%22371%22%3A%20case%20%22376%22%3A%20case%20%22377%22%3A%20case%20%22379%22%3A%20case%20%22380%22%3A%20case%20%22381%22%3A%20case%20%22382%22%3A%20case%20%22383%22%3A%20case%20%22384%22%3A%20case%20%22385%22%3A%20case%20%22386%22%3A%20case%20%22387%22%3A%20case%20%22389%22%3A%20case%20%22393%22%3A%20case%20%22397%22%3A%20case%20%22399%22%3A%20%0A%20%20%20%20%20%20%20%20%20%20%20%20%20%20%20%20%20%20%20%20return%20%7B%22color%22%3A%20%22black%22%2C%20%22fillColor%22%3A%20%22black%22%2C%20%22fillOpacity%22%3A%200.7%2C%20%22opacity%22%3A%200.8%2C%20%22weight%22%3A%201%7D%3B%0A%20%20%20%20%20%20%20%20%20%20%20%20%20%20%20%20case%20%22168%22%3A%20case%20%22251%22%3A%20case%20%22270%22%3A%20%0A%20%20%20%20%20%20%20%20%20%20%20%20%20%20%20%20%20%20%20%20return%20%7B%22color%22%3A%20%22black%22%2C%20%22fillColor%22%3A%20%22%23d9f0a3%22%2C%20%22fillOpacity%22%3A%200.7%2C%20%22opacity%22%3A%200.8%2C%20%22weight%22%3A%201%7D%3B%0A%20%20%20%20%20%20%20%20%20%20%20%20%20%20%20%20case%20%22189%22%3A%20%0A%20%20%20%20%20%20%20%20%20%20%20%20%20%20%20%20%20%20%20%20return%20%7B%22color%22%3A%20%22black%22%2C%20%22fillColor%22%3A%20%22%2331a354%22%2C%20%22fillOpacity%22%3A%200.7%2C%20%22opacity%22%3A%200.8%2C%20%22weight%22%3A%201%7D%3B%0A%20%20%20%20%20%20%20%20%20%20%20%20%20%20%20%20case%20%22209%22%3A%20case%20%22230%22%3A%20%0A%20%20%20%20%20%20%20%20%20%20%20%20%20%20%20%20%20%20%20%20return%20%7B%22color%22%3A%20%22black%22%2C%20%22fillColor%22%3A%20%22%23006837%22%2C%20%22fillOpacity%22%3A%200.7%2C%20%22opacity%22%3A%200.8%2C%20%22weight%22%3A%201%7D%3B%0A%20%20%20%20%20%20%20%20%20%20%20%20%20%20%20%20case%20%22210%22%3A%20case%20%22250%22%3A%20%0A%20%20%20%20%20%20%20%20%20%20%20%20%20%20%20%20%20%20%20%20return%20%7B%22color%22%3A%20%22black%22%2C%20%22fillColor%22%3A%20%22%23addd8e%22%2C%20%22fillOpacity%22%3A%200.7%2C%20%22opacity%22%3A%200.8%2C%20%22weight%22%3A%201%7D%3B%0A%20%20%20%20%20%20%20%20%20%20%20%20%20%20%20%20case%20%22229%22%3A%20%0A%20%20%20%20%20%20%20%20%20%20%20%20%20%20%20%20%20%20%20%20return%20%7B%22color%22%3A%20%22black%22%2C%20%22fillColor%22%3A%20%22%2378c679%22%2C%20%22fillOpacity%22%3A%200.7%2C%20%22opacity%22%3A%200.8%2C%20%22weight%22%3A%201%7D%3B%0A%20%20%20%20%20%20%20%20%20%20%20%20%20%20%20%20default%3A%0A%20%20%20%20%20%20%20%20%20%20%20%20%20%20%20%20%20%20%20%20return%20%7B%22color%22%3A%20%22black%22%2C%20%22fillColor%22%3A%20%22%23ffffcc%22%2C%20%22fillOpacity%22%3A%200.7%2C%20%22opacity%22%3A%200.8%2C%20%22weight%22%3A%201%7D%3B%0A%20%20%20%20%20%20%20%20%20%20%20%20%7D%0A%20%20%20%20%20%20%20%20%7D%0A%0A%20%20%20%20%20%20%20%20function%20geo_json_2c93fa05ffba47ee82f78399e859567e_onEachFeature%28feature%2C%20layer%29%20%7B%0A%20%20%20%20%20%20%20%20%20%20%20%20layer.on%28%7B%0A%20%20%20%20%20%20%20%20%20%20%20%20%7D%29%3B%0A%20%20%20%20%20%20%20%20%7D%3B%0A%20%20%20%20%20%20%20%20var%20geo_json_2c93fa05ffba47ee82f78399e859567e%20%3D%20L.geoJson%28null%2C%20%7B%0A%20%20%20%20%20%20%20%20%20%20%20%20%20%20%20%20onEachFeature%3A%20geo_json_2c93fa05ffba47ee82f78399e859567e_onEachFeature%2C%0A%20%20%20%20%20%20%20%20%20%20%20%20%0A%20%20%20%20%20%20%20%20%20%20%20%20%20%20%20%20style%3A%20geo_json_2c93fa05ffba47ee82f78399e859567e_styler%2C%0A%20%20%20%20%20%20%20%20%7D%29%3B%0A%0A%20%20%20%20%20%20%20%20function%20geo_json_2c93fa05ffba47ee82f78399e859567e_add%20%28data%29%20%7B%0A%20%20%20%20%20%20%20%20%20%20%20%20geo_json_2c93fa05ffba47ee82f78399e859567e%0A%20%20%20%20%20%20%20%20%20%20%20%20%20%20%20%20.addData%28data%29%0A%20%20%20%20%20%20%20%20%20%20%20%20%20%20%20%20.addTo%28choropleth_f93126c706664047b6a7069c0c90ec7e%29%3B%0A%20%20%20%20%20%20%20%20%7D%0A%20%20%20%20%20%20%20%20%20%20%20%20geo_json_2c93fa05ffba47ee82f78399e859567e_add%28%7B%22features%22%3A%20%5B%7B%22geometry%22%3A%20%7B%22coordinates%22%3A%20%5B%5B%5B-74.24037199999998%2C%2040.564738%5D%2C%20%5B-74.21437939999998%2C%2040.564738%5D%2C%20%5B-74.21437939999998%2C%2040.5819166%5D%2C%20%5B-74.24037199999998%2C%2040.5819166%5D%2C%20%5B-74.24037199999998%2C%2040.564738%5D%5D%5D%2C%20%22type%22%3A%20%22Polygon%22%7D%2C%20%22properties%22%3A%20%7B%22zone_id%22%3A%20%2200%22%7D%2C%20%22type%22%3A%20%22Feature%22%7D%2C%20%7B%22geometry%22%3A%20%7B%22coordinates%22%3A%20%5B%5B%5B-74.21437939999998%2C%2040.564738%5D%2C%20%5B-74.18838679999998%2C%2040.564738%5D%2C%20%5B-74.18838679999998%2C%2040.5819166%5D%2C%20%5B-74.21437939999998%2C%2040.5819166%5D%2C%20%5B-74.21437939999998%2C%2040.564738%5D%5D%5D%2C%20%22type%22%3A%20%22Polygon%22%7D%2C%20%22properties%22%3A%20%7B%22zone_id%22%3A%20%2201%22%7D%2C%20%22type%22%3A%20%22Feature%22%7D%2C%20%7B%22geometry%22%3A%20%7B%22coordinates%22%3A%20%5B%5B%5B-74.18838679999998%2C%2040.564738%5D%2C%20%5B-74.16239419999998%2C%2040.564738%5D%2C%20%5B-74.16239419999998%2C%2040.5819166%5D%2C%20%5B-74.18838679999998%2C%2040.5819166%5D%2C%20%5B-74.18838679999998%2C%2040.564738%5D%5D%5D%2C%20%22type%22%3A%20%22Polygon%22%7D%2C%20%22properties%22%3A%20%7B%22zone_id%22%3A%20%2202%22%7D%2C%20%22type%22%3A%20%22Feature%22%7D%2C%20%7B%22geometry%22%3A%20%7B%22coordinates%22%3A%20%5B%5B%5B-74.16239419999998%2C%2040.564738%5D%2C%20%5B-74.13640159999999%2C%2040.564738%5D%2C%20%5B-74.13640159999999%2C%2040.5819166%5D%2C%20%5B-74.16239419999998%2C%2040.5819166%5D%2C%20%5B-74.16239419999998%2C%2040.564738%5D%5D%5D%2C%20%22type%22%3A%20%22Polygon%22%7D%2C%20%22properties%22%3A%20%7B%22zone_id%22%3A%20%2203%22%7D%2C%20%22type%22%3A%20%22Feature%22%7D%2C%20%7B%22geometry%22%3A%20%7B%22coordinates%22%3A%20%5B%5B%5B-74.13640159999999%2C%2040.564738%5D%2C%20%5B-74.11040899999998%2C%2040.564738%5D%2C%20%5B-74.11040899999998%2C%2040.5819166%5D%2C%20%5B-74.13640159999999%2C%2040.5819166%5D%2C%20%5B-74.13640159999999%2C%2040.564738%5D%5D%5D%2C%20%22type%22%3A%20%22Polygon%22%7D%2C%20%22properties%22%3A%20%7B%22zone_id%22%3A%20%2204%22%7D%2C%20%22type%22%3A%20%22Feature%22%7D%2C%20%7B%22geometry%22%3A%20%7B%22coordinates%22%3A%20%5B%5B%5B-74.11040899999998%2C%2040.564738%5D%2C%20%5B-74.08441639999998%2C%2040.564738%5D%2C%20%5B-74.08441639999998%2C%2040.5819166%5D%2C%20%5B-74.11040899999998%2C%2040.5819166%5D%2C%20%5B-74.11040899999998%2C%2040.564738%5D%5D%5D%2C%20%22type%22%3A%20%22Polygon%22%7D%2C%20%22properties%22%3A%20%7B%22zone_id%22%3A%20%2205%22%7D%2C%20%22type%22%3A%20%22Feature%22%7D%2C%20%7B%22geometry%22%3A%20%7B%22coordinates%22%3A%20%5B%5B%5B-74.08441639999998%2C%2040.564738%5D%2C%20%5B-74.05842379999999%2C%2040.564738%5D%2C%20%5B-74.05842379999999%2C%2040.5819166%5D%2C%20%5B-74.08441639999998%2C%2040.5819166%5D%2C%20%5B-74.08441639999998%2C%2040.564738%5D%5D%5D%2C%20%22type%22%3A%20%22Polygon%22%7D%2C%20%22properties%22%3A%20%7B%22zone_id%22%3A%20%2206%22%7D%2C%20%22type%22%3A%20%22Feature%22%7D%2C%20%7B%22geometry%22%3A%20%7B%22coordinates%22%3A%20%5B%5B%5B-74.05842379999999%2C%2040.564738%5D%2C%20%5B-74.03243119999999%2C%2040.564738%5D%2C%20%5B-74.03243119999999%2C%2040.5819166%5D%2C%20%5B-74.05842379999999%2C%2040.5819166%5D%2C%20%5B-74.05842379999999%2C%2040.564738%5D%5D%5D%2C%20%22type%22%3A%20%22Polygon%22%7D%2C%20%22properties%22%3A%20%7B%22zone_id%22%3A%20%2207%22%7D%2C%20%22type%22%3A%20%22Feature%22%7D%2C%20%7B%22geometry%22%3A%20%7B%22coordinates%22%3A%20%5B%5B%5B-74.03243119999999%2C%2040.564738%5D%2C%20%5B-74.00643859999998%2C%2040.564738%5D%2C%20%5B-74.00643859999998%2C%2040.5819166%5D%2C%20%5B-74.03243119999999%2C%2040.5819166%5D%2C%20%5B-74.03243119999999%2C%2040.564738%5D%5D%5D%2C%20%22type%22%3A%20%22Polygon%22%7D%2C%20%22properties%22%3A%20%7B%22zone_id%22%3A%20%2208%22%7D%2C%20%22type%22%3A%20%22Feature%22%7D%2C%20%7B%22geometry%22%3A%20%7B%22coordinates%22%3A%20%5B%5B%5B-74.00643859999998%2C%2040.564738%5D%2C%20%5B-73.98044599999999%2C%2040.564738%5D%2C%20%5B-73.98044599999999%2C%2040.5819166%5D%2C%20%5B-74.00643859999998%2C%2040.5819166%5D%2C%20%5B-74.00643859999998%2C%2040.564738%5D%5D%5D%2C%20%22type%22%3A%20%22Polygon%22%7D%2C%20%22properties%22%3A%20%7B%22zone_id%22%3A%20%2209%22%7D%2C%20%22type%22%3A%20%22Feature%22%7D%2C%20%7B%22geometry%22%3A%20%7B%22coordinates%22%3A%20%5B%5B%5B-73.98044599999999%2C%2040.564738%5D%2C%20%5B-73.95445339999999%2C%2040.564738%5D%2C%20%5B-73.95445339999999%2C%2040.5819166%5D%2C%20%5B-73.98044599999999%2C%2040.5819166%5D%2C%20%5B-73.98044599999999%2C%2040.564738%5D%5D%5D%2C%20%22type%22%3A%20%22Polygon%22%7D%2C%20%22properties%22%3A%20%7B%22zone_id%22%3A%20%2210%22%7D%2C%20%22type%22%3A%20%22Feature%22%7D%2C%20%7B%22geometry%22%3A%20%7B%22coordinates%22%3A%20%5B%5B%5B-73.95445339999999%2C%2040.564738%5D%2C%20%5B-73.92846079999998%2C%2040.564738%5D%2C%20%5B-73.92846079999998%2C%2040.5819166%5D%2C%20%5B-73.95445339999999%2C%2040.5819166%5D%2C%20%5B-73.95445339999999%2C%2040.564738%5D%5D%5D%2C%20%22type%22%3A%20%22Polygon%22%7D%2C%20%22properties%22%3A%20%7B%22zone_id%22%3A%20%2211%22%7D%2C%20%22type%22%3A%20%22Feature%22%7D%2C%20%7B%22geometry%22%3A%20%7B%22coordinates%22%3A%20%5B%5B%5B-73.92846079999998%2C%2040.564738%5D%2C%20%5B-73.90246819999999%2C%2040.564738%5D%2C%20%5B-73.90246819999999%2C%2040.5819166%5D%2C%20%5B-73.92846079999998%2C%2040.5819166%5D%2C%20%5B-73.92846079999998%2C%2040.564738%5D%5D%5D%2C%20%22type%22%3A%20%22Polygon%22%7D%2C%20%22properties%22%3A%20%7B%22zone_id%22%3A%20%2212%22%7D%2C%20%22type%22%3A%20%22Feature%22%7D%2C%20%7B%22geometry%22%3A%20%7B%22coordinates%22%3A%20%5B%5B%5B-73.90246819999999%2C%2040.564738%5D%2C%20%5B-73.87647559999999%2C%2040.564738%5D%2C%20%5B-73.87647559999999%2C%2040.5819166%5D%2C%20%5B-73.90246819999999%2C%2040.5819166%5D%2C%20%5B-73.90246819999999%2C%2040.564738%5D%5D%5D%2C%20%22type%22%3A%20%22Polygon%22%7D%2C%20%22properties%22%3A%20%7B%22zone_id%22%3A%20%2213%22%7D%2C%20%22type%22%3A%20%22Feature%22%7D%2C%20%7B%22geometry%22%3A%20%7B%22coordinates%22%3A%20%5B%5B%5B-73.87647559999999%2C%2040.564738%5D%2C%20%5B-73.850483%2C%2040.564738%5D%2C%20%5B-73.850483%2C%2040.5819166%5D%2C%20%5B-73.87647559999999%2C%2040.5819166%5D%2C%20%5B-73.87647559999999%2C%2040.564738%5D%5D%5D%2C%20%22type%22%3A%20%22Polygon%22%7D%2C%20%22properties%22%3A%20%7B%22zone_id%22%3A%20%2214%22%7D%2C%20%22type%22%3A%20%22Feature%22%7D%2C%20%7B%22geometry%22%3A%20%7B%22coordinates%22%3A%20%5B%5B%5B-73.850483%2C%2040.564738%5D%2C%20%5B-73.82449039999999%2C%2040.564738%5D%2C%20%5B-73.82449039999999%2C%2040.5819166%5D%2C%20%5B-73.850483%2C%2040.5819166%5D%2C%20%5B-73.850483%2C%2040.564738%5D%5D%5D%2C%20%22type%22%3A%20%22Polygon%22%7D%2C%20%22properties%22%3A%20%7B%22zone_id%22%3A%20%2215%22%7D%2C%20%22type%22%3A%20%22Feature%22%7D%2C%20%7B%22geometry%22%3A%20%7B%22coordinates%22%3A%20%5B%5B%5B-73.82449039999999%2C%2040.564738%5D%2C%20%5B-73.79849779999999%2C%2040.564738%5D%2C%20%5B-73.79849779999999%2C%2040.5819166%5D%2C%20%5B-73.82449039999999%2C%2040.5819166%5D%2C%20%5B-73.82449039999999%2C%2040.564738%5D%5D%5D%2C%20%22type%22%3A%20%22Polygon%22%7D%2C%20%22properties%22%3A%20%7B%22zone_id%22%3A%20%2216%22%7D%2C%20%22type%22%3A%20%22Feature%22%7D%2C%20%7B%22geometry%22%3A%20%7B%22coordinates%22%3A%20%5B%5B%5B-73.79849779999999%2C%2040.564738%5D%2C%20%5B-73.7725052%2C%2040.564738%5D%2C%20%5B-73.7725052%2C%2040.5819166%5D%2C%20%5B-73.79849779999999%2C%2040.5819166%5D%2C%20%5B-73.79849779999999%2C%2040.564738%5D%5D%5D%2C%20%22type%22%3A%20%22Polygon%22%7D%2C%20%22properties%22%3A%20%7B%22zone_id%22%3A%20%2217%22%7D%2C%20%22type%22%3A%20%22Feature%22%7D%2C%20%7B%22geometry%22%3A%20%7B%22coordinates%22%3A%20%5B%5B%5B-73.7725052%2C%2040.564738%5D%2C%20%5B-73.74651259999999%2C%2040.564738%5D%2C%20%5B-73.74651259999999%2C%2040.5819166%5D%2C%20%5B-73.7725052%2C%2040.5819166%5D%2C%20%5B-73.7725052%2C%2040.564738%5D%5D%5D%2C%20%22type%22%3A%20%22Polygon%22%7D%2C%20%22properties%22%3A%20%7B%22zone_id%22%3A%20%2218%22%7D%2C%20%22type%22%3A%20%22Feature%22%7D%2C%20%7B%22geometry%22%3A%20%7B%22coordinates%22%3A%20%5B%5B%5B-73.74651259999999%2C%2040.564738%5D%2C%20%5B-73.72052%2C%2040.564738%5D%2C%20%5B-73.72052%2C%2040.5819166%5D%2C%20%5B-73.74651259999999%2C%2040.5819166%5D%2C%20%5B-73.74651259999999%2C%2040.564738%5D%5D%5D%2C%20%22type%22%3A%20%22Polygon%22%7D%2C%20%22properties%22%3A%20%7B%22zone_id%22%3A%20%2219%22%7D%2C%20%22type%22%3A%20%22Feature%22%7D%2C%20%7B%22geometry%22%3A%20%7B%22coordinates%22%3A%20%5B%5B%5B-74.24037199999998%2C%2040.5819166%5D%2C%20%5B-74.21437939999998%2C%2040.5819166%5D%2C%20%5B-74.21437939999998%2C%2040.5990952%5D%2C%20%5B-74.24037199999998%2C%2040.5990952%5D%2C%20%5B-74.24037199999998%2C%2040.5819166%5D%5D%5D%2C%20%22type%22%3A%20%22Polygon%22%7D%2C%20%22properties%22%3A%20%7B%22zone_id%22%3A%20%2220%22%7D%2C%20%22type%22%3A%20%22Feature%22%7D%2C%20%7B%22geometry%22%3A%20%7B%22coordinates%22%3A%20%5B%5B%5B-74.21437939999998%2C%2040.5819166%5D%2C%20%5B-74.18838679999998%2C%2040.5819166%5D%2C%20%5B-74.18838679999998%2C%2040.5990952%5D%2C%20%5B-74.21437939999998%2C%2040.5990952%5D%2C%20%5B-74.21437939999998%2C%2040.5819166%5D%5D%5D%2C%20%22type%22%3A%20%22Polygon%22%7D%2C%20%22properties%22%3A%20%7B%22zone_id%22%3A%20%2221%22%7D%2C%20%22type%22%3A%20%22Feature%22%7D%2C%20%7B%22geometry%22%3A%20%7B%22coordinates%22%3A%20%5B%5B%5B-74.18838679999998%2C%2040.5819166%5D%2C%20%5B-74.16239419999998%2C%2040.5819166%5D%2C%20%5B-74.16239419999998%2C%2040.5990952%5D%2C%20%5B-74.18838679999998%2C%2040.5990952%5D%2C%20%5B-74.18838679999998%2C%2040.5819166%5D%5D%5D%2C%20%22type%22%3A%20%22Polygon%22%7D%2C%20%22properties%22%3A%20%7B%22zone_id%22%3A%20%2222%22%7D%2C%20%22type%22%3A%20%22Feature%22%7D%2C%20%7B%22geometry%22%3A%20%7B%22coordinates%22%3A%20%5B%5B%5B-74.16239419999998%2C%2040.5819166%5D%2C%20%5B-74.13640159999999%2C%2040.5819166%5D%2C%20%5B-74.13640159999999%2C%2040.5990952%5D%2C%20%5B-74.16239419999998%2C%2040.5990952%5D%2C%20%5B-74.16239419999998%2C%2040.5819166%5D%5D%5D%2C%20%22type%22%3A%20%22Polygon%22%7D%2C%20%22properties%22%3A%20%7B%22zone_id%22%3A%20%2223%22%7D%2C%20%22type%22%3A%20%22Feature%22%7D%2C%20%7B%22geometry%22%3A%20%7B%22coordinates%22%3A%20%5B%5B%5B-74.13640159999999%2C%2040.5819166%5D%2C%20%5B-74.11040899999998%2C%2040.5819166%5D%2C%20%5B-74.11040899999998%2C%2040.5990952%5D%2C%20%5B-74.13640159999999%2C%2040.5990952%5D%2C%20%5B-74.13640159999999%2C%2040.5819166%5D%5D%5D%2C%20%22type%22%3A%20%22Polygon%22%7D%2C%20%22properties%22%3A%20%7B%22zone_id%22%3A%20%2224%22%7D%2C%20%22type%22%3A%20%22Feature%22%7D%2C%20%7B%22geometry%22%3A%20%7B%22coordinates%22%3A%20%5B%5B%5B-74.11040899999998%2C%2040.5819166%5D%2C%20%5B-74.08441639999998%2C%2040.5819166%5D%2C%20%5B-74.08441639999998%2C%2040.5990952%5D%2C%20%5B-74.11040899999998%2C%2040.5990952%5D%2C%20%5B-74.11040899999998%2C%2040.5819166%5D%5D%5D%2C%20%22type%22%3A%20%22Polygon%22%7D%2C%20%22properties%22%3A%20%7B%22zone_id%22%3A%20%2225%22%7D%2C%20%22type%22%3A%20%22Feature%22%7D%2C%20%7B%22geometry%22%3A%20%7B%22coordinates%22%3A%20%5B%5B%5B-74.08441639999998%2C%2040.5819166%5D%2C%20%5B-74.05842379999999%2C%2040.5819166%5D%2C%20%5B-74.05842379999999%2C%2040.5990952%5D%2C%20%5B-74.08441639999998%2C%2040.5990952%5D%2C%20%5B-74.08441639999998%2C%2040.5819166%5D%5D%5D%2C%20%22type%22%3A%20%22Polygon%22%7D%2C%20%22properties%22%3A%20%7B%22zone_id%22%3A%20%2226%22%7D%2C%20%22type%22%3A%20%22Feature%22%7D%2C%20%7B%22geometry%22%3A%20%7B%22coordinates%22%3A%20%5B%5B%5B-74.05842379999999%2C%2040.5819166%5D%2C%20%5B-74.03243119999999%2C%2040.5819166%5D%2C%20%5B-74.03243119999999%2C%2040.5990952%5D%2C%20%5B-74.05842379999999%2C%2040.5990952%5D%2C%20%5B-74.05842379999999%2C%2040.5819166%5D%5D%5D%2C%20%22type%22%3A%20%22Polygon%22%7D%2C%20%22properties%22%3A%20%7B%22zone_id%22%3A%20%2227%22%7D%2C%20%22type%22%3A%20%22Feature%22%7D%2C%20%7B%22geometry%22%3A%20%7B%22coordinates%22%3A%20%5B%5B%5B-74.03243119999999%2C%2040.5819166%5D%2C%20%5B-74.00643859999998%2C%2040.5819166%5D%2C%20%5B-74.00643859999998%2C%2040.5990952%5D%2C%20%5B-74.03243119999999%2C%2040.5990952%5D%2C%20%5B-74.03243119999999%2C%2040.5819166%5D%5D%5D%2C%20%22type%22%3A%20%22Polygon%22%7D%2C%20%22properties%22%3A%20%7B%22zone_id%22%3A%20%2228%22%7D%2C%20%22type%22%3A%20%22Feature%22%7D%2C%20%7B%22geometry%22%3A%20%7B%22coordinates%22%3A%20%5B%5B%5B-74.00643859999998%2C%2040.5819166%5D%2C%20%5B-73.98044599999999%2C%2040.5819166%5D%2C%20%5B-73.98044599999999%2C%2040.5990952%5D%2C%20%5B-74.00643859999998%2C%2040.5990952%5D%2C%20%5B-74.00643859999998%2C%2040.5819166%5D%5D%5D%2C%20%22type%22%3A%20%22Polygon%22%7D%2C%20%22properties%22%3A%20%7B%22zone_id%22%3A%20%2229%22%7D%2C%20%22type%22%3A%20%22Feature%22%7D%2C%20%7B%22geometry%22%3A%20%7B%22coordinates%22%3A%20%5B%5B%5B-73.98044599999999%2C%2040.5819166%5D%2C%20%5B-73.95445339999999%2C%2040.5819166%5D%2C%20%5B-73.95445339999999%2C%2040.5990952%5D%2C%20%5B-73.98044599999999%2C%2040.5990952%5D%2C%20%5B-73.98044599999999%2C%2040.5819166%5D%5D%5D%2C%20%22type%22%3A%20%22Polygon%22%7D%2C%20%22properties%22%3A%20%7B%22zone_id%22%3A%20%2230%22%7D%2C%20%22type%22%3A%20%22Feature%22%7D%2C%20%7B%22geometry%22%3A%20%7B%22coordinates%22%3A%20%5B%5B%5B-73.95445339999999%2C%2040.5819166%5D%2C%20%5B-73.92846079999998%2C%2040.5819166%5D%2C%20%5B-73.92846079999998%2C%2040.5990952%5D%2C%20%5B-73.95445339999999%2C%2040.5990952%5D%2C%20%5B-73.95445339999999%2C%2040.5819166%5D%5D%5D%2C%20%22type%22%3A%20%22Polygon%22%7D%2C%20%22properties%22%3A%20%7B%22zone_id%22%3A%20%2231%22%7D%2C%20%22type%22%3A%20%22Feature%22%7D%2C%20%7B%22geometry%22%3A%20%7B%22coordinates%22%3A%20%5B%5B%5B-73.92846079999998%2C%2040.5819166%5D%2C%20%5B-73.90246819999999%2C%2040.5819166%5D%2C%20%5B-73.90246819999999%2C%2040.5990952%5D%2C%20%5B-73.92846079999998%2C%2040.5990952%5D%2C%20%5B-73.92846079999998%2C%2040.5819166%5D%5D%5D%2C%20%22type%22%3A%20%22Polygon%22%7D%2C%20%22properties%22%3A%20%7B%22zone_id%22%3A%20%2232%22%7D%2C%20%22type%22%3A%20%22Feature%22%7D%2C%20%7B%22geometry%22%3A%20%7B%22coordinates%22%3A%20%5B%5B%5B-73.90246819999999%2C%2040.5819166%5D%2C%20%5B-73.87647559999999%2C%2040.5819166%5D%2C%20%5B-73.87647559999999%2C%2040.5990952%5D%2C%20%5B-73.90246819999999%2C%2040.5990952%5D%2C%20%5B-73.90246819999999%2C%2040.5819166%5D%5D%5D%2C%20%22type%22%3A%20%22Polygon%22%7D%2C%20%22properties%22%3A%20%7B%22zone_id%22%3A%20%2233%22%7D%2C%20%22type%22%3A%20%22Feature%22%7D%2C%20%7B%22geometry%22%3A%20%7B%22coordinates%22%3A%20%5B%5B%5B-73.87647559999999%2C%2040.5819166%5D%2C%20%5B-73.850483%2C%2040.5819166%5D%2C%20%5B-73.850483%2C%2040.5990952%5D%2C%20%5B-73.87647559999999%2C%2040.5990952%5D%2C%20%5B-73.87647559999999%2C%2040.5819166%5D%5D%5D%2C%20%22type%22%3A%20%22Polygon%22%7D%2C%20%22properties%22%3A%20%7B%22zone_id%22%3A%20%2234%22%7D%2C%20%22type%22%3A%20%22Feature%22%7D%2C%20%7B%22geometry%22%3A%20%7B%22coordinates%22%3A%20%5B%5B%5B-73.850483%2C%2040.5819166%5D%2C%20%5B-73.82449039999999%2C%2040.5819166%5D%2C%20%5B-73.82449039999999%2C%2040.5990952%5D%2C%20%5B-73.850483%2C%2040.5990952%5D%2C%20%5B-73.850483%2C%2040.5819166%5D%5D%5D%2C%20%22type%22%3A%20%22Polygon%22%7D%2C%20%22properties%22%3A%20%7B%22zone_id%22%3A%20%2235%22%7D%2C%20%22type%22%3A%20%22Feature%22%7D%2C%20%7B%22geometry%22%3A%20%7B%22coordinates%22%3A%20%5B%5B%5B-73.82449039999999%2C%2040.5819166%5D%2C%20%5B-73.79849779999999%2C%2040.5819166%5D%2C%20%5B-73.79849779999999%2C%2040.5990952%5D%2C%20%5B-73.82449039999999%2C%2040.5990952%5D%2C%20%5B-73.82449039999999%2C%2040.5819166%5D%5D%5D%2C%20%22type%22%3A%20%22Polygon%22%7D%2C%20%22properties%22%3A%20%7B%22zone_id%22%3A%20%2236%22%7D%2C%20%22type%22%3A%20%22Feature%22%7D%2C%20%7B%22geometry%22%3A%20%7B%22coordinates%22%3A%20%5B%5B%5B-73.79849779999999%2C%2040.5819166%5D%2C%20%5B-73.7725052%2C%2040.5819166%5D%2C%20%5B-73.7725052%2C%2040.5990952%5D%2C%20%5B-73.79849779999999%2C%2040.5990952%5D%2C%20%5B-73.79849779999999%2C%2040.5819166%5D%5D%5D%2C%20%22type%22%3A%20%22Polygon%22%7D%2C%20%22properties%22%3A%20%7B%22zone_id%22%3A%20%2237%22%7D%2C%20%22type%22%3A%20%22Feature%22%7D%2C%20%7B%22geometry%22%3A%20%7B%22coordinates%22%3A%20%5B%5B%5B-73.7725052%2C%2040.5819166%5D%2C%20%5B-73.74651259999999%2C%2040.5819166%5D%2C%20%5B-73.74651259999999%2C%2040.5990952%5D%2C%20%5B-73.7725052%2C%2040.5990952%5D%2C%20%5B-73.7725052%2C%2040.5819166%5D%5D%5D%2C%20%22type%22%3A%20%22Polygon%22%7D%2C%20%22properties%22%3A%20%7B%22zone_id%22%3A%20%2238%22%7D%2C%20%22type%22%3A%20%22Feature%22%7D%2C%20%7B%22geometry%22%3A%20%7B%22coordinates%22%3A%20%5B%5B%5B-73.74651259999999%2C%2040.5819166%5D%2C%20%5B-73.72052%2C%2040.5819166%5D%2C%20%5B-73.72052%2C%2040.5990952%5D%2C%20%5B-73.74651259999999%2C%2040.5990952%5D%2C%20%5B-73.74651259999999%2C%2040.5819166%5D%5D%5D%2C%20%22type%22%3A%20%22Polygon%22%7D%2C%20%22properties%22%3A%20%7B%22zone_id%22%3A%20%2239%22%7D%2C%20%22type%22%3A%20%22Feature%22%7D%2C%20%7B%22geometry%22%3A%20%7B%22coordinates%22%3A%20%5B%5B%5B-74.24037199999998%2C%2040.5990952%5D%2C%20%5B-74.21437939999998%2C%2040.5990952%5D%2C%20%5B-74.21437939999998%2C%2040.6162738%5D%2C%20%5B-74.24037199999998%2C%2040.6162738%5D%2C%20%5B-74.24037199999998%2C%2040.5990952%5D%5D%5D%2C%20%22type%22%3A%20%22Polygon%22%7D%2C%20%22properties%22%3A%20%7B%22zone_id%22%3A%20%2240%22%7D%2C%20%22type%22%3A%20%22Feature%22%7D%2C%20%7B%22geometry%22%3A%20%7B%22coordinates%22%3A%20%5B%5B%5B-74.21437939999998%2C%2040.5990952%5D%2C%20%5B-74.18838679999998%2C%2040.5990952%5D%2C%20%5B-74.18838679999998%2C%2040.6162738%5D%2C%20%5B-74.21437939999998%2C%2040.6162738%5D%2C%20%5B-74.21437939999998%2C%2040.5990952%5D%5D%5D%2C%20%22type%22%3A%20%22Polygon%22%7D%2C%20%22properties%22%3A%20%7B%22zone_id%22%3A%20%2241%22%7D%2C%20%22type%22%3A%20%22Feature%22%7D%2C%20%7B%22geometry%22%3A%20%7B%22coordinates%22%3A%20%5B%5B%5B-74.18838679999998%2C%2040.5990952%5D%2C%20%5B-74.16239419999998%2C%2040.5990952%5D%2C%20%5B-74.16239419999998%2C%2040.6162738%5D%2C%20%5B-74.18838679999998%2C%2040.6162738%5D%2C%20%5B-74.18838679999998%2C%2040.5990952%5D%5D%5D%2C%20%22type%22%3A%20%22Polygon%22%7D%2C%20%22properties%22%3A%20%7B%22zone_id%22%3A%20%2242%22%7D%2C%20%22type%22%3A%20%22Feature%22%7D%2C%20%7B%22geometry%22%3A%20%7B%22coordinates%22%3A%20%5B%5B%5B-74.16239419999998%2C%2040.5990952%5D%2C%20%5B-74.13640159999999%2C%2040.5990952%5D%2C%20%5B-74.13640159999999%2C%2040.6162738%5D%2C%20%5B-74.16239419999998%2C%2040.6162738%5D%2C%20%5B-74.16239419999998%2C%2040.5990952%5D%5D%5D%2C%20%22type%22%3A%20%22Polygon%22%7D%2C%20%22properties%22%3A%20%7B%22zone_id%22%3A%20%2243%22%7D%2C%20%22type%22%3A%20%22Feature%22%7D%2C%20%7B%22geometry%22%3A%20%7B%22coordinates%22%3A%20%5B%5B%5B-74.13640159999999%2C%2040.5990952%5D%2C%20%5B-74.11040899999998%2C%2040.5990952%5D%2C%20%5B-74.11040899999998%2C%2040.6162738%5D%2C%20%5B-74.13640159999999%2C%2040.6162738%5D%2C%20%5B-74.13640159999999%2C%2040.5990952%5D%5D%5D%2C%20%22type%22%3A%20%22Polygon%22%7D%2C%20%22properties%22%3A%20%7B%22zone_id%22%3A%20%2244%22%7D%2C%20%22type%22%3A%20%22Feature%22%7D%2C%20%7B%22geometry%22%3A%20%7B%22coordinates%22%3A%20%5B%5B%5B-74.11040899999998%2C%2040.5990952%5D%2C%20%5B-74.08441639999998%2C%2040.5990952%5D%2C%20%5B-74.08441639999998%2C%2040.6162738%5D%2C%20%5B-74.11040899999998%2C%2040.6162738%5D%2C%20%5B-74.11040899999998%2C%2040.5990952%5D%5D%5D%2C%20%22type%22%3A%20%22Polygon%22%7D%2C%20%22properties%22%3A%20%7B%22zone_id%22%3A%20%2245%22%7D%2C%20%22type%22%3A%20%22Feature%22%7D%2C%20%7B%22geometry%22%3A%20%7B%22coordinates%22%3A%20%5B%5B%5B-74.08441639999998%2C%2040.5990952%5D%2C%20%5B-74.05842379999999%2C%2040.5990952%5D%2C%20%5B-74.05842379999999%2C%2040.6162738%5D%2C%20%5B-74.08441639999998%2C%2040.6162738%5D%2C%20%5B-74.08441639999998%2C%2040.5990952%5D%5D%5D%2C%20%22type%22%3A%20%22Polygon%22%7D%2C%20%22properties%22%3A%20%7B%22zone_id%22%3A%20%2246%22%7D%2C%20%22type%22%3A%20%22Feature%22%7D%2C%20%7B%22geometry%22%3A%20%7B%22coordinates%22%3A%20%5B%5B%5B-74.05842379999999%2C%2040.5990952%5D%2C%20%5B-74.03243119999999%2C%2040.5990952%5D%2C%20%5B-74.03243119999999%2C%2040.6162738%5D%2C%20%5B-74.05842379999999%2C%2040.6162738%5D%2C%20%5B-74.05842379999999%2C%2040.5990952%5D%5D%5D%2C%20%22type%22%3A%20%22Polygon%22%7D%2C%20%22properties%22%3A%20%7B%22zone_id%22%3A%20%2247%22%7D%2C%20%22type%22%3A%20%22Feature%22%7D%2C%20%7B%22geometry%22%3A%20%7B%22coordinates%22%3A%20%5B%5B%5B-74.03243119999999%2C%2040.5990952%5D%2C%20%5B-74.00643859999998%2C%2040.5990952%5D%2C%20%5B-74.00643859999998%2C%2040.6162738%5D%2C%20%5B-74.03243119999999%2C%2040.6162738%5D%2C%20%5B-74.03243119999999%2C%2040.5990952%5D%5D%5D%2C%20%22type%22%3A%20%22Polygon%22%7D%2C%20%22properties%22%3A%20%7B%22zone_id%22%3A%20%2248%22%7D%2C%20%22type%22%3A%20%22Feature%22%7D%2C%20%7B%22geometry%22%3A%20%7B%22coordinates%22%3A%20%5B%5B%5B-74.00643859999998%2C%2040.5990952%5D%2C%20%5B-73.98044599999999%2C%2040.5990952%5D%2C%20%5B-73.98044599999999%2C%2040.6162738%5D%2C%20%5B-74.00643859999998%2C%2040.6162738%5D%2C%20%5B-74.00643859999998%2C%2040.5990952%5D%5D%5D%2C%20%22type%22%3A%20%22Polygon%22%7D%2C%20%22properties%22%3A%20%7B%22zone_id%22%3A%20%2249%22%7D%2C%20%22type%22%3A%20%22Feature%22%7D%2C%20%7B%22geometry%22%3A%20%7B%22coordinates%22%3A%20%5B%5B%5B-73.98044599999999%2C%2040.5990952%5D%2C%20%5B-73.95445339999999%2C%2040.5990952%5D%2C%20%5B-73.95445339999999%2C%2040.6162738%5D%2C%20%5B-73.98044599999999%2C%2040.6162738%5D%2C%20%5B-73.98044599999999%2C%2040.5990952%5D%5D%5D%2C%20%22type%22%3A%20%22Polygon%22%7D%2C%20%22properties%22%3A%20%7B%22zone_id%22%3A%20%2250%22%7D%2C%20%22type%22%3A%20%22Feature%22%7D%2C%20%7B%22geometry%22%3A%20%7B%22coordinates%22%3A%20%5B%5B%5B-73.95445339999999%2C%2040.5990952%5D%2C%20%5B-73.92846079999998%2C%2040.5990952%5D%2C%20%5B-73.92846079999998%2C%2040.6162738%5D%2C%20%5B-73.95445339999999%2C%2040.6162738%5D%2C%20%5B-73.95445339999999%2C%2040.5990952%5D%5D%5D%2C%20%22type%22%3A%20%22Polygon%22%7D%2C%20%22properties%22%3A%20%7B%22zone_id%22%3A%20%2251%22%7D%2C%20%22type%22%3A%20%22Feature%22%7D%2C%20%7B%22geometry%22%3A%20%7B%22coordinates%22%3A%20%5B%5B%5B-73.92846079999998%2C%2040.5990952%5D%2C%20%5B-73.90246819999999%2C%2040.5990952%5D%2C%20%5B-73.90246819999999%2C%2040.6162738%5D%2C%20%5B-73.92846079999998%2C%2040.6162738%5D%2C%20%5B-73.92846079999998%2C%2040.5990952%5D%5D%5D%2C%20%22type%22%3A%20%22Polygon%22%7D%2C%20%22properties%22%3A%20%7B%22zone_id%22%3A%20%2252%22%7D%2C%20%22type%22%3A%20%22Feature%22%7D%2C%20%7B%22geometry%22%3A%20%7B%22coordinates%22%3A%20%5B%5B%5B-73.90246819999999%2C%2040.5990952%5D%2C%20%5B-73.87647559999999%2C%2040.5990952%5D%2C%20%5B-73.87647559999999%2C%2040.6162738%5D%2C%20%5B-73.90246819999999%2C%2040.6162738%5D%2C%20%5B-73.90246819999999%2C%2040.5990952%5D%5D%5D%2C%20%22type%22%3A%20%22Polygon%22%7D%2C%20%22properties%22%3A%20%7B%22zone_id%22%3A%20%2253%22%7D%2C%20%22type%22%3A%20%22Feature%22%7D%2C%20%7B%22geometry%22%3A%20%7B%22coordinates%22%3A%20%5B%5B%5B-73.87647559999999%2C%2040.5990952%5D%2C%20%5B-73.850483%2C%2040.5990952%5D%2C%20%5B-73.850483%2C%2040.6162738%5D%2C%20%5B-73.87647559999999%2C%2040.6162738%5D%2C%20%5B-73.87647559999999%2C%2040.5990952%5D%5D%5D%2C%20%22type%22%3A%20%22Polygon%22%7D%2C%20%22properties%22%3A%20%7B%22zone_id%22%3A%20%2254%22%7D%2C%20%22type%22%3A%20%22Feature%22%7D%2C%20%7B%22geometry%22%3A%20%7B%22coordinates%22%3A%20%5B%5B%5B-73.850483%2C%2040.5990952%5D%2C%20%5B-73.82449039999999%2C%2040.5990952%5D%2C%20%5B-73.82449039999999%2C%2040.6162738%5D%2C%20%5B-73.850483%2C%2040.6162738%5D%2C%20%5B-73.850483%2C%2040.5990952%5D%5D%5D%2C%20%22type%22%3A%20%22Polygon%22%7D%2C%20%22properties%22%3A%20%7B%22zone_id%22%3A%20%2255%22%7D%2C%20%22type%22%3A%20%22Feature%22%7D%2C%20%7B%22geometry%22%3A%20%7B%22coordinates%22%3A%20%5B%5B%5B-73.82449039999999%2C%2040.5990952%5D%2C%20%5B-73.79849779999999%2C%2040.5990952%5D%2C%20%5B-73.79849779999999%2C%2040.6162738%5D%2C%20%5B-73.82449039999999%2C%2040.6162738%5D%2C%20%5B-73.82449039999999%2C%2040.5990952%5D%5D%5D%2C%20%22type%22%3A%20%22Polygon%22%7D%2C%20%22properties%22%3A%20%7B%22zone_id%22%3A%20%2256%22%7D%2C%20%22type%22%3A%20%22Feature%22%7D%2C%20%7B%22geometry%22%3A%20%7B%22coordinates%22%3A%20%5B%5B%5B-73.79849779999999%2C%2040.5990952%5D%2C%20%5B-73.7725052%2C%2040.5990952%5D%2C%20%5B-73.7725052%2C%2040.6162738%5D%2C%20%5B-73.79849779999999%2C%2040.6162738%5D%2C%20%5B-73.79849779999999%2C%2040.5990952%5D%5D%5D%2C%20%22type%22%3A%20%22Polygon%22%7D%2C%20%22properties%22%3A%20%7B%22zone_id%22%3A%20%2257%22%7D%2C%20%22type%22%3A%20%22Feature%22%7D%2C%20%7B%22geometry%22%3A%20%7B%22coordinates%22%3A%20%5B%5B%5B-73.7725052%2C%2040.5990952%5D%2C%20%5B-73.74651259999999%2C%2040.5990952%5D%2C%20%5B-73.74651259999999%2C%2040.6162738%5D%2C%20%5B-73.7725052%2C%2040.6162738%5D%2C%20%5B-73.7725052%2C%2040.5990952%5D%5D%5D%2C%20%22type%22%3A%20%22Polygon%22%7D%2C%20%22properties%22%3A%20%7B%22zone_id%22%3A%20%2258%22%7D%2C%20%22type%22%3A%20%22Feature%22%7D%2C%20%7B%22geometry%22%3A%20%7B%22coordinates%22%3A%20%5B%5B%5B-73.74651259999999%2C%2040.5990952%5D%2C%20%5B-73.72052%2C%2040.5990952%5D%2C%20%5B-73.72052%2C%2040.6162738%5D%2C%20%5B-73.74651259999999%2C%2040.6162738%5D%2C%20%5B-73.74651259999999%2C%2040.5990952%5D%5D%5D%2C%20%22type%22%3A%20%22Polygon%22%7D%2C%20%22properties%22%3A%20%7B%22zone_id%22%3A%20%2259%22%7D%2C%20%22type%22%3A%20%22Feature%22%7D%2C%20%7B%22geometry%22%3A%20%7B%22coordinates%22%3A%20%5B%5B%5B-74.24037199999998%2C%2040.6162738%5D%2C%20%5B-74.21437939999998%2C%2040.6162738%5D%2C%20%5B-74.21437939999998%2C%2040.633452399999996%5D%2C%20%5B-74.24037199999998%2C%2040.633452399999996%5D%2C%20%5B-74.24037199999998%2C%2040.6162738%5D%5D%5D%2C%20%22type%22%3A%20%22Polygon%22%7D%2C%20%22properties%22%3A%20%7B%22zone_id%22%3A%20%2260%22%7D%2C%20%22type%22%3A%20%22Feature%22%7D%2C%20%7B%22geometry%22%3A%20%7B%22coordinates%22%3A%20%5B%5B%5B-74.21437939999998%2C%2040.6162738%5D%2C%20%5B-74.18838679999998%2C%2040.6162738%5D%2C%20%5B-74.18838679999998%2C%2040.633452399999996%5D%2C%20%5B-74.21437939999998%2C%2040.633452399999996%5D%2C%20%5B-74.21437939999998%2C%2040.6162738%5D%5D%5D%2C%20%22type%22%3A%20%22Polygon%22%7D%2C%20%22properties%22%3A%20%7B%22zone_id%22%3A%20%2261%22%7D%2C%20%22type%22%3A%20%22Feature%22%7D%2C%20%7B%22geometry%22%3A%20%7B%22coordinates%22%3A%20%5B%5B%5B-74.18838679999998%2C%2040.6162738%5D%2C%20%5B-74.16239419999998%2C%2040.6162738%5D%2C%20%5B-74.16239419999998%2C%2040.633452399999996%5D%2C%20%5B-74.18838679999998%2C%2040.633452399999996%5D%2C%20%5B-74.18838679999998%2C%2040.6162738%5D%5D%5D%2C%20%22type%22%3A%20%22Polygon%22%7D%2C%20%22properties%22%3A%20%7B%22zone_id%22%3A%20%2262%22%7D%2C%20%22type%22%3A%20%22Feature%22%7D%2C%20%7B%22geometry%22%3A%20%7B%22coordinates%22%3A%20%5B%5B%5B-74.16239419999998%2C%2040.6162738%5D%2C%20%5B-74.13640159999999%2C%2040.6162738%5D%2C%20%5B-74.13640159999999%2C%2040.633452399999996%5D%2C%20%5B-74.16239419999998%2C%2040.633452399999996%5D%2C%20%5B-74.16239419999998%2C%2040.6162738%5D%5D%5D%2C%20%22type%22%3A%20%22Polygon%22%7D%2C%20%22properties%22%3A%20%7B%22zone_id%22%3A%20%2263%22%7D%2C%20%22type%22%3A%20%22Feature%22%7D%2C%20%7B%22geometry%22%3A%20%7B%22coordinates%22%3A%20%5B%5B%5B-74.13640159999999%2C%2040.6162738%5D%2C%20%5B-74.11040899999998%2C%2040.6162738%5D%2C%20%5B-74.11040899999998%2C%2040.633452399999996%5D%2C%20%5B-74.13640159999999%2C%2040.633452399999996%5D%2C%20%5B-74.13640159999999%2C%2040.6162738%5D%5D%5D%2C%20%22type%22%3A%20%22Polygon%22%7D%2C%20%22properties%22%3A%20%7B%22zone_id%22%3A%20%2264%22%7D%2C%20%22type%22%3A%20%22Feature%22%7D%2C%20%7B%22geometry%22%3A%20%7B%22coordinates%22%3A%20%5B%5B%5B-74.11040899999998%2C%2040.6162738%5D%2C%20%5B-74.08441639999998%2C%2040.6162738%5D%2C%20%5B-74.08441639999998%2C%2040.633452399999996%5D%2C%20%5B-74.11040899999998%2C%2040.633452399999996%5D%2C%20%5B-74.11040899999998%2C%2040.6162738%5D%5D%5D%2C%20%22type%22%3A%20%22Polygon%22%7D%2C%20%22properties%22%3A%20%7B%22zone_id%22%3A%20%2265%22%7D%2C%20%22type%22%3A%20%22Feature%22%7D%2C%20%7B%22geometry%22%3A%20%7B%22coordinates%22%3A%20%5B%5B%5B-74.08441639999998%2C%2040.6162738%5D%2C%20%5B-74.05842379999999%2C%2040.6162738%5D%2C%20%5B-74.05842379999999%2C%2040.633452399999996%5D%2C%20%5B-74.08441639999998%2C%2040.633452399999996%5D%2C%20%5B-74.08441639999998%2C%2040.6162738%5D%5D%5D%2C%20%22type%22%3A%20%22Polygon%22%7D%2C%20%22properties%22%3A%20%7B%22zone_id%22%3A%20%2266%22%7D%2C%20%22type%22%3A%20%22Feature%22%7D%2C%20%7B%22geometry%22%3A%20%7B%22coordinates%22%3A%20%5B%5B%5B-74.05842379999999%2C%2040.6162738%5D%2C%20%5B-74.03243119999999%2C%2040.6162738%5D%2C%20%5B-74.03243119999999%2C%2040.633452399999996%5D%2C%20%5B-74.05842379999999%2C%2040.633452399999996%5D%2C%20%5B-74.05842379999999%2C%2040.6162738%5D%5D%5D%2C%20%22type%22%3A%20%22Polygon%22%7D%2C%20%22properties%22%3A%20%7B%22zone_id%22%3A%20%2267%22%7D%2C%20%22type%22%3A%20%22Feature%22%7D%2C%20%7B%22geometry%22%3A%20%7B%22coordinates%22%3A%20%5B%5B%5B-74.03243119999999%2C%2040.6162738%5D%2C%20%5B-74.00643859999998%2C%2040.6162738%5D%2C%20%5B-74.00643859999998%2C%2040.633452399999996%5D%2C%20%5B-74.03243119999999%2C%2040.633452399999996%5D%2C%20%5B-74.03243119999999%2C%2040.6162738%5D%5D%5D%2C%20%22type%22%3A%20%22Polygon%22%7D%2C%20%22properties%22%3A%20%7B%22zone_id%22%3A%20%2268%22%7D%2C%20%22type%22%3A%20%22Feature%22%7D%2C%20%7B%22geometry%22%3A%20%7B%22coordinates%22%3A%20%5B%5B%5B-74.00643859999998%2C%2040.6162738%5D%2C%20%5B-73.98044599999999%2C%2040.6162738%5D%2C%20%5B-73.98044599999999%2C%2040.633452399999996%5D%2C%20%5B-74.00643859999998%2C%2040.633452399999996%5D%2C%20%5B-74.00643859999998%2C%2040.6162738%5D%5D%5D%2C%20%22type%22%3A%20%22Polygon%22%7D%2C%20%22properties%22%3A%20%7B%22zone_id%22%3A%20%2269%22%7D%2C%20%22type%22%3A%20%22Feature%22%7D%2C%20%7B%22geometry%22%3A%20%7B%22coordinates%22%3A%20%5B%5B%5B-73.98044599999999%2C%2040.6162738%5D%2C%20%5B-73.95445339999999%2C%2040.6162738%5D%2C%20%5B-73.95445339999999%2C%2040.633452399999996%5D%2C%20%5B-73.98044599999999%2C%2040.633452399999996%5D%2C%20%5B-73.98044599999999%2C%2040.6162738%5D%5D%5D%2C%20%22type%22%3A%20%22Polygon%22%7D%2C%20%22properties%22%3A%20%7B%22zone_id%22%3A%20%2270%22%7D%2C%20%22type%22%3A%20%22Feature%22%7D%2C%20%7B%22geometry%22%3A%20%7B%22coordinates%22%3A%20%5B%5B%5B-73.95445339999999%2C%2040.6162738%5D%2C%20%5B-73.92846079999998%2C%2040.6162738%5D%2C%20%5B-73.92846079999998%2C%2040.633452399999996%5D%2C%20%5B-73.95445339999999%2C%2040.633452399999996%5D%2C%20%5B-73.95445339999999%2C%2040.6162738%5D%5D%5D%2C%20%22type%22%3A%20%22Polygon%22%7D%2C%20%22properties%22%3A%20%7B%22zone_id%22%3A%20%2271%22%7D%2C%20%22type%22%3A%20%22Feature%22%7D%2C%20%7B%22geometry%22%3A%20%7B%22coordinates%22%3A%20%5B%5B%5B-73.92846079999998%2C%2040.6162738%5D%2C%20%5B-73.90246819999999%2C%2040.6162738%5D%2C%20%5B-73.90246819999999%2C%2040.633452399999996%5D%2C%20%5B-73.92846079999998%2C%2040.633452399999996%5D%2C%20%5B-73.92846079999998%2C%2040.6162738%5D%5D%5D%2C%20%22type%22%3A%20%22Polygon%22%7D%2C%20%22properties%22%3A%20%7B%22zone_id%22%3A%20%2272%22%7D%2C%20%22type%22%3A%20%22Feature%22%7D%2C%20%7B%22geometry%22%3A%20%7B%22coordinates%22%3A%20%5B%5B%5B-73.90246819999999%2C%2040.6162738%5D%2C%20%5B-73.87647559999999%2C%2040.6162738%5D%2C%20%5B-73.87647559999999%2C%2040.633452399999996%5D%2C%20%5B-73.90246819999999%2C%2040.633452399999996%5D%2C%20%5B-73.90246819999999%2C%2040.6162738%5D%5D%5D%2C%20%22type%22%3A%20%22Polygon%22%7D%2C%20%22properties%22%3A%20%7B%22zone_id%22%3A%20%2273%22%7D%2C%20%22type%22%3A%20%22Feature%22%7D%2C%20%7B%22geometry%22%3A%20%7B%22coordinates%22%3A%20%5B%5B%5B-73.87647559999999%2C%2040.6162738%5D%2C%20%5B-73.850483%2C%2040.6162738%5D%2C%20%5B-73.850483%2C%2040.633452399999996%5D%2C%20%5B-73.87647559999999%2C%2040.633452399999996%5D%2C%20%5B-73.87647559999999%2C%2040.6162738%5D%5D%5D%2C%20%22type%22%3A%20%22Polygon%22%7D%2C%20%22properties%22%3A%20%7B%22zone_id%22%3A%20%2274%22%7D%2C%20%22type%22%3A%20%22Feature%22%7D%2C%20%7B%22geometry%22%3A%20%7B%22coordinates%22%3A%20%5B%5B%5B-73.850483%2C%2040.6162738%5D%2C%20%5B-73.82449039999999%2C%2040.6162738%5D%2C%20%5B-73.82449039999999%2C%2040.633452399999996%5D%2C%20%5B-73.850483%2C%2040.633452399999996%5D%2C%20%5B-73.850483%2C%2040.6162738%5D%5D%5D%2C%20%22type%22%3A%20%22Polygon%22%7D%2C%20%22properties%22%3A%20%7B%22zone_id%22%3A%20%2275%22%7D%2C%20%22type%22%3A%20%22Feature%22%7D%2C%20%7B%22geometry%22%3A%20%7B%22coordinates%22%3A%20%5B%5B%5B-73.82449039999999%2C%2040.6162738%5D%2C%20%5B-73.79849779999999%2C%2040.6162738%5D%2C%20%5B-73.79849779999999%2C%2040.633452399999996%5D%2C%20%5B-73.82449039999999%2C%2040.633452399999996%5D%2C%20%5B-73.82449039999999%2C%2040.6162738%5D%5D%5D%2C%20%22type%22%3A%20%22Polygon%22%7D%2C%20%22properties%22%3A%20%7B%22zone_id%22%3A%20%2276%22%7D%2C%20%22type%22%3A%20%22Feature%22%7D%2C%20%7B%22geometry%22%3A%20%7B%22coordinates%22%3A%20%5B%5B%5B-73.79849779999999%2C%2040.6162738%5D%2C%20%5B-73.7725052%2C%2040.6162738%5D%2C%20%5B-73.7725052%2C%2040.633452399999996%5D%2C%20%5B-73.79849779999999%2C%2040.633452399999996%5D%2C%20%5B-73.79849779999999%2C%2040.6162738%5D%5D%5D%2C%20%22type%22%3A%20%22Polygon%22%7D%2C%20%22properties%22%3A%20%7B%22zone_id%22%3A%20%2277%22%7D%2C%20%22type%22%3A%20%22Feature%22%7D%2C%20%7B%22geometry%22%3A%20%7B%22coordinates%22%3A%20%5B%5B%5B-73.7725052%2C%2040.6162738%5D%2C%20%5B-73.74651259999999%2C%2040.6162738%5D%2C%20%5B-73.74651259999999%2C%2040.633452399999996%5D%2C%20%5B-73.7725052%2C%2040.633452399999996%5D%2C%20%5B-73.7725052%2C%2040.6162738%5D%5D%5D%2C%20%22type%22%3A%20%22Polygon%22%7D%2C%20%22properties%22%3A%20%7B%22zone_id%22%3A%20%2278%22%7D%2C%20%22type%22%3A%20%22Feature%22%7D%2C%20%7B%22geometry%22%3A%20%7B%22coordinates%22%3A%20%5B%5B%5B-73.74651259999999%2C%2040.6162738%5D%2C%20%5B-73.72052%2C%2040.6162738%5D%2C%20%5B-73.72052%2C%2040.633452399999996%5D%2C%20%5B-73.74651259999999%2C%2040.633452399999996%5D%2C%20%5B-73.74651259999999%2C%2040.6162738%5D%5D%5D%2C%20%22type%22%3A%20%22Polygon%22%7D%2C%20%22properties%22%3A%20%7B%22zone_id%22%3A%20%2279%22%7D%2C%20%22type%22%3A%20%22Feature%22%7D%2C%20%7B%22geometry%22%3A%20%7B%22coordinates%22%3A%20%5B%5B%5B-74.24037199999998%2C%2040.633452399999996%5D%2C%20%5B-74.21437939999998%2C%2040.633452399999996%5D%2C%20%5B-74.21437939999998%2C%2040.650631%5D%2C%20%5B-74.24037199999998%2C%2040.650631%5D%2C%20%5B-74.24037199999998%2C%2040.633452399999996%5D%5D%5D%2C%20%22type%22%3A%20%22Polygon%22%7D%2C%20%22properties%22%3A%20%7B%22zone_id%22%3A%20%2280%22%7D%2C%20%22type%22%3A%20%22Feature%22%7D%2C%20%7B%22geometry%22%3A%20%7B%22coordinates%22%3A%20%5B%5B%5B-74.21437939999998%2C%2040.633452399999996%5D%2C%20%5B-74.18838679999998%2C%2040.633452399999996%5D%2C%20%5B-74.18838679999998%2C%2040.650631%5D%2C%20%5B-74.21437939999998%2C%2040.650631%5D%2C%20%5B-74.21437939999998%2C%2040.633452399999996%5D%5D%5D%2C%20%22type%22%3A%20%22Polygon%22%7D%2C%20%22properties%22%3A%20%7B%22zone_id%22%3A%20%2281%22%7D%2C%20%22type%22%3A%20%22Feature%22%7D%2C%20%7B%22geometry%22%3A%20%7B%22coordinates%22%3A%20%5B%5B%5B-74.18838679999998%2C%2040.633452399999996%5D%2C%20%5B-74.16239419999998%2C%2040.633452399999996%5D%2C%20%5B-74.16239419999998%2C%2040.650631%5D%2C%20%5B-74.18838679999998%2C%2040.650631%5D%2C%20%5B-74.18838679999998%2C%2040.633452399999996%5D%5D%5D%2C%20%22type%22%3A%20%22Polygon%22%7D%2C%20%22properties%22%3A%20%7B%22zone_id%22%3A%20%2282%22%7D%2C%20%22type%22%3A%20%22Feature%22%7D%2C%20%7B%22geometry%22%3A%20%7B%22coordinates%22%3A%20%5B%5B%5B-74.16239419999998%2C%2040.633452399999996%5D%2C%20%5B-74.13640159999999%2C%2040.633452399999996%5D%2C%20%5B-74.13640159999999%2C%2040.650631%5D%2C%20%5B-74.16239419999998%2C%2040.650631%5D%2C%20%5B-74.16239419999998%2C%2040.633452399999996%5D%5D%5D%2C%20%22type%22%3A%20%22Polygon%22%7D%2C%20%22properties%22%3A%20%7B%22zone_id%22%3A%20%2283%22%7D%2C%20%22type%22%3A%20%22Feature%22%7D%2C%20%7B%22geometry%22%3A%20%7B%22coordinates%22%3A%20%5B%5B%5B-74.13640159999999%2C%2040.633452399999996%5D%2C%20%5B-74.11040899999998%2C%2040.633452399999996%5D%2C%20%5B-74.11040899999998%2C%2040.650631%5D%2C%20%5B-74.13640159999999%2C%2040.650631%5D%2C%20%5B-74.13640159999999%2C%2040.633452399999996%5D%5D%5D%2C%20%22type%22%3A%20%22Polygon%22%7D%2C%20%22properties%22%3A%20%7B%22zone_id%22%3A%20%2284%22%7D%2C%20%22type%22%3A%20%22Feature%22%7D%2C%20%7B%22geometry%22%3A%20%7B%22coordinates%22%3A%20%5B%5B%5B-74.11040899999998%2C%2040.633452399999996%5D%2C%20%5B-74.08441639999998%2C%2040.633452399999996%5D%2C%20%5B-74.08441639999998%2C%2040.650631%5D%2C%20%5B-74.11040899999998%2C%2040.650631%5D%2C%20%5B-74.11040899999998%2C%2040.633452399999996%5D%5D%5D%2C%20%22type%22%3A%20%22Polygon%22%7D%2C%20%22properties%22%3A%20%7B%22zone_id%22%3A%20%2285%22%7D%2C%20%22type%22%3A%20%22Feature%22%7D%2C%20%7B%22geometry%22%3A%20%7B%22coordinates%22%3A%20%5B%5B%5B-74.08441639999998%2C%2040.633452399999996%5D%2C%20%5B-74.05842379999999%2C%2040.633452399999996%5D%2C%20%5B-74.05842379999999%2C%2040.650631%5D%2C%20%5B-74.08441639999998%2C%2040.650631%5D%2C%20%5B-74.08441639999998%2C%2040.633452399999996%5D%5D%5D%2C%20%22type%22%3A%20%22Polygon%22%7D%2C%20%22properties%22%3A%20%7B%22zone_id%22%3A%20%2286%22%7D%2C%20%22type%22%3A%20%22Feature%22%7D%2C%20%7B%22geometry%22%3A%20%7B%22coordinates%22%3A%20%5B%5B%5B-74.05842379999999%2C%2040.633452399999996%5D%2C%20%5B-74.03243119999999%2C%2040.633452399999996%5D%2C%20%5B-74.03243119999999%2C%2040.650631%5D%2C%20%5B-74.05842379999999%2C%2040.650631%5D%2C%20%5B-74.05842379999999%2C%2040.633452399999996%5D%5D%5D%2C%20%22type%22%3A%20%22Polygon%22%7D%2C%20%22properties%22%3A%20%7B%22zone_id%22%3A%20%2287%22%7D%2C%20%22type%22%3A%20%22Feature%22%7D%2C%20%7B%22geometry%22%3A%20%7B%22coordinates%22%3A%20%5B%5B%5B-74.03243119999999%2C%2040.633452399999996%5D%2C%20%5B-74.00643859999998%2C%2040.633452399999996%5D%2C%20%5B-74.00643859999998%2C%2040.650631%5D%2C%20%5B-74.03243119999999%2C%2040.650631%5D%2C%20%5B-74.03243119999999%2C%2040.633452399999996%5D%5D%5D%2C%20%22type%22%3A%20%22Polygon%22%7D%2C%20%22properties%22%3A%20%7B%22zone_id%22%3A%20%2288%22%7D%2C%20%22type%22%3A%20%22Feature%22%7D%2C%20%7B%22geometry%22%3A%20%7B%22coordinates%22%3A%20%5B%5B%5B-74.00643859999998%2C%2040.633452399999996%5D%2C%20%5B-73.98044599999999%2C%2040.633452399999996%5D%2C%20%5B-73.98044599999999%2C%2040.650631%5D%2C%20%5B-74.00643859999998%2C%2040.650631%5D%2C%20%5B-74.00643859999998%2C%2040.633452399999996%5D%5D%5D%2C%20%22type%22%3A%20%22Polygon%22%7D%2C%20%22properties%22%3A%20%7B%22zone_id%22%3A%20%2289%22%7D%2C%20%22type%22%3A%20%22Feature%22%7D%2C%20%7B%22geometry%22%3A%20%7B%22coordinates%22%3A%20%5B%5B%5B-73.98044599999999%2C%2040.633452399999996%5D%2C%20%5B-73.95445339999999%2C%2040.633452399999996%5D%2C%20%5B-73.95445339999999%2C%2040.650631%5D%2C%20%5B-73.98044599999999%2C%2040.650631%5D%2C%20%5B-73.98044599999999%2C%2040.633452399999996%5D%5D%5D%2C%20%22type%22%3A%20%22Polygon%22%7D%2C%20%22properties%22%3A%20%7B%22zone_id%22%3A%20%2290%22%7D%2C%20%22type%22%3A%20%22Feature%22%7D%2C%20%7B%22geometry%22%3A%20%7B%22coordinates%22%3A%20%5B%5B%5B-73.95445339999999%2C%2040.633452399999996%5D%2C%20%5B-73.92846079999998%2C%2040.633452399999996%5D%2C%20%5B-73.92846079999998%2C%2040.650631%5D%2C%20%5B-73.95445339999999%2C%2040.650631%5D%2C%20%5B-73.95445339999999%2C%2040.633452399999996%5D%5D%5D%2C%20%22type%22%3A%20%22Polygon%22%7D%2C%20%22properties%22%3A%20%7B%22zone_id%22%3A%20%2291%22%7D%2C%20%22type%22%3A%20%22Feature%22%7D%2C%20%7B%22geometry%22%3A%20%7B%22coordinates%22%3A%20%5B%5B%5B-73.92846079999998%2C%2040.633452399999996%5D%2C%20%5B-73.90246819999999%2C%2040.633452399999996%5D%2C%20%5B-73.90246819999999%2C%2040.650631%5D%2C%20%5B-73.92846079999998%2C%2040.650631%5D%2C%20%5B-73.92846079999998%2C%2040.633452399999996%5D%5D%5D%2C%20%22type%22%3A%20%22Polygon%22%7D%2C%20%22properties%22%3A%20%7B%22zone_id%22%3A%20%2292%22%7D%2C%20%22type%22%3A%20%22Feature%22%7D%2C%20%7B%22geometry%22%3A%20%7B%22coordinates%22%3A%20%5B%5B%5B-73.90246819999999%2C%2040.633452399999996%5D%2C%20%5B-73.87647559999999%2C%2040.633452399999996%5D%2C%20%5B-73.87647559999999%2C%2040.650631%5D%2C%20%5B-73.90246819999999%2C%2040.650631%5D%2C%20%5B-73.90246819999999%2C%2040.633452399999996%5D%5D%5D%2C%20%22type%22%3A%20%22Polygon%22%7D%2C%20%22properties%22%3A%20%7B%22zone_id%22%3A%20%2293%22%7D%2C%20%22type%22%3A%20%22Feature%22%7D%2C%20%7B%22geometry%22%3A%20%7B%22coordinates%22%3A%20%5B%5B%5B-73.87647559999999%2C%2040.633452399999996%5D%2C%20%5B-73.850483%2C%2040.633452399999996%5D%2C%20%5B-73.850483%2C%2040.650631%5D%2C%20%5B-73.87647559999999%2C%2040.650631%5D%2C%20%5B-73.87647559999999%2C%2040.633452399999996%5D%5D%5D%2C%20%22type%22%3A%20%22Polygon%22%7D%2C%20%22properties%22%3A%20%7B%22zone_id%22%3A%20%2294%22%7D%2C%20%22type%22%3A%20%22Feature%22%7D%2C%20%7B%22geometry%22%3A%20%7B%22coordinates%22%3A%20%5B%5B%5B-73.850483%2C%2040.633452399999996%5D%2C%20%5B-73.82449039999999%2C%2040.633452399999996%5D%2C%20%5B-73.82449039999999%2C%2040.650631%5D%2C%20%5B-73.850483%2C%2040.650631%5D%2C%20%5B-73.850483%2C%2040.633452399999996%5D%5D%5D%2C%20%22type%22%3A%20%22Polygon%22%7D%2C%20%22properties%22%3A%20%7B%22zone_id%22%3A%20%2295%22%7D%2C%20%22type%22%3A%20%22Feature%22%7D%2C%20%7B%22geometry%22%3A%20%7B%22coordinates%22%3A%20%5B%5B%5B-73.82449039999999%2C%2040.633452399999996%5D%2C%20%5B-73.79849779999999%2C%2040.633452399999996%5D%2C%20%5B-73.79849779999999%2C%2040.650631%5D%2C%20%5B-73.82449039999999%2C%2040.650631%5D%2C%20%5B-73.82449039999999%2C%2040.633452399999996%5D%5D%5D%2C%20%22type%22%3A%20%22Polygon%22%7D%2C%20%22properties%22%3A%20%7B%22zone_id%22%3A%20%2296%22%7D%2C%20%22type%22%3A%20%22Feature%22%7D%2C%20%7B%22geometry%22%3A%20%7B%22coordinates%22%3A%20%5B%5B%5B-73.79849779999999%2C%2040.633452399999996%5D%2C%20%5B-73.7725052%2C%2040.633452399999996%5D%2C%20%5B-73.7725052%2C%2040.650631%5D%2C%20%5B-73.79849779999999%2C%2040.650631%5D%2C%20%5B-73.79849779999999%2C%2040.633452399999996%5D%5D%5D%2C%20%22type%22%3A%20%22Polygon%22%7D%2C%20%22properties%22%3A%20%7B%22zone_id%22%3A%20%2297%22%7D%2C%20%22type%22%3A%20%22Feature%22%7D%2C%20%7B%22geometry%22%3A%20%7B%22coordinates%22%3A%20%5B%5B%5B-73.7725052%2C%2040.633452399999996%5D%2C%20%5B-73.74651259999999%2C%2040.633452399999996%5D%2C%20%5B-73.74651259999999%2C%2040.650631%5D%2C%20%5B-73.7725052%2C%2040.650631%5D%2C%20%5B-73.7725052%2C%2040.633452399999996%5D%5D%5D%2C%20%22type%22%3A%20%22Polygon%22%7D%2C%20%22properties%22%3A%20%7B%22zone_id%22%3A%20%2298%22%7D%2C%20%22type%22%3A%20%22Feature%22%7D%2C%20%7B%22geometry%22%3A%20%7B%22coordinates%22%3A%20%5B%5B%5B-73.74651259999999%2C%2040.633452399999996%5D%2C%20%5B-73.72052%2C%2040.633452399999996%5D%2C%20%5B-73.72052%2C%2040.650631%5D%2C%20%5B-73.74651259999999%2C%2040.650631%5D%2C%20%5B-73.74651259999999%2C%2040.633452399999996%5D%5D%5D%2C%20%22type%22%3A%20%22Polygon%22%7D%2C%20%22properties%22%3A%20%7B%22zone_id%22%3A%20%2299%22%7D%2C%20%22type%22%3A%20%22Feature%22%7D%2C%20%7B%22geometry%22%3A%20%7B%22coordinates%22%3A%20%5B%5B%5B-74.24037199999998%2C%2040.650631%5D%2C%20%5B-74.21437939999998%2C%2040.650631%5D%2C%20%5B-74.21437939999998%2C%2040.6678096%5D%2C%20%5B-74.24037199999998%2C%2040.6678096%5D%2C%20%5B-74.24037199999998%2C%2040.650631%5D%5D%5D%2C%20%22type%22%3A%20%22Polygon%22%7D%2C%20%22properties%22%3A%20%7B%22zone_id%22%3A%20%22100%22%7D%2C%20%22type%22%3A%20%22Feature%22%7D%2C%20%7B%22geometry%22%3A%20%7B%22coordinates%22%3A%20%5B%5B%5B-74.21437939999998%2C%2040.650631%5D%2C%20%5B-74.18838679999998%2C%2040.650631%5D%2C%20%5B-74.18838679999998%2C%2040.6678096%5D%2C%20%5B-74.21437939999998%2C%2040.6678096%5D%2C%20%5B-74.21437939999998%2C%2040.650631%5D%5D%5D%2C%20%22type%22%3A%20%22Polygon%22%7D%2C%20%22properties%22%3A%20%7B%22zone_id%22%3A%20%22101%22%7D%2C%20%22type%22%3A%20%22Feature%22%7D%2C%20%7B%22geometry%22%3A%20%7B%22coordinates%22%3A%20%5B%5B%5B-74.18838679999998%2C%2040.650631%5D%2C%20%5B-74.16239419999998%2C%2040.650631%5D%2C%20%5B-74.16239419999998%2C%2040.6678096%5D%2C%20%5B-74.18838679999998%2C%2040.6678096%5D%2C%20%5B-74.18838679999998%2C%2040.650631%5D%5D%5D%2C%20%22type%22%3A%20%22Polygon%22%7D%2C%20%22properties%22%3A%20%7B%22zone_id%22%3A%20%22102%22%7D%2C%20%22type%22%3A%20%22Feature%22%7D%2C%20%7B%22geometry%22%3A%20%7B%22coordinates%22%3A%20%5B%5B%5B-74.16239419999998%2C%2040.650631%5D%2C%20%5B-74.13640159999999%2C%2040.650631%5D%2C%20%5B-74.13640159999999%2C%2040.6678096%5D%2C%20%5B-74.16239419999998%2C%2040.6678096%5D%2C%20%5B-74.16239419999998%2C%2040.650631%5D%5D%5D%2C%20%22type%22%3A%20%22Polygon%22%7D%2C%20%22properties%22%3A%20%7B%22zone_id%22%3A%20%22103%22%7D%2C%20%22type%22%3A%20%22Feature%22%7D%2C%20%7B%22geometry%22%3A%20%7B%22coordinates%22%3A%20%5B%5B%5B-74.13640159999999%2C%2040.650631%5D%2C%20%5B-74.11040899999998%2C%2040.650631%5D%2C%20%5B-74.11040899999998%2C%2040.6678096%5D%2C%20%5B-74.13640159999999%2C%2040.6678096%5D%2C%20%5B-74.13640159999999%2C%2040.650631%5D%5D%5D%2C%20%22type%22%3A%20%22Polygon%22%7D%2C%20%22properties%22%3A%20%7B%22zone_id%22%3A%20%22104%22%7D%2C%20%22type%22%3A%20%22Feature%22%7D%2C%20%7B%22geometry%22%3A%20%7B%22coordinates%22%3A%20%5B%5B%5B-74.11040899999998%2C%2040.650631%5D%2C%20%5B-74.08441639999998%2C%2040.650631%5D%2C%20%5B-74.08441639999998%2C%2040.6678096%5D%2C%20%5B-74.11040899999998%2C%2040.6678096%5D%2C%20%5B-74.11040899999998%2C%2040.650631%5D%5D%5D%2C%20%22type%22%3A%20%22Polygon%22%7D%2C%20%22properties%22%3A%20%7B%22zone_id%22%3A%20%22105%22%7D%2C%20%22type%22%3A%20%22Feature%22%7D%2C%20%7B%22geometry%22%3A%20%7B%22coordinates%22%3A%20%5B%5B%5B-74.08441639999998%2C%2040.650631%5D%2C%20%5B-74.05842379999999%2C%2040.650631%5D%2C%20%5B-74.05842379999999%2C%2040.6678096%5D%2C%20%5B-74.08441639999998%2C%2040.6678096%5D%2C%20%5B-74.08441639999998%2C%2040.650631%5D%5D%5D%2C%20%22type%22%3A%20%22Polygon%22%7D%2C%20%22properties%22%3A%20%7B%22zone_id%22%3A%20%22106%22%7D%2C%20%22type%22%3A%20%22Feature%22%7D%2C%20%7B%22geometry%22%3A%20%7B%22coordinates%22%3A%20%5B%5B%5B-74.05842379999999%2C%2040.650631%5D%2C%20%5B-74.03243119999999%2C%2040.650631%5D%2C%20%5B-74.03243119999999%2C%2040.6678096%5D%2C%20%5B-74.05842379999999%2C%2040.6678096%5D%2C%20%5B-74.05842379999999%2C%2040.650631%5D%5D%5D%2C%20%22type%22%3A%20%22Polygon%22%7D%2C%20%22properties%22%3A%20%7B%22zone_id%22%3A%20%22107%22%7D%2C%20%22type%22%3A%20%22Feature%22%7D%2C%20%7B%22geometry%22%3A%20%7B%22coordinates%22%3A%20%5B%5B%5B-74.03243119999999%2C%2040.650631%5D%2C%20%5B-74.00643859999998%2C%2040.650631%5D%2C%20%5B-74.00643859999998%2C%2040.6678096%5D%2C%20%5B-74.03243119999999%2C%2040.6678096%5D%2C%20%5B-74.03243119999999%2C%2040.650631%5D%5D%5D%2C%20%22type%22%3A%20%22Polygon%22%7D%2C%20%22properties%22%3A%20%7B%22zone_id%22%3A%20%22108%22%7D%2C%20%22type%22%3A%20%22Feature%22%7D%2C%20%7B%22geometry%22%3A%20%7B%22coordinates%22%3A%20%5B%5B%5B-74.00643859999998%2C%2040.650631%5D%2C%20%5B-73.98044599999999%2C%2040.650631%5D%2C%20%5B-73.98044599999999%2C%2040.6678096%5D%2C%20%5B-74.00643859999998%2C%2040.6678096%5D%2C%20%5B-74.00643859999998%2C%2040.650631%5D%5D%5D%2C%20%22type%22%3A%20%22Polygon%22%7D%2C%20%22properties%22%3A%20%7B%22zone_id%22%3A%20%22109%22%7D%2C%20%22type%22%3A%20%22Feature%22%7D%2C%20%7B%22geometry%22%3A%20%7B%22coordinates%22%3A%20%5B%5B%5B-73.98044599999999%2C%2040.650631%5D%2C%20%5B-73.95445339999999%2C%2040.650631%5D%2C%20%5B-73.95445339999999%2C%2040.6678096%5D%2C%20%5B-73.98044599999999%2C%2040.6678096%5D%2C%20%5B-73.98044599999999%2C%2040.650631%5D%5D%5D%2C%20%22type%22%3A%20%22Polygon%22%7D%2C%20%22properties%22%3A%20%7B%22zone_id%22%3A%20%22110%22%7D%2C%20%22type%22%3A%20%22Feature%22%7D%2C%20%7B%22geometry%22%3A%20%7B%22coordinates%22%3A%20%5B%5B%5B-73.95445339999999%2C%2040.650631%5D%2C%20%5B-73.92846079999998%2C%2040.650631%5D%2C%20%5B-73.92846079999998%2C%2040.6678096%5D%2C%20%5B-73.95445339999999%2C%2040.6678096%5D%2C%20%5B-73.95445339999999%2C%2040.650631%5D%5D%5D%2C%20%22type%22%3A%20%22Polygon%22%7D%2C%20%22properties%22%3A%20%7B%22zone_id%22%3A%20%22111%22%7D%2C%20%22type%22%3A%20%22Feature%22%7D%2C%20%7B%22geometry%22%3A%20%7B%22coordinates%22%3A%20%5B%5B%5B-73.92846079999998%2C%2040.650631%5D%2C%20%5B-73.90246819999999%2C%2040.650631%5D%2C%20%5B-73.90246819999999%2C%2040.6678096%5D%2C%20%5B-73.92846079999998%2C%2040.6678096%5D%2C%20%5B-73.92846079999998%2C%2040.650631%5D%5D%5D%2C%20%22type%22%3A%20%22Polygon%22%7D%2C%20%22properties%22%3A%20%7B%22zone_id%22%3A%20%22112%22%7D%2C%20%22type%22%3A%20%22Feature%22%7D%2C%20%7B%22geometry%22%3A%20%7B%22coordinates%22%3A%20%5B%5B%5B-73.90246819999999%2C%2040.650631%5D%2C%20%5B-73.87647559999999%2C%2040.650631%5D%2C%20%5B-73.87647559999999%2C%2040.6678096%5D%2C%20%5B-73.90246819999999%2C%2040.6678096%5D%2C%20%5B-73.90246819999999%2C%2040.650631%5D%5D%5D%2C%20%22type%22%3A%20%22Polygon%22%7D%2C%20%22properties%22%3A%20%7B%22zone_id%22%3A%20%22113%22%7D%2C%20%22type%22%3A%20%22Feature%22%7D%2C%20%7B%22geometry%22%3A%20%7B%22coordinates%22%3A%20%5B%5B%5B-73.87647559999999%2C%2040.650631%5D%2C%20%5B-73.850483%2C%2040.650631%5D%2C%20%5B-73.850483%2C%2040.6678096%5D%2C%20%5B-73.87647559999999%2C%2040.6678096%5D%2C%20%5B-73.87647559999999%2C%2040.650631%5D%5D%5D%2C%20%22type%22%3A%20%22Polygon%22%7D%2C%20%22properties%22%3A%20%7B%22zone_id%22%3A%20%22114%22%7D%2C%20%22type%22%3A%20%22Feature%22%7D%2C%20%7B%22geometry%22%3A%20%7B%22coordinates%22%3A%20%5B%5B%5B-73.850483%2C%2040.650631%5D%2C%20%5B-73.82449039999999%2C%2040.650631%5D%2C%20%5B-73.82449039999999%2C%2040.6678096%5D%2C%20%5B-73.850483%2C%2040.6678096%5D%2C%20%5B-73.850483%2C%2040.650631%5D%5D%5D%2C%20%22type%22%3A%20%22Polygon%22%7D%2C%20%22properties%22%3A%20%7B%22zone_id%22%3A%20%22115%22%7D%2C%20%22type%22%3A%20%22Feature%22%7D%2C%20%7B%22geometry%22%3A%20%7B%22coordinates%22%3A%20%5B%5B%5B-73.82449039999999%2C%2040.650631%5D%2C%20%5B-73.79849779999999%2C%2040.650631%5D%2C%20%5B-73.79849779999999%2C%2040.6678096%5D%2C%20%5B-73.82449039999999%2C%2040.6678096%5D%2C%20%5B-73.82449039999999%2C%2040.650631%5D%5D%5D%2C%20%22type%22%3A%20%22Polygon%22%7D%2C%20%22properties%22%3A%20%7B%22zone_id%22%3A%20%22116%22%7D%2C%20%22type%22%3A%20%22Feature%22%7D%2C%20%7B%22geometry%22%3A%20%7B%22coordinates%22%3A%20%5B%5B%5B-73.79849779999999%2C%2040.650631%5D%2C%20%5B-73.7725052%2C%2040.650631%5D%2C%20%5B-73.7725052%2C%2040.6678096%5D%2C%20%5B-73.79849779999999%2C%2040.6678096%5D%2C%20%5B-73.79849779999999%2C%2040.650631%5D%5D%5D%2C%20%22type%22%3A%20%22Polygon%22%7D%2C%20%22properties%22%3A%20%7B%22zone_id%22%3A%20%22117%22%7D%2C%20%22type%22%3A%20%22Feature%22%7D%2C%20%7B%22geometry%22%3A%20%7B%22coordinates%22%3A%20%5B%5B%5B-73.7725052%2C%2040.650631%5D%2C%20%5B-73.74651259999999%2C%2040.650631%5D%2C%20%5B-73.74651259999999%2C%2040.6678096%5D%2C%20%5B-73.7725052%2C%2040.6678096%5D%2C%20%5B-73.7725052%2C%2040.650631%5D%5D%5D%2C%20%22type%22%3A%20%22Polygon%22%7D%2C%20%22properties%22%3A%20%7B%22zone_id%22%3A%20%22118%22%7D%2C%20%22type%22%3A%20%22Feature%22%7D%2C%20%7B%22geometry%22%3A%20%7B%22coordinates%22%3A%20%5B%5B%5B-73.74651259999999%2C%2040.650631%5D%2C%20%5B-73.72052%2C%2040.650631%5D%2C%20%5B-73.72052%2C%2040.6678096%5D%2C%20%5B-73.74651259999999%2C%2040.6678096%5D%2C%20%5B-73.74651259999999%2C%2040.650631%5D%5D%5D%2C%20%22type%22%3A%20%22Polygon%22%7D%2C%20%22properties%22%3A%20%7B%22zone_id%22%3A%20%22119%22%7D%2C%20%22type%22%3A%20%22Feature%22%7D%2C%20%7B%22geometry%22%3A%20%7B%22coordinates%22%3A%20%5B%5B%5B-74.24037199999998%2C%2040.6678096%5D%2C%20%5B-74.21437939999998%2C%2040.6678096%5D%2C%20%5B-74.21437939999998%2C%2040.6849882%5D%2C%20%5B-74.24037199999998%2C%2040.6849882%5D%2C%20%5B-74.24037199999998%2C%2040.6678096%5D%5D%5D%2C%20%22type%22%3A%20%22Polygon%22%7D%2C%20%22properties%22%3A%20%7B%22zone_id%22%3A%20%22120%22%7D%2C%20%22type%22%3A%20%22Feature%22%7D%2C%20%7B%22geometry%22%3A%20%7B%22coordinates%22%3A%20%5B%5B%5B-74.21437939999998%2C%2040.6678096%5D%2C%20%5B-74.18838679999998%2C%2040.6678096%5D%2C%20%5B-74.18838679999998%2C%2040.6849882%5D%2C%20%5B-74.21437939999998%2C%2040.6849882%5D%2C%20%5B-74.21437939999998%2C%2040.6678096%5D%5D%5D%2C%20%22type%22%3A%20%22Polygon%22%7D%2C%20%22properties%22%3A%20%7B%22zone_id%22%3A%20%22121%22%7D%2C%20%22type%22%3A%20%22Feature%22%7D%2C%20%7B%22geometry%22%3A%20%7B%22coordinates%22%3A%20%5B%5B%5B-74.18838679999998%2C%2040.6678096%5D%2C%20%5B-74.16239419999998%2C%2040.6678096%5D%2C%20%5B-74.16239419999998%2C%2040.6849882%5D%2C%20%5B-74.18838679999998%2C%2040.6849882%5D%2C%20%5B-74.18838679999998%2C%2040.6678096%5D%5D%5D%2C%20%22type%22%3A%20%22Polygon%22%7D%2C%20%22properties%22%3A%20%7B%22zone_id%22%3A%20%22122%22%7D%2C%20%22type%22%3A%20%22Feature%22%7D%2C%20%7B%22geometry%22%3A%20%7B%22coordinates%22%3A%20%5B%5B%5B-74.16239419999998%2C%2040.6678096%5D%2C%20%5B-74.13640159999999%2C%2040.6678096%5D%2C%20%5B-74.13640159999999%2C%2040.6849882%5D%2C%20%5B-74.16239419999998%2C%2040.6849882%5D%2C%20%5B-74.16239419999998%2C%2040.6678096%5D%5D%5D%2C%20%22type%22%3A%20%22Polygon%22%7D%2C%20%22properties%22%3A%20%7B%22zone_id%22%3A%20%22123%22%7D%2C%20%22type%22%3A%20%22Feature%22%7D%2C%20%7B%22geometry%22%3A%20%7B%22coordinates%22%3A%20%5B%5B%5B-74.13640159999999%2C%2040.6678096%5D%2C%20%5B-74.11040899999998%2C%2040.6678096%5D%2C%20%5B-74.11040899999998%2C%2040.6849882%5D%2C%20%5B-74.13640159999999%2C%2040.6849882%5D%2C%20%5B-74.13640159999999%2C%2040.6678096%5D%5D%5D%2C%20%22type%22%3A%20%22Polygon%22%7D%2C%20%22properties%22%3A%20%7B%22zone_id%22%3A%20%22124%22%7D%2C%20%22type%22%3A%20%22Feature%22%7D%2C%20%7B%22geometry%22%3A%20%7B%22coordinates%22%3A%20%5B%5B%5B-74.11040899999998%2C%2040.6678096%5D%2C%20%5B-74.08441639999998%2C%2040.6678096%5D%2C%20%5B-74.08441639999998%2C%2040.6849882%5D%2C%20%5B-74.11040899999998%2C%2040.6849882%5D%2C%20%5B-74.11040899999998%2C%2040.6678096%5D%5D%5D%2C%20%22type%22%3A%20%22Polygon%22%7D%2C%20%22properties%22%3A%20%7B%22zone_id%22%3A%20%22125%22%7D%2C%20%22type%22%3A%20%22Feature%22%7D%2C%20%7B%22geometry%22%3A%20%7B%22coordinates%22%3A%20%5B%5B%5B-74.08441639999998%2C%2040.6678096%5D%2C%20%5B-74.05842379999999%2C%2040.6678096%5D%2C%20%5B-74.05842379999999%2C%2040.6849882%5D%2C%20%5B-74.08441639999998%2C%2040.6849882%5D%2C%20%5B-74.08441639999998%2C%2040.6678096%5D%5D%5D%2C%20%22type%22%3A%20%22Polygon%22%7D%2C%20%22properties%22%3A%20%7B%22zone_id%22%3A%20%22126%22%7D%2C%20%22type%22%3A%20%22Feature%22%7D%2C%20%7B%22geometry%22%3A%20%7B%22coordinates%22%3A%20%5B%5B%5B-74.05842379999999%2C%2040.6678096%5D%2C%20%5B-74.03243119999999%2C%2040.6678096%5D%2C%20%5B-74.03243119999999%2C%2040.6849882%5D%2C%20%5B-74.05842379999999%2C%2040.6849882%5D%2C%20%5B-74.05842379999999%2C%2040.6678096%5D%5D%5D%2C%20%22type%22%3A%20%22Polygon%22%7D%2C%20%22properties%22%3A%20%7B%22zone_id%22%3A%20%22127%22%7D%2C%20%22type%22%3A%20%22Feature%22%7D%2C%20%7B%22geometry%22%3A%20%7B%22coordinates%22%3A%20%5B%5B%5B-74.03243119999999%2C%2040.6678096%5D%2C%20%5B-74.00643859999998%2C%2040.6678096%5D%2C%20%5B-74.00643859999998%2C%2040.6849882%5D%2C%20%5B-74.03243119999999%2C%2040.6849882%5D%2C%20%5B-74.03243119999999%2C%2040.6678096%5D%5D%5D%2C%20%22type%22%3A%20%22Polygon%22%7D%2C%20%22properties%22%3A%20%7B%22zone_id%22%3A%20%22128%22%7D%2C%20%22type%22%3A%20%22Feature%22%7D%2C%20%7B%22geometry%22%3A%20%7B%22coordinates%22%3A%20%5B%5B%5B-74.00643859999998%2C%2040.6678096%5D%2C%20%5B-73.98044599999999%2C%2040.6678096%5D%2C%20%5B-73.98044599999999%2C%2040.6849882%5D%2C%20%5B-74.00643859999998%2C%2040.6849882%5D%2C%20%5B-74.00643859999998%2C%2040.6678096%5D%5D%5D%2C%20%22type%22%3A%20%22Polygon%22%7D%2C%20%22properties%22%3A%20%7B%22zone_id%22%3A%20%22129%22%7D%2C%20%22type%22%3A%20%22Feature%22%7D%2C%20%7B%22geometry%22%3A%20%7B%22coordinates%22%3A%20%5B%5B%5B-73.98044599999999%2C%2040.6678096%5D%2C%20%5B-73.95445339999999%2C%2040.6678096%5D%2C%20%5B-73.95445339999999%2C%2040.6849882%5D%2C%20%5B-73.98044599999999%2C%2040.6849882%5D%2C%20%5B-73.98044599999999%2C%2040.6678096%5D%5D%5D%2C%20%22type%22%3A%20%22Polygon%22%7D%2C%20%22properties%22%3A%20%7B%22zone_id%22%3A%20%22130%22%7D%2C%20%22type%22%3A%20%22Feature%22%7D%2C%20%7B%22geometry%22%3A%20%7B%22coordinates%22%3A%20%5B%5B%5B-73.95445339999999%2C%2040.6678096%5D%2C%20%5B-73.92846079999998%2C%2040.6678096%5D%2C%20%5B-73.92846079999998%2C%2040.6849882%5D%2C%20%5B-73.95445339999999%2C%2040.6849882%5D%2C%20%5B-73.95445339999999%2C%2040.6678096%5D%5D%5D%2C%20%22type%22%3A%20%22Polygon%22%7D%2C%20%22properties%22%3A%20%7B%22zone_id%22%3A%20%22131%22%7D%2C%20%22type%22%3A%20%22Feature%22%7D%2C%20%7B%22geometry%22%3A%20%7B%22coordinates%22%3A%20%5B%5B%5B-73.92846079999998%2C%2040.6678096%5D%2C%20%5B-73.90246819999999%2C%2040.6678096%5D%2C%20%5B-73.90246819999999%2C%2040.6849882%5D%2C%20%5B-73.92846079999998%2C%2040.6849882%5D%2C%20%5B-73.92846079999998%2C%2040.6678096%5D%5D%5D%2C%20%22type%22%3A%20%22Polygon%22%7D%2C%20%22properties%22%3A%20%7B%22zone_id%22%3A%20%22132%22%7D%2C%20%22type%22%3A%20%22Feature%22%7D%2C%20%7B%22geometry%22%3A%20%7B%22coordinates%22%3A%20%5B%5B%5B-73.90246819999999%2C%2040.6678096%5D%2C%20%5B-73.87647559999999%2C%2040.6678096%5D%2C%20%5B-73.87647559999999%2C%2040.6849882%5D%2C%20%5B-73.90246819999999%2C%2040.6849882%5D%2C%20%5B-73.90246819999999%2C%2040.6678096%5D%5D%5D%2C%20%22type%22%3A%20%22Polygon%22%7D%2C%20%22properties%22%3A%20%7B%22zone_id%22%3A%20%22133%22%7D%2C%20%22type%22%3A%20%22Feature%22%7D%2C%20%7B%22geometry%22%3A%20%7B%22coordinates%22%3A%20%5B%5B%5B-73.87647559999999%2C%2040.6678096%5D%2C%20%5B-73.850483%2C%2040.6678096%5D%2C%20%5B-73.850483%2C%2040.6849882%5D%2C%20%5B-73.87647559999999%2C%2040.6849882%5D%2C%20%5B-73.87647559999999%2C%2040.6678096%5D%5D%5D%2C%20%22type%22%3A%20%22Polygon%22%7D%2C%20%22properties%22%3A%20%7B%22zone_id%22%3A%20%22134%22%7D%2C%20%22type%22%3A%20%22Feature%22%7D%2C%20%7B%22geometry%22%3A%20%7B%22coordinates%22%3A%20%5B%5B%5B-73.850483%2C%2040.6678096%5D%2C%20%5B-73.82449039999999%2C%2040.6678096%5D%2C%20%5B-73.82449039999999%2C%2040.6849882%5D%2C%20%5B-73.850483%2C%2040.6849882%5D%2C%20%5B-73.850483%2C%2040.6678096%5D%5D%5D%2C%20%22type%22%3A%20%22Polygon%22%7D%2C%20%22properties%22%3A%20%7B%22zone_id%22%3A%20%22135%22%7D%2C%20%22type%22%3A%20%22Feature%22%7D%2C%20%7B%22geometry%22%3A%20%7B%22coordinates%22%3A%20%5B%5B%5B-73.82449039999999%2C%2040.6678096%5D%2C%20%5B-73.79849779999999%2C%2040.6678096%5D%2C%20%5B-73.79849779999999%2C%2040.6849882%5D%2C%20%5B-73.82449039999999%2C%2040.6849882%5D%2C%20%5B-73.82449039999999%2C%2040.6678096%5D%5D%5D%2C%20%22type%22%3A%20%22Polygon%22%7D%2C%20%22properties%22%3A%20%7B%22zone_id%22%3A%20%22136%22%7D%2C%20%22type%22%3A%20%22Feature%22%7D%2C%20%7B%22geometry%22%3A%20%7B%22coordinates%22%3A%20%5B%5B%5B-73.79849779999999%2C%2040.6678096%5D%2C%20%5B-73.7725052%2C%2040.6678096%5D%2C%20%5B-73.7725052%2C%2040.6849882%5D%2C%20%5B-73.79849779999999%2C%2040.6849882%5D%2C%20%5B-73.79849779999999%2C%2040.6678096%5D%5D%5D%2C%20%22type%22%3A%20%22Polygon%22%7D%2C%20%22properties%22%3A%20%7B%22zone_id%22%3A%20%22137%22%7D%2C%20%22type%22%3A%20%22Feature%22%7D%2C%20%7B%22geometry%22%3A%20%7B%22coordinates%22%3A%20%5B%5B%5B-73.7725052%2C%2040.6678096%5D%2C%20%5B-73.74651259999999%2C%2040.6678096%5D%2C%20%5B-73.74651259999999%2C%2040.6849882%5D%2C%20%5B-73.7725052%2C%2040.6849882%5D%2C%20%5B-73.7725052%2C%2040.6678096%5D%5D%5D%2C%20%22type%22%3A%20%22Polygon%22%7D%2C%20%22properties%22%3A%20%7B%22zone_id%22%3A%20%22138%22%7D%2C%20%22type%22%3A%20%22Feature%22%7D%2C%20%7B%22geometry%22%3A%20%7B%22coordinates%22%3A%20%5B%5B%5B-73.74651259999999%2C%2040.6678096%5D%2C%20%5B-73.72052%2C%2040.6678096%5D%2C%20%5B-73.72052%2C%2040.6849882%5D%2C%20%5B-73.74651259999999%2C%2040.6849882%5D%2C%20%5B-73.74651259999999%2C%2040.6678096%5D%5D%5D%2C%20%22type%22%3A%20%22Polygon%22%7D%2C%20%22properties%22%3A%20%7B%22zone_id%22%3A%20%22139%22%7D%2C%20%22type%22%3A%20%22Feature%22%7D%2C%20%7B%22geometry%22%3A%20%7B%22coordinates%22%3A%20%5B%5B%5B-74.24037199999998%2C%2040.6849882%5D%2C%20%5B-74.21437939999998%2C%2040.6849882%5D%2C%20%5B-74.21437939999998%2C%2040.7021668%5D%2C%20%5B-74.24037199999998%2C%2040.7021668%5D%2C%20%5B-74.24037199999998%2C%2040.6849882%5D%5D%5D%2C%20%22type%22%3A%20%22Polygon%22%7D%2C%20%22properties%22%3A%20%7B%22zone_id%22%3A%20%22140%22%7D%2C%20%22type%22%3A%20%22Feature%22%7D%2C%20%7B%22geometry%22%3A%20%7B%22coordinates%22%3A%20%5B%5B%5B-74.21437939999998%2C%2040.6849882%5D%2C%20%5B-74.18838679999998%2C%2040.6849882%5D%2C%20%5B-74.18838679999998%2C%2040.7021668%5D%2C%20%5B-74.21437939999998%2C%2040.7021668%5D%2C%20%5B-74.21437939999998%2C%2040.6849882%5D%5D%5D%2C%20%22type%22%3A%20%22Polygon%22%7D%2C%20%22properties%22%3A%20%7B%22zone_id%22%3A%20%22141%22%7D%2C%20%22type%22%3A%20%22Feature%22%7D%2C%20%7B%22geometry%22%3A%20%7B%22coordinates%22%3A%20%5B%5B%5B-74.18838679999998%2C%2040.6849882%5D%2C%20%5B-74.16239419999998%2C%2040.6849882%5D%2C%20%5B-74.16239419999998%2C%2040.7021668%5D%2C%20%5B-74.18838679999998%2C%2040.7021668%5D%2C%20%5B-74.18838679999998%2C%2040.6849882%5D%5D%5D%2C%20%22type%22%3A%20%22Polygon%22%7D%2C%20%22properties%22%3A%20%7B%22zone_id%22%3A%20%22142%22%7D%2C%20%22type%22%3A%20%22Feature%22%7D%2C%20%7B%22geometry%22%3A%20%7B%22coordinates%22%3A%20%5B%5B%5B-74.16239419999998%2C%2040.6849882%5D%2C%20%5B-74.13640159999999%2C%2040.6849882%5D%2C%20%5B-74.13640159999999%2C%2040.7021668%5D%2C%20%5B-74.16239419999998%2C%2040.7021668%5D%2C%20%5B-74.16239419999998%2C%2040.6849882%5D%5D%5D%2C%20%22type%22%3A%20%22Polygon%22%7D%2C%20%22properties%22%3A%20%7B%22zone_id%22%3A%20%22143%22%7D%2C%20%22type%22%3A%20%22Feature%22%7D%2C%20%7B%22geometry%22%3A%20%7B%22coordinates%22%3A%20%5B%5B%5B-74.13640159999999%2C%2040.6849882%5D%2C%20%5B-74.11040899999998%2C%2040.6849882%5D%2C%20%5B-74.11040899999998%2C%2040.7021668%5D%2C%20%5B-74.13640159999999%2C%2040.7021668%5D%2C%20%5B-74.13640159999999%2C%2040.6849882%5D%5D%5D%2C%20%22type%22%3A%20%22Polygon%22%7D%2C%20%22properties%22%3A%20%7B%22zone_id%22%3A%20%22144%22%7D%2C%20%22type%22%3A%20%22Feature%22%7D%2C%20%7B%22geometry%22%3A%20%7B%22coordinates%22%3A%20%5B%5B%5B-74.11040899999998%2C%2040.6849882%5D%2C%20%5B-74.08441639999998%2C%2040.6849882%5D%2C%20%5B-74.08441639999998%2C%2040.7021668%5D%2C%20%5B-74.11040899999998%2C%2040.7021668%5D%2C%20%5B-74.11040899999998%2C%2040.6849882%5D%5D%5D%2C%20%22type%22%3A%20%22Polygon%22%7D%2C%20%22properties%22%3A%20%7B%22zone_id%22%3A%20%22145%22%7D%2C%20%22type%22%3A%20%22Feature%22%7D%2C%20%7B%22geometry%22%3A%20%7B%22coordinates%22%3A%20%5B%5B%5B-74.08441639999998%2C%2040.6849882%5D%2C%20%5B-74.05842379999999%2C%2040.6849882%5D%2C%20%5B-74.05842379999999%2C%2040.7021668%5D%2C%20%5B-74.08441639999998%2C%2040.7021668%5D%2C%20%5B-74.08441639999998%2C%2040.6849882%5D%5D%5D%2C%20%22type%22%3A%20%22Polygon%22%7D%2C%20%22properties%22%3A%20%7B%22zone_id%22%3A%20%22146%22%7D%2C%20%22type%22%3A%20%22Feature%22%7D%2C%20%7B%22geometry%22%3A%20%7B%22coordinates%22%3A%20%5B%5B%5B-74.05842379999999%2C%2040.6849882%5D%2C%20%5B-74.03243119999999%2C%2040.6849882%5D%2C%20%5B-74.03243119999999%2C%2040.7021668%5D%2C%20%5B-74.05842379999999%2C%2040.7021668%5D%2C%20%5B-74.05842379999999%2C%2040.6849882%5D%5D%5D%2C%20%22type%22%3A%20%22Polygon%22%7D%2C%20%22properties%22%3A%20%7B%22zone_id%22%3A%20%22147%22%7D%2C%20%22type%22%3A%20%22Feature%22%7D%2C%20%7B%22geometry%22%3A%20%7B%22coordinates%22%3A%20%5B%5B%5B-74.03243119999999%2C%2040.6849882%5D%2C%20%5B-74.00643859999998%2C%2040.6849882%5D%2C%20%5B-74.00643859999998%2C%2040.7021668%5D%2C%20%5B-74.03243119999999%2C%2040.7021668%5D%2C%20%5B-74.03243119999999%2C%2040.6849882%5D%5D%5D%2C%20%22type%22%3A%20%22Polygon%22%7D%2C%20%22properties%22%3A%20%7B%22zone_id%22%3A%20%22148%22%7D%2C%20%22type%22%3A%20%22Feature%22%7D%2C%20%7B%22geometry%22%3A%20%7B%22coordinates%22%3A%20%5B%5B%5B-74.00643859999998%2C%2040.6849882%5D%2C%20%5B-73.98044599999999%2C%2040.6849882%5D%2C%20%5B-73.98044599999999%2C%2040.7021668%5D%2C%20%5B-74.00643859999998%2C%2040.7021668%5D%2C%20%5B-74.00643859999998%2C%2040.6849882%5D%5D%5D%2C%20%22type%22%3A%20%22Polygon%22%7D%2C%20%22properties%22%3A%20%7B%22zone_id%22%3A%20%22149%22%7D%2C%20%22type%22%3A%20%22Feature%22%7D%2C%20%7B%22geometry%22%3A%20%7B%22coordinates%22%3A%20%5B%5B%5B-73.98044599999999%2C%2040.6849882%5D%2C%20%5B-73.95445339999999%2C%2040.6849882%5D%2C%20%5B-73.95445339999999%2C%2040.7021668%5D%2C%20%5B-73.98044599999999%2C%2040.7021668%5D%2C%20%5B-73.98044599999999%2C%2040.6849882%5D%5D%5D%2C%20%22type%22%3A%20%22Polygon%22%7D%2C%20%22properties%22%3A%20%7B%22zone_id%22%3A%20%22150%22%7D%2C%20%22type%22%3A%20%22Feature%22%7D%2C%20%7B%22geometry%22%3A%20%7B%22coordinates%22%3A%20%5B%5B%5B-73.95445339999999%2C%2040.6849882%5D%2C%20%5B-73.92846079999998%2C%2040.6849882%5D%2C%20%5B-73.92846079999998%2C%2040.7021668%5D%2C%20%5B-73.95445339999999%2C%2040.7021668%5D%2C%20%5B-73.95445339999999%2C%2040.6849882%5D%5D%5D%2C%20%22type%22%3A%20%22Polygon%22%7D%2C%20%22properties%22%3A%20%7B%22zone_id%22%3A%20%22151%22%7D%2C%20%22type%22%3A%20%22Feature%22%7D%2C%20%7B%22geometry%22%3A%20%7B%22coordinates%22%3A%20%5B%5B%5B-73.92846079999998%2C%2040.6849882%5D%2C%20%5B-73.90246819999999%2C%2040.6849882%5D%2C%20%5B-73.90246819999999%2C%2040.7021668%5D%2C%20%5B-73.92846079999998%2C%2040.7021668%5D%2C%20%5B-73.92846079999998%2C%2040.6849882%5D%5D%5D%2C%20%22type%22%3A%20%22Polygon%22%7D%2C%20%22properties%22%3A%20%7B%22zone_id%22%3A%20%22152%22%7D%2C%20%22type%22%3A%20%22Feature%22%7D%2C%20%7B%22geometry%22%3A%20%7B%22coordinates%22%3A%20%5B%5B%5B-73.90246819999999%2C%2040.6849882%5D%2C%20%5B-73.87647559999999%2C%2040.6849882%5D%2C%20%5B-73.87647559999999%2C%2040.7021668%5D%2C%20%5B-73.90246819999999%2C%2040.7021668%5D%2C%20%5B-73.90246819999999%2C%2040.6849882%5D%5D%5D%2C%20%22type%22%3A%20%22Polygon%22%7D%2C%20%22properties%22%3A%20%7B%22zone_id%22%3A%20%22153%22%7D%2C%20%22type%22%3A%20%22Feature%22%7D%2C%20%7B%22geometry%22%3A%20%7B%22coordinates%22%3A%20%5B%5B%5B-73.87647559999999%2C%2040.6849882%5D%2C%20%5B-73.850483%2C%2040.6849882%5D%2C%20%5B-73.850483%2C%2040.7021668%5D%2C%20%5B-73.87647559999999%2C%2040.7021668%5D%2C%20%5B-73.87647559999999%2C%2040.6849882%5D%5D%5D%2C%20%22type%22%3A%20%22Polygon%22%7D%2C%20%22properties%22%3A%20%7B%22zone_id%22%3A%20%22154%22%7D%2C%20%22type%22%3A%20%22Feature%22%7D%2C%20%7B%22geometry%22%3A%20%7B%22coordinates%22%3A%20%5B%5B%5B-73.850483%2C%2040.6849882%5D%2C%20%5B-73.82449039999999%2C%2040.6849882%5D%2C%20%5B-73.82449039999999%2C%2040.7021668%5D%2C%20%5B-73.850483%2C%2040.7021668%5D%2C%20%5B-73.850483%2C%2040.6849882%5D%5D%5D%2C%20%22type%22%3A%20%22Polygon%22%7D%2C%20%22properties%22%3A%20%7B%22zone_id%22%3A%20%22155%22%7D%2C%20%22type%22%3A%20%22Feature%22%7D%2C%20%7B%22geometry%22%3A%20%7B%22coordinates%22%3A%20%5B%5B%5B-73.82449039999999%2C%2040.6849882%5D%2C%20%5B-73.79849779999999%2C%2040.6849882%5D%2C%20%5B-73.79849779999999%2C%2040.7021668%5D%2C%20%5B-73.82449039999999%2C%2040.7021668%5D%2C%20%5B-73.82449039999999%2C%2040.6849882%5D%5D%5D%2C%20%22type%22%3A%20%22Polygon%22%7D%2C%20%22properties%22%3A%20%7B%22zone_id%22%3A%20%22156%22%7D%2C%20%22type%22%3A%20%22Feature%22%7D%2C%20%7B%22geometry%22%3A%20%7B%22coordinates%22%3A%20%5B%5B%5B-73.79849779999999%2C%2040.6849882%5D%2C%20%5B-73.7725052%2C%2040.6849882%5D%2C%20%5B-73.7725052%2C%2040.7021668%5D%2C%20%5B-73.79849779999999%2C%2040.7021668%5D%2C%20%5B-73.79849779999999%2C%2040.6849882%5D%5D%5D%2C%20%22type%22%3A%20%22Polygon%22%7D%2C%20%22properties%22%3A%20%7B%22zone_id%22%3A%20%22157%22%7D%2C%20%22type%22%3A%20%22Feature%22%7D%2C%20%7B%22geometry%22%3A%20%7B%22coordinates%22%3A%20%5B%5B%5B-73.7725052%2C%2040.6849882%5D%2C%20%5B-73.74651259999999%2C%2040.6849882%5D%2C%20%5B-73.74651259999999%2C%2040.7021668%5D%2C%20%5B-73.7725052%2C%2040.7021668%5D%2C%20%5B-73.7725052%2C%2040.6849882%5D%5D%5D%2C%20%22type%22%3A%20%22Polygon%22%7D%2C%20%22properties%22%3A%20%7B%22zone_id%22%3A%20%22158%22%7D%2C%20%22type%22%3A%20%22Feature%22%7D%2C%20%7B%22geometry%22%3A%20%7B%22coordinates%22%3A%20%5B%5B%5B-73.74651259999999%2C%2040.6849882%5D%2C%20%5B-73.72052%2C%2040.6849882%5D%2C%20%5B-73.72052%2C%2040.7021668%5D%2C%20%5B-73.74651259999999%2C%2040.7021668%5D%2C%20%5B-73.74651259999999%2C%2040.6849882%5D%5D%5D%2C%20%22type%22%3A%20%22Polygon%22%7D%2C%20%22properties%22%3A%20%7B%22zone_id%22%3A%20%22159%22%7D%2C%20%22type%22%3A%20%22Feature%22%7D%2C%20%7B%22geometry%22%3A%20%7B%22coordinates%22%3A%20%5B%5B%5B-74.24037199999998%2C%2040.7021668%5D%2C%20%5B-74.21437939999998%2C%2040.7021668%5D%2C%20%5B-74.21437939999998%2C%2040.7193454%5D%2C%20%5B-74.24037199999998%2C%2040.7193454%5D%2C%20%5B-74.24037199999998%2C%2040.7021668%5D%5D%5D%2C%20%22type%22%3A%20%22Polygon%22%7D%2C%20%22properties%22%3A%20%7B%22zone_id%22%3A%20%22160%22%7D%2C%20%22type%22%3A%20%22Feature%22%7D%2C%20%7B%22geometry%22%3A%20%7B%22coordinates%22%3A%20%5B%5B%5B-74.21437939999998%2C%2040.7021668%5D%2C%20%5B-74.18838679999998%2C%2040.7021668%5D%2C%20%5B-74.18838679999998%2C%2040.7193454%5D%2C%20%5B-74.21437939999998%2C%2040.7193454%5D%2C%20%5B-74.21437939999998%2C%2040.7021668%5D%5D%5D%2C%20%22type%22%3A%20%22Polygon%22%7D%2C%20%22properties%22%3A%20%7B%22zone_id%22%3A%20%22161%22%7D%2C%20%22type%22%3A%20%22Feature%22%7D%2C%20%7B%22geometry%22%3A%20%7B%22coordinates%22%3A%20%5B%5B%5B-74.18838679999998%2C%2040.7021668%5D%2C%20%5B-74.16239419999998%2C%2040.7021668%5D%2C%20%5B-74.16239419999998%2C%2040.7193454%5D%2C%20%5B-74.18838679999998%2C%2040.7193454%5D%2C%20%5B-74.18838679999998%2C%2040.7021668%5D%5D%5D%2C%20%22type%22%3A%20%22Polygon%22%7D%2C%20%22properties%22%3A%20%7B%22zone_id%22%3A%20%22162%22%7D%2C%20%22type%22%3A%20%22Feature%22%7D%2C%20%7B%22geometry%22%3A%20%7B%22coordinates%22%3A%20%5B%5B%5B-74.16239419999998%2C%2040.7021668%5D%2C%20%5B-74.13640159999999%2C%2040.7021668%5D%2C%20%5B-74.13640159999999%2C%2040.7193454%5D%2C%20%5B-74.16239419999998%2C%2040.7193454%5D%2C%20%5B-74.16239419999998%2C%2040.7021668%5D%5D%5D%2C%20%22type%22%3A%20%22Polygon%22%7D%2C%20%22properties%22%3A%20%7B%22zone_id%22%3A%20%22163%22%7D%2C%20%22type%22%3A%20%22Feature%22%7D%2C%20%7B%22geometry%22%3A%20%7B%22coordinates%22%3A%20%5B%5B%5B-74.13640159999999%2C%2040.7021668%5D%2C%20%5B-74.11040899999998%2C%2040.7021668%5D%2C%20%5B-74.11040899999998%2C%2040.7193454%5D%2C%20%5B-74.13640159999999%2C%2040.7193454%5D%2C%20%5B-74.13640159999999%2C%2040.7021668%5D%5D%5D%2C%20%22type%22%3A%20%22Polygon%22%7D%2C%20%22properties%22%3A%20%7B%22zone_id%22%3A%20%22164%22%7D%2C%20%22type%22%3A%20%22Feature%22%7D%2C%20%7B%22geometry%22%3A%20%7B%22coordinates%22%3A%20%5B%5B%5B-74.11040899999998%2C%2040.7021668%5D%2C%20%5B-74.08441639999998%2C%2040.7021668%5D%2C%20%5B-74.08441639999998%2C%2040.7193454%5D%2C%20%5B-74.11040899999998%2C%2040.7193454%5D%2C%20%5B-74.11040899999998%2C%2040.7021668%5D%5D%5D%2C%20%22type%22%3A%20%22Polygon%22%7D%2C%20%22properties%22%3A%20%7B%22zone_id%22%3A%20%22165%22%7D%2C%20%22type%22%3A%20%22Feature%22%7D%2C%20%7B%22geometry%22%3A%20%7B%22coordinates%22%3A%20%5B%5B%5B-74.08441639999998%2C%2040.7021668%5D%2C%20%5B-74.05842379999999%2C%2040.7021668%5D%2C%20%5B-74.05842379999999%2C%2040.7193454%5D%2C%20%5B-74.08441639999998%2C%2040.7193454%5D%2C%20%5B-74.08441639999998%2C%2040.7021668%5D%5D%5D%2C%20%22type%22%3A%20%22Polygon%22%7D%2C%20%22properties%22%3A%20%7B%22zone_id%22%3A%20%22166%22%7D%2C%20%22type%22%3A%20%22Feature%22%7D%2C%20%7B%22geometry%22%3A%20%7B%22coordinates%22%3A%20%5B%5B%5B-74.05842379999999%2C%2040.7021668%5D%2C%20%5B-74.03243119999999%2C%2040.7021668%5D%2C%20%5B-74.03243119999999%2C%2040.7193454%5D%2C%20%5B-74.05842379999999%2C%2040.7193454%5D%2C%20%5B-74.05842379999999%2C%2040.7021668%5D%5D%5D%2C%20%22type%22%3A%20%22Polygon%22%7D%2C%20%22properties%22%3A%20%7B%22zone_id%22%3A%20%22167%22%7D%2C%20%22type%22%3A%20%22Feature%22%7D%2C%20%7B%22geometry%22%3A%20%7B%22coordinates%22%3A%20%5B%5B%5B-74.03243119999999%2C%2040.7021668%5D%2C%20%5B-74.00643859999998%2C%2040.7021668%5D%2C%20%5B-74.00643859999998%2C%2040.7193454%5D%2C%20%5B-74.03243119999999%2C%2040.7193454%5D%2C%20%5B-74.03243119999999%2C%2040.7021668%5D%5D%5D%2C%20%22type%22%3A%20%22Polygon%22%7D%2C%20%22properties%22%3A%20%7B%22zone_id%22%3A%20%22168%22%7D%2C%20%22type%22%3A%20%22Feature%22%7D%2C%20%7B%22geometry%22%3A%20%7B%22coordinates%22%3A%20%5B%5B%5B-74.00643859999998%2C%2040.7021668%5D%2C%20%5B-73.98044599999999%2C%2040.7021668%5D%2C%20%5B-73.98044599999999%2C%2040.7193454%5D%2C%20%5B-74.00643859999998%2C%2040.7193454%5D%2C%20%5B-74.00643859999998%2C%2040.7021668%5D%5D%5D%2C%20%22type%22%3A%20%22Polygon%22%7D%2C%20%22properties%22%3A%20%7B%22zone_id%22%3A%20%22169%22%7D%2C%20%22type%22%3A%20%22Feature%22%7D%2C%20%7B%22geometry%22%3A%20%7B%22coordinates%22%3A%20%5B%5B%5B-73.98044599999999%2C%2040.7021668%5D%2C%20%5B-73.95445339999999%2C%2040.7021668%5D%2C%20%5B-73.95445339999999%2C%2040.7193454%5D%2C%20%5B-73.98044599999999%2C%2040.7193454%5D%2C%20%5B-73.98044599999999%2C%2040.7021668%5D%5D%5D%2C%20%22type%22%3A%20%22Polygon%22%7D%2C%20%22properties%22%3A%20%7B%22zone_id%22%3A%20%22170%22%7D%2C%20%22type%22%3A%20%22Feature%22%7D%2C%20%7B%22geometry%22%3A%20%7B%22coordinates%22%3A%20%5B%5B%5B-73.95445339999999%2C%2040.7021668%5D%2C%20%5B-73.92846079999998%2C%2040.7021668%5D%2C%20%5B-73.92846079999998%2C%2040.7193454%5D%2C%20%5B-73.95445339999999%2C%2040.7193454%5D%2C%20%5B-73.95445339999999%2C%2040.7021668%5D%5D%5D%2C%20%22type%22%3A%20%22Polygon%22%7D%2C%20%22properties%22%3A%20%7B%22zone_id%22%3A%20%22171%22%7D%2C%20%22type%22%3A%20%22Feature%22%7D%2C%20%7B%22geometry%22%3A%20%7B%22coordinates%22%3A%20%5B%5B%5B-73.92846079999998%2C%2040.7021668%5D%2C%20%5B-73.90246819999999%2C%2040.7021668%5D%2C%20%5B-73.90246819999999%2C%2040.7193454%5D%2C%20%5B-73.92846079999998%2C%2040.7193454%5D%2C%20%5B-73.92846079999998%2C%2040.7021668%5D%5D%5D%2C%20%22type%22%3A%20%22Polygon%22%7D%2C%20%22properties%22%3A%20%7B%22zone_id%22%3A%20%22172%22%7D%2C%20%22type%22%3A%20%22Feature%22%7D%2C%20%7B%22geometry%22%3A%20%7B%22coordinates%22%3A%20%5B%5B%5B-73.90246819999999%2C%2040.7021668%5D%2C%20%5B-73.87647559999999%2C%2040.7021668%5D%2C%20%5B-73.87647559999999%2C%2040.7193454%5D%2C%20%5B-73.90246819999999%2C%2040.7193454%5D%2C%20%5B-73.90246819999999%2C%2040.7021668%5D%5D%5D%2C%20%22type%22%3A%20%22Polygon%22%7D%2C%20%22properties%22%3A%20%7B%22zone_id%22%3A%20%22173%22%7D%2C%20%22type%22%3A%20%22Feature%22%7D%2C%20%7B%22geometry%22%3A%20%7B%22coordinates%22%3A%20%5B%5B%5B-73.87647559999999%2C%2040.7021668%5D%2C%20%5B-73.850483%2C%2040.7021668%5D%2C%20%5B-73.850483%2C%2040.7193454%5D%2C%20%5B-73.87647559999999%2C%2040.7193454%5D%2C%20%5B-73.87647559999999%2C%2040.7021668%5D%5D%5D%2C%20%22type%22%3A%20%22Polygon%22%7D%2C%20%22properties%22%3A%20%7B%22zone_id%22%3A%20%22174%22%7D%2C%20%22type%22%3A%20%22Feature%22%7D%2C%20%7B%22geometry%22%3A%20%7B%22coordinates%22%3A%20%5B%5B%5B-73.850483%2C%2040.7021668%5D%2C%20%5B-73.82449039999999%2C%2040.7021668%5D%2C%20%5B-73.82449039999999%2C%2040.7193454%5D%2C%20%5B-73.850483%2C%2040.7193454%5D%2C%20%5B-73.850483%2C%2040.7021668%5D%5D%5D%2C%20%22type%22%3A%20%22Polygon%22%7D%2C%20%22properties%22%3A%20%7B%22zone_id%22%3A%20%22175%22%7D%2C%20%22type%22%3A%20%22Feature%22%7D%2C%20%7B%22geometry%22%3A%20%7B%22coordinates%22%3A%20%5B%5B%5B-73.82449039999999%2C%2040.7021668%5D%2C%20%5B-73.79849779999999%2C%2040.7021668%5D%2C%20%5B-73.79849779999999%2C%2040.7193454%5D%2C%20%5B-73.82449039999999%2C%2040.7193454%5D%2C%20%5B-73.82449039999999%2C%2040.7021668%5D%5D%5D%2C%20%22type%22%3A%20%22Polygon%22%7D%2C%20%22properties%22%3A%20%7B%22zone_id%22%3A%20%22176%22%7D%2C%20%22type%22%3A%20%22Feature%22%7D%2C%20%7B%22geometry%22%3A%20%7B%22coordinates%22%3A%20%5B%5B%5B-73.79849779999999%2C%2040.7021668%5D%2C%20%5B-73.7725052%2C%2040.7021668%5D%2C%20%5B-73.7725052%2C%2040.7193454%5D%2C%20%5B-73.79849779999999%2C%2040.7193454%5D%2C%20%5B-73.79849779999999%2C%2040.7021668%5D%5D%5D%2C%20%22type%22%3A%20%22Polygon%22%7D%2C%20%22properties%22%3A%20%7B%22zone_id%22%3A%20%22177%22%7D%2C%20%22type%22%3A%20%22Feature%22%7D%2C%20%7B%22geometry%22%3A%20%7B%22coordinates%22%3A%20%5B%5B%5B-73.7725052%2C%2040.7021668%5D%2C%20%5B-73.74651259999999%2C%2040.7021668%5D%2C%20%5B-73.74651259999999%2C%2040.7193454%5D%2C%20%5B-73.7725052%2C%2040.7193454%5D%2C%20%5B-73.7725052%2C%2040.7021668%5D%5D%5D%2C%20%22type%22%3A%20%22Polygon%22%7D%2C%20%22properties%22%3A%20%7B%22zone_id%22%3A%20%22178%22%7D%2C%20%22type%22%3A%20%22Feature%22%7D%2C%20%7B%22geometry%22%3A%20%7B%22coordinates%22%3A%20%5B%5B%5B-73.74651259999999%2C%2040.7021668%5D%2C%20%5B-73.72052%2C%2040.7021668%5D%2C%20%5B-73.72052%2C%2040.7193454%5D%2C%20%5B-73.74651259999999%2C%2040.7193454%5D%2C%20%5B-73.74651259999999%2C%2040.7021668%5D%5D%5D%2C%20%22type%22%3A%20%22Polygon%22%7D%2C%20%22properties%22%3A%20%7B%22zone_id%22%3A%20%22179%22%7D%2C%20%22type%22%3A%20%22Feature%22%7D%2C%20%7B%22geometry%22%3A%20%7B%22coordinates%22%3A%20%5B%5B%5B-74.24037199999998%2C%2040.7193454%5D%2C%20%5B-74.21437939999998%2C%2040.7193454%5D%2C%20%5B-74.21437939999998%2C%2040.736524%5D%2C%20%5B-74.24037199999998%2C%2040.736524%5D%2C%20%5B-74.24037199999998%2C%2040.7193454%5D%5D%5D%2C%20%22type%22%3A%20%22Polygon%22%7D%2C%20%22properties%22%3A%20%7B%22zone_id%22%3A%20%22180%22%7D%2C%20%22type%22%3A%20%22Feature%22%7D%2C%20%7B%22geometry%22%3A%20%7B%22coordinates%22%3A%20%5B%5B%5B-74.21437939999998%2C%2040.7193454%5D%2C%20%5B-74.18838679999998%2C%2040.7193454%5D%2C%20%5B-74.18838679999998%2C%2040.736524%5D%2C%20%5B-74.21437939999998%2C%2040.736524%5D%2C%20%5B-74.21437939999998%2C%2040.7193454%5D%5D%5D%2C%20%22type%22%3A%20%22Polygon%22%7D%2C%20%22properties%22%3A%20%7B%22zone_id%22%3A%20%22181%22%7D%2C%20%22type%22%3A%20%22Feature%22%7D%2C%20%7B%22geometry%22%3A%20%7B%22coordinates%22%3A%20%5B%5B%5B-74.18838679999998%2C%2040.7193454%5D%2C%20%5B-74.16239419999998%2C%2040.7193454%5D%2C%20%5B-74.16239419999998%2C%2040.736524%5D%2C%20%5B-74.18838679999998%2C%2040.736524%5D%2C%20%5B-74.18838679999998%2C%2040.7193454%5D%5D%5D%2C%20%22type%22%3A%20%22Polygon%22%7D%2C%20%22properties%22%3A%20%7B%22zone_id%22%3A%20%22182%22%7D%2C%20%22type%22%3A%20%22Feature%22%7D%2C%20%7B%22geometry%22%3A%20%7B%22coordinates%22%3A%20%5B%5B%5B-74.16239419999998%2C%2040.7193454%5D%2C%20%5B-74.13640159999999%2C%2040.7193454%5D%2C%20%5B-74.13640159999999%2C%2040.736524%5D%2C%20%5B-74.16239419999998%2C%2040.736524%5D%2C%20%5B-74.16239419999998%2C%2040.7193454%5D%5D%5D%2C%20%22type%22%3A%20%22Polygon%22%7D%2C%20%22properties%22%3A%20%7B%22zone_id%22%3A%20%22183%22%7D%2C%20%22type%22%3A%20%22Feature%22%7D%2C%20%7B%22geometry%22%3A%20%7B%22coordinates%22%3A%20%5B%5B%5B-74.13640159999999%2C%2040.7193454%5D%2C%20%5B-74.11040899999998%2C%2040.7193454%5D%2C%20%5B-74.11040899999998%2C%2040.736524%5D%2C%20%5B-74.13640159999999%2C%2040.736524%5D%2C%20%5B-74.13640159999999%2C%2040.7193454%5D%5D%5D%2C%20%22type%22%3A%20%22Polygon%22%7D%2C%20%22properties%22%3A%20%7B%22zone_id%22%3A%20%22184%22%7D%2C%20%22type%22%3A%20%22Feature%22%7D%2C%20%7B%22geometry%22%3A%20%7B%22coordinates%22%3A%20%5B%5B%5B-74.11040899999998%2C%2040.7193454%5D%2C%20%5B-74.08441639999998%2C%2040.7193454%5D%2C%20%5B-74.08441639999998%2C%2040.736524%5D%2C%20%5B-74.11040899999998%2C%2040.736524%5D%2C%20%5B-74.11040899999998%2C%2040.7193454%5D%5D%5D%2C%20%22type%22%3A%20%22Polygon%22%7D%2C%20%22properties%22%3A%20%7B%22zone_id%22%3A%20%22185%22%7D%2C%20%22type%22%3A%20%22Feature%22%7D%2C%20%7B%22geometry%22%3A%20%7B%22coordinates%22%3A%20%5B%5B%5B-74.08441639999998%2C%2040.7193454%5D%2C%20%5B-74.05842379999999%2C%2040.7193454%5D%2C%20%5B-74.05842379999999%2C%2040.736524%5D%2C%20%5B-74.08441639999998%2C%2040.736524%5D%2C%20%5B-74.08441639999998%2C%2040.7193454%5D%5D%5D%2C%20%22type%22%3A%20%22Polygon%22%7D%2C%20%22properties%22%3A%20%7B%22zone_id%22%3A%20%22186%22%7D%2C%20%22type%22%3A%20%22Feature%22%7D%2C%20%7B%22geometry%22%3A%20%7B%22coordinates%22%3A%20%5B%5B%5B-74.05842379999999%2C%2040.7193454%5D%2C%20%5B-74.03243119999999%2C%2040.7193454%5D%2C%20%5B-74.03243119999999%2C%2040.736524%5D%2C%20%5B-74.05842379999999%2C%2040.736524%5D%2C%20%5B-74.05842379999999%2C%2040.7193454%5D%5D%5D%2C%20%22type%22%3A%20%22Polygon%22%7D%2C%20%22properties%22%3A%20%7B%22zone_id%22%3A%20%22187%22%7D%2C%20%22type%22%3A%20%22Feature%22%7D%2C%20%7B%22geometry%22%3A%20%7B%22coordinates%22%3A%20%5B%5B%5B-74.03243119999999%2C%2040.7193454%5D%2C%20%5B-74.00643859999998%2C%2040.7193454%5D%2C%20%5B-74.00643859999998%2C%2040.736524%5D%2C%20%5B-74.03243119999999%2C%2040.736524%5D%2C%20%5B-74.03243119999999%2C%2040.7193454%5D%5D%5D%2C%20%22type%22%3A%20%22Polygon%22%7D%2C%20%22properties%22%3A%20%7B%22zone_id%22%3A%20%22188%22%7D%2C%20%22type%22%3A%20%22Feature%22%7D%2C%20%7B%22geometry%22%3A%20%7B%22coordinates%22%3A%20%5B%5B%5B-74.00643859999998%2C%2040.7193454%5D%2C%20%5B-73.98044599999999%2C%2040.7193454%5D%2C%20%5B-73.98044599999999%2C%2040.736524%5D%2C%20%5B-74.00643859999998%2C%2040.736524%5D%2C%20%5B-74.00643859999998%2C%2040.7193454%5D%5D%5D%2C%20%22type%22%3A%20%22Polygon%22%7D%2C%20%22properties%22%3A%20%7B%22zone_id%22%3A%20%22189%22%7D%2C%20%22type%22%3A%20%22Feature%22%7D%2C%20%7B%22geometry%22%3A%20%7B%22coordinates%22%3A%20%5B%5B%5B-73.98044599999999%2C%2040.7193454%5D%2C%20%5B-73.95445339999999%2C%2040.7193454%5D%2C%20%5B-73.95445339999999%2C%2040.736524%5D%2C%20%5B-73.98044599999999%2C%2040.736524%5D%2C%20%5B-73.98044599999999%2C%2040.7193454%5D%5D%5D%2C%20%22type%22%3A%20%22Polygon%22%7D%2C%20%22properties%22%3A%20%7B%22zone_id%22%3A%20%22190%22%7D%2C%20%22type%22%3A%20%22Feature%22%7D%2C%20%7B%22geometry%22%3A%20%7B%22coordinates%22%3A%20%5B%5B%5B-73.95445339999999%2C%2040.7193454%5D%2C%20%5B-73.92846079999998%2C%2040.7193454%5D%2C%20%5B-73.92846079999998%2C%2040.736524%5D%2C%20%5B-73.95445339999999%2C%2040.736524%5D%2C%20%5B-73.95445339999999%2C%2040.7193454%5D%5D%5D%2C%20%22type%22%3A%20%22Polygon%22%7D%2C%20%22properties%22%3A%20%7B%22zone_id%22%3A%20%22191%22%7D%2C%20%22type%22%3A%20%22Feature%22%7D%2C%20%7B%22geometry%22%3A%20%7B%22coordinates%22%3A%20%5B%5B%5B-73.92846079999998%2C%2040.7193454%5D%2C%20%5B-73.90246819999999%2C%2040.7193454%5D%2C%20%5B-73.90246819999999%2C%2040.736524%5D%2C%20%5B-73.92846079999998%2C%2040.736524%5D%2C%20%5B-73.92846079999998%2C%2040.7193454%5D%5D%5D%2C%20%22type%22%3A%20%22Polygon%22%7D%2C%20%22properties%22%3A%20%7B%22zone_id%22%3A%20%22192%22%7D%2C%20%22type%22%3A%20%22Feature%22%7D%2C%20%7B%22geometry%22%3A%20%7B%22coordinates%22%3A%20%5B%5B%5B-73.90246819999999%2C%2040.7193454%5D%2C%20%5B-73.87647559999999%2C%2040.7193454%5D%2C%20%5B-73.87647559999999%2C%2040.736524%5D%2C%20%5B-73.90246819999999%2C%2040.736524%5D%2C%20%5B-73.90246819999999%2C%2040.7193454%5D%5D%5D%2C%20%22type%22%3A%20%22Polygon%22%7D%2C%20%22properties%22%3A%20%7B%22zone_id%22%3A%20%22193%22%7D%2C%20%22type%22%3A%20%22Feature%22%7D%2C%20%7B%22geometry%22%3A%20%7B%22coordinates%22%3A%20%5B%5B%5B-73.87647559999999%2C%2040.7193454%5D%2C%20%5B-73.850483%2C%2040.7193454%5D%2C%20%5B-73.850483%2C%2040.736524%5D%2C%20%5B-73.87647559999999%2C%2040.736524%5D%2C%20%5B-73.87647559999999%2C%2040.7193454%5D%5D%5D%2C%20%22type%22%3A%20%22Polygon%22%7D%2C%20%22properties%22%3A%20%7B%22zone_id%22%3A%20%22194%22%7D%2C%20%22type%22%3A%20%22Feature%22%7D%2C%20%7B%22geometry%22%3A%20%7B%22coordinates%22%3A%20%5B%5B%5B-73.850483%2C%2040.7193454%5D%2C%20%5B-73.82449039999999%2C%2040.7193454%5D%2C%20%5B-73.82449039999999%2C%2040.736524%5D%2C%20%5B-73.850483%2C%2040.736524%5D%2C%20%5B-73.850483%2C%2040.7193454%5D%5D%5D%2C%20%22type%22%3A%20%22Polygon%22%7D%2C%20%22properties%22%3A%20%7B%22zone_id%22%3A%20%22195%22%7D%2C%20%22type%22%3A%20%22Feature%22%7D%2C%20%7B%22geometry%22%3A%20%7B%22coordinates%22%3A%20%5B%5B%5B-73.82449039999999%2C%2040.7193454%5D%2C%20%5B-73.79849779999999%2C%2040.7193454%5D%2C%20%5B-73.79849779999999%2C%2040.736524%5D%2C%20%5B-73.82449039999999%2C%2040.736524%5D%2C%20%5B-73.82449039999999%2C%2040.7193454%5D%5D%5D%2C%20%22type%22%3A%20%22Polygon%22%7D%2C%20%22properties%22%3A%20%7B%22zone_id%22%3A%20%22196%22%7D%2C%20%22type%22%3A%20%22Feature%22%7D%2C%20%7B%22geometry%22%3A%20%7B%22coordinates%22%3A%20%5B%5B%5B-73.79849779999999%2C%2040.7193454%5D%2C%20%5B-73.7725052%2C%2040.7193454%5D%2C%20%5B-73.7725052%2C%2040.736524%5D%2C%20%5B-73.79849779999999%2C%2040.736524%5D%2C%20%5B-73.79849779999999%2C%2040.7193454%5D%5D%5D%2C%20%22type%22%3A%20%22Polygon%22%7D%2C%20%22properties%22%3A%20%7B%22zone_id%22%3A%20%22197%22%7D%2C%20%22type%22%3A%20%22Feature%22%7D%2C%20%7B%22geometry%22%3A%20%7B%22coordinates%22%3A%20%5B%5B%5B-73.7725052%2C%2040.7193454%5D%2C%20%5B-73.74651259999999%2C%2040.7193454%5D%2C%20%5B-73.74651259999999%2C%2040.736524%5D%2C%20%5B-73.7725052%2C%2040.736524%5D%2C%20%5B-73.7725052%2C%2040.7193454%5D%5D%5D%2C%20%22type%22%3A%20%22Polygon%22%7D%2C%20%22properties%22%3A%20%7B%22zone_id%22%3A%20%22198%22%7D%2C%20%22type%22%3A%20%22Feature%22%7D%2C%20%7B%22geometry%22%3A%20%7B%22coordinates%22%3A%20%5B%5B%5B-73.74651259999999%2C%2040.7193454%5D%2C%20%5B-73.72052%2C%2040.7193454%5D%2C%20%5B-73.72052%2C%2040.736524%5D%2C%20%5B-73.74651259999999%2C%2040.736524%5D%2C%20%5B-73.74651259999999%2C%2040.7193454%5D%5D%5D%2C%20%22type%22%3A%20%22Polygon%22%7D%2C%20%22properties%22%3A%20%7B%22zone_id%22%3A%20%22199%22%7D%2C%20%22type%22%3A%20%22Feature%22%7D%2C%20%7B%22geometry%22%3A%20%7B%22coordinates%22%3A%20%5B%5B%5B-74.24037199999998%2C%2040.736524%5D%2C%20%5B-74.21437939999998%2C%2040.736524%5D%2C%20%5B-74.21437939999998%2C%2040.7537026%5D%2C%20%5B-74.24037199999998%2C%2040.7537026%5D%2C%20%5B-74.24037199999998%2C%2040.736524%5D%5D%5D%2C%20%22type%22%3A%20%22Polygon%22%7D%2C%20%22properties%22%3A%20%7B%22zone_id%22%3A%20%22200%22%7D%2C%20%22type%22%3A%20%22Feature%22%7D%2C%20%7B%22geometry%22%3A%20%7B%22coordinates%22%3A%20%5B%5B%5B-74.21437939999998%2C%2040.736524%5D%2C%20%5B-74.18838679999998%2C%2040.736524%5D%2C%20%5B-74.18838679999998%2C%2040.7537026%5D%2C%20%5B-74.21437939999998%2C%2040.7537026%5D%2C%20%5B-74.21437939999998%2C%2040.736524%5D%5D%5D%2C%20%22type%22%3A%20%22Polygon%22%7D%2C%20%22properties%22%3A%20%7B%22zone_id%22%3A%20%22201%22%7D%2C%20%22type%22%3A%20%22Feature%22%7D%2C%20%7B%22geometry%22%3A%20%7B%22coordinates%22%3A%20%5B%5B%5B-74.18838679999998%2C%2040.736524%5D%2C%20%5B-74.16239419999998%2C%2040.736524%5D%2C%20%5B-74.16239419999998%2C%2040.7537026%5D%2C%20%5B-74.18838679999998%2C%2040.7537026%5D%2C%20%5B-74.18838679999998%2C%2040.736524%5D%5D%5D%2C%20%22type%22%3A%20%22Polygon%22%7D%2C%20%22properties%22%3A%20%7B%22zone_id%22%3A%20%22202%22%7D%2C%20%22type%22%3A%20%22Feature%22%7D%2C%20%7B%22geometry%22%3A%20%7B%22coordinates%22%3A%20%5B%5B%5B-74.16239419999998%2C%2040.736524%5D%2C%20%5B-74.13640159999999%2C%2040.736524%5D%2C%20%5B-74.13640159999999%2C%2040.7537026%5D%2C%20%5B-74.16239419999998%2C%2040.7537026%5D%2C%20%5B-74.16239419999998%2C%2040.736524%5D%5D%5D%2C%20%22type%22%3A%20%22Polygon%22%7D%2C%20%22properties%22%3A%20%7B%22zone_id%22%3A%20%22203%22%7D%2C%20%22type%22%3A%20%22Feature%22%7D%2C%20%7B%22geometry%22%3A%20%7B%22coordinates%22%3A%20%5B%5B%5B-74.13640159999999%2C%2040.736524%5D%2C%20%5B-74.11040899999998%2C%2040.736524%5D%2C%20%5B-74.11040899999998%2C%2040.7537026%5D%2C%20%5B-74.13640159999999%2C%2040.7537026%5D%2C%20%5B-74.13640159999999%2C%2040.736524%5D%5D%5D%2C%20%22type%22%3A%20%22Polygon%22%7D%2C%20%22properties%22%3A%20%7B%22zone_id%22%3A%20%22204%22%7D%2C%20%22type%22%3A%20%22Feature%22%7D%2C%20%7B%22geometry%22%3A%20%7B%22coordinates%22%3A%20%5B%5B%5B-74.11040899999998%2C%2040.736524%5D%2C%20%5B-74.08441639999998%2C%2040.736524%5D%2C%20%5B-74.08441639999998%2C%2040.7537026%5D%2C%20%5B-74.11040899999998%2C%2040.7537026%5D%2C%20%5B-74.11040899999998%2C%2040.736524%5D%5D%5D%2C%20%22type%22%3A%20%22Polygon%22%7D%2C%20%22properties%22%3A%20%7B%22zone_id%22%3A%20%22205%22%7D%2C%20%22type%22%3A%20%22Feature%22%7D%2C%20%7B%22geometry%22%3A%20%7B%22coordinates%22%3A%20%5B%5B%5B-74.08441639999998%2C%2040.736524%5D%2C%20%5B-74.05842379999999%2C%2040.736524%5D%2C%20%5B-74.05842379999999%2C%2040.7537026%5D%2C%20%5B-74.08441639999998%2C%2040.7537026%5D%2C%20%5B-74.08441639999998%2C%2040.736524%5D%5D%5D%2C%20%22type%22%3A%20%22Polygon%22%7D%2C%20%22properties%22%3A%20%7B%22zone_id%22%3A%20%22206%22%7D%2C%20%22type%22%3A%20%22Feature%22%7D%2C%20%7B%22geometry%22%3A%20%7B%22coordinates%22%3A%20%5B%5B%5B-74.05842379999999%2C%2040.736524%5D%2C%20%5B-74.03243119999999%2C%2040.736524%5D%2C%20%5B-74.03243119999999%2C%2040.7537026%5D%2C%20%5B-74.05842379999999%2C%2040.7537026%5D%2C%20%5B-74.05842379999999%2C%2040.736524%5D%5D%5D%2C%20%22type%22%3A%20%22Polygon%22%7D%2C%20%22properties%22%3A%20%7B%22zone_id%22%3A%20%22207%22%7D%2C%20%22type%22%3A%20%22Feature%22%7D%2C%20%7B%22geometry%22%3A%20%7B%22coordinates%22%3A%20%5B%5B%5B-74.03243119999999%2C%2040.736524%5D%2C%20%5B-74.00643859999998%2C%2040.736524%5D%2C%20%5B-74.00643859999998%2C%2040.7537026%5D%2C%20%5B-74.03243119999999%2C%2040.7537026%5D%2C%20%5B-74.03243119999999%2C%2040.736524%5D%5D%5D%2C%20%22type%22%3A%20%22Polygon%22%7D%2C%20%22properties%22%3A%20%7B%22zone_id%22%3A%20%22208%22%7D%2C%20%22type%22%3A%20%22Feature%22%7D%2C%20%7B%22geometry%22%3A%20%7B%22coordinates%22%3A%20%5B%5B%5B-74.00643859999998%2C%2040.736524%5D%2C%20%5B-73.98044599999999%2C%2040.736524%5D%2C%20%5B-73.98044599999999%2C%2040.7537026%5D%2C%20%5B-74.00643859999998%2C%2040.7537026%5D%2C%20%5B-74.00643859999998%2C%2040.736524%5D%5D%5D%2C%20%22type%22%3A%20%22Polygon%22%7D%2C%20%22properties%22%3A%20%7B%22zone_id%22%3A%20%22209%22%7D%2C%20%22type%22%3A%20%22Feature%22%7D%2C%20%7B%22geometry%22%3A%20%7B%22coordinates%22%3A%20%5B%5B%5B-73.98044599999999%2C%2040.736524%5D%2C%20%5B-73.95445339999999%2C%2040.736524%5D%2C%20%5B-73.95445339999999%2C%2040.7537026%5D%2C%20%5B-73.98044599999999%2C%2040.7537026%5D%2C%20%5B-73.98044599999999%2C%2040.736524%5D%5D%5D%2C%20%22type%22%3A%20%22Polygon%22%7D%2C%20%22properties%22%3A%20%7B%22zone_id%22%3A%20%22210%22%7D%2C%20%22type%22%3A%20%22Feature%22%7D%2C%20%7B%22geometry%22%3A%20%7B%22coordinates%22%3A%20%5B%5B%5B-73.95445339999999%2C%2040.736524%5D%2C%20%5B-73.92846079999998%2C%2040.736524%5D%2C%20%5B-73.92846079999998%2C%2040.7537026%5D%2C%20%5B-73.95445339999999%2C%2040.7537026%5D%2C%20%5B-73.95445339999999%2C%2040.736524%5D%5D%5D%2C%20%22type%22%3A%20%22Polygon%22%7D%2C%20%22properties%22%3A%20%7B%22zone_id%22%3A%20%22211%22%7D%2C%20%22type%22%3A%20%22Feature%22%7D%2C%20%7B%22geometry%22%3A%20%7B%22coordinates%22%3A%20%5B%5B%5B-73.92846079999998%2C%2040.736524%5D%2C%20%5B-73.90246819999999%2C%2040.736524%5D%2C%20%5B-73.90246819999999%2C%2040.7537026%5D%2C%20%5B-73.92846079999998%2C%2040.7537026%5D%2C%20%5B-73.92846079999998%2C%2040.736524%5D%5D%5D%2C%20%22type%22%3A%20%22Polygon%22%7D%2C%20%22properties%22%3A%20%7B%22zone_id%22%3A%20%22212%22%7D%2C%20%22type%22%3A%20%22Feature%22%7D%2C%20%7B%22geometry%22%3A%20%7B%22coordinates%22%3A%20%5B%5B%5B-73.90246819999999%2C%2040.736524%5D%2C%20%5B-73.87647559999999%2C%2040.736524%5D%2C%20%5B-73.87647559999999%2C%2040.7537026%5D%2C%20%5B-73.90246819999999%2C%2040.7537026%5D%2C%20%5B-73.90246819999999%2C%2040.736524%5D%5D%5D%2C%20%22type%22%3A%20%22Polygon%22%7D%2C%20%22properties%22%3A%20%7B%22zone_id%22%3A%20%22213%22%7D%2C%20%22type%22%3A%20%22Feature%22%7D%2C%20%7B%22geometry%22%3A%20%7B%22coordinates%22%3A%20%5B%5B%5B-73.87647559999999%2C%2040.736524%5D%2C%20%5B-73.850483%2C%2040.736524%5D%2C%20%5B-73.850483%2C%2040.7537026%5D%2C%20%5B-73.87647559999999%2C%2040.7537026%5D%2C%20%5B-73.87647559999999%2C%2040.736524%5D%5D%5D%2C%20%22type%22%3A%20%22Polygon%22%7D%2C%20%22properties%22%3A%20%7B%22zone_id%22%3A%20%22214%22%7D%2C%20%22type%22%3A%20%22Feature%22%7D%2C%20%7B%22geometry%22%3A%20%7B%22coordinates%22%3A%20%5B%5B%5B-73.850483%2C%2040.736524%5D%2C%20%5B-73.82449039999999%2C%2040.736524%5D%2C%20%5B-73.82449039999999%2C%2040.7537026%5D%2C%20%5B-73.850483%2C%2040.7537026%5D%2C%20%5B-73.850483%2C%2040.736524%5D%5D%5D%2C%20%22type%22%3A%20%22Polygon%22%7D%2C%20%22properties%22%3A%20%7B%22zone_id%22%3A%20%22215%22%7D%2C%20%22type%22%3A%20%22Feature%22%7D%2C%20%7B%22geometry%22%3A%20%7B%22coordinates%22%3A%20%5B%5B%5B-73.82449039999999%2C%2040.736524%5D%2C%20%5B-73.79849779999999%2C%2040.736524%5D%2C%20%5B-73.79849779999999%2C%2040.7537026%5D%2C%20%5B-73.82449039999999%2C%2040.7537026%5D%2C%20%5B-73.82449039999999%2C%2040.736524%5D%5D%5D%2C%20%22type%22%3A%20%22Polygon%22%7D%2C%20%22properties%22%3A%20%7B%22zone_id%22%3A%20%22216%22%7D%2C%20%22type%22%3A%20%22Feature%22%7D%2C%20%7B%22geometry%22%3A%20%7B%22coordinates%22%3A%20%5B%5B%5B-73.79849779999999%2C%2040.736524%5D%2C%20%5B-73.7725052%2C%2040.736524%5D%2C%20%5B-73.7725052%2C%2040.7537026%5D%2C%20%5B-73.79849779999999%2C%2040.7537026%5D%2C%20%5B-73.79849779999999%2C%2040.736524%5D%5D%5D%2C%20%22type%22%3A%20%22Polygon%22%7D%2C%20%22properties%22%3A%20%7B%22zone_id%22%3A%20%22217%22%7D%2C%20%22type%22%3A%20%22Feature%22%7D%2C%20%7B%22geometry%22%3A%20%7B%22coordinates%22%3A%20%5B%5B%5B-73.7725052%2C%2040.736524%5D%2C%20%5B-73.74651259999999%2C%2040.736524%5D%2C%20%5B-73.74651259999999%2C%2040.7537026%5D%2C%20%5B-73.7725052%2C%2040.7537026%5D%2C%20%5B-73.7725052%2C%2040.736524%5D%5D%5D%2C%20%22type%22%3A%20%22Polygon%22%7D%2C%20%22properties%22%3A%20%7B%22zone_id%22%3A%20%22218%22%7D%2C%20%22type%22%3A%20%22Feature%22%7D%2C%20%7B%22geometry%22%3A%20%7B%22coordinates%22%3A%20%5B%5B%5B-73.74651259999999%2C%2040.736524%5D%2C%20%5B-73.72052%2C%2040.736524%5D%2C%20%5B-73.72052%2C%2040.7537026%5D%2C%20%5B-73.74651259999999%2C%2040.7537026%5D%2C%20%5B-73.74651259999999%2C%2040.736524%5D%5D%5D%2C%20%22type%22%3A%20%22Polygon%22%7D%2C%20%22properties%22%3A%20%7B%22zone_id%22%3A%20%22219%22%7D%2C%20%22type%22%3A%20%22Feature%22%7D%2C%20%7B%22geometry%22%3A%20%7B%22coordinates%22%3A%20%5B%5B%5B-74.24037199999998%2C%2040.7537026%5D%2C%20%5B-74.21437939999998%2C%2040.7537026%5D%2C%20%5B-74.21437939999998%2C%2040.7708812%5D%2C%20%5B-74.24037199999998%2C%2040.7708812%5D%2C%20%5B-74.24037199999998%2C%2040.7537026%5D%5D%5D%2C%20%22type%22%3A%20%22Polygon%22%7D%2C%20%22properties%22%3A%20%7B%22zone_id%22%3A%20%22220%22%7D%2C%20%22type%22%3A%20%22Feature%22%7D%2C%20%7B%22geometry%22%3A%20%7B%22coordinates%22%3A%20%5B%5B%5B-74.21437939999998%2C%2040.7537026%5D%2C%20%5B-74.18838679999998%2C%2040.7537026%5D%2C%20%5B-74.18838679999998%2C%2040.7708812%5D%2C%20%5B-74.21437939999998%2C%2040.7708812%5D%2C%20%5B-74.21437939999998%2C%2040.7537026%5D%5D%5D%2C%20%22type%22%3A%20%22Polygon%22%7D%2C%20%22properties%22%3A%20%7B%22zone_id%22%3A%20%22221%22%7D%2C%20%22type%22%3A%20%22Feature%22%7D%2C%20%7B%22geometry%22%3A%20%7B%22coordinates%22%3A%20%5B%5B%5B-74.18838679999998%2C%2040.7537026%5D%2C%20%5B-74.16239419999998%2C%2040.7537026%5D%2C%20%5B-74.16239419999998%2C%2040.7708812%5D%2C%20%5B-74.18838679999998%2C%2040.7708812%5D%2C%20%5B-74.18838679999998%2C%2040.7537026%5D%5D%5D%2C%20%22type%22%3A%20%22Polygon%22%7D%2C%20%22properties%22%3A%20%7B%22zone_id%22%3A%20%22222%22%7D%2C%20%22type%22%3A%20%22Feature%22%7D%2C%20%7B%22geometry%22%3A%20%7B%22coordinates%22%3A%20%5B%5B%5B-74.16239419999998%2C%2040.7537026%5D%2C%20%5B-74.13640159999999%2C%2040.7537026%5D%2C%20%5B-74.13640159999999%2C%2040.7708812%5D%2C%20%5B-74.16239419999998%2C%2040.7708812%5D%2C%20%5B-74.16239419999998%2C%2040.7537026%5D%5D%5D%2C%20%22type%22%3A%20%22Polygon%22%7D%2C%20%22properties%22%3A%20%7B%22zone_id%22%3A%20%22223%22%7D%2C%20%22type%22%3A%20%22Feature%22%7D%2C%20%7B%22geometry%22%3A%20%7B%22coordinates%22%3A%20%5B%5B%5B-74.13640159999999%2C%2040.7537026%5D%2C%20%5B-74.11040899999998%2C%2040.7537026%5D%2C%20%5B-74.11040899999998%2C%2040.7708812%5D%2C%20%5B-74.13640159999999%2C%2040.7708812%5D%2C%20%5B-74.13640159999999%2C%2040.7537026%5D%5D%5D%2C%20%22type%22%3A%20%22Polygon%22%7D%2C%20%22properties%22%3A%20%7B%22zone_id%22%3A%20%22224%22%7D%2C%20%22type%22%3A%20%22Feature%22%7D%2C%20%7B%22geometry%22%3A%20%7B%22coordinates%22%3A%20%5B%5B%5B-74.11040899999998%2C%2040.7537026%5D%2C%20%5B-74.08441639999998%2C%2040.7537026%5D%2C%20%5B-74.08441639999998%2C%2040.7708812%5D%2C%20%5B-74.11040899999998%2C%2040.7708812%5D%2C%20%5B-74.11040899999998%2C%2040.7537026%5D%5D%5D%2C%20%22type%22%3A%20%22Polygon%22%7D%2C%20%22properties%22%3A%20%7B%22zone_id%22%3A%20%22225%22%7D%2C%20%22type%22%3A%20%22Feature%22%7D%2C%20%7B%22geometry%22%3A%20%7B%22coordinates%22%3A%20%5B%5B%5B-74.08441639999998%2C%2040.7537026%5D%2C%20%5B-74.05842379999999%2C%2040.7537026%5D%2C%20%5B-74.05842379999999%2C%2040.7708812%5D%2C%20%5B-74.08441639999998%2C%2040.7708812%5D%2C%20%5B-74.08441639999998%2C%2040.7537026%5D%5D%5D%2C%20%22type%22%3A%20%22Polygon%22%7D%2C%20%22properties%22%3A%20%7B%22zone_id%22%3A%20%22226%22%7D%2C%20%22type%22%3A%20%22Feature%22%7D%2C%20%7B%22geometry%22%3A%20%7B%22coordinates%22%3A%20%5B%5B%5B-74.05842379999999%2C%2040.7537026%5D%2C%20%5B-74.03243119999999%2C%2040.7537026%5D%2C%20%5B-74.03243119999999%2C%2040.7708812%5D%2C%20%5B-74.05842379999999%2C%2040.7708812%5D%2C%20%5B-74.05842379999999%2C%2040.7537026%5D%5D%5D%2C%20%22type%22%3A%20%22Polygon%22%7D%2C%20%22properties%22%3A%20%7B%22zone_id%22%3A%20%22227%22%7D%2C%20%22type%22%3A%20%22Feature%22%7D%2C%20%7B%22geometry%22%3A%20%7B%22coordinates%22%3A%20%5B%5B%5B-74.03243119999999%2C%2040.7537026%5D%2C%20%5B-74.00643859999998%2C%2040.7537026%5D%2C%20%5B-74.00643859999998%2C%2040.7708812%5D%2C%20%5B-74.03243119999999%2C%2040.7708812%5D%2C%20%5B-74.03243119999999%2C%2040.7537026%5D%5D%5D%2C%20%22type%22%3A%20%22Polygon%22%7D%2C%20%22properties%22%3A%20%7B%22zone_id%22%3A%20%22228%22%7D%2C%20%22type%22%3A%20%22Feature%22%7D%2C%20%7B%22geometry%22%3A%20%7B%22coordinates%22%3A%20%5B%5B%5B-74.00643859999998%2C%2040.7537026%5D%2C%20%5B-73.98044599999999%2C%2040.7537026%5D%2C%20%5B-73.98044599999999%2C%2040.7708812%5D%2C%20%5B-74.00643859999998%2C%2040.7708812%5D%2C%20%5B-74.00643859999998%2C%2040.7537026%5D%5D%5D%2C%20%22type%22%3A%20%22Polygon%22%7D%2C%20%22properties%22%3A%20%7B%22zone_id%22%3A%20%22229%22%7D%2C%20%22type%22%3A%20%22Feature%22%7D%2C%20%7B%22geometry%22%3A%20%7B%22coordinates%22%3A%20%5B%5B%5B-73.98044599999999%2C%2040.7537026%5D%2C%20%5B-73.95445339999999%2C%2040.7537026%5D%2C%20%5B-73.95445339999999%2C%2040.7708812%5D%2C%20%5B-73.98044599999999%2C%2040.7708812%5D%2C%20%5B-73.98044599999999%2C%2040.7537026%5D%5D%5D%2C%20%22type%22%3A%20%22Polygon%22%7D%2C%20%22properties%22%3A%20%7B%22zone_id%22%3A%20%22230%22%7D%2C%20%22type%22%3A%20%22Feature%22%7D%2C%20%7B%22geometry%22%3A%20%7B%22coordinates%22%3A%20%5B%5B%5B-73.95445339999999%2C%2040.7537026%5D%2C%20%5B-73.92846079999998%2C%2040.7537026%5D%2C%20%5B-73.92846079999998%2C%2040.7708812%5D%2C%20%5B-73.95445339999999%2C%2040.7708812%5D%2C%20%5B-73.95445339999999%2C%2040.7537026%5D%5D%5D%2C%20%22type%22%3A%20%22Polygon%22%7D%2C%20%22properties%22%3A%20%7B%22zone_id%22%3A%20%22231%22%7D%2C%20%22type%22%3A%20%22Feature%22%7D%2C%20%7B%22geometry%22%3A%20%7B%22coordinates%22%3A%20%5B%5B%5B-73.92846079999998%2C%2040.7537026%5D%2C%20%5B-73.90246819999999%2C%2040.7537026%5D%2C%20%5B-73.90246819999999%2C%2040.7708812%5D%2C%20%5B-73.92846079999998%2C%2040.7708812%5D%2C%20%5B-73.92846079999998%2C%2040.7537026%5D%5D%5D%2C%20%22type%22%3A%20%22Polygon%22%7D%2C%20%22properties%22%3A%20%7B%22zone_id%22%3A%20%22232%22%7D%2C%20%22type%22%3A%20%22Feature%22%7D%2C%20%7B%22geometry%22%3A%20%7B%22coordinates%22%3A%20%5B%5B%5B-73.90246819999999%2C%2040.7537026%5D%2C%20%5B-73.87647559999999%2C%2040.7537026%5D%2C%20%5B-73.87647559999999%2C%2040.7708812%5D%2C%20%5B-73.90246819999999%2C%2040.7708812%5D%2C%20%5B-73.90246819999999%2C%2040.7537026%5D%5D%5D%2C%20%22type%22%3A%20%22Polygon%22%7D%2C%20%22properties%22%3A%20%7B%22zone_id%22%3A%20%22233%22%7D%2C%20%22type%22%3A%20%22Feature%22%7D%2C%20%7B%22geometry%22%3A%20%7B%22coordinates%22%3A%20%5B%5B%5B-73.87647559999999%2C%2040.7537026%5D%2C%20%5B-73.850483%2C%2040.7537026%5D%2C%20%5B-73.850483%2C%2040.7708812%5D%2C%20%5B-73.87647559999999%2C%2040.7708812%5D%2C%20%5B-73.87647559999999%2C%2040.7537026%5D%5D%5D%2C%20%22type%22%3A%20%22Polygon%22%7D%2C%20%22properties%22%3A%20%7B%22zone_id%22%3A%20%22234%22%7D%2C%20%22type%22%3A%20%22Feature%22%7D%2C%20%7B%22geometry%22%3A%20%7B%22coordinates%22%3A%20%5B%5B%5B-73.850483%2C%2040.7537026%5D%2C%20%5B-73.82449039999999%2C%2040.7537026%5D%2C%20%5B-73.82449039999999%2C%2040.7708812%5D%2C%20%5B-73.850483%2C%2040.7708812%5D%2C%20%5B-73.850483%2C%2040.7537026%5D%5D%5D%2C%20%22type%22%3A%20%22Polygon%22%7D%2C%20%22properties%22%3A%20%7B%22zone_id%22%3A%20%22235%22%7D%2C%20%22type%22%3A%20%22Feature%22%7D%2C%20%7B%22geometry%22%3A%20%7B%22coordinates%22%3A%20%5B%5B%5B-73.82449039999999%2C%2040.7537026%5D%2C%20%5B-73.79849779999999%2C%2040.7537026%5D%2C%20%5B-73.79849779999999%2C%2040.7708812%5D%2C%20%5B-73.82449039999999%2C%2040.7708812%5D%2C%20%5B-73.82449039999999%2C%2040.7537026%5D%5D%5D%2C%20%22type%22%3A%20%22Polygon%22%7D%2C%20%22properties%22%3A%20%7B%22zone_id%22%3A%20%22236%22%7D%2C%20%22type%22%3A%20%22Feature%22%7D%2C%20%7B%22geometry%22%3A%20%7B%22coordinates%22%3A%20%5B%5B%5B-73.79849779999999%2C%2040.7537026%5D%2C%20%5B-73.7725052%2C%2040.7537026%5D%2C%20%5B-73.7725052%2C%2040.7708812%5D%2C%20%5B-73.79849779999999%2C%2040.7708812%5D%2C%20%5B-73.79849779999999%2C%2040.7537026%5D%5D%5D%2C%20%22type%22%3A%20%22Polygon%22%7D%2C%20%22properties%22%3A%20%7B%22zone_id%22%3A%20%22237%22%7D%2C%20%22type%22%3A%20%22Feature%22%7D%2C%20%7B%22geometry%22%3A%20%7B%22coordinates%22%3A%20%5B%5B%5B-73.7725052%2C%2040.7537026%5D%2C%20%5B-73.74651259999999%2C%2040.7537026%5D%2C%20%5B-73.74651259999999%2C%2040.7708812%5D%2C%20%5B-73.7725052%2C%2040.7708812%5D%2C%20%5B-73.7725052%2C%2040.7537026%5D%5D%5D%2C%20%22type%22%3A%20%22Polygon%22%7D%2C%20%22properties%22%3A%20%7B%22zone_id%22%3A%20%22238%22%7D%2C%20%22type%22%3A%20%22Feature%22%7D%2C%20%7B%22geometry%22%3A%20%7B%22coordinates%22%3A%20%5B%5B%5B-73.74651259999999%2C%2040.7537026%5D%2C%20%5B-73.72052%2C%2040.7537026%5D%2C%20%5B-73.72052%2C%2040.7708812%5D%2C%20%5B-73.74651259999999%2C%2040.7708812%5D%2C%20%5B-73.74651259999999%2C%2040.7537026%5D%5D%5D%2C%20%22type%22%3A%20%22Polygon%22%7D%2C%20%22properties%22%3A%20%7B%22zone_id%22%3A%20%22239%22%7D%2C%20%22type%22%3A%20%22Feature%22%7D%2C%20%7B%22geometry%22%3A%20%7B%22coordinates%22%3A%20%5B%5B%5B-74.24037199999998%2C%2040.7708812%5D%2C%20%5B-74.21437939999998%2C%2040.7708812%5D%2C%20%5B-74.21437939999998%2C%2040.7880598%5D%2C%20%5B-74.24037199999998%2C%2040.7880598%5D%2C%20%5B-74.24037199999998%2C%2040.7708812%5D%5D%5D%2C%20%22type%22%3A%20%22Polygon%22%7D%2C%20%22properties%22%3A%20%7B%22zone_id%22%3A%20%22240%22%7D%2C%20%22type%22%3A%20%22Feature%22%7D%2C%20%7B%22geometry%22%3A%20%7B%22coordinates%22%3A%20%5B%5B%5B-74.21437939999998%2C%2040.7708812%5D%2C%20%5B-74.18838679999998%2C%2040.7708812%5D%2C%20%5B-74.18838679999998%2C%2040.7880598%5D%2C%20%5B-74.21437939999998%2C%2040.7880598%5D%2C%20%5B-74.21437939999998%2C%2040.7708812%5D%5D%5D%2C%20%22type%22%3A%20%22Polygon%22%7D%2C%20%22properties%22%3A%20%7B%22zone_id%22%3A%20%22241%22%7D%2C%20%22type%22%3A%20%22Feature%22%7D%2C%20%7B%22geometry%22%3A%20%7B%22coordinates%22%3A%20%5B%5B%5B-74.18838679999998%2C%2040.7708812%5D%2C%20%5B-74.16239419999998%2C%2040.7708812%5D%2C%20%5B-74.16239419999998%2C%2040.7880598%5D%2C%20%5B-74.18838679999998%2C%2040.7880598%5D%2C%20%5B-74.18838679999998%2C%2040.7708812%5D%5D%5D%2C%20%22type%22%3A%20%22Polygon%22%7D%2C%20%22properties%22%3A%20%7B%22zone_id%22%3A%20%22242%22%7D%2C%20%22type%22%3A%20%22Feature%22%7D%2C%20%7B%22geometry%22%3A%20%7B%22coordinates%22%3A%20%5B%5B%5B-74.16239419999998%2C%2040.7708812%5D%2C%20%5B-74.13640159999999%2C%2040.7708812%5D%2C%20%5B-74.13640159999999%2C%2040.7880598%5D%2C%20%5B-74.16239419999998%2C%2040.7880598%5D%2C%20%5B-74.16239419999998%2C%2040.7708812%5D%5D%5D%2C%20%22type%22%3A%20%22Polygon%22%7D%2C%20%22properties%22%3A%20%7B%22zone_id%22%3A%20%22243%22%7D%2C%20%22type%22%3A%20%22Feature%22%7D%2C%20%7B%22geometry%22%3A%20%7B%22coordinates%22%3A%20%5B%5B%5B-74.13640159999999%2C%2040.7708812%5D%2C%20%5B-74.11040899999998%2C%2040.7708812%5D%2C%20%5B-74.11040899999998%2C%2040.7880598%5D%2C%20%5B-74.13640159999999%2C%2040.7880598%5D%2C%20%5B-74.13640159999999%2C%2040.7708812%5D%5D%5D%2C%20%22type%22%3A%20%22Polygon%22%7D%2C%20%22properties%22%3A%20%7B%22zone_id%22%3A%20%22244%22%7D%2C%20%22type%22%3A%20%22Feature%22%7D%2C%20%7B%22geometry%22%3A%20%7B%22coordinates%22%3A%20%5B%5B%5B-74.11040899999998%2C%2040.7708812%5D%2C%20%5B-74.08441639999998%2C%2040.7708812%5D%2C%20%5B-74.08441639999998%2C%2040.7880598%5D%2C%20%5B-74.11040899999998%2C%2040.7880598%5D%2C%20%5B-74.11040899999998%2C%2040.7708812%5D%5D%5D%2C%20%22type%22%3A%20%22Polygon%22%7D%2C%20%22properties%22%3A%20%7B%22zone_id%22%3A%20%22245%22%7D%2C%20%22type%22%3A%20%22Feature%22%7D%2C%20%7B%22geometry%22%3A%20%7B%22coordinates%22%3A%20%5B%5B%5B-74.08441639999998%2C%2040.7708812%5D%2C%20%5B-74.05842379999999%2C%2040.7708812%5D%2C%20%5B-74.05842379999999%2C%2040.7880598%5D%2C%20%5B-74.08441639999998%2C%2040.7880598%5D%2C%20%5B-74.08441639999998%2C%2040.7708812%5D%5D%5D%2C%20%22type%22%3A%20%22Polygon%22%7D%2C%20%22properties%22%3A%20%7B%22zone_id%22%3A%20%22246%22%7D%2C%20%22type%22%3A%20%22Feature%22%7D%2C%20%7B%22geometry%22%3A%20%7B%22coordinates%22%3A%20%5B%5B%5B-74.05842379999999%2C%2040.7708812%5D%2C%20%5B-74.03243119999999%2C%2040.7708812%5D%2C%20%5B-74.03243119999999%2C%2040.7880598%5D%2C%20%5B-74.05842379999999%2C%2040.7880598%5D%2C%20%5B-74.05842379999999%2C%2040.7708812%5D%5D%5D%2C%20%22type%22%3A%20%22Polygon%22%7D%2C%20%22properties%22%3A%20%7B%22zone_id%22%3A%20%22247%22%7D%2C%20%22type%22%3A%20%22Feature%22%7D%2C%20%7B%22geometry%22%3A%20%7B%22coordinates%22%3A%20%5B%5B%5B-74.03243119999999%2C%2040.7708812%5D%2C%20%5B-74.00643859999998%2C%2040.7708812%5D%2C%20%5B-74.00643859999998%2C%2040.7880598%5D%2C%20%5B-74.03243119999999%2C%2040.7880598%5D%2C%20%5B-74.03243119999999%2C%2040.7708812%5D%5D%5D%2C%20%22type%22%3A%20%22Polygon%22%7D%2C%20%22properties%22%3A%20%7B%22zone_id%22%3A%20%22248%22%7D%2C%20%22type%22%3A%20%22Feature%22%7D%2C%20%7B%22geometry%22%3A%20%7B%22coordinates%22%3A%20%5B%5B%5B-74.00643859999998%2C%2040.7708812%5D%2C%20%5B-73.98044599999999%2C%2040.7708812%5D%2C%20%5B-73.98044599999999%2C%2040.7880598%5D%2C%20%5B-74.00643859999998%2C%2040.7880598%5D%2C%20%5B-74.00643859999998%2C%2040.7708812%5D%5D%5D%2C%20%22type%22%3A%20%22Polygon%22%7D%2C%20%22properties%22%3A%20%7B%22zone_id%22%3A%20%22249%22%7D%2C%20%22type%22%3A%20%22Feature%22%7D%2C%20%7B%22geometry%22%3A%20%7B%22coordinates%22%3A%20%5B%5B%5B-73.98044599999999%2C%2040.7708812%5D%2C%20%5B-73.95445339999999%2C%2040.7708812%5D%2C%20%5B-73.95445339999999%2C%2040.7880598%5D%2C%20%5B-73.98044599999999%2C%2040.7880598%5D%2C%20%5B-73.98044599999999%2C%2040.7708812%5D%5D%5D%2C%20%22type%22%3A%20%22Polygon%22%7D%2C%20%22properties%22%3A%20%7B%22zone_id%22%3A%20%22250%22%7D%2C%20%22type%22%3A%20%22Feature%22%7D%2C%20%7B%22geometry%22%3A%20%7B%22coordinates%22%3A%20%5B%5B%5B-73.95445339999999%2C%2040.7708812%5D%2C%20%5B-73.92846079999998%2C%2040.7708812%5D%2C%20%5B-73.92846079999998%2C%2040.7880598%5D%2C%20%5B-73.95445339999999%2C%2040.7880598%5D%2C%20%5B-73.95445339999999%2C%2040.7708812%5D%5D%5D%2C%20%22type%22%3A%20%22Polygon%22%7D%2C%20%22properties%22%3A%20%7B%22zone_id%22%3A%20%22251%22%7D%2C%20%22type%22%3A%20%22Feature%22%7D%2C%20%7B%22geometry%22%3A%20%7B%22coordinates%22%3A%20%5B%5B%5B-73.92846079999998%2C%2040.7708812%5D%2C%20%5B-73.90246819999999%2C%2040.7708812%5D%2C%20%5B-73.90246819999999%2C%2040.7880598%5D%2C%20%5B-73.92846079999998%2C%2040.7880598%5D%2C%20%5B-73.92846079999998%2C%2040.7708812%5D%5D%5D%2C%20%22type%22%3A%20%22Polygon%22%7D%2C%20%22properties%22%3A%20%7B%22zone_id%22%3A%20%22252%22%7D%2C%20%22type%22%3A%20%22Feature%22%7D%2C%20%7B%22geometry%22%3A%20%7B%22coordinates%22%3A%20%5B%5B%5B-73.90246819999999%2C%2040.7708812%5D%2C%20%5B-73.87647559999999%2C%2040.7708812%5D%2C%20%5B-73.87647559999999%2C%2040.7880598%5D%2C%20%5B-73.90246819999999%2C%2040.7880598%5D%2C%20%5B-73.90246819999999%2C%2040.7708812%5D%5D%5D%2C%20%22type%22%3A%20%22Polygon%22%7D%2C%20%22properties%22%3A%20%7B%22zone_id%22%3A%20%22253%22%7D%2C%20%22type%22%3A%20%22Feature%22%7D%2C%20%7B%22geometry%22%3A%20%7B%22coordinates%22%3A%20%5B%5B%5B-73.87647559999999%2C%2040.7708812%5D%2C%20%5B-73.850483%2C%2040.7708812%5D%2C%20%5B-73.850483%2C%2040.7880598%5D%2C%20%5B-73.87647559999999%2C%2040.7880598%5D%2C%20%5B-73.87647559999999%2C%2040.7708812%5D%5D%5D%2C%20%22type%22%3A%20%22Polygon%22%7D%2C%20%22properties%22%3A%20%7B%22zone_id%22%3A%20%22254%22%7D%2C%20%22type%22%3A%20%22Feature%22%7D%2C%20%7B%22geometry%22%3A%20%7B%22coordinates%22%3A%20%5B%5B%5B-73.850483%2C%2040.7708812%5D%2C%20%5B-73.82449039999999%2C%2040.7708812%5D%2C%20%5B-73.82449039999999%2C%2040.7880598%5D%2C%20%5B-73.850483%2C%2040.7880598%5D%2C%20%5B-73.850483%2C%2040.7708812%5D%5D%5D%2C%20%22type%22%3A%20%22Polygon%22%7D%2C%20%22properties%22%3A%20%7B%22zone_id%22%3A%20%22255%22%7D%2C%20%22type%22%3A%20%22Feature%22%7D%2C%20%7B%22geometry%22%3A%20%7B%22coordinates%22%3A%20%5B%5B%5B-73.82449039999999%2C%2040.7708812%5D%2C%20%5B-73.79849779999999%2C%2040.7708812%5D%2C%20%5B-73.79849779999999%2C%2040.7880598%5D%2C%20%5B-73.82449039999999%2C%2040.7880598%5D%2C%20%5B-73.82449039999999%2C%2040.7708812%5D%5D%5D%2C%20%22type%22%3A%20%22Polygon%22%7D%2C%20%22properties%22%3A%20%7B%22zone_id%22%3A%20%22256%22%7D%2C%20%22type%22%3A%20%22Feature%22%7D%2C%20%7B%22geometry%22%3A%20%7B%22coordinates%22%3A%20%5B%5B%5B-73.79849779999999%2C%2040.7708812%5D%2C%20%5B-73.7725052%2C%2040.7708812%5D%2C%20%5B-73.7725052%2C%2040.7880598%5D%2C%20%5B-73.79849779999999%2C%2040.7880598%5D%2C%20%5B-73.79849779999999%2C%2040.7708812%5D%5D%5D%2C%20%22type%22%3A%20%22Polygon%22%7D%2C%20%22properties%22%3A%20%7B%22zone_id%22%3A%20%22257%22%7D%2C%20%22type%22%3A%20%22Feature%22%7D%2C%20%7B%22geometry%22%3A%20%7B%22coordinates%22%3A%20%5B%5B%5B-73.7725052%2C%2040.7708812%5D%2C%20%5B-73.74651259999999%2C%2040.7708812%5D%2C%20%5B-73.74651259999999%2C%2040.7880598%5D%2C%20%5B-73.7725052%2C%2040.7880598%5D%2C%20%5B-73.7725052%2C%2040.7708812%5D%5D%5D%2C%20%22type%22%3A%20%22Polygon%22%7D%2C%20%22properties%22%3A%20%7B%22zone_id%22%3A%20%22258%22%7D%2C%20%22type%22%3A%20%22Feature%22%7D%2C%20%7B%22geometry%22%3A%20%7B%22coordinates%22%3A%20%5B%5B%5B-73.74651259999999%2C%2040.7708812%5D%2C%20%5B-73.72052%2C%2040.7708812%5D%2C%20%5B-73.72052%2C%2040.7880598%5D%2C%20%5B-73.74651259999999%2C%2040.7880598%5D%2C%20%5B-73.74651259999999%2C%2040.7708812%5D%5D%5D%2C%20%22type%22%3A%20%22Polygon%22%7D%2C%20%22properties%22%3A%20%7B%22zone_id%22%3A%20%22259%22%7D%2C%20%22type%22%3A%20%22Feature%22%7D%2C%20%7B%22geometry%22%3A%20%7B%22coordinates%22%3A%20%5B%5B%5B-74.24037199999998%2C%2040.7880598%5D%2C%20%5B-74.21437939999998%2C%2040.7880598%5D%2C%20%5B-74.21437939999998%2C%2040.8052384%5D%2C%20%5B-74.24037199999998%2C%2040.8052384%5D%2C%20%5B-74.24037199999998%2C%2040.7880598%5D%5D%5D%2C%20%22type%22%3A%20%22Polygon%22%7D%2C%20%22properties%22%3A%20%7B%22zone_id%22%3A%20%22260%22%7D%2C%20%22type%22%3A%20%22Feature%22%7D%2C%20%7B%22geometry%22%3A%20%7B%22coordinates%22%3A%20%5B%5B%5B-74.21437939999998%2C%2040.7880598%5D%2C%20%5B-74.18838679999998%2C%2040.7880598%5D%2C%20%5B-74.18838679999998%2C%2040.8052384%5D%2C%20%5B-74.21437939999998%2C%2040.8052384%5D%2C%20%5B-74.21437939999998%2C%2040.7880598%5D%5D%5D%2C%20%22type%22%3A%20%22Polygon%22%7D%2C%20%22properties%22%3A%20%7B%22zone_id%22%3A%20%22261%22%7D%2C%20%22type%22%3A%20%22Feature%22%7D%2C%20%7B%22geometry%22%3A%20%7B%22coordinates%22%3A%20%5B%5B%5B-74.18838679999998%2C%2040.7880598%5D%2C%20%5B-74.16239419999998%2C%2040.7880598%5D%2C%20%5B-74.16239419999998%2C%2040.8052384%5D%2C%20%5B-74.18838679999998%2C%2040.8052384%5D%2C%20%5B-74.18838679999998%2C%2040.7880598%5D%5D%5D%2C%20%22type%22%3A%20%22Polygon%22%7D%2C%20%22properties%22%3A%20%7B%22zone_id%22%3A%20%22262%22%7D%2C%20%22type%22%3A%20%22Feature%22%7D%2C%20%7B%22geometry%22%3A%20%7B%22coordinates%22%3A%20%5B%5B%5B-74.16239419999998%2C%2040.7880598%5D%2C%20%5B-74.13640159999999%2C%2040.7880598%5D%2C%20%5B-74.13640159999999%2C%2040.8052384%5D%2C%20%5B-74.16239419999998%2C%2040.8052384%5D%2C%20%5B-74.16239419999998%2C%2040.7880598%5D%5D%5D%2C%20%22type%22%3A%20%22Polygon%22%7D%2C%20%22properties%22%3A%20%7B%22zone_id%22%3A%20%22263%22%7D%2C%20%22type%22%3A%20%22Feature%22%7D%2C%20%7B%22geometry%22%3A%20%7B%22coordinates%22%3A%20%5B%5B%5B-74.13640159999999%2C%2040.7880598%5D%2C%20%5B-74.11040899999998%2C%2040.7880598%5D%2C%20%5B-74.11040899999998%2C%2040.8052384%5D%2C%20%5B-74.13640159999999%2C%2040.8052384%5D%2C%20%5B-74.13640159999999%2C%2040.7880598%5D%5D%5D%2C%20%22type%22%3A%20%22Polygon%22%7D%2C%20%22properties%22%3A%20%7B%22zone_id%22%3A%20%22264%22%7D%2C%20%22type%22%3A%20%22Feature%22%7D%2C%20%7B%22geometry%22%3A%20%7B%22coordinates%22%3A%20%5B%5B%5B-74.11040899999998%2C%2040.7880598%5D%2C%20%5B-74.08441639999998%2C%2040.7880598%5D%2C%20%5B-74.08441639999998%2C%2040.8052384%5D%2C%20%5B-74.11040899999998%2C%2040.8052384%5D%2C%20%5B-74.11040899999998%2C%2040.7880598%5D%5D%5D%2C%20%22type%22%3A%20%22Polygon%22%7D%2C%20%22properties%22%3A%20%7B%22zone_id%22%3A%20%22265%22%7D%2C%20%22type%22%3A%20%22Feature%22%7D%2C%20%7B%22geometry%22%3A%20%7B%22coordinates%22%3A%20%5B%5B%5B-74.08441639999998%2C%2040.7880598%5D%2C%20%5B-74.05842379999999%2C%2040.7880598%5D%2C%20%5B-74.05842379999999%2C%2040.8052384%5D%2C%20%5B-74.08441639999998%2C%2040.8052384%5D%2C%20%5B-74.08441639999998%2C%2040.7880598%5D%5D%5D%2C%20%22type%22%3A%20%22Polygon%22%7D%2C%20%22properties%22%3A%20%7B%22zone_id%22%3A%20%22266%22%7D%2C%20%22type%22%3A%20%22Feature%22%7D%2C%20%7B%22geometry%22%3A%20%7B%22coordinates%22%3A%20%5B%5B%5B-74.05842379999999%2C%2040.7880598%5D%2C%20%5B-74.03243119999999%2C%2040.7880598%5D%2C%20%5B-74.03243119999999%2C%2040.8052384%5D%2C%20%5B-74.05842379999999%2C%2040.8052384%5D%2C%20%5B-74.05842379999999%2C%2040.7880598%5D%5D%5D%2C%20%22type%22%3A%20%22Polygon%22%7D%2C%20%22properties%22%3A%20%7B%22zone_id%22%3A%20%22267%22%7D%2C%20%22type%22%3A%20%22Feature%22%7D%2C%20%7B%22geometry%22%3A%20%7B%22coordinates%22%3A%20%5B%5B%5B-74.03243119999999%2C%2040.7880598%5D%2C%20%5B-74.00643859999998%2C%2040.7880598%5D%2C%20%5B-74.00643859999998%2C%2040.8052384%5D%2C%20%5B-74.03243119999999%2C%2040.8052384%5D%2C%20%5B-74.03243119999999%2C%2040.7880598%5D%5D%5D%2C%20%22type%22%3A%20%22Polygon%22%7D%2C%20%22properties%22%3A%20%7B%22zone_id%22%3A%20%22268%22%7D%2C%20%22type%22%3A%20%22Feature%22%7D%2C%20%7B%22geometry%22%3A%20%7B%22coordinates%22%3A%20%5B%5B%5B-74.00643859999998%2C%2040.7880598%5D%2C%20%5B-73.98044599999999%2C%2040.7880598%5D%2C%20%5B-73.98044599999999%2C%2040.8052384%5D%2C%20%5B-74.00643859999998%2C%2040.8052384%5D%2C%20%5B-74.00643859999998%2C%2040.7880598%5D%5D%5D%2C%20%22type%22%3A%20%22Polygon%22%7D%2C%20%22properties%22%3A%20%7B%22zone_id%22%3A%20%22269%22%7D%2C%20%22type%22%3A%20%22Feature%22%7D%2C%20%7B%22geometry%22%3A%20%7B%22coordinates%22%3A%20%5B%5B%5B-73.98044599999999%2C%2040.7880598%5D%2C%20%5B-73.95445339999999%2C%2040.7880598%5D%2C%20%5B-73.95445339999999%2C%2040.8052384%5D%2C%20%5B-73.98044599999999%2C%2040.8052384%5D%2C%20%5B-73.98044599999999%2C%2040.7880598%5D%5D%5D%2C%20%22type%22%3A%20%22Polygon%22%7D%2C%20%22properties%22%3A%20%7B%22zone_id%22%3A%20%22270%22%7D%2C%20%22type%22%3A%20%22Feature%22%7D%2C%20%7B%22geometry%22%3A%20%7B%22coordinates%22%3A%20%5B%5B%5B-73.95445339999999%2C%2040.7880598%5D%2C%20%5B-73.92846079999998%2C%2040.7880598%5D%2C%20%5B-73.92846079999998%2C%2040.8052384%5D%2C%20%5B-73.95445339999999%2C%2040.8052384%5D%2C%20%5B-73.95445339999999%2C%2040.7880598%5D%5D%5D%2C%20%22type%22%3A%20%22Polygon%22%7D%2C%20%22properties%22%3A%20%7B%22zone_id%22%3A%20%22271%22%7D%2C%20%22type%22%3A%20%22Feature%22%7D%2C%20%7B%22geometry%22%3A%20%7B%22coordinates%22%3A%20%5B%5B%5B-73.92846079999998%2C%2040.7880598%5D%2C%20%5B-73.90246819999999%2C%2040.7880598%5D%2C%20%5B-73.90246819999999%2C%2040.8052384%5D%2C%20%5B-73.92846079999998%2C%2040.8052384%5D%2C%20%5B-73.92846079999998%2C%2040.7880598%5D%5D%5D%2C%20%22type%22%3A%20%22Polygon%22%7D%2C%20%22properties%22%3A%20%7B%22zone_id%22%3A%20%22272%22%7D%2C%20%22type%22%3A%20%22Feature%22%7D%2C%20%7B%22geometry%22%3A%20%7B%22coordinates%22%3A%20%5B%5B%5B-73.90246819999999%2C%2040.7880598%5D%2C%20%5B-73.87647559999999%2C%2040.7880598%5D%2C%20%5B-73.87647559999999%2C%2040.8052384%5D%2C%20%5B-73.90246819999999%2C%2040.8052384%5D%2C%20%5B-73.90246819999999%2C%2040.7880598%5D%5D%5D%2C%20%22type%22%3A%20%22Polygon%22%7D%2C%20%22properties%22%3A%20%7B%22zone_id%22%3A%20%22273%22%7D%2C%20%22type%22%3A%20%22Feature%22%7D%2C%20%7B%22geometry%22%3A%20%7B%22coordinates%22%3A%20%5B%5B%5B-73.87647559999999%2C%2040.7880598%5D%2C%20%5B-73.850483%2C%2040.7880598%5D%2C%20%5B-73.850483%2C%2040.8052384%5D%2C%20%5B-73.87647559999999%2C%2040.8052384%5D%2C%20%5B-73.87647559999999%2C%2040.7880598%5D%5D%5D%2C%20%22type%22%3A%20%22Polygon%22%7D%2C%20%22properties%22%3A%20%7B%22zone_id%22%3A%20%22274%22%7D%2C%20%22type%22%3A%20%22Feature%22%7D%2C%20%7B%22geometry%22%3A%20%7B%22coordinates%22%3A%20%5B%5B%5B-73.850483%2C%2040.7880598%5D%2C%20%5B-73.82449039999999%2C%2040.7880598%5D%2C%20%5B-73.82449039999999%2C%2040.8052384%5D%2C%20%5B-73.850483%2C%2040.8052384%5D%2C%20%5B-73.850483%2C%2040.7880598%5D%5D%5D%2C%20%22type%22%3A%20%22Polygon%22%7D%2C%20%22properties%22%3A%20%7B%22zone_id%22%3A%20%22275%22%7D%2C%20%22type%22%3A%20%22Feature%22%7D%2C%20%7B%22geometry%22%3A%20%7B%22coordinates%22%3A%20%5B%5B%5B-73.82449039999999%2C%2040.7880598%5D%2C%20%5B-73.79849779999999%2C%2040.7880598%5D%2C%20%5B-73.79849779999999%2C%2040.8052384%5D%2C%20%5B-73.82449039999999%2C%2040.8052384%5D%2C%20%5B-73.82449039999999%2C%2040.7880598%5D%5D%5D%2C%20%22type%22%3A%20%22Polygon%22%7D%2C%20%22properties%22%3A%20%7B%22zone_id%22%3A%20%22276%22%7D%2C%20%22type%22%3A%20%22Feature%22%7D%2C%20%7B%22geometry%22%3A%20%7B%22coordinates%22%3A%20%5B%5B%5B-73.79849779999999%2C%2040.7880598%5D%2C%20%5B-73.7725052%2C%2040.7880598%5D%2C%20%5B-73.7725052%2C%2040.8052384%5D%2C%20%5B-73.79849779999999%2C%2040.8052384%5D%2C%20%5B-73.79849779999999%2C%2040.7880598%5D%5D%5D%2C%20%22type%22%3A%20%22Polygon%22%7D%2C%20%22properties%22%3A%20%7B%22zone_id%22%3A%20%22277%22%7D%2C%20%22type%22%3A%20%22Feature%22%7D%2C%20%7B%22geometry%22%3A%20%7B%22coordinates%22%3A%20%5B%5B%5B-73.7725052%2C%2040.7880598%5D%2C%20%5B-73.74651259999999%2C%2040.7880598%5D%2C%20%5B-73.74651259999999%2C%2040.8052384%5D%2C%20%5B-73.7725052%2C%2040.8052384%5D%2C%20%5B-73.7725052%2C%2040.7880598%5D%5D%5D%2C%20%22type%22%3A%20%22Polygon%22%7D%2C%20%22properties%22%3A%20%7B%22zone_id%22%3A%20%22278%22%7D%2C%20%22type%22%3A%20%22Feature%22%7D%2C%20%7B%22geometry%22%3A%20%7B%22coordinates%22%3A%20%5B%5B%5B-73.74651259999999%2C%2040.7880598%5D%2C%20%5B-73.72052%2C%2040.7880598%5D%2C%20%5B-73.72052%2C%2040.8052384%5D%2C%20%5B-73.74651259999999%2C%2040.8052384%5D%2C%20%5B-73.74651259999999%2C%2040.7880598%5D%5D%5D%2C%20%22type%22%3A%20%22Polygon%22%7D%2C%20%22properties%22%3A%20%7B%22zone_id%22%3A%20%22279%22%7D%2C%20%22type%22%3A%20%22Feature%22%7D%2C%20%7B%22geometry%22%3A%20%7B%22coordinates%22%3A%20%5B%5B%5B-74.24037199999998%2C%2040.8052384%5D%2C%20%5B-74.21437939999998%2C%2040.8052384%5D%2C%20%5B-74.21437939999998%2C%2040.822417%5D%2C%20%5B-74.24037199999998%2C%2040.822417%5D%2C%20%5B-74.24037199999998%2C%2040.8052384%5D%5D%5D%2C%20%22type%22%3A%20%22Polygon%22%7D%2C%20%22properties%22%3A%20%7B%22zone_id%22%3A%20%22280%22%7D%2C%20%22type%22%3A%20%22Feature%22%7D%2C%20%7B%22geometry%22%3A%20%7B%22coordinates%22%3A%20%5B%5B%5B-74.21437939999998%2C%2040.8052384%5D%2C%20%5B-74.18838679999998%2C%2040.8052384%5D%2C%20%5B-74.18838679999998%2C%2040.822417%5D%2C%20%5B-74.21437939999998%2C%2040.822417%5D%2C%20%5B-74.21437939999998%2C%2040.8052384%5D%5D%5D%2C%20%22type%22%3A%20%22Polygon%22%7D%2C%20%22properties%22%3A%20%7B%22zone_id%22%3A%20%22281%22%7D%2C%20%22type%22%3A%20%22Feature%22%7D%2C%20%7B%22geometry%22%3A%20%7B%22coordinates%22%3A%20%5B%5B%5B-74.18838679999998%2C%2040.8052384%5D%2C%20%5B-74.16239419999998%2C%2040.8052384%5D%2C%20%5B-74.16239419999998%2C%2040.822417%5D%2C%20%5B-74.18838679999998%2C%2040.822417%5D%2C%20%5B-74.18838679999998%2C%2040.8052384%5D%5D%5D%2C%20%22type%22%3A%20%22Polygon%22%7D%2C%20%22properties%22%3A%20%7B%22zone_id%22%3A%20%22282%22%7D%2C%20%22type%22%3A%20%22Feature%22%7D%2C%20%7B%22geometry%22%3A%20%7B%22coordinates%22%3A%20%5B%5B%5B-74.16239419999998%2C%2040.8052384%5D%2C%20%5B-74.13640159999999%2C%2040.8052384%5D%2C%20%5B-74.13640159999999%2C%2040.822417%5D%2C%20%5B-74.16239419999998%2C%2040.822417%5D%2C%20%5B-74.16239419999998%2C%2040.8052384%5D%5D%5D%2C%20%22type%22%3A%20%22Polygon%22%7D%2C%20%22properties%22%3A%20%7B%22zone_id%22%3A%20%22283%22%7D%2C%20%22type%22%3A%20%22Feature%22%7D%2C%20%7B%22geometry%22%3A%20%7B%22coordinates%22%3A%20%5B%5B%5B-74.13640159999999%2C%2040.8052384%5D%2C%20%5B-74.11040899999998%2C%2040.8052384%5D%2C%20%5B-74.11040899999998%2C%2040.822417%5D%2C%20%5B-74.13640159999999%2C%2040.822417%5D%2C%20%5B-74.13640159999999%2C%2040.8052384%5D%5D%5D%2C%20%22type%22%3A%20%22Polygon%22%7D%2C%20%22properties%22%3A%20%7B%22zone_id%22%3A%20%22284%22%7D%2C%20%22type%22%3A%20%22Feature%22%7D%2C%20%7B%22geometry%22%3A%20%7B%22coordinates%22%3A%20%5B%5B%5B-74.11040899999998%2C%2040.8052384%5D%2C%20%5B-74.08441639999998%2C%2040.8052384%5D%2C%20%5B-74.08441639999998%2C%2040.822417%5D%2C%20%5B-74.11040899999998%2C%2040.822417%5D%2C%20%5B-74.11040899999998%2C%2040.8052384%5D%5D%5D%2C%20%22type%22%3A%20%22Polygon%22%7D%2C%20%22properties%22%3A%20%7B%22zone_id%22%3A%20%22285%22%7D%2C%20%22type%22%3A%20%22Feature%22%7D%2C%20%7B%22geometry%22%3A%20%7B%22coordinates%22%3A%20%5B%5B%5B-74.08441639999998%2C%2040.8052384%5D%2C%20%5B-74.05842379999999%2C%2040.8052384%5D%2C%20%5B-74.05842379999999%2C%2040.822417%5D%2C%20%5B-74.08441639999998%2C%2040.822417%5D%2C%20%5B-74.08441639999998%2C%2040.8052384%5D%5D%5D%2C%20%22type%22%3A%20%22Polygon%22%7D%2C%20%22properties%22%3A%20%7B%22zone_id%22%3A%20%22286%22%7D%2C%20%22type%22%3A%20%22Feature%22%7D%2C%20%7B%22geometry%22%3A%20%7B%22coordinates%22%3A%20%5B%5B%5B-74.05842379999999%2C%2040.8052384%5D%2C%20%5B-74.03243119999999%2C%2040.8052384%5D%2C%20%5B-74.03243119999999%2C%2040.822417%5D%2C%20%5B-74.05842379999999%2C%2040.822417%5D%2C%20%5B-74.05842379999999%2C%2040.8052384%5D%5D%5D%2C%20%22type%22%3A%20%22Polygon%22%7D%2C%20%22properties%22%3A%20%7B%22zone_id%22%3A%20%22287%22%7D%2C%20%22type%22%3A%20%22Feature%22%7D%2C%20%7B%22geometry%22%3A%20%7B%22coordinates%22%3A%20%5B%5B%5B-74.03243119999999%2C%2040.8052384%5D%2C%20%5B-74.00643859999998%2C%2040.8052384%5D%2C%20%5B-74.00643859999998%2C%2040.822417%5D%2C%20%5B-74.03243119999999%2C%2040.822417%5D%2C%20%5B-74.03243119999999%2C%2040.8052384%5D%5D%5D%2C%20%22type%22%3A%20%22Polygon%22%7D%2C%20%22properties%22%3A%20%7B%22zone_id%22%3A%20%22288%22%7D%2C%20%22type%22%3A%20%22Feature%22%7D%2C%20%7B%22geometry%22%3A%20%7B%22coordinates%22%3A%20%5B%5B%5B-74.00643859999998%2C%2040.8052384%5D%2C%20%5B-73.98044599999999%2C%2040.8052384%5D%2C%20%5B-73.98044599999999%2C%2040.822417%5D%2C%20%5B-74.00643859999998%2C%2040.822417%5D%2C%20%5B-74.00643859999998%2C%2040.8052384%5D%5D%5D%2C%20%22type%22%3A%20%22Polygon%22%7D%2C%20%22properties%22%3A%20%7B%22zone_id%22%3A%20%22289%22%7D%2C%20%22type%22%3A%20%22Feature%22%7D%2C%20%7B%22geometry%22%3A%20%7B%22coordinates%22%3A%20%5B%5B%5B-73.98044599999999%2C%2040.8052384%5D%2C%20%5B-73.95445339999999%2C%2040.8052384%5D%2C%20%5B-73.95445339999999%2C%2040.822417%5D%2C%20%5B-73.98044599999999%2C%2040.822417%5D%2C%20%5B-73.98044599999999%2C%2040.8052384%5D%5D%5D%2C%20%22type%22%3A%20%22Polygon%22%7D%2C%20%22properties%22%3A%20%7B%22zone_id%22%3A%20%22290%22%7D%2C%20%22type%22%3A%20%22Feature%22%7D%2C%20%7B%22geometry%22%3A%20%7B%22coordinates%22%3A%20%5B%5B%5B-73.95445339999999%2C%2040.8052384%5D%2C%20%5B-73.92846079999998%2C%2040.8052384%5D%2C%20%5B-73.92846079999998%2C%2040.822417%5D%2C%20%5B-73.95445339999999%2C%2040.822417%5D%2C%20%5B-73.95445339999999%2C%2040.8052384%5D%5D%5D%2C%20%22type%22%3A%20%22Polygon%22%7D%2C%20%22properties%22%3A%20%7B%22zone_id%22%3A%20%22291%22%7D%2C%20%22type%22%3A%20%22Feature%22%7D%2C%20%7B%22geometry%22%3A%20%7B%22coordinates%22%3A%20%5B%5B%5B-73.92846079999998%2C%2040.8052384%5D%2C%20%5B-73.90246819999999%2C%2040.8052384%5D%2C%20%5B-73.90246819999999%2C%2040.822417%5D%2C%20%5B-73.92846079999998%2C%2040.822417%5D%2C%20%5B-73.92846079999998%2C%2040.8052384%5D%5D%5D%2C%20%22type%22%3A%20%22Polygon%22%7D%2C%20%22properties%22%3A%20%7B%22zone_id%22%3A%20%22292%22%7D%2C%20%22type%22%3A%20%22Feature%22%7D%2C%20%7B%22geometry%22%3A%20%7B%22coordinates%22%3A%20%5B%5B%5B-73.90246819999999%2C%2040.8052384%5D%2C%20%5B-73.87647559999999%2C%2040.8052384%5D%2C%20%5B-73.87647559999999%2C%2040.822417%5D%2C%20%5B-73.90246819999999%2C%2040.822417%5D%2C%20%5B-73.90246819999999%2C%2040.8052384%5D%5D%5D%2C%20%22type%22%3A%20%22Polygon%22%7D%2C%20%22properties%22%3A%20%7B%22zone_id%22%3A%20%22293%22%7D%2C%20%22type%22%3A%20%22Feature%22%7D%2C%20%7B%22geometry%22%3A%20%7B%22coordinates%22%3A%20%5B%5B%5B-73.87647559999999%2C%2040.8052384%5D%2C%20%5B-73.850483%2C%2040.8052384%5D%2C%20%5B-73.850483%2C%2040.822417%5D%2C%20%5B-73.87647559999999%2C%2040.822417%5D%2C%20%5B-73.87647559999999%2C%2040.8052384%5D%5D%5D%2C%20%22type%22%3A%20%22Polygon%22%7D%2C%20%22properties%22%3A%20%7B%22zone_id%22%3A%20%22294%22%7D%2C%20%22type%22%3A%20%22Feature%22%7D%2C%20%7B%22geometry%22%3A%20%7B%22coordinates%22%3A%20%5B%5B%5B-73.850483%2C%2040.8052384%5D%2C%20%5B-73.82449039999999%2C%2040.8052384%5D%2C%20%5B-73.82449039999999%2C%2040.822417%5D%2C%20%5B-73.850483%2C%2040.822417%5D%2C%20%5B-73.850483%2C%2040.8052384%5D%5D%5D%2C%20%22type%22%3A%20%22Polygon%22%7D%2C%20%22properties%22%3A%20%7B%22zone_id%22%3A%20%22295%22%7D%2C%20%22type%22%3A%20%22Feature%22%7D%2C%20%7B%22geometry%22%3A%20%7B%22coordinates%22%3A%20%5B%5B%5B-73.82449039999999%2C%2040.8052384%5D%2C%20%5B-73.79849779999999%2C%2040.8052384%5D%2C%20%5B-73.79849779999999%2C%2040.822417%5D%2C%20%5B-73.82449039999999%2C%2040.822417%5D%2C%20%5B-73.82449039999999%2C%2040.8052384%5D%5D%5D%2C%20%22type%22%3A%20%22Polygon%22%7D%2C%20%22properties%22%3A%20%7B%22zone_id%22%3A%20%22296%22%7D%2C%20%22type%22%3A%20%22Feature%22%7D%2C%20%7B%22geometry%22%3A%20%7B%22coordinates%22%3A%20%5B%5B%5B-73.79849779999999%2C%2040.8052384%5D%2C%20%5B-73.7725052%2C%2040.8052384%5D%2C%20%5B-73.7725052%2C%2040.822417%5D%2C%20%5B-73.79849779999999%2C%2040.822417%5D%2C%20%5B-73.79849779999999%2C%2040.8052384%5D%5D%5D%2C%20%22type%22%3A%20%22Polygon%22%7D%2C%20%22properties%22%3A%20%7B%22zone_id%22%3A%20%22297%22%7D%2C%20%22type%22%3A%20%22Feature%22%7D%2C%20%7B%22geometry%22%3A%20%7B%22coordinates%22%3A%20%5B%5B%5B-73.7725052%2C%2040.8052384%5D%2C%20%5B-73.74651259999999%2C%2040.8052384%5D%2C%20%5B-73.74651259999999%2C%2040.822417%5D%2C%20%5B-73.7725052%2C%2040.822417%5D%2C%20%5B-73.7725052%2C%2040.8052384%5D%5D%5D%2C%20%22type%22%3A%20%22Polygon%22%7D%2C%20%22properties%22%3A%20%7B%22zone_id%22%3A%20%22298%22%7D%2C%20%22type%22%3A%20%22Feature%22%7D%2C%20%7B%22geometry%22%3A%20%7B%22coordinates%22%3A%20%5B%5B%5B-73.74651259999999%2C%2040.8052384%5D%2C%20%5B-73.72052%2C%2040.8052384%5D%2C%20%5B-73.72052%2C%2040.822417%5D%2C%20%5B-73.74651259999999%2C%2040.822417%5D%2C%20%5B-73.74651259999999%2C%2040.8052384%5D%5D%5D%2C%20%22type%22%3A%20%22Polygon%22%7D%2C%20%22properties%22%3A%20%7B%22zone_id%22%3A%20%22299%22%7D%2C%20%22type%22%3A%20%22Feature%22%7D%2C%20%7B%22geometry%22%3A%20%7B%22coordinates%22%3A%20%5B%5B%5B-74.24037199999998%2C%2040.822417%5D%2C%20%5B-74.21437939999998%2C%2040.822417%5D%2C%20%5B-74.21437939999998%2C%2040.8395956%5D%2C%20%5B-74.24037199999998%2C%2040.8395956%5D%2C%20%5B-74.24037199999998%2C%2040.822417%5D%5D%5D%2C%20%22type%22%3A%20%22Polygon%22%7D%2C%20%22properties%22%3A%20%7B%22zone_id%22%3A%20%22300%22%7D%2C%20%22type%22%3A%20%22Feature%22%7D%2C%20%7B%22geometry%22%3A%20%7B%22coordinates%22%3A%20%5B%5B%5B-74.21437939999998%2C%2040.822417%5D%2C%20%5B-74.18838679999998%2C%2040.822417%5D%2C%20%5B-74.18838679999998%2C%2040.8395956%5D%2C%20%5B-74.21437939999998%2C%2040.8395956%5D%2C%20%5B-74.21437939999998%2C%2040.822417%5D%5D%5D%2C%20%22type%22%3A%20%22Polygon%22%7D%2C%20%22properties%22%3A%20%7B%22zone_id%22%3A%20%22301%22%7D%2C%20%22type%22%3A%20%22Feature%22%7D%2C%20%7B%22geometry%22%3A%20%7B%22coordinates%22%3A%20%5B%5B%5B-74.18838679999998%2C%2040.822417%5D%2C%20%5B-74.16239419999998%2C%2040.822417%5D%2C%20%5B-74.16239419999998%2C%2040.8395956%5D%2C%20%5B-74.18838679999998%2C%2040.8395956%5D%2C%20%5B-74.18838679999998%2C%2040.822417%5D%5D%5D%2C%20%22type%22%3A%20%22Polygon%22%7D%2C%20%22properties%22%3A%20%7B%22zone_id%22%3A%20%22302%22%7D%2C%20%22type%22%3A%20%22Feature%22%7D%2C%20%7B%22geometry%22%3A%20%7B%22coordinates%22%3A%20%5B%5B%5B-74.16239419999998%2C%2040.822417%5D%2C%20%5B-74.13640159999999%2C%2040.822417%5D%2C%20%5B-74.13640159999999%2C%2040.8395956%5D%2C%20%5B-74.16239419999998%2C%2040.8395956%5D%2C%20%5B-74.16239419999998%2C%2040.822417%5D%5D%5D%2C%20%22type%22%3A%20%22Polygon%22%7D%2C%20%22properties%22%3A%20%7B%22zone_id%22%3A%20%22303%22%7D%2C%20%22type%22%3A%20%22Feature%22%7D%2C%20%7B%22geometry%22%3A%20%7B%22coordinates%22%3A%20%5B%5B%5B-74.13640159999999%2C%2040.822417%5D%2C%20%5B-74.11040899999998%2C%2040.822417%5D%2C%20%5B-74.11040899999998%2C%2040.8395956%5D%2C%20%5B-74.13640159999999%2C%2040.8395956%5D%2C%20%5B-74.13640159999999%2C%2040.822417%5D%5D%5D%2C%20%22type%22%3A%20%22Polygon%22%7D%2C%20%22properties%22%3A%20%7B%22zone_id%22%3A%20%22304%22%7D%2C%20%22type%22%3A%20%22Feature%22%7D%2C%20%7B%22geometry%22%3A%20%7B%22coordinates%22%3A%20%5B%5B%5B-74.11040899999998%2C%2040.822417%5D%2C%20%5B-74.08441639999998%2C%2040.822417%5D%2C%20%5B-74.08441639999998%2C%2040.8395956%5D%2C%20%5B-74.11040899999998%2C%2040.8395956%5D%2C%20%5B-74.11040899999998%2C%2040.822417%5D%5D%5D%2C%20%22type%22%3A%20%22Polygon%22%7D%2C%20%22properties%22%3A%20%7B%22zone_id%22%3A%20%22305%22%7D%2C%20%22type%22%3A%20%22Feature%22%7D%2C%20%7B%22geometry%22%3A%20%7B%22coordinates%22%3A%20%5B%5B%5B-74.08441639999998%2C%2040.822417%5D%2C%20%5B-74.05842379999999%2C%2040.822417%5D%2C%20%5B-74.05842379999999%2C%2040.8395956%5D%2C%20%5B-74.08441639999998%2C%2040.8395956%5D%2C%20%5B-74.08441639999998%2C%2040.822417%5D%5D%5D%2C%20%22type%22%3A%20%22Polygon%22%7D%2C%20%22properties%22%3A%20%7B%22zone_id%22%3A%20%22306%22%7D%2C%20%22type%22%3A%20%22Feature%22%7D%2C%20%7B%22geometry%22%3A%20%7B%22coordinates%22%3A%20%5B%5B%5B-74.05842379999999%2C%2040.822417%5D%2C%20%5B-74.03243119999999%2C%2040.822417%5D%2C%20%5B-74.03243119999999%2C%2040.8395956%5D%2C%20%5B-74.05842379999999%2C%2040.8395956%5D%2C%20%5B-74.05842379999999%2C%2040.822417%5D%5D%5D%2C%20%22type%22%3A%20%22Polygon%22%7D%2C%20%22properties%22%3A%20%7B%22zone_id%22%3A%20%22307%22%7D%2C%20%22type%22%3A%20%22Feature%22%7D%2C%20%7B%22geometry%22%3A%20%7B%22coordinates%22%3A%20%5B%5B%5B-74.03243119999999%2C%2040.822417%5D%2C%20%5B-74.00643859999998%2C%2040.822417%5D%2C%20%5B-74.00643859999998%2C%2040.8395956%5D%2C%20%5B-74.03243119999999%2C%2040.8395956%5D%2C%20%5B-74.03243119999999%2C%2040.822417%5D%5D%5D%2C%20%22type%22%3A%20%22Polygon%22%7D%2C%20%22properties%22%3A%20%7B%22zone_id%22%3A%20%22308%22%7D%2C%20%22type%22%3A%20%22Feature%22%7D%2C%20%7B%22geometry%22%3A%20%7B%22coordinates%22%3A%20%5B%5B%5B-74.00643859999998%2C%2040.822417%5D%2C%20%5B-73.98044599999999%2C%2040.822417%5D%2C%20%5B-73.98044599999999%2C%2040.8395956%5D%2C%20%5B-74.00643859999998%2C%2040.8395956%5D%2C%20%5B-74.00643859999998%2C%2040.822417%5D%5D%5D%2C%20%22type%22%3A%20%22Polygon%22%7D%2C%20%22properties%22%3A%20%7B%22zone_id%22%3A%20%22309%22%7D%2C%20%22type%22%3A%20%22Feature%22%7D%2C%20%7B%22geometry%22%3A%20%7B%22coordinates%22%3A%20%5B%5B%5B-73.98044599999999%2C%2040.822417%5D%2C%20%5B-73.95445339999999%2C%2040.822417%5D%2C%20%5B-73.95445339999999%2C%2040.8395956%5D%2C%20%5B-73.98044599999999%2C%2040.8395956%5D%2C%20%5B-73.98044599999999%2C%2040.822417%5D%5D%5D%2C%20%22type%22%3A%20%22Polygon%22%7D%2C%20%22properties%22%3A%20%7B%22zone_id%22%3A%20%22310%22%7D%2C%20%22type%22%3A%20%22Feature%22%7D%2C%20%7B%22geometry%22%3A%20%7B%22coordinates%22%3A%20%5B%5B%5B-73.95445339999999%2C%2040.822417%5D%2C%20%5B-73.92846079999998%2C%2040.822417%5D%2C%20%5B-73.92846079999998%2C%2040.8395956%5D%2C%20%5B-73.95445339999999%2C%2040.8395956%5D%2C%20%5B-73.95445339999999%2C%2040.822417%5D%5D%5D%2C%20%22type%22%3A%20%22Polygon%22%7D%2C%20%22properties%22%3A%20%7B%22zone_id%22%3A%20%22311%22%7D%2C%20%22type%22%3A%20%22Feature%22%7D%2C%20%7B%22geometry%22%3A%20%7B%22coordinates%22%3A%20%5B%5B%5B-73.92846079999998%2C%2040.822417%5D%2C%20%5B-73.90246819999999%2C%2040.822417%5D%2C%20%5B-73.90246819999999%2C%2040.8395956%5D%2C%20%5B-73.92846079999998%2C%2040.8395956%5D%2C%20%5B-73.92846079999998%2C%2040.822417%5D%5D%5D%2C%20%22type%22%3A%20%22Polygon%22%7D%2C%20%22properties%22%3A%20%7B%22zone_id%22%3A%20%22312%22%7D%2C%20%22type%22%3A%20%22Feature%22%7D%2C%20%7B%22geometry%22%3A%20%7B%22coordinates%22%3A%20%5B%5B%5B-73.90246819999999%2C%2040.822417%5D%2C%20%5B-73.87647559999999%2C%2040.822417%5D%2C%20%5B-73.87647559999999%2C%2040.8395956%5D%2C%20%5B-73.90246819999999%2C%2040.8395956%5D%2C%20%5B-73.90246819999999%2C%2040.822417%5D%5D%5D%2C%20%22type%22%3A%20%22Polygon%22%7D%2C%20%22properties%22%3A%20%7B%22zone_id%22%3A%20%22313%22%7D%2C%20%22type%22%3A%20%22Feature%22%7D%2C%20%7B%22geometry%22%3A%20%7B%22coordinates%22%3A%20%5B%5B%5B-73.87647559999999%2C%2040.822417%5D%2C%20%5B-73.850483%2C%2040.822417%5D%2C%20%5B-73.850483%2C%2040.8395956%5D%2C%20%5B-73.87647559999999%2C%2040.8395956%5D%2C%20%5B-73.87647559999999%2C%2040.822417%5D%5D%5D%2C%20%22type%22%3A%20%22Polygon%22%7D%2C%20%22properties%22%3A%20%7B%22zone_id%22%3A%20%22314%22%7D%2C%20%22type%22%3A%20%22Feature%22%7D%2C%20%7B%22geometry%22%3A%20%7B%22coordinates%22%3A%20%5B%5B%5B-73.850483%2C%2040.822417%5D%2C%20%5B-73.82449039999999%2C%2040.822417%5D%2C%20%5B-73.82449039999999%2C%2040.8395956%5D%2C%20%5B-73.850483%2C%2040.8395956%5D%2C%20%5B-73.850483%2C%2040.822417%5D%5D%5D%2C%20%22type%22%3A%20%22Polygon%22%7D%2C%20%22properties%22%3A%20%7B%22zone_id%22%3A%20%22315%22%7D%2C%20%22type%22%3A%20%22Feature%22%7D%2C%20%7B%22geometry%22%3A%20%7B%22coordinates%22%3A%20%5B%5B%5B-73.82449039999999%2C%2040.822417%5D%2C%20%5B-73.79849779999999%2C%2040.822417%5D%2C%20%5B-73.79849779999999%2C%2040.8395956%5D%2C%20%5B-73.82449039999999%2C%2040.8395956%5D%2C%20%5B-73.82449039999999%2C%2040.822417%5D%5D%5D%2C%20%22type%22%3A%20%22Polygon%22%7D%2C%20%22properties%22%3A%20%7B%22zone_id%22%3A%20%22316%22%7D%2C%20%22type%22%3A%20%22Feature%22%7D%2C%20%7B%22geometry%22%3A%20%7B%22coordinates%22%3A%20%5B%5B%5B-73.79849779999999%2C%2040.822417%5D%2C%20%5B-73.7725052%2C%2040.822417%5D%2C%20%5B-73.7725052%2C%2040.8395956%5D%2C%20%5B-73.79849779999999%2C%2040.8395956%5D%2C%20%5B-73.79849779999999%2C%2040.822417%5D%5D%5D%2C%20%22type%22%3A%20%22Polygon%22%7D%2C%20%22properties%22%3A%20%7B%22zone_id%22%3A%20%22317%22%7D%2C%20%22type%22%3A%20%22Feature%22%7D%2C%20%7B%22geometry%22%3A%20%7B%22coordinates%22%3A%20%5B%5B%5B-73.7725052%2C%2040.822417%5D%2C%20%5B-73.74651259999999%2C%2040.822417%5D%2C%20%5B-73.74651259999999%2C%2040.8395956%5D%2C%20%5B-73.7725052%2C%2040.8395956%5D%2C%20%5B-73.7725052%2C%2040.822417%5D%5D%5D%2C%20%22type%22%3A%20%22Polygon%22%7D%2C%20%22properties%22%3A%20%7B%22zone_id%22%3A%20%22318%22%7D%2C%20%22type%22%3A%20%22Feature%22%7D%2C%20%7B%22geometry%22%3A%20%7B%22coordinates%22%3A%20%5B%5B%5B-73.74651259999999%2C%2040.822417%5D%2C%20%5B-73.72052%2C%2040.822417%5D%2C%20%5B-73.72052%2C%2040.8395956%5D%2C%20%5B-73.74651259999999%2C%2040.8395956%5D%2C%20%5B-73.74651259999999%2C%2040.822417%5D%5D%5D%2C%20%22type%22%3A%20%22Polygon%22%7D%2C%20%22properties%22%3A%20%7B%22zone_id%22%3A%20%22319%22%7D%2C%20%22type%22%3A%20%22Feature%22%7D%2C%20%7B%22geometry%22%3A%20%7B%22coordinates%22%3A%20%5B%5B%5B-74.24037199999998%2C%2040.8395956%5D%2C%20%5B-74.21437939999998%2C%2040.8395956%5D%2C%20%5B-74.21437939999998%2C%2040.8567742%5D%2C%20%5B-74.24037199999998%2C%2040.8567742%5D%2C%20%5B-74.24037199999998%2C%2040.8395956%5D%5D%5D%2C%20%22type%22%3A%20%22Polygon%22%7D%2C%20%22properties%22%3A%20%7B%22zone_id%22%3A%20%22320%22%7D%2C%20%22type%22%3A%20%22Feature%22%7D%2C%20%7B%22geometry%22%3A%20%7B%22coordinates%22%3A%20%5B%5B%5B-74.21437939999998%2C%2040.8395956%5D%2C%20%5B-74.18838679999998%2C%2040.8395956%5D%2C%20%5B-74.18838679999998%2C%2040.8567742%5D%2C%20%5B-74.21437939999998%2C%2040.8567742%5D%2C%20%5B-74.21437939999998%2C%2040.8395956%5D%5D%5D%2C%20%22type%22%3A%20%22Polygon%22%7D%2C%20%22properties%22%3A%20%7B%22zone_id%22%3A%20%22321%22%7D%2C%20%22type%22%3A%20%22Feature%22%7D%2C%20%7B%22geometry%22%3A%20%7B%22coordinates%22%3A%20%5B%5B%5B-74.18838679999998%2C%2040.8395956%5D%2C%20%5B-74.16239419999998%2C%2040.8395956%5D%2C%20%5B-74.16239419999998%2C%2040.8567742%5D%2C%20%5B-74.18838679999998%2C%2040.8567742%5D%2C%20%5B-74.18838679999998%2C%2040.8395956%5D%5D%5D%2C%20%22type%22%3A%20%22Polygon%22%7D%2C%20%22properties%22%3A%20%7B%22zone_id%22%3A%20%22322%22%7D%2C%20%22type%22%3A%20%22Feature%22%7D%2C%20%7B%22geometry%22%3A%20%7B%22coordinates%22%3A%20%5B%5B%5B-74.16239419999998%2C%2040.8395956%5D%2C%20%5B-74.13640159999999%2C%2040.8395956%5D%2C%20%5B-74.13640159999999%2C%2040.8567742%5D%2C%20%5B-74.16239419999998%2C%2040.8567742%5D%2C%20%5B-74.16239419999998%2C%2040.8395956%5D%5D%5D%2C%20%22type%22%3A%20%22Polygon%22%7D%2C%20%22properties%22%3A%20%7B%22zone_id%22%3A%20%22323%22%7D%2C%20%22type%22%3A%20%22Feature%22%7D%2C%20%7B%22geometry%22%3A%20%7B%22coordinates%22%3A%20%5B%5B%5B-74.13640159999999%2C%2040.8395956%5D%2C%20%5B-74.11040899999998%2C%2040.8395956%5D%2C%20%5B-74.11040899999998%2C%2040.8567742%5D%2C%20%5B-74.13640159999999%2C%2040.8567742%5D%2C%20%5B-74.13640159999999%2C%2040.8395956%5D%5D%5D%2C%20%22type%22%3A%20%22Polygon%22%7D%2C%20%22properties%22%3A%20%7B%22zone_id%22%3A%20%22324%22%7D%2C%20%22type%22%3A%20%22Feature%22%7D%2C%20%7B%22geometry%22%3A%20%7B%22coordinates%22%3A%20%5B%5B%5B-74.11040899999998%2C%2040.8395956%5D%2C%20%5B-74.08441639999998%2C%2040.8395956%5D%2C%20%5B-74.08441639999998%2C%2040.8567742%5D%2C%20%5B-74.11040899999998%2C%2040.8567742%5D%2C%20%5B-74.11040899999998%2C%2040.8395956%5D%5D%5D%2C%20%22type%22%3A%20%22Polygon%22%7D%2C%20%22properties%22%3A%20%7B%22zone_id%22%3A%20%22325%22%7D%2C%20%22type%22%3A%20%22Feature%22%7D%2C%20%7B%22geometry%22%3A%20%7B%22coordinates%22%3A%20%5B%5B%5B-74.08441639999998%2C%2040.8395956%5D%2C%20%5B-74.05842379999999%2C%2040.8395956%5D%2C%20%5B-74.05842379999999%2C%2040.8567742%5D%2C%20%5B-74.08441639999998%2C%2040.8567742%5D%2C%20%5B-74.08441639999998%2C%2040.8395956%5D%5D%5D%2C%20%22type%22%3A%20%22Polygon%22%7D%2C%20%22properties%22%3A%20%7B%22zone_id%22%3A%20%22326%22%7D%2C%20%22type%22%3A%20%22Feature%22%7D%2C%20%7B%22geometry%22%3A%20%7B%22coordinates%22%3A%20%5B%5B%5B-74.05842379999999%2C%2040.8395956%5D%2C%20%5B-74.03243119999999%2C%2040.8395956%5D%2C%20%5B-74.03243119999999%2C%2040.8567742%5D%2C%20%5B-74.05842379999999%2C%2040.8567742%5D%2C%20%5B-74.05842379999999%2C%2040.8395956%5D%5D%5D%2C%20%22type%22%3A%20%22Polygon%22%7D%2C%20%22properties%22%3A%20%7B%22zone_id%22%3A%20%22327%22%7D%2C%20%22type%22%3A%20%22Feature%22%7D%2C%20%7B%22geometry%22%3A%20%7B%22coordinates%22%3A%20%5B%5B%5B-74.03243119999999%2C%2040.8395956%5D%2C%20%5B-74.00643859999998%2C%2040.8395956%5D%2C%20%5B-74.00643859999998%2C%2040.8567742%5D%2C%20%5B-74.03243119999999%2C%2040.8567742%5D%2C%20%5B-74.03243119999999%2C%2040.8395956%5D%5D%5D%2C%20%22type%22%3A%20%22Polygon%22%7D%2C%20%22properties%22%3A%20%7B%22zone_id%22%3A%20%22328%22%7D%2C%20%22type%22%3A%20%22Feature%22%7D%2C%20%7B%22geometry%22%3A%20%7B%22coordinates%22%3A%20%5B%5B%5B-74.00643859999998%2C%2040.8395956%5D%2C%20%5B-73.98044599999999%2C%2040.8395956%5D%2C%20%5B-73.98044599999999%2C%2040.8567742%5D%2C%20%5B-74.00643859999998%2C%2040.8567742%5D%2C%20%5B-74.00643859999998%2C%2040.8395956%5D%5D%5D%2C%20%22type%22%3A%20%22Polygon%22%7D%2C%20%22properties%22%3A%20%7B%22zone_id%22%3A%20%22329%22%7D%2C%20%22type%22%3A%20%22Feature%22%7D%2C%20%7B%22geometry%22%3A%20%7B%22coordinates%22%3A%20%5B%5B%5B-73.98044599999999%2C%2040.8395956%5D%2C%20%5B-73.95445339999999%2C%2040.8395956%5D%2C%20%5B-73.95445339999999%2C%2040.8567742%5D%2C%20%5B-73.98044599999999%2C%2040.8567742%5D%2C%20%5B-73.98044599999999%2C%2040.8395956%5D%5D%5D%2C%20%22type%22%3A%20%22Polygon%22%7D%2C%20%22properties%22%3A%20%7B%22zone_id%22%3A%20%22330%22%7D%2C%20%22type%22%3A%20%22Feature%22%7D%2C%20%7B%22geometry%22%3A%20%7B%22coordinates%22%3A%20%5B%5B%5B-73.95445339999999%2C%2040.8395956%5D%2C%20%5B-73.92846079999998%2C%2040.8395956%5D%2C%20%5B-73.92846079999998%2C%2040.8567742%5D%2C%20%5B-73.95445339999999%2C%2040.8567742%5D%2C%20%5B-73.95445339999999%2C%2040.8395956%5D%5D%5D%2C%20%22type%22%3A%20%22Polygon%22%7D%2C%20%22properties%22%3A%20%7B%22zone_id%22%3A%20%22331%22%7D%2C%20%22type%22%3A%20%22Feature%22%7D%2C%20%7B%22geometry%22%3A%20%7B%22coordinates%22%3A%20%5B%5B%5B-73.92846079999998%2C%2040.8395956%5D%2C%20%5B-73.90246819999999%2C%2040.8395956%5D%2C%20%5B-73.90246819999999%2C%2040.8567742%5D%2C%20%5B-73.92846079999998%2C%2040.8567742%5D%2C%20%5B-73.92846079999998%2C%2040.8395956%5D%5D%5D%2C%20%22type%22%3A%20%22Polygon%22%7D%2C%20%22properties%22%3A%20%7B%22zone_id%22%3A%20%22332%22%7D%2C%20%22type%22%3A%20%22Feature%22%7D%2C%20%7B%22geometry%22%3A%20%7B%22coordinates%22%3A%20%5B%5B%5B-73.90246819999999%2C%2040.8395956%5D%2C%20%5B-73.87647559999999%2C%2040.8395956%5D%2C%20%5B-73.87647559999999%2C%2040.8567742%5D%2C%20%5B-73.90246819999999%2C%2040.8567742%5D%2C%20%5B-73.90246819999999%2C%2040.8395956%5D%5D%5D%2C%20%22type%22%3A%20%22Polygon%22%7D%2C%20%22properties%22%3A%20%7B%22zone_id%22%3A%20%22333%22%7D%2C%20%22type%22%3A%20%22Feature%22%7D%2C%20%7B%22geometry%22%3A%20%7B%22coordinates%22%3A%20%5B%5B%5B-73.87647559999999%2C%2040.8395956%5D%2C%20%5B-73.850483%2C%2040.8395956%5D%2C%20%5B-73.850483%2C%2040.8567742%5D%2C%20%5B-73.87647559999999%2C%2040.8567742%5D%2C%20%5B-73.87647559999999%2C%2040.8395956%5D%5D%5D%2C%20%22type%22%3A%20%22Polygon%22%7D%2C%20%22properties%22%3A%20%7B%22zone_id%22%3A%20%22334%22%7D%2C%20%22type%22%3A%20%22Feature%22%7D%2C%20%7B%22geometry%22%3A%20%7B%22coordinates%22%3A%20%5B%5B%5B-73.850483%2C%2040.8395956%5D%2C%20%5B-73.82449039999999%2C%2040.8395956%5D%2C%20%5B-73.82449039999999%2C%2040.8567742%5D%2C%20%5B-73.850483%2C%2040.8567742%5D%2C%20%5B-73.850483%2C%2040.8395956%5D%5D%5D%2C%20%22type%22%3A%20%22Polygon%22%7D%2C%20%22properties%22%3A%20%7B%22zone_id%22%3A%20%22335%22%7D%2C%20%22type%22%3A%20%22Feature%22%7D%2C%20%7B%22geometry%22%3A%20%7B%22coordinates%22%3A%20%5B%5B%5B-73.82449039999999%2C%2040.8395956%5D%2C%20%5B-73.79849779999999%2C%2040.8395956%5D%2C%20%5B-73.79849779999999%2C%2040.8567742%5D%2C%20%5B-73.82449039999999%2C%2040.8567742%5D%2C%20%5B-73.82449039999999%2C%2040.8395956%5D%5D%5D%2C%20%22type%22%3A%20%22Polygon%22%7D%2C%20%22properties%22%3A%20%7B%22zone_id%22%3A%20%22336%22%7D%2C%20%22type%22%3A%20%22Feature%22%7D%2C%20%7B%22geometry%22%3A%20%7B%22coordinates%22%3A%20%5B%5B%5B-73.79849779999999%2C%2040.8395956%5D%2C%20%5B-73.7725052%2C%2040.8395956%5D%2C%20%5B-73.7725052%2C%2040.8567742%5D%2C%20%5B-73.79849779999999%2C%2040.8567742%5D%2C%20%5B-73.79849779999999%2C%2040.8395956%5D%5D%5D%2C%20%22type%22%3A%20%22Polygon%22%7D%2C%20%22properties%22%3A%20%7B%22zone_id%22%3A%20%22337%22%7D%2C%20%22type%22%3A%20%22Feature%22%7D%2C%20%7B%22geometry%22%3A%20%7B%22coordinates%22%3A%20%5B%5B%5B-73.7725052%2C%2040.8395956%5D%2C%20%5B-73.74651259999999%2C%2040.8395956%5D%2C%20%5B-73.74651259999999%2C%2040.8567742%5D%2C%20%5B-73.7725052%2C%2040.8567742%5D%2C%20%5B-73.7725052%2C%2040.8395956%5D%5D%5D%2C%20%22type%22%3A%20%22Polygon%22%7D%2C%20%22properties%22%3A%20%7B%22zone_id%22%3A%20%22338%22%7D%2C%20%22type%22%3A%20%22Feature%22%7D%2C%20%7B%22geometry%22%3A%20%7B%22coordinates%22%3A%20%5B%5B%5B-73.74651259999999%2C%2040.8395956%5D%2C%20%5B-73.72052%2C%2040.8395956%5D%2C%20%5B-73.72052%2C%2040.8567742%5D%2C%20%5B-73.74651259999999%2C%2040.8567742%5D%2C%20%5B-73.74651259999999%2C%2040.8395956%5D%5D%5D%2C%20%22type%22%3A%20%22Polygon%22%7D%2C%20%22properties%22%3A%20%7B%22zone_id%22%3A%20%22339%22%7D%2C%20%22type%22%3A%20%22Feature%22%7D%2C%20%7B%22geometry%22%3A%20%7B%22coordinates%22%3A%20%5B%5B%5B-74.24037199999998%2C%2040.8567742%5D%2C%20%5B-74.21437939999998%2C%2040.8567742%5D%2C%20%5B-74.21437939999998%2C%2040.8739528%5D%2C%20%5B-74.24037199999998%2C%2040.8739528%5D%2C%20%5B-74.24037199999998%2C%2040.8567742%5D%5D%5D%2C%20%22type%22%3A%20%22Polygon%22%7D%2C%20%22properties%22%3A%20%7B%22zone_id%22%3A%20%22340%22%7D%2C%20%22type%22%3A%20%22Feature%22%7D%2C%20%7B%22geometry%22%3A%20%7B%22coordinates%22%3A%20%5B%5B%5B-74.21437939999998%2C%2040.8567742%5D%2C%20%5B-74.18838679999998%2C%2040.8567742%5D%2C%20%5B-74.18838679999998%2C%2040.8739528%5D%2C%20%5B-74.21437939999998%2C%2040.8739528%5D%2C%20%5B-74.21437939999998%2C%2040.8567742%5D%5D%5D%2C%20%22type%22%3A%20%22Polygon%22%7D%2C%20%22properties%22%3A%20%7B%22zone_id%22%3A%20%22341%22%7D%2C%20%22type%22%3A%20%22Feature%22%7D%2C%20%7B%22geometry%22%3A%20%7B%22coordinates%22%3A%20%5B%5B%5B-74.18838679999998%2C%2040.8567742%5D%2C%20%5B-74.16239419999998%2C%2040.8567742%5D%2C%20%5B-74.16239419999998%2C%2040.8739528%5D%2C%20%5B-74.18838679999998%2C%2040.8739528%5D%2C%20%5B-74.18838679999998%2C%2040.8567742%5D%5D%5D%2C%20%22type%22%3A%20%22Polygon%22%7D%2C%20%22properties%22%3A%20%7B%22zone_id%22%3A%20%22342%22%7D%2C%20%22type%22%3A%20%22Feature%22%7D%2C%20%7B%22geometry%22%3A%20%7B%22coordinates%22%3A%20%5B%5B%5B-74.16239419999998%2C%2040.8567742%5D%2C%20%5B-74.13640159999999%2C%2040.8567742%5D%2C%20%5B-74.13640159999999%2C%2040.8739528%5D%2C%20%5B-74.16239419999998%2C%2040.8739528%5D%2C%20%5B-74.16239419999998%2C%2040.8567742%5D%5D%5D%2C%20%22type%22%3A%20%22Polygon%22%7D%2C%20%22properties%22%3A%20%7B%22zone_id%22%3A%20%22343%22%7D%2C%20%22type%22%3A%20%22Feature%22%7D%2C%20%7B%22geometry%22%3A%20%7B%22coordinates%22%3A%20%5B%5B%5B-74.13640159999999%2C%2040.8567742%5D%2C%20%5B-74.11040899999998%2C%2040.8567742%5D%2C%20%5B-74.11040899999998%2C%2040.8739528%5D%2C%20%5B-74.13640159999999%2C%2040.8739528%5D%2C%20%5B-74.13640159999999%2C%2040.8567742%5D%5D%5D%2C%20%22type%22%3A%20%22Polygon%22%7D%2C%20%22properties%22%3A%20%7B%22zone_id%22%3A%20%22344%22%7D%2C%20%22type%22%3A%20%22Feature%22%7D%2C%20%7B%22geometry%22%3A%20%7B%22coordinates%22%3A%20%5B%5B%5B-74.11040899999998%2C%2040.8567742%5D%2C%20%5B-74.08441639999998%2C%2040.8567742%5D%2C%20%5B-74.08441639999998%2C%2040.8739528%5D%2C%20%5B-74.11040899999998%2C%2040.8739528%5D%2C%20%5B-74.11040899999998%2C%2040.8567742%5D%5D%5D%2C%20%22type%22%3A%20%22Polygon%22%7D%2C%20%22properties%22%3A%20%7B%22zone_id%22%3A%20%22345%22%7D%2C%20%22type%22%3A%20%22Feature%22%7D%2C%20%7B%22geometry%22%3A%20%7B%22coordinates%22%3A%20%5B%5B%5B-74.08441639999998%2C%2040.8567742%5D%2C%20%5B-74.05842379999999%2C%2040.8567742%5D%2C%20%5B-74.05842379999999%2C%2040.8739528%5D%2C%20%5B-74.08441639999998%2C%2040.8739528%5D%2C%20%5B-74.08441639999998%2C%2040.8567742%5D%5D%5D%2C%20%22type%22%3A%20%22Polygon%22%7D%2C%20%22properties%22%3A%20%7B%22zone_id%22%3A%20%22346%22%7D%2C%20%22type%22%3A%20%22Feature%22%7D%2C%20%7B%22geometry%22%3A%20%7B%22coordinates%22%3A%20%5B%5B%5B-74.05842379999999%2C%2040.8567742%5D%2C%20%5B-74.03243119999999%2C%2040.8567742%5D%2C%20%5B-74.03243119999999%2C%2040.8739528%5D%2C%20%5B-74.05842379999999%2C%2040.8739528%5D%2C%20%5B-74.05842379999999%2C%2040.8567742%5D%5D%5D%2C%20%22type%22%3A%20%22Polygon%22%7D%2C%20%22properties%22%3A%20%7B%22zone_id%22%3A%20%22347%22%7D%2C%20%22type%22%3A%20%22Feature%22%7D%2C%20%7B%22geometry%22%3A%20%7B%22coordinates%22%3A%20%5B%5B%5B-74.03243119999999%2C%2040.8567742%5D%2C%20%5B-74.00643859999998%2C%2040.8567742%5D%2C%20%5B-74.00643859999998%2C%2040.8739528%5D%2C%20%5B-74.03243119999999%2C%2040.8739528%5D%2C%20%5B-74.03243119999999%2C%2040.8567742%5D%5D%5D%2C%20%22type%22%3A%20%22Polygon%22%7D%2C%20%22properties%22%3A%20%7B%22zone_id%22%3A%20%22348%22%7D%2C%20%22type%22%3A%20%22Feature%22%7D%2C%20%7B%22geometry%22%3A%20%7B%22coordinates%22%3A%20%5B%5B%5B-74.00643859999998%2C%2040.8567742%5D%2C%20%5B-73.98044599999999%2C%2040.8567742%5D%2C%20%5B-73.98044599999999%2C%2040.8739528%5D%2C%20%5B-74.00643859999998%2C%2040.8739528%5D%2C%20%5B-74.00643859999998%2C%2040.8567742%5D%5D%5D%2C%20%22type%22%3A%20%22Polygon%22%7D%2C%20%22properties%22%3A%20%7B%22zone_id%22%3A%20%22349%22%7D%2C%20%22type%22%3A%20%22Feature%22%7D%2C%20%7B%22geometry%22%3A%20%7B%22coordinates%22%3A%20%5B%5B%5B-73.98044599999999%2C%2040.8567742%5D%2C%20%5B-73.95445339999999%2C%2040.8567742%5D%2C%20%5B-73.95445339999999%2C%2040.8739528%5D%2C%20%5B-73.98044599999999%2C%2040.8739528%5D%2C%20%5B-73.98044599999999%2C%2040.8567742%5D%5D%5D%2C%20%22type%22%3A%20%22Polygon%22%7D%2C%20%22properties%22%3A%20%7B%22zone_id%22%3A%20%22350%22%7D%2C%20%22type%22%3A%20%22Feature%22%7D%2C%20%7B%22geometry%22%3A%20%7B%22coordinates%22%3A%20%5B%5B%5B-73.95445339999999%2C%2040.8567742%5D%2C%20%5B-73.92846079999998%2C%2040.8567742%5D%2C%20%5B-73.92846079999998%2C%2040.8739528%5D%2C%20%5B-73.95445339999999%2C%2040.8739528%5D%2C%20%5B-73.95445339999999%2C%2040.8567742%5D%5D%5D%2C%20%22type%22%3A%20%22Polygon%22%7D%2C%20%22properties%22%3A%20%7B%22zone_id%22%3A%20%22351%22%7D%2C%20%22type%22%3A%20%22Feature%22%7D%2C%20%7B%22geometry%22%3A%20%7B%22coordinates%22%3A%20%5B%5B%5B-73.92846079999998%2C%2040.8567742%5D%2C%20%5B-73.90246819999999%2C%2040.8567742%5D%2C%20%5B-73.90246819999999%2C%2040.8739528%5D%2C%20%5B-73.92846079999998%2C%2040.8739528%5D%2C%20%5B-73.92846079999998%2C%2040.8567742%5D%5D%5D%2C%20%22type%22%3A%20%22Polygon%22%7D%2C%20%22properties%22%3A%20%7B%22zone_id%22%3A%20%22352%22%7D%2C%20%22type%22%3A%20%22Feature%22%7D%2C%20%7B%22geometry%22%3A%20%7B%22coordinates%22%3A%20%5B%5B%5B-73.90246819999999%2C%2040.8567742%5D%2C%20%5B-73.87647559999999%2C%2040.8567742%5D%2C%20%5B-73.87647559999999%2C%2040.8739528%5D%2C%20%5B-73.90246819999999%2C%2040.8739528%5D%2C%20%5B-73.90246819999999%2C%2040.8567742%5D%5D%5D%2C%20%22type%22%3A%20%22Polygon%22%7D%2C%20%22properties%22%3A%20%7B%22zone_id%22%3A%20%22353%22%7D%2C%20%22type%22%3A%20%22Feature%22%7D%2C%20%7B%22geometry%22%3A%20%7B%22coordinates%22%3A%20%5B%5B%5B-73.87647559999999%2C%2040.8567742%5D%2C%20%5B-73.850483%2C%2040.8567742%5D%2C%20%5B-73.850483%2C%2040.8739528%5D%2C%20%5B-73.87647559999999%2C%2040.8739528%5D%2C%20%5B-73.87647559999999%2C%2040.8567742%5D%5D%5D%2C%20%22type%22%3A%20%22Polygon%22%7D%2C%20%22properties%22%3A%20%7B%22zone_id%22%3A%20%22354%22%7D%2C%20%22type%22%3A%20%22Feature%22%7D%2C%20%7B%22geometry%22%3A%20%7B%22coordinates%22%3A%20%5B%5B%5B-73.850483%2C%2040.8567742%5D%2C%20%5B-73.82449039999999%2C%2040.8567742%5D%2C%20%5B-73.82449039999999%2C%2040.8739528%5D%2C%20%5B-73.850483%2C%2040.8739528%5D%2C%20%5B-73.850483%2C%2040.8567742%5D%5D%5D%2C%20%22type%22%3A%20%22Polygon%22%7D%2C%20%22properties%22%3A%20%7B%22zone_id%22%3A%20%22355%22%7D%2C%20%22type%22%3A%20%22Feature%22%7D%2C%20%7B%22geometry%22%3A%20%7B%22coordinates%22%3A%20%5B%5B%5B-73.82449039999999%2C%2040.8567742%5D%2C%20%5B-73.79849779999999%2C%2040.8567742%5D%2C%20%5B-73.79849779999999%2C%2040.8739528%5D%2C%20%5B-73.82449039999999%2C%2040.8739528%5D%2C%20%5B-73.82449039999999%2C%2040.8567742%5D%5D%5D%2C%20%22type%22%3A%20%22Polygon%22%7D%2C%20%22properties%22%3A%20%7B%22zone_id%22%3A%20%22356%22%7D%2C%20%22type%22%3A%20%22Feature%22%7D%2C%20%7B%22geometry%22%3A%20%7B%22coordinates%22%3A%20%5B%5B%5B-73.79849779999999%2C%2040.8567742%5D%2C%20%5B-73.7725052%2C%2040.8567742%5D%2C%20%5B-73.7725052%2C%2040.8739528%5D%2C%20%5B-73.79849779999999%2C%2040.8739528%5D%2C%20%5B-73.79849779999999%2C%2040.8567742%5D%5D%5D%2C%20%22type%22%3A%20%22Polygon%22%7D%2C%20%22properties%22%3A%20%7B%22zone_id%22%3A%20%22357%22%7D%2C%20%22type%22%3A%20%22Feature%22%7D%2C%20%7B%22geometry%22%3A%20%7B%22coordinates%22%3A%20%5B%5B%5B-73.7725052%2C%2040.8567742%5D%2C%20%5B-73.74651259999999%2C%2040.8567742%5D%2C%20%5B-73.74651259999999%2C%2040.8739528%5D%2C%20%5B-73.7725052%2C%2040.8739528%5D%2C%20%5B-73.7725052%2C%2040.8567742%5D%5D%5D%2C%20%22type%22%3A%20%22Polygon%22%7D%2C%20%22properties%22%3A%20%7B%22zone_id%22%3A%20%22358%22%7D%2C%20%22type%22%3A%20%22Feature%22%7D%2C%20%7B%22geometry%22%3A%20%7B%22coordinates%22%3A%20%5B%5B%5B-73.74651259999999%2C%2040.8567742%5D%2C%20%5B-73.72052%2C%2040.8567742%5D%2C%20%5B-73.72052%2C%2040.8739528%5D%2C%20%5B-73.74651259999999%2C%2040.8739528%5D%2C%20%5B-73.74651259999999%2C%2040.8567742%5D%5D%5D%2C%20%22type%22%3A%20%22Polygon%22%7D%2C%20%22properties%22%3A%20%7B%22zone_id%22%3A%20%22359%22%7D%2C%20%22type%22%3A%20%22Feature%22%7D%2C%20%7B%22geometry%22%3A%20%7B%22coordinates%22%3A%20%5B%5B%5B-74.24037199999998%2C%2040.8739528%5D%2C%20%5B-74.21437939999998%2C%2040.8739528%5D%2C%20%5B-74.21437939999998%2C%2040.8911314%5D%2C%20%5B-74.24037199999998%2C%2040.8911314%5D%2C%20%5B-74.24037199999998%2C%2040.8739528%5D%5D%5D%2C%20%22type%22%3A%20%22Polygon%22%7D%2C%20%22properties%22%3A%20%7B%22zone_id%22%3A%20%22360%22%7D%2C%20%22type%22%3A%20%22Feature%22%7D%2C%20%7B%22geometry%22%3A%20%7B%22coordinates%22%3A%20%5B%5B%5B-74.21437939999998%2C%2040.8739528%5D%2C%20%5B-74.18838679999998%2C%2040.8739528%5D%2C%20%5B-74.18838679999998%2C%2040.8911314%5D%2C%20%5B-74.21437939999998%2C%2040.8911314%5D%2C%20%5B-74.21437939999998%2C%2040.8739528%5D%5D%5D%2C%20%22type%22%3A%20%22Polygon%22%7D%2C%20%22properties%22%3A%20%7B%22zone_id%22%3A%20%22361%22%7D%2C%20%22type%22%3A%20%22Feature%22%7D%2C%20%7B%22geometry%22%3A%20%7B%22coordinates%22%3A%20%5B%5B%5B-74.18838679999998%2C%2040.8739528%5D%2C%20%5B-74.16239419999998%2C%2040.8739528%5D%2C%20%5B-74.16239419999998%2C%2040.8911314%5D%2C%20%5B-74.18838679999998%2C%2040.8911314%5D%2C%20%5B-74.18838679999998%2C%2040.8739528%5D%5D%5D%2C%20%22type%22%3A%20%22Polygon%22%7D%2C%20%22properties%22%3A%20%7B%22zone_id%22%3A%20%22362%22%7D%2C%20%22type%22%3A%20%22Feature%22%7D%2C%20%7B%22geometry%22%3A%20%7B%22coordinates%22%3A%20%5B%5B%5B-74.16239419999998%2C%2040.8739528%5D%2C%20%5B-74.13640159999999%2C%2040.8739528%5D%2C%20%5B-74.13640159999999%2C%2040.8911314%5D%2C%20%5B-74.16239419999998%2C%2040.8911314%5D%2C%20%5B-74.16239419999998%2C%2040.8739528%5D%5D%5D%2C%20%22type%22%3A%20%22Polygon%22%7D%2C%20%22properties%22%3A%20%7B%22zone_id%22%3A%20%22363%22%7D%2C%20%22type%22%3A%20%22Feature%22%7D%2C%20%7B%22geometry%22%3A%20%7B%22coordinates%22%3A%20%5B%5B%5B-74.13640159999999%2C%2040.8739528%5D%2C%20%5B-74.11040899999998%2C%2040.8739528%5D%2C%20%5B-74.11040899999998%2C%2040.8911314%5D%2C%20%5B-74.13640159999999%2C%2040.8911314%5D%2C%20%5B-74.13640159999999%2C%2040.8739528%5D%5D%5D%2C%20%22type%22%3A%20%22Polygon%22%7D%2C%20%22properties%22%3A%20%7B%22zone_id%22%3A%20%22364%22%7D%2C%20%22type%22%3A%20%22Feature%22%7D%2C%20%7B%22geometry%22%3A%20%7B%22coordinates%22%3A%20%5B%5B%5B-74.11040899999998%2C%2040.8739528%5D%2C%20%5B-74.08441639999998%2C%2040.8739528%5D%2C%20%5B-74.08441639999998%2C%2040.8911314%5D%2C%20%5B-74.11040899999998%2C%2040.8911314%5D%2C%20%5B-74.11040899999998%2C%2040.8739528%5D%5D%5D%2C%20%22type%22%3A%20%22Polygon%22%7D%2C%20%22properties%22%3A%20%7B%22zone_id%22%3A%20%22365%22%7D%2C%20%22type%22%3A%20%22Feature%22%7D%2C%20%7B%22geometry%22%3A%20%7B%22coordinates%22%3A%20%5B%5B%5B-74.08441639999998%2C%2040.8739528%5D%2C%20%5B-74.05842379999999%2C%2040.8739528%5D%2C%20%5B-74.05842379999999%2C%2040.8911314%5D%2C%20%5B-74.08441639999998%2C%2040.8911314%5D%2C%20%5B-74.08441639999998%2C%2040.8739528%5D%5D%5D%2C%20%22type%22%3A%20%22Polygon%22%7D%2C%20%22properties%22%3A%20%7B%22zone_id%22%3A%20%22366%22%7D%2C%20%22type%22%3A%20%22Feature%22%7D%2C%20%7B%22geometry%22%3A%20%7B%22coordinates%22%3A%20%5B%5B%5B-74.05842379999999%2C%2040.8739528%5D%2C%20%5B-74.03243119999999%2C%2040.8739528%5D%2C%20%5B-74.03243119999999%2C%2040.8911314%5D%2C%20%5B-74.05842379999999%2C%2040.8911314%5D%2C%20%5B-74.05842379999999%2C%2040.8739528%5D%5D%5D%2C%20%22type%22%3A%20%22Polygon%22%7D%2C%20%22properties%22%3A%20%7B%22zone_id%22%3A%20%22367%22%7D%2C%20%22type%22%3A%20%22Feature%22%7D%2C%20%7B%22geometry%22%3A%20%7B%22coordinates%22%3A%20%5B%5B%5B-74.03243119999999%2C%2040.8739528%5D%2C%20%5B-74.00643859999998%2C%2040.8739528%5D%2C%20%5B-74.00643859999998%2C%2040.8911314%5D%2C%20%5B-74.03243119999999%2C%2040.8911314%5D%2C%20%5B-74.03243119999999%2C%2040.8739528%5D%5D%5D%2C%20%22type%22%3A%20%22Polygon%22%7D%2C%20%22properties%22%3A%20%7B%22zone_id%22%3A%20%22368%22%7D%2C%20%22type%22%3A%20%22Feature%22%7D%2C%20%7B%22geometry%22%3A%20%7B%22coordinates%22%3A%20%5B%5B%5B-74.00643859999998%2C%2040.8739528%5D%2C%20%5B-73.98044599999999%2C%2040.8739528%5D%2C%20%5B-73.98044599999999%2C%2040.8911314%5D%2C%20%5B-74.00643859999998%2C%2040.8911314%5D%2C%20%5B-74.00643859999998%2C%2040.8739528%5D%5D%5D%2C%20%22type%22%3A%20%22Polygon%22%7D%2C%20%22properties%22%3A%20%7B%22zone_id%22%3A%20%22369%22%7D%2C%20%22type%22%3A%20%22Feature%22%7D%2C%20%7B%22geometry%22%3A%20%7B%22coordinates%22%3A%20%5B%5B%5B-73.98044599999999%2C%2040.8739528%5D%2C%20%5B-73.95445339999999%2C%2040.8739528%5D%2C%20%5B-73.95445339999999%2C%2040.8911314%5D%2C%20%5B-73.98044599999999%2C%2040.8911314%5D%2C%20%5B-73.98044599999999%2C%2040.8739528%5D%5D%5D%2C%20%22type%22%3A%20%22Polygon%22%7D%2C%20%22properties%22%3A%20%7B%22zone_id%22%3A%20%22370%22%7D%2C%20%22type%22%3A%20%22Feature%22%7D%2C%20%7B%22geometry%22%3A%20%7B%22coordinates%22%3A%20%5B%5B%5B-73.95445339999999%2C%2040.8739528%5D%2C%20%5B-73.92846079999998%2C%2040.8739528%5D%2C%20%5B-73.92846079999998%2C%2040.8911314%5D%2C%20%5B-73.95445339999999%2C%2040.8911314%5D%2C%20%5B-73.95445339999999%2C%2040.8739528%5D%5D%5D%2C%20%22type%22%3A%20%22Polygon%22%7D%2C%20%22properties%22%3A%20%7B%22zone_id%22%3A%20%22371%22%7D%2C%20%22type%22%3A%20%22Feature%22%7D%2C%20%7B%22geometry%22%3A%20%7B%22coordinates%22%3A%20%5B%5B%5B-73.92846079999998%2C%2040.8739528%5D%2C%20%5B-73.90246819999999%2C%2040.8739528%5D%2C%20%5B-73.90246819999999%2C%2040.8911314%5D%2C%20%5B-73.92846079999998%2C%2040.8911314%5D%2C%20%5B-73.92846079999998%2C%2040.8739528%5D%5D%5D%2C%20%22type%22%3A%20%22Polygon%22%7D%2C%20%22properties%22%3A%20%7B%22zone_id%22%3A%20%22372%22%7D%2C%20%22type%22%3A%20%22Feature%22%7D%2C%20%7B%22geometry%22%3A%20%7B%22coordinates%22%3A%20%5B%5B%5B-73.90246819999999%2C%2040.8739528%5D%2C%20%5B-73.87647559999999%2C%2040.8739528%5D%2C%20%5B-73.87647559999999%2C%2040.8911314%5D%2C%20%5B-73.90246819999999%2C%2040.8911314%5D%2C%20%5B-73.90246819999999%2C%2040.8739528%5D%5D%5D%2C%20%22type%22%3A%20%22Polygon%22%7D%2C%20%22properties%22%3A%20%7B%22zone_id%22%3A%20%22373%22%7D%2C%20%22type%22%3A%20%22Feature%22%7D%2C%20%7B%22geometry%22%3A%20%7B%22coordinates%22%3A%20%5B%5B%5B-73.87647559999999%2C%2040.8739528%5D%2C%20%5B-73.850483%2C%2040.8739528%5D%2C%20%5B-73.850483%2C%2040.8911314%5D%2C%20%5B-73.87647559999999%2C%2040.8911314%5D%2C%20%5B-73.87647559999999%2C%2040.8739528%5D%5D%5D%2C%20%22type%22%3A%20%22Polygon%22%7D%2C%20%22properties%22%3A%20%7B%22zone_id%22%3A%20%22374%22%7D%2C%20%22type%22%3A%20%22Feature%22%7D%2C%20%7B%22geometry%22%3A%20%7B%22coordinates%22%3A%20%5B%5B%5B-73.850483%2C%2040.8739528%5D%2C%20%5B-73.82449039999999%2C%2040.8739528%5D%2C%20%5B-73.82449039999999%2C%2040.8911314%5D%2C%20%5B-73.850483%2C%2040.8911314%5D%2C%20%5B-73.850483%2C%2040.8739528%5D%5D%5D%2C%20%22type%22%3A%20%22Polygon%22%7D%2C%20%22properties%22%3A%20%7B%22zone_id%22%3A%20%22375%22%7D%2C%20%22type%22%3A%20%22Feature%22%7D%2C%20%7B%22geometry%22%3A%20%7B%22coordinates%22%3A%20%5B%5B%5B-73.82449039999999%2C%2040.8739528%5D%2C%20%5B-73.79849779999999%2C%2040.8739528%5D%2C%20%5B-73.79849779999999%2C%2040.8911314%5D%2C%20%5B-73.82449039999999%2C%2040.8911314%5D%2C%20%5B-73.82449039999999%2C%2040.8739528%5D%5D%5D%2C%20%22type%22%3A%20%22Polygon%22%7D%2C%20%22properties%22%3A%20%7B%22zone_id%22%3A%20%22376%22%7D%2C%20%22type%22%3A%20%22Feature%22%7D%2C%20%7B%22geometry%22%3A%20%7B%22coordinates%22%3A%20%5B%5B%5B-73.79849779999999%2C%2040.8739528%5D%2C%20%5B-73.7725052%2C%2040.8739528%5D%2C%20%5B-73.7725052%2C%2040.8911314%5D%2C%20%5B-73.79849779999999%2C%2040.8911314%5D%2C%20%5B-73.79849779999999%2C%2040.8739528%5D%5D%5D%2C%20%22type%22%3A%20%22Polygon%22%7D%2C%20%22properties%22%3A%20%7B%22zone_id%22%3A%20%22377%22%7D%2C%20%22type%22%3A%20%22Feature%22%7D%2C%20%7B%22geometry%22%3A%20%7B%22coordinates%22%3A%20%5B%5B%5B-73.7725052%2C%2040.8739528%5D%2C%20%5B-73.74651259999999%2C%2040.8739528%5D%2C%20%5B-73.74651259999999%2C%2040.8911314%5D%2C%20%5B-73.7725052%2C%2040.8911314%5D%2C%20%5B-73.7725052%2C%2040.8739528%5D%5D%5D%2C%20%22type%22%3A%20%22Polygon%22%7D%2C%20%22properties%22%3A%20%7B%22zone_id%22%3A%20%22378%22%7D%2C%20%22type%22%3A%20%22Feature%22%7D%2C%20%7B%22geometry%22%3A%20%7B%22coordinates%22%3A%20%5B%5B%5B-73.74651259999999%2C%2040.8739528%5D%2C%20%5B-73.72052%2C%2040.8739528%5D%2C%20%5B-73.72052%2C%2040.8911314%5D%2C%20%5B-73.74651259999999%2C%2040.8911314%5D%2C%20%5B-73.74651259999999%2C%2040.8739528%5D%5D%5D%2C%20%22type%22%3A%20%22Polygon%22%7D%2C%20%22properties%22%3A%20%7B%22zone_id%22%3A%20%22379%22%7D%2C%20%22type%22%3A%20%22Feature%22%7D%2C%20%7B%22geometry%22%3A%20%7B%22coordinates%22%3A%20%5B%5B%5B-74.24037199999998%2C%2040.8911314%5D%2C%20%5B-74.21437939999998%2C%2040.8911314%5D%2C%20%5B-74.21437939999998%2C%2040.90831%5D%2C%20%5B-74.24037199999998%2C%2040.90831%5D%2C%20%5B-74.24037199999998%2C%2040.8911314%5D%5D%5D%2C%20%22type%22%3A%20%22Polygon%22%7D%2C%20%22properties%22%3A%20%7B%22zone_id%22%3A%20%22380%22%7D%2C%20%22type%22%3A%20%22Feature%22%7D%2C%20%7B%22geometry%22%3A%20%7B%22coordinates%22%3A%20%5B%5B%5B-74.21437939999998%2C%2040.8911314%5D%2C%20%5B-74.18838679999998%2C%2040.8911314%5D%2C%20%5B-74.18838679999998%2C%2040.90831%5D%2C%20%5B-74.21437939999998%2C%2040.90831%5D%2C%20%5B-74.21437939999998%2C%2040.8911314%5D%5D%5D%2C%20%22type%22%3A%20%22Polygon%22%7D%2C%20%22properties%22%3A%20%7B%22zone_id%22%3A%20%22381%22%7D%2C%20%22type%22%3A%20%22Feature%22%7D%2C%20%7B%22geometry%22%3A%20%7B%22coordinates%22%3A%20%5B%5B%5B-74.18838679999998%2C%2040.8911314%5D%2C%20%5B-74.16239419999998%2C%2040.8911314%5D%2C%20%5B-74.16239419999998%2C%2040.90831%5D%2C%20%5B-74.18838679999998%2C%2040.90831%5D%2C%20%5B-74.18838679999998%2C%2040.8911314%5D%5D%5D%2C%20%22type%22%3A%20%22Polygon%22%7D%2C%20%22properties%22%3A%20%7B%22zone_id%22%3A%20%22382%22%7D%2C%20%22type%22%3A%20%22Feature%22%7D%2C%20%7B%22geometry%22%3A%20%7B%22coordinates%22%3A%20%5B%5B%5B-74.16239419999998%2C%2040.8911314%5D%2C%20%5B-74.13640159999999%2C%2040.8911314%5D%2C%20%5B-74.13640159999999%2C%2040.90831%5D%2C%20%5B-74.16239419999998%2C%2040.90831%5D%2C%20%5B-74.16239419999998%2C%2040.8911314%5D%5D%5D%2C%20%22type%22%3A%20%22Polygon%22%7D%2C%20%22properties%22%3A%20%7B%22zone_id%22%3A%20%22383%22%7D%2C%20%22type%22%3A%20%22Feature%22%7D%2C%20%7B%22geometry%22%3A%20%7B%22coordinates%22%3A%20%5B%5B%5B-74.13640159999999%2C%2040.8911314%5D%2C%20%5B-74.11040899999998%2C%2040.8911314%5D%2C%20%5B-74.11040899999998%2C%2040.90831%5D%2C%20%5B-74.13640159999999%2C%2040.90831%5D%2C%20%5B-74.13640159999999%2C%2040.8911314%5D%5D%5D%2C%20%22type%22%3A%20%22Polygon%22%7D%2C%20%22properties%22%3A%20%7B%22zone_id%22%3A%20%22384%22%7D%2C%20%22type%22%3A%20%22Feature%22%7D%2C%20%7B%22geometry%22%3A%20%7B%22coordinates%22%3A%20%5B%5B%5B-74.11040899999998%2C%2040.8911314%5D%2C%20%5B-74.08441639999998%2C%2040.8911314%5D%2C%20%5B-74.08441639999998%2C%2040.90831%5D%2C%20%5B-74.11040899999998%2C%2040.90831%5D%2C%20%5B-74.11040899999998%2C%2040.8911314%5D%5D%5D%2C%20%22type%22%3A%20%22Polygon%22%7D%2C%20%22properties%22%3A%20%7B%22zone_id%22%3A%20%22385%22%7D%2C%20%22type%22%3A%20%22Feature%22%7D%2C%20%7B%22geometry%22%3A%20%7B%22coordinates%22%3A%20%5B%5B%5B-74.08441639999998%2C%2040.8911314%5D%2C%20%5B-74.05842379999999%2C%2040.8911314%5D%2C%20%5B-74.05842379999999%2C%2040.90831%5D%2C%20%5B-74.08441639999998%2C%2040.90831%5D%2C%20%5B-74.08441639999998%2C%2040.8911314%5D%5D%5D%2C%20%22type%22%3A%20%22Polygon%22%7D%2C%20%22properties%22%3A%20%7B%22zone_id%22%3A%20%22386%22%7D%2C%20%22type%22%3A%20%22Feature%22%7D%2C%20%7B%22geometry%22%3A%20%7B%22coordinates%22%3A%20%5B%5B%5B-74.05842379999999%2C%2040.8911314%5D%2C%20%5B-74.03243119999999%2C%2040.8911314%5D%2C%20%5B-74.03243119999999%2C%2040.90831%5D%2C%20%5B-74.05842379999999%2C%2040.90831%5D%2C%20%5B-74.05842379999999%2C%2040.8911314%5D%5D%5D%2C%20%22type%22%3A%20%22Polygon%22%7D%2C%20%22properties%22%3A%20%7B%22zone_id%22%3A%20%22387%22%7D%2C%20%22type%22%3A%20%22Feature%22%7D%2C%20%7B%22geometry%22%3A%20%7B%22coordinates%22%3A%20%5B%5B%5B-74.03243119999999%2C%2040.8911314%5D%2C%20%5B-74.00643859999998%2C%2040.8911314%5D%2C%20%5B-74.00643859999998%2C%2040.90831%5D%2C%20%5B-74.03243119999999%2C%2040.90831%5D%2C%20%5B-74.03243119999999%2C%2040.8911314%5D%5D%5D%2C%20%22type%22%3A%20%22Polygon%22%7D%2C%20%22properties%22%3A%20%7B%22zone_id%22%3A%20%22388%22%7D%2C%20%22type%22%3A%20%22Feature%22%7D%2C%20%7B%22geometry%22%3A%20%7B%22coordinates%22%3A%20%5B%5B%5B-74.00643859999998%2C%2040.8911314%5D%2C%20%5B-73.98044599999999%2C%2040.8911314%5D%2C%20%5B-73.98044599999999%2C%2040.90831%5D%2C%20%5B-74.00643859999998%2C%2040.90831%5D%2C%20%5B-74.00643859999998%2C%2040.8911314%5D%5D%5D%2C%20%22type%22%3A%20%22Polygon%22%7D%2C%20%22properties%22%3A%20%7B%22zone_id%22%3A%20%22389%22%7D%2C%20%22type%22%3A%20%22Feature%22%7D%2C%20%7B%22geometry%22%3A%20%7B%22coordinates%22%3A%20%5B%5B%5B-73.98044599999999%2C%2040.8911314%5D%2C%20%5B-73.95445339999999%2C%2040.8911314%5D%2C%20%5B-73.95445339999999%2C%2040.90831%5D%2C%20%5B-73.98044599999999%2C%2040.90831%5D%2C%20%5B-73.98044599999999%2C%2040.8911314%5D%5D%5D%2C%20%22type%22%3A%20%22Polygon%22%7D%2C%20%22properties%22%3A%20%7B%22zone_id%22%3A%20%22390%22%7D%2C%20%22type%22%3A%20%22Feature%22%7D%2C%20%7B%22geometry%22%3A%20%7B%22coordinates%22%3A%20%5B%5B%5B-73.95445339999999%2C%2040.8911314%5D%2C%20%5B-73.92846079999998%2C%2040.8911314%5D%2C%20%5B-73.92846079999998%2C%2040.90831%5D%2C%20%5B-73.95445339999999%2C%2040.90831%5D%2C%20%5B-73.95445339999999%2C%2040.8911314%5D%5D%5D%2C%20%22type%22%3A%20%22Polygon%22%7D%2C%20%22properties%22%3A%20%7B%22zone_id%22%3A%20%22391%22%7D%2C%20%22type%22%3A%20%22Feature%22%7D%2C%20%7B%22geometry%22%3A%20%7B%22coordinates%22%3A%20%5B%5B%5B-73.92846079999998%2C%2040.8911314%5D%2C%20%5B-73.90246819999999%2C%2040.8911314%5D%2C%20%5B-73.90246819999999%2C%2040.90831%5D%2C%20%5B-73.92846079999998%2C%2040.90831%5D%2C%20%5B-73.92846079999998%2C%2040.8911314%5D%5D%5D%2C%20%22type%22%3A%20%22Polygon%22%7D%2C%20%22properties%22%3A%20%7B%22zone_id%22%3A%20%22392%22%7D%2C%20%22type%22%3A%20%22Feature%22%7D%2C%20%7B%22geometry%22%3A%20%7B%22coordinates%22%3A%20%5B%5B%5B-73.90246819999999%2C%2040.8911314%5D%2C%20%5B-73.87647559999999%2C%2040.8911314%5D%2C%20%5B-73.87647559999999%2C%2040.90831%5D%2C%20%5B-73.90246819999999%2C%2040.90831%5D%2C%20%5B-73.90246819999999%2C%2040.8911314%5D%5D%5D%2C%20%22type%22%3A%20%22Polygon%22%7D%2C%20%22properties%22%3A%20%7B%22zone_id%22%3A%20%22393%22%7D%2C%20%22type%22%3A%20%22Feature%22%7D%2C%20%7B%22geometry%22%3A%20%7B%22coordinates%22%3A%20%5B%5B%5B-73.87647559999999%2C%2040.8911314%5D%2C%20%5B-73.850483%2C%2040.8911314%5D%2C%20%5B-73.850483%2C%2040.90831%5D%2C%20%5B-73.87647559999999%2C%2040.90831%5D%2C%20%5B-73.87647559999999%2C%2040.8911314%5D%5D%5D%2C%20%22type%22%3A%20%22Polygon%22%7D%2C%20%22properties%22%3A%20%7B%22zone_id%22%3A%20%22394%22%7D%2C%20%22type%22%3A%20%22Feature%22%7D%2C%20%7B%22geometry%22%3A%20%7B%22coordinates%22%3A%20%5B%5B%5B-73.850483%2C%2040.8911314%5D%2C%20%5B-73.82449039999999%2C%2040.8911314%5D%2C%20%5B-73.82449039999999%2C%2040.90831%5D%2C%20%5B-73.850483%2C%2040.90831%5D%2C%20%5B-73.850483%2C%2040.8911314%5D%5D%5D%2C%20%22type%22%3A%20%22Polygon%22%7D%2C%20%22properties%22%3A%20%7B%22zone_id%22%3A%20%22395%22%7D%2C%20%22type%22%3A%20%22Feature%22%7D%2C%20%7B%22geometry%22%3A%20%7B%22coordinates%22%3A%20%5B%5B%5B-73.82449039999999%2C%2040.8911314%5D%2C%20%5B-73.79849779999999%2C%2040.8911314%5D%2C%20%5B-73.79849779999999%2C%2040.90831%5D%2C%20%5B-73.82449039999999%2C%2040.90831%5D%2C%20%5B-73.82449039999999%2C%2040.8911314%5D%5D%5D%2C%20%22type%22%3A%20%22Polygon%22%7D%2C%20%22properties%22%3A%20%7B%22zone_id%22%3A%20%22396%22%7D%2C%20%22type%22%3A%20%22Feature%22%7D%2C%20%7B%22geometry%22%3A%20%7B%22coordinates%22%3A%20%5B%5B%5B-73.79849779999999%2C%2040.8911314%5D%2C%20%5B-73.7725052%2C%2040.8911314%5D%2C%20%5B-73.7725052%2C%2040.90831%5D%2C%20%5B-73.79849779999999%2C%2040.90831%5D%2C%20%5B-73.79849779999999%2C%2040.8911314%5D%5D%5D%2C%20%22type%22%3A%20%22Polygon%22%7D%2C%20%22properties%22%3A%20%7B%22zone_id%22%3A%20%22397%22%7D%2C%20%22type%22%3A%20%22Feature%22%7D%2C%20%7B%22geometry%22%3A%20%7B%22coordinates%22%3A%20%5B%5B%5B-73.7725052%2C%2040.8911314%5D%2C%20%5B-73.74651259999999%2C%2040.8911314%5D%2C%20%5B-73.74651259999999%2C%2040.90831%5D%2C%20%5B-73.7725052%2C%2040.90831%5D%2C%20%5B-73.7725052%2C%2040.8911314%5D%5D%5D%2C%20%22type%22%3A%20%22Polygon%22%7D%2C%20%22properties%22%3A%20%7B%22zone_id%22%3A%20%22398%22%7D%2C%20%22type%22%3A%20%22Feature%22%7D%2C%20%7B%22geometry%22%3A%20%7B%22coordinates%22%3A%20%5B%5B%5B-73.74651259999999%2C%2040.8911314%5D%2C%20%5B-73.72052%2C%2040.8911314%5D%2C%20%5B-73.72052%2C%2040.90831%5D%2C%20%5B-73.74651259999999%2C%2040.90831%5D%2C%20%5B-73.74651259999999%2C%2040.8911314%5D%5D%5D%2C%20%22type%22%3A%20%22Polygon%22%7D%2C%20%22properties%22%3A%20%7B%22zone_id%22%3A%20%22399%22%7D%2C%20%22type%22%3A%20%22Feature%22%7D%5D%2C%20%22type%22%3A%20%22FeatureCollection%22%7D%29%3B%0A%0A%20%20%20%20%20%20%20%20%0A%20%20%20%20%0A%20%20%20%20var%20color_map_d5feaf9514154189853cfe73aee00fc7%20%3D%20%7B%7D%3B%0A%0A%20%20%20%20%0A%20%20%20%20color_map_d5feaf9514154189853cfe73aee00fc7.color%20%3D%20d3.scale.threshold%28%29%0A%20%20%20%20%20%20%20%20%20%20%20%20%20%20.domain%28%5B1.0%2C%20139.3426853707415%2C%20277.685370741483%2C%20416.0280561122245%2C%20554.370741482966%2C%20692.7134268537075%2C%20831.056112224449%2C%20969.3987975951903%2C%201107.741482965932%2C%201246.0841683366734%2C%201384.426853707415%2C%201522.7695390781564%2C%201661.112224448898%2C%201799.4549098196392%2C%201937.7975951903807%2C%202076.1402805611224%2C%202214.482965931864%2C%202352.8256513026054%2C%202491.168336673347%2C%202629.5110220440883%2C%202767.85370741483%2C%202906.1963927855713%2C%203044.539078156313%2C%203182.8817635270543%2C%203321.224448897796%2C%203459.567134268537%2C%203597.9098196392783%2C%203736.25250501002%2C%203874.5951903807613%2C%204012.937875751503%2C%204151.280561122245%2C%204289.623246492986%2C%204427.965931863728%2C%204566.308617234469%2C%204704.651302605211%2C%204842.993987975952%2C%204981.336673346694%2C%205119.679358717435%2C%205258.022044088177%2C%205396.364729458918%2C%205534.70741482966%2C%205673.050100200401%2C%205811.392785571143%2C%205949.735470941884%2C%206088.078156312626%2C%206226.420841683367%2C%206364.763527054109%2C%206503.10621242485%2C%206641.448897795592%2C%206779.791583166333%2C%206918.134268537074%2C%207056.476953907815%2C%207194.819639278557%2C%207333.162324649298%2C%207471.50501002004%2C%207609.847695390781%2C%207748.190380761523%2C%207886.533066132264%2C%208024.875751503006%2C%208163.218436873747%2C%208301.56112224449%2C%208439.90380761523%2C%208578.246492985973%2C%208716.589178356713%2C%208854.931863727455%2C%208993.274549098196%2C%209131.617234468938%2C%209269.959919839679%2C%209408.302605210421%2C%209546.645290581162%2C%209684.987975951904%2C%209823.330661322645%2C%209961.673346693387%2C%2010100.016032064128%2C%2010238.35871743487%2C%2010376.701402805611%2C%2010515.044088176353%2C%2010653.386773547094%2C%2010791.729458917836%2C%2010930.072144288577%2C%2011068.41482965932%2C%2011206.75751503006%2C%2011345.100200400802%2C%2011483.442885771543%2C%2011621.785571142285%2C%2011760.128256513026%2C%2011898.470941883768%2C%2012036.813627254509%2C%2012175.156312625251%2C%2012313.498997995992%2C%2012451.841683366734%2C%2012590.184368737475%2C%2012728.527054108217%2C%2012866.869739478958%2C%2013005.2124248497%2C%2013143.55511022044%2C%2013281.897795591183%2C%2013420.240480961924%2C%2013558.583166332666%2C%2013696.925851703407%2C%2013835.268537074147%2C%2013973.61122244489%2C%2014111.95390781563%2C%2014250.296593186373%2C%2014388.639278557113%2C%2014526.981963927856%2C%2014665.324649298596%2C%2014803.667334669339%2C%2014942.01002004008%2C%2015080.352705410822%2C%2015218.695390781562%2C%2015357.038076152305%2C%2015495.380761523045%2C%2015633.723446893788%2C%2015772.066132264528%2C%2015910.40881763527%2C%2016048.751503006011%2C%2016187.094188376754%2C%2016325.436873747494%2C%2016463.779559118237%2C%2016602.12224448898%2C%2016740.464929859718%2C%2016878.80761523046%2C%2017017.150300601203%2C%2017155.492985971945%2C%2017293.835671342684%2C%2017432.178356713426%2C%2017570.52104208417%2C%2017708.86372745491%2C%2017847.20641282565%2C%2017985.549098196392%2C%2018123.891783567135%2C%2018262.234468937877%2C%2018400.577154308616%2C%2018538.919839679358%2C%2018677.2625250501%2C%2018815.605210420843%2C%2018953.94789579158%2C%2019092.290581162324%2C%2019230.633266533066%2C%2019368.97595190381%2C%2019507.318637274548%2C%2019645.66132264529%2C%2019784.004008016032%2C%2019922.346693386775%2C%2020060.689378757514%2C%2020199.032064128256%2C%2020337.374749499%2C%2020475.71743486974%2C%2020614.06012024048%2C%2020752.402805611222%2C%2020890.745490981964%2C%2021029.088176352707%2C%2021167.430861723446%2C%2021305.773547094188%2C%2021444.11623246493%2C%2021582.458917835673%2C%2021720.80160320641%2C%2021859.144288577154%2C%2021997.486973947896%2C%2022135.82965931864%2C%2022274.172344689377%2C%2022412.51503006012%2C%2022550.857715430862%2C%2022689.200400801605%2C%2022827.543086172343%2C%2022965.885771543086%2C%2023104.22845691383%2C%2023242.57114228457%2C%2023380.91382765531%2C%2023519.256513026052%2C%2023657.599198396794%2C%2023795.941883767537%2C%2023934.284569138275%2C%2024072.627254509018%2C%2024210.96993987976%2C%2024349.312625250503%2C%2024487.65531062124%2C%2024625.997995991984%2C%2024764.340681362726%2C%2024902.68336673347%2C%2025041.026052104207%2C%2025179.36873747495%2C%2025317.711422845692%2C%2025456.054108216435%2C%2025594.396793587173%2C%2025732.739478957916%2C%2025871.082164328658%2C%2026009.4248496994%2C%2026147.76753507014%2C%2026286.11022044088%2C%2026424.452905811624%2C%2026562.795591182366%2C%2026701.138276553105%2C%2026839.480961923848%2C%2026977.82364729459%2C%2027116.166332665332%2C%2027254.50901803607%2C%2027392.851703406814%2C%2027531.194388777556%2C%2027669.537074148295%2C%2027807.879759519037%2C%2027946.22244488978%2C%2028084.565130260522%2C%2028222.90781563126%2C%2028361.250501002003%2C%2028499.593186372746%2C%2028637.935871743488%2C%2028776.278557114227%2C%2028914.62124248497%2C%2029052.96392785571%2C%2029191.306613226454%2C%2029329.649298597193%2C%2029467.991983967935%2C%2029606.334669338677%2C%2029744.67735470942%2C%2029883.02004008016%2C%2030021.3627254509%2C%2030159.705410821643%2C%2030298.048096192386%2C%2030436.390781563125%2C%2030574.733466933867%2C%2030713.07615230461%2C%2030851.418837675352%2C%2030989.76152304609%2C%2031128.104208416833%2C%2031266.446893787575%2C%2031404.789579158318%2C%2031543.132264529057%2C%2031681.4749498998%2C%2031819.81763527054%2C%2031958.160320641284%2C%2032096.503006012023%2C%2032234.845691382765%2C%2032373.188376753507%2C%2032511.53106212425%2C%2032649.87374749499%2C%2032788.21643286573%2C%2032926.55911823647%2C%2033064.901803607216%2C%2033203.24448897796%2C%2033341.5871743487%2C%2033479.929859719436%2C%2033618.27254509018%2C%2033756.61523046092%2C%2033894.95791583166%2C%2034033.300601202405%2C%2034171.64328657315%2C%2034309.98597194389%2C%2034448.32865731463%2C%2034586.67134268537%2C%2034725.01402805611%2C%2034863.35671342685%2C%2035001.699398797595%2C%2035140.04208416834%2C%2035278.38476953908%2C%2035416.72745490982%2C%2035555.070140280564%2C%2035693.4128256513%2C%2035831.75551102204%2C%2035970.098196392784%2C%2036108.44088176353%2C%2036246.78356713427%2C%2036385.12625250501%2C%2036523.468937875754%2C%2036661.811623246496%2C%2036800.15430861723%2C%2036938.496993987974%2C%2037076.839679358716%2C%2037215.18236472946%2C%2037353.5250501002%2C%2037491.86773547094%2C%2037630.210420841686%2C%2037768.55310621243%2C%2037906.89579158316%2C%2038045.238476953906%2C%2038183.58116232465%2C%2038321.92384769539%2C%2038460.26653306613%2C%2038598.609218436875%2C%2038736.95190380762%2C%2038875.29458917836%2C%2039013.637274549095%2C%2039151.97995991984%2C%2039290.32264529058%2C%2039428.66533066132%2C%2039567.008016032065%2C%2039705.35070140281%2C%2039843.69338677355%2C%2039982.03607214429%2C%2040120.37875751503%2C%2040258.72144288577%2C%2040397.06412825651%2C%2040535.406813627254%2C%2040673.749498998%2C%2040812.09218436874%2C%2040950.43486973948%2C%2041088.777555110224%2C%2041227.12024048096%2C%2041365.4629258517%2C%2041503.805611222444%2C%2041642.14829659319%2C%2041780.49098196393%2C%2041918.83366733467%2C%2042057.17635270541%2C%2042195.51903807615%2C%2042333.86172344689%2C%2042472.20440881763%2C%2042610.547094188376%2C%2042748.88977955912%2C%2042887.23246492986%2C%2043025.5751503006%2C%2043163.917835671346%2C%2043302.26052104208%2C%2043440.60320641282%2C%2043578.945891783565%2C%2043717.28857715431%2C%2043855.63126252505%2C%2043993.97394789579%2C%2044132.316633266535%2C%2044270.65931863728%2C%2044409.00200400801%2C%2044547.344689378755%2C%2044685.6873747495%2C%2044824.03006012024%2C%2044962.37274549098%2C%2045100.715430861725%2C%2045239.05811623247%2C%2045377.40080160321%2C%2045515.743486973945%2C%2045654.08617234469%2C%2045792.42885771543%2C%2045930.77154308617%2C%2046069.114228456914%2C%2046207.45691382766%2C%2046345.7995991984%2C%2046484.14228456914%2C%2046622.48496993988%2C%2046760.82765531062%2C%2046899.17034068136%2C%2047037.513026052104%2C%2047175.855711422846%2C%2047314.19839679359%2C%2047452.54108216433%2C%2047590.88376753507%2C%2047729.22645290581%2C%2047867.56913827655%2C%2048005.91182364729%2C%2048144.254509018036%2C%2048282.59719438878%2C%2048420.93987975952%2C%2048559.28256513026%2C%2048697.625250501005%2C%2048835.96793587174%2C%2048974.31062124248%2C%2049112.653306613225%2C%2049250.99599198397%2C%2049389.33867735471%2C%2049527.68136272545%2C%2049666.024048096195%2C%2049804.36673346694%2C%2049942.70941883767%2C%2050081.052104208415%2C%2050219.39478957916%2C%2050357.7374749499%2C%2050496.08016032064%2C%2050634.422845691384%2C%2050772.76553106213%2C%2050911.10821643287%2C%2051049.450901803604%2C%2051187.79358717435%2C%2051326.13627254509%2C%2051464.47895791583%2C%2051602.821643286574%2C%2051741.164328657316%2C%2051879.50701402806%2C%2052017.8496993988%2C%2052156.192384769536%2C%2052294.53507014028%2C%2052432.87775551102%2C%2052571.22044088176%2C%2052709.563126252506%2C%2052847.90581162325%2C%2052986.24849699399%2C%2053124.59118236473%2C%2053262.93386773547%2C%2053401.27655310621%2C%2053539.61923847695%2C%2053677.961923847695%2C%2053816.30460921844%2C%2053954.64729458918%2C%2054092.98997995992%2C%2054231.332665330665%2C%2054369.6753507014%2C%2054508.01803607214%2C%2054646.360721442885%2C%2054784.70340681363%2C%2054923.04609218437%2C%2055061.38877755511%2C%2055199.731462925854%2C%2055338.07414829659%2C%2055476.41683366733%2C%2055614.759519038074%2C%2055753.10220440882%2C%2055891.44488977956%2C%2056029.7875751503%2C%2056168.130260521044%2C%2056306.47294589179%2C%2056444.81563126252%2C%2056583.158316633264%2C%2056721.501002004006%2C%2056859.84368737475%2C%2056998.18637274549%2C%2057136.52905811623%2C%2057274.871743486976%2C%2057413.21442885772%2C%2057551.55711422845%2C%2057689.899799599196%2C%2057828.24248496994%2C%2057966.58517034068%2C%2058104.92785571142%2C%2058243.270541082165%2C%2058381.61322645291%2C%2058519.95591182365%2C%2058658.298597194385%2C%2058796.64128256513%2C%2058934.98396793587%2C%2059073.32665330661%2C%2059211.669338677355%2C%2059350.0120240481%2C%2059488.35470941884%2C%2059626.69739478958%2C%2059765.04008016032%2C%2059903.38276553106%2C%2060041.7254509018%2C%2060180.068136272545%2C%2060318.41082164329%2C%2060456.75350701403%2C%2060595.09619238477%2C%2060733.438877755514%2C%2060871.78156312625%2C%2061010.12424849699%2C%2061148.466933867734%2C%2061286.80961923848%2C%2061425.15230460922%2C%2061563.49498997996%2C%2061701.837675350704%2C%2061840.180360721446%2C%2061978.52304609218%2C%2062116.86573146292%2C%2062255.208416833666%2C%2062393.55110220441%2C%2062531.89378757515%2C%2062670.23647294589%2C%2062808.579158316636%2C%2062946.92184368738%2C%2063085.26452905811%2C%2063223.607214428856%2C%2063361.9498997996%2C%2063500.29258517034%2C%2063638.63527054108%2C%2063776.977955911825%2C%2063915.32064128257%2C%2064053.66332665331%2C%2064192.006012024045%2C%2064330.34869739479%2C%2064468.69138276553%2C%2064607.03406813627%2C%2064745.376753507015%2C%2064883.71943887776%2C%2065022.0621242485%2C%2065160.40480961924%2C%2065298.74749498998%2C%2065437.09018036072%2C%2065575.43286573146%2C%2065713.77555110221%2C%2065852.11823647295%2C%2065990.46092184368%2C%2066128.80360721443%2C%2066267.14629258517%2C%2066405.48897795592%2C%2066543.83166332665%2C%2066682.1743486974%2C%2066820.51703406814%2C%2066958.85971943887%2C%2067097.20240480962%2C%2067235.54509018036%2C%2067373.8877755511%2C%2067512.23046092184%2C%2067650.57314629259%2C%2067788.91583166333%2C%2067927.25851703408%2C%2068065.60120240481%2C%2068203.94388777555%2C%2068342.2865731463%2C%2068480.62925851703%2C%2068618.97194388778%2C%2068757.31462925852%2C%2068895.65731462926%2C%2069034.0%5D%29%0A%20%20%20%20%20%20%20%20%20%20%20%20%20%20.range%28%5B%27%23ffffccff%27%2C%20%27%23ffffccff%27%2C%20%27%23ffffccff%27%2C%20%27%23ffffccff%27%2C%20%27%23ffffccff%27%2C%20%27%23ffffccff%27%2C%20%27%23ffffccff%27%2C%20%27%23ffffccff%27%2C%20%27%23ffffccff%27%2C%20%27%23ffffccff%27%2C%20%27%23ffffccff%27%2C%20%27%23ffffccff%27%2C%20%27%23ffffccff%27%2C%20%27%23ffffccff%27%2C%20%27%23ffffccff%27%2C%20%27%23ffffccff%27%2C%20%27%23ffffccff%27%2C%20%27%23ffffccff%27%2C%20%27%23ffffccff%27%2C%20%27%23ffffccff%27%2C%20%27%23ffffccff%27%2C%20%27%23ffffccff%27%2C%20%27%23ffffccff%27%2C%20%27%23ffffccff%27%2C%20%27%23ffffccff%27%2C%20%27%23ffffccff%27%2C%20%27%23ffffccff%27%2C%20%27%23ffffccff%27%2C%20%27%23ffffccff%27%2C%20%27%23ffffccff%27%2C%20%27%23ffffccff%27%2C%20%27%23ffffccff%27%2C%20%27%23ffffccff%27%2C%20%27%23ffffccff%27%2C%20%27%23ffffccff%27%2C%20%27%23ffffccff%27%2C%20%27%23ffffccff%27%2C%20%27%23ffffccff%27%2C%20%27%23ffffccff%27%2C%20%27%23ffffccff%27%2C%20%27%23ffffccff%27%2C%20%27%23ffffccff%27%2C%20%27%23ffffccff%27%2C%20%27%23ffffccff%27%2C%20%27%23ffffccff%27%2C%20%27%23ffffccff%27%2C%20%27%23ffffccff%27%2C%20%27%23ffffccff%27%2C%20%27%23ffffccff%27%2C%20%27%23ffffccff%27%2C%20%27%23ffffccff%27%2C%20%27%23ffffccff%27%2C%20%27%23ffffccff%27%2C%20%27%23ffffccff%27%2C%20%27%23ffffccff%27%2C%20%27%23ffffccff%27%2C%20%27%23ffffccff%27%2C%20%27%23ffffccff%27%2C%20%27%23ffffccff%27%2C%20%27%23ffffccff%27%2C%20%27%23ffffccff%27%2C%20%27%23ffffccff%27%2C%20%27%23ffffccff%27%2C%20%27%23ffffccff%27%2C%20%27%23ffffccff%27%2C%20%27%23ffffccff%27%2C%20%27%23ffffccff%27%2C%20%27%23ffffccff%27%2C%20%27%23ffffccff%27%2C%20%27%23ffffccff%27%2C%20%27%23ffffccff%27%2C%20%27%23ffffccff%27%2C%20%27%23ffffccff%27%2C%20%27%23ffffccff%27%2C%20%27%23ffffccff%27%2C%20%27%23ffffccff%27%2C%20%27%23ffffccff%27%2C%20%27%23ffffccff%27%2C%20%27%23ffffccff%27%2C%20%27%23ffffccff%27%2C%20%27%23ffffccff%27%2C%20%27%23ffffccff%27%2C%20%27%23ffffccff%27%2C%20%27%23ffffccff%27%2C%20%27%23d9f0a3ff%27%2C%20%27%23d9f0a3ff%27%2C%20%27%23d9f0a3ff%27%2C%20%27%23d9f0a3ff%27%2C%20%27%23d9f0a3ff%27%2C%20%27%23d9f0a3ff%27%2C%20%27%23d9f0a3ff%27%2C%20%27%23d9f0a3ff%27%2C%20%27%23d9f0a3ff%27%2C%20%27%23d9f0a3ff%27%2C%20%27%23d9f0a3ff%27%2C%20%27%23d9f0a3ff%27%2C%20%27%23d9f0a3ff%27%2C%20%27%23d9f0a3ff%27%2C%20%27%23d9f0a3ff%27%2C%20%27%23d9f0a3ff%27%2C%20%27%23d9f0a3ff%27%2C%20%27%23d9f0a3ff%27%2C%20%27%23d9f0a3ff%27%2C%20%27%23d9f0a3ff%27%2C%20%27%23d9f0a3ff%27%2C%20%27%23d9f0a3ff%27%2C%20%27%23d9f0a3ff%27%2C%20%27%23d9f0a3ff%27%2C%20%27%23d9f0a3ff%27%2C%20%27%23d9f0a3ff%27%2C%20%27%23d9f0a3ff%27%2C%20%27%23d9f0a3ff%27%2C%20%27%23d9f0a3ff%27%2C%20%27%23d9f0a3ff%27%2C%20%27%23d9f0a3ff%27%2C%20%27%23d9f0a3ff%27%2C%20%27%23d9f0a3ff%27%2C%20%27%23d9f0a3ff%27%2C%20%27%23d9f0a3ff%27%2C%20%27%23d9f0a3ff%27%2C%20%27%23d9f0a3ff%27%2C%20%27%23d9f0a3ff%27%2C%20%27%23d9f0a3ff%27%2C%20%27%23d9f0a3ff%27%2C%20%27%23d9f0a3ff%27%2C%20%27%23d9f0a3ff%27%2C%20%27%23d9f0a3ff%27%2C%20%27%23d9f0a3ff%27%2C%20%27%23d9f0a3ff%27%2C%20%27%23d9f0a3ff%27%2C%20%27%23d9f0a3ff%27%2C%20%27%23d9f0a3ff%27%2C%20%27%23d9f0a3ff%27%2C%20%27%23d9f0a3ff%27%2C%20%27%23d9f0a3ff%27%2C%20%27%23d9f0a3ff%27%2C%20%27%23d9f0a3ff%27%2C%20%27%23d9f0a3ff%27%2C%20%27%23d9f0a3ff%27%2C%20%27%23d9f0a3ff%27%2C%20%27%23d9f0a3ff%27%2C%20%27%23d9f0a3ff%27%2C%20%27%23d9f0a3ff%27%2C%20%27%23d9f0a3ff%27%2C%20%27%23d9f0a3ff%27%2C%20%27%23d9f0a3ff%27%2C%20%27%23d9f0a3ff%27%2C%20%27%23d9f0a3ff%27%2C%20%27%23d9f0a3ff%27%2C%20%27%23d9f0a3ff%27%2C%20%27%23d9f0a3ff%27%2C%20%27%23d9f0a3ff%27%2C%20%27%23d9f0a3ff%27%2C%20%27%23d9f0a3ff%27%2C%20%27%23d9f0a3ff%27%2C%20%27%23d9f0a3ff%27%2C%20%27%23d9f0a3ff%27%2C%20%27%23d9f0a3ff%27%2C%20%27%23d9f0a3ff%27%2C%20%27%23d9f0a3ff%27%2C%20%27%23d9f0a3ff%27%2C%20%27%23d9f0a3ff%27%2C%20%27%23d9f0a3ff%27%2C%20%27%23d9f0a3ff%27%2C%20%27%23d9f0a3ff%27%2C%20%27%23d9f0a3ff%27%2C%20%27%23d9f0a3ff%27%2C%20%27%23addd8eff%27%2C%20%27%23addd8eff%27%2C%20%27%23addd8eff%27%2C%20%27%23addd8eff%27%2C%20%27%23addd8eff%27%2C%20%27%23addd8eff%27%2C%20%27%23addd8eff%27%2C%20%27%23addd8eff%27%2C%20%27%23addd8eff%27%2C%20%27%23addd8eff%27%2C%20%27%23addd8eff%27%2C%20%27%23addd8eff%27%2C%20%27%23addd8eff%27%2C%20%27%23addd8eff%27%2C%20%27%23addd8eff%27%2C%20%27%23addd8eff%27%2C%20%27%23addd8eff%27%2C%20%27%23addd8eff%27%2C%20%27%23addd8eff%27%2C%20%27%23addd8eff%27%2C%20%27%23addd8eff%27%2C%20%27%23addd8eff%27%2C%20%27%23addd8eff%27%2C%20%27%23addd8eff%27%2C%20%27%23addd8eff%27%2C%20%27%23addd8eff%27%2C%20%27%23addd8eff%27%2C%20%27%23addd8eff%27%2C%20%27%23addd8eff%27%2C%20%27%23addd8eff%27%2C%20%27%23addd8eff%27%2C%20%27%23addd8eff%27%2C%20%27%23addd8eff%27%2C%20%27%23addd8eff%27%2C%20%27%23addd8eff%27%2C%20%27%23addd8eff%27%2C%20%27%23addd8eff%27%2C%20%27%23addd8eff%27%2C%20%27%23addd8eff%27%2C%20%27%23addd8eff%27%2C%20%27%23addd8eff%27%2C%20%27%23addd8eff%27%2C%20%27%23addd8eff%27%2C%20%27%23addd8eff%27%2C%20%27%23addd8eff%27%2C%20%27%23addd8eff%27%2C%20%27%23addd8eff%27%2C%20%27%23addd8eff%27%2C%20%27%23addd8eff%27%2C%20%27%23addd8eff%27%2C%20%27%23addd8eff%27%2C%20%27%23addd8eff%27%2C%20%27%23addd8eff%27%2C%20%27%23addd8eff%27%2C%20%27%23addd8eff%27%2C%20%27%23addd8eff%27%2C%20%27%23addd8eff%27%2C%20%27%23addd8eff%27%2C%20%27%23addd8eff%27%2C%20%27%23addd8eff%27%2C%20%27%23addd8eff%27%2C%20%27%23addd8eff%27%2C%20%27%23addd8eff%27%2C%20%27%23addd8eff%27%2C%20%27%23addd8eff%27%2C%20%27%23addd8eff%27%2C%20%27%23addd8eff%27%2C%20%27%23addd8eff%27%2C%20%27%23addd8eff%27%2C%20%27%23addd8eff%27%2C%20%27%23addd8eff%27%2C%20%27%23addd8eff%27%2C%20%27%23addd8eff%27%2C%20%27%23addd8eff%27%2C%20%27%23addd8eff%27%2C%20%27%23addd8eff%27%2C%20%27%23addd8eff%27%2C%20%27%23addd8eff%27%2C%20%27%23addd8eff%27%2C%20%27%23addd8eff%27%2C%20%27%23addd8eff%27%2C%20%27%23addd8eff%27%2C%20%27%23addd8eff%27%2C%20%27%2378c679ff%27%2C%20%27%2378c679ff%27%2C%20%27%2378c679ff%27%2C%20%27%2378c679ff%27%2C%20%27%2378c679ff%27%2C%20%27%2378c679ff%27%2C%20%27%2378c679ff%27%2C%20%27%2378c679ff%27%2C%20%27%2378c679ff%27%2C%20%27%2378c679ff%27%2C%20%27%2378c679ff%27%2C%20%27%2378c679ff%27%2C%20%27%2378c679ff%27%2C%20%27%2378c679ff%27%2C%20%27%2378c679ff%27%2C%20%27%2378c679ff%27%2C%20%27%2378c679ff%27%2C%20%27%2378c679ff%27%2C%20%27%2378c679ff%27%2C%20%27%2378c679ff%27%2C%20%27%2378c679ff%27%2C%20%27%2378c679ff%27%2C%20%27%2378c679ff%27%2C%20%27%2378c679ff%27%2C%20%27%2378c679ff%27%2C%20%27%2378c679ff%27%2C%20%27%2378c679ff%27%2C%20%27%2378c679ff%27%2C%20%27%2378c679ff%27%2C%20%27%2378c679ff%27%2C%20%27%2378c679ff%27%2C%20%27%2378c679ff%27%2C%20%27%2378c679ff%27%2C%20%27%2378c679ff%27%2C%20%27%2378c679ff%27%2C%20%27%2378c679ff%27%2C%20%27%2378c679ff%27%2C%20%27%2378c679ff%27%2C%20%27%2378c679ff%27%2C%20%27%2378c679ff%27%2C%20%27%2378c679ff%27%2C%20%27%2378c679ff%27%2C%20%27%2378c679ff%27%2C%20%27%2378c679ff%27%2C%20%27%2378c679ff%27%2C%20%27%2378c679ff%27%2C%20%27%2378c679ff%27%2C%20%27%2378c679ff%27%2C%20%27%2378c679ff%27%2C%20%27%2378c679ff%27%2C%20%27%2378c679ff%27%2C%20%27%2378c679ff%27%2C%20%27%2378c679ff%27%2C%20%27%2378c679ff%27%2C%20%27%2378c679ff%27%2C%20%27%2378c679ff%27%2C%20%27%2378c679ff%27%2C%20%27%2378c679ff%27%2C%20%27%2378c679ff%27%2C%20%27%2378c679ff%27%2C%20%27%2378c679ff%27%2C%20%27%2378c679ff%27%2C%20%27%2378c679ff%27%2C%20%27%2378c679ff%27%2C%20%27%2378c679ff%27%2C%20%27%2378c679ff%27%2C%20%27%2378c679ff%27%2C%20%27%2378c679ff%27%2C%20%27%2378c679ff%27%2C%20%27%2378c679ff%27%2C%20%27%2378c679ff%27%2C%20%27%2378c679ff%27%2C%20%27%2378c679ff%27%2C%20%27%2378c679ff%27%2C%20%27%2378c679ff%27%2C%20%27%2378c679ff%27%2C%20%27%2378c679ff%27%2C%20%27%2378c679ff%27%2C%20%27%2378c679ff%27%2C%20%27%2378c679ff%27%2C%20%27%2378c679ff%27%2C%20%27%2378c679ff%27%2C%20%27%2378c679ff%27%2C%20%27%2331a354ff%27%2C%20%27%2331a354ff%27%2C%20%27%2331a354ff%27%2C%20%27%2331a354ff%27%2C%20%27%2331a354ff%27%2C%20%27%2331a354ff%27%2C%20%27%2331a354ff%27%2C%20%27%2331a354ff%27%2C%20%27%2331a354ff%27%2C%20%27%2331a354ff%27%2C%20%27%2331a354ff%27%2C%20%27%2331a354ff%27%2C%20%27%2331a354ff%27%2C%20%27%2331a354ff%27%2C%20%27%2331a354ff%27%2C%20%27%2331a354ff%27%2C%20%27%2331a354ff%27%2C%20%27%2331a354ff%27%2C%20%27%2331a354ff%27%2C%20%27%2331a354ff%27%2C%20%27%2331a354ff%27%2C%20%27%2331a354ff%27%2C%20%27%2331a354ff%27%2C%20%27%2331a354ff%27%2C%20%27%2331a354ff%27%2C%20%27%2331a354ff%27%2C%20%27%2331a354ff%27%2C%20%27%2331a354ff%27%2C%20%27%2331a354ff%27%2C%20%27%2331a354ff%27%2C%20%27%2331a354ff%27%2C%20%27%2331a354ff%27%2C%20%27%2331a354ff%27%2C%20%27%2331a354ff%27%2C%20%27%2331a354ff%27%2C%20%27%2331a354ff%27%2C%20%27%2331a354ff%27%2C%20%27%2331a354ff%27%2C%20%27%2331a354ff%27%2C%20%27%2331a354ff%27%2C%20%27%2331a354ff%27%2C%20%27%2331a354ff%27%2C%20%27%2331a354ff%27%2C%20%27%2331a354ff%27%2C%20%27%2331a354ff%27%2C%20%27%2331a354ff%27%2C%20%27%2331a354ff%27%2C%20%27%2331a354ff%27%2C%20%27%2331a354ff%27%2C%20%27%2331a354ff%27%2C%20%27%2331a354ff%27%2C%20%27%2331a354ff%27%2C%20%27%2331a354ff%27%2C%20%27%2331a354ff%27%2C%20%27%2331a354ff%27%2C%20%27%2331a354ff%27%2C%20%27%2331a354ff%27%2C%20%27%2331a354ff%27%2C%20%27%2331a354ff%27%2C%20%27%2331a354ff%27%2C%20%27%2331a354ff%27%2C%20%27%2331a354ff%27%2C%20%27%2331a354ff%27%2C%20%27%2331a354ff%27%2C%20%27%2331a354ff%27%2C%20%27%2331a354ff%27%2C%20%27%2331a354ff%27%2C%20%27%2331a354ff%27%2C%20%27%2331a354ff%27%2C%20%27%2331a354ff%27%2C%20%27%2331a354ff%27%2C%20%27%2331a354ff%27%2C%20%27%2331a354ff%27%2C%20%27%2331a354ff%27%2C%20%27%2331a354ff%27%2C%20%27%2331a354ff%27%2C%20%27%2331a354ff%27%2C%20%27%2331a354ff%27%2C%20%27%2331a354ff%27%2C%20%27%2331a354ff%27%2C%20%27%2331a354ff%27%2C%20%27%2331a354ff%27%2C%20%27%2331a354ff%27%2C%20%27%23006837ff%27%2C%20%27%23006837ff%27%2C%20%27%23006837ff%27%2C%20%27%23006837ff%27%2C%20%27%23006837ff%27%2C%20%27%23006837ff%27%2C%20%27%23006837ff%27%2C%20%27%23006837ff%27%2C%20%27%23006837ff%27%2C%20%27%23006837ff%27%2C%20%27%23006837ff%27%2C%20%27%23006837ff%27%2C%20%27%23006837ff%27%2C%20%27%23006837ff%27%2C%20%27%23006837ff%27%2C%20%27%23006837ff%27%2C%20%27%23006837ff%27%2C%20%27%23006837ff%27%2C%20%27%23006837ff%27%2C%20%27%23006837ff%27%2C%20%27%23006837ff%27%2C%20%27%23006837ff%27%2C%20%27%23006837ff%27%2C%20%27%23006837ff%27%2C%20%27%23006837ff%27%2C%20%27%23006837ff%27%2C%20%27%23006837ff%27%2C%20%27%23006837ff%27%2C%20%27%23006837ff%27%2C%20%27%23006837ff%27%2C%20%27%23006837ff%27%2C%20%27%23006837ff%27%2C%20%27%23006837ff%27%2C%20%27%23006837ff%27%2C%20%27%23006837ff%27%2C%20%27%23006837ff%27%2C%20%27%23006837ff%27%2C%20%27%23006837ff%27%2C%20%27%23006837ff%27%2C%20%27%23006837ff%27%2C%20%27%23006837ff%27%2C%20%27%23006837ff%27%2C%20%27%23006837ff%27%2C%20%27%23006837ff%27%2C%20%27%23006837ff%27%2C%20%27%23006837ff%27%2C%20%27%23006837ff%27%2C%20%27%23006837ff%27%2C%20%27%23006837ff%27%2C%20%27%23006837ff%27%2C%20%27%23006837ff%27%2C%20%27%23006837ff%27%2C%20%27%23006837ff%27%2C%20%27%23006837ff%27%2C%20%27%23006837ff%27%2C%20%27%23006837ff%27%2C%20%27%23006837ff%27%2C%20%27%23006837ff%27%2C%20%27%23006837ff%27%2C%20%27%23006837ff%27%2C%20%27%23006837ff%27%2C%20%27%23006837ff%27%2C%20%27%23006837ff%27%2C%20%27%23006837ff%27%2C%20%27%23006837ff%27%2C%20%27%23006837ff%27%2C%20%27%23006837ff%27%2C%20%27%23006837ff%27%2C%20%27%23006837ff%27%2C%20%27%23006837ff%27%2C%20%27%23006837ff%27%2C%20%27%23006837ff%27%2C%20%27%23006837ff%27%2C%20%27%23006837ff%27%2C%20%27%23006837ff%27%2C%20%27%23006837ff%27%2C%20%27%23006837ff%27%2C%20%27%23006837ff%27%2C%20%27%23006837ff%27%2C%20%27%23006837ff%27%2C%20%27%23006837ff%27%2C%20%27%23006837ff%27%2C%20%27%23006837ff%27%2C%20%27%23006837ff%27%5D%29%3B%0A%20%20%20%20%0A%0A%20%20%20%20color_map_d5feaf9514154189853cfe73aee00fc7.x%20%3D%20d3.scale.linear%28%29%0A%20%20%20%20%20%20%20%20%20%20%20%20%20%20.domain%28%5B1.0%2C%2069034.0%5D%29%0A%20%20%20%20%20%20%20%20%20%20%20%20%20%20.range%28%5B0%2C%20400%5D%29%3B%0A%0A%20%20%20%20color_map_d5feaf9514154189853cfe73aee00fc7.legend%20%3D%20L.control%28%7Bposition%3A%20%27topright%27%7D%29%3B%0A%20%20%20%20color_map_d5feaf9514154189853cfe73aee00fc7.legend.onAdd%20%3D%20function%20%28map%29%20%7Bvar%20div%20%3D%20L.DomUtil.create%28%27div%27%2C%20%27legend%27%29%3B%20return%20div%7D%3B%0A%20%20%20%20color_map_d5feaf9514154189853cfe73aee00fc7.legend.addTo%28map_b52ff4e5960d457493bea4c608f17c51%29%3B%0A%0A%20%20%20%20color_map_d5feaf9514154189853cfe73aee00fc7.xAxis%20%3D%20d3.svg.axis%28%29%0A%20%20%20%20%20%20%20%20.scale%28color_map_d5feaf9514154189853cfe73aee00fc7.x%29%0A%20%20%20%20%20%20%20%20.orient%28%22top%22%29%0A%20%20%20%20%20%20%20%20.tickSize%281%29%0A%20%20%20%20%20%20%20%20.tickValues%28%5B1.0%2C%2011506.5%2C%2023012.0%2C%2034517.5%2C%2046023.0%2C%2057528.5%2C%2069034.0%5D%29%3B%0A%0A%20%20%20%20color_map_d5feaf9514154189853cfe73aee00fc7.svg%20%3D%20d3.select%28%22.legend.leaflet-control%22%29.append%28%22svg%22%29%0A%20%20%20%20%20%20%20%20.attr%28%22id%22%2C%20%27legend%27%29%0A%20%20%20%20%20%20%20%20.attr%28%22width%22%2C%20450%29%0A%20%20%20%20%20%20%20%20.attr%28%22height%22%2C%2040%29%3B%0A%0A%20%20%20%20color_map_d5feaf9514154189853cfe73aee00fc7.g%20%3D%20color_map_d5feaf9514154189853cfe73aee00fc7.svg.append%28%22g%22%29%0A%20%20%20%20%20%20%20%20.attr%28%22class%22%2C%20%22key%22%29%0A%20%20%20%20%20%20%20%20.attr%28%22transform%22%2C%20%22translate%2825%2C16%29%22%29%3B%0A%0A%20%20%20%20color_map_d5feaf9514154189853cfe73aee00fc7.g.selectAll%28%22rect%22%29%0A%20%20%20%20%20%20%20%20.data%28color_map_d5feaf9514154189853cfe73aee00fc7.color.range%28%29.map%28function%28d%2C%20i%29%20%7B%0A%20%20%20%20%20%20%20%20%20%20return%20%7B%0A%20%20%20%20%20%20%20%20%20%20%20%20x0%3A%20i%20%3F%20color_map_d5feaf9514154189853cfe73aee00fc7.x%28color_map_d5feaf9514154189853cfe73aee00fc7.color.domain%28%29%5Bi%20-%201%5D%29%20%3A%20color_map_d5feaf9514154189853cfe73aee00fc7.x.range%28%29%5B0%5D%2C%0A%20%20%20%20%20%20%20%20%20%20%20%20x1%3A%20i%20%3C%20color_map_d5feaf9514154189853cfe73aee00fc7.color.domain%28%29.length%20%3F%20color_map_d5feaf9514154189853cfe73aee00fc7.x%28color_map_d5feaf9514154189853cfe73aee00fc7.color.domain%28%29%5Bi%5D%29%20%3A%20color_map_d5feaf9514154189853cfe73aee00fc7.x.range%28%29%5B1%5D%2C%0A%20%20%20%20%20%20%20%20%20%20%20%20z%3A%20d%0A%20%20%20%20%20%20%20%20%20%20%7D%3B%0A%20%20%20%20%20%20%20%20%7D%29%29%0A%20%20%20%20%20%20.enter%28%29.append%28%22rect%22%29%0A%20%20%20%20%20%20%20%20.attr%28%22height%22%2C%2010%29%0A%20%20%20%20%20%20%20%20.attr%28%22x%22%2C%20function%28d%29%20%7B%20return%20d.x0%3B%20%7D%29%0A%20%20%20%20%20%20%20%20.attr%28%22width%22%2C%20function%28d%29%20%7B%20return%20d.x1%20-%20d.x0%3B%20%7D%29%0A%20%20%20%20%20%20%20%20.style%28%22fill%22%2C%20function%28d%29%20%7B%20return%20d.z%3B%20%7D%29%3B%0A%0A%20%20%20%20color_map_d5feaf9514154189853cfe73aee00fc7.g.call%28color_map_d5feaf9514154189853cfe73aee00fc7.xAxis%29.append%28%22text%22%29%0A%20%20%20%20%20%20%20%20.attr%28%22class%22%2C%20%22caption%22%29%0A%20%20%20%20%20%20%20%20.attr%28%22y%22%2C%2021%29%0A%20%20%20%20%20%20%20%20.text%28%27Distribution%20of%20pickups%27%29%3B%0A%20%20%20%20%0A%20%20%20%20%20%20%20%20%20%20%20%20var%20layer_control_82377549bdc64de2a1c17ab08d98a46a%20%3D%20%7B%0A%20%20%20%20%20%20%20%20%20%20%20%20%20%20%20%20base_layers%20%3A%20%7B%0A%20%20%20%20%20%20%20%20%20%20%20%20%20%20%20%20%20%20%20%20%22openstreetmap%22%20%3A%20tile_layer_291aa231a0bb4898a74017e93f8ce97d%2C%0A%20%20%20%20%20%20%20%20%20%20%20%20%20%20%20%20%7D%2C%0A%20%20%20%20%20%20%20%20%20%20%20%20%20%20%20%20overlays%20%3A%20%20%7B%0A%20%20%20%20%20%20%20%20%20%20%20%20%20%20%20%20%20%20%20%20%22macro_element_f93126c706664047b6a7069c0c90ec7e%22%20%3A%20choropleth_f93126c706664047b6a7069c0c90ec7e%2C%0A%20%20%20%20%20%20%20%20%20%20%20%20%20%20%20%20%7D%2C%0A%20%20%20%20%20%20%20%20%20%20%20%20%7D%3B%0A%20%20%20%20%20%20%20%20%20%20%20%20L.control.layers%28%0A%20%20%20%20%20%20%20%20%20%20%20%20%20%20%20%20layer_control_82377549bdc64de2a1c17ab08d98a46a.base_layers%2C%0A%20%20%20%20%20%20%20%20%20%20%20%20%20%20%20%20layer_control_82377549bdc64de2a1c17ab08d98a46a.overlays%2C%0A%20%20%20%20%20%20%20%20%20%20%20%20%20%20%20%20%7B%22autoZIndex%22%3A%20true%2C%20%22collapsed%22%3A%20true%2C%20%22position%22%3A%20%22topright%22%7D%0A%20%20%20%20%20%20%20%20%20%20%20%20%29.addTo%28map_b52ff4e5960d457493bea4c608f17c51%29%3B%0A%20%20%20%20%20%20%20%20%0A%3C/script%3E onload=\"this.contentDocument.open();this.contentDocument.write(    decodeURIComponent(this.getAttribute('data-html')));this.contentDocument.close();\" allowfullscreen webkitallowfullscreen mozallowfullscreen></iframe></div></div>"
      ],
      "text/plain": [
       "<folium.folium.Map at 0x7fe229c81ef0>"
      ]
     },
     "execution_count": 46,
     "metadata": {},
     "output_type": "execute_result"
    }
   ],
   "source": [
    "figure4()"
   ]
  },
  {
   "cell_type": "markdown",
   "metadata": {},
   "source": [
    "Create a scatter plot that compares tip amount versus distance for Yellow Taxi rides. You may remove any outliers how you see fit.\n"
   ]
  },
  {
   "cell_type": "code",
   "execution_count": 23,
   "metadata": {},
   "outputs": [],
   "source": [
    "def estimate_gaussian(dataset):\n",
    "\n",
    "    mu = np.mean(dataset) # moyenne cf mu\n",
    "    sigma = np.std(dataset) # écart_type/standard deviation\n",
    "    limit = sigma * 1.5\n",
    "\n",
    "    min_threshold = mu - limit\n",
    "    max_threshold = mu + limit\n",
    "\n",
    "    return mu, sigma, min_threshold, max_threshold"
   ]
  },
  {
   "cell_type": "code",
   "execution_count": 24,
   "metadata": {},
   "outputs": [],
   "source": [
    "def figure5():\n",
    "    query1 = '''\n",
    "    select \n",
    "    tip,\n",
    "    distance\n",
    "\n",
    "    from \n",
    "\n",
    "    yellow_taxi\n",
    "    '''\n",
    "    \n",
    "    df = pd.DataFrame(data = engine.execute(query1).fetchall(),columns = ['tip','distance'])\n",
    "    df = df.loc[df['distance']!=0]\n",
    "    df['ratio'] = df['tip']/df['distance']\n",
    "    \n",
    "    mu, sigma, min_threshold, max_threshold = estimate_gaussian(df['ratio'].values)\n",
    "\n",
    "    condition1 = (df['ratio'] < min_threshold)\n",
    "    condition2 = (df['ratio'] > max_threshold)\n",
    "    \n",
    "    outliers1 = np.extract(condition1, df['ratio'])\n",
    "    outliers2 = np.extract(condition2, df['ratio'])\n",
    "\n",
    "    outliers = np.concatenate((outliers1, outliers2), axis=0)\n",
    "    df_red = df[df['ratio'].isin(outliers)]\n",
    "    df = df[~df['ratio'].isin(outliers)]\n",
    "    \n",
    "    plt.scatter(df['distance'],df['tip'],label = 'normal',zorder = 0)\n",
    "    plt.scatter(df_red['distance'],df_red['tip'], c ='brown',label = 'outliers',zorder = 1)\n",
    "    plt.plot(df['distance'], np.poly1d(np.polyfit(df['distance'], df['tip'], 1))(df['distance']),color = 'purple',label = 'fitted_values')\n",
    "    \n",
    "    plt.title('Relationship between tips and distance')\n",
    "    plt.xlabel('Distance')\n",
    "    plt.ylabel('Tips')\n",
    "    plt.legend()\n",
    "    plt.show()\n",
    "    "
   ]
  },
  {
   "cell_type": "code",
   "execution_count": 25,
   "metadata": {},
   "outputs": [
    {
     "name": "stdout",
     "output_type": "stream",
     "text": [
      "[sqlalchemy] \n",
      "    select \n",
      "    tip,\n",
      "    distance\n",
      "\n",
      "    from \n",
      "\n",
      "    yellow_taxi\n",
      "    \n",
      "[sqlalchemy] [raw sql] ()\n"
     ]
    },
    {
     "data": {
      "image/png": "[encoded data removed]",
      "text/plain": [
       "<Figure size 432x288 with 1 Axes>"
      ]
     },
     "metadata": {
      "needs_background": "light"
     },
     "output_type": "display_data"
    }
   ],
   "source": [
    "figure5()"
   ]
  },
  {
   "cell_type": "markdown",
   "metadata": {},
   "source": [
    "Create another scatter plot that compares tip amount versus precipitation amount for Yellow Taxi rides. You may remove any outliers how you see fit."
   ]
  },
  {
   "cell_type": "code",
   "execution_count": 26,
   "metadata": {},
   "outputs": [],
   "source": [
    "def figure6():\n",
    "    query1 = '''\n",
    "    select \n",
    "    t_1.date as date,\n",
    "    t_1.tip as tip,\n",
    "    t_2.precipitation as precipitation\n",
    "\n",
    "    from \n",
    "\n",
    "    (select\n",
    "\n",
    "    strftime ('%Y-%m-%d',pickup_time) as date,\n",
    "    avg(tip) as tip \n",
    "\n",
    "    from \n",
    "    yellow_taxi\n",
    "\n",
    "    group by \n",
    "    strftime ('%Y-%m-%d',pickup_time) \n",
    "    )t_1\n",
    "\n",
    "    left join \n",
    "\n",
    "    (select \n",
    "    strftime ('%Y-%m-%d',date) as date,\n",
    "    precipitation    \n",
    "\n",
    "    from \n",
    "    weather_daily\n",
    "    )t_2\n",
    "\n",
    "    on \n",
    "    t_1.date = t_2.date\n",
    "    '''\n",
    "    \n",
    "    df = pd.DataFrame(data = engine.execute(query1).fetchall(),columns = ['hourly_date','tip','precipitation'])\n",
    "\n",
    "    df['ratio'] = df['tip']/(df['precipitation'].apply(lambda x: x+0.0000001 if x==0 else x))\n",
    "    \n",
    "    mu, sigma, min_threshold, max_threshold = estimate_gaussian(df['ratio'].values)\n",
    "\n",
    "    condition1 = (df['ratio'] < min_threshold)\n",
    "    condition2 = (df['ratio'] > max_threshold)\n",
    "    \n",
    "    outliers1 = np.extract(condition1, df['ratio'])\n",
    "    outliers2 = np.extract(condition2, df['ratio'])\n",
    "\n",
    "    outliers = np.concatenate((outliers1, outliers2), axis=0)\n",
    "    df_red = df[df['ratio'].isin(outliers)]\n",
    "    df = df[~df['ratio'].isin(outliers)]\n",
    "    \n",
    "    plt.scatter(df['precipitation'],df['tip'],label = 'normal',zorder = 0)\n",
    "    plt.scatter(df_red['precipitation'],df_red['tip'], c ='brown',label = 'outliers',zorder = 1)\n",
    "    #plt.plot(df['precipitation'], np.poly1d(np.polyfit(df['precipitation'], df['tip'], 1))(df['precipitation']),color = 'purple',label = 'fitted_values')\n",
    "    \n",
    "    plt.title('Relationship between tips and precipitation')\n",
    "    plt.xlabel('Precipitation')\n",
    "    plt.ylabel('Tips')\n",
    "    plt.legend()\n",
    "    plt.show()\n",
    "    "
   ]
  },
  {
   "cell_type": "code",
   "execution_count": 27,
   "metadata": {
    "scrolled": true
   },
   "outputs": [
    {
     "name": "stdout",
     "output_type": "stream",
     "text": [
      "[sqlalchemy] \n",
      "    select \n",
      "    t_1.date as date,\n",
      "    t_1.tip as tip,\n",
      "    t_2.precipitation as precipitation\n",
      "\n",
      "    from \n",
      "\n",
      "    (select\n",
      "\n",
      "    strftime ('%Y-%m-%d',pickup_time) as date,\n",
      "    avg(tip) as tip \n",
      "\n",
      "    from \n",
      "    yellow_taxi\n",
      "\n",
      "    group by \n",
      "    strftime ('%Y-%m-%d',pickup_time) \n",
      "    )t_1\n",
      "\n",
      "    left join \n",
      "\n",
      "    (select \n",
      "    strftime ('%Y-%m-%d',date) as date,\n",
      "    precipitation    \n",
      "\n",
      "    from \n",
      "    weather_daily\n",
      "    )t_2\n",
      "\n",
      "    on \n",
      "    t_1.date = t_2.date\n",
      "    \n",
      "[sqlalchemy] [raw sql] ()\n"
     ]
    },
    {
     "data": {
      "image/png": "[encoded data removed]",
      "text/plain": [
       "<Figure size 432x288 with 1 Axes>"
      ]
     },
     "metadata": {
      "needs_background": "light"
     },
     "output_type": "display_data"
    }
   ],
   "source": [
    "figure6()\n",
    "# no particular trend has been detected"
   ]
  },
  {
   "cell_type": "markdown",
   "metadata": {},
   "source": [
    "Come up with 3 questions on your own that can be answered based on the data in the 4 tables. Create at least one visualization to answer each question. At least one visualization should require data from at least 3 tables.\n"
   ]
  },
  {
   "cell_type": "markdown",
   "metadata": {},
   "source": [
    "<li> 1.The trend of yellow taxi' tips from 2009-2015"
   ]
  },
  {
   "cell_type": "code",
   "execution_count": 37,
   "metadata": {},
   "outputs": [],
   "source": [
    "def figure7_1():\n",
    "    query1 = '''\n",
    "    select \n",
    "    strftime ('%m',pickup_time) as date,\n",
    "    avg(tip) as tip\n",
    "\n",
    "    from \n",
    "\n",
    "    yellow_taxi\n",
    "\n",
    "    group by \n",
    "\n",
    "    strftime ('%m',pickup_time) \n",
    "    '''\n",
    "    \n",
    "    df = pd.DataFrame(data = engine.execute(query1).fetchall(),columns = ['month','tip'])\n",
    "\n",
    "    plt.plot(df['month'],df['tip'])\n",
    "     \n",
    "    plt.title('Trend of tips')\n",
    "    plt.xlabel('Month')\n",
    "    plt.ylabel('Tips')\n",
    "    plt.show()\n",
    "    "
   ]
  },
  {
   "cell_type": "code",
   "execution_count": 38,
   "metadata": {
    "scrolled": true
   },
   "outputs": [
    {
     "name": "stdout",
     "output_type": "stream",
     "text": [
      "[sqlalchemy] \n",
      "    select \n",
      "    strftime ('%m',pickup_time) as date,\n",
      "    avg(tip) as tip\n",
      "\n",
      "    from \n",
      "\n",
      "    yellow_taxi\n",
      "\n",
      "    group by \n",
      "\n",
      "    strftime ('%m',pickup_time) \n",
      "    \n",
      "[sqlalchemy] [raw sql] ()\n"
     ]
    },
    {
     "data": {
      "image/png": "[encoded data removed]",
      "text/plain": [
       "<Figure size 432x288 with 1 Axes>"
      ]
     },
     "metadata": {
      "needs_background": "light"
     },
     "output_type": "display_data"
    }
   ],
   "source": [
    "figure7_1()"
   ]
  },
  {
   "cell_type": "markdown",
   "metadata": {},
   "source": [
    "2.Is uber faster than yellow taxi in 2015?"
   ]
  },
  {
   "cell_type": "code",
   "execution_count": null,
   "metadata": {},
   "outputs": [],
   "source": []
  },
  {
   "cell_type": "code",
   "execution_count": null,
   "metadata": {},
   "outputs": [],
   "source": []
  },
  {
   "cell_type": "code",
   "execution_count": null,
   "metadata": {},
   "outputs": [],
   "source": []
  },
  {
   "cell_type": "code",
   "execution_count": null,
   "metadata": {},
   "outputs": [],
   "source": []
  },
  {
   "cell_type": "code",
   "execution_count": null,
   "metadata": {},
   "outputs": [],
   "source": []
  },
  {
   "cell_type": "code",
   "execution_count": null,
   "metadata": {},
   "outputs": [],
   "source": []
  }
 ],
 "metadata": {
  "kernelspec": {
   "display_name": "Python 3",
   "language": "python",
   "name": "python3"
  },
  "language_info": {
   "codemirror_mode": {
    "name": "ipython",
    "version": 3
   },
   "file_extension": ".py",
   "mimetype": "text/x-python",
   "name": "python",
   "nbconvert_exporter": "python",
   "pygments_lexer": "ipython3",
   "version": "3.6.10"
  }
 },
 "nbformat": 4,
 "nbformat_minor": 5
}
