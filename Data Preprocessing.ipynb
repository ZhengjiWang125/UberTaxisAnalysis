{
 "cells": [
  {
   "cell_type": "code",
   "execution_count": 1,
   "id": "efa0ec94",
   "metadata": {},
   "outputs": [],
   "source": [
    "import numpy as np\n",
    "import pandas as pd\n"
   ]
  },
  {
   "cell_type": "code",
   "execution_count": 3,
   "id": "bff36993",
   "metadata": {},
   "outputs": [],
   "source": [
    "df = pd.read_csv('uber_rides_sample.csv')"
   ]
  },
  {
   "cell_type": "code",
   "execution_count": 4,
   "id": "44d87494",
   "metadata": {},
   "outputs": [
    {
     "name": "stdout",
     "output_type": "stream",
     "text": [
      "<class 'pandas.core.frame.DataFrame'>\n",
      "RangeIndex: 200000 entries, 0 to 199999\n",
      "Data columns (total 9 columns):\n",
      " #   Column             Non-Null Count   Dtype  \n",
      "---  ------             --------------   -----  \n",
      " 0   Unnamed: 0         200000 non-null  int64  \n",
      " 1   key                200000 non-null  object \n",
      " 2   fare_amount        200000 non-null  float64\n",
      " 3   pickup_datetime    200000 non-null  object \n",
      " 4   pickup_longitude   200000 non-null  float64\n",
      " 5   pickup_latitude    200000 non-null  float64\n",
      " 6   dropoff_longitude  199999 non-null  float64\n",
      " 7   dropoff_latitude   199999 non-null  float64\n",
      " 8   passenger_count    200000 non-null  int64  \n",
      "dtypes: float64(5), int64(2), object(2)\n",
      "memory usage: 13.7+ MB\n"
     ]
    }
   ],
   "source": [
    "df.info()"
   ]
  },
  {
   "cell_type": "code",
   "execution_count": 5,
   "id": "5bf44d90",
   "metadata": {},
   "outputs": [
    {
     "data": {
      "text/html": [
       "<div>\n",
       "<style scoped>\n",
       "    .dataframe tbody tr th:only-of-type {\n",
       "        vertical-align: middle;\n",
       "    }\n",
       "\n",
       "    .dataframe tbody tr th {\n",
       "        vertical-align: top;\n",
       "    }\n",
       "\n",
       "    .dataframe thead th {\n",
       "        text-align: right;\n",
       "    }\n",
       "</style>\n",
       "<table border=\"1\" class=\"dataframe\">\n",
       "  <thead>\n",
       "    <tr style=\"text-align: right;\">\n",
       "      <th></th>\n",
       "      <th>Unnamed: 0</th>\n",
       "      <th>key</th>\n",
       "      <th>fare_amount</th>\n",
       "      <th>pickup_datetime</th>\n",
       "      <th>pickup_longitude</th>\n",
       "      <th>pickup_latitude</th>\n",
       "      <th>dropoff_longitude</th>\n",
       "      <th>dropoff_latitude</th>\n",
       "      <th>passenger_count</th>\n",
       "    </tr>\n",
       "  </thead>\n",
       "  <tbody>\n",
       "    <tr>\n",
       "      <th>0</th>\n",
       "      <td>24238194</td>\n",
       "      <td>2015-05-07 19:52:06.0000003</td>\n",
       "      <td>7.5</td>\n",
       "      <td>2015-05-07 19:52:06 UTC</td>\n",
       "      <td>-73.999817</td>\n",
       "      <td>40.738354</td>\n",
       "      <td>-73.999512</td>\n",
       "      <td>40.723217</td>\n",
       "      <td>1</td>\n",
       "    </tr>\n",
       "    <tr>\n",
       "      <th>1</th>\n",
       "      <td>27835199</td>\n",
       "      <td>2009-07-17 20:04:56.0000002</td>\n",
       "      <td>7.7</td>\n",
       "      <td>2009-07-17 20:04:56 UTC</td>\n",
       "      <td>-73.994355</td>\n",
       "      <td>40.728225</td>\n",
       "      <td>-73.994710</td>\n",
       "      <td>40.750325</td>\n",
       "      <td>1</td>\n",
       "    </tr>\n",
       "    <tr>\n",
       "      <th>2</th>\n",
       "      <td>44984355</td>\n",
       "      <td>2009-08-24 21:45:00.00000061</td>\n",
       "      <td>12.9</td>\n",
       "      <td>2009-08-24 21:45:00 UTC</td>\n",
       "      <td>-74.005043</td>\n",
       "      <td>40.740770</td>\n",
       "      <td>-73.962565</td>\n",
       "      <td>40.772647</td>\n",
       "      <td>1</td>\n",
       "    </tr>\n",
       "    <tr>\n",
       "      <th>3</th>\n",
       "      <td>25894730</td>\n",
       "      <td>2009-06-26 08:22:21.0000001</td>\n",
       "      <td>5.3</td>\n",
       "      <td>2009-06-26 08:22:21 UTC</td>\n",
       "      <td>-73.976124</td>\n",
       "      <td>40.790844</td>\n",
       "      <td>-73.965316</td>\n",
       "      <td>40.803349</td>\n",
       "      <td>3</td>\n",
       "    </tr>\n",
       "    <tr>\n",
       "      <th>4</th>\n",
       "      <td>17610152</td>\n",
       "      <td>2014-08-28 17:47:00.000000188</td>\n",
       "      <td>16.0</td>\n",
       "      <td>2014-08-28 17:47:00 UTC</td>\n",
       "      <td>-73.925023</td>\n",
       "      <td>40.744085</td>\n",
       "      <td>-73.973082</td>\n",
       "      <td>40.761247</td>\n",
       "      <td>5</td>\n",
       "    </tr>\n",
       "  </tbody>\n",
       "</table>\n",
       "</div>"
      ],
      "text/plain": [
       "   Unnamed: 0                            key  fare_amount  \\\n",
       "0    24238194    2015-05-07 19:52:06.0000003          7.5   \n",
       "1    27835199    2009-07-17 20:04:56.0000002          7.7   \n",
       "2    44984355   2009-08-24 21:45:00.00000061         12.9   \n",
       "3    25894730    2009-06-26 08:22:21.0000001          5.3   \n",
       "4    17610152  2014-08-28 17:47:00.000000188         16.0   \n",
       "\n",
       "           pickup_datetime  pickup_longitude  pickup_latitude  \\\n",
       "0  2015-05-07 19:52:06 UTC        -73.999817        40.738354   \n",
       "1  2009-07-17 20:04:56 UTC        -73.994355        40.728225   \n",
       "2  2009-08-24 21:45:00 UTC        -74.005043        40.740770   \n",
       "3  2009-06-26 08:22:21 UTC        -73.976124        40.790844   \n",
       "4  2014-08-28 17:47:00 UTC        -73.925023        40.744085   \n",
       "\n",
       "   dropoff_longitude  dropoff_latitude  passenger_count  \n",
       "0         -73.999512         40.723217                1  \n",
       "1         -73.994710         40.750325                1  \n",
       "2         -73.962565         40.772647                1  \n",
       "3         -73.965316         40.803349                3  \n",
       "4         -73.973082         40.761247                5  "
      ]
     },
     "execution_count": 5,
     "metadata": {},
     "output_type": "execute_result"
    }
   ],
   "source": [
    "df.head()"
   ]
  },
  {
   "cell_type": "code",
   "execution_count": 6,
   "id": "509dbac3",
   "metadata": {},
   "outputs": [
    {
     "data": {
      "text/plain": [
       "2777.777777777778"
      ]
     },
     "execution_count": 6,
     "metadata": {},
     "output_type": "execute_result"
    }
   ],
   "source": [
    "200000/(2015-2009)/12\n",
    "#We need roughly 3000 yello taxi data for each month. "
   ]
  },
  {
   "cell_type": "code",
   "execution_count": 7,
   "id": "20a4e1ba",
   "metadata": {},
   "outputs": [
    {
     "name": "stderr",
     "output_type": "stream",
     "text": [
      "D:\\Anon\\lib\\site-packages\\IPython\\core\\interactiveshell.py:3444: DtypeWarning: Columns (9,13) have mixed types.Specify dtype option on import or set low_memory=False.\n",
      "  exec(code_obj, self.user_global_ns, self.user_ns)\n"
     ]
    }
   ],
   "source": [
    "df = pd.read_csv('2009_weather.csv')"
   ]
  },
  {
   "cell_type": "code",
   "execution_count": 10,
   "id": "8b81c226",
   "metadata": {},
   "outputs": [
    {
     "name": "stdout",
     "output_type": "stream",
     "text": [
      "<class 'pandas.core.frame.DataFrame'>\n",
      "RangeIndex: 11123 entries, 0 to 11122\n",
      "Data columns (total 123 columns):\n",
      " #    Column                                        Dtype  \n",
      "---   ------                                        -----  \n",
      " 0    STATION                                       int64  \n",
      " 1    DATE                                          object \n",
      " 2    LATITUDE                                      float64\n",
      " 3    LONGITUDE                                     float64\n",
      " 4    ELEVATION                                     float64\n",
      " 5    NAME                                          object \n",
      " 6    REPORT_TYPE                                   object \n",
      " 7    SOURCE                                        object \n",
      " 8    HourlyAltimeterSetting                        object \n",
      " 9    HourlyDewPointTemperature                     object \n",
      " 10   HourlyDryBulbTemperature                      float64\n",
      " 11   HourlyPrecipitation                           object \n",
      " 12   HourlyPresentWeatherType                      object \n",
      " 13   HourlyPressureChange                          object \n",
      " 14   HourlyPressureTendency                        float64\n",
      " 15   HourlyRelativeHumidity                        float64\n",
      " 16   HourlySkyConditions                           float64\n",
      " 17   HourlySeaLevelPressure                        object \n",
      " 18   HourlyStationPressure                         float64\n",
      " 19   HourlyVisibility                              float64\n",
      " 20   HourlyWetBulbTemperature                      float64\n",
      " 21   HourlyWindDirection                           object \n",
      " 22   HourlyWindGustSpeed                           float64\n",
      " 23   HourlyWindSpeed                               float64\n",
      " 24   Sunrise                                       float64\n",
      " 25   Sunset                                        float64\n",
      " 26   DailyAverageDewPointTemperature               float64\n",
      " 27   DailyAverageDryBulbTemperature                float64\n",
      " 28   DailyAverageRelativeHumidity                  float64\n",
      " 29   DailyAverageSeaLevelPressure                  float64\n",
      " 30   DailyAverageStationPressure                   float64\n",
      " 31   DailyAverageWetBulbTemperature                float64\n",
      " 32   DailyAverageWindSpeed                         float64\n",
      " 33   DailyCoolingDegreeDays                        float64\n",
      " 34   DailyDepartureFromNormalAverageTemperature    float64\n",
      " 35   DailyHeatingDegreeDays                        float64\n",
      " 36   DailyMaximumDryBulbTemperature                float64\n",
      " 37   DailyMinimumDryBulbTemperature                float64\n",
      " 38   DailyPeakWindDirection                        float64\n",
      " 39   DailyPeakWindSpeed                            float64\n",
      " 40   DailyPrecipitation                            float64\n",
      " 41   DailySnowDepth                                float64\n",
      " 42   DailySnowfall                                 float64\n",
      " 43   DailySustainedWindDirection                   float64\n",
      " 44   DailySustainedWindSpeed                       float64\n",
      " 45   DailyWeather                                  object \n",
      " 46   MonthlyAverageRH                              float64\n",
      " 47   MonthlyDaysWithGT001Precip                    float64\n",
      " 48   MonthlyDaysWithGT010Precip                    float64\n",
      " 49   MonthlyDaysWithGT32Temp                       float64\n",
      " 50   MonthlyDaysWithGT90Temp                       float64\n",
      " 51   MonthlyDaysWithLT0Temp                        float64\n",
      " 52   MonthlyDaysWithLT32Temp                       float64\n",
      " 53   MonthlyDepartureFromNormalAverageTemperature  float64\n",
      " 54   MonthlyDepartureFromNormalCoolingDegreeDays   float64\n",
      " 55   MonthlyDepartureFromNormalHeatingDegreeDays   float64\n",
      " 56   MonthlyDepartureFromNormalMaximumTemperature  float64\n",
      " 57   MonthlyDepartureFromNormalMinimumTemperature  float64\n",
      " 58   MonthlyDepartureFromNormalPrecipitation       float64\n",
      " 59   MonthlyDewpointTemperature                    float64\n",
      " 60   MonthlyGreatestPrecip                         float64\n",
      " 61   MonthlyGreatestPrecipDate                     float64\n",
      " 62   MonthlyGreatestSnowDepth                      float64\n",
      " 63   MonthlyGreatestSnowDepthDate                  float64\n",
      " 64   MonthlyGreatestSnowfall                       float64\n",
      " 65   MonthlyGreatestSnowfallDate                   float64\n",
      " 66   MonthlyMaxSeaLevelPressureValue               float64\n",
      " 67   MonthlyMaxSeaLevelPressureValueDate           float64\n",
      " 68   MonthlyMaxSeaLevelPressureValueTime           float64\n",
      " 69   MonthlyMaximumTemperature                     float64\n",
      " 70   MonthlyMeanTemperature                        float64\n",
      " 71   MonthlyMinSeaLevelPressureValue               float64\n",
      " 72   MonthlyMinSeaLevelPressureValueDate           float64\n",
      " 73   MonthlyMinSeaLevelPressureValueTime           float64\n",
      " 74   MonthlyMinimumTemperature                     float64\n",
      " 75   MonthlySeaLevelPressure                       float64\n",
      " 76   MonthlyStationPressure                        float64\n",
      " 77   MonthlyTotalLiquidPrecipitation               float64\n",
      " 78   MonthlyTotalSnowfall                          float64\n",
      " 79   MonthlyWetBulb                                float64\n",
      " 80   AWND                                          float64\n",
      " 81   CDSD                                          float64\n",
      " 82   CLDD                                          float64\n",
      " 83   DSNW                                          float64\n",
      " 84   HDSD                                          float64\n",
      " 85   HTDD                                          float64\n",
      " 86   NormalsCoolingDegreeDay                       float64\n",
      " 87   NormalsHeatingDegreeDay                       float64\n",
      " 88   ShortDurationEndDate005                       float64\n",
      " 89   ShortDurationEndDate010                       float64\n",
      " 90   ShortDurationEndDate015                       float64\n",
      " 91   ShortDurationEndDate020                       float64\n",
      " 92   ShortDurationEndDate030                       float64\n",
      " 93   ShortDurationEndDate045                       float64\n",
      " 94   ShortDurationEndDate060                       float64\n",
      " 95   ShortDurationEndDate080                       float64\n",
      " 96   ShortDurationEndDate100                       float64\n",
      " 97   ShortDurationEndDate120                       float64\n",
      " 98   ShortDurationEndDate150                       float64\n",
      " 99   ShortDurationEndDate180                       float64\n",
      " 100  ShortDurationPrecipitationValue005            float64\n",
      " 101  ShortDurationPrecipitationValue010            float64\n",
      " 102  ShortDurationPrecipitationValue015            float64\n",
      " 103  ShortDurationPrecipitationValue020            float64\n",
      " 104  ShortDurationPrecipitationValue030            float64\n",
      " 105  ShortDurationPrecipitationValue045            float64\n",
      " 106  ShortDurationPrecipitationValue060            float64\n",
      " 107  ShortDurationPrecipitationValue080            float64\n",
      " 108  ShortDurationPrecipitationValue100            float64\n",
      " 109  ShortDurationPrecipitationValue120            float64\n",
      " 110  ShortDurationPrecipitationValue150            float64\n",
      " 111  ShortDurationPrecipitationValue180            float64\n",
      " 112  REM                                           object \n",
      " 113  BackupDirection                               object \n",
      " 114  BackupDistance                                float64\n",
      " 115  BackupDistanceUnit                            object \n",
      " 116  BackupElements                                object \n",
      " 117  BackupElevation                               float64\n",
      " 118  BackupEquipment                               object \n",
      " 119  BackupLatitude                                float64\n",
      " 120  BackupLongitude                               float64\n",
      " 121  BackupName                                    object \n",
      " 122  WindEquipmentChangeDate                       object \n",
      "dtypes: float64(103), int64(1), object(19)\n",
      "memory usage: 10.4+ MB\n"
     ]
    }
   ],
   "source": [
    "df.info(verbose = True)"
   ]
  },
  {
   "cell_type": "code",
   "execution_count": 13,
   "id": "297e2d5b",
   "metadata": {},
   "outputs": [
    {
     "data": {
      "text/plain": [
       "0        18.0\n",
       "1        18.0\n",
       "2        18.0\n",
       "3        18.0\n",
       "4        18.0\n",
       "         ... \n",
       "11118    34.0\n",
       "11119    34.0\n",
       "11120    34.0\n",
       "11121    34.0\n",
       "11122    34.0\n",
       "Name: HourlyDryBulbTemperature, Length: 11123, dtype: float64"
      ]
     },
     "execution_count": 13,
     "metadata": {},
     "output_type": "execute_result"
    }
   ],
   "source": [
    "df.iloc[:,10]"
   ]
  },
  {
   "cell_type": "markdown",
   "id": "967bca18",
   "metadata": {},
   "source": [
    "Which columns do we need?\n"
   ]
  }
 ],
 "metadata": {
  "kernelspec": {
   "display_name": "Python 3 (ipykernel)",
   "language": "python",
   "name": "python3"
  },
  "language_info": {
   "codemirror_mode": {
    "name": "ipython",
    "version": 3
   },
   "file_extension": ".py",
   "mimetype": "text/x-python",
   "name": "python",
   "nbconvert_exporter": "python",
   "pygments_lexer": "ipython3",
   "version": "3.9.7"
  }
 },
 "nbformat": 4,
 "nbformat_minor": 5
}
