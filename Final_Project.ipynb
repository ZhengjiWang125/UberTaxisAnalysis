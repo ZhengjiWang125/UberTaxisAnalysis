{
 "cells": [
  {
   "cell_type": "code",
   "execution_count": 5,
   "metadata": {},
   "outputs": [],
   "source": [
    "import numpy as np\n",
    "import pandas as pd\n",
    "from bs4 import BeautifulSoup\n",
    "import requests\n",
    "import re"
   ]
  },
  {
   "cell_type": "code",
   "execution_count": 6,
   "metadata": {},
   "outputs": [],
   "source": [
    "import matplotlib.pyplot as plt\n",
    "import math\n",
    "import seaborn as sns"
   ]
  },
  {
   "cell_type": "code",
   "execution_count": 7,
   "metadata": {},
   "outputs": [],
   "source": [
    "from sqlalchemy import create_engine\n",
    "import logging\n",
    "from sqlalchemy.orm import declarative_base\n",
    "from sqlalchemy import Column, Integer, String\n",
    "from sqlalchemy.orm import sessionmaker\n",
    "from sqlalchemy import text"
   ]
  },
  {
   "cell_type": "code",
   "execution_count": 8,
   "metadata": {},
   "outputs": [],
   "source": [
    "from ipywidgets import interact, FloatSlider\n",
    "import ipywidgets as widgets"
   ]
  },
  {
   "cell_type": "markdown",
   "metadata": {},
   "source": [
    "# Data Preprocessing"
   ]
  },
  {
   "cell_type": "markdown",
   "metadata": {},
   "source": [
    "Running this part will download all the files in the local repo, but it will take a long time. \n",
    "Depending on the machine it runs on, it might throw error due to large size."
   ]
  },
  {
   "cell_type": "markdown",
   "metadata": {},
   "source": [
    "### Clean Weather Data"
   ]
  },
  {
   "cell_type": "markdown",
   "metadata": {},
   "source": [
    "All weather csv are cleaned and seperated into hours part and days part"
   ]
  },
  {
   "cell_type": "code",
   "execution_count": 11,
   "metadata": {},
   "outputs": [],
   "source": [
    "#create the clean version of weather csv and seprated into two parts\n",
    "def create_weather_csv(filename):\n",
    "    # make sure the output title is consistent \n",
    "    title1 = \"\"\n",
    "    title2 = \"\"\n",
    "    m = re.search(r'(\\d+_weather)', filename)\n",
    "    if m:\n",
    "        title1 = m.group(1) + '_hours.csv'\n",
    "        title2 = m.group(1) + '_days.csv'\n",
    "    \n",
    "    \n",
    "    #this function cleans the weather csv and output 2 csv, one is for daily and one is for hour\n",
    "    df = pd.read_csv(filename,usecols=['DATE','HourlyWindSpeed','HourlyPrecipitation'])\n",
    "    #deal with missing value and special character\n",
    "    df = df.fillna(0)\n",
    "    df = df.replace('T',0)\n",
    "    df = df.replace('s','',regex = True)\n",
    "    #change the data type\n",
    "    df.DATE = pd.to_datetime(df.DATE)\n",
    "    df = df.astype({'HourlyPrecipitation':float,'HourlyWindSpeed':float})\n",
    "    df.set_index('DATE',drop = True).to_csv(title1)\n",
    "    df = df.resample('D', on='DATE').mean() \n",
    "    df = df.rename(mapper = {\"HourlyPrecipitation\":\"DailyPrecipitation\", \"HourlyWindSpeed\":\"DailyWindSpeed\"},axis = 1)\n",
    "    df.to_csv(title2)\n",
    "    \n",
    "    "
   ]
  },
  {
   "cell_type": "code",
   "execution_count": 10,
   "metadata": {},
   "outputs": [
    {
     "ename": "FileNotFoundError",
     "evalue": "[Errno 2] File 2009_weather.csv does not exist: '2009_weather.csv'",
     "output_type": "error",
     "traceback": [
      "\u001b[0;31m---------------------------------------------------------------------------\u001b[0m",
      "\u001b[0;31mFileNotFoundError\u001b[0m                         Traceback (most recent call last)",
      "\u001b[0;32m<ipython-input-10-92f550e0c17a>\u001b[0m in \u001b[0;36m<module>\u001b[0;34m\u001b[0m\n\u001b[1;32m      2\u001b[0m     \u001b[0;31m#create all weather data from 2009 to 2015\u001b[0m\u001b[0;34m\u001b[0m\u001b[0;34m\u001b[0m\u001b[0;34m\u001b[0m\u001b[0m\n\u001b[1;32m      3\u001b[0m     \u001b[0mfilename\u001b[0m \u001b[0;34m=\u001b[0m \u001b[0mstr\u001b[0m\u001b[0;34m(\u001b[0m\u001b[0mi\u001b[0m\u001b[0;34m)\u001b[0m\u001b[0;34m+\u001b[0m\u001b[0;34m\"_weather.csv\"\u001b[0m\u001b[0;34m\u001b[0m\u001b[0;34m\u001b[0m\u001b[0m\n\u001b[0;32m----> 4\u001b[0;31m     \u001b[0mcreate_weather_csv\u001b[0m\u001b[0;34m(\u001b[0m\u001b[0mfilename\u001b[0m\u001b[0;34m)\u001b[0m\u001b[0;34m\u001b[0m\u001b[0;34m\u001b[0m\u001b[0m\n\u001b[0m",
      "\u001b[0;32m<ipython-input-9-2e88451ef294>\u001b[0m in \u001b[0;36mcreate_weather_csv\u001b[0;34m(filename)\u001b[0m\n\u001b[1;32m     11\u001b[0m \u001b[0;34m\u001b[0m\u001b[0m\n\u001b[1;32m     12\u001b[0m     \u001b[0;31m#this function cleans the weather csv and output 2 csv, one is for daily and one is for hour\u001b[0m\u001b[0;34m\u001b[0m\u001b[0;34m\u001b[0m\u001b[0;34m\u001b[0m\u001b[0m\n\u001b[0;32m---> 13\u001b[0;31m     \u001b[0mdf\u001b[0m \u001b[0;34m=\u001b[0m \u001b[0mpd\u001b[0m\u001b[0;34m.\u001b[0m\u001b[0mread_csv\u001b[0m\u001b[0;34m(\u001b[0m\u001b[0mfilename\u001b[0m\u001b[0;34m,\u001b[0m\u001b[0musecols\u001b[0m\u001b[0;34m=\u001b[0m\u001b[0;34m[\u001b[0m\u001b[0;34m'DATE'\u001b[0m\u001b[0;34m,\u001b[0m\u001b[0;34m'HourlyWindSpeed'\u001b[0m\u001b[0;34m,\u001b[0m\u001b[0;34m'HourlyPrecipitation'\u001b[0m\u001b[0;34m]\u001b[0m\u001b[0;34m)\u001b[0m\u001b[0;34m\u001b[0m\u001b[0;34m\u001b[0m\u001b[0m\n\u001b[0m\u001b[1;32m     14\u001b[0m     \u001b[0;31m#deal with missing value and special character\u001b[0m\u001b[0;34m\u001b[0m\u001b[0;34m\u001b[0m\u001b[0;34m\u001b[0m\u001b[0m\n\u001b[1;32m     15\u001b[0m     \u001b[0mdf\u001b[0m \u001b[0;34m=\u001b[0m \u001b[0mdf\u001b[0m\u001b[0;34m.\u001b[0m\u001b[0mfillna\u001b[0m\u001b[0;34m(\u001b[0m\u001b[0;36m0\u001b[0m\u001b[0;34m)\u001b[0m\u001b[0;34m\u001b[0m\u001b[0;34m\u001b[0m\u001b[0m\n",
      "\u001b[0;32m~/opt/anaconda3/lib/python3.6/site-packages/pandas/io/parsers.py\u001b[0m in \u001b[0;36mparser_f\u001b[0;34m(filepath_or_buffer, sep, delimiter, header, names, index_col, usecols, squeeze, prefix, mangle_dupe_cols, dtype, engine, converters, true_values, false_values, skipinitialspace, skiprows, skipfooter, nrows, na_values, keep_default_na, na_filter, verbose, skip_blank_lines, parse_dates, infer_datetime_format, keep_date_col, date_parser, dayfirst, cache_dates, iterator, chunksize, compression, thousands, decimal, lineterminator, quotechar, quoting, doublequote, escapechar, comment, encoding, dialect, error_bad_lines, warn_bad_lines, delim_whitespace, low_memory, memory_map, float_precision)\u001b[0m\n\u001b[1;32m    674\u001b[0m         )\n\u001b[1;32m    675\u001b[0m \u001b[0;34m\u001b[0m\u001b[0m\n\u001b[0;32m--> 676\u001b[0;31m         \u001b[0;32mreturn\u001b[0m \u001b[0m_read\u001b[0m\u001b[0;34m(\u001b[0m\u001b[0mfilepath_or_buffer\u001b[0m\u001b[0;34m,\u001b[0m \u001b[0mkwds\u001b[0m\u001b[0;34m)\u001b[0m\u001b[0;34m\u001b[0m\u001b[0;34m\u001b[0m\u001b[0m\n\u001b[0m\u001b[1;32m    677\u001b[0m \u001b[0;34m\u001b[0m\u001b[0m\n\u001b[1;32m    678\u001b[0m     \u001b[0mparser_f\u001b[0m\u001b[0;34m.\u001b[0m\u001b[0m__name__\u001b[0m \u001b[0;34m=\u001b[0m \u001b[0mname\u001b[0m\u001b[0;34m\u001b[0m\u001b[0;34m\u001b[0m\u001b[0m\n",
      "\u001b[0;32m~/opt/anaconda3/lib/python3.6/site-packages/pandas/io/parsers.py\u001b[0m in \u001b[0;36m_read\u001b[0;34m(filepath_or_buffer, kwds)\u001b[0m\n\u001b[1;32m    446\u001b[0m \u001b[0;34m\u001b[0m\u001b[0m\n\u001b[1;32m    447\u001b[0m     \u001b[0;31m# Create the parser.\u001b[0m\u001b[0;34m\u001b[0m\u001b[0;34m\u001b[0m\u001b[0;34m\u001b[0m\u001b[0m\n\u001b[0;32m--> 448\u001b[0;31m     \u001b[0mparser\u001b[0m \u001b[0;34m=\u001b[0m \u001b[0mTextFileReader\u001b[0m\u001b[0;34m(\u001b[0m\u001b[0mfp_or_buf\u001b[0m\u001b[0;34m,\u001b[0m \u001b[0;34m**\u001b[0m\u001b[0mkwds\u001b[0m\u001b[0;34m)\u001b[0m\u001b[0;34m\u001b[0m\u001b[0;34m\u001b[0m\u001b[0m\n\u001b[0m\u001b[1;32m    449\u001b[0m \u001b[0;34m\u001b[0m\u001b[0m\n\u001b[1;32m    450\u001b[0m     \u001b[0;32mif\u001b[0m \u001b[0mchunksize\u001b[0m \u001b[0;32mor\u001b[0m \u001b[0miterator\u001b[0m\u001b[0;34m:\u001b[0m\u001b[0;34m\u001b[0m\u001b[0;34m\u001b[0m\u001b[0m\n",
      "\u001b[0;32m~/opt/anaconda3/lib/python3.6/site-packages/pandas/io/parsers.py\u001b[0m in \u001b[0;36m__init__\u001b[0;34m(self, f, engine, **kwds)\u001b[0m\n\u001b[1;32m    878\u001b[0m             \u001b[0mself\u001b[0m\u001b[0;34m.\u001b[0m\u001b[0moptions\u001b[0m\u001b[0;34m[\u001b[0m\u001b[0;34m\"has_index_names\"\u001b[0m\u001b[0;34m]\u001b[0m \u001b[0;34m=\u001b[0m \u001b[0mkwds\u001b[0m\u001b[0;34m[\u001b[0m\u001b[0;34m\"has_index_names\"\u001b[0m\u001b[0;34m]\u001b[0m\u001b[0;34m\u001b[0m\u001b[0;34m\u001b[0m\u001b[0m\n\u001b[1;32m    879\u001b[0m \u001b[0;34m\u001b[0m\u001b[0m\n\u001b[0;32m--> 880\u001b[0;31m         \u001b[0mself\u001b[0m\u001b[0;34m.\u001b[0m\u001b[0m_make_engine\u001b[0m\u001b[0;34m(\u001b[0m\u001b[0mself\u001b[0m\u001b[0;34m.\u001b[0m\u001b[0mengine\u001b[0m\u001b[0;34m)\u001b[0m\u001b[0;34m\u001b[0m\u001b[0;34m\u001b[0m\u001b[0m\n\u001b[0m\u001b[1;32m    881\u001b[0m \u001b[0;34m\u001b[0m\u001b[0m\n\u001b[1;32m    882\u001b[0m     \u001b[0;32mdef\u001b[0m \u001b[0mclose\u001b[0m\u001b[0;34m(\u001b[0m\u001b[0mself\u001b[0m\u001b[0;34m)\u001b[0m\u001b[0;34m:\u001b[0m\u001b[0;34m\u001b[0m\u001b[0;34m\u001b[0m\u001b[0m\n",
      "\u001b[0;32m~/opt/anaconda3/lib/python3.6/site-packages/pandas/io/parsers.py\u001b[0m in \u001b[0;36m_make_engine\u001b[0;34m(self, engine)\u001b[0m\n\u001b[1;32m   1112\u001b[0m     \u001b[0;32mdef\u001b[0m \u001b[0m_make_engine\u001b[0m\u001b[0;34m(\u001b[0m\u001b[0mself\u001b[0m\u001b[0;34m,\u001b[0m \u001b[0mengine\u001b[0m\u001b[0;34m=\u001b[0m\u001b[0;34m\"c\"\u001b[0m\u001b[0;34m)\u001b[0m\u001b[0;34m:\u001b[0m\u001b[0;34m\u001b[0m\u001b[0;34m\u001b[0m\u001b[0m\n\u001b[1;32m   1113\u001b[0m         \u001b[0;32mif\u001b[0m \u001b[0mengine\u001b[0m \u001b[0;34m==\u001b[0m \u001b[0;34m\"c\"\u001b[0m\u001b[0;34m:\u001b[0m\u001b[0;34m\u001b[0m\u001b[0;34m\u001b[0m\u001b[0m\n\u001b[0;32m-> 1114\u001b[0;31m             \u001b[0mself\u001b[0m\u001b[0;34m.\u001b[0m\u001b[0m_engine\u001b[0m \u001b[0;34m=\u001b[0m \u001b[0mCParserWrapper\u001b[0m\u001b[0;34m(\u001b[0m\u001b[0mself\u001b[0m\u001b[0;34m.\u001b[0m\u001b[0mf\u001b[0m\u001b[0;34m,\u001b[0m \u001b[0;34m**\u001b[0m\u001b[0mself\u001b[0m\u001b[0;34m.\u001b[0m\u001b[0moptions\u001b[0m\u001b[0;34m)\u001b[0m\u001b[0;34m\u001b[0m\u001b[0;34m\u001b[0m\u001b[0m\n\u001b[0m\u001b[1;32m   1115\u001b[0m         \u001b[0;32melse\u001b[0m\u001b[0;34m:\u001b[0m\u001b[0;34m\u001b[0m\u001b[0;34m\u001b[0m\u001b[0m\n\u001b[1;32m   1116\u001b[0m             \u001b[0;32mif\u001b[0m \u001b[0mengine\u001b[0m \u001b[0;34m==\u001b[0m \u001b[0;34m\"python\"\u001b[0m\u001b[0;34m:\u001b[0m\u001b[0;34m\u001b[0m\u001b[0;34m\u001b[0m\u001b[0m\n",
      "\u001b[0;32m~/opt/anaconda3/lib/python3.6/site-packages/pandas/io/parsers.py\u001b[0m in \u001b[0;36m__init__\u001b[0;34m(self, src, **kwds)\u001b[0m\n\u001b[1;32m   1889\u001b[0m         \u001b[0mkwds\u001b[0m\u001b[0;34m[\u001b[0m\u001b[0;34m\"usecols\"\u001b[0m\u001b[0;34m]\u001b[0m \u001b[0;34m=\u001b[0m \u001b[0mself\u001b[0m\u001b[0;34m.\u001b[0m\u001b[0musecols\u001b[0m\u001b[0;34m\u001b[0m\u001b[0;34m\u001b[0m\u001b[0m\n\u001b[1;32m   1890\u001b[0m \u001b[0;34m\u001b[0m\u001b[0m\n\u001b[0;32m-> 1891\u001b[0;31m         \u001b[0mself\u001b[0m\u001b[0;34m.\u001b[0m\u001b[0m_reader\u001b[0m \u001b[0;34m=\u001b[0m \u001b[0mparsers\u001b[0m\u001b[0;34m.\u001b[0m\u001b[0mTextReader\u001b[0m\u001b[0;34m(\u001b[0m\u001b[0msrc\u001b[0m\u001b[0;34m,\u001b[0m \u001b[0;34m**\u001b[0m\u001b[0mkwds\u001b[0m\u001b[0;34m)\u001b[0m\u001b[0;34m\u001b[0m\u001b[0;34m\u001b[0m\u001b[0m\n\u001b[0m\u001b[1;32m   1892\u001b[0m         \u001b[0mself\u001b[0m\u001b[0;34m.\u001b[0m\u001b[0munnamed_cols\u001b[0m \u001b[0;34m=\u001b[0m \u001b[0mself\u001b[0m\u001b[0;34m.\u001b[0m\u001b[0m_reader\u001b[0m\u001b[0;34m.\u001b[0m\u001b[0munnamed_cols\u001b[0m\u001b[0;34m\u001b[0m\u001b[0;34m\u001b[0m\u001b[0m\n\u001b[1;32m   1893\u001b[0m \u001b[0;34m\u001b[0m\u001b[0m\n",
      "\u001b[0;32mpandas/_libs/parsers.pyx\u001b[0m in \u001b[0;36mpandas._libs.parsers.TextReader.__cinit__\u001b[0;34m()\u001b[0m\n",
      "\u001b[0;32mpandas/_libs/parsers.pyx\u001b[0m in \u001b[0;36mpandas._libs.parsers.TextReader._setup_parser_source\u001b[0;34m()\u001b[0m\n",
      "\u001b[0;31mFileNotFoundError\u001b[0m: [Errno 2] File 2009_weather.csv does not exist: '2009_weather.csv'"
     ]
    }
   ],
   "source": [
    "for i in range(2009,2016):\n",
    "    #create all weather data from 2009 to 2015\n",
    "    filename = str(i)+\"_weather.csv\"\n",
    "    create_weather_csv(filename)"
   ]
  },
  {
   "cell_type": "markdown",
   "metadata": {},
   "source": [
    "### Clean Uber Data"
   ]
  },
  {
   "cell_type": "markdown",
   "metadata": {},
   "source": [
    "Clean uber sample data and makes the name consistent to the yellow taxi data"
   ]
  },
  {
   "cell_type": "code",
   "execution_count": 12,
   "metadata": {},
   "outputs": [],
   "source": [
    "uber = pd.read_csv('uber_rides_sample.csv')"
   ]
  },
  {
   "cell_type": "code",
   "execution_count": 13,
   "metadata": {},
   "outputs": [],
   "source": [
    "#this function gets the distance between two coordinates\n",
    "def get_distance(lon1,lat1,lon2,lat2):\n",
    "    from math import sin, cos, sqrt, atan2, radians\n",
    "    R = 6373\n",
    "    lon1 = radians(lon1)\n",
    "    lat1 = radians(lat1)\n",
    "    lon2 = radians(lon2)\n",
    "    lat2 = radians(lat2)\n",
    "    \n",
    "    dlon = lon1 - lon2\n",
    "    dlat = lat1 - lat2\n",
    "    a = sin(dlat / 2)**2 + cos(lat1) * cos(lat2) * sin(dlon / 2)**2\n",
    "    c = 2 * atan2(sqrt(a), sqrt(1 - a))\n",
    "    \n",
    "    distance = R * c\n",
    "    return distance"
   ]
  },
  {
   "cell_type": "code",
   "execution_count": 14,
   "metadata": {},
   "outputs": [],
   "source": [
    "#add distance to the dataframe with coordinates\n",
    "def add_distance(df):\n",
    "    distance = []\n",
    "    lon1 = list(df['pickup_longitude'])\n",
    "    lon2 = list(df['dropoff_longitude'])\n",
    "    lat1 = list(df['pickup_latitude'])\n",
    "    lat2 = list(df['dropoff_latitude'])\n",
    "    for i in range(len(lon1)):\n",
    "        distance.append(get_distance(lon1[i],lat1[i],lon2[i],lat2[i]))\n",
    "    df['distance']  = distance"
   ]
  },
  {
   "cell_type": "code",
   "execution_count": 15,
   "metadata": {},
   "outputs": [
    {
     "data": {
      "text/plain": [
       "314.3819156466156"
      ]
     },
     "execution_count": 15,
     "metadata": {},
     "output_type": "execute_result"
    }
   ],
   "source": [
    "get_distance(1,2,3,4)"
   ]
  },
  {
   "cell_type": "code",
   "execution_count": 16,
   "metadata": {},
   "outputs": [],
   "source": [
    "#create the clean version of uber dataframe\n",
    "def create_uber(df):\n",
    "    #clean uber data\n",
    "    df = df.rename(columns = lambda x: x.strip())\n",
    "   \n",
    "    #drop and rename column\n",
    "    to_drop = [\n",
    "        \"Unnamed: 0\",\n",
    "        \"key\",\n",
    "        \"passenger_count\"\n",
    "    ]\n",
    "    \n",
    "    mapper = {\n",
    "        \"pickup_datetime\" :\"pickup_time\",\n",
    "        \"fare_amount\" : \"charge\"\n",
    "    }\n",
    "    df = df.drop(to_drop, axis = 1,errors = \"ignore\")\n",
    "    df = df.rename(mapper, axis = 1)\n",
    "    df.dropna(inplace = True)\n",
    "    \n",
    "    #modify datatype\n",
    "    df = df.astype({\"pickup_time\":np.datetime64})\n",
    "    \n",
    "    \n",
    "    \n",
    "    #add distance\n",
    "    add_distance(df)\n",
    "    df.to_csv('uber.csv',index = False)"
   ]
  },
  {
   "cell_type": "code",
   "execution_count": 17,
   "metadata": {},
   "outputs": [],
   "source": [
    "create_uber(uber)"
   ]
  },
  {
   "cell_type": "markdown",
   "metadata": {},
   "source": [
    "### Clean Yellow Taxi Data"
   ]
  },
  {
   "cell_type": "markdown",
   "metadata": {},
   "source": [
    "find all csv files and filter them, then download as a dataframe and clean the data"
   ]
  },
  {
   "cell_type": "code",
   "execution_count": 18,
   "metadata": {},
   "outputs": [],
   "source": [
    "def get_csv_links():\n",
    "    #this function visits： https://www1.nyc.gov/site/tlc/about/tlc-trip-record-data.page\n",
    "    #It requests the source code on the website and get all the hrefs related to csv\n",
    "    #the urls are saved in link_lists\n",
    "    link_lists = []\n",
    "    url = \"https://www1.nyc.gov/site/tlc/about/tlc-trip-record-data.page\"\n",
    "    page = requests.get(url)\n",
    "    soup = BeautifulSoup(page.text, 'html.parser')\n",
    "    aclasses = soup.find_all('a')\n",
    "    for a in aclasses:\n",
    "        link_lists.append(a.get('href'))\n",
    "    #Then we filter on link_lists using re because we only want to grab csv for yellow taxi ranging from 2009 - 2015.\n",
    "    csv_links = []\n",
    "    pattern = re.compile(r'.yellow_tripdata_(200[9]|201[0-5])-\\d\\d\\.csv$')\n",
    "    for i in link_lists:\n",
    "        if re.search(pattern,i):\n",
    "            csv_links.append(i)\n",
    "    return csv_links\n",
    "    "
   ]
  },
  {
   "cell_type": "code",
   "execution_count": 48,
   "metadata": {},
   "outputs": [],
   "source": [
    "westlimit=-74.242330; southlimit=40.560445; eastlimit=-73.717047; northlimit=40.908524\n",
    "#Remove the data that is not within the limits specified above\n",
    "\n",
    "def fix_longitude(input_longitude):\n",
    "    try:\n",
    "        input_longitude = float(input_longitude)\n",
    "    except:\n",
    "        return np.NaN\n",
    "    if input_longitude < westlimit or input_longitude > eastlimit:\n",
    "        return np.NaN\n",
    "    return input_longitude\n",
    "\n",
    "\n",
    "def fix_latitude(input_latitude):\n",
    "    try:\n",
    "        input_latitude = float(input_latitude)\n",
    "    except:\n",
    "        return np.NaN\n",
    "    if input_latitude < southlimit or input_latitude > northlimit:\n",
    "        return np.NaN\n",
    "    return input_latitude\n",
    "\n",
    "\n",
    "def fix_df(df):\n",
    "    df['pickup_longitude']=df['pickup_longitude'].apply(fix_longitude)\n",
    "    df['dropoff_longitude']=df['dropoff_longitude'].apply(fix_longitude)\n",
    "    df['pickup_latitude']=df['pickup_latitude'].apply(fix_latitude)\n",
    "    df['dropoff_latitude']=df['dropoff_latitude'].apply(fix_latitude)\n",
    "    df.dropna(inplace = True)\n",
    "    return df "
   ]
  },
  {
   "cell_type": "code",
   "execution_count": 21,
   "metadata": {},
   "outputs": [],
   "source": [
    "def create_csv(csv_link):\n",
    "   \n",
    "    # make sure the output title is consistent \n",
    "    title = \"\"\n",
    "    m = re.search(r'(yellow.+)', csv_link)\n",
    "    if m:\n",
    "        title = m.group(1)\n",
    "   \n",
    "    #read the data into a dataframe\n",
    "    df = pd.read_csv(csv_link,on_bad_lines='skip')\n",
    "    df = df.rename(columns = lambda x: x.strip())\n",
    "   \n",
    "    #drop and rename column\n",
    "    to_drop = [\n",
    "        \"Unnamed: 0\",\n",
    "        \"vendor_name\",\n",
    "        \"vendor_id\",\n",
    "        \"Vendor_id\",\n",
    "        'VendorID',\n",
    "        \"Trip_distance\",\n",
    "        \"Trip_Distance\",\n",
    "        \"trip_distance\",\n",
    "        \"Rate_Code\",\n",
    "        \"store_and_forward\",\n",
    "        \"store_and_fwd_flag\",\n",
    "        \"Payment_Type\",\n",
    "        \"Fare_Amt\",\n",
    "        \"surcharge\",\n",
    "        \"mta_tax\",\n",
    "        \"Tolls_Amt\",\n",
    "        \"rate_code\",\n",
    "        \"RatecodeID\",\n",
    "        \"RateCodeID\",\n",
    "        \"payment_type\",\n",
    "        \"fare_amount\",\n",
    "        \"extra\",\n",
    "        \"tolls_amount\",\n",
    "        \"improvement_surcharge\",\n",
    "        \"Passenger_Count\",\n",
    "        \"passenger_count\"\n",
    "    ]\n",
    "    \n",
    "    mapper = {\n",
    "        \"Trip_Pickup_DateTime\" : \"pickup_time\",\n",
    "        \"tpep_pickup_datetime\" : \"pickup_time\",\n",
    "        \"pickup_datetime\": \"pickup_time\",\n",
    "        \"dropoff_datetime\" : \"dropoff_time\",\n",
    "        \"Trip_Dropoff_DateTime\" : \"dropoff_time\",\n",
    "        \"tpep_dropoff_datetime\" : \"dropoff_time\",\n",
    "        \"Start_Lon\" : \"pickup_longitude\",\n",
    "        \"Start_Lat\" : \"pickup_latitude\",\n",
    "        \"End_Lon\" : \"dropoff_longitude\",\n",
    "        \"End_Lat\" : \"dropoff_latitude\",\n",
    "        \"Tip_Amt\" : 'tip',\n",
    "        \"tip_amount\" : \"tip\",\n",
    "        \"Total_Amt\" : \"charge\",\n",
    "        \"total_amount\" : \"charge\"\n",
    "    }\n",
    "    df = df.drop(to_drop, axis = 1,errors = \"ignore\")\n",
    "    df = df.rename(mapper, axis = 1)\n",
    "    df.dropna(inplace = True)\n",
    "    \n",
    "    #modify datatype\n",
    "    df = df.astype({\"pickup_time\":np.datetime64,\"dropoff_time\": np.datetime64})\n",
    "    \n",
    "    \n",
    "    #make sure the trip is within(40.560445, -74.242330) and (40.908524, -73.717047)\n",
    "    fix_df(df)\n",
    "    \n",
    "    #sample 3000 rows\n",
    "    df = df.sample(n=3000)\n",
    "    \n",
    "    #add distance\n",
    "    add_distance(df)\n",
    "    df.reset_index(inplace = True, drop = True)\n",
    "    \n",
    "    df.to_csv(title,index= False)"
   ]
  },
  {
   "cell_type": "markdown",
   "metadata": {},
   "source": [
    "run this to download all the yellow taxi sample data"
   ]
  },
  {
   "cell_type": "code",
   "execution_count": null,
   "metadata": {},
   "outputs": [],
   "source": [
    "from tqdm import tqdm\n",
    "links = get_csv_links()\n",
    "for i in tqdm(range(len(links))):\n",
    "    create_csv(links[i])\n"
   ]
  },
  {
   "cell_type": "markdown",
   "metadata": {},
   "source": [
    "# Storing Data"
   ]
  },
  {
   "cell_type": "markdown",
   "metadata": {},
   "source": [
    "We first read all csv files into 4 dataframe"
   ]
  },
  {
   "cell_type": "code",
   "execution_count": 53,
   "metadata": {},
   "outputs": [],
   "source": [
    "def createuber():\n",
    "    #this function reads in uber.csv and returns the data in pd.DataFrame format\n",
    "    uber = pd.read_csv('uber.csv')\n",
    "    uber.pickup_time = pd.to_datetime(uber.pickup_time)\n",
    "    uber = uber[uber.distance != 0]\n",
    "    fix_df(uber)\n",
    "    return uber"
   ]
  },
  {
   "cell_type": "code",
   "execution_count": 26,
   "metadata": {},
   "outputs": [],
   "source": [
    "def createtaxi():\n",
    "    #this function reads in yellow_trip_{year}-{month}.csv and returns the data in pd.DataFrame format\n",
    "    filenames = []\n",
    "    for i in range(2009,2016):\n",
    "        for j in range(1,13):\n",
    "            if j <10:\n",
    "                filename = f'yellow_tripdata_{i}-0{j}.csv'\n",
    "                filenames.append(filename)\n",
    "            else:\n",
    "                filename = f'yellow_tripdata_{i}-{j}.csv'\n",
    "                filenames.append(filename)\n",
    "    taxi = pd.read_csv('yellow_tripdata_2009-01.csv',usecols = ['pickup_time','dropoff_time','pickup_longitude','pickup_latitude','dropoff_longitude','dropoff_latitude','charge','tip','distance'],nrows = 2314)\n",
    "    for i in range(1,len(filenames)):\n",
    "        df = pd.read_csv(filenames[i],usecols = ['pickup_time','dropoff_time','pickup_longitude','pickup_latitude','dropoff_longitude','dropoff_latitude','charge','tip','distance'], nrows = 2314)\n",
    "        taxi = pd.concat([taxi,df])\n",
    "    taxi.reset_index(inplace = True, drop = True)\n",
    "    taxi.pickup_time = pd.to_datetime(taxi.pickup_time)\n",
    "    taxi.dropoff_time = pd.to_datetime(taxi.dropoff_time)\n",
    "    return taxi"
   ]
  },
  {
   "cell_type": "code",
   "execution_count": 27,
   "metadata": {},
   "outputs": [],
   "source": [
    "def createhourlyweather():\n",
    "    #this function reads in {year}_weather_hours.csv and returns the data in pd.DataFrame format\n",
    "    filenames = []\n",
    "    for i in range(2009,2016):\n",
    "        filenames.append(f'{i}_weather_hours.csv')\n",
    "    weather_hourly = pd.read_csv('2009_weather_hours.csv')\n",
    "    for i in range(1,len(filenames)):\n",
    "        df = pd.read_csv(filenames[i])\n",
    "        weather_hourly = pd.concat([weather_hourly,df])\n",
    "    weather_hourly.reset_index(inplace = True, drop = True)\n",
    "    weather_hourly.DATE = pd.to_datetime(weather_hourly.DATE)\n",
    "    weather_hourly['DATE'] = weather_hourly['DATE'].dt.floor('H')\n",
    "    weather_hourly = weather_hourly.drop_duplicates('DATE',keep = 'first')\n",
    "    mapper = {'DATE': 'date', \"HourlyPrecipitation\":'precipitation','HourlyWindSpeed':'windspeed'}\n",
    "    weather_hourly = weather_hourly.rename(mapper,axis = 1)\n",
    "    return weather_hourly\n",
    "    "
   ]
  },
  {
   "cell_type": "code",
   "execution_count": 28,
   "metadata": {},
   "outputs": [],
   "source": [
    "def createdailyweather():\n",
    "    #this function reads in {year}_weather_days.csv and returns the data in pd.DataFrame format\n",
    "    filenames = []\n",
    "    for i in range(2009,2016):\n",
    "        filenames.append(f'{i}_weather_days.csv')\n",
    "    weather_daily = pd.read_csv('2009_weather_days.csv')\n",
    "    for i in range(1,len(filenames)):\n",
    "        df = pd.read_csv(filenames[i])\n",
    "        weather_daily = pd.concat([weather_daily,df])\n",
    "    weather_daily.reset_index(inplace = True, drop = True)\n",
    "    weather_daily.DATE = pd.to_datetime(weather_daily.DATE)\n",
    "    mapper = {'DATE': 'date', \"DailyPrecipitation\":'precipitation','DailyWindSpeed':'windspeed'}\n",
    "    weather_daily = weather_daily.rename(mapper,axis = 1)\n",
    "    return weather_daily"
   ]
  },
  {
   "cell_type": "code",
   "execution_count": 54,
   "metadata": {},
   "outputs": [],
   "source": [
    "uber = createuber()\n",
    "taxi = createtaxi()\n",
    "weather_hourly= createhourlyweather()\n",
    "weather_daily = createdailyweather()"
   ]
  },
  {
   "cell_type": "markdown",
   "metadata": {},
   "source": [
    "Now we try to build database and four tables"
   ]
  },
  {
   "cell_type": "code",
   "execution_count": 56,
   "metadata": {},
   "outputs": [
    {
     "name": "stdout",
     "output_type": "stream",
     "text": [
      "[sqlalchemy] BEGIN (implicit)\n",
      "[sqlalchemy] COMMIT\n"
     ]
    }
   ],
   "source": [
    "#build database\n",
    "engine = create_engine(f\"sqlite:///ubertaxi.db\", echo=True)\n",
    "sqllogger = logging.getLogger(\"sqlalchemy.engine.Engine\")\n",
    "formatter = logging.Formatter(\"[sqlalchemy] %(message)s\")\n",
    "sqllogger.handlers[0].setFormatter(formatter)\n",
    "Base = declarative_base()\n",
    "Base.metadata.create_all(engine, checkfirst=True)\n",
    "# sessionmaker returns a Session class\n",
    "Session = sessionmaker(bind=engine)\n",
    "# and we create an instance of Session\n",
    "session = Session()"
   ]
  },
  {
   "cell_type": "code",
   "execution_count": 57,
   "metadata": {},
   "outputs": [],
   "source": [
    "def readsqlfile(filename):\n",
    "    #I am gonna be honest, I found this on stack overflow. Basically it allows the sqlalchemy to execute multiple queries \n",
    "    #in one file. \n",
    "    sql_file = open(filename,'r')\n",
    "\n",
    "    # Create an empty command string\n",
    "    sql_command = ''\n",
    "    for line in sql_file:\n",
    "        # Ignore commented lines\n",
    "        if not line.startswith('--') and line.strip('\\n'):\n",
    "            # Append line to the command string\n",
    "            sql_command += line.strip('\\n')\n",
    "            # If the command string ends with ';', it is a full statement\n",
    "            if sql_command.endswith(';'):\n",
    "                # Try to execute statement and commit it\n",
    "                try:\n",
    "                    session.execute(text(sql_command))\n",
    "                    session.commit()\n",
    "                # Assert in case of error\n",
    "                except:\n",
    "                    print('Ops')\n",
    "                # Finally, clear command string\n",
    "                finally:\n",
    "                    sql_command = ''"
   ]
  },
  {
   "cell_type": "markdown",
   "metadata": {},
   "source": [
    "Read schema file"
   ]
  },
  {
   "cell_type": "code",
   "execution_count": 58,
   "metadata": {},
   "outputs": [
    {
     "name": "stdout",
     "output_type": "stream",
     "text": [
      "[sqlalchemy] BEGIN (implicit)\n",
      "[sqlalchemy] CREATE TABLE weather_daily(date Datetime,precipitation FLOAT,windspeed FLOAT);\n",
      "[sqlalchemy] [generated in 0.00116s] ()\n",
      "Ops\n",
      "[sqlalchemy] CREATE TABLE weather_hourly(date Datetime,precipitation FLOAT,windspeed FLOAT);\n",
      "[sqlalchemy] [generated in 0.00112s] ()\n",
      "Ops\n",
      "[sqlalchemy] CREATE TABLE yellow_taxi(pickup_time DATETIME,dropoff_time DATETIME,pickup_longitude FLOAT,pickup_latitude FLOAT,dropoff_longitude FLOAT,dropoff_latitude FLOAT,tip FLOAT,charge FLOAT,distance FLOAT);\n",
      "[sqlalchemy] [generated in 0.00142s] ()\n",
      "Ops\n",
      "[sqlalchemy] CREATE TABLE Uber(charge FLOAT,pickup_time DATETIME,pickup_longitude FLOAT,dropoff_longitude FLOAT,pickup_latitude FLOAT,dropoff_latitude FLOAT,distance FLOAT);\n",
      "[sqlalchemy] [generated in 0.00124s] ()\n",
      "Ops\n"
     ]
    }
   ],
   "source": [
    "readsqlfile('schema.sql')"
   ]
  },
  {
   "cell_type": "code",
   "execution_count": 61,
   "metadata": {},
   "outputs": [
    {
     "name": "stdout",
     "output_type": "stream",
     "text": [
      "[sqlalchemy] PRAGMA main.table_info(\"Uber\")\n",
      "[sqlalchemy] [raw sql] ()\n",
      "[sqlalchemy] PRAGMA main.table_info(\"Uber\")\n",
      "[sqlalchemy] [raw sql] ()\n",
      "[sqlalchemy] SELECT name FROM sqlite_master WHERE type='table' ORDER BY name\n",
      "[sqlalchemy] [raw sql] ()\n",
      "[sqlalchemy] PRAGMA main.table_xinfo(\"Uber\")\n",
      "[sqlalchemy] [raw sql] ()\n",
      "[sqlalchemy] SELECT sql FROM  (SELECT * FROM sqlite_master UNION ALL   SELECT * FROM sqlite_temp_master) WHERE name = ? AND type = 'table'\n",
      "[sqlalchemy] [raw sql] ('Uber',)\n",
      "[sqlalchemy] PRAGMA main.foreign_key_list(\"Uber\")\n",
      "[sqlalchemy] [raw sql] ()\n",
      "[sqlalchemy] PRAGMA temp.foreign_key_list(\"Uber\")\n",
      "[sqlalchemy] [raw sql] ()\n",
      "[sqlalchemy] SELECT sql FROM  (SELECT * FROM sqlite_master UNION ALL   SELECT * FROM sqlite_temp_master) WHERE name = ? AND type = 'table'\n",
      "[sqlalchemy] [raw sql] ('Uber',)\n",
      "[sqlalchemy] PRAGMA main.index_list(\"Uber\")\n",
      "[sqlalchemy] [raw sql] ()\n",
      "[sqlalchemy] PRAGMA temp.index_list(\"Uber\")\n",
      "[sqlalchemy] [raw sql] ()\n",
      "[sqlalchemy] PRAGMA main.index_list(\"Uber\")\n",
      "[sqlalchemy] [raw sql] ()\n",
      "[sqlalchemy] PRAGMA temp.index_list(\"Uber\")\n",
      "[sqlalchemy] [raw sql] ()\n",
      "[sqlalchemy] SELECT sql FROM  (SELECT * FROM sqlite_master UNION ALL   SELECT * FROM sqlite_temp_master) WHERE name = ? AND type = 'table'\n",
      "[sqlalchemy] [raw sql] ('Uber',)\n",
      "[sqlalchemy] BEGIN (implicit)\n",
      "[sqlalchemy] \n",
      "DROP TABLE \"Uber\"\n",
      "[sqlalchemy] [no key 0.00093s] ()\n",
      "[sqlalchemy] COMMIT\n",
      "[sqlalchemy] BEGIN (implicit)\n",
      "[sqlalchemy] \n",
      "CREATE TABLE \"Uber\" (\n",
      "\tcharge FLOAT, \n",
      "\tpickup_time DATETIME, \n",
      "\tpickup_longitude FLOAT, \n",
      "\tpickup_latitude FLOAT, \n",
      "\tdropoff_longitude FLOAT, \n",
      "\tdropoff_latitude FLOAT, \n",
      "\tdistance FLOAT\n",
      ")\n",
      "\n",
      "\n",
      "[sqlalchemy] [no key 0.00156s] ()\n",
      "[sqlalchemy] COMMIT\n",
      "[sqlalchemy] BEGIN (implicit)\n",
      "[sqlalchemy] INSERT INTO \"Uber\" (charge, pickup_time, pickup_longitude, pickup_latitude, dropoff_longitude, dropoff_latitude, distance) VALUES (?, ?, ?, ?, ?, ?, ?)\n",
      "[sqlalchemy] [generated in 2.05132s] ((7.5, '2015-05-07 19:52:06.000000', -73.99981689453125, 40.73835372924805, -73.99951171875, 40.72321701049805, 1.6838511852242786), (7.7, '2009-07-17 20:04:56.000000', -73.994355, 40.728225, -73.99471, 40.750325, 2.458361376443877), (12.9, '2009-08-24 21:45:00.000000', -74.005043, 40.74077, -73.962565, 40.772647, 5.0379582221658445), (5.3, '2009-06-26 08:22:21.000000', -73.976124, 40.790844, -73.965316, 40.803349, 1.6622050981962735), (16.0, '2014-08-28 17:47:00.000000', -73.925023, 40.744085, -73.97308199999998, 40.761247, 4.476854907294362), (24.5, '2014-10-12 07:04:00.000000', -73.96144699999998, 40.69396500000001, -73.871195, 40.774297, 11.734697512601251), (9.7, '2012-02-17 09:32:00.000000', -73.975187, 40.745767, -74.00272, 40.743536999999996, 2.333443299721285), (12.5, '2012-03-29 19:06:00.000000', -74.001065, 40.741787, -73.96304, 40.775012, 4.890951785888044)  ... displaying 10 of 193514 total bound parameter sets ...  (14.5, '2015-05-20 14:56:25.000000', -73.99712371826173, 40.7254524230957, -73.98321533203125, 40.69541549682617, 3.5408266479309387), (14.1, '2010-05-15 04:08:00.000000', -73.98439499999998, 40.720077, -73.985508, 40.768793, 5.419484244981273))\n",
      "[sqlalchemy] COMMIT\n",
      "[sqlalchemy] SELECT name FROM sqlite_master WHERE type='table' ORDER BY name\n",
      "[sqlalchemy] [raw sql] ()\n"
     ]
    }
   ],
   "source": [
    "#add four dataframes into sql tables\n",
    "#DONT EXECUTE TWINCE!!!!!\n",
    "'''\n",
    "uber.to_sql('Uber', engine, if_exists='replace',index = False)\n",
    "taxi.to_sql('yellow_taxi', engine, if_exists='append',index = False)\n",
    "weather_hourly.to_sql('weather_hourly', engine, if_exists='append',index = False)\n",
    "weather_daily.to_sql('weather_daily', engine, if_exists='append',index = False)\n",
    "'''"
   ]
  },
  {
   "cell_type": "markdown",
   "metadata": {},
   "source": [
    "# Understanding Data"
   ]
  },
  {
   "cell_type": "markdown",
   "metadata": {},
   "source": [
    "Simply for test"
   ]
  },
  {
   "cell_type": "code",
   "execution_count": 62,
   "metadata": {},
   "outputs": [
    {
     "name": "stdout",
     "output_type": "stream",
     "text": [
      "[sqlalchemy] SELECT COUNT(*) FROM yellow_taxi\n",
      "[sqlalchemy] [raw sql] ()\n"
     ]
    },
    {
     "data": {
      "text/plain": [
       "[(194376,)]"
      ]
     },
     "execution_count": 62,
     "metadata": {},
     "output_type": "execute_result"
    }
   ],
   "source": [
    "engine.execute(\"SELECT COUNT(*) FROM yellow_taxi\").fetchall()"
   ]
  },
  {
   "cell_type": "code",
   "execution_count": 63,
   "metadata": {},
   "outputs": [],
   "source": [
    "#specifically for the file that only contains one command\n",
    "def readsql(filename):\n",
    "    with engine.connect() as con:\n",
    "        with open(filename) as file:\n",
    "            query = text(file.read())\n",
    "            return engine.execute(query).fetchall()"
   ]
  },
  {
   "cell_type": "markdown",
   "metadata": {},
   "source": [
    "### Question 1"
   ]
  },
  {
   "cell_type": "markdown",
   "metadata": {},
   "source": [
    "For 01-2009 through 06-2015, what hour of the day was the most popular to take a Yellow Taxi? The result should have 24 bins."
   ]
  },
  {
   "cell_type": "code",
   "execution_count": 64,
   "metadata": {},
   "outputs": [
    {
     "name": "stdout",
     "output_type": "stream",
     "text": [
      "[sqlalchemy] SELECT \n",
      "strftime ('%H',pickup_time) as most_popular_hour,\n",
      "Count(*) as times\n",
      "FROM\n",
      "yellow_taxi\n",
      "WHERE\n",
      "pickup_time between '2009-01-01' AND '2015-06-30'\n",
      "GROUP BY strftime ('%H',pickup_time) \n",
      "ORDER BY times DESC\n",
      "LIMIT 1;\n",
      "[sqlalchemy] [generated in 0.00144s] ()\n"
     ]
    },
    {
     "data": {
      "text/plain": [
       "[('19', 11260)]"
      ]
     },
     "execution_count": 64,
     "metadata": {},
     "output_type": "execute_result"
    }
   ],
   "source": [
    "readsql('most_popular_hour.sql')"
   ]
  },
  {
   "cell_type": "markdown",
   "metadata": {},
   "source": [
    "### Question 2"
   ]
  },
  {
   "cell_type": "markdown",
   "metadata": {},
   "source": [
    "For the same time frame, what day of the week was the most popular to take an Uber? The result should have 7 bins."
   ]
  },
  {
   "cell_type": "code",
   "execution_count": 65,
   "metadata": {},
   "outputs": [
    {
     "name": "stdout",
     "output_type": "stream",
     "text": [
      "[sqlalchemy] SELECT \n",
      "strftime ('%w',pickup_time) as most_popular_day,\n",
      "Count(*) as times\n",
      "FROM\n",
      "Uber\n",
      "WHERE\n",
      "pickup_time between '2009-01-01' AND '2015-06-30'\n",
      "GROUP BY strftime ('%w',pickup_time) \n",
      "ORDER BY times DESC\n",
      "LIMIT 1;\n",
      "[sqlalchemy] [generated in 0.00138s] ()\n"
     ]
    },
    {
     "data": {
      "text/plain": [
       "[('5', 29845)]"
      ]
     },
     "execution_count": 65,
     "metadata": {},
     "output_type": "execute_result"
    }
   ],
   "source": [
    "readsql('most_popular_day.sql')"
   ]
  },
  {
   "cell_type": "markdown",
   "metadata": {},
   "source": [
    "So it is Friday! "
   ]
  },
  {
   "cell_type": "markdown",
   "metadata": {},
   "source": [
    "### Question 3"
   ]
  },
  {
   "cell_type": "markdown",
   "metadata": {},
   "source": [
    "What is the 95% percentile of distance traveled for all hired trips during July 2013?\n"
   ]
  },
  {
   "cell_type": "code",
   "execution_count": 69,
   "metadata": {
    "scrolled": true
   },
   "outputs": [
    {
     "name": "stdout",
     "output_type": "stream",
     "text": [
      "[sqlalchemy] select \n",
      "t_1.distance as '95percentile'\n",
      "\n",
      "from \n",
      "\n",
      "(\n",
      "select \n",
      "distance\n",
      "\n",
      "from \n",
      "yellow_taxi\n",
      "\n",
      "where \n",
      "pickup_time between '2013-07-01' and '2013-07-31'\n",
      "\n",
      "union \n",
      "\n",
      "select \n",
      "distance\n",
      "\n",
      "from \n",
      "Uber\n",
      "\n",
      "where \n",
      "pickup_time between '2013-07-01' and '2013-07-31'\n",
      "\n",
      ")t_1\n",
      "\n",
      "order by t_1.distance asc\n",
      "\n",
      "limit 1\n",
      "\n",
      "offset \n",
      "\n",
      "(select\n",
      "\n",
      "count(*)\n",
      "\n",
      "from \n",
      "\n",
      "(select \n",
      "distance\n",
      "\n",
      "from \n",
      "yellow_taxi\n",
      "\n",
      "where \n",
      "pickup_time between '2013-07-01' and '2013-07-31'\n",
      "\n",
      "union \n",
      "\n",
      "select \n",
      "distance\n",
      "\n",
      "from \n",
      "Uber\n",
      "\n",
      "where \n",
      "pickup_time between '2013-07-01' and '2013-07-31'\n",
      "\n",
      ")\n",
      "\n",
      ") * 95 / 100 -1\n",
      "\n",
      "\n",
      "\n",
      "\n",
      "\n",
      "\n",
      "\n",
      "\n",
      "\n",
      "[sqlalchemy] [generated in 0.00137s] ()\n"
     ]
    },
    {
     "data": {
      "text/plain": [
       "[(10.430214496267117,)]"
      ]
     },
     "execution_count": 69,
     "metadata": {},
     "output_type": "execute_result"
    }
   ],
   "source": [
    "readsql('95distance.sql')"
   ]
  },
  {
   "cell_type": "markdown",
   "metadata": {},
   "source": [
    "### Question 4"
   ]
  },
  {
   "cell_type": "markdown",
   "metadata": {},
   "source": [
    "What were the top 10 days with the highest number of hired rides for 2009, and what was the average distance for each day?\n"
   ]
  },
  {
   "cell_type": "code",
   "execution_count": 70,
   "metadata": {
    "scrolled": true
   },
   "outputs": [
    {
     "name": "stdout",
     "output_type": "stream",
     "text": [
      "[sqlalchemy] \n",
      "select \n",
      "t_1.date as date,\n",
      "t_1.sum_distance/t_1.total_trips as avg_distance\n",
      "\n",
      "from \n",
      "\n",
      "(select \n",
      "\n",
      "t_0.date as date,\n",
      "sum(t_0.total_trips) as total_trips,\n",
      "sum(t_0.sum_distance) as sum_distance\n",
      "\n",
      "from \n",
      "\n",
      "(select \n",
      "strftime ('%Y-%m-%d',pickup_time) as date,\n",
      "count(*) as total_trips,\n",
      "sum(distance) as sum_distance\n",
      "\n",
      "from \n",
      "yellow_taxi\n",
      "\n",
      "where \n",
      "pickup_time between '2009-01-01' and '2009-12-31'\n",
      "\n",
      "group by \n",
      "strftime ('%Y-%m-%d',pickup_time)\n",
      "\n",
      "union \n",
      "\n",
      "select \n",
      "strftime ('%Y-%m-%d',pickup_time) as date,\n",
      "count(*) as total_trips,\n",
      "sum(distance) as sum_distance\n",
      "\n",
      "from \n",
      "Uber\n",
      "\n",
      "where \n",
      "pickup_time between '2009-01-01' and '2009-12-31'\n",
      "\n",
      "group by \n",
      "strftime ('%Y-%m-%d',pickup_time)\n",
      "\n",
      ")t_0\n",
      "\n",
      "group by \n",
      "t_0.date \n",
      "\n",
      ")t_1\n",
      "\n",
      "group by \n",
      "t_1.date\n",
      "\n",
      "order by \n",
      "sum(t_1.total_trips) desc\n",
      "\n",
      "limit 10\n",
      "\n",
      "[sqlalchemy] [generated in 0.00193s] ()\n"
     ]
    },
    {
     "data": {
      "text/plain": [
       "[('2009-01-31', 3.1723376976203417),\n",
       " ('2009-02-20', 2.823091120426029),\n",
       " ('2009-10-23', 3.0628925035762835),\n",
       " ('2009-12-11', 2.9114611759106923),\n",
       " ('2009-04-04', 2.776783009971274),\n",
       " ('2009-04-18', 3.1620424353469443),\n",
       " ('2009-08-14', 3.3734259374997215),\n",
       " ('2009-04-16', 3.184384713772887),\n",
       " ('2009-09-10', 3.0473132207593467),\n",
       " ('2009-12-05', 3.029545346863937)]"
      ]
     },
     "execution_count": 70,
     "metadata": {},
     "output_type": "execute_result"
    }
   ],
   "source": [
    "readsql('top10days.sql')"
   ]
  },
  {
   "cell_type": "markdown",
   "metadata": {},
   "source": [
    "### Question 5"
   ]
  },
  {
   "cell_type": "markdown",
   "metadata": {},
   "source": [
    "Which 10 days in 2014 were the windiest on average, and how many hired trips were made on those days?"
   ]
  },
  {
   "cell_type": "code",
   "execution_count": 71,
   "metadata": {
    "scrolled": true
   },
   "outputs": [
    {
     "name": "stdout",
     "output_type": "stream",
     "text": [
      "[sqlalchemy] \n",
      "select \n",
      "t_1.date as date,\n",
      "sum(t_2.total_trips) as total_trips\n",
      "\n",
      "from \n",
      "\n",
      "(select \n",
      "strftime ('%Y-%m-%d',date) as date,\n",
      "windspeed\n",
      "\n",
      "from \n",
      "weather_daily\n",
      "\n",
      "where \n",
      "date between '2014-01-01' and '2014-12-31'\n",
      ")t_1\n",
      "\n",
      "left join \n",
      "\n",
      "(select \n",
      "strftime ('%Y-%m-%d',pickup_time) as date,\n",
      "count(*) as total_trips\n",
      "\n",
      "from \n",
      "yellow_taxi\n",
      "\n",
      "where \n",
      "pickup_time between '2014-01-01' and '2014-12-31'\n",
      "\n",
      "group by \n",
      "strftime ('%Y-%m-%d',pickup_time)\n",
      "\n",
      "union \n",
      "\n",
      "select \n",
      "strftime ('%Y-%m-%d',pickup_time) as date,\n",
      "count(*) as total_trips\n",
      "\n",
      "from \n",
      "Uber\n",
      "\n",
      "where \n",
      "pickup_time between '2014-01-01' and '2014-12-31'\n",
      "\n",
      "group by \n",
      "strftime ('%Y-%m-%d',pickup_time)\n",
      ")t_2\n",
      "\n",
      "on \n",
      "t_1.date = t_2.date\n",
      "\n",
      "group by \n",
      "t_1.date\n",
      "\n",
      "order by \n",
      "t_1.windspeed desc \n",
      "\n",
      "limit 10\n",
      "\n",
      "\n",
      "\n",
      "[sqlalchemy] [generated in 0.00146s] ()\n"
     ]
    },
    {
     "data": {
      "text/plain": [
       "[('2014-03-13', 191),\n",
       " ('2014-01-07', 146),\n",
       " ('2014-01-02', 116),\n",
       " ('2014-02-13', 116),\n",
       " ('2014-03-29', 201),\n",
       " ('2014-12-07', 165),\n",
       " ('2014-12-09', 154),\n",
       " ('2014-12-08', 159),\n",
       " ('2014-03-26', 174),\n",
       " ('2014-01-03', 83)]"
      ]
     },
     "execution_count": 71,
     "metadata": {},
     "output_type": "execute_result"
    }
   ],
   "source": [
    "readsql('top10windspeed.sql')"
   ]
  },
  {
   "cell_type": "markdown",
   "metadata": {},
   "source": [
    "## Question 6"
   ]
  },
  {
   "cell_type": "markdown",
   "metadata": {},
   "source": [
    "During Hurricane Sandy in NYC (Oct 29-30, 2012), plus the week leading up and the week after, how many trips were taken each hour, and for each hour, how much precipitation did NYC receive and what was the sustained wind speed? There should be an entry for every single hour, even if no rides were taken, no precipitation was measured, or there was no wind."
   ]
  },
  {
   "cell_type": "code",
   "execution_count": 108,
   "metadata": {
    "scrolled": true
   },
   "outputs": [
    {
     "name": "stdout",
     "output_type": "stream",
     "text": [
      "[sqlalchemy] \n",
      "select \n",
      "t_1.date as date,\n",
      "t_1.hour as hour,\n",
      "t_1.precipitation as precipitation,\n",
      "t_1.windspeed as windspeed,\n",
      "sum(t_2.total_trips) as total_trips\n",
      "\n",
      "from \n",
      "\n",
      "(select \n",
      "strftime ('%Y-%m-%d',date) as date,\n",
      "strftime ('%H',date) as hour,\n",
      "precipitation,\n",
      "windspeed\n",
      "\n",
      "from\n",
      "weather_hourly \n",
      "\n",
      "where \n",
      "date between '2012-10-22' and '2012-11-06'\n",
      "\n",
      "group by \n",
      "strftime ('%Y-%m-%d',date),\n",
      "strftime ('%H',date),\n",
      "precipitation,\n",
      "windspeed\n",
      ")t_1\n",
      "\n",
      "left join \n",
      "\n",
      "(select \n",
      "strftime ('%Y-%m-%d',pickup_time) as date,\n",
      "strftime ('%H',pickup_time) as hour,\n",
      "count(*) as total_trips\n",
      "\n",
      "from \n",
      "yellow_taxi\n",
      "\n",
      "where \n",
      "pickup_time between '2012-10-22' and '2012-11-06'\n",
      "\n",
      "group by \n",
      "strftime ('%Y-%m-%d',pickup_time),\n",
      "strftime ('%H',pickup_time) \n",
      "\n",
      "union \n",
      "\n",
      "select \n",
      "strftime ('%Y-%m-%d',pickup_time) as date,\n",
      "strftime ('%H',pickup_time) as hour,\n",
      "count(*) as total_trips\n",
      "\n",
      "from \n",
      "Uber\n",
      "\n",
      "where \n",
      "pickup_time between '2012-10-22' and '2012-11-06'\n",
      "\n",
      "group by \n",
      "strftime ('%Y-%m-%d',pickup_time),\n",
      "strftime ('%H',pickup_time)\n",
      "\n",
      ")t_2\n",
      "\n",
      "on \n",
      "t_1.date = t_2.date\n",
      "and \n",
      "t_1.hour = t_2.hour\n",
      "\n",
      "group by \n",
      "t_1.date,\n",
      "t_1.hour,\n",
      "t_1.precipitation,\n",
      "t_1.windspeed\n",
      "\n",
      "\n",
      "\n",
      "[sqlalchemy] [generated in 0.00160s] ()\n"
     ]
    },
    {
     "data": {
      "text/plain": [
       "[('2012-10-22', '00', 0.0, 7.0, 2),\n",
       " ('2012-10-22', '01', 0.0, 5.0, None),\n",
       " ('2012-10-22', '02', 0.0, 7.0, 1),\n",
       " ('2012-10-22', '03', 0.0, 0.0, 1),\n",
       " ('2012-10-22', '04', 0.0, 0.0, None),\n",
       " ('2012-10-22', '05', 0.0, 0.0, 3),\n",
       " ('2012-10-22', '06', 0.0, 5.0, 7),\n",
       " ('2012-10-22', '07', 0.0, 3.0, 6),\n",
       " ('2012-10-22', '08', 0.0, 3.0, 8),\n",
       " ('2012-10-22', '09', 0.0, 5.0, 8),\n",
       " ('2012-10-22', '10', 0.0, 0.0, 3),\n",
       " ('2012-10-22', '11', 0.0, 0.0, 12),\n",
       " ('2012-10-22', '12', 0.0, 11.0, 9),\n",
       " ('2012-10-22', '13', 0.0, 0.0, 14),\n",
       " ('2012-10-22', '14', 0.0, 7.0, 7),\n",
       " ('2012-10-22', '15', 0.0, 6.0, 4),\n",
       " ('2012-10-22', '16', 0.0, 3.0, 9),\n",
       " ('2012-10-22', '17', 0.0, 7.0, 5),\n",
       " ('2012-10-22', '18', 0.0, 5.0, 12),\n",
       " ('2012-10-22', '19', 0.0, 5.0, 8),\n",
       " ('2012-10-22', '20', 0.0, 3.0, 7),\n",
       " ('2012-10-22', '21', 0.0, 0.0, 6),\n",
       " ('2012-10-22', '22', 0.0, 3.0, 9),\n",
       " ('2012-10-22', '23', 0.0, 3.0, 1),\n",
       " ('2012-10-23', '00', 0.0, 3.0, 3),\n",
       " ('2012-10-23', '01', 0.0, 0.0, 3),\n",
       " ('2012-10-23', '02', 0.0, 3.0, None),\n",
       " ('2012-10-23', '03', 0.0, 0.0, None),\n",
       " ('2012-10-23', '04', 0.0, 3.0, 1),\n",
       " ('2012-10-23', '05', 0.0, 0.0, 2),\n",
       " ('2012-10-23', '06', 0.0, 0.0, 3),\n",
       " ('2012-10-23', '07', 0.0, 0.0, 9),\n",
       " ('2012-10-23', '08', 0.0, 0.0, 11),\n",
       " ('2012-10-23', '09', 0.0, 3.0, 8),\n",
       " ('2012-10-23', '10', 0.0, 0.0, 9),\n",
       " ('2012-10-23', '11', 0.0, 3.0, 9),\n",
       " ('2012-10-23', '12', 0.0, 0.0, 6),\n",
       " ('2012-10-23', '13', 0.0, 0.0, 9),\n",
       " ('2012-10-23', '14', 0.0, 0.0, 15),\n",
       " ('2012-10-23', '15', 0.0, 0.0, 9),\n",
       " ('2012-10-23', '16', 0.0, 3.0, 4),\n",
       " ('2012-10-23', '18', 0.0, 5.0, 5),\n",
       " ('2012-10-23', '19', 0.0, 0.0, 8),\n",
       " ('2012-10-23', '20', 0.02, 0.0, 11),\n",
       " ('2012-10-23', '21', 0.0, 5.0, 11),\n",
       " ('2012-10-23', '22', 0.01, 0.0, 7),\n",
       " ('2012-10-23', '23', 0.0, 5.0, 8),\n",
       " ('2012-10-24', '00', 0.0, 3.0, None),\n",
       " ('2012-10-24', '01', 0.0, 6.0, 1),\n",
       " ('2012-10-24', '02', 0.0, 5.0, 4),\n",
       " ('2012-10-24', '03', 0.0, 7.0, None),\n",
       " ('2012-10-24', '04', 0.0, 7.0, None),\n",
       " ('2012-10-24', '05', 0.0, 6.0, 3),\n",
       " ('2012-10-24', '06', 0.0, 5.0, 2),\n",
       " ('2012-10-24', '07', 0.0, 5.0, 1),\n",
       " ('2012-10-24', '08', 0.0, 0.0, 8),\n",
       " ('2012-10-24', '09', 0.0, 0.0, 11),\n",
       " ('2012-10-24', '10', 0.0, 7.0, 5),\n",
       " ('2012-10-24', '11', 0.0, 7.0, 10),\n",
       " ('2012-10-24', '12', 0.0, 8.0, 5),\n",
       " ('2012-10-24', '13', 0.0, 8.0, 10),\n",
       " ('2012-10-24', '14', 0.0, 6.0, 6),\n",
       " ('2012-10-24', '15', 0.0, 7.0, 4),\n",
       " ('2012-10-24', '16', 0.0, 8.0, 2),\n",
       " ('2012-10-24', '17', 0.0, 5.0, 7),\n",
       " ('2012-10-24', '18', 0.0, 7.0, 10),\n",
       " ('2012-10-24', '19', 0.0, 8.0, 5),\n",
       " ('2012-10-24', '20', 0.0, 0.0, 10),\n",
       " ('2012-10-24', '21', 0.0, 3.0, 11),\n",
       " ('2012-10-24', '22', 0.0, 5.0, 7),\n",
       " ('2012-10-24', '23', 0.0, 0.0, 8),\n",
       " ('2012-10-25', '00', 0.0, 6.0, 8),\n",
       " ('2012-10-25', '01', 0.0, 3.0, 3),\n",
       " ('2012-10-25', '02', 0.0, 3.0, 3),\n",
       " ('2012-10-25', '03', 0.0, 6.0, None),\n",
       " ('2012-10-25', '04', 0.0, 6.0, 1),\n",
       " ('2012-10-25', '05', 0.0, 0.0, 2),\n",
       " ('2012-10-25', '06', 0.0, 5.0, 7),\n",
       " ('2012-10-25', '07', 0.0, 6.0, 9),\n",
       " ('2012-10-25', '08', 0.0, 5.0, 13),\n",
       " ('2012-10-25', '09', 0.0, 3.0, 8),\n",
       " ('2012-10-25', '10', 0.0, 6.0, 6),\n",
       " ('2012-10-25', '11', 0.0, 0.0, 9),\n",
       " ('2012-10-25', '12', 0.0, 6.0, 10),\n",
       " ('2012-10-25', '13', 0.0, 0.0, 8),\n",
       " ('2012-10-25', '14', 0.0, 5.0, 7),\n",
       " ('2012-10-25', '15', 0.0, 5.0, 13),\n",
       " ('2012-10-25', '16', 0.0, 0.0, 5),\n",
       " ('2012-10-25', '17', 0.0, 3.0, 7),\n",
       " ('2012-10-25', '18', 0.0, 0.0, 7),\n",
       " ('2012-10-25', '19', 0.0, 0.0, 10),\n",
       " ('2012-10-25', '20', 0.0, 3.0, 19),\n",
       " ('2012-10-25', '21', 0.0, 3.0, 15),\n",
       " ('2012-10-25', '22', 0.0, 3.0, 11),\n",
       " ('2012-10-25', '23', 0.0, 0.0, 3),\n",
       " ('2012-10-26', '00', 0.0, 0.0, 3),\n",
       " ('2012-10-26', '01', 0.0, 0.0, 6),\n",
       " ('2012-10-26', '02', 0.0, 0.0, 5),\n",
       " ('2012-10-26', '03', 0.0, 3.0, 2),\n",
       " ('2012-10-26', '04', 0.0, 0.0, 5),\n",
       " ('2012-10-26', '05', 0.0, 0.0, 1),\n",
       " ('2012-10-26', '06', 0.0, 0.0, 1),\n",
       " ('2012-10-26', '07', 0.0, 3.0, 7),\n",
       " ('2012-10-26', '08', 0.0, 3.0, 5),\n",
       " ('2012-10-26', '09', 0.0, 3.0, 12),\n",
       " ('2012-10-26', '10', 0.0, 3.0, 6),\n",
       " ('2012-10-26', '11', 0.0, 3.0, 4),\n",
       " ('2012-10-26', '12', 0.0, 0.0, 2),\n",
       " ('2012-10-26', '13', 0.0, 3.0, 8),\n",
       " ('2012-10-26', '14', 0.0, 3.0, 5),\n",
       " ('2012-10-26', '15', 0.0, 0.0, 3),\n",
       " ('2012-10-26', '16', 0.0, 0.0, 6),\n",
       " ('2012-10-26', '17', 0.0, 0.0, 3),\n",
       " ('2012-10-26', '18', 0.0, 0.0, 3),\n",
       " ('2012-10-26', '19', 0.0, 0.0, 11),\n",
       " ('2012-10-26', '20', 0.0, 3.0, 14),\n",
       " ('2012-10-26', '21', 0.0, 3.0, 4),\n",
       " ('2012-10-26', '22', 0.0, 0.0, 15),\n",
       " ('2012-10-26', '23', 0.0, 0.0, 6),\n",
       " ('2012-10-27', '00', 0.0, 3.0, 13),\n",
       " ('2012-10-27', '01', 0.0, 0.0, 7),\n",
       " ('2012-10-27', '02', 0.0, 3.0, 9),\n",
       " ('2012-10-27', '03', 0.0, 0.0, 9),\n",
       " ('2012-10-27', '04', 0.0, 6.0, 3),\n",
       " ('2012-10-27', '05', 0.0, 6.0, 2),\n",
       " ('2012-10-27', '06', 0.0, 6.0, 3),\n",
       " ('2012-10-27', '07', 0.0, 5.0, 1),\n",
       " ('2012-10-27', '08', 0.0, 5.0, 4),\n",
       " ('2012-10-27', '09', 0.0, 6.0, 7),\n",
       " ('2012-10-27', '10', 0.0, 7.0, 8),\n",
       " ('2012-10-27', '11', 0.0, 5.0, 4),\n",
       " ('2012-10-27', '12', 0.0, 8.0, 7),\n",
       " ('2012-10-27', '13', 0.0, 8.0, 9),\n",
       " ('2012-10-27', '14', 0.0, 10.0, 4),\n",
       " ('2012-10-27', '15', 0.0, 10.0, 9),\n",
       " ('2012-10-27', '16', 0.0, 7.0, 8),\n",
       " ('2012-10-27', '17', 0.0, 7.0, 14),\n",
       " ('2012-10-27', '18', 0.0, 7.0, 10),\n",
       " ('2012-10-27', '19', 0.0, 8.0, 11),\n",
       " ('2012-10-27', '20', 0.0, 7.0, 10),\n",
       " ('2012-10-27', '21', 0.0, 9.0, 9),\n",
       " ('2012-10-27', '22', 0.0, 9.0, 15),\n",
       " ('2012-10-27', '23', 0.0, 8.0, 13),\n",
       " ('2012-10-28', '00', 0.0, 11.0, 10),\n",
       " ('2012-10-28', '01', 0.0, 8.0, 10),\n",
       " ('2012-10-28', '02', 0.0, 8.0, 11),\n",
       " ('2012-10-28', '03', 0.0, 9.0, 7),\n",
       " ('2012-10-28', '04', 0.0, 10.0, 10),\n",
       " ('2012-10-28', '05', 0.0, 11.0, 4),\n",
       " ('2012-10-28', '06', 0.0, 10.0, None),\n",
       " ('2012-10-28', '07', 0.0, 11.0, 2),\n",
       " ('2012-10-28', '08', 0.0, 11.0, 1),\n",
       " ('2012-10-28', '09', 0.0, 11.0, 6),\n",
       " ('2012-10-28', '10', 0.0, 10.0, 2),\n",
       " ('2012-10-28', '11', 0.0, 8.0, 9),\n",
       " ('2012-10-28', '12', 0.0, 7.0, 3),\n",
       " ('2012-10-28', '13', 0.0, 13.0, 7),\n",
       " ('2012-10-28', '14', 0.0, 13.0, 9),\n",
       " ('2012-10-28', '15', 0.0, 13.0, 9),\n",
       " ('2012-10-28', '16', 0.0, 16.0, 4),\n",
       " ('2012-10-28', '17', 0.0, 11.0, 9),\n",
       " ('2012-10-28', '18', 0.0, 15.0, 7),\n",
       " ('2012-10-28', '19', 0.0, 14.0, 5),\n",
       " ('2012-10-28', '20', 0.0, 16.0, 6),\n",
       " ('2012-10-28', '21', 0.0, 14.0, 4),\n",
       " ('2012-10-28', '22', 0.0, 16.0, 7),\n",
       " ('2012-10-28', '23', 0.0, 14.0, 3),\n",
       " ('2012-10-29', '00', 0.0, 16.0, 3),\n",
       " ('2012-10-29', '01', 0.0, 11.0, 2),\n",
       " ('2012-10-29', '02', 0.0, 13.0, 1),\n",
       " ('2012-10-29', '03', 0.0, 17.0, None),\n",
       " ('2012-10-29', '04', 0.0, 15.0, 1),\n",
       " ('2012-10-29', '05', 0.0, 15.0, None),\n",
       " ('2012-10-29', '06', 0.02, 16.0, 1),\n",
       " ('2012-10-29', '07', 0.02, 17.0, 3),\n",
       " ('2012-10-29', '08', 0.0, 21.0, None),\n",
       " ('2012-10-29', '09', 0.0, 16.0, 1),\n",
       " ('2012-10-29', '10', 0.0, 0.0, 1),\n",
       " ('2012-10-29', '11', 0.0, 21.0, 4),\n",
       " ('2012-10-29', '12', 0.02, 15.0, 5),\n",
       " ('2012-10-29', '13', 0.02, 24.0, 1),\n",
       " ('2012-10-29', '14', 0.03, 23.0, 3),\n",
       " ('2012-10-29', '15', 0.07, 26.0, 2),\n",
       " ('2012-10-29', '16', 0.1, 23.0, 1),\n",
       " ('2012-10-29', '17', 0.04, 29.0, 1),\n",
       " ('2012-10-29', '18', 0.02, 21.0, 3),\n",
       " ('2012-10-29', '19', 0.01, 25.0, None),\n",
       " ('2012-10-29', '20', 0.0, 17.0, None),\n",
       " ('2012-10-29', '21', 0.0, 15.0, 1),\n",
       " ('2012-10-29', '22', 0.02, 9.0, None),\n",
       " ('2012-10-29', '23', 0.03, 7.0, None),\n",
       " ('2012-10-30', '00', 0.03, 13.0, 1),\n",
       " ('2012-10-30', '01', 0.0, 13.0, None),\n",
       " ('2012-10-30', '02', 0.03, 9.0, None),\n",
       " ('2012-10-30', '03', 0.04, 17.0, None),\n",
       " ('2012-10-30', '04', 0.0, 9.0, 1),\n",
       " ('2012-10-30', '05', 0.01, 7.0, None),\n",
       " ('2012-10-30', '06', 0.01, 7.0, None),\n",
       " ('2012-10-30', '07', 0.0, 10.0, 1),\n",
       " ('2012-10-30', '08', 0.01, 11.0, None),\n",
       " ('2012-10-30', '09', 0.01, 15.0, 2),\n",
       " ('2012-10-30', '10', 0.02, 8.0, 3),\n",
       " ('2012-10-30', '11', 0.0, 7.0, 3),\n",
       " ('2012-10-30', '12', 0.0, 9.0, 3),\n",
       " ('2012-10-30', '13', 0.0, 7.0, 3),\n",
       " ('2012-10-30', '14', 0.0, 0.0, 3),\n",
       " ('2012-10-30', '15', 0.0, 0.0, 7),\n",
       " ('2012-10-30', '16', 0.01, 3.0, 3),\n",
       " ('2012-10-30', '17', 0.0, 6.0, 8),\n",
       " ('2012-10-30', '18', 0.0, 5.0, 2),\n",
       " ('2012-10-30', '19', 0.0, 3.0, 12),\n",
       " ('2012-10-30', '20', 0.0, 0.0, 3),\n",
       " ('2012-10-30', '21', 0.0, 5.0, 2),\n",
       " ('2012-10-30', '22', 0.0, 7.0, 4),\n",
       " ('2012-10-30', '23', 0.0, 5.0, 2),\n",
       " ('2012-10-31', '00', 0.0, 3.0, 1),\n",
       " ('2012-10-31', '01', 0.01, 5.0, None),\n",
       " ('2012-10-31', '02', 0.0, 0.0, 4),\n",
       " ('2012-10-31', '03', 0.0, 8.0, None),\n",
       " ('2012-10-31', '04', 0.0, 0.0, None),\n",
       " ('2012-10-31', '05', 0.0, 0.0, None),\n",
       " ('2012-10-31', '06', 0.0, 6.0, 3),\n",
       " ('2012-10-31', '07', 0.0, 0.0, 5),\n",
       " ('2012-10-31', '08', 0.0, 6.0, 4),\n",
       " ('2012-10-31', '09', 0.0, 6.0, 5),\n",
       " ('2012-10-31', '10', 0.0, 5.0, 5),\n",
       " ('2012-10-31', '11', 0.0, 5.0, 8),\n",
       " ('2012-10-31', '12', 0.0, 9.0, 2),\n",
       " ('2012-10-31', '13', 0.0, 6.0, 6),\n",
       " ('2012-10-31', '14', 0.0, 5.0, 4),\n",
       " ('2012-10-31', '15', 0.0, 3.0, 7),\n",
       " ('2012-10-31', '16', 0.0, 5.0, 1),\n",
       " ('2012-10-31', '17', 0.0, 5.0, 6),\n",
       " ('2012-10-31', '18', 0.0, 3.0, 11),\n",
       " ('2012-10-31', '19', 0.0, 9.0, 9),\n",
       " ('2012-10-31', '20', 0.0, 7.0, 5),\n",
       " ('2012-10-31', '21', 0.0, 7.0, 6),\n",
       " ('2012-10-31', '22', 0.0, 6.0, 4),\n",
       " ('2012-10-31', '23', 0.0, 3.0, 7),\n",
       " ('2012-11-01', '00', 0.0, 3.0, 2),\n",
       " ('2012-11-01', '01', 0.0, 3.0, 2),\n",
       " ('2012-11-01', '02', 0.0, 3.0, 1),\n",
       " ('2012-11-01', '03', 0.0, 0.0, 3),\n",
       " ('2012-11-01', '04', 0.0, 7.0, 1),\n",
       " ('2012-11-01', '05', 0.0, 6.0, 1),\n",
       " ('2012-11-01', '06', 0.0, 13.0, 1),\n",
       " ('2012-11-01', '07', 0.0, 0.0, 5),\n",
       " ('2012-11-01', '08', 0.0, 7.0, 2),\n",
       " ('2012-11-01', '09', 0.0, 3.0, 7),\n",
       " ('2012-11-01', '10', 0.0, 6.0, 8),\n",
       " ('2012-11-01', '11', 0.0, 6.0, 7),\n",
       " ('2012-11-01', '12', 0.0, 11.0, 6),\n",
       " ('2012-11-01', '13', 0.0, 8.0, 2),\n",
       " ('2012-11-01', '14', 0.0, 8.0, 5),\n",
       " ('2012-11-01', '15', 0.0, 0.0, 5),\n",
       " ('2012-11-01', '16', 0.0, 5.0, 3),\n",
       " ('2012-11-01', '17', 0.0, 5.0, 5),\n",
       " ('2012-11-01', '18', 0.0, 9.0, 9),\n",
       " ('2012-11-01', '19', 0.0, 3.0, 8),\n",
       " ('2012-11-01', '20', 0.0, 5.0, 10),\n",
       " ('2012-11-01', '21', 0.0, 8.0, 1),\n",
       " ('2012-11-01', '22', 0.0, 5.0, 5),\n",
       " ('2012-11-01', '23', 0.0, 0.0, 4),\n",
       " ('2012-11-02', '00', 0.0, 5.0, 5),\n",
       " ('2012-11-02', '01', 0.0, 7.0, 2),\n",
       " ('2012-11-02', '02', 0.0, 3.0, 2),\n",
       " ('2012-11-02', '03', 0.0, 3.0, 1),\n",
       " ('2012-11-02', '04', 0.0, 5.0, 1),\n",
       " ('2012-11-02', '05', 0.0, 5.0, 1),\n",
       " ('2012-11-02', '06', 0.0, 6.0, 1),\n",
       " ('2012-11-02', '07', 0.0, 0.0, 5),\n",
       " ('2012-11-02', '08', 0.0, 5.0, 5),\n",
       " ('2012-11-02', '09', 0.0, 7.0, 4),\n",
       " ('2012-11-02', '10', 0.0, 9.0, 3),\n",
       " ('2012-11-02', '11', 0.0, 7.0, 5),\n",
       " ('2012-11-02', '12', 0.0, 7.0, 3),\n",
       " ('2012-11-02', '13', 0.0, 6.0, 3),\n",
       " ('2012-11-02', '14', 0.0, 6.0, 5),\n",
       " ('2012-11-02', '15', 0.0, 5.0, 10),\n",
       " ('2012-11-02', '16', 0.0, 11.0, 5),\n",
       " ('2012-11-02', '17', 0.0, 8.0, 1),\n",
       " ('2012-11-02', '18', 0.0, 9.0, 1),\n",
       " ('2012-11-02', '19', 0.0, 7.0, 4),\n",
       " ('2012-11-02', '20', 0.0, 9.0, 7),\n",
       " ('2012-11-02', '21', 0.0, 7.0, 8),\n",
       " ('2012-11-02', '22', 0.0, 8.0, 7),\n",
       " ('2012-11-02', '23', 0.0, 8.0, 4),\n",
       " ('2012-11-03', '00', 0.0, 7.0, 12),\n",
       " ('2012-11-03', '01', 0.0, 7.0, 1),\n",
       " ('2012-11-03', '02', 0.0, 7.0, 8),\n",
       " ('2012-11-03', '03', 0.0, 7.0, 1),\n",
       " ('2012-11-03', '04', 0.0, 8.0, 2),\n",
       " ('2012-11-03', '05', 0.0, 8.0, 3),\n",
       " ('2012-11-03', '06', 0.0, 7.0, 1),\n",
       " ('2012-11-03', '07', 0.0, 6.0, 1),\n",
       " ('2012-11-03', '08', 0.0, 10.0, 1),\n",
       " ('2012-11-03', '09', 0.0, 13.0, 4),\n",
       " ('2012-11-03', '10', 0.0, 6.0, 5),\n",
       " ('2012-11-03', '11', 0.0, 13.0, 9),\n",
       " ('2012-11-03', '12', 0.0, 13.0, 9),\n",
       " ('2012-11-03', '13', 0.0, 8.0, 8),\n",
       " ('2012-11-03', '14', 0.0, 8.0, 9),\n",
       " ('2012-11-03', '15', 0.0, 7.0, 3),\n",
       " ('2012-11-03', '16', 0.0, 10.0, 5),\n",
       " ('2012-11-03', '17', 0.0, 9.0, 8),\n",
       " ('2012-11-03', '18', 0.0, 9.0, 14),\n",
       " ('2012-11-03', '19', 0.0, 13.0, 5),\n",
       " ('2012-11-03', '20', 0.0, 10.0, 9),\n",
       " ('2012-11-03', '21', 0.0, 9.0, 15),\n",
       " ('2012-11-03', '22', 0.0, 0.0, 5),\n",
       " ('2012-11-03', '23', 0.0, 7.0, 12),\n",
       " ('2012-11-04', '00', 0.0, 9.0, 10),\n",
       " ('2012-11-04', '01', 0.0, 7.0, 9),\n",
       " ('2012-11-04', '02', 0.0, 7.0, 8),\n",
       " ('2012-11-04', '03', 0.0, 7.0, 3),\n",
       " ('2012-11-04', '04', 0.0, 8.0, 3),\n",
       " ('2012-11-04', '05', 0.0, 6.0, 1),\n",
       " ('2012-11-04', '06', 0.0, 6.0, None),\n",
       " ('2012-11-04', '07', 0.0, 3.0, 3),\n",
       " ('2012-11-04', '08', 0.0, 7.0, 2),\n",
       " ('2012-11-04', '09', 0.0, 9.0, 1),\n",
       " ('2012-11-04', '10', 0.0, 0.0, 2),\n",
       " ('2012-11-04', '11', 0.0, 6.0, 6),\n",
       " ('2012-11-04', '12', 0.0, 8.0, 9),\n",
       " ('2012-11-04', '13', 0.0, 8.0, 4),\n",
       " ('2012-11-04', '14', 0.0, 7.0, 3),\n",
       " ('2012-11-04', '15', 0.0, 7.0, 2),\n",
       " ('2012-11-04', '16', 0.0, 5.0, 8),\n",
       " ('2012-11-04', '17', 0.0, 5.0, 9),\n",
       " ('2012-11-04', '18', 0.0, 0.0, 7),\n",
       " ('2012-11-04', '19', 0.0, 7.0, 5),\n",
       " ('2012-11-04', '20', 0.0, 0.0, 9),\n",
       " ('2012-11-04', '21', 0.0, 7.0, 7),\n",
       " ('2012-11-04', '22', 0.0, 6.0, 7),\n",
       " ('2012-11-04', '23', 0.0, 5.0, 3),\n",
       " ('2012-11-05', '00', 0.0, 0.0, 3),\n",
       " ('2012-11-05', '01', 0.0, 5.0, 1),\n",
       " ('2012-11-05', '02', 0.0, 3.0, 2),\n",
       " ('2012-11-05', '03', 0.0, 7.0, None),\n",
       " ('2012-11-05', '04', 0.0, 3.0, 1),\n",
       " ('2012-11-05', '05', 0.0, 6.0, 1),\n",
       " ('2012-11-05', '06', 0.0, 8.0, 4),\n",
       " ('2012-11-05', '07', 0.0, 6.0, 8),\n",
       " ('2012-11-05', '08', 0.0, 7.0, 9),\n",
       " ('2012-11-05', '09', 0.0, 3.0, 8),\n",
       " ('2012-11-05', '10', 0.0, 3.0, 7),\n",
       " ('2012-11-05', '11', 0.0, 3.0, 3),\n",
       " ('2012-11-05', '12', 0.0, 5.0, 5),\n",
       " ('2012-11-05', '13', 0.0, 3.0, 4),\n",
       " ('2012-11-05', '14', 0.0, 0.0, 11),\n",
       " ('2012-11-05', '15', 0.0, 8.0, 9),\n",
       " ('2012-11-05', '16', 0.0, 0.0, 2),\n",
       " ('2012-11-05', '17', 0.0, 5.0, 19),\n",
       " ('2012-11-05', '18', 0.0, 5.0, 10),\n",
       " ('2012-11-05', '19', 0.0, 0.0, 10),\n",
       " ('2012-11-05', '20', 0.0, 3.0, 16),\n",
       " ('2012-11-05', '21', 0.0, 7.0, 13),\n",
       " ('2012-11-05', '22', 0.0, 6.0, 7),\n",
       " ('2012-11-05', '23', 0.0, 9.0, 5)]"
      ]
     },
     "execution_count": 108,
     "metadata": {},
     "output_type": "execute_result"
    }
   ],
   "source": [
    "readsql('hurricane_hourly.sql')\n",
    "# columns are date, hour, precipitation, windspeed and number of trips repectively"
   ]
  },
  {
   "cell_type": "markdown",
   "metadata": {},
   "source": [
    "## Visualizing Data "
   ]
  },
  {
   "cell_type": "code",
   "execution_count": 73,
   "metadata": {},
   "outputs": [],
   "source": [
    "%matplotlib inline\n",
    "import matplotlib.pyplot as plt\n",
    "plt.style.use('seaborn')"
   ]
  },
  {
   "cell_type": "markdown",
   "metadata": {},
   "source": [
    "Create an appropriate visualization for the first query/question in part 3."
   ]
  },
  {
   "cell_type": "code",
   "execution_count": 74,
   "metadata": {},
   "outputs": [],
   "source": [
    "def figure1():\n",
    "    query1 = '''\n",
    "    SELECT \n",
    "    strftime ('%H',pickup_time) as most_popular_hour,\n",
    "    Count(*) as times\n",
    "    FROM\n",
    "    yellow_taxi\n",
    "    WHERE\n",
    "    pickup_time between '2009-01-01' AND '2015-06-30'\n",
    "    GROUP BY strftime ('%H',pickup_time) \n",
    "    '''\n",
    "    df = pd.DataFrame(data = engine.execute(query1).fetchall(),columns = ['hour','num_trip'])\n",
    "    plt.bar(df['hour'],df['num_trip'])\n",
    "    plt.title('Hourly distribution of yellow taxi trips')\n",
    "    plt.xlabel('Hours')\n",
    "    plt.ylabel('Number of trips')\n",
    "    plt.show()"
   ]
  },
  {
   "cell_type": "code",
   "execution_count": 75,
   "metadata": {
    "scrolled": false
   },
   "outputs": [
    {
     "name": "stdout",
     "output_type": "stream",
     "text": [
      "[sqlalchemy] \n",
      "    SELECT \n",
      "    strftime ('%H',pickup_time) as most_popular_hour,\n",
      "    Count(*) as times\n",
      "    FROM\n",
      "    yellow_taxi\n",
      "    WHERE\n",
      "    pickup_time between '2009-01-01' AND '2015-06-30'\n",
      "    GROUP BY strftime ('%H',pickup_time) \n",
      "    \n",
      "[sqlalchemy] [raw sql] ()\n"
     ]
    },
    {
     "data": {
      "image/png": "[encoded data removed]",
      "text/plain": [
       "<Figure size 576x396 with 1 Axes>"
      ]
     },
     "metadata": {},
     "output_type": "display_data"
    }
   ],
   "source": [
    "figure1()"
   ]
  },
  {
   "cell_type": "markdown",
   "metadata": {},
   "source": [
    "We can see the number of trips rises to peak during 18:00-22:00, but goes down to the bottom at around 2:00-6:00"
   ]
  },
  {
   "cell_type": "markdown",
   "metadata": {},
   "source": [
    "Create a visualization that shows the average distance traveled per month (regardless of year - so group by each month) for both taxis and Ubers combined. Include the 90% confidence interval around the mean in the visualization.\n"
   ]
  },
  {
   "cell_type": "code",
   "execution_count": 76,
   "metadata": {},
   "outputs": [],
   "source": [
    "def figure2():\n",
    "    import scipy.stats as st\n",
    "    query1 = '''\n",
    "    select \n",
    "    t_0.month as month,\n",
    "    sum(t_0.total_trips) as total_trips,\n",
    "    sum(t_0.distance) as distance\n",
    "\n",
    "    from \n",
    "\n",
    "    (select \n",
    "    strftime ('%m',pickup_time) as month,\n",
    "    count(*) as\ttotal_trips,\n",
    "    sum(distance) as distance\n",
    "\n",
    "    from \n",
    "    yellow_taxi\n",
    "\n",
    "    where \n",
    "    pickup_time between '2009-01-01' and '2015-06-30'\n",
    "\n",
    "    group by \n",
    "    strftime ('%m',pickup_time)\n",
    "\n",
    "    union \n",
    "\n",
    "    select \n",
    "    strftime ('%m',pickup_time) as month,\n",
    "    count(*) as\ttotal_trips,\n",
    "    sum(distance) as distance\n",
    "\n",
    "    from \n",
    "    Uber\n",
    "\n",
    "    where \n",
    "    pickup_time between '2009-01-01' and '2015-06-30'\n",
    "\n",
    "    group by \n",
    "    strftime ('%m',pickup_time)\n",
    "    )t_0\n",
    "    \n",
    "    group by \n",
    "    t_0.month\n",
    "    '''\n",
    "    df = pd.DataFrame(data = engine.execute(query1).fetchall(),columns = ['month','total_trips','distance'])\n",
    "    df['avg_distance'] = df['distance']/df['total_trips']\n",
    "    #compute the 90% CI \n",
    "    low_CI_bound, high_CI_bound = st.t.interval(0.90, len(df['avg_distance']) - 1,\n",
    "                                            loc= df['avg_distance'].mean(),\n",
    "                                            scale= st.sem(df['avg_distance']))\n",
    "    plt.bar(df['month'],df['avg_distance'])\n",
    "    plt.plot(df['month'], [low_CI_bound]*12,'--',label = 'low_CI_bound',color = 'purple')\n",
    "    plt.plot(df['month'], [high_CI_bound]*12,'--',label = 'high_CI_bound',color = 'blue')\n",
    "    plt.plot(df['month'],[df['avg_distance'].mean()]*12,color = 'r',label = 'Mean Value')\n",
    "\n",
    "    \n",
    "    plt.title('Monthly distribution of average distance for hired taxi')\n",
    "    plt.xlabel('Month')\n",
    "    plt.ylabel('Average Distance')\n",
    "    legend = plt.legend(frameon = 1)\n",
    "    frame = legend.get_frame()\n",
    "    frame.set_color('white')\n",
    "    plt.show()"
   ]
  },
  {
   "cell_type": "code",
   "execution_count": 77,
   "metadata": {
    "scrolled": false
   },
   "outputs": [
    {
     "name": "stdout",
     "output_type": "stream",
     "text": [
      "[sqlalchemy] \n",
      "    select \n",
      "    t_0.month as month,\n",
      "    sum(t_0.total_trips) as total_trips,\n",
      "    sum(t_0.distance) as distance\n",
      "\n",
      "    from \n",
      "\n",
      "    (select \n",
      "    strftime ('%m',pickup_time) as month,\n",
      "    count(*) as\ttotal_trips,\n",
      "    sum(distance) as distance\n",
      "\n",
      "    from \n",
      "    yellow_taxi\n",
      "\n",
      "    where \n",
      "    pickup_time between '2009-01-01' and '2015-06-30'\n",
      "\n",
      "    group by \n",
      "    strftime ('%m',pickup_time)\n",
      "\n",
      "    union \n",
      "\n",
      "    select \n",
      "    strftime ('%m',pickup_time) as month,\n",
      "    count(*) as\ttotal_trips,\n",
      "    sum(distance) as distance\n",
      "\n",
      "    from \n",
      "    Uber\n",
      "\n",
      "    where \n",
      "    pickup_time between '2009-01-01' and '2015-06-30'\n",
      "\n",
      "    group by \n",
      "    strftime ('%m',pickup_time)\n",
      "    )t_0\n",
      "    \n",
      "    group by \n",
      "    t_0.month\n",
      "    \n",
      "[sqlalchemy] [raw sql] ()\n"
     ]
    },
    {
     "data": {
      "image/png": "[encoded data removed]",
      "text/plain": [
       "<Figure size 576x396 with 1 Axes>"
      ]
     },
     "metadata": {},
     "output_type": "display_data"
    }
   ],
   "source": [
    "figure2()"
   ]
  },
  {
   "cell_type": "markdown",
   "metadata": {},
   "source": [
    "The short width between low CI and high CI indicates the stability of distance distribution  "
   ]
  },
  {
   "cell_type": "markdown",
   "metadata": {},
   "source": [
    "Define three lat/long coordinate boxes around the three major New York airports: LGA, JFK, and EWR (you can use bboxfinder to help). Create a visualization that compares what day of the week was most popular for drop offs for each airport.\n"
   ]
  },
  {
   "cell_type": "code",
   "execution_count": 78,
   "metadata": {},
   "outputs": [],
   "source": [
    "## LGA: -73.890736,40.764350,-73.850310,40.786514\n",
    "## JFK: -73.827581,40.620071,-73.746385,40.665530\n",
    "## EWR: -74.193342,40.685069,-74.166541,40.695986"
   ]
  },
  {
   "cell_type": "code",
   "execution_count": 79,
   "metadata": {},
   "outputs": [],
   "source": [
    "def figure3():\n",
    "    query1 = '''\n",
    "    select \n",
    "    strftime ('%w',pickup_time) as day,\n",
    "    dropoff_longitude,\n",
    "    dropoff_latitude\n",
    "\n",
    "\n",
    "    from \n",
    "\n",
    "    yellow_taxi\n",
    "\n",
    "    union \n",
    "\n",
    "    select \n",
    "    strftime ('%w',pickup_time) as day,\n",
    "    dropoff_longitude,\n",
    "    dropoff_latitude\n",
    "\n",
    "\n",
    "    from \n",
    "\n",
    "    Uber \n",
    "    '''\n",
    "    airports = {'LGA':[-73.890736,40.764350,-73.850310,40.786514],\n",
    "                'JFK':[-73.827581,40.620071,-73.746257,40.665530],\n",
    "                'EWR':[-74.193342,40.685069,-74.166541,40.695986]\n",
    "               }\n",
    "    df = pd.DataFrame(data = engine.execute(query1).fetchall(),columns = ['day','dropoff_longitude','dropoff_latitude'])\n",
    "    for airport in airports.keys():\n",
    "        location = airports[airport]\n",
    "        # make sure that Uber's pickup/drop off location is in a certain airport\n",
    "        df_temp = df.loc[(df['dropoff_longitude']>=location[0])&(df['dropoff_longitude']<=location[2])\n",
    "                         &(df['dropoff_latitude']>=location[1])&(df['dropoff_latitude']<=location[3])]\n",
    "    \n",
    "        df_temp = df_temp.groupby(['day']).size().reset_index().rename(columns = {0:'count'})\n",
    "        \n",
    "        plt.bar(df_temp['day'], df_temp['count'])\n",
    "        x_ticks = ['Sun','Mon','Tue','Wed','Thur','Fri','Sat']\n",
    "        plt.xticks(np.arange(7),x_ticks)\n",
    "        plt.title('Daily distribution of drop offs amount near {}'.format(airport))\n",
    "        plt.xlabel('Day of the week')\n",
    "        plt.ylabel('Number of drop offs')\n",
    "        plt.show()"
   ]
  },
  {
   "cell_type": "code",
   "execution_count": 80,
   "metadata": {
    "scrolled": false
   },
   "outputs": [
    {
     "name": "stdout",
     "output_type": "stream",
     "text": [
      "[sqlalchemy] \n",
      "    select \n",
      "    strftime ('%w',pickup_time) as day,\n",
      "    dropoff_longitude,\n",
      "    dropoff_latitude\n",
      "\n",
      "\n",
      "    from \n",
      "\n",
      "    yellow_taxi\n",
      "\n",
      "    union \n",
      "\n",
      "    select \n",
      "    strftime ('%w',pickup_time) as day,\n",
      "    dropoff_longitude,\n",
      "    dropoff_latitude\n",
      "\n",
      "\n",
      "    from \n",
      "\n",
      "    Uber \n",
      "    \n",
      "[sqlalchemy] [raw sql] ()\n"
     ]
    },
    {
     "data": {
      "image/png": "[encoded data removed]",
      "text/plain": [
       "<Figure size 576x396 with 1 Axes>"
      ]
     },
     "metadata": {},
     "output_type": "display_data"
    },
    {
     "data": {
      "image/png": "[encoded data removed]",
      "text/plain": [
       "<Figure size 576x396 with 1 Axes>"
      ]
     },
     "metadata": {},
     "output_type": "display_data"
    },
    {
     "data": {
      "image/png": "[encoded data removed]",
      "text/plain": [
       "<Figure size 576x396 with 1 Axes>"
      ]
     },
     "metadata": {},
     "output_type": "display_data"
    }
   ],
   "source": [
    "figure3()"
   ]
  },
  {
   "cell_type": "markdown",
   "metadata": {},
   "source": [
    "Thus, the most popular day for drop offs in LGA, JFK and EWR is Friday, Sunday and Sunday respectively"
   ]
  },
  {
   "cell_type": "markdown",
   "metadata": {},
   "source": [
    "Create a heatmap of all hired trips over a map of the area. Consider using KeplerGL or another library that helps generate geospatial visualizations.\n"
   ]
  },
  {
   "cell_type": "code",
   "execution_count": 81,
   "metadata": {},
   "outputs": [],
   "source": [
    "def createZoneTable(zone_factor,westlimit, southlimit, eastlimit, northlimit):\n",
    "    # define a box area and split it into zone_factor*zone_factor parts\n",
    "    zone_table = list()\n",
    "    hor = np.linspace(start = westlimit, stop = eastlimit, num=zone_factor+1)\n",
    "    ver = np.linspace(start = southlimit, stop = northlimit, num=zone_factor+1)\n",
    "    for i in range(zone_factor*zone_factor):\n",
    "        zone_number = \"%02d\" % i \n",
    "        bottomleft_co = [hor[i%zone_factor],ver[i//zone_factor]]\n",
    "        bottomright_co = [hor[(i%zone_factor+1)],ver[i//zone_factor]]\n",
    "        upperleft_co = [hor[i%zone_factor],ver[i//zone_factor+1]]\n",
    "        upperright_co = [hor[i%zone_factor+1],ver[i//zone_factor+1]]\n",
    "        zone_table.append((zone_number,[bottomleft_co,bottomright_co,upperright_co,upperleft_co,bottomleft_co]))\n",
    "    return zone_table"
   ]
  },
  {
   "cell_type": "code",
   "execution_count": 82,
   "metadata": {},
   "outputs": [],
   "source": [
    "def createGeoJsonObject(zone_table):\n",
    "    # convert the coordinates into geojson object\n",
    "    zone_data_dict = dict()\n",
    "    zone_data_dict['type'] = 'FeatureCollection'\n",
    "    zone_data_dict_features = list()\n",
    "    zone_data_dict['features'] = zone_data_dict_features\n",
    "    \n",
    "    for index in range(len(zone_table)):\n",
    "        coordinates_list = [zone_table[index][1]]\n",
    "        zone_id = zone_table[index][0]        \n",
    "        content = {\n",
    "            'geometry': {\"coordinates\": coordinates_list,'type':'Polygon'},\n",
    "            \"properties\":{'zone_id':zone_id},\n",
    "            'type':'Feature'\n",
    "        }\n",
    "        zone_data_dict_features.append(content)\n",
    "    \n",
    "    return zone_data_dict"
   ]
  },
  {
   "cell_type": "code",
   "execution_count": 83,
   "metadata": {},
   "outputs": [],
   "source": [
    "def get_zone(lon,lat,zone_table):\n",
    "    # for each coordinate, get the cooresponding zone id\n",
    "    for i in range(len(zone_table)):\n",
    "        zone = None\n",
    "        item = zone_table[i]\n",
    "        hormin = item[1][0][0]\n",
    "        vermin = item[1][0][1]\n",
    "        hormax = item[1][2][0]\n",
    "        vermax = item[1][2][1]\n",
    "        if np.logical_and(lon<=hormax,lon>=hormin) & np.logical_and(lat<=vermax,lat>=vermin):\n",
    "            zone = item[0]\n",
    "            break\n",
    "    return zone"
   ]
  },
  {
   "cell_type": "code",
   "execution_count": 84,
   "metadata": {},
   "outputs": [],
   "source": [
    "def figure4():\n",
    "    query1 = '''\n",
    "    select \n",
    "    pickup_longitude,\n",
    "    pickup_latitude,\n",
    "    dropoff_longitude,\n",
    "    dropoff_latitude\n",
    "\n",
    "\n",
    "    from \n",
    "\n",
    "    yellow_taxi\n",
    "\n",
    "    union \n",
    "\n",
    "    select \n",
    "    pickup_longitude,\n",
    "    pickup_latitude,\n",
    "    dropoff_longitude,\n",
    "    dropoff_latitude\n",
    "\n",
    "    from \n",
    "\n",
    "    Uber \n",
    "    '''\n",
    " \n",
    "    df = pd.DataFrame(data = engine.execute(query1).fetchall(),columns = ['pickup_longitude','pickup_latitude','dropoff_longitude','dropoff_latitude'])\n",
    "\n",
    "    # drawing pick up distribution \n",
    "    zonetable = createZoneTable(20,df['pickup_longitude'].min(), df['pickup_latitude'].min(), \n",
    "                            df['pickup_longitude'].max(), df['pickup_latitude'].max())\n",
    "    df['pickup_zone'] = df.apply(lambda x: get_zone(x['pickup_longitude'],x['pickup_latitude'],zonetable),axis=1)\n",
    "    \n",
    "    pickup_cnt = df.groupby(['pickup_zone']).size().to_frame().rename(columns = {0:'pickup_count'}).reset_index()\n",
    "    \n",
    "    import folium\n",
    "    #center the map at Times Square\n",
    "    m = folium.Map(location = [40.7589,-73.9851],zoom_start=12,titles = 'Heatmap for pickups')\n",
    "    m.choropleth(geo_data = createGeoJsonObject(zonetable) , data = pickup_cnt, \n",
    "                 columns=['pickup_zone', 'pickup_count'],key_on=\"properties.zone_id\",\n",
    "                 fill_color='YlGn', fill_opacity=0.7, line_opacity=0.8,\n",
    "                 legend_name='Distribution of pickups')\n",
    "    folium.LayerControl().add_to(m)\n",
    "    return m\n",
    "    \n",
    "    "
   ]
  },
  {
   "cell_type": "code",
   "execution_count": 85,
   "metadata": {
    "scrolled": false
   },
   "outputs": [
    {
     "name": "stdout",
     "output_type": "stream",
     "text": [
      "[sqlalchemy] \n",
      "    select \n",
      "    pickup_longitude,\n",
      "    pickup_latitude,\n",
      "    dropoff_longitude,\n",
      "    dropoff_latitude\n",
      "\n",
      "\n",
      "    from \n",
      "\n",
      "    yellow_taxi\n",
      "\n",
      "    union \n",
      "\n",
      "    select \n",
      "    pickup_longitude,\n",
      "    pickup_latitude,\n",
      "    dropoff_longitude,\n",
      "    dropoff_latitude\n",
      "\n",
      "    from \n",
      "\n",
      "    Uber \n",
      "    \n",
      "[sqlalchemy] [raw sql] ()\n"
     ]
    },
    {
     "name": "stderr",
     "output_type": "stream",
     "text": [
      "/Users/yuanshuqing/.local/lib/python3.6/site-packages/folium/folium.py:413: FutureWarning: The choropleth  method has been deprecated. Instead use the new Choropleth class, which has the same arguments. See the example notebook 'GeoJSON_and_choropleth' for how to do this.\n",
      "  FutureWarning\n"
     ]
    },
    {
     "data": {
      "text/html": [
       "<div style=\"width:100%;\"><div style=\"position:relative;width:100%;height:0;padding-bottom:60%;\"><span style=\"color:#565656\">Make this Notebook Trusted to load map: File -> Trust Notebook</span><iframe src=\"about:blank\" style=\"position:absolute;width:100%;height:100%;left:0;top:0;border:none !important;\" data-html=%3C%21DOCTYPE%20html%3E%0A%3Chead%3E%20%20%20%20%0A%20%20%20%20%3Cmeta%20http-equiv%3D%22content-type%22%20content%3D%22text/html%3B%20charset%3DUTF-8%22%20/%3E%0A%20%20%20%20%0A%20%20%20%20%20%20%20%20%3Cscript%3E%0A%20%20%20%20%20%20%20%20%20%20%20%20L_NO_TOUCH%20%3D%20false%3B%0A%20%20%20%20%20%20%20%20%20%20%20%20L_DISABLE_3D%20%3D%20false%3B%0A%20%20%20%20%20%20%20%20%3C/script%3E%0A%20%20%20%20%0A%20%20%20%20%3Cstyle%3Ehtml%2C%20body%20%7Bwidth%3A%20100%25%3Bheight%3A%20100%25%3Bmargin%3A%200%3Bpadding%3A%200%3B%7D%3C/style%3E%0A%20%20%20%20%3Cstyle%3E%23map%20%7Bposition%3Aabsolute%3Btop%3A0%3Bbottom%3A0%3Bright%3A0%3Bleft%3A0%3B%7D%3C/style%3E%0A%20%20%20%20%3Cscript%20src%3D%22https%3A//cdn.jsdelivr.net/npm/leaflet%401.6.0/dist/leaflet.js%22%3E%3C/script%3E%0A%20%20%20%20%3Cscript%20src%3D%22https%3A//code.jquery.com/jquery-1.12.4.min.js%22%3E%3C/script%3E%0A%20%20%20%20%3Cscript%20src%3D%22https%3A//maxcdn.bootstrapcdn.com/bootstrap/3.2.0/js/bootstrap.min.js%22%3E%3C/script%3E%0A%20%20%20%20%3Cscript%20src%3D%22https%3A//cdnjs.cloudflare.com/ajax/libs/Leaflet.awesome-markers/2.0.2/leaflet.awesome-markers.js%22%3E%3C/script%3E%0A%20%20%20%20%3Clink%20rel%3D%22stylesheet%22%20href%3D%22https%3A//cdn.jsdelivr.net/npm/leaflet%401.6.0/dist/leaflet.css%22/%3E%0A%20%20%20%20%3Clink%20rel%3D%22stylesheet%22%20href%3D%22https%3A//maxcdn.bootstrapcdn.com/bootstrap/3.2.0/css/bootstrap.min.css%22/%3E%0A%20%20%20%20%3Clink%20rel%3D%22stylesheet%22%20href%3D%22https%3A//maxcdn.bootstrapcdn.com/bootstrap/3.2.0/css/bootstrap-theme.min.css%22/%3E%0A%20%20%20%20%3Clink%20rel%3D%22stylesheet%22%20href%3D%22https%3A//maxcdn.bootstrapcdn.com/font-awesome/4.6.3/css/font-awesome.min.css%22/%3E%0A%20%20%20%20%3Clink%20rel%3D%22stylesheet%22%20href%3D%22https%3A//cdnjs.cloudflare.com/ajax/libs/Leaflet.awesome-markers/2.0.2/leaflet.awesome-markers.css%22/%3E%0A%20%20%20%20%3Clink%20rel%3D%22stylesheet%22%20href%3D%22https%3A//cdn.jsdelivr.net/gh/python-visualization/folium/folium/templates/leaflet.awesome.rotate.min.css%22/%3E%0A%20%20%20%20%0A%20%20%20%20%20%20%20%20%20%20%20%20%3Cmeta%20name%3D%22viewport%22%20content%3D%22width%3Ddevice-width%2C%0A%20%20%20%20%20%20%20%20%20%20%20%20%20%20%20%20initial-scale%3D1.0%2C%20maximum-scale%3D1.0%2C%20user-scalable%3Dno%22%20/%3E%0A%20%20%20%20%20%20%20%20%20%20%20%20%3Cstyle%3E%0A%20%20%20%20%20%20%20%20%20%20%20%20%20%20%20%20%23map_f769132f1cbd4bcf9a48ff98fee7acdb%20%7B%0A%20%20%20%20%20%20%20%20%20%20%20%20%20%20%20%20%20%20%20%20position%3A%20relative%3B%0A%20%20%20%20%20%20%20%20%20%20%20%20%20%20%20%20%20%20%20%20width%3A%20100.0%25%3B%0A%20%20%20%20%20%20%20%20%20%20%20%20%20%20%20%20%20%20%20%20height%3A%20100.0%25%3B%0A%20%20%20%20%20%20%20%20%20%20%20%20%20%20%20%20%20%20%20%20left%3A%200.0%25%3B%0A%20%20%20%20%20%20%20%20%20%20%20%20%20%20%20%20%20%20%20%20top%3A%200.0%25%3B%0A%20%20%20%20%20%20%20%20%20%20%20%20%20%20%20%20%7D%0A%20%20%20%20%20%20%20%20%20%20%20%20%3C/style%3E%0A%20%20%20%20%20%20%20%20%0A%20%20%20%20%3Cscript%20src%3D%22https%3A//cdnjs.cloudflare.com/ajax/libs/d3/3.5.5/d3.min.js%22%3E%3C/script%3E%0A%3C/head%3E%0A%3Cbody%3E%20%20%20%20%0A%20%20%20%20%0A%20%20%20%20%20%20%20%20%20%20%20%20%3Cdiv%20class%3D%22folium-map%22%20id%3D%22map_f769132f1cbd4bcf9a48ff98fee7acdb%22%20%3E%3C/div%3E%0A%20%20%20%20%20%20%20%20%0A%3C/body%3E%0A%3Cscript%3E%20%20%20%20%0A%20%20%20%20%0A%20%20%20%20%20%20%20%20%20%20%20%20var%20map_f769132f1cbd4bcf9a48ff98fee7acdb%20%3D%20L.map%28%0A%20%20%20%20%20%20%20%20%20%20%20%20%20%20%20%20%22map_f769132f1cbd4bcf9a48ff98fee7acdb%22%2C%0A%20%20%20%20%20%20%20%20%20%20%20%20%20%20%20%20%7B%0A%20%20%20%20%20%20%20%20%20%20%20%20%20%20%20%20%20%20%20%20center%3A%20%5B40.7589%2C%20-73.9851%5D%2C%0A%20%20%20%20%20%20%20%20%20%20%20%20%20%20%20%20%20%20%20%20crs%3A%20L.CRS.EPSG3857%2C%0A%20%20%20%20%20%20%20%20%20%20%20%20%20%20%20%20%20%20%20%20zoom%3A%2012%2C%0A%20%20%20%20%20%20%20%20%20%20%20%20%20%20%20%20%20%20%20%20zoomControl%3A%20true%2C%0A%20%20%20%20%20%20%20%20%20%20%20%20%20%20%20%20%20%20%20%20preferCanvas%3A%20false%2C%0A%20%20%20%20%20%20%20%20%20%20%20%20%20%20%20%20%20%20%20%20titles%3A%20%22Heatmap%20for%20pickups%22%2C%0A%20%20%20%20%20%20%20%20%20%20%20%20%20%20%20%20%7D%0A%20%20%20%20%20%20%20%20%20%20%20%20%29%3B%0A%0A%20%20%20%20%20%20%20%20%20%20%20%20%0A%0A%20%20%20%20%20%20%20%20%0A%20%20%20%20%0A%20%20%20%20%20%20%20%20%20%20%20%20var%20tile_layer_31a7f0289bf44d5295672f4e8117a127%20%3D%20L.tileLayer%28%0A%20%20%20%20%20%20%20%20%20%20%20%20%20%20%20%20%22https%3A//%7Bs%7D.tile.openstreetmap.org/%7Bz%7D/%7Bx%7D/%7By%7D.png%22%2C%0A%20%20%20%20%20%20%20%20%20%20%20%20%20%20%20%20%7B%22attribution%22%3A%20%22Data%20by%20%5Cu0026copy%3B%20%5Cu003ca%20href%3D%5C%22http%3A//openstreetmap.org%5C%22%5Cu003eOpenStreetMap%5Cu003c/a%5Cu003e%2C%20under%20%5Cu003ca%20href%3D%5C%22http%3A//www.openstreetmap.org/copyright%5C%22%5Cu003eODbL%5Cu003c/a%5Cu003e.%22%2C%20%22detectRetina%22%3A%20false%2C%20%22maxNativeZoom%22%3A%2018%2C%20%22maxZoom%22%3A%2018%2C%20%22minZoom%22%3A%200%2C%20%22noWrap%22%3A%20false%2C%20%22opacity%22%3A%201%2C%20%22subdomains%22%3A%20%22abc%22%2C%20%22tms%22%3A%20false%7D%0A%20%20%20%20%20%20%20%20%20%20%20%20%29.addTo%28map_f769132f1cbd4bcf9a48ff98fee7acdb%29%3B%0A%20%20%20%20%20%20%20%20%0A%20%20%20%20%0A%20%20%20%20%20%20%20%20%20%20%20%20var%20choropleth_858a7eb30a564a7f820f71f8ca71cd3b%20%3D%20L.featureGroup%28%0A%20%20%20%20%20%20%20%20%20%20%20%20%20%20%20%20%7B%7D%0A%20%20%20%20%20%20%20%20%20%20%20%20%29.addTo%28map_f769132f1cbd4bcf9a48ff98fee7acdb%29%3B%0A%20%20%20%20%20%20%20%20%0A%20%20%20%20%0A%20%20%20%20%20%20%20%20function%20geo_json_e041e2ce78014fa1ab8c59bd6f847c90_styler%28feature%29%20%7B%0A%20%20%20%20%20%20%20%20%20%20%20%20switch%28feature.properties.zone_id%29%20%7B%0A%20%20%20%20%20%20%20%20%20%20%20%20%20%20%20%20case%20%2201%22%3A%20case%20%2204%22%3A%20case%20%2206%22%3A%20case%20%2212%22%3A%20case%20%2213%22%3A%20case%20%2214%22%3A%20case%20%2215%22%3A%20case%20%2217%22%3A%20case%20%2218%22%3A%20case%20%2221%22%3A%20case%20%2222%22%3A%20case%20%2223%22%3A%20case%20%2224%22%3A%20case%20%2232%22%3A%20case%20%2233%22%3A%20case%20%2234%22%3A%20case%20%2236%22%3A%20case%20%2237%22%3A%20case%20%2238%22%3A%20case%20%2240%22%3A%20case%20%2241%22%3A%20case%20%2242%22%3A%20case%20%2244%22%3A%20case%20%2245%22%3A%20case%20%2254%22%3A%20case%20%2255%22%3A%20case%20%2256%22%3A%20case%20%2258%22%3A%20case%20%2259%22%3A%20case%20%2260%22%3A%20case%20%2261%22%3A%20case%20%2262%22%3A%20case%20%2263%22%3A%20case%20%2266%22%3A%20case%20%2280%22%3A%20case%20%2284%22%3A%20case%20%2294%22%3A%20case%20%22101%22%3A%20case%20%22103%22%3A%20case%20%22106%22%3A%20case%20%22120%22%3A%20case%20%22123%22%3A%20case%20%22124%22%3A%20case%20%22140%22%3A%20case%20%22143%22%3A%20case%20%22144%22%3A%20case%20%22160%22%3A%20case%20%22161%22%3A%20case%20%22180%22%3A%20case%20%22181%22%3A%20case%20%22183%22%3A%20case%20%22200%22%3A%20case%20%22201%22%3A%20case%20%22202%22%3A%20case%20%22217%22%3A%20case%20%22220%22%3A%20case%20%22221%22%3A%20case%20%22222%22%3A%20case%20%22224%22%3A%20case%20%22241%22%3A%20case%20%22244%22%3A%20case%20%22258%22%3A%20case%20%22259%22%3A%20case%20%22262%22%3A%20case%20%22264%22%3A%20case%20%22276%22%3A%20case%20%22279%22%3A%20case%20%22282%22%3A%20case%20%22283%22%3A%20case%20%22297%22%3A%20case%20%22300%22%3A%20case%20%22303%22%3A%20case%20%22319%22%3A%20case%20%22320%22%3A%20case%20%22321%22%3A%20case%20%22322%22%3A%20case%20%22323%22%3A%20case%20%22324%22%3A%20case%20%22327%22%3A%20case%20%22338%22%3A%20case%20%22339%22%3A%20case%20%22340%22%3A%20case%20%22341%22%3A%20case%20%22343%22%3A%20case%20%22344%22%3A%20case%20%22356%22%3A%20case%20%22357%22%3A%20case%20%22358%22%3A%20case%20%22359%22%3A%20case%20%22360%22%3A%20case%20%22361%22%3A%20case%20%22362%22%3A%20case%20%22363%22%3A%20case%20%22364%22%3A%20case%20%22365%22%3A%20case%20%22366%22%3A%20case%20%22367%22%3A%20case%20%22371%22%3A%20case%20%22376%22%3A%20case%20%22377%22%3A%20case%20%22379%22%3A%20case%20%22380%22%3A%20case%20%22381%22%3A%20case%20%22382%22%3A%20case%20%22383%22%3A%20case%20%22384%22%3A%20case%20%22385%22%3A%20case%20%22386%22%3A%20case%20%22387%22%3A%20case%20%22389%22%3A%20case%20%22393%22%3A%20case%20%22397%22%3A%20case%20%22399%22%3A%20%0A%20%20%20%20%20%20%20%20%20%20%20%20%20%20%20%20%20%20%20%20return%20%7B%22color%22%3A%20%22black%22%2C%20%22fillColor%22%3A%20%22black%22%2C%20%22fillOpacity%22%3A%200.7%2C%20%22opacity%22%3A%200.8%2C%20%22weight%22%3A%201%7D%3B%0A%20%20%20%20%20%20%20%20%20%20%20%20%20%20%20%20case%20%22168%22%3A%20case%20%22251%22%3A%20case%20%22270%22%3A%20%0A%20%20%20%20%20%20%20%20%20%20%20%20%20%20%20%20%20%20%20%20return%20%7B%22color%22%3A%20%22black%22%2C%20%22fillColor%22%3A%20%22%23d9f0a3%22%2C%20%22fillOpacity%22%3A%200.7%2C%20%22opacity%22%3A%200.8%2C%20%22weight%22%3A%201%7D%3B%0A%20%20%20%20%20%20%20%20%20%20%20%20%20%20%20%20case%20%22189%22%3A%20%0A%20%20%20%20%20%20%20%20%20%20%20%20%20%20%20%20%20%20%20%20return%20%7B%22color%22%3A%20%22black%22%2C%20%22fillColor%22%3A%20%22%2331a354%22%2C%20%22fillOpacity%22%3A%200.7%2C%20%22opacity%22%3A%200.8%2C%20%22weight%22%3A%201%7D%3B%0A%20%20%20%20%20%20%20%20%20%20%20%20%20%20%20%20case%20%22209%22%3A%20case%20%22230%22%3A%20%0A%20%20%20%20%20%20%20%20%20%20%20%20%20%20%20%20%20%20%20%20return%20%7B%22color%22%3A%20%22black%22%2C%20%22fillColor%22%3A%20%22%23006837%22%2C%20%22fillOpacity%22%3A%200.7%2C%20%22opacity%22%3A%200.8%2C%20%22weight%22%3A%201%7D%3B%0A%20%20%20%20%20%20%20%20%20%20%20%20%20%20%20%20case%20%22210%22%3A%20case%20%22250%22%3A%20%0A%20%20%20%20%20%20%20%20%20%20%20%20%20%20%20%20%20%20%20%20return%20%7B%22color%22%3A%20%22black%22%2C%20%22fillColor%22%3A%20%22%23addd8e%22%2C%20%22fillOpacity%22%3A%200.7%2C%20%22opacity%22%3A%200.8%2C%20%22weight%22%3A%201%7D%3B%0A%20%20%20%20%20%20%20%20%20%20%20%20%20%20%20%20case%20%22229%22%3A%20%0A%20%20%20%20%20%20%20%20%20%20%20%20%20%20%20%20%20%20%20%20return%20%7B%22color%22%3A%20%22black%22%2C%20%22fillColor%22%3A%20%22%2378c679%22%2C%20%22fillOpacity%22%3A%200.7%2C%20%22opacity%22%3A%200.8%2C%20%22weight%22%3A%201%7D%3B%0A%20%20%20%20%20%20%20%20%20%20%20%20%20%20%20%20default%3A%0A%20%20%20%20%20%20%20%20%20%20%20%20%20%20%20%20%20%20%20%20return%20%7B%22color%22%3A%20%22black%22%2C%20%22fillColor%22%3A%20%22%23ffffcc%22%2C%20%22fillOpacity%22%3A%200.7%2C%20%22opacity%22%3A%200.8%2C%20%22weight%22%3A%201%7D%3B%0A%20%20%20%20%20%20%20%20%20%20%20%20%7D%0A%20%20%20%20%20%20%20%20%7D%0A%0A%20%20%20%20%20%20%20%20function%20geo_json_e041e2ce78014fa1ab8c59bd6f847c90_onEachFeature%28feature%2C%20layer%29%20%7B%0A%20%20%20%20%20%20%20%20%20%20%20%20layer.on%28%7B%0A%20%20%20%20%20%20%20%20%20%20%20%20%7D%29%3B%0A%20%20%20%20%20%20%20%20%7D%3B%0A%20%20%20%20%20%20%20%20var%20geo_json_e041e2ce78014fa1ab8c59bd6f847c90%20%3D%20L.geoJson%28null%2C%20%7B%0A%20%20%20%20%20%20%20%20%20%20%20%20%20%20%20%20onEachFeature%3A%20geo_json_e041e2ce78014fa1ab8c59bd6f847c90_onEachFeature%2C%0A%20%20%20%20%20%20%20%20%20%20%20%20%0A%20%20%20%20%20%20%20%20%20%20%20%20%20%20%20%20style%3A%20geo_json_e041e2ce78014fa1ab8c59bd6f847c90_styler%2C%0A%20%20%20%20%20%20%20%20%7D%29%3B%0A%0A%20%20%20%20%20%20%20%20function%20geo_json_e041e2ce78014fa1ab8c59bd6f847c90_add%20%28data%29%20%7B%0A%20%20%20%20%20%20%20%20%20%20%20%20geo_json_e041e2ce78014fa1ab8c59bd6f847c90%0A%20%20%20%20%20%20%20%20%20%20%20%20%20%20%20%20.addData%28data%29%0A%20%20%20%20%20%20%20%20%20%20%20%20%20%20%20%20.addTo%28choropleth_858a7eb30a564a7f820f71f8ca71cd3b%29%3B%0A%20%20%20%20%20%20%20%20%7D%0A%20%20%20%20%20%20%20%20%20%20%20%20geo_json_e041e2ce78014fa1ab8c59bd6f847c90_add%28%7B%22features%22%3A%20%5B%7B%22geometry%22%3A%20%7B%22coordinates%22%3A%20%5B%5B%5B-74.24037199999998%2C%2040.564738%5D%2C%20%5B-74.21437939999998%2C%2040.564738%5D%2C%20%5B-74.21437939999998%2C%2040.5819166%5D%2C%20%5B-74.24037199999998%2C%2040.5819166%5D%2C%20%5B-74.24037199999998%2C%2040.564738%5D%5D%5D%2C%20%22type%22%3A%20%22Polygon%22%7D%2C%20%22properties%22%3A%20%7B%22zone_id%22%3A%20%2200%22%7D%2C%20%22type%22%3A%20%22Feature%22%7D%2C%20%7B%22geometry%22%3A%20%7B%22coordinates%22%3A%20%5B%5B%5B-74.21437939999998%2C%2040.564738%5D%2C%20%5B-74.18838679999998%2C%2040.564738%5D%2C%20%5B-74.18838679999998%2C%2040.5819166%5D%2C%20%5B-74.21437939999998%2C%2040.5819166%5D%2C%20%5B-74.21437939999998%2C%2040.564738%5D%5D%5D%2C%20%22type%22%3A%20%22Polygon%22%7D%2C%20%22properties%22%3A%20%7B%22zone_id%22%3A%20%2201%22%7D%2C%20%22type%22%3A%20%22Feature%22%7D%2C%20%7B%22geometry%22%3A%20%7B%22coordinates%22%3A%20%5B%5B%5B-74.18838679999998%2C%2040.564738%5D%2C%20%5B-74.16239419999998%2C%2040.564738%5D%2C%20%5B-74.16239419999998%2C%2040.5819166%5D%2C%20%5B-74.18838679999998%2C%2040.5819166%5D%2C%20%5B-74.18838679999998%2C%2040.564738%5D%5D%5D%2C%20%22type%22%3A%20%22Polygon%22%7D%2C%20%22properties%22%3A%20%7B%22zone_id%22%3A%20%2202%22%7D%2C%20%22type%22%3A%20%22Feature%22%7D%2C%20%7B%22geometry%22%3A%20%7B%22coordinates%22%3A%20%5B%5B%5B-74.16239419999998%2C%2040.564738%5D%2C%20%5B-74.13640159999999%2C%2040.564738%5D%2C%20%5B-74.13640159999999%2C%2040.5819166%5D%2C%20%5B-74.16239419999998%2C%2040.5819166%5D%2C%20%5B-74.16239419999998%2C%2040.564738%5D%5D%5D%2C%20%22type%22%3A%20%22Polygon%22%7D%2C%20%22properties%22%3A%20%7B%22zone_id%22%3A%20%2203%22%7D%2C%20%22type%22%3A%20%22Feature%22%7D%2C%20%7B%22geometry%22%3A%20%7B%22coordinates%22%3A%20%5B%5B%5B-74.13640159999999%2C%2040.564738%5D%2C%20%5B-74.11040899999998%2C%2040.564738%5D%2C%20%5B-74.11040899999998%2C%2040.5819166%5D%2C%20%5B-74.13640159999999%2C%2040.5819166%5D%2C%20%5B-74.13640159999999%2C%2040.564738%5D%5D%5D%2C%20%22type%22%3A%20%22Polygon%22%7D%2C%20%22properties%22%3A%20%7B%22zone_id%22%3A%20%2204%22%7D%2C%20%22type%22%3A%20%22Feature%22%7D%2C%20%7B%22geometry%22%3A%20%7B%22coordinates%22%3A%20%5B%5B%5B-74.11040899999998%2C%2040.564738%5D%2C%20%5B-74.08441639999998%2C%2040.564738%5D%2C%20%5B-74.08441639999998%2C%2040.5819166%5D%2C%20%5B-74.11040899999998%2C%2040.5819166%5D%2C%20%5B-74.11040899999998%2C%2040.564738%5D%5D%5D%2C%20%22type%22%3A%20%22Polygon%22%7D%2C%20%22properties%22%3A%20%7B%22zone_id%22%3A%20%2205%22%7D%2C%20%22type%22%3A%20%22Feature%22%7D%2C%20%7B%22geometry%22%3A%20%7B%22coordinates%22%3A%20%5B%5B%5B-74.08441639999998%2C%2040.564738%5D%2C%20%5B-74.05842379999999%2C%2040.564738%5D%2C%20%5B-74.05842379999999%2C%2040.5819166%5D%2C%20%5B-74.08441639999998%2C%2040.5819166%5D%2C%20%5B-74.08441639999998%2C%2040.564738%5D%5D%5D%2C%20%22type%22%3A%20%22Polygon%22%7D%2C%20%22properties%22%3A%20%7B%22zone_id%22%3A%20%2206%22%7D%2C%20%22type%22%3A%20%22Feature%22%7D%2C%20%7B%22geometry%22%3A%20%7B%22coordinates%22%3A%20%5B%5B%5B-74.05842379999999%2C%2040.564738%5D%2C%20%5B-74.03243119999999%2C%2040.564738%5D%2C%20%5B-74.03243119999999%2C%2040.5819166%5D%2C%20%5B-74.05842379999999%2C%2040.5819166%5D%2C%20%5B-74.05842379999999%2C%2040.564738%5D%5D%5D%2C%20%22type%22%3A%20%22Polygon%22%7D%2C%20%22properties%22%3A%20%7B%22zone_id%22%3A%20%2207%22%7D%2C%20%22type%22%3A%20%22Feature%22%7D%2C%20%7B%22geometry%22%3A%20%7B%22coordinates%22%3A%20%5B%5B%5B-74.03243119999999%2C%2040.564738%5D%2C%20%5B-74.00643859999998%2C%2040.564738%5D%2C%20%5B-74.00643859999998%2C%2040.5819166%5D%2C%20%5B-74.03243119999999%2C%2040.5819166%5D%2C%20%5B-74.03243119999999%2C%2040.564738%5D%5D%5D%2C%20%22type%22%3A%20%22Polygon%22%7D%2C%20%22properties%22%3A%20%7B%22zone_id%22%3A%20%2208%22%7D%2C%20%22type%22%3A%20%22Feature%22%7D%2C%20%7B%22geometry%22%3A%20%7B%22coordinates%22%3A%20%5B%5B%5B-74.00643859999998%2C%2040.564738%5D%2C%20%5B-73.98044599999999%2C%2040.564738%5D%2C%20%5B-73.98044599999999%2C%2040.5819166%5D%2C%20%5B-74.00643859999998%2C%2040.5819166%5D%2C%20%5B-74.00643859999998%2C%2040.564738%5D%5D%5D%2C%20%22type%22%3A%20%22Polygon%22%7D%2C%20%22properties%22%3A%20%7B%22zone_id%22%3A%20%2209%22%7D%2C%20%22type%22%3A%20%22Feature%22%7D%2C%20%7B%22geometry%22%3A%20%7B%22coordinates%22%3A%20%5B%5B%5B-73.98044599999999%2C%2040.564738%5D%2C%20%5B-73.95445339999999%2C%2040.564738%5D%2C%20%5B-73.95445339999999%2C%2040.5819166%5D%2C%20%5B-73.98044599999999%2C%2040.5819166%5D%2C%20%5B-73.98044599999999%2C%2040.564738%5D%5D%5D%2C%20%22type%22%3A%20%22Polygon%22%7D%2C%20%22properties%22%3A%20%7B%22zone_id%22%3A%20%2210%22%7D%2C%20%22type%22%3A%20%22Feature%22%7D%2C%20%7B%22geometry%22%3A%20%7B%22coordinates%22%3A%20%5B%5B%5B-73.95445339999999%2C%2040.564738%5D%2C%20%5B-73.92846079999998%2C%2040.564738%5D%2C%20%5B-73.92846079999998%2C%2040.5819166%5D%2C%20%5B-73.95445339999999%2C%2040.5819166%5D%2C%20%5B-73.95445339999999%2C%2040.564738%5D%5D%5D%2C%20%22type%22%3A%20%22Polygon%22%7D%2C%20%22properties%22%3A%20%7B%22zone_id%22%3A%20%2211%22%7D%2C%20%22type%22%3A%20%22Feature%22%7D%2C%20%7B%22geometry%22%3A%20%7B%22coordinates%22%3A%20%5B%5B%5B-73.92846079999998%2C%2040.564738%5D%2C%20%5B-73.90246819999999%2C%2040.564738%5D%2C%20%5B-73.90246819999999%2C%2040.5819166%5D%2C%20%5B-73.92846079999998%2C%2040.5819166%5D%2C%20%5B-73.92846079999998%2C%2040.564738%5D%5D%5D%2C%20%22type%22%3A%20%22Polygon%22%7D%2C%20%22properties%22%3A%20%7B%22zone_id%22%3A%20%2212%22%7D%2C%20%22type%22%3A%20%22Feature%22%7D%2C%20%7B%22geometry%22%3A%20%7B%22coordinates%22%3A%20%5B%5B%5B-73.90246819999999%2C%2040.564738%5D%2C%20%5B-73.87647559999999%2C%2040.564738%5D%2C%20%5B-73.87647559999999%2C%2040.5819166%5D%2C%20%5B-73.90246819999999%2C%2040.5819166%5D%2C%20%5B-73.90246819999999%2C%2040.564738%5D%5D%5D%2C%20%22type%22%3A%20%22Polygon%22%7D%2C%20%22properties%22%3A%20%7B%22zone_id%22%3A%20%2213%22%7D%2C%20%22type%22%3A%20%22Feature%22%7D%2C%20%7B%22geometry%22%3A%20%7B%22coordinates%22%3A%20%5B%5B%5B-73.87647559999999%2C%2040.564738%5D%2C%20%5B-73.850483%2C%2040.564738%5D%2C%20%5B-73.850483%2C%2040.5819166%5D%2C%20%5B-73.87647559999999%2C%2040.5819166%5D%2C%20%5B-73.87647559999999%2C%2040.564738%5D%5D%5D%2C%20%22type%22%3A%20%22Polygon%22%7D%2C%20%22properties%22%3A%20%7B%22zone_id%22%3A%20%2214%22%7D%2C%20%22type%22%3A%20%22Feature%22%7D%2C%20%7B%22geometry%22%3A%20%7B%22coordinates%22%3A%20%5B%5B%5B-73.850483%2C%2040.564738%5D%2C%20%5B-73.82449039999999%2C%2040.564738%5D%2C%20%5B-73.82449039999999%2C%2040.5819166%5D%2C%20%5B-73.850483%2C%2040.5819166%5D%2C%20%5B-73.850483%2C%2040.564738%5D%5D%5D%2C%20%22type%22%3A%20%22Polygon%22%7D%2C%20%22properties%22%3A%20%7B%22zone_id%22%3A%20%2215%22%7D%2C%20%22type%22%3A%20%22Feature%22%7D%2C%20%7B%22geometry%22%3A%20%7B%22coordinates%22%3A%20%5B%5B%5B-73.82449039999999%2C%2040.564738%5D%2C%20%5B-73.79849779999999%2C%2040.564738%5D%2C%20%5B-73.79849779999999%2C%2040.5819166%5D%2C%20%5B-73.82449039999999%2C%2040.5819166%5D%2C%20%5B-73.82449039999999%2C%2040.564738%5D%5D%5D%2C%20%22type%22%3A%20%22Polygon%22%7D%2C%20%22properties%22%3A%20%7B%22zone_id%22%3A%20%2216%22%7D%2C%20%22type%22%3A%20%22Feature%22%7D%2C%20%7B%22geometry%22%3A%20%7B%22coordinates%22%3A%20%5B%5B%5B-73.79849779999999%2C%2040.564738%5D%2C%20%5B-73.7725052%2C%2040.564738%5D%2C%20%5B-73.7725052%2C%2040.5819166%5D%2C%20%5B-73.79849779999999%2C%2040.5819166%5D%2C%20%5B-73.79849779999999%2C%2040.564738%5D%5D%5D%2C%20%22type%22%3A%20%22Polygon%22%7D%2C%20%22properties%22%3A%20%7B%22zone_id%22%3A%20%2217%22%7D%2C%20%22type%22%3A%20%22Feature%22%7D%2C%20%7B%22geometry%22%3A%20%7B%22coordinates%22%3A%20%5B%5B%5B-73.7725052%2C%2040.564738%5D%2C%20%5B-73.74651259999999%2C%2040.564738%5D%2C%20%5B-73.74651259999999%2C%2040.5819166%5D%2C%20%5B-73.7725052%2C%2040.5819166%5D%2C%20%5B-73.7725052%2C%2040.564738%5D%5D%5D%2C%20%22type%22%3A%20%22Polygon%22%7D%2C%20%22properties%22%3A%20%7B%22zone_id%22%3A%20%2218%22%7D%2C%20%22type%22%3A%20%22Feature%22%7D%2C%20%7B%22geometry%22%3A%20%7B%22coordinates%22%3A%20%5B%5B%5B-73.74651259999999%2C%2040.564738%5D%2C%20%5B-73.72052%2C%2040.564738%5D%2C%20%5B-73.72052%2C%2040.5819166%5D%2C%20%5B-73.74651259999999%2C%2040.5819166%5D%2C%20%5B-73.74651259999999%2C%2040.564738%5D%5D%5D%2C%20%22type%22%3A%20%22Polygon%22%7D%2C%20%22properties%22%3A%20%7B%22zone_id%22%3A%20%2219%22%7D%2C%20%22type%22%3A%20%22Feature%22%7D%2C%20%7B%22geometry%22%3A%20%7B%22coordinates%22%3A%20%5B%5B%5B-74.24037199999998%2C%2040.5819166%5D%2C%20%5B-74.21437939999998%2C%2040.5819166%5D%2C%20%5B-74.21437939999998%2C%2040.5990952%5D%2C%20%5B-74.24037199999998%2C%2040.5990952%5D%2C%20%5B-74.24037199999998%2C%2040.5819166%5D%5D%5D%2C%20%22type%22%3A%20%22Polygon%22%7D%2C%20%22properties%22%3A%20%7B%22zone_id%22%3A%20%2220%22%7D%2C%20%22type%22%3A%20%22Feature%22%7D%2C%20%7B%22geometry%22%3A%20%7B%22coordinates%22%3A%20%5B%5B%5B-74.21437939999998%2C%2040.5819166%5D%2C%20%5B-74.18838679999998%2C%2040.5819166%5D%2C%20%5B-74.18838679999998%2C%2040.5990952%5D%2C%20%5B-74.21437939999998%2C%2040.5990952%5D%2C%20%5B-74.21437939999998%2C%2040.5819166%5D%5D%5D%2C%20%22type%22%3A%20%22Polygon%22%7D%2C%20%22properties%22%3A%20%7B%22zone_id%22%3A%20%2221%22%7D%2C%20%22type%22%3A%20%22Feature%22%7D%2C%20%7B%22geometry%22%3A%20%7B%22coordinates%22%3A%20%5B%5B%5B-74.18838679999998%2C%2040.5819166%5D%2C%20%5B-74.16239419999998%2C%2040.5819166%5D%2C%20%5B-74.16239419999998%2C%2040.5990952%5D%2C%20%5B-74.18838679999998%2C%2040.5990952%5D%2C%20%5B-74.18838679999998%2C%2040.5819166%5D%5D%5D%2C%20%22type%22%3A%20%22Polygon%22%7D%2C%20%22properties%22%3A%20%7B%22zone_id%22%3A%20%2222%22%7D%2C%20%22type%22%3A%20%22Feature%22%7D%2C%20%7B%22geometry%22%3A%20%7B%22coordinates%22%3A%20%5B%5B%5B-74.16239419999998%2C%2040.5819166%5D%2C%20%5B-74.13640159999999%2C%2040.5819166%5D%2C%20%5B-74.13640159999999%2C%2040.5990952%5D%2C%20%5B-74.16239419999998%2C%2040.5990952%5D%2C%20%5B-74.16239419999998%2C%2040.5819166%5D%5D%5D%2C%20%22type%22%3A%20%22Polygon%22%7D%2C%20%22properties%22%3A%20%7B%22zone_id%22%3A%20%2223%22%7D%2C%20%22type%22%3A%20%22Feature%22%7D%2C%20%7B%22geometry%22%3A%20%7B%22coordinates%22%3A%20%5B%5B%5B-74.13640159999999%2C%2040.5819166%5D%2C%20%5B-74.11040899999998%2C%2040.5819166%5D%2C%20%5B-74.11040899999998%2C%2040.5990952%5D%2C%20%5B-74.13640159999999%2C%2040.5990952%5D%2C%20%5B-74.13640159999999%2C%2040.5819166%5D%5D%5D%2C%20%22type%22%3A%20%22Polygon%22%7D%2C%20%22properties%22%3A%20%7B%22zone_id%22%3A%20%2224%22%7D%2C%20%22type%22%3A%20%22Feature%22%7D%2C%20%7B%22geometry%22%3A%20%7B%22coordinates%22%3A%20%5B%5B%5B-74.11040899999998%2C%2040.5819166%5D%2C%20%5B-74.08441639999998%2C%2040.5819166%5D%2C%20%5B-74.08441639999998%2C%2040.5990952%5D%2C%20%5B-74.11040899999998%2C%2040.5990952%5D%2C%20%5B-74.11040899999998%2C%2040.5819166%5D%5D%5D%2C%20%22type%22%3A%20%22Polygon%22%7D%2C%20%22properties%22%3A%20%7B%22zone_id%22%3A%20%2225%22%7D%2C%20%22type%22%3A%20%22Feature%22%7D%2C%20%7B%22geometry%22%3A%20%7B%22coordinates%22%3A%20%5B%5B%5B-74.08441639999998%2C%2040.5819166%5D%2C%20%5B-74.05842379999999%2C%2040.5819166%5D%2C%20%5B-74.05842379999999%2C%2040.5990952%5D%2C%20%5B-74.08441639999998%2C%2040.5990952%5D%2C%20%5B-74.08441639999998%2C%2040.5819166%5D%5D%5D%2C%20%22type%22%3A%20%22Polygon%22%7D%2C%20%22properties%22%3A%20%7B%22zone_id%22%3A%20%2226%22%7D%2C%20%22type%22%3A%20%22Feature%22%7D%2C%20%7B%22geometry%22%3A%20%7B%22coordinates%22%3A%20%5B%5B%5B-74.05842379999999%2C%2040.5819166%5D%2C%20%5B-74.03243119999999%2C%2040.5819166%5D%2C%20%5B-74.03243119999999%2C%2040.5990952%5D%2C%20%5B-74.05842379999999%2C%2040.5990952%5D%2C%20%5B-74.05842379999999%2C%2040.5819166%5D%5D%5D%2C%20%22type%22%3A%20%22Polygon%22%7D%2C%20%22properties%22%3A%20%7B%22zone_id%22%3A%20%2227%22%7D%2C%20%22type%22%3A%20%22Feature%22%7D%2C%20%7B%22geometry%22%3A%20%7B%22coordinates%22%3A%20%5B%5B%5B-74.03243119999999%2C%2040.5819166%5D%2C%20%5B-74.00643859999998%2C%2040.5819166%5D%2C%20%5B-74.00643859999998%2C%2040.5990952%5D%2C%20%5B-74.03243119999999%2C%2040.5990952%5D%2C%20%5B-74.03243119999999%2C%2040.5819166%5D%5D%5D%2C%20%22type%22%3A%20%22Polygon%22%7D%2C%20%22properties%22%3A%20%7B%22zone_id%22%3A%20%2228%22%7D%2C%20%22type%22%3A%20%22Feature%22%7D%2C%20%7B%22geometry%22%3A%20%7B%22coordinates%22%3A%20%5B%5B%5B-74.00643859999998%2C%2040.5819166%5D%2C%20%5B-73.98044599999999%2C%2040.5819166%5D%2C%20%5B-73.98044599999999%2C%2040.5990952%5D%2C%20%5B-74.00643859999998%2C%2040.5990952%5D%2C%20%5B-74.00643859999998%2C%2040.5819166%5D%5D%5D%2C%20%22type%22%3A%20%22Polygon%22%7D%2C%20%22properties%22%3A%20%7B%22zone_id%22%3A%20%2229%22%7D%2C%20%22type%22%3A%20%22Feature%22%7D%2C%20%7B%22geometry%22%3A%20%7B%22coordinates%22%3A%20%5B%5B%5B-73.98044599999999%2C%2040.5819166%5D%2C%20%5B-73.95445339999999%2C%2040.5819166%5D%2C%20%5B-73.95445339999999%2C%2040.5990952%5D%2C%20%5B-73.98044599999999%2C%2040.5990952%5D%2C%20%5B-73.98044599999999%2C%2040.5819166%5D%5D%5D%2C%20%22type%22%3A%20%22Polygon%22%7D%2C%20%22properties%22%3A%20%7B%22zone_id%22%3A%20%2230%22%7D%2C%20%22type%22%3A%20%22Feature%22%7D%2C%20%7B%22geometry%22%3A%20%7B%22coordinates%22%3A%20%5B%5B%5B-73.95445339999999%2C%2040.5819166%5D%2C%20%5B-73.92846079999998%2C%2040.5819166%5D%2C%20%5B-73.92846079999998%2C%2040.5990952%5D%2C%20%5B-73.95445339999999%2C%2040.5990952%5D%2C%20%5B-73.95445339999999%2C%2040.5819166%5D%5D%5D%2C%20%22type%22%3A%20%22Polygon%22%7D%2C%20%22properties%22%3A%20%7B%22zone_id%22%3A%20%2231%22%7D%2C%20%22type%22%3A%20%22Feature%22%7D%2C%20%7B%22geometry%22%3A%20%7B%22coordinates%22%3A%20%5B%5B%5B-73.92846079999998%2C%2040.5819166%5D%2C%20%5B-73.90246819999999%2C%2040.5819166%5D%2C%20%5B-73.90246819999999%2C%2040.5990952%5D%2C%20%5B-73.92846079999998%2C%2040.5990952%5D%2C%20%5B-73.92846079999998%2C%2040.5819166%5D%5D%5D%2C%20%22type%22%3A%20%22Polygon%22%7D%2C%20%22properties%22%3A%20%7B%22zone_id%22%3A%20%2232%22%7D%2C%20%22type%22%3A%20%22Feature%22%7D%2C%20%7B%22geometry%22%3A%20%7B%22coordinates%22%3A%20%5B%5B%5B-73.90246819999999%2C%2040.5819166%5D%2C%20%5B-73.87647559999999%2C%2040.5819166%5D%2C%20%5B-73.87647559999999%2C%2040.5990952%5D%2C%20%5B-73.90246819999999%2C%2040.5990952%5D%2C%20%5B-73.90246819999999%2C%2040.5819166%5D%5D%5D%2C%20%22type%22%3A%20%22Polygon%22%7D%2C%20%22properties%22%3A%20%7B%22zone_id%22%3A%20%2233%22%7D%2C%20%22type%22%3A%20%22Feature%22%7D%2C%20%7B%22geometry%22%3A%20%7B%22coordinates%22%3A%20%5B%5B%5B-73.87647559999999%2C%2040.5819166%5D%2C%20%5B-73.850483%2C%2040.5819166%5D%2C%20%5B-73.850483%2C%2040.5990952%5D%2C%20%5B-73.87647559999999%2C%2040.5990952%5D%2C%20%5B-73.87647559999999%2C%2040.5819166%5D%5D%5D%2C%20%22type%22%3A%20%22Polygon%22%7D%2C%20%22properties%22%3A%20%7B%22zone_id%22%3A%20%2234%22%7D%2C%20%22type%22%3A%20%22Feature%22%7D%2C%20%7B%22geometry%22%3A%20%7B%22coordinates%22%3A%20%5B%5B%5B-73.850483%2C%2040.5819166%5D%2C%20%5B-73.82449039999999%2C%2040.5819166%5D%2C%20%5B-73.82449039999999%2C%2040.5990952%5D%2C%20%5B-73.850483%2C%2040.5990952%5D%2C%20%5B-73.850483%2C%2040.5819166%5D%5D%5D%2C%20%22type%22%3A%20%22Polygon%22%7D%2C%20%22properties%22%3A%20%7B%22zone_id%22%3A%20%2235%22%7D%2C%20%22type%22%3A%20%22Feature%22%7D%2C%20%7B%22geometry%22%3A%20%7B%22coordinates%22%3A%20%5B%5B%5B-73.82449039999999%2C%2040.5819166%5D%2C%20%5B-73.79849779999999%2C%2040.5819166%5D%2C%20%5B-73.79849779999999%2C%2040.5990952%5D%2C%20%5B-73.82449039999999%2C%2040.5990952%5D%2C%20%5B-73.82449039999999%2C%2040.5819166%5D%5D%5D%2C%20%22type%22%3A%20%22Polygon%22%7D%2C%20%22properties%22%3A%20%7B%22zone_id%22%3A%20%2236%22%7D%2C%20%22type%22%3A%20%22Feature%22%7D%2C%20%7B%22geometry%22%3A%20%7B%22coordinates%22%3A%20%5B%5B%5B-73.79849779999999%2C%2040.5819166%5D%2C%20%5B-73.7725052%2C%2040.5819166%5D%2C%20%5B-73.7725052%2C%2040.5990952%5D%2C%20%5B-73.79849779999999%2C%2040.5990952%5D%2C%20%5B-73.79849779999999%2C%2040.5819166%5D%5D%5D%2C%20%22type%22%3A%20%22Polygon%22%7D%2C%20%22properties%22%3A%20%7B%22zone_id%22%3A%20%2237%22%7D%2C%20%22type%22%3A%20%22Feature%22%7D%2C%20%7B%22geometry%22%3A%20%7B%22coordinates%22%3A%20%5B%5B%5B-73.7725052%2C%2040.5819166%5D%2C%20%5B-73.74651259999999%2C%2040.5819166%5D%2C%20%5B-73.74651259999999%2C%2040.5990952%5D%2C%20%5B-73.7725052%2C%2040.5990952%5D%2C%20%5B-73.7725052%2C%2040.5819166%5D%5D%5D%2C%20%22type%22%3A%20%22Polygon%22%7D%2C%20%22properties%22%3A%20%7B%22zone_id%22%3A%20%2238%22%7D%2C%20%22type%22%3A%20%22Feature%22%7D%2C%20%7B%22geometry%22%3A%20%7B%22coordinates%22%3A%20%5B%5B%5B-73.74651259999999%2C%2040.5819166%5D%2C%20%5B-73.72052%2C%2040.5819166%5D%2C%20%5B-73.72052%2C%2040.5990952%5D%2C%20%5B-73.74651259999999%2C%2040.5990952%5D%2C%20%5B-73.74651259999999%2C%2040.5819166%5D%5D%5D%2C%20%22type%22%3A%20%22Polygon%22%7D%2C%20%22properties%22%3A%20%7B%22zone_id%22%3A%20%2239%22%7D%2C%20%22type%22%3A%20%22Feature%22%7D%2C%20%7B%22geometry%22%3A%20%7B%22coordinates%22%3A%20%5B%5B%5B-74.24037199999998%2C%2040.5990952%5D%2C%20%5B-74.21437939999998%2C%2040.5990952%5D%2C%20%5B-74.21437939999998%2C%2040.6162738%5D%2C%20%5B-74.24037199999998%2C%2040.6162738%5D%2C%20%5B-74.24037199999998%2C%2040.5990952%5D%5D%5D%2C%20%22type%22%3A%20%22Polygon%22%7D%2C%20%22properties%22%3A%20%7B%22zone_id%22%3A%20%2240%22%7D%2C%20%22type%22%3A%20%22Feature%22%7D%2C%20%7B%22geometry%22%3A%20%7B%22coordinates%22%3A%20%5B%5B%5B-74.21437939999998%2C%2040.5990952%5D%2C%20%5B-74.18838679999998%2C%2040.5990952%5D%2C%20%5B-74.18838679999998%2C%2040.6162738%5D%2C%20%5B-74.21437939999998%2C%2040.6162738%5D%2C%20%5B-74.21437939999998%2C%2040.5990952%5D%5D%5D%2C%20%22type%22%3A%20%22Polygon%22%7D%2C%20%22properties%22%3A%20%7B%22zone_id%22%3A%20%2241%22%7D%2C%20%22type%22%3A%20%22Feature%22%7D%2C%20%7B%22geometry%22%3A%20%7B%22coordinates%22%3A%20%5B%5B%5B-74.18838679999998%2C%2040.5990952%5D%2C%20%5B-74.16239419999998%2C%2040.5990952%5D%2C%20%5B-74.16239419999998%2C%2040.6162738%5D%2C%20%5B-74.18838679999998%2C%2040.6162738%5D%2C%20%5B-74.18838679999998%2C%2040.5990952%5D%5D%5D%2C%20%22type%22%3A%20%22Polygon%22%7D%2C%20%22properties%22%3A%20%7B%22zone_id%22%3A%20%2242%22%7D%2C%20%22type%22%3A%20%22Feature%22%7D%2C%20%7B%22geometry%22%3A%20%7B%22coordinates%22%3A%20%5B%5B%5B-74.16239419999998%2C%2040.5990952%5D%2C%20%5B-74.13640159999999%2C%2040.5990952%5D%2C%20%5B-74.13640159999999%2C%2040.6162738%5D%2C%20%5B-74.16239419999998%2C%2040.6162738%5D%2C%20%5B-74.16239419999998%2C%2040.5990952%5D%5D%5D%2C%20%22type%22%3A%20%22Polygon%22%7D%2C%20%22properties%22%3A%20%7B%22zone_id%22%3A%20%2243%22%7D%2C%20%22type%22%3A%20%22Feature%22%7D%2C%20%7B%22geometry%22%3A%20%7B%22coordinates%22%3A%20%5B%5B%5B-74.13640159999999%2C%2040.5990952%5D%2C%20%5B-74.11040899999998%2C%2040.5990952%5D%2C%20%5B-74.11040899999998%2C%2040.6162738%5D%2C%20%5B-74.13640159999999%2C%2040.6162738%5D%2C%20%5B-74.13640159999999%2C%2040.5990952%5D%5D%5D%2C%20%22type%22%3A%20%22Polygon%22%7D%2C%20%22properties%22%3A%20%7B%22zone_id%22%3A%20%2244%22%7D%2C%20%22type%22%3A%20%22Feature%22%7D%2C%20%7B%22geometry%22%3A%20%7B%22coordinates%22%3A%20%5B%5B%5B-74.11040899999998%2C%2040.5990952%5D%2C%20%5B-74.08441639999998%2C%2040.5990952%5D%2C%20%5B-74.08441639999998%2C%2040.6162738%5D%2C%20%5B-74.11040899999998%2C%2040.6162738%5D%2C%20%5B-74.11040899999998%2C%2040.5990952%5D%5D%5D%2C%20%22type%22%3A%20%22Polygon%22%7D%2C%20%22properties%22%3A%20%7B%22zone_id%22%3A%20%2245%22%7D%2C%20%22type%22%3A%20%22Feature%22%7D%2C%20%7B%22geometry%22%3A%20%7B%22coordinates%22%3A%20%5B%5B%5B-74.08441639999998%2C%2040.5990952%5D%2C%20%5B-74.05842379999999%2C%2040.5990952%5D%2C%20%5B-74.05842379999999%2C%2040.6162738%5D%2C%20%5B-74.08441639999998%2C%2040.6162738%5D%2C%20%5B-74.08441639999998%2C%2040.5990952%5D%5D%5D%2C%20%22type%22%3A%20%22Polygon%22%7D%2C%20%22properties%22%3A%20%7B%22zone_id%22%3A%20%2246%22%7D%2C%20%22type%22%3A%20%22Feature%22%7D%2C%20%7B%22geometry%22%3A%20%7B%22coordinates%22%3A%20%5B%5B%5B-74.05842379999999%2C%2040.5990952%5D%2C%20%5B-74.03243119999999%2C%2040.5990952%5D%2C%20%5B-74.03243119999999%2C%2040.6162738%5D%2C%20%5B-74.05842379999999%2C%2040.6162738%5D%2C%20%5B-74.05842379999999%2C%2040.5990952%5D%5D%5D%2C%20%22type%22%3A%20%22Polygon%22%7D%2C%20%22properties%22%3A%20%7B%22zone_id%22%3A%20%2247%22%7D%2C%20%22type%22%3A%20%22Feature%22%7D%2C%20%7B%22geometry%22%3A%20%7B%22coordinates%22%3A%20%5B%5B%5B-74.03243119999999%2C%2040.5990952%5D%2C%20%5B-74.00643859999998%2C%2040.5990952%5D%2C%20%5B-74.00643859999998%2C%2040.6162738%5D%2C%20%5B-74.03243119999999%2C%2040.6162738%5D%2C%20%5B-74.03243119999999%2C%2040.5990952%5D%5D%5D%2C%20%22type%22%3A%20%22Polygon%22%7D%2C%20%22properties%22%3A%20%7B%22zone_id%22%3A%20%2248%22%7D%2C%20%22type%22%3A%20%22Feature%22%7D%2C%20%7B%22geometry%22%3A%20%7B%22coordinates%22%3A%20%5B%5B%5B-74.00643859999998%2C%2040.5990952%5D%2C%20%5B-73.98044599999999%2C%2040.5990952%5D%2C%20%5B-73.98044599999999%2C%2040.6162738%5D%2C%20%5B-74.00643859999998%2C%2040.6162738%5D%2C%20%5B-74.00643859999998%2C%2040.5990952%5D%5D%5D%2C%20%22type%22%3A%20%22Polygon%22%7D%2C%20%22properties%22%3A%20%7B%22zone_id%22%3A%20%2249%22%7D%2C%20%22type%22%3A%20%22Feature%22%7D%2C%20%7B%22geometry%22%3A%20%7B%22coordinates%22%3A%20%5B%5B%5B-73.98044599999999%2C%2040.5990952%5D%2C%20%5B-73.95445339999999%2C%2040.5990952%5D%2C%20%5B-73.95445339999999%2C%2040.6162738%5D%2C%20%5B-73.98044599999999%2C%2040.6162738%5D%2C%20%5B-73.98044599999999%2C%2040.5990952%5D%5D%5D%2C%20%22type%22%3A%20%22Polygon%22%7D%2C%20%22properties%22%3A%20%7B%22zone_id%22%3A%20%2250%22%7D%2C%20%22type%22%3A%20%22Feature%22%7D%2C%20%7B%22geometry%22%3A%20%7B%22coordinates%22%3A%20%5B%5B%5B-73.95445339999999%2C%2040.5990952%5D%2C%20%5B-73.92846079999998%2C%2040.5990952%5D%2C%20%5B-73.92846079999998%2C%2040.6162738%5D%2C%20%5B-73.95445339999999%2C%2040.6162738%5D%2C%20%5B-73.95445339999999%2C%2040.5990952%5D%5D%5D%2C%20%22type%22%3A%20%22Polygon%22%7D%2C%20%22properties%22%3A%20%7B%22zone_id%22%3A%20%2251%22%7D%2C%20%22type%22%3A%20%22Feature%22%7D%2C%20%7B%22geometry%22%3A%20%7B%22coordinates%22%3A%20%5B%5B%5B-73.92846079999998%2C%2040.5990952%5D%2C%20%5B-73.90246819999999%2C%2040.5990952%5D%2C%20%5B-73.90246819999999%2C%2040.6162738%5D%2C%20%5B-73.92846079999998%2C%2040.6162738%5D%2C%20%5B-73.92846079999998%2C%2040.5990952%5D%5D%5D%2C%20%22type%22%3A%20%22Polygon%22%7D%2C%20%22properties%22%3A%20%7B%22zone_id%22%3A%20%2252%22%7D%2C%20%22type%22%3A%20%22Feature%22%7D%2C%20%7B%22geometry%22%3A%20%7B%22coordinates%22%3A%20%5B%5B%5B-73.90246819999999%2C%2040.5990952%5D%2C%20%5B-73.87647559999999%2C%2040.5990952%5D%2C%20%5B-73.87647559999999%2C%2040.6162738%5D%2C%20%5B-73.90246819999999%2C%2040.6162738%5D%2C%20%5B-73.90246819999999%2C%2040.5990952%5D%5D%5D%2C%20%22type%22%3A%20%22Polygon%22%7D%2C%20%22properties%22%3A%20%7B%22zone_id%22%3A%20%2253%22%7D%2C%20%22type%22%3A%20%22Feature%22%7D%2C%20%7B%22geometry%22%3A%20%7B%22coordinates%22%3A%20%5B%5B%5B-73.87647559999999%2C%2040.5990952%5D%2C%20%5B-73.850483%2C%2040.5990952%5D%2C%20%5B-73.850483%2C%2040.6162738%5D%2C%20%5B-73.87647559999999%2C%2040.6162738%5D%2C%20%5B-73.87647559999999%2C%2040.5990952%5D%5D%5D%2C%20%22type%22%3A%20%22Polygon%22%7D%2C%20%22properties%22%3A%20%7B%22zone_id%22%3A%20%2254%22%7D%2C%20%22type%22%3A%20%22Feature%22%7D%2C%20%7B%22geometry%22%3A%20%7B%22coordinates%22%3A%20%5B%5B%5B-73.850483%2C%2040.5990952%5D%2C%20%5B-73.82449039999999%2C%2040.5990952%5D%2C%20%5B-73.82449039999999%2C%2040.6162738%5D%2C%20%5B-73.850483%2C%2040.6162738%5D%2C%20%5B-73.850483%2C%2040.5990952%5D%5D%5D%2C%20%22type%22%3A%20%22Polygon%22%7D%2C%20%22properties%22%3A%20%7B%22zone_id%22%3A%20%2255%22%7D%2C%20%22type%22%3A%20%22Feature%22%7D%2C%20%7B%22geometry%22%3A%20%7B%22coordinates%22%3A%20%5B%5B%5B-73.82449039999999%2C%2040.5990952%5D%2C%20%5B-73.79849779999999%2C%2040.5990952%5D%2C%20%5B-73.79849779999999%2C%2040.6162738%5D%2C%20%5B-73.82449039999999%2C%2040.6162738%5D%2C%20%5B-73.82449039999999%2C%2040.5990952%5D%5D%5D%2C%20%22type%22%3A%20%22Polygon%22%7D%2C%20%22properties%22%3A%20%7B%22zone_id%22%3A%20%2256%22%7D%2C%20%22type%22%3A%20%22Feature%22%7D%2C%20%7B%22geometry%22%3A%20%7B%22coordinates%22%3A%20%5B%5B%5B-73.79849779999999%2C%2040.5990952%5D%2C%20%5B-73.7725052%2C%2040.5990952%5D%2C%20%5B-73.7725052%2C%2040.6162738%5D%2C%20%5B-73.79849779999999%2C%2040.6162738%5D%2C%20%5B-73.79849779999999%2C%2040.5990952%5D%5D%5D%2C%20%22type%22%3A%20%22Polygon%22%7D%2C%20%22properties%22%3A%20%7B%22zone_id%22%3A%20%2257%22%7D%2C%20%22type%22%3A%20%22Feature%22%7D%2C%20%7B%22geometry%22%3A%20%7B%22coordinates%22%3A%20%5B%5B%5B-73.7725052%2C%2040.5990952%5D%2C%20%5B-73.74651259999999%2C%2040.5990952%5D%2C%20%5B-73.74651259999999%2C%2040.6162738%5D%2C%20%5B-73.7725052%2C%2040.6162738%5D%2C%20%5B-73.7725052%2C%2040.5990952%5D%5D%5D%2C%20%22type%22%3A%20%22Polygon%22%7D%2C%20%22properties%22%3A%20%7B%22zone_id%22%3A%20%2258%22%7D%2C%20%22type%22%3A%20%22Feature%22%7D%2C%20%7B%22geometry%22%3A%20%7B%22coordinates%22%3A%20%5B%5B%5B-73.74651259999999%2C%2040.5990952%5D%2C%20%5B-73.72052%2C%2040.5990952%5D%2C%20%5B-73.72052%2C%2040.6162738%5D%2C%20%5B-73.74651259999999%2C%2040.6162738%5D%2C%20%5B-73.74651259999999%2C%2040.5990952%5D%5D%5D%2C%20%22type%22%3A%20%22Polygon%22%7D%2C%20%22properties%22%3A%20%7B%22zone_id%22%3A%20%2259%22%7D%2C%20%22type%22%3A%20%22Feature%22%7D%2C%20%7B%22geometry%22%3A%20%7B%22coordinates%22%3A%20%5B%5B%5B-74.24037199999998%2C%2040.6162738%5D%2C%20%5B-74.21437939999998%2C%2040.6162738%5D%2C%20%5B-74.21437939999998%2C%2040.633452399999996%5D%2C%20%5B-74.24037199999998%2C%2040.633452399999996%5D%2C%20%5B-74.24037199999998%2C%2040.6162738%5D%5D%5D%2C%20%22type%22%3A%20%22Polygon%22%7D%2C%20%22properties%22%3A%20%7B%22zone_id%22%3A%20%2260%22%7D%2C%20%22type%22%3A%20%22Feature%22%7D%2C%20%7B%22geometry%22%3A%20%7B%22coordinates%22%3A%20%5B%5B%5B-74.21437939999998%2C%2040.6162738%5D%2C%20%5B-74.18838679999998%2C%2040.6162738%5D%2C%20%5B-74.18838679999998%2C%2040.633452399999996%5D%2C%20%5B-74.21437939999998%2C%2040.633452399999996%5D%2C%20%5B-74.21437939999998%2C%2040.6162738%5D%5D%5D%2C%20%22type%22%3A%20%22Polygon%22%7D%2C%20%22properties%22%3A%20%7B%22zone_id%22%3A%20%2261%22%7D%2C%20%22type%22%3A%20%22Feature%22%7D%2C%20%7B%22geometry%22%3A%20%7B%22coordinates%22%3A%20%5B%5B%5B-74.18838679999998%2C%2040.6162738%5D%2C%20%5B-74.16239419999998%2C%2040.6162738%5D%2C%20%5B-74.16239419999998%2C%2040.633452399999996%5D%2C%20%5B-74.18838679999998%2C%2040.633452399999996%5D%2C%20%5B-74.18838679999998%2C%2040.6162738%5D%5D%5D%2C%20%22type%22%3A%20%22Polygon%22%7D%2C%20%22properties%22%3A%20%7B%22zone_id%22%3A%20%2262%22%7D%2C%20%22type%22%3A%20%22Feature%22%7D%2C%20%7B%22geometry%22%3A%20%7B%22coordinates%22%3A%20%5B%5B%5B-74.16239419999998%2C%2040.6162738%5D%2C%20%5B-74.13640159999999%2C%2040.6162738%5D%2C%20%5B-74.13640159999999%2C%2040.633452399999996%5D%2C%20%5B-74.16239419999998%2C%2040.633452399999996%5D%2C%20%5B-74.16239419999998%2C%2040.6162738%5D%5D%5D%2C%20%22type%22%3A%20%22Polygon%22%7D%2C%20%22properties%22%3A%20%7B%22zone_id%22%3A%20%2263%22%7D%2C%20%22type%22%3A%20%22Feature%22%7D%2C%20%7B%22geometry%22%3A%20%7B%22coordinates%22%3A%20%5B%5B%5B-74.13640159999999%2C%2040.6162738%5D%2C%20%5B-74.11040899999998%2C%2040.6162738%5D%2C%20%5B-74.11040899999998%2C%2040.633452399999996%5D%2C%20%5B-74.13640159999999%2C%2040.633452399999996%5D%2C%20%5B-74.13640159999999%2C%2040.6162738%5D%5D%5D%2C%20%22type%22%3A%20%22Polygon%22%7D%2C%20%22properties%22%3A%20%7B%22zone_id%22%3A%20%2264%22%7D%2C%20%22type%22%3A%20%22Feature%22%7D%2C%20%7B%22geometry%22%3A%20%7B%22coordinates%22%3A%20%5B%5B%5B-74.11040899999998%2C%2040.6162738%5D%2C%20%5B-74.08441639999998%2C%2040.6162738%5D%2C%20%5B-74.08441639999998%2C%2040.633452399999996%5D%2C%20%5B-74.11040899999998%2C%2040.633452399999996%5D%2C%20%5B-74.11040899999998%2C%2040.6162738%5D%5D%5D%2C%20%22type%22%3A%20%22Polygon%22%7D%2C%20%22properties%22%3A%20%7B%22zone_id%22%3A%20%2265%22%7D%2C%20%22type%22%3A%20%22Feature%22%7D%2C%20%7B%22geometry%22%3A%20%7B%22coordinates%22%3A%20%5B%5B%5B-74.08441639999998%2C%2040.6162738%5D%2C%20%5B-74.05842379999999%2C%2040.6162738%5D%2C%20%5B-74.05842379999999%2C%2040.633452399999996%5D%2C%20%5B-74.08441639999998%2C%2040.633452399999996%5D%2C%20%5B-74.08441639999998%2C%2040.6162738%5D%5D%5D%2C%20%22type%22%3A%20%22Polygon%22%7D%2C%20%22properties%22%3A%20%7B%22zone_id%22%3A%20%2266%22%7D%2C%20%22type%22%3A%20%22Feature%22%7D%2C%20%7B%22geometry%22%3A%20%7B%22coordinates%22%3A%20%5B%5B%5B-74.05842379999999%2C%2040.6162738%5D%2C%20%5B-74.03243119999999%2C%2040.6162738%5D%2C%20%5B-74.03243119999999%2C%2040.633452399999996%5D%2C%20%5B-74.05842379999999%2C%2040.633452399999996%5D%2C%20%5B-74.05842379999999%2C%2040.6162738%5D%5D%5D%2C%20%22type%22%3A%20%22Polygon%22%7D%2C%20%22properties%22%3A%20%7B%22zone_id%22%3A%20%2267%22%7D%2C%20%22type%22%3A%20%22Feature%22%7D%2C%20%7B%22geometry%22%3A%20%7B%22coordinates%22%3A%20%5B%5B%5B-74.03243119999999%2C%2040.6162738%5D%2C%20%5B-74.00643859999998%2C%2040.6162738%5D%2C%20%5B-74.00643859999998%2C%2040.633452399999996%5D%2C%20%5B-74.03243119999999%2C%2040.633452399999996%5D%2C%20%5B-74.03243119999999%2C%2040.6162738%5D%5D%5D%2C%20%22type%22%3A%20%22Polygon%22%7D%2C%20%22properties%22%3A%20%7B%22zone_id%22%3A%20%2268%22%7D%2C%20%22type%22%3A%20%22Feature%22%7D%2C%20%7B%22geometry%22%3A%20%7B%22coordinates%22%3A%20%5B%5B%5B-74.00643859999998%2C%2040.6162738%5D%2C%20%5B-73.98044599999999%2C%2040.6162738%5D%2C%20%5B-73.98044599999999%2C%2040.633452399999996%5D%2C%20%5B-74.00643859999998%2C%2040.633452399999996%5D%2C%20%5B-74.00643859999998%2C%2040.6162738%5D%5D%5D%2C%20%22type%22%3A%20%22Polygon%22%7D%2C%20%22properties%22%3A%20%7B%22zone_id%22%3A%20%2269%22%7D%2C%20%22type%22%3A%20%22Feature%22%7D%2C%20%7B%22geometry%22%3A%20%7B%22coordinates%22%3A%20%5B%5B%5B-73.98044599999999%2C%2040.6162738%5D%2C%20%5B-73.95445339999999%2C%2040.6162738%5D%2C%20%5B-73.95445339999999%2C%2040.633452399999996%5D%2C%20%5B-73.98044599999999%2C%2040.633452399999996%5D%2C%20%5B-73.98044599999999%2C%2040.6162738%5D%5D%5D%2C%20%22type%22%3A%20%22Polygon%22%7D%2C%20%22properties%22%3A%20%7B%22zone_id%22%3A%20%2270%22%7D%2C%20%22type%22%3A%20%22Feature%22%7D%2C%20%7B%22geometry%22%3A%20%7B%22coordinates%22%3A%20%5B%5B%5B-73.95445339999999%2C%2040.6162738%5D%2C%20%5B-73.92846079999998%2C%2040.6162738%5D%2C%20%5B-73.92846079999998%2C%2040.633452399999996%5D%2C%20%5B-73.95445339999999%2C%2040.633452399999996%5D%2C%20%5B-73.95445339999999%2C%2040.6162738%5D%5D%5D%2C%20%22type%22%3A%20%22Polygon%22%7D%2C%20%22properties%22%3A%20%7B%22zone_id%22%3A%20%2271%22%7D%2C%20%22type%22%3A%20%22Feature%22%7D%2C%20%7B%22geometry%22%3A%20%7B%22coordinates%22%3A%20%5B%5B%5B-73.92846079999998%2C%2040.6162738%5D%2C%20%5B-73.90246819999999%2C%2040.6162738%5D%2C%20%5B-73.90246819999999%2C%2040.633452399999996%5D%2C%20%5B-73.92846079999998%2C%2040.633452399999996%5D%2C%20%5B-73.92846079999998%2C%2040.6162738%5D%5D%5D%2C%20%22type%22%3A%20%22Polygon%22%7D%2C%20%22properties%22%3A%20%7B%22zone_id%22%3A%20%2272%22%7D%2C%20%22type%22%3A%20%22Feature%22%7D%2C%20%7B%22geometry%22%3A%20%7B%22coordinates%22%3A%20%5B%5B%5B-73.90246819999999%2C%2040.6162738%5D%2C%20%5B-73.87647559999999%2C%2040.6162738%5D%2C%20%5B-73.87647559999999%2C%2040.633452399999996%5D%2C%20%5B-73.90246819999999%2C%2040.633452399999996%5D%2C%20%5B-73.90246819999999%2C%2040.6162738%5D%5D%5D%2C%20%22type%22%3A%20%22Polygon%22%7D%2C%20%22properties%22%3A%20%7B%22zone_id%22%3A%20%2273%22%7D%2C%20%22type%22%3A%20%22Feature%22%7D%2C%20%7B%22geometry%22%3A%20%7B%22coordinates%22%3A%20%5B%5B%5B-73.87647559999999%2C%2040.6162738%5D%2C%20%5B-73.850483%2C%2040.6162738%5D%2C%20%5B-73.850483%2C%2040.633452399999996%5D%2C%20%5B-73.87647559999999%2C%2040.633452399999996%5D%2C%20%5B-73.87647559999999%2C%2040.6162738%5D%5D%5D%2C%20%22type%22%3A%20%22Polygon%22%7D%2C%20%22properties%22%3A%20%7B%22zone_id%22%3A%20%2274%22%7D%2C%20%22type%22%3A%20%22Feature%22%7D%2C%20%7B%22geometry%22%3A%20%7B%22coordinates%22%3A%20%5B%5B%5B-73.850483%2C%2040.6162738%5D%2C%20%5B-73.82449039999999%2C%2040.6162738%5D%2C%20%5B-73.82449039999999%2C%2040.633452399999996%5D%2C%20%5B-73.850483%2C%2040.633452399999996%5D%2C%20%5B-73.850483%2C%2040.6162738%5D%5D%5D%2C%20%22type%22%3A%20%22Polygon%22%7D%2C%20%22properties%22%3A%20%7B%22zone_id%22%3A%20%2275%22%7D%2C%20%22type%22%3A%20%22Feature%22%7D%2C%20%7B%22geometry%22%3A%20%7B%22coordinates%22%3A%20%5B%5B%5B-73.82449039999999%2C%2040.6162738%5D%2C%20%5B-73.79849779999999%2C%2040.6162738%5D%2C%20%5B-73.79849779999999%2C%2040.633452399999996%5D%2C%20%5B-73.82449039999999%2C%2040.633452399999996%5D%2C%20%5B-73.82449039999999%2C%2040.6162738%5D%5D%5D%2C%20%22type%22%3A%20%22Polygon%22%7D%2C%20%22properties%22%3A%20%7B%22zone_id%22%3A%20%2276%22%7D%2C%20%22type%22%3A%20%22Feature%22%7D%2C%20%7B%22geometry%22%3A%20%7B%22coordinates%22%3A%20%5B%5B%5B-73.79849779999999%2C%2040.6162738%5D%2C%20%5B-73.7725052%2C%2040.6162738%5D%2C%20%5B-73.7725052%2C%2040.633452399999996%5D%2C%20%5B-73.79849779999999%2C%2040.633452399999996%5D%2C%20%5B-73.79849779999999%2C%2040.6162738%5D%5D%5D%2C%20%22type%22%3A%20%22Polygon%22%7D%2C%20%22properties%22%3A%20%7B%22zone_id%22%3A%20%2277%22%7D%2C%20%22type%22%3A%20%22Feature%22%7D%2C%20%7B%22geometry%22%3A%20%7B%22coordinates%22%3A%20%5B%5B%5B-73.7725052%2C%2040.6162738%5D%2C%20%5B-73.74651259999999%2C%2040.6162738%5D%2C%20%5B-73.74651259999999%2C%2040.633452399999996%5D%2C%20%5B-73.7725052%2C%2040.633452399999996%5D%2C%20%5B-73.7725052%2C%2040.6162738%5D%5D%5D%2C%20%22type%22%3A%20%22Polygon%22%7D%2C%20%22properties%22%3A%20%7B%22zone_id%22%3A%20%2278%22%7D%2C%20%22type%22%3A%20%22Feature%22%7D%2C%20%7B%22geometry%22%3A%20%7B%22coordinates%22%3A%20%5B%5B%5B-73.74651259999999%2C%2040.6162738%5D%2C%20%5B-73.72052%2C%2040.6162738%5D%2C%20%5B-73.72052%2C%2040.633452399999996%5D%2C%20%5B-73.74651259999999%2C%2040.633452399999996%5D%2C%20%5B-73.74651259999999%2C%2040.6162738%5D%5D%5D%2C%20%22type%22%3A%20%22Polygon%22%7D%2C%20%22properties%22%3A%20%7B%22zone_id%22%3A%20%2279%22%7D%2C%20%22type%22%3A%20%22Feature%22%7D%2C%20%7B%22geometry%22%3A%20%7B%22coordinates%22%3A%20%5B%5B%5B-74.24037199999998%2C%2040.633452399999996%5D%2C%20%5B-74.21437939999998%2C%2040.633452399999996%5D%2C%20%5B-74.21437939999998%2C%2040.650631%5D%2C%20%5B-74.24037199999998%2C%2040.650631%5D%2C%20%5B-74.24037199999998%2C%2040.633452399999996%5D%5D%5D%2C%20%22type%22%3A%20%22Polygon%22%7D%2C%20%22properties%22%3A%20%7B%22zone_id%22%3A%20%2280%22%7D%2C%20%22type%22%3A%20%22Feature%22%7D%2C%20%7B%22geometry%22%3A%20%7B%22coordinates%22%3A%20%5B%5B%5B-74.21437939999998%2C%2040.633452399999996%5D%2C%20%5B-74.18838679999998%2C%2040.633452399999996%5D%2C%20%5B-74.18838679999998%2C%2040.650631%5D%2C%20%5B-74.21437939999998%2C%2040.650631%5D%2C%20%5B-74.21437939999998%2C%2040.633452399999996%5D%5D%5D%2C%20%22type%22%3A%20%22Polygon%22%7D%2C%20%22properties%22%3A%20%7B%22zone_id%22%3A%20%2281%22%7D%2C%20%22type%22%3A%20%22Feature%22%7D%2C%20%7B%22geometry%22%3A%20%7B%22coordinates%22%3A%20%5B%5B%5B-74.18838679999998%2C%2040.633452399999996%5D%2C%20%5B-74.16239419999998%2C%2040.633452399999996%5D%2C%20%5B-74.16239419999998%2C%2040.650631%5D%2C%20%5B-74.18838679999998%2C%2040.650631%5D%2C%20%5B-74.18838679999998%2C%2040.633452399999996%5D%5D%5D%2C%20%22type%22%3A%20%22Polygon%22%7D%2C%20%22properties%22%3A%20%7B%22zone_id%22%3A%20%2282%22%7D%2C%20%22type%22%3A%20%22Feature%22%7D%2C%20%7B%22geometry%22%3A%20%7B%22coordinates%22%3A%20%5B%5B%5B-74.16239419999998%2C%2040.633452399999996%5D%2C%20%5B-74.13640159999999%2C%2040.633452399999996%5D%2C%20%5B-74.13640159999999%2C%2040.650631%5D%2C%20%5B-74.16239419999998%2C%2040.650631%5D%2C%20%5B-74.16239419999998%2C%2040.633452399999996%5D%5D%5D%2C%20%22type%22%3A%20%22Polygon%22%7D%2C%20%22properties%22%3A%20%7B%22zone_id%22%3A%20%2283%22%7D%2C%20%22type%22%3A%20%22Feature%22%7D%2C%20%7B%22geometry%22%3A%20%7B%22coordinates%22%3A%20%5B%5B%5B-74.13640159999999%2C%2040.633452399999996%5D%2C%20%5B-74.11040899999998%2C%2040.633452399999996%5D%2C%20%5B-74.11040899999998%2C%2040.650631%5D%2C%20%5B-74.13640159999999%2C%2040.650631%5D%2C%20%5B-74.13640159999999%2C%2040.633452399999996%5D%5D%5D%2C%20%22type%22%3A%20%22Polygon%22%7D%2C%20%22properties%22%3A%20%7B%22zone_id%22%3A%20%2284%22%7D%2C%20%22type%22%3A%20%22Feature%22%7D%2C%20%7B%22geometry%22%3A%20%7B%22coordinates%22%3A%20%5B%5B%5B-74.11040899999998%2C%2040.633452399999996%5D%2C%20%5B-74.08441639999998%2C%2040.633452399999996%5D%2C%20%5B-74.08441639999998%2C%2040.650631%5D%2C%20%5B-74.11040899999998%2C%2040.650631%5D%2C%20%5B-74.11040899999998%2C%2040.633452399999996%5D%5D%5D%2C%20%22type%22%3A%20%22Polygon%22%7D%2C%20%22properties%22%3A%20%7B%22zone_id%22%3A%20%2285%22%7D%2C%20%22type%22%3A%20%22Feature%22%7D%2C%20%7B%22geometry%22%3A%20%7B%22coordinates%22%3A%20%5B%5B%5B-74.08441639999998%2C%2040.633452399999996%5D%2C%20%5B-74.05842379999999%2C%2040.633452399999996%5D%2C%20%5B-74.05842379999999%2C%2040.650631%5D%2C%20%5B-74.08441639999998%2C%2040.650631%5D%2C%20%5B-74.08441639999998%2C%2040.633452399999996%5D%5D%5D%2C%20%22type%22%3A%20%22Polygon%22%7D%2C%20%22properties%22%3A%20%7B%22zone_id%22%3A%20%2286%22%7D%2C%20%22type%22%3A%20%22Feature%22%7D%2C%20%7B%22geometry%22%3A%20%7B%22coordinates%22%3A%20%5B%5B%5B-74.05842379999999%2C%2040.633452399999996%5D%2C%20%5B-74.03243119999999%2C%2040.633452399999996%5D%2C%20%5B-74.03243119999999%2C%2040.650631%5D%2C%20%5B-74.05842379999999%2C%2040.650631%5D%2C%20%5B-74.05842379999999%2C%2040.633452399999996%5D%5D%5D%2C%20%22type%22%3A%20%22Polygon%22%7D%2C%20%22properties%22%3A%20%7B%22zone_id%22%3A%20%2287%22%7D%2C%20%22type%22%3A%20%22Feature%22%7D%2C%20%7B%22geometry%22%3A%20%7B%22coordinates%22%3A%20%5B%5B%5B-74.03243119999999%2C%2040.633452399999996%5D%2C%20%5B-74.00643859999998%2C%2040.633452399999996%5D%2C%20%5B-74.00643859999998%2C%2040.650631%5D%2C%20%5B-74.03243119999999%2C%2040.650631%5D%2C%20%5B-74.03243119999999%2C%2040.633452399999996%5D%5D%5D%2C%20%22type%22%3A%20%22Polygon%22%7D%2C%20%22properties%22%3A%20%7B%22zone_id%22%3A%20%2288%22%7D%2C%20%22type%22%3A%20%22Feature%22%7D%2C%20%7B%22geometry%22%3A%20%7B%22coordinates%22%3A%20%5B%5B%5B-74.00643859999998%2C%2040.633452399999996%5D%2C%20%5B-73.98044599999999%2C%2040.633452399999996%5D%2C%20%5B-73.98044599999999%2C%2040.650631%5D%2C%20%5B-74.00643859999998%2C%2040.650631%5D%2C%20%5B-74.00643859999998%2C%2040.633452399999996%5D%5D%5D%2C%20%22type%22%3A%20%22Polygon%22%7D%2C%20%22properties%22%3A%20%7B%22zone_id%22%3A%20%2289%22%7D%2C%20%22type%22%3A%20%22Feature%22%7D%2C%20%7B%22geometry%22%3A%20%7B%22coordinates%22%3A%20%5B%5B%5B-73.98044599999999%2C%2040.633452399999996%5D%2C%20%5B-73.95445339999999%2C%2040.633452399999996%5D%2C%20%5B-73.95445339999999%2C%2040.650631%5D%2C%20%5B-73.98044599999999%2C%2040.650631%5D%2C%20%5B-73.98044599999999%2C%2040.633452399999996%5D%5D%5D%2C%20%22type%22%3A%20%22Polygon%22%7D%2C%20%22properties%22%3A%20%7B%22zone_id%22%3A%20%2290%22%7D%2C%20%22type%22%3A%20%22Feature%22%7D%2C%20%7B%22geometry%22%3A%20%7B%22coordinates%22%3A%20%5B%5B%5B-73.95445339999999%2C%2040.633452399999996%5D%2C%20%5B-73.92846079999998%2C%2040.633452399999996%5D%2C%20%5B-73.92846079999998%2C%2040.650631%5D%2C%20%5B-73.95445339999999%2C%2040.650631%5D%2C%20%5B-73.95445339999999%2C%2040.633452399999996%5D%5D%5D%2C%20%22type%22%3A%20%22Polygon%22%7D%2C%20%22properties%22%3A%20%7B%22zone_id%22%3A%20%2291%22%7D%2C%20%22type%22%3A%20%22Feature%22%7D%2C%20%7B%22geometry%22%3A%20%7B%22coordinates%22%3A%20%5B%5B%5B-73.92846079999998%2C%2040.633452399999996%5D%2C%20%5B-73.90246819999999%2C%2040.633452399999996%5D%2C%20%5B-73.90246819999999%2C%2040.650631%5D%2C%20%5B-73.92846079999998%2C%2040.650631%5D%2C%20%5B-73.92846079999998%2C%2040.633452399999996%5D%5D%5D%2C%20%22type%22%3A%20%22Polygon%22%7D%2C%20%22properties%22%3A%20%7B%22zone_id%22%3A%20%2292%22%7D%2C%20%22type%22%3A%20%22Feature%22%7D%2C%20%7B%22geometry%22%3A%20%7B%22coordinates%22%3A%20%5B%5B%5B-73.90246819999999%2C%2040.633452399999996%5D%2C%20%5B-73.87647559999999%2C%2040.633452399999996%5D%2C%20%5B-73.87647559999999%2C%2040.650631%5D%2C%20%5B-73.90246819999999%2C%2040.650631%5D%2C%20%5B-73.90246819999999%2C%2040.633452399999996%5D%5D%5D%2C%20%22type%22%3A%20%22Polygon%22%7D%2C%20%22properties%22%3A%20%7B%22zone_id%22%3A%20%2293%22%7D%2C%20%22type%22%3A%20%22Feature%22%7D%2C%20%7B%22geometry%22%3A%20%7B%22coordinates%22%3A%20%5B%5B%5B-73.87647559999999%2C%2040.633452399999996%5D%2C%20%5B-73.850483%2C%2040.633452399999996%5D%2C%20%5B-73.850483%2C%2040.650631%5D%2C%20%5B-73.87647559999999%2C%2040.650631%5D%2C%20%5B-73.87647559999999%2C%2040.633452399999996%5D%5D%5D%2C%20%22type%22%3A%20%22Polygon%22%7D%2C%20%22properties%22%3A%20%7B%22zone_id%22%3A%20%2294%22%7D%2C%20%22type%22%3A%20%22Feature%22%7D%2C%20%7B%22geometry%22%3A%20%7B%22coordinates%22%3A%20%5B%5B%5B-73.850483%2C%2040.633452399999996%5D%2C%20%5B-73.82449039999999%2C%2040.633452399999996%5D%2C%20%5B-73.82449039999999%2C%2040.650631%5D%2C%20%5B-73.850483%2C%2040.650631%5D%2C%20%5B-73.850483%2C%2040.633452399999996%5D%5D%5D%2C%20%22type%22%3A%20%22Polygon%22%7D%2C%20%22properties%22%3A%20%7B%22zone_id%22%3A%20%2295%22%7D%2C%20%22type%22%3A%20%22Feature%22%7D%2C%20%7B%22geometry%22%3A%20%7B%22coordinates%22%3A%20%5B%5B%5B-73.82449039999999%2C%2040.633452399999996%5D%2C%20%5B-73.79849779999999%2C%2040.633452399999996%5D%2C%20%5B-73.79849779999999%2C%2040.650631%5D%2C%20%5B-73.82449039999999%2C%2040.650631%5D%2C%20%5B-73.82449039999999%2C%2040.633452399999996%5D%5D%5D%2C%20%22type%22%3A%20%22Polygon%22%7D%2C%20%22properties%22%3A%20%7B%22zone_id%22%3A%20%2296%22%7D%2C%20%22type%22%3A%20%22Feature%22%7D%2C%20%7B%22geometry%22%3A%20%7B%22coordinates%22%3A%20%5B%5B%5B-73.79849779999999%2C%2040.633452399999996%5D%2C%20%5B-73.7725052%2C%2040.633452399999996%5D%2C%20%5B-73.7725052%2C%2040.650631%5D%2C%20%5B-73.79849779999999%2C%2040.650631%5D%2C%20%5B-73.79849779999999%2C%2040.633452399999996%5D%5D%5D%2C%20%22type%22%3A%20%22Polygon%22%7D%2C%20%22properties%22%3A%20%7B%22zone_id%22%3A%20%2297%22%7D%2C%20%22type%22%3A%20%22Feature%22%7D%2C%20%7B%22geometry%22%3A%20%7B%22coordinates%22%3A%20%5B%5B%5B-73.7725052%2C%2040.633452399999996%5D%2C%20%5B-73.74651259999999%2C%2040.633452399999996%5D%2C%20%5B-73.74651259999999%2C%2040.650631%5D%2C%20%5B-73.7725052%2C%2040.650631%5D%2C%20%5B-73.7725052%2C%2040.633452399999996%5D%5D%5D%2C%20%22type%22%3A%20%22Polygon%22%7D%2C%20%22properties%22%3A%20%7B%22zone_id%22%3A%20%2298%22%7D%2C%20%22type%22%3A%20%22Feature%22%7D%2C%20%7B%22geometry%22%3A%20%7B%22coordinates%22%3A%20%5B%5B%5B-73.74651259999999%2C%2040.633452399999996%5D%2C%20%5B-73.72052%2C%2040.633452399999996%5D%2C%20%5B-73.72052%2C%2040.650631%5D%2C%20%5B-73.74651259999999%2C%2040.650631%5D%2C%20%5B-73.74651259999999%2C%2040.633452399999996%5D%5D%5D%2C%20%22type%22%3A%20%22Polygon%22%7D%2C%20%22properties%22%3A%20%7B%22zone_id%22%3A%20%2299%22%7D%2C%20%22type%22%3A%20%22Feature%22%7D%2C%20%7B%22geometry%22%3A%20%7B%22coordinates%22%3A%20%5B%5B%5B-74.24037199999998%2C%2040.650631%5D%2C%20%5B-74.21437939999998%2C%2040.650631%5D%2C%20%5B-74.21437939999998%2C%2040.6678096%5D%2C%20%5B-74.24037199999998%2C%2040.6678096%5D%2C%20%5B-74.24037199999998%2C%2040.650631%5D%5D%5D%2C%20%22type%22%3A%20%22Polygon%22%7D%2C%20%22properties%22%3A%20%7B%22zone_id%22%3A%20%22100%22%7D%2C%20%22type%22%3A%20%22Feature%22%7D%2C%20%7B%22geometry%22%3A%20%7B%22coordinates%22%3A%20%5B%5B%5B-74.21437939999998%2C%2040.650631%5D%2C%20%5B-74.18838679999998%2C%2040.650631%5D%2C%20%5B-74.18838679999998%2C%2040.6678096%5D%2C%20%5B-74.21437939999998%2C%2040.6678096%5D%2C%20%5B-74.21437939999998%2C%2040.650631%5D%5D%5D%2C%20%22type%22%3A%20%22Polygon%22%7D%2C%20%22properties%22%3A%20%7B%22zone_id%22%3A%20%22101%22%7D%2C%20%22type%22%3A%20%22Feature%22%7D%2C%20%7B%22geometry%22%3A%20%7B%22coordinates%22%3A%20%5B%5B%5B-74.18838679999998%2C%2040.650631%5D%2C%20%5B-74.16239419999998%2C%2040.650631%5D%2C%20%5B-74.16239419999998%2C%2040.6678096%5D%2C%20%5B-74.18838679999998%2C%2040.6678096%5D%2C%20%5B-74.18838679999998%2C%2040.650631%5D%5D%5D%2C%20%22type%22%3A%20%22Polygon%22%7D%2C%20%22properties%22%3A%20%7B%22zone_id%22%3A%20%22102%22%7D%2C%20%22type%22%3A%20%22Feature%22%7D%2C%20%7B%22geometry%22%3A%20%7B%22coordinates%22%3A%20%5B%5B%5B-74.16239419999998%2C%2040.650631%5D%2C%20%5B-74.13640159999999%2C%2040.650631%5D%2C%20%5B-74.13640159999999%2C%2040.6678096%5D%2C%20%5B-74.16239419999998%2C%2040.6678096%5D%2C%20%5B-74.16239419999998%2C%2040.650631%5D%5D%5D%2C%20%22type%22%3A%20%22Polygon%22%7D%2C%20%22properties%22%3A%20%7B%22zone_id%22%3A%20%22103%22%7D%2C%20%22type%22%3A%20%22Feature%22%7D%2C%20%7B%22geometry%22%3A%20%7B%22coordinates%22%3A%20%5B%5B%5B-74.13640159999999%2C%2040.650631%5D%2C%20%5B-74.11040899999998%2C%2040.650631%5D%2C%20%5B-74.11040899999998%2C%2040.6678096%5D%2C%20%5B-74.13640159999999%2C%2040.6678096%5D%2C%20%5B-74.13640159999999%2C%2040.650631%5D%5D%5D%2C%20%22type%22%3A%20%22Polygon%22%7D%2C%20%22properties%22%3A%20%7B%22zone_id%22%3A%20%22104%22%7D%2C%20%22type%22%3A%20%22Feature%22%7D%2C%20%7B%22geometry%22%3A%20%7B%22coordinates%22%3A%20%5B%5B%5B-74.11040899999998%2C%2040.650631%5D%2C%20%5B-74.08441639999998%2C%2040.650631%5D%2C%20%5B-74.08441639999998%2C%2040.6678096%5D%2C%20%5B-74.11040899999998%2C%2040.6678096%5D%2C%20%5B-74.11040899999998%2C%2040.650631%5D%5D%5D%2C%20%22type%22%3A%20%22Polygon%22%7D%2C%20%22properties%22%3A%20%7B%22zone_id%22%3A%20%22105%22%7D%2C%20%22type%22%3A%20%22Feature%22%7D%2C%20%7B%22geometry%22%3A%20%7B%22coordinates%22%3A%20%5B%5B%5B-74.08441639999998%2C%2040.650631%5D%2C%20%5B-74.05842379999999%2C%2040.650631%5D%2C%20%5B-74.05842379999999%2C%2040.6678096%5D%2C%20%5B-74.08441639999998%2C%2040.6678096%5D%2C%20%5B-74.08441639999998%2C%2040.650631%5D%5D%5D%2C%20%22type%22%3A%20%22Polygon%22%7D%2C%20%22properties%22%3A%20%7B%22zone_id%22%3A%20%22106%22%7D%2C%20%22type%22%3A%20%22Feature%22%7D%2C%20%7B%22geometry%22%3A%20%7B%22coordinates%22%3A%20%5B%5B%5B-74.05842379999999%2C%2040.650631%5D%2C%20%5B-74.03243119999999%2C%2040.650631%5D%2C%20%5B-74.03243119999999%2C%2040.6678096%5D%2C%20%5B-74.05842379999999%2C%2040.6678096%5D%2C%20%5B-74.05842379999999%2C%2040.650631%5D%5D%5D%2C%20%22type%22%3A%20%22Polygon%22%7D%2C%20%22properties%22%3A%20%7B%22zone_id%22%3A%20%22107%22%7D%2C%20%22type%22%3A%20%22Feature%22%7D%2C%20%7B%22geometry%22%3A%20%7B%22coordinates%22%3A%20%5B%5B%5B-74.03243119999999%2C%2040.650631%5D%2C%20%5B-74.00643859999998%2C%2040.650631%5D%2C%20%5B-74.00643859999998%2C%2040.6678096%5D%2C%20%5B-74.03243119999999%2C%2040.6678096%5D%2C%20%5B-74.03243119999999%2C%2040.650631%5D%5D%5D%2C%20%22type%22%3A%20%22Polygon%22%7D%2C%20%22properties%22%3A%20%7B%22zone_id%22%3A%20%22108%22%7D%2C%20%22type%22%3A%20%22Feature%22%7D%2C%20%7B%22geometry%22%3A%20%7B%22coordinates%22%3A%20%5B%5B%5B-74.00643859999998%2C%2040.650631%5D%2C%20%5B-73.98044599999999%2C%2040.650631%5D%2C%20%5B-73.98044599999999%2C%2040.6678096%5D%2C%20%5B-74.00643859999998%2C%2040.6678096%5D%2C%20%5B-74.00643859999998%2C%2040.650631%5D%5D%5D%2C%20%22type%22%3A%20%22Polygon%22%7D%2C%20%22properties%22%3A%20%7B%22zone_id%22%3A%20%22109%22%7D%2C%20%22type%22%3A%20%22Feature%22%7D%2C%20%7B%22geometry%22%3A%20%7B%22coordinates%22%3A%20%5B%5B%5B-73.98044599999999%2C%2040.650631%5D%2C%20%5B-73.95445339999999%2C%2040.650631%5D%2C%20%5B-73.95445339999999%2C%2040.6678096%5D%2C%20%5B-73.98044599999999%2C%2040.6678096%5D%2C%20%5B-73.98044599999999%2C%2040.650631%5D%5D%5D%2C%20%22type%22%3A%20%22Polygon%22%7D%2C%20%22properties%22%3A%20%7B%22zone_id%22%3A%20%22110%22%7D%2C%20%22type%22%3A%20%22Feature%22%7D%2C%20%7B%22geometry%22%3A%20%7B%22coordinates%22%3A%20%5B%5B%5B-73.95445339999999%2C%2040.650631%5D%2C%20%5B-73.92846079999998%2C%2040.650631%5D%2C%20%5B-73.92846079999998%2C%2040.6678096%5D%2C%20%5B-73.95445339999999%2C%2040.6678096%5D%2C%20%5B-73.95445339999999%2C%2040.650631%5D%5D%5D%2C%20%22type%22%3A%20%22Polygon%22%7D%2C%20%22properties%22%3A%20%7B%22zone_id%22%3A%20%22111%22%7D%2C%20%22type%22%3A%20%22Feature%22%7D%2C%20%7B%22geometry%22%3A%20%7B%22coordinates%22%3A%20%5B%5B%5B-73.92846079999998%2C%2040.650631%5D%2C%20%5B-73.90246819999999%2C%2040.650631%5D%2C%20%5B-73.90246819999999%2C%2040.6678096%5D%2C%20%5B-73.92846079999998%2C%2040.6678096%5D%2C%20%5B-73.92846079999998%2C%2040.650631%5D%5D%5D%2C%20%22type%22%3A%20%22Polygon%22%7D%2C%20%22properties%22%3A%20%7B%22zone_id%22%3A%20%22112%22%7D%2C%20%22type%22%3A%20%22Feature%22%7D%2C%20%7B%22geometry%22%3A%20%7B%22coordinates%22%3A%20%5B%5B%5B-73.90246819999999%2C%2040.650631%5D%2C%20%5B-73.87647559999999%2C%2040.650631%5D%2C%20%5B-73.87647559999999%2C%2040.6678096%5D%2C%20%5B-73.90246819999999%2C%2040.6678096%5D%2C%20%5B-73.90246819999999%2C%2040.650631%5D%5D%5D%2C%20%22type%22%3A%20%22Polygon%22%7D%2C%20%22properties%22%3A%20%7B%22zone_id%22%3A%20%22113%22%7D%2C%20%22type%22%3A%20%22Feature%22%7D%2C%20%7B%22geometry%22%3A%20%7B%22coordinates%22%3A%20%5B%5B%5B-73.87647559999999%2C%2040.650631%5D%2C%20%5B-73.850483%2C%2040.650631%5D%2C%20%5B-73.850483%2C%2040.6678096%5D%2C%20%5B-73.87647559999999%2C%2040.6678096%5D%2C%20%5B-73.87647559999999%2C%2040.650631%5D%5D%5D%2C%20%22type%22%3A%20%22Polygon%22%7D%2C%20%22properties%22%3A%20%7B%22zone_id%22%3A%20%22114%22%7D%2C%20%22type%22%3A%20%22Feature%22%7D%2C%20%7B%22geometry%22%3A%20%7B%22coordinates%22%3A%20%5B%5B%5B-73.850483%2C%2040.650631%5D%2C%20%5B-73.82449039999999%2C%2040.650631%5D%2C%20%5B-73.82449039999999%2C%2040.6678096%5D%2C%20%5B-73.850483%2C%2040.6678096%5D%2C%20%5B-73.850483%2C%2040.650631%5D%5D%5D%2C%20%22type%22%3A%20%22Polygon%22%7D%2C%20%22properties%22%3A%20%7B%22zone_id%22%3A%20%22115%22%7D%2C%20%22type%22%3A%20%22Feature%22%7D%2C%20%7B%22geometry%22%3A%20%7B%22coordinates%22%3A%20%5B%5B%5B-73.82449039999999%2C%2040.650631%5D%2C%20%5B-73.79849779999999%2C%2040.650631%5D%2C%20%5B-73.79849779999999%2C%2040.6678096%5D%2C%20%5B-73.82449039999999%2C%2040.6678096%5D%2C%20%5B-73.82449039999999%2C%2040.650631%5D%5D%5D%2C%20%22type%22%3A%20%22Polygon%22%7D%2C%20%22properties%22%3A%20%7B%22zone_id%22%3A%20%22116%22%7D%2C%20%22type%22%3A%20%22Feature%22%7D%2C%20%7B%22geometry%22%3A%20%7B%22coordinates%22%3A%20%5B%5B%5B-73.79849779999999%2C%2040.650631%5D%2C%20%5B-73.7725052%2C%2040.650631%5D%2C%20%5B-73.7725052%2C%2040.6678096%5D%2C%20%5B-73.79849779999999%2C%2040.6678096%5D%2C%20%5B-73.79849779999999%2C%2040.650631%5D%5D%5D%2C%20%22type%22%3A%20%22Polygon%22%7D%2C%20%22properties%22%3A%20%7B%22zone_id%22%3A%20%22117%22%7D%2C%20%22type%22%3A%20%22Feature%22%7D%2C%20%7B%22geometry%22%3A%20%7B%22coordinates%22%3A%20%5B%5B%5B-73.7725052%2C%2040.650631%5D%2C%20%5B-73.74651259999999%2C%2040.650631%5D%2C%20%5B-73.74651259999999%2C%2040.6678096%5D%2C%20%5B-73.7725052%2C%2040.6678096%5D%2C%20%5B-73.7725052%2C%2040.650631%5D%5D%5D%2C%20%22type%22%3A%20%22Polygon%22%7D%2C%20%22properties%22%3A%20%7B%22zone_id%22%3A%20%22118%22%7D%2C%20%22type%22%3A%20%22Feature%22%7D%2C%20%7B%22geometry%22%3A%20%7B%22coordinates%22%3A%20%5B%5B%5B-73.74651259999999%2C%2040.650631%5D%2C%20%5B-73.72052%2C%2040.650631%5D%2C%20%5B-73.72052%2C%2040.6678096%5D%2C%20%5B-73.74651259999999%2C%2040.6678096%5D%2C%20%5B-73.74651259999999%2C%2040.650631%5D%5D%5D%2C%20%22type%22%3A%20%22Polygon%22%7D%2C%20%22properties%22%3A%20%7B%22zone_id%22%3A%20%22119%22%7D%2C%20%22type%22%3A%20%22Feature%22%7D%2C%20%7B%22geometry%22%3A%20%7B%22coordinates%22%3A%20%5B%5B%5B-74.24037199999998%2C%2040.6678096%5D%2C%20%5B-74.21437939999998%2C%2040.6678096%5D%2C%20%5B-74.21437939999998%2C%2040.6849882%5D%2C%20%5B-74.24037199999998%2C%2040.6849882%5D%2C%20%5B-74.24037199999998%2C%2040.6678096%5D%5D%5D%2C%20%22type%22%3A%20%22Polygon%22%7D%2C%20%22properties%22%3A%20%7B%22zone_id%22%3A%20%22120%22%7D%2C%20%22type%22%3A%20%22Feature%22%7D%2C%20%7B%22geometry%22%3A%20%7B%22coordinates%22%3A%20%5B%5B%5B-74.21437939999998%2C%2040.6678096%5D%2C%20%5B-74.18838679999998%2C%2040.6678096%5D%2C%20%5B-74.18838679999998%2C%2040.6849882%5D%2C%20%5B-74.21437939999998%2C%2040.6849882%5D%2C%20%5B-74.21437939999998%2C%2040.6678096%5D%5D%5D%2C%20%22type%22%3A%20%22Polygon%22%7D%2C%20%22properties%22%3A%20%7B%22zone_id%22%3A%20%22121%22%7D%2C%20%22type%22%3A%20%22Feature%22%7D%2C%20%7B%22geometry%22%3A%20%7B%22coordinates%22%3A%20%5B%5B%5B-74.18838679999998%2C%2040.6678096%5D%2C%20%5B-74.16239419999998%2C%2040.6678096%5D%2C%20%5B-74.16239419999998%2C%2040.6849882%5D%2C%20%5B-74.18838679999998%2C%2040.6849882%5D%2C%20%5B-74.18838679999998%2C%2040.6678096%5D%5D%5D%2C%20%22type%22%3A%20%22Polygon%22%7D%2C%20%22properties%22%3A%20%7B%22zone_id%22%3A%20%22122%22%7D%2C%20%22type%22%3A%20%22Feature%22%7D%2C%20%7B%22geometry%22%3A%20%7B%22coordinates%22%3A%20%5B%5B%5B-74.16239419999998%2C%2040.6678096%5D%2C%20%5B-74.13640159999999%2C%2040.6678096%5D%2C%20%5B-74.13640159999999%2C%2040.6849882%5D%2C%20%5B-74.16239419999998%2C%2040.6849882%5D%2C%20%5B-74.16239419999998%2C%2040.6678096%5D%5D%5D%2C%20%22type%22%3A%20%22Polygon%22%7D%2C%20%22properties%22%3A%20%7B%22zone_id%22%3A%20%22123%22%7D%2C%20%22type%22%3A%20%22Feature%22%7D%2C%20%7B%22geometry%22%3A%20%7B%22coordinates%22%3A%20%5B%5B%5B-74.13640159999999%2C%2040.6678096%5D%2C%20%5B-74.11040899999998%2C%2040.6678096%5D%2C%20%5B-74.11040899999998%2C%2040.6849882%5D%2C%20%5B-74.13640159999999%2C%2040.6849882%5D%2C%20%5B-74.13640159999999%2C%2040.6678096%5D%5D%5D%2C%20%22type%22%3A%20%22Polygon%22%7D%2C%20%22properties%22%3A%20%7B%22zone_id%22%3A%20%22124%22%7D%2C%20%22type%22%3A%20%22Feature%22%7D%2C%20%7B%22geometry%22%3A%20%7B%22coordinates%22%3A%20%5B%5B%5B-74.11040899999998%2C%2040.6678096%5D%2C%20%5B-74.08441639999998%2C%2040.6678096%5D%2C%20%5B-74.08441639999998%2C%2040.6849882%5D%2C%20%5B-74.11040899999998%2C%2040.6849882%5D%2C%20%5B-74.11040899999998%2C%2040.6678096%5D%5D%5D%2C%20%22type%22%3A%20%22Polygon%22%7D%2C%20%22properties%22%3A%20%7B%22zone_id%22%3A%20%22125%22%7D%2C%20%22type%22%3A%20%22Feature%22%7D%2C%20%7B%22geometry%22%3A%20%7B%22coordinates%22%3A%20%5B%5B%5B-74.08441639999998%2C%2040.6678096%5D%2C%20%5B-74.05842379999999%2C%2040.6678096%5D%2C%20%5B-74.05842379999999%2C%2040.6849882%5D%2C%20%5B-74.08441639999998%2C%2040.6849882%5D%2C%20%5B-74.08441639999998%2C%2040.6678096%5D%5D%5D%2C%20%22type%22%3A%20%22Polygon%22%7D%2C%20%22properties%22%3A%20%7B%22zone_id%22%3A%20%22126%22%7D%2C%20%22type%22%3A%20%22Feature%22%7D%2C%20%7B%22geometry%22%3A%20%7B%22coordinates%22%3A%20%5B%5B%5B-74.05842379999999%2C%2040.6678096%5D%2C%20%5B-74.03243119999999%2C%2040.6678096%5D%2C%20%5B-74.03243119999999%2C%2040.6849882%5D%2C%20%5B-74.05842379999999%2C%2040.6849882%5D%2C%20%5B-74.05842379999999%2C%2040.6678096%5D%5D%5D%2C%20%22type%22%3A%20%22Polygon%22%7D%2C%20%22properties%22%3A%20%7B%22zone_id%22%3A%20%22127%22%7D%2C%20%22type%22%3A%20%22Feature%22%7D%2C%20%7B%22geometry%22%3A%20%7B%22coordinates%22%3A%20%5B%5B%5B-74.03243119999999%2C%2040.6678096%5D%2C%20%5B-74.00643859999998%2C%2040.6678096%5D%2C%20%5B-74.00643859999998%2C%2040.6849882%5D%2C%20%5B-74.03243119999999%2C%2040.6849882%5D%2C%20%5B-74.03243119999999%2C%2040.6678096%5D%5D%5D%2C%20%22type%22%3A%20%22Polygon%22%7D%2C%20%22properties%22%3A%20%7B%22zone_id%22%3A%20%22128%22%7D%2C%20%22type%22%3A%20%22Feature%22%7D%2C%20%7B%22geometry%22%3A%20%7B%22coordinates%22%3A%20%5B%5B%5B-74.00643859999998%2C%2040.6678096%5D%2C%20%5B-73.98044599999999%2C%2040.6678096%5D%2C%20%5B-73.98044599999999%2C%2040.6849882%5D%2C%20%5B-74.00643859999998%2C%2040.6849882%5D%2C%20%5B-74.00643859999998%2C%2040.6678096%5D%5D%5D%2C%20%22type%22%3A%20%22Polygon%22%7D%2C%20%22properties%22%3A%20%7B%22zone_id%22%3A%20%22129%22%7D%2C%20%22type%22%3A%20%22Feature%22%7D%2C%20%7B%22geometry%22%3A%20%7B%22coordinates%22%3A%20%5B%5B%5B-73.98044599999999%2C%2040.6678096%5D%2C%20%5B-73.95445339999999%2C%2040.6678096%5D%2C%20%5B-73.95445339999999%2C%2040.6849882%5D%2C%20%5B-73.98044599999999%2C%2040.6849882%5D%2C%20%5B-73.98044599999999%2C%2040.6678096%5D%5D%5D%2C%20%22type%22%3A%20%22Polygon%22%7D%2C%20%22properties%22%3A%20%7B%22zone_id%22%3A%20%22130%22%7D%2C%20%22type%22%3A%20%22Feature%22%7D%2C%20%7B%22geometry%22%3A%20%7B%22coordinates%22%3A%20%5B%5B%5B-73.95445339999999%2C%2040.6678096%5D%2C%20%5B-73.92846079999998%2C%2040.6678096%5D%2C%20%5B-73.92846079999998%2C%2040.6849882%5D%2C%20%5B-73.95445339999999%2C%2040.6849882%5D%2C%20%5B-73.95445339999999%2C%2040.6678096%5D%5D%5D%2C%20%22type%22%3A%20%22Polygon%22%7D%2C%20%22properties%22%3A%20%7B%22zone_id%22%3A%20%22131%22%7D%2C%20%22type%22%3A%20%22Feature%22%7D%2C%20%7B%22geometry%22%3A%20%7B%22coordinates%22%3A%20%5B%5B%5B-73.92846079999998%2C%2040.6678096%5D%2C%20%5B-73.90246819999999%2C%2040.6678096%5D%2C%20%5B-73.90246819999999%2C%2040.6849882%5D%2C%20%5B-73.92846079999998%2C%2040.6849882%5D%2C%20%5B-73.92846079999998%2C%2040.6678096%5D%5D%5D%2C%20%22type%22%3A%20%22Polygon%22%7D%2C%20%22properties%22%3A%20%7B%22zone_id%22%3A%20%22132%22%7D%2C%20%22type%22%3A%20%22Feature%22%7D%2C%20%7B%22geometry%22%3A%20%7B%22coordinates%22%3A%20%5B%5B%5B-73.90246819999999%2C%2040.6678096%5D%2C%20%5B-73.87647559999999%2C%2040.6678096%5D%2C%20%5B-73.87647559999999%2C%2040.6849882%5D%2C%20%5B-73.90246819999999%2C%2040.6849882%5D%2C%20%5B-73.90246819999999%2C%2040.6678096%5D%5D%5D%2C%20%22type%22%3A%20%22Polygon%22%7D%2C%20%22properties%22%3A%20%7B%22zone_id%22%3A%20%22133%22%7D%2C%20%22type%22%3A%20%22Feature%22%7D%2C%20%7B%22geometry%22%3A%20%7B%22coordinates%22%3A%20%5B%5B%5B-73.87647559999999%2C%2040.6678096%5D%2C%20%5B-73.850483%2C%2040.6678096%5D%2C%20%5B-73.850483%2C%2040.6849882%5D%2C%20%5B-73.87647559999999%2C%2040.6849882%5D%2C%20%5B-73.87647559999999%2C%2040.6678096%5D%5D%5D%2C%20%22type%22%3A%20%22Polygon%22%7D%2C%20%22properties%22%3A%20%7B%22zone_id%22%3A%20%22134%22%7D%2C%20%22type%22%3A%20%22Feature%22%7D%2C%20%7B%22geometry%22%3A%20%7B%22coordinates%22%3A%20%5B%5B%5B-73.850483%2C%2040.6678096%5D%2C%20%5B-73.82449039999999%2C%2040.6678096%5D%2C%20%5B-73.82449039999999%2C%2040.6849882%5D%2C%20%5B-73.850483%2C%2040.6849882%5D%2C%20%5B-73.850483%2C%2040.6678096%5D%5D%5D%2C%20%22type%22%3A%20%22Polygon%22%7D%2C%20%22properties%22%3A%20%7B%22zone_id%22%3A%20%22135%22%7D%2C%20%22type%22%3A%20%22Feature%22%7D%2C%20%7B%22geometry%22%3A%20%7B%22coordinates%22%3A%20%5B%5B%5B-73.82449039999999%2C%2040.6678096%5D%2C%20%5B-73.79849779999999%2C%2040.6678096%5D%2C%20%5B-73.79849779999999%2C%2040.6849882%5D%2C%20%5B-73.82449039999999%2C%2040.6849882%5D%2C%20%5B-73.82449039999999%2C%2040.6678096%5D%5D%5D%2C%20%22type%22%3A%20%22Polygon%22%7D%2C%20%22properties%22%3A%20%7B%22zone_id%22%3A%20%22136%22%7D%2C%20%22type%22%3A%20%22Feature%22%7D%2C%20%7B%22geometry%22%3A%20%7B%22coordinates%22%3A%20%5B%5B%5B-73.79849779999999%2C%2040.6678096%5D%2C%20%5B-73.7725052%2C%2040.6678096%5D%2C%20%5B-73.7725052%2C%2040.6849882%5D%2C%20%5B-73.79849779999999%2C%2040.6849882%5D%2C%20%5B-73.79849779999999%2C%2040.6678096%5D%5D%5D%2C%20%22type%22%3A%20%22Polygon%22%7D%2C%20%22properties%22%3A%20%7B%22zone_id%22%3A%20%22137%22%7D%2C%20%22type%22%3A%20%22Feature%22%7D%2C%20%7B%22geometry%22%3A%20%7B%22coordinates%22%3A%20%5B%5B%5B-73.7725052%2C%2040.6678096%5D%2C%20%5B-73.74651259999999%2C%2040.6678096%5D%2C%20%5B-73.74651259999999%2C%2040.6849882%5D%2C%20%5B-73.7725052%2C%2040.6849882%5D%2C%20%5B-73.7725052%2C%2040.6678096%5D%5D%5D%2C%20%22type%22%3A%20%22Polygon%22%7D%2C%20%22properties%22%3A%20%7B%22zone_id%22%3A%20%22138%22%7D%2C%20%22type%22%3A%20%22Feature%22%7D%2C%20%7B%22geometry%22%3A%20%7B%22coordinates%22%3A%20%5B%5B%5B-73.74651259999999%2C%2040.6678096%5D%2C%20%5B-73.72052%2C%2040.6678096%5D%2C%20%5B-73.72052%2C%2040.6849882%5D%2C%20%5B-73.74651259999999%2C%2040.6849882%5D%2C%20%5B-73.74651259999999%2C%2040.6678096%5D%5D%5D%2C%20%22type%22%3A%20%22Polygon%22%7D%2C%20%22properties%22%3A%20%7B%22zone_id%22%3A%20%22139%22%7D%2C%20%22type%22%3A%20%22Feature%22%7D%2C%20%7B%22geometry%22%3A%20%7B%22coordinates%22%3A%20%5B%5B%5B-74.24037199999998%2C%2040.6849882%5D%2C%20%5B-74.21437939999998%2C%2040.6849882%5D%2C%20%5B-74.21437939999998%2C%2040.7021668%5D%2C%20%5B-74.24037199999998%2C%2040.7021668%5D%2C%20%5B-74.24037199999998%2C%2040.6849882%5D%5D%5D%2C%20%22type%22%3A%20%22Polygon%22%7D%2C%20%22properties%22%3A%20%7B%22zone_id%22%3A%20%22140%22%7D%2C%20%22type%22%3A%20%22Feature%22%7D%2C%20%7B%22geometry%22%3A%20%7B%22coordinates%22%3A%20%5B%5B%5B-74.21437939999998%2C%2040.6849882%5D%2C%20%5B-74.18838679999998%2C%2040.6849882%5D%2C%20%5B-74.18838679999998%2C%2040.7021668%5D%2C%20%5B-74.21437939999998%2C%2040.7021668%5D%2C%20%5B-74.21437939999998%2C%2040.6849882%5D%5D%5D%2C%20%22type%22%3A%20%22Polygon%22%7D%2C%20%22properties%22%3A%20%7B%22zone_id%22%3A%20%22141%22%7D%2C%20%22type%22%3A%20%22Feature%22%7D%2C%20%7B%22geometry%22%3A%20%7B%22coordinates%22%3A%20%5B%5B%5B-74.18838679999998%2C%2040.6849882%5D%2C%20%5B-74.16239419999998%2C%2040.6849882%5D%2C%20%5B-74.16239419999998%2C%2040.7021668%5D%2C%20%5B-74.18838679999998%2C%2040.7021668%5D%2C%20%5B-74.18838679999998%2C%2040.6849882%5D%5D%5D%2C%20%22type%22%3A%20%22Polygon%22%7D%2C%20%22properties%22%3A%20%7B%22zone_id%22%3A%20%22142%22%7D%2C%20%22type%22%3A%20%22Feature%22%7D%2C%20%7B%22geometry%22%3A%20%7B%22coordinates%22%3A%20%5B%5B%5B-74.16239419999998%2C%2040.6849882%5D%2C%20%5B-74.13640159999999%2C%2040.6849882%5D%2C%20%5B-74.13640159999999%2C%2040.7021668%5D%2C%20%5B-74.16239419999998%2C%2040.7021668%5D%2C%20%5B-74.16239419999998%2C%2040.6849882%5D%5D%5D%2C%20%22type%22%3A%20%22Polygon%22%7D%2C%20%22properties%22%3A%20%7B%22zone_id%22%3A%20%22143%22%7D%2C%20%22type%22%3A%20%22Feature%22%7D%2C%20%7B%22geometry%22%3A%20%7B%22coordinates%22%3A%20%5B%5B%5B-74.13640159999999%2C%2040.6849882%5D%2C%20%5B-74.11040899999998%2C%2040.6849882%5D%2C%20%5B-74.11040899999998%2C%2040.7021668%5D%2C%20%5B-74.13640159999999%2C%2040.7021668%5D%2C%20%5B-74.13640159999999%2C%2040.6849882%5D%5D%5D%2C%20%22type%22%3A%20%22Polygon%22%7D%2C%20%22properties%22%3A%20%7B%22zone_id%22%3A%20%22144%22%7D%2C%20%22type%22%3A%20%22Feature%22%7D%2C%20%7B%22geometry%22%3A%20%7B%22coordinates%22%3A%20%5B%5B%5B-74.11040899999998%2C%2040.6849882%5D%2C%20%5B-74.08441639999998%2C%2040.6849882%5D%2C%20%5B-74.08441639999998%2C%2040.7021668%5D%2C%20%5B-74.11040899999998%2C%2040.7021668%5D%2C%20%5B-74.11040899999998%2C%2040.6849882%5D%5D%5D%2C%20%22type%22%3A%20%22Polygon%22%7D%2C%20%22properties%22%3A%20%7B%22zone_id%22%3A%20%22145%22%7D%2C%20%22type%22%3A%20%22Feature%22%7D%2C%20%7B%22geometry%22%3A%20%7B%22coordinates%22%3A%20%5B%5B%5B-74.08441639999998%2C%2040.6849882%5D%2C%20%5B-74.05842379999999%2C%2040.6849882%5D%2C%20%5B-74.05842379999999%2C%2040.7021668%5D%2C%20%5B-74.08441639999998%2C%2040.7021668%5D%2C%20%5B-74.08441639999998%2C%2040.6849882%5D%5D%5D%2C%20%22type%22%3A%20%22Polygon%22%7D%2C%20%22properties%22%3A%20%7B%22zone_id%22%3A%20%22146%22%7D%2C%20%22type%22%3A%20%22Feature%22%7D%2C%20%7B%22geometry%22%3A%20%7B%22coordinates%22%3A%20%5B%5B%5B-74.05842379999999%2C%2040.6849882%5D%2C%20%5B-74.03243119999999%2C%2040.6849882%5D%2C%20%5B-74.03243119999999%2C%2040.7021668%5D%2C%20%5B-74.05842379999999%2C%2040.7021668%5D%2C%20%5B-74.05842379999999%2C%2040.6849882%5D%5D%5D%2C%20%22type%22%3A%20%22Polygon%22%7D%2C%20%22properties%22%3A%20%7B%22zone_id%22%3A%20%22147%22%7D%2C%20%22type%22%3A%20%22Feature%22%7D%2C%20%7B%22geometry%22%3A%20%7B%22coordinates%22%3A%20%5B%5B%5B-74.03243119999999%2C%2040.6849882%5D%2C%20%5B-74.00643859999998%2C%2040.6849882%5D%2C%20%5B-74.00643859999998%2C%2040.7021668%5D%2C%20%5B-74.03243119999999%2C%2040.7021668%5D%2C%20%5B-74.03243119999999%2C%2040.6849882%5D%5D%5D%2C%20%22type%22%3A%20%22Polygon%22%7D%2C%20%22properties%22%3A%20%7B%22zone_id%22%3A%20%22148%22%7D%2C%20%22type%22%3A%20%22Feature%22%7D%2C%20%7B%22geometry%22%3A%20%7B%22coordinates%22%3A%20%5B%5B%5B-74.00643859999998%2C%2040.6849882%5D%2C%20%5B-73.98044599999999%2C%2040.6849882%5D%2C%20%5B-73.98044599999999%2C%2040.7021668%5D%2C%20%5B-74.00643859999998%2C%2040.7021668%5D%2C%20%5B-74.00643859999998%2C%2040.6849882%5D%5D%5D%2C%20%22type%22%3A%20%22Polygon%22%7D%2C%20%22properties%22%3A%20%7B%22zone_id%22%3A%20%22149%22%7D%2C%20%22type%22%3A%20%22Feature%22%7D%2C%20%7B%22geometry%22%3A%20%7B%22coordinates%22%3A%20%5B%5B%5B-73.98044599999999%2C%2040.6849882%5D%2C%20%5B-73.95445339999999%2C%2040.6849882%5D%2C%20%5B-73.95445339999999%2C%2040.7021668%5D%2C%20%5B-73.98044599999999%2C%2040.7021668%5D%2C%20%5B-73.98044599999999%2C%2040.6849882%5D%5D%5D%2C%20%22type%22%3A%20%22Polygon%22%7D%2C%20%22properties%22%3A%20%7B%22zone_id%22%3A%20%22150%22%7D%2C%20%22type%22%3A%20%22Feature%22%7D%2C%20%7B%22geometry%22%3A%20%7B%22coordinates%22%3A%20%5B%5B%5B-73.95445339999999%2C%2040.6849882%5D%2C%20%5B-73.92846079999998%2C%2040.6849882%5D%2C%20%5B-73.92846079999998%2C%2040.7021668%5D%2C%20%5B-73.95445339999999%2C%2040.7021668%5D%2C%20%5B-73.95445339999999%2C%2040.6849882%5D%5D%5D%2C%20%22type%22%3A%20%22Polygon%22%7D%2C%20%22properties%22%3A%20%7B%22zone_id%22%3A%20%22151%22%7D%2C%20%22type%22%3A%20%22Feature%22%7D%2C%20%7B%22geometry%22%3A%20%7B%22coordinates%22%3A%20%5B%5B%5B-73.92846079999998%2C%2040.6849882%5D%2C%20%5B-73.90246819999999%2C%2040.6849882%5D%2C%20%5B-73.90246819999999%2C%2040.7021668%5D%2C%20%5B-73.92846079999998%2C%2040.7021668%5D%2C%20%5B-73.92846079999998%2C%2040.6849882%5D%5D%5D%2C%20%22type%22%3A%20%22Polygon%22%7D%2C%20%22properties%22%3A%20%7B%22zone_id%22%3A%20%22152%22%7D%2C%20%22type%22%3A%20%22Feature%22%7D%2C%20%7B%22geometry%22%3A%20%7B%22coordinates%22%3A%20%5B%5B%5B-73.90246819999999%2C%2040.6849882%5D%2C%20%5B-73.87647559999999%2C%2040.6849882%5D%2C%20%5B-73.87647559999999%2C%2040.7021668%5D%2C%20%5B-73.90246819999999%2C%2040.7021668%5D%2C%20%5B-73.90246819999999%2C%2040.6849882%5D%5D%5D%2C%20%22type%22%3A%20%22Polygon%22%7D%2C%20%22properties%22%3A%20%7B%22zone_id%22%3A%20%22153%22%7D%2C%20%22type%22%3A%20%22Feature%22%7D%2C%20%7B%22geometry%22%3A%20%7B%22coordinates%22%3A%20%5B%5B%5B-73.87647559999999%2C%2040.6849882%5D%2C%20%5B-73.850483%2C%2040.6849882%5D%2C%20%5B-73.850483%2C%2040.7021668%5D%2C%20%5B-73.87647559999999%2C%2040.7021668%5D%2C%20%5B-73.87647559999999%2C%2040.6849882%5D%5D%5D%2C%20%22type%22%3A%20%22Polygon%22%7D%2C%20%22properties%22%3A%20%7B%22zone_id%22%3A%20%22154%22%7D%2C%20%22type%22%3A%20%22Feature%22%7D%2C%20%7B%22geometry%22%3A%20%7B%22coordinates%22%3A%20%5B%5B%5B-73.850483%2C%2040.6849882%5D%2C%20%5B-73.82449039999999%2C%2040.6849882%5D%2C%20%5B-73.82449039999999%2C%2040.7021668%5D%2C%20%5B-73.850483%2C%2040.7021668%5D%2C%20%5B-73.850483%2C%2040.6849882%5D%5D%5D%2C%20%22type%22%3A%20%22Polygon%22%7D%2C%20%22properties%22%3A%20%7B%22zone_id%22%3A%20%22155%22%7D%2C%20%22type%22%3A%20%22Feature%22%7D%2C%20%7B%22geometry%22%3A%20%7B%22coordinates%22%3A%20%5B%5B%5B-73.82449039999999%2C%2040.6849882%5D%2C%20%5B-73.79849779999999%2C%2040.6849882%5D%2C%20%5B-73.79849779999999%2C%2040.7021668%5D%2C%20%5B-73.82449039999999%2C%2040.7021668%5D%2C%20%5B-73.82449039999999%2C%2040.6849882%5D%5D%5D%2C%20%22type%22%3A%20%22Polygon%22%7D%2C%20%22properties%22%3A%20%7B%22zone_id%22%3A%20%22156%22%7D%2C%20%22type%22%3A%20%22Feature%22%7D%2C%20%7B%22geometry%22%3A%20%7B%22coordinates%22%3A%20%5B%5B%5B-73.79849779999999%2C%2040.6849882%5D%2C%20%5B-73.7725052%2C%2040.6849882%5D%2C%20%5B-73.7725052%2C%2040.7021668%5D%2C%20%5B-73.79849779999999%2C%2040.7021668%5D%2C%20%5B-73.79849779999999%2C%2040.6849882%5D%5D%5D%2C%20%22type%22%3A%20%22Polygon%22%7D%2C%20%22properties%22%3A%20%7B%22zone_id%22%3A%20%22157%22%7D%2C%20%22type%22%3A%20%22Feature%22%7D%2C%20%7B%22geometry%22%3A%20%7B%22coordinates%22%3A%20%5B%5B%5B-73.7725052%2C%2040.6849882%5D%2C%20%5B-73.74651259999999%2C%2040.6849882%5D%2C%20%5B-73.74651259999999%2C%2040.7021668%5D%2C%20%5B-73.7725052%2C%2040.7021668%5D%2C%20%5B-73.7725052%2C%2040.6849882%5D%5D%5D%2C%20%22type%22%3A%20%22Polygon%22%7D%2C%20%22properties%22%3A%20%7B%22zone_id%22%3A%20%22158%22%7D%2C%20%22type%22%3A%20%22Feature%22%7D%2C%20%7B%22geometry%22%3A%20%7B%22coordinates%22%3A%20%5B%5B%5B-73.74651259999999%2C%2040.6849882%5D%2C%20%5B-73.72052%2C%2040.6849882%5D%2C%20%5B-73.72052%2C%2040.7021668%5D%2C%20%5B-73.74651259999999%2C%2040.7021668%5D%2C%20%5B-73.74651259999999%2C%2040.6849882%5D%5D%5D%2C%20%22type%22%3A%20%22Polygon%22%7D%2C%20%22properties%22%3A%20%7B%22zone_id%22%3A%20%22159%22%7D%2C%20%22type%22%3A%20%22Feature%22%7D%2C%20%7B%22geometry%22%3A%20%7B%22coordinates%22%3A%20%5B%5B%5B-74.24037199999998%2C%2040.7021668%5D%2C%20%5B-74.21437939999998%2C%2040.7021668%5D%2C%20%5B-74.21437939999998%2C%2040.7193454%5D%2C%20%5B-74.24037199999998%2C%2040.7193454%5D%2C%20%5B-74.24037199999998%2C%2040.7021668%5D%5D%5D%2C%20%22type%22%3A%20%22Polygon%22%7D%2C%20%22properties%22%3A%20%7B%22zone_id%22%3A%20%22160%22%7D%2C%20%22type%22%3A%20%22Feature%22%7D%2C%20%7B%22geometry%22%3A%20%7B%22coordinates%22%3A%20%5B%5B%5B-74.21437939999998%2C%2040.7021668%5D%2C%20%5B-74.18838679999998%2C%2040.7021668%5D%2C%20%5B-74.18838679999998%2C%2040.7193454%5D%2C%20%5B-74.21437939999998%2C%2040.7193454%5D%2C%20%5B-74.21437939999998%2C%2040.7021668%5D%5D%5D%2C%20%22type%22%3A%20%22Polygon%22%7D%2C%20%22properties%22%3A%20%7B%22zone_id%22%3A%20%22161%22%7D%2C%20%22type%22%3A%20%22Feature%22%7D%2C%20%7B%22geometry%22%3A%20%7B%22coordinates%22%3A%20%5B%5B%5B-74.18838679999998%2C%2040.7021668%5D%2C%20%5B-74.16239419999998%2C%2040.7021668%5D%2C%20%5B-74.16239419999998%2C%2040.7193454%5D%2C%20%5B-74.18838679999998%2C%2040.7193454%5D%2C%20%5B-74.18838679999998%2C%2040.7021668%5D%5D%5D%2C%20%22type%22%3A%20%22Polygon%22%7D%2C%20%22properties%22%3A%20%7B%22zone_id%22%3A%20%22162%22%7D%2C%20%22type%22%3A%20%22Feature%22%7D%2C%20%7B%22geometry%22%3A%20%7B%22coordinates%22%3A%20%5B%5B%5B-74.16239419999998%2C%2040.7021668%5D%2C%20%5B-74.13640159999999%2C%2040.7021668%5D%2C%20%5B-74.13640159999999%2C%2040.7193454%5D%2C%20%5B-74.16239419999998%2C%2040.7193454%5D%2C%20%5B-74.16239419999998%2C%2040.7021668%5D%5D%5D%2C%20%22type%22%3A%20%22Polygon%22%7D%2C%20%22properties%22%3A%20%7B%22zone_id%22%3A%20%22163%22%7D%2C%20%22type%22%3A%20%22Feature%22%7D%2C%20%7B%22geometry%22%3A%20%7B%22coordinates%22%3A%20%5B%5B%5B-74.13640159999999%2C%2040.7021668%5D%2C%20%5B-74.11040899999998%2C%2040.7021668%5D%2C%20%5B-74.11040899999998%2C%2040.7193454%5D%2C%20%5B-74.13640159999999%2C%2040.7193454%5D%2C%20%5B-74.13640159999999%2C%2040.7021668%5D%5D%5D%2C%20%22type%22%3A%20%22Polygon%22%7D%2C%20%22properties%22%3A%20%7B%22zone_id%22%3A%20%22164%22%7D%2C%20%22type%22%3A%20%22Feature%22%7D%2C%20%7B%22geometry%22%3A%20%7B%22coordinates%22%3A%20%5B%5B%5B-74.11040899999998%2C%2040.7021668%5D%2C%20%5B-74.08441639999998%2C%2040.7021668%5D%2C%20%5B-74.08441639999998%2C%2040.7193454%5D%2C%20%5B-74.11040899999998%2C%2040.7193454%5D%2C%20%5B-74.11040899999998%2C%2040.7021668%5D%5D%5D%2C%20%22type%22%3A%20%22Polygon%22%7D%2C%20%22properties%22%3A%20%7B%22zone_id%22%3A%20%22165%22%7D%2C%20%22type%22%3A%20%22Feature%22%7D%2C%20%7B%22geometry%22%3A%20%7B%22coordinates%22%3A%20%5B%5B%5B-74.08441639999998%2C%2040.7021668%5D%2C%20%5B-74.05842379999999%2C%2040.7021668%5D%2C%20%5B-74.05842379999999%2C%2040.7193454%5D%2C%20%5B-74.08441639999998%2C%2040.7193454%5D%2C%20%5B-74.08441639999998%2C%2040.7021668%5D%5D%5D%2C%20%22type%22%3A%20%22Polygon%22%7D%2C%20%22properties%22%3A%20%7B%22zone_id%22%3A%20%22166%22%7D%2C%20%22type%22%3A%20%22Feature%22%7D%2C%20%7B%22geometry%22%3A%20%7B%22coordinates%22%3A%20%5B%5B%5B-74.05842379999999%2C%2040.7021668%5D%2C%20%5B-74.03243119999999%2C%2040.7021668%5D%2C%20%5B-74.03243119999999%2C%2040.7193454%5D%2C%20%5B-74.05842379999999%2C%2040.7193454%5D%2C%20%5B-74.05842379999999%2C%2040.7021668%5D%5D%5D%2C%20%22type%22%3A%20%22Polygon%22%7D%2C%20%22properties%22%3A%20%7B%22zone_id%22%3A%20%22167%22%7D%2C%20%22type%22%3A%20%22Feature%22%7D%2C%20%7B%22geometry%22%3A%20%7B%22coordinates%22%3A%20%5B%5B%5B-74.03243119999999%2C%2040.7021668%5D%2C%20%5B-74.00643859999998%2C%2040.7021668%5D%2C%20%5B-74.00643859999998%2C%2040.7193454%5D%2C%20%5B-74.03243119999999%2C%2040.7193454%5D%2C%20%5B-74.03243119999999%2C%2040.7021668%5D%5D%5D%2C%20%22type%22%3A%20%22Polygon%22%7D%2C%20%22properties%22%3A%20%7B%22zone_id%22%3A%20%22168%22%7D%2C%20%22type%22%3A%20%22Feature%22%7D%2C%20%7B%22geometry%22%3A%20%7B%22coordinates%22%3A%20%5B%5B%5B-74.00643859999998%2C%2040.7021668%5D%2C%20%5B-73.98044599999999%2C%2040.7021668%5D%2C%20%5B-73.98044599999999%2C%2040.7193454%5D%2C%20%5B-74.00643859999998%2C%2040.7193454%5D%2C%20%5B-74.00643859999998%2C%2040.7021668%5D%5D%5D%2C%20%22type%22%3A%20%22Polygon%22%7D%2C%20%22properties%22%3A%20%7B%22zone_id%22%3A%20%22169%22%7D%2C%20%22type%22%3A%20%22Feature%22%7D%2C%20%7B%22geometry%22%3A%20%7B%22coordinates%22%3A%20%5B%5B%5B-73.98044599999999%2C%2040.7021668%5D%2C%20%5B-73.95445339999999%2C%2040.7021668%5D%2C%20%5B-73.95445339999999%2C%2040.7193454%5D%2C%20%5B-73.98044599999999%2C%2040.7193454%5D%2C%20%5B-73.98044599999999%2C%2040.7021668%5D%5D%5D%2C%20%22type%22%3A%20%22Polygon%22%7D%2C%20%22properties%22%3A%20%7B%22zone_id%22%3A%20%22170%22%7D%2C%20%22type%22%3A%20%22Feature%22%7D%2C%20%7B%22geometry%22%3A%20%7B%22coordinates%22%3A%20%5B%5B%5B-73.95445339999999%2C%2040.7021668%5D%2C%20%5B-73.92846079999998%2C%2040.7021668%5D%2C%20%5B-73.92846079999998%2C%2040.7193454%5D%2C%20%5B-73.95445339999999%2C%2040.7193454%5D%2C%20%5B-73.95445339999999%2C%2040.7021668%5D%5D%5D%2C%20%22type%22%3A%20%22Polygon%22%7D%2C%20%22properties%22%3A%20%7B%22zone_id%22%3A%20%22171%22%7D%2C%20%22type%22%3A%20%22Feature%22%7D%2C%20%7B%22geometry%22%3A%20%7B%22coordinates%22%3A%20%5B%5B%5B-73.92846079999998%2C%2040.7021668%5D%2C%20%5B-73.90246819999999%2C%2040.7021668%5D%2C%20%5B-73.90246819999999%2C%2040.7193454%5D%2C%20%5B-73.92846079999998%2C%2040.7193454%5D%2C%20%5B-73.92846079999998%2C%2040.7021668%5D%5D%5D%2C%20%22type%22%3A%20%22Polygon%22%7D%2C%20%22properties%22%3A%20%7B%22zone_id%22%3A%20%22172%22%7D%2C%20%22type%22%3A%20%22Feature%22%7D%2C%20%7B%22geometry%22%3A%20%7B%22coordinates%22%3A%20%5B%5B%5B-73.90246819999999%2C%2040.7021668%5D%2C%20%5B-73.87647559999999%2C%2040.7021668%5D%2C%20%5B-73.87647559999999%2C%2040.7193454%5D%2C%20%5B-73.90246819999999%2C%2040.7193454%5D%2C%20%5B-73.90246819999999%2C%2040.7021668%5D%5D%5D%2C%20%22type%22%3A%20%22Polygon%22%7D%2C%20%22properties%22%3A%20%7B%22zone_id%22%3A%20%22173%22%7D%2C%20%22type%22%3A%20%22Feature%22%7D%2C%20%7B%22geometry%22%3A%20%7B%22coordinates%22%3A%20%5B%5B%5B-73.87647559999999%2C%2040.7021668%5D%2C%20%5B-73.850483%2C%2040.7021668%5D%2C%20%5B-73.850483%2C%2040.7193454%5D%2C%20%5B-73.87647559999999%2C%2040.7193454%5D%2C%20%5B-73.87647559999999%2C%2040.7021668%5D%5D%5D%2C%20%22type%22%3A%20%22Polygon%22%7D%2C%20%22properties%22%3A%20%7B%22zone_id%22%3A%20%22174%22%7D%2C%20%22type%22%3A%20%22Feature%22%7D%2C%20%7B%22geometry%22%3A%20%7B%22coordinates%22%3A%20%5B%5B%5B-73.850483%2C%2040.7021668%5D%2C%20%5B-73.82449039999999%2C%2040.7021668%5D%2C%20%5B-73.82449039999999%2C%2040.7193454%5D%2C%20%5B-73.850483%2C%2040.7193454%5D%2C%20%5B-73.850483%2C%2040.7021668%5D%5D%5D%2C%20%22type%22%3A%20%22Polygon%22%7D%2C%20%22properties%22%3A%20%7B%22zone_id%22%3A%20%22175%22%7D%2C%20%22type%22%3A%20%22Feature%22%7D%2C%20%7B%22geometry%22%3A%20%7B%22coordinates%22%3A%20%5B%5B%5B-73.82449039999999%2C%2040.7021668%5D%2C%20%5B-73.79849779999999%2C%2040.7021668%5D%2C%20%5B-73.79849779999999%2C%2040.7193454%5D%2C%20%5B-73.82449039999999%2C%2040.7193454%5D%2C%20%5B-73.82449039999999%2C%2040.7021668%5D%5D%5D%2C%20%22type%22%3A%20%22Polygon%22%7D%2C%20%22properties%22%3A%20%7B%22zone_id%22%3A%20%22176%22%7D%2C%20%22type%22%3A%20%22Feature%22%7D%2C%20%7B%22geometry%22%3A%20%7B%22coordinates%22%3A%20%5B%5B%5B-73.79849779999999%2C%2040.7021668%5D%2C%20%5B-73.7725052%2C%2040.7021668%5D%2C%20%5B-73.7725052%2C%2040.7193454%5D%2C%20%5B-73.79849779999999%2C%2040.7193454%5D%2C%20%5B-73.79849779999999%2C%2040.7021668%5D%5D%5D%2C%20%22type%22%3A%20%22Polygon%22%7D%2C%20%22properties%22%3A%20%7B%22zone_id%22%3A%20%22177%22%7D%2C%20%22type%22%3A%20%22Feature%22%7D%2C%20%7B%22geometry%22%3A%20%7B%22coordinates%22%3A%20%5B%5B%5B-73.7725052%2C%2040.7021668%5D%2C%20%5B-73.74651259999999%2C%2040.7021668%5D%2C%20%5B-73.74651259999999%2C%2040.7193454%5D%2C%20%5B-73.7725052%2C%2040.7193454%5D%2C%20%5B-73.7725052%2C%2040.7021668%5D%5D%5D%2C%20%22type%22%3A%20%22Polygon%22%7D%2C%20%22properties%22%3A%20%7B%22zone_id%22%3A%20%22178%22%7D%2C%20%22type%22%3A%20%22Feature%22%7D%2C%20%7B%22geometry%22%3A%20%7B%22coordinates%22%3A%20%5B%5B%5B-73.74651259999999%2C%2040.7021668%5D%2C%20%5B-73.72052%2C%2040.7021668%5D%2C%20%5B-73.72052%2C%2040.7193454%5D%2C%20%5B-73.74651259999999%2C%2040.7193454%5D%2C%20%5B-73.74651259999999%2C%2040.7021668%5D%5D%5D%2C%20%22type%22%3A%20%22Polygon%22%7D%2C%20%22properties%22%3A%20%7B%22zone_id%22%3A%20%22179%22%7D%2C%20%22type%22%3A%20%22Feature%22%7D%2C%20%7B%22geometry%22%3A%20%7B%22coordinates%22%3A%20%5B%5B%5B-74.24037199999998%2C%2040.7193454%5D%2C%20%5B-74.21437939999998%2C%2040.7193454%5D%2C%20%5B-74.21437939999998%2C%2040.736524%5D%2C%20%5B-74.24037199999998%2C%2040.736524%5D%2C%20%5B-74.24037199999998%2C%2040.7193454%5D%5D%5D%2C%20%22type%22%3A%20%22Polygon%22%7D%2C%20%22properties%22%3A%20%7B%22zone_id%22%3A%20%22180%22%7D%2C%20%22type%22%3A%20%22Feature%22%7D%2C%20%7B%22geometry%22%3A%20%7B%22coordinates%22%3A%20%5B%5B%5B-74.21437939999998%2C%2040.7193454%5D%2C%20%5B-74.18838679999998%2C%2040.7193454%5D%2C%20%5B-74.18838679999998%2C%2040.736524%5D%2C%20%5B-74.21437939999998%2C%2040.736524%5D%2C%20%5B-74.21437939999998%2C%2040.7193454%5D%5D%5D%2C%20%22type%22%3A%20%22Polygon%22%7D%2C%20%22properties%22%3A%20%7B%22zone_id%22%3A%20%22181%22%7D%2C%20%22type%22%3A%20%22Feature%22%7D%2C%20%7B%22geometry%22%3A%20%7B%22coordinates%22%3A%20%5B%5B%5B-74.18838679999998%2C%2040.7193454%5D%2C%20%5B-74.16239419999998%2C%2040.7193454%5D%2C%20%5B-74.16239419999998%2C%2040.736524%5D%2C%20%5B-74.18838679999998%2C%2040.736524%5D%2C%20%5B-74.18838679999998%2C%2040.7193454%5D%5D%5D%2C%20%22type%22%3A%20%22Polygon%22%7D%2C%20%22properties%22%3A%20%7B%22zone_id%22%3A%20%22182%22%7D%2C%20%22type%22%3A%20%22Feature%22%7D%2C%20%7B%22geometry%22%3A%20%7B%22coordinates%22%3A%20%5B%5B%5B-74.16239419999998%2C%2040.7193454%5D%2C%20%5B-74.13640159999999%2C%2040.7193454%5D%2C%20%5B-74.13640159999999%2C%2040.736524%5D%2C%20%5B-74.16239419999998%2C%2040.736524%5D%2C%20%5B-74.16239419999998%2C%2040.7193454%5D%5D%5D%2C%20%22type%22%3A%20%22Polygon%22%7D%2C%20%22properties%22%3A%20%7B%22zone_id%22%3A%20%22183%22%7D%2C%20%22type%22%3A%20%22Feature%22%7D%2C%20%7B%22geometry%22%3A%20%7B%22coordinates%22%3A%20%5B%5B%5B-74.13640159999999%2C%2040.7193454%5D%2C%20%5B-74.11040899999998%2C%2040.7193454%5D%2C%20%5B-74.11040899999998%2C%2040.736524%5D%2C%20%5B-74.13640159999999%2C%2040.736524%5D%2C%20%5B-74.13640159999999%2C%2040.7193454%5D%5D%5D%2C%20%22type%22%3A%20%22Polygon%22%7D%2C%20%22properties%22%3A%20%7B%22zone_id%22%3A%20%22184%22%7D%2C%20%22type%22%3A%20%22Feature%22%7D%2C%20%7B%22geometry%22%3A%20%7B%22coordinates%22%3A%20%5B%5B%5B-74.11040899999998%2C%2040.7193454%5D%2C%20%5B-74.08441639999998%2C%2040.7193454%5D%2C%20%5B-74.08441639999998%2C%2040.736524%5D%2C%20%5B-74.11040899999998%2C%2040.736524%5D%2C%20%5B-74.11040899999998%2C%2040.7193454%5D%5D%5D%2C%20%22type%22%3A%20%22Polygon%22%7D%2C%20%22properties%22%3A%20%7B%22zone_id%22%3A%20%22185%22%7D%2C%20%22type%22%3A%20%22Feature%22%7D%2C%20%7B%22geometry%22%3A%20%7B%22coordinates%22%3A%20%5B%5B%5B-74.08441639999998%2C%2040.7193454%5D%2C%20%5B-74.05842379999999%2C%2040.7193454%5D%2C%20%5B-74.05842379999999%2C%2040.736524%5D%2C%20%5B-74.08441639999998%2C%2040.736524%5D%2C%20%5B-74.08441639999998%2C%2040.7193454%5D%5D%5D%2C%20%22type%22%3A%20%22Polygon%22%7D%2C%20%22properties%22%3A%20%7B%22zone_id%22%3A%20%22186%22%7D%2C%20%22type%22%3A%20%22Feature%22%7D%2C%20%7B%22geometry%22%3A%20%7B%22coordinates%22%3A%20%5B%5B%5B-74.05842379999999%2C%2040.7193454%5D%2C%20%5B-74.03243119999999%2C%2040.7193454%5D%2C%20%5B-74.03243119999999%2C%2040.736524%5D%2C%20%5B-74.05842379999999%2C%2040.736524%5D%2C%20%5B-74.05842379999999%2C%2040.7193454%5D%5D%5D%2C%20%22type%22%3A%20%22Polygon%22%7D%2C%20%22properties%22%3A%20%7B%22zone_id%22%3A%20%22187%22%7D%2C%20%22type%22%3A%20%22Feature%22%7D%2C%20%7B%22geometry%22%3A%20%7B%22coordinates%22%3A%20%5B%5B%5B-74.03243119999999%2C%2040.7193454%5D%2C%20%5B-74.00643859999998%2C%2040.7193454%5D%2C%20%5B-74.00643859999998%2C%2040.736524%5D%2C%20%5B-74.03243119999999%2C%2040.736524%5D%2C%20%5B-74.03243119999999%2C%2040.7193454%5D%5D%5D%2C%20%22type%22%3A%20%22Polygon%22%7D%2C%20%22properties%22%3A%20%7B%22zone_id%22%3A%20%22188%22%7D%2C%20%22type%22%3A%20%22Feature%22%7D%2C%20%7B%22geometry%22%3A%20%7B%22coordinates%22%3A%20%5B%5B%5B-74.00643859999998%2C%2040.7193454%5D%2C%20%5B-73.98044599999999%2C%2040.7193454%5D%2C%20%5B-73.98044599999999%2C%2040.736524%5D%2C%20%5B-74.00643859999998%2C%2040.736524%5D%2C%20%5B-74.00643859999998%2C%2040.7193454%5D%5D%5D%2C%20%22type%22%3A%20%22Polygon%22%7D%2C%20%22properties%22%3A%20%7B%22zone_id%22%3A%20%22189%22%7D%2C%20%22type%22%3A%20%22Feature%22%7D%2C%20%7B%22geometry%22%3A%20%7B%22coordinates%22%3A%20%5B%5B%5B-73.98044599999999%2C%2040.7193454%5D%2C%20%5B-73.95445339999999%2C%2040.7193454%5D%2C%20%5B-73.95445339999999%2C%2040.736524%5D%2C%20%5B-73.98044599999999%2C%2040.736524%5D%2C%20%5B-73.98044599999999%2C%2040.7193454%5D%5D%5D%2C%20%22type%22%3A%20%22Polygon%22%7D%2C%20%22properties%22%3A%20%7B%22zone_id%22%3A%20%22190%22%7D%2C%20%22type%22%3A%20%22Feature%22%7D%2C%20%7B%22geometry%22%3A%20%7B%22coordinates%22%3A%20%5B%5B%5B-73.95445339999999%2C%2040.7193454%5D%2C%20%5B-73.92846079999998%2C%2040.7193454%5D%2C%20%5B-73.92846079999998%2C%2040.736524%5D%2C%20%5B-73.95445339999999%2C%2040.736524%5D%2C%20%5B-73.95445339999999%2C%2040.7193454%5D%5D%5D%2C%20%22type%22%3A%20%22Polygon%22%7D%2C%20%22properties%22%3A%20%7B%22zone_id%22%3A%20%22191%22%7D%2C%20%22type%22%3A%20%22Feature%22%7D%2C%20%7B%22geometry%22%3A%20%7B%22coordinates%22%3A%20%5B%5B%5B-73.92846079999998%2C%2040.7193454%5D%2C%20%5B-73.90246819999999%2C%2040.7193454%5D%2C%20%5B-73.90246819999999%2C%2040.736524%5D%2C%20%5B-73.92846079999998%2C%2040.736524%5D%2C%20%5B-73.92846079999998%2C%2040.7193454%5D%5D%5D%2C%20%22type%22%3A%20%22Polygon%22%7D%2C%20%22properties%22%3A%20%7B%22zone_id%22%3A%20%22192%22%7D%2C%20%22type%22%3A%20%22Feature%22%7D%2C%20%7B%22geometry%22%3A%20%7B%22coordinates%22%3A%20%5B%5B%5B-73.90246819999999%2C%2040.7193454%5D%2C%20%5B-73.87647559999999%2C%2040.7193454%5D%2C%20%5B-73.87647559999999%2C%2040.736524%5D%2C%20%5B-73.90246819999999%2C%2040.736524%5D%2C%20%5B-73.90246819999999%2C%2040.7193454%5D%5D%5D%2C%20%22type%22%3A%20%22Polygon%22%7D%2C%20%22properties%22%3A%20%7B%22zone_id%22%3A%20%22193%22%7D%2C%20%22type%22%3A%20%22Feature%22%7D%2C%20%7B%22geometry%22%3A%20%7B%22coordinates%22%3A%20%5B%5B%5B-73.87647559999999%2C%2040.7193454%5D%2C%20%5B-73.850483%2C%2040.7193454%5D%2C%20%5B-73.850483%2C%2040.736524%5D%2C%20%5B-73.87647559999999%2C%2040.736524%5D%2C%20%5B-73.87647559999999%2C%2040.7193454%5D%5D%5D%2C%20%22type%22%3A%20%22Polygon%22%7D%2C%20%22properties%22%3A%20%7B%22zone_id%22%3A%20%22194%22%7D%2C%20%22type%22%3A%20%22Feature%22%7D%2C%20%7B%22geometry%22%3A%20%7B%22coordinates%22%3A%20%5B%5B%5B-73.850483%2C%2040.7193454%5D%2C%20%5B-73.82449039999999%2C%2040.7193454%5D%2C%20%5B-73.82449039999999%2C%2040.736524%5D%2C%20%5B-73.850483%2C%2040.736524%5D%2C%20%5B-73.850483%2C%2040.7193454%5D%5D%5D%2C%20%22type%22%3A%20%22Polygon%22%7D%2C%20%22properties%22%3A%20%7B%22zone_id%22%3A%20%22195%22%7D%2C%20%22type%22%3A%20%22Feature%22%7D%2C%20%7B%22geometry%22%3A%20%7B%22coordinates%22%3A%20%5B%5B%5B-73.82449039999999%2C%2040.7193454%5D%2C%20%5B-73.79849779999999%2C%2040.7193454%5D%2C%20%5B-73.79849779999999%2C%2040.736524%5D%2C%20%5B-73.82449039999999%2C%2040.736524%5D%2C%20%5B-73.82449039999999%2C%2040.7193454%5D%5D%5D%2C%20%22type%22%3A%20%22Polygon%22%7D%2C%20%22properties%22%3A%20%7B%22zone_id%22%3A%20%22196%22%7D%2C%20%22type%22%3A%20%22Feature%22%7D%2C%20%7B%22geometry%22%3A%20%7B%22coordinates%22%3A%20%5B%5B%5B-73.79849779999999%2C%2040.7193454%5D%2C%20%5B-73.7725052%2C%2040.7193454%5D%2C%20%5B-73.7725052%2C%2040.736524%5D%2C%20%5B-73.79849779999999%2C%2040.736524%5D%2C%20%5B-73.79849779999999%2C%2040.7193454%5D%5D%5D%2C%20%22type%22%3A%20%22Polygon%22%7D%2C%20%22properties%22%3A%20%7B%22zone_id%22%3A%20%22197%22%7D%2C%20%22type%22%3A%20%22Feature%22%7D%2C%20%7B%22geometry%22%3A%20%7B%22coordinates%22%3A%20%5B%5B%5B-73.7725052%2C%2040.7193454%5D%2C%20%5B-73.74651259999999%2C%2040.7193454%5D%2C%20%5B-73.74651259999999%2C%2040.736524%5D%2C%20%5B-73.7725052%2C%2040.736524%5D%2C%20%5B-73.7725052%2C%2040.7193454%5D%5D%5D%2C%20%22type%22%3A%20%22Polygon%22%7D%2C%20%22properties%22%3A%20%7B%22zone_id%22%3A%20%22198%22%7D%2C%20%22type%22%3A%20%22Feature%22%7D%2C%20%7B%22geometry%22%3A%20%7B%22coordinates%22%3A%20%5B%5B%5B-73.74651259999999%2C%2040.7193454%5D%2C%20%5B-73.72052%2C%2040.7193454%5D%2C%20%5B-73.72052%2C%2040.736524%5D%2C%20%5B-73.74651259999999%2C%2040.736524%5D%2C%20%5B-73.74651259999999%2C%2040.7193454%5D%5D%5D%2C%20%22type%22%3A%20%22Polygon%22%7D%2C%20%22properties%22%3A%20%7B%22zone_id%22%3A%20%22199%22%7D%2C%20%22type%22%3A%20%22Feature%22%7D%2C%20%7B%22geometry%22%3A%20%7B%22coordinates%22%3A%20%5B%5B%5B-74.24037199999998%2C%2040.736524%5D%2C%20%5B-74.21437939999998%2C%2040.736524%5D%2C%20%5B-74.21437939999998%2C%2040.7537026%5D%2C%20%5B-74.24037199999998%2C%2040.7537026%5D%2C%20%5B-74.24037199999998%2C%2040.736524%5D%5D%5D%2C%20%22type%22%3A%20%22Polygon%22%7D%2C%20%22properties%22%3A%20%7B%22zone_id%22%3A%20%22200%22%7D%2C%20%22type%22%3A%20%22Feature%22%7D%2C%20%7B%22geometry%22%3A%20%7B%22coordinates%22%3A%20%5B%5B%5B-74.21437939999998%2C%2040.736524%5D%2C%20%5B-74.18838679999998%2C%2040.736524%5D%2C%20%5B-74.18838679999998%2C%2040.7537026%5D%2C%20%5B-74.21437939999998%2C%2040.7537026%5D%2C%20%5B-74.21437939999998%2C%2040.736524%5D%5D%5D%2C%20%22type%22%3A%20%22Polygon%22%7D%2C%20%22properties%22%3A%20%7B%22zone_id%22%3A%20%22201%22%7D%2C%20%22type%22%3A%20%22Feature%22%7D%2C%20%7B%22geometry%22%3A%20%7B%22coordinates%22%3A%20%5B%5B%5B-74.18838679999998%2C%2040.736524%5D%2C%20%5B-74.16239419999998%2C%2040.736524%5D%2C%20%5B-74.16239419999998%2C%2040.7537026%5D%2C%20%5B-74.18838679999998%2C%2040.7537026%5D%2C%20%5B-74.18838679999998%2C%2040.736524%5D%5D%5D%2C%20%22type%22%3A%20%22Polygon%22%7D%2C%20%22properties%22%3A%20%7B%22zone_id%22%3A%20%22202%22%7D%2C%20%22type%22%3A%20%22Feature%22%7D%2C%20%7B%22geometry%22%3A%20%7B%22coordinates%22%3A%20%5B%5B%5B-74.16239419999998%2C%2040.736524%5D%2C%20%5B-74.13640159999999%2C%2040.736524%5D%2C%20%5B-74.13640159999999%2C%2040.7537026%5D%2C%20%5B-74.16239419999998%2C%2040.7537026%5D%2C%20%5B-74.16239419999998%2C%2040.736524%5D%5D%5D%2C%20%22type%22%3A%20%22Polygon%22%7D%2C%20%22properties%22%3A%20%7B%22zone_id%22%3A%20%22203%22%7D%2C%20%22type%22%3A%20%22Feature%22%7D%2C%20%7B%22geometry%22%3A%20%7B%22coordinates%22%3A%20%5B%5B%5B-74.13640159999999%2C%2040.736524%5D%2C%20%5B-74.11040899999998%2C%2040.736524%5D%2C%20%5B-74.11040899999998%2C%2040.7537026%5D%2C%20%5B-74.13640159999999%2C%2040.7537026%5D%2C%20%5B-74.13640159999999%2C%2040.736524%5D%5D%5D%2C%20%22type%22%3A%20%22Polygon%22%7D%2C%20%22properties%22%3A%20%7B%22zone_id%22%3A%20%22204%22%7D%2C%20%22type%22%3A%20%22Feature%22%7D%2C%20%7B%22geometry%22%3A%20%7B%22coordinates%22%3A%20%5B%5B%5B-74.11040899999998%2C%2040.736524%5D%2C%20%5B-74.08441639999998%2C%2040.736524%5D%2C%20%5B-74.08441639999998%2C%2040.7537026%5D%2C%20%5B-74.11040899999998%2C%2040.7537026%5D%2C%20%5B-74.11040899999998%2C%2040.736524%5D%5D%5D%2C%20%22type%22%3A%20%22Polygon%22%7D%2C%20%22properties%22%3A%20%7B%22zone_id%22%3A%20%22205%22%7D%2C%20%22type%22%3A%20%22Feature%22%7D%2C%20%7B%22geometry%22%3A%20%7B%22coordinates%22%3A%20%5B%5B%5B-74.08441639999998%2C%2040.736524%5D%2C%20%5B-74.05842379999999%2C%2040.736524%5D%2C%20%5B-74.05842379999999%2C%2040.7537026%5D%2C%20%5B-74.08441639999998%2C%2040.7537026%5D%2C%20%5B-74.08441639999998%2C%2040.736524%5D%5D%5D%2C%20%22type%22%3A%20%22Polygon%22%7D%2C%20%22properties%22%3A%20%7B%22zone_id%22%3A%20%22206%22%7D%2C%20%22type%22%3A%20%22Feature%22%7D%2C%20%7B%22geometry%22%3A%20%7B%22coordinates%22%3A%20%5B%5B%5B-74.05842379999999%2C%2040.736524%5D%2C%20%5B-74.03243119999999%2C%2040.736524%5D%2C%20%5B-74.03243119999999%2C%2040.7537026%5D%2C%20%5B-74.05842379999999%2C%2040.7537026%5D%2C%20%5B-74.05842379999999%2C%2040.736524%5D%5D%5D%2C%20%22type%22%3A%20%22Polygon%22%7D%2C%20%22properties%22%3A%20%7B%22zone_id%22%3A%20%22207%22%7D%2C%20%22type%22%3A%20%22Feature%22%7D%2C%20%7B%22geometry%22%3A%20%7B%22coordinates%22%3A%20%5B%5B%5B-74.03243119999999%2C%2040.736524%5D%2C%20%5B-74.00643859999998%2C%2040.736524%5D%2C%20%5B-74.00643859999998%2C%2040.7537026%5D%2C%20%5B-74.03243119999999%2C%2040.7537026%5D%2C%20%5B-74.03243119999999%2C%2040.736524%5D%5D%5D%2C%20%22type%22%3A%20%22Polygon%22%7D%2C%20%22properties%22%3A%20%7B%22zone_id%22%3A%20%22208%22%7D%2C%20%22type%22%3A%20%22Feature%22%7D%2C%20%7B%22geometry%22%3A%20%7B%22coordinates%22%3A%20%5B%5B%5B-74.00643859999998%2C%2040.736524%5D%2C%20%5B-73.98044599999999%2C%2040.736524%5D%2C%20%5B-73.98044599999999%2C%2040.7537026%5D%2C%20%5B-74.00643859999998%2C%2040.7537026%5D%2C%20%5B-74.00643859999998%2C%2040.736524%5D%5D%5D%2C%20%22type%22%3A%20%22Polygon%22%7D%2C%20%22properties%22%3A%20%7B%22zone_id%22%3A%20%22209%22%7D%2C%20%22type%22%3A%20%22Feature%22%7D%2C%20%7B%22geometry%22%3A%20%7B%22coordinates%22%3A%20%5B%5B%5B-73.98044599999999%2C%2040.736524%5D%2C%20%5B-73.95445339999999%2C%2040.736524%5D%2C%20%5B-73.95445339999999%2C%2040.7537026%5D%2C%20%5B-73.98044599999999%2C%2040.7537026%5D%2C%20%5B-73.98044599999999%2C%2040.736524%5D%5D%5D%2C%20%22type%22%3A%20%22Polygon%22%7D%2C%20%22properties%22%3A%20%7B%22zone_id%22%3A%20%22210%22%7D%2C%20%22type%22%3A%20%22Feature%22%7D%2C%20%7B%22geometry%22%3A%20%7B%22coordinates%22%3A%20%5B%5B%5B-73.95445339999999%2C%2040.736524%5D%2C%20%5B-73.92846079999998%2C%2040.736524%5D%2C%20%5B-73.92846079999998%2C%2040.7537026%5D%2C%20%5B-73.95445339999999%2C%2040.7537026%5D%2C%20%5B-73.95445339999999%2C%2040.736524%5D%5D%5D%2C%20%22type%22%3A%20%22Polygon%22%7D%2C%20%22properties%22%3A%20%7B%22zone_id%22%3A%20%22211%22%7D%2C%20%22type%22%3A%20%22Feature%22%7D%2C%20%7B%22geometry%22%3A%20%7B%22coordinates%22%3A%20%5B%5B%5B-73.92846079999998%2C%2040.736524%5D%2C%20%5B-73.90246819999999%2C%2040.736524%5D%2C%20%5B-73.90246819999999%2C%2040.7537026%5D%2C%20%5B-73.92846079999998%2C%2040.7537026%5D%2C%20%5B-73.92846079999998%2C%2040.736524%5D%5D%5D%2C%20%22type%22%3A%20%22Polygon%22%7D%2C%20%22properties%22%3A%20%7B%22zone_id%22%3A%20%22212%22%7D%2C%20%22type%22%3A%20%22Feature%22%7D%2C%20%7B%22geometry%22%3A%20%7B%22coordinates%22%3A%20%5B%5B%5B-73.90246819999999%2C%2040.736524%5D%2C%20%5B-73.87647559999999%2C%2040.736524%5D%2C%20%5B-73.87647559999999%2C%2040.7537026%5D%2C%20%5B-73.90246819999999%2C%2040.7537026%5D%2C%20%5B-73.90246819999999%2C%2040.736524%5D%5D%5D%2C%20%22type%22%3A%20%22Polygon%22%7D%2C%20%22properties%22%3A%20%7B%22zone_id%22%3A%20%22213%22%7D%2C%20%22type%22%3A%20%22Feature%22%7D%2C%20%7B%22geometry%22%3A%20%7B%22coordinates%22%3A%20%5B%5B%5B-73.87647559999999%2C%2040.736524%5D%2C%20%5B-73.850483%2C%2040.736524%5D%2C%20%5B-73.850483%2C%2040.7537026%5D%2C%20%5B-73.87647559999999%2C%2040.7537026%5D%2C%20%5B-73.87647559999999%2C%2040.736524%5D%5D%5D%2C%20%22type%22%3A%20%22Polygon%22%7D%2C%20%22properties%22%3A%20%7B%22zone_id%22%3A%20%22214%22%7D%2C%20%22type%22%3A%20%22Feature%22%7D%2C%20%7B%22geometry%22%3A%20%7B%22coordinates%22%3A%20%5B%5B%5B-73.850483%2C%2040.736524%5D%2C%20%5B-73.82449039999999%2C%2040.736524%5D%2C%20%5B-73.82449039999999%2C%2040.7537026%5D%2C%20%5B-73.850483%2C%2040.7537026%5D%2C%20%5B-73.850483%2C%2040.736524%5D%5D%5D%2C%20%22type%22%3A%20%22Polygon%22%7D%2C%20%22properties%22%3A%20%7B%22zone_id%22%3A%20%22215%22%7D%2C%20%22type%22%3A%20%22Feature%22%7D%2C%20%7B%22geometry%22%3A%20%7B%22coordinates%22%3A%20%5B%5B%5B-73.82449039999999%2C%2040.736524%5D%2C%20%5B-73.79849779999999%2C%2040.736524%5D%2C%20%5B-73.79849779999999%2C%2040.7537026%5D%2C%20%5B-73.82449039999999%2C%2040.7537026%5D%2C%20%5B-73.82449039999999%2C%2040.736524%5D%5D%5D%2C%20%22type%22%3A%20%22Polygon%22%7D%2C%20%22properties%22%3A%20%7B%22zone_id%22%3A%20%22216%22%7D%2C%20%22type%22%3A%20%22Feature%22%7D%2C%20%7B%22geometry%22%3A%20%7B%22coordinates%22%3A%20%5B%5B%5B-73.79849779999999%2C%2040.736524%5D%2C%20%5B-73.7725052%2C%2040.736524%5D%2C%20%5B-73.7725052%2C%2040.7537026%5D%2C%20%5B-73.79849779999999%2C%2040.7537026%5D%2C%20%5B-73.79849779999999%2C%2040.736524%5D%5D%5D%2C%20%22type%22%3A%20%22Polygon%22%7D%2C%20%22properties%22%3A%20%7B%22zone_id%22%3A%20%22217%22%7D%2C%20%22type%22%3A%20%22Feature%22%7D%2C%20%7B%22geometry%22%3A%20%7B%22coordinates%22%3A%20%5B%5B%5B-73.7725052%2C%2040.736524%5D%2C%20%5B-73.74651259999999%2C%2040.736524%5D%2C%20%5B-73.74651259999999%2C%2040.7537026%5D%2C%20%5B-73.7725052%2C%2040.7537026%5D%2C%20%5B-73.7725052%2C%2040.736524%5D%5D%5D%2C%20%22type%22%3A%20%22Polygon%22%7D%2C%20%22properties%22%3A%20%7B%22zone_id%22%3A%20%22218%22%7D%2C%20%22type%22%3A%20%22Feature%22%7D%2C%20%7B%22geometry%22%3A%20%7B%22coordinates%22%3A%20%5B%5B%5B-73.74651259999999%2C%2040.736524%5D%2C%20%5B-73.72052%2C%2040.736524%5D%2C%20%5B-73.72052%2C%2040.7537026%5D%2C%20%5B-73.74651259999999%2C%2040.7537026%5D%2C%20%5B-73.74651259999999%2C%2040.736524%5D%5D%5D%2C%20%22type%22%3A%20%22Polygon%22%7D%2C%20%22properties%22%3A%20%7B%22zone_id%22%3A%20%22219%22%7D%2C%20%22type%22%3A%20%22Feature%22%7D%2C%20%7B%22geometry%22%3A%20%7B%22coordinates%22%3A%20%5B%5B%5B-74.24037199999998%2C%2040.7537026%5D%2C%20%5B-74.21437939999998%2C%2040.7537026%5D%2C%20%5B-74.21437939999998%2C%2040.7708812%5D%2C%20%5B-74.24037199999998%2C%2040.7708812%5D%2C%20%5B-74.24037199999998%2C%2040.7537026%5D%5D%5D%2C%20%22type%22%3A%20%22Polygon%22%7D%2C%20%22properties%22%3A%20%7B%22zone_id%22%3A%20%22220%22%7D%2C%20%22type%22%3A%20%22Feature%22%7D%2C%20%7B%22geometry%22%3A%20%7B%22coordinates%22%3A%20%5B%5B%5B-74.21437939999998%2C%2040.7537026%5D%2C%20%5B-74.18838679999998%2C%2040.7537026%5D%2C%20%5B-74.18838679999998%2C%2040.7708812%5D%2C%20%5B-74.21437939999998%2C%2040.7708812%5D%2C%20%5B-74.21437939999998%2C%2040.7537026%5D%5D%5D%2C%20%22type%22%3A%20%22Polygon%22%7D%2C%20%22properties%22%3A%20%7B%22zone_id%22%3A%20%22221%22%7D%2C%20%22type%22%3A%20%22Feature%22%7D%2C%20%7B%22geometry%22%3A%20%7B%22coordinates%22%3A%20%5B%5B%5B-74.18838679999998%2C%2040.7537026%5D%2C%20%5B-74.16239419999998%2C%2040.7537026%5D%2C%20%5B-74.16239419999998%2C%2040.7708812%5D%2C%20%5B-74.18838679999998%2C%2040.7708812%5D%2C%20%5B-74.18838679999998%2C%2040.7537026%5D%5D%5D%2C%20%22type%22%3A%20%22Polygon%22%7D%2C%20%22properties%22%3A%20%7B%22zone_id%22%3A%20%22222%22%7D%2C%20%22type%22%3A%20%22Feature%22%7D%2C%20%7B%22geometry%22%3A%20%7B%22coordinates%22%3A%20%5B%5B%5B-74.16239419999998%2C%2040.7537026%5D%2C%20%5B-74.13640159999999%2C%2040.7537026%5D%2C%20%5B-74.13640159999999%2C%2040.7708812%5D%2C%20%5B-74.16239419999998%2C%2040.7708812%5D%2C%20%5B-74.16239419999998%2C%2040.7537026%5D%5D%5D%2C%20%22type%22%3A%20%22Polygon%22%7D%2C%20%22properties%22%3A%20%7B%22zone_id%22%3A%20%22223%22%7D%2C%20%22type%22%3A%20%22Feature%22%7D%2C%20%7B%22geometry%22%3A%20%7B%22coordinates%22%3A%20%5B%5B%5B-74.13640159999999%2C%2040.7537026%5D%2C%20%5B-74.11040899999998%2C%2040.7537026%5D%2C%20%5B-74.11040899999998%2C%2040.7708812%5D%2C%20%5B-74.13640159999999%2C%2040.7708812%5D%2C%20%5B-74.13640159999999%2C%2040.7537026%5D%5D%5D%2C%20%22type%22%3A%20%22Polygon%22%7D%2C%20%22properties%22%3A%20%7B%22zone_id%22%3A%20%22224%22%7D%2C%20%22type%22%3A%20%22Feature%22%7D%2C%20%7B%22geometry%22%3A%20%7B%22coordinates%22%3A%20%5B%5B%5B-74.11040899999998%2C%2040.7537026%5D%2C%20%5B-74.08441639999998%2C%2040.7537026%5D%2C%20%5B-74.08441639999998%2C%2040.7708812%5D%2C%20%5B-74.11040899999998%2C%2040.7708812%5D%2C%20%5B-74.11040899999998%2C%2040.7537026%5D%5D%5D%2C%20%22type%22%3A%20%22Polygon%22%7D%2C%20%22properties%22%3A%20%7B%22zone_id%22%3A%20%22225%22%7D%2C%20%22type%22%3A%20%22Feature%22%7D%2C%20%7B%22geometry%22%3A%20%7B%22coordinates%22%3A%20%5B%5B%5B-74.08441639999998%2C%2040.7537026%5D%2C%20%5B-74.05842379999999%2C%2040.7537026%5D%2C%20%5B-74.05842379999999%2C%2040.7708812%5D%2C%20%5B-74.08441639999998%2C%2040.7708812%5D%2C%20%5B-74.08441639999998%2C%2040.7537026%5D%5D%5D%2C%20%22type%22%3A%20%22Polygon%22%7D%2C%20%22properties%22%3A%20%7B%22zone_id%22%3A%20%22226%22%7D%2C%20%22type%22%3A%20%22Feature%22%7D%2C%20%7B%22geometry%22%3A%20%7B%22coordinates%22%3A%20%5B%5B%5B-74.05842379999999%2C%2040.7537026%5D%2C%20%5B-74.03243119999999%2C%2040.7537026%5D%2C%20%5B-74.03243119999999%2C%2040.7708812%5D%2C%20%5B-74.05842379999999%2C%2040.7708812%5D%2C%20%5B-74.05842379999999%2C%2040.7537026%5D%5D%5D%2C%20%22type%22%3A%20%22Polygon%22%7D%2C%20%22properties%22%3A%20%7B%22zone_id%22%3A%20%22227%22%7D%2C%20%22type%22%3A%20%22Feature%22%7D%2C%20%7B%22geometry%22%3A%20%7B%22coordinates%22%3A%20%5B%5B%5B-74.03243119999999%2C%2040.7537026%5D%2C%20%5B-74.00643859999998%2C%2040.7537026%5D%2C%20%5B-74.00643859999998%2C%2040.7708812%5D%2C%20%5B-74.03243119999999%2C%2040.7708812%5D%2C%20%5B-74.03243119999999%2C%2040.7537026%5D%5D%5D%2C%20%22type%22%3A%20%22Polygon%22%7D%2C%20%22properties%22%3A%20%7B%22zone_id%22%3A%20%22228%22%7D%2C%20%22type%22%3A%20%22Feature%22%7D%2C%20%7B%22geometry%22%3A%20%7B%22coordinates%22%3A%20%5B%5B%5B-74.00643859999998%2C%2040.7537026%5D%2C%20%5B-73.98044599999999%2C%2040.7537026%5D%2C%20%5B-73.98044599999999%2C%2040.7708812%5D%2C%20%5B-74.00643859999998%2C%2040.7708812%5D%2C%20%5B-74.00643859999998%2C%2040.7537026%5D%5D%5D%2C%20%22type%22%3A%20%22Polygon%22%7D%2C%20%22properties%22%3A%20%7B%22zone_id%22%3A%20%22229%22%7D%2C%20%22type%22%3A%20%22Feature%22%7D%2C%20%7B%22geometry%22%3A%20%7B%22coordinates%22%3A%20%5B%5B%5B-73.98044599999999%2C%2040.7537026%5D%2C%20%5B-73.95445339999999%2C%2040.7537026%5D%2C%20%5B-73.95445339999999%2C%2040.7708812%5D%2C%20%5B-73.98044599999999%2C%2040.7708812%5D%2C%20%5B-73.98044599999999%2C%2040.7537026%5D%5D%5D%2C%20%22type%22%3A%20%22Polygon%22%7D%2C%20%22properties%22%3A%20%7B%22zone_id%22%3A%20%22230%22%7D%2C%20%22type%22%3A%20%22Feature%22%7D%2C%20%7B%22geometry%22%3A%20%7B%22coordinates%22%3A%20%5B%5B%5B-73.95445339999999%2C%2040.7537026%5D%2C%20%5B-73.92846079999998%2C%2040.7537026%5D%2C%20%5B-73.92846079999998%2C%2040.7708812%5D%2C%20%5B-73.95445339999999%2C%2040.7708812%5D%2C%20%5B-73.95445339999999%2C%2040.7537026%5D%5D%5D%2C%20%22type%22%3A%20%22Polygon%22%7D%2C%20%22properties%22%3A%20%7B%22zone_id%22%3A%20%22231%22%7D%2C%20%22type%22%3A%20%22Feature%22%7D%2C%20%7B%22geometry%22%3A%20%7B%22coordinates%22%3A%20%5B%5B%5B-73.92846079999998%2C%2040.7537026%5D%2C%20%5B-73.90246819999999%2C%2040.7537026%5D%2C%20%5B-73.90246819999999%2C%2040.7708812%5D%2C%20%5B-73.92846079999998%2C%2040.7708812%5D%2C%20%5B-73.92846079999998%2C%2040.7537026%5D%5D%5D%2C%20%22type%22%3A%20%22Polygon%22%7D%2C%20%22properties%22%3A%20%7B%22zone_id%22%3A%20%22232%22%7D%2C%20%22type%22%3A%20%22Feature%22%7D%2C%20%7B%22geometry%22%3A%20%7B%22coordinates%22%3A%20%5B%5B%5B-73.90246819999999%2C%2040.7537026%5D%2C%20%5B-73.87647559999999%2C%2040.7537026%5D%2C%20%5B-73.87647559999999%2C%2040.7708812%5D%2C%20%5B-73.90246819999999%2C%2040.7708812%5D%2C%20%5B-73.90246819999999%2C%2040.7537026%5D%5D%5D%2C%20%22type%22%3A%20%22Polygon%22%7D%2C%20%22properties%22%3A%20%7B%22zone_id%22%3A%20%22233%22%7D%2C%20%22type%22%3A%20%22Feature%22%7D%2C%20%7B%22geometry%22%3A%20%7B%22coordinates%22%3A%20%5B%5B%5B-73.87647559999999%2C%2040.7537026%5D%2C%20%5B-73.850483%2C%2040.7537026%5D%2C%20%5B-73.850483%2C%2040.7708812%5D%2C%20%5B-73.87647559999999%2C%2040.7708812%5D%2C%20%5B-73.87647559999999%2C%2040.7537026%5D%5D%5D%2C%20%22type%22%3A%20%22Polygon%22%7D%2C%20%22properties%22%3A%20%7B%22zone_id%22%3A%20%22234%22%7D%2C%20%22type%22%3A%20%22Feature%22%7D%2C%20%7B%22geometry%22%3A%20%7B%22coordinates%22%3A%20%5B%5B%5B-73.850483%2C%2040.7537026%5D%2C%20%5B-73.82449039999999%2C%2040.7537026%5D%2C%20%5B-73.82449039999999%2C%2040.7708812%5D%2C%20%5B-73.850483%2C%2040.7708812%5D%2C%20%5B-73.850483%2C%2040.7537026%5D%5D%5D%2C%20%22type%22%3A%20%22Polygon%22%7D%2C%20%22properties%22%3A%20%7B%22zone_id%22%3A%20%22235%22%7D%2C%20%22type%22%3A%20%22Feature%22%7D%2C%20%7B%22geometry%22%3A%20%7B%22coordinates%22%3A%20%5B%5B%5B-73.82449039999999%2C%2040.7537026%5D%2C%20%5B-73.79849779999999%2C%2040.7537026%5D%2C%20%5B-73.79849779999999%2C%2040.7708812%5D%2C%20%5B-73.82449039999999%2C%2040.7708812%5D%2C%20%5B-73.82449039999999%2C%2040.7537026%5D%5D%5D%2C%20%22type%22%3A%20%22Polygon%22%7D%2C%20%22properties%22%3A%20%7B%22zone_id%22%3A%20%22236%22%7D%2C%20%22type%22%3A%20%22Feature%22%7D%2C%20%7B%22geometry%22%3A%20%7B%22coordinates%22%3A%20%5B%5B%5B-73.79849779999999%2C%2040.7537026%5D%2C%20%5B-73.7725052%2C%2040.7537026%5D%2C%20%5B-73.7725052%2C%2040.7708812%5D%2C%20%5B-73.79849779999999%2C%2040.7708812%5D%2C%20%5B-73.79849779999999%2C%2040.7537026%5D%5D%5D%2C%20%22type%22%3A%20%22Polygon%22%7D%2C%20%22properties%22%3A%20%7B%22zone_id%22%3A%20%22237%22%7D%2C%20%22type%22%3A%20%22Feature%22%7D%2C%20%7B%22geometry%22%3A%20%7B%22coordinates%22%3A%20%5B%5B%5B-73.7725052%2C%2040.7537026%5D%2C%20%5B-73.74651259999999%2C%2040.7537026%5D%2C%20%5B-73.74651259999999%2C%2040.7708812%5D%2C%20%5B-73.7725052%2C%2040.7708812%5D%2C%20%5B-73.7725052%2C%2040.7537026%5D%5D%5D%2C%20%22type%22%3A%20%22Polygon%22%7D%2C%20%22properties%22%3A%20%7B%22zone_id%22%3A%20%22238%22%7D%2C%20%22type%22%3A%20%22Feature%22%7D%2C%20%7B%22geometry%22%3A%20%7B%22coordinates%22%3A%20%5B%5B%5B-73.74651259999999%2C%2040.7537026%5D%2C%20%5B-73.72052%2C%2040.7537026%5D%2C%20%5B-73.72052%2C%2040.7708812%5D%2C%20%5B-73.74651259999999%2C%2040.7708812%5D%2C%20%5B-73.74651259999999%2C%2040.7537026%5D%5D%5D%2C%20%22type%22%3A%20%22Polygon%22%7D%2C%20%22properties%22%3A%20%7B%22zone_id%22%3A%20%22239%22%7D%2C%20%22type%22%3A%20%22Feature%22%7D%2C%20%7B%22geometry%22%3A%20%7B%22coordinates%22%3A%20%5B%5B%5B-74.24037199999998%2C%2040.7708812%5D%2C%20%5B-74.21437939999998%2C%2040.7708812%5D%2C%20%5B-74.21437939999998%2C%2040.7880598%5D%2C%20%5B-74.24037199999998%2C%2040.7880598%5D%2C%20%5B-74.24037199999998%2C%2040.7708812%5D%5D%5D%2C%20%22type%22%3A%20%22Polygon%22%7D%2C%20%22properties%22%3A%20%7B%22zone_id%22%3A%20%22240%22%7D%2C%20%22type%22%3A%20%22Feature%22%7D%2C%20%7B%22geometry%22%3A%20%7B%22coordinates%22%3A%20%5B%5B%5B-74.21437939999998%2C%2040.7708812%5D%2C%20%5B-74.18838679999998%2C%2040.7708812%5D%2C%20%5B-74.18838679999998%2C%2040.7880598%5D%2C%20%5B-74.21437939999998%2C%2040.7880598%5D%2C%20%5B-74.21437939999998%2C%2040.7708812%5D%5D%5D%2C%20%22type%22%3A%20%22Polygon%22%7D%2C%20%22properties%22%3A%20%7B%22zone_id%22%3A%20%22241%22%7D%2C%20%22type%22%3A%20%22Feature%22%7D%2C%20%7B%22geometry%22%3A%20%7B%22coordinates%22%3A%20%5B%5B%5B-74.18838679999998%2C%2040.7708812%5D%2C%20%5B-74.16239419999998%2C%2040.7708812%5D%2C%20%5B-74.16239419999998%2C%2040.7880598%5D%2C%20%5B-74.18838679999998%2C%2040.7880598%5D%2C%20%5B-74.18838679999998%2C%2040.7708812%5D%5D%5D%2C%20%22type%22%3A%20%22Polygon%22%7D%2C%20%22properties%22%3A%20%7B%22zone_id%22%3A%20%22242%22%7D%2C%20%22type%22%3A%20%22Feature%22%7D%2C%20%7B%22geometry%22%3A%20%7B%22coordinates%22%3A%20%5B%5B%5B-74.16239419999998%2C%2040.7708812%5D%2C%20%5B-74.13640159999999%2C%2040.7708812%5D%2C%20%5B-74.13640159999999%2C%2040.7880598%5D%2C%20%5B-74.16239419999998%2C%2040.7880598%5D%2C%20%5B-74.16239419999998%2C%2040.7708812%5D%5D%5D%2C%20%22type%22%3A%20%22Polygon%22%7D%2C%20%22properties%22%3A%20%7B%22zone_id%22%3A%20%22243%22%7D%2C%20%22type%22%3A%20%22Feature%22%7D%2C%20%7B%22geometry%22%3A%20%7B%22coordinates%22%3A%20%5B%5B%5B-74.13640159999999%2C%2040.7708812%5D%2C%20%5B-74.11040899999998%2C%2040.7708812%5D%2C%20%5B-74.11040899999998%2C%2040.7880598%5D%2C%20%5B-74.13640159999999%2C%2040.7880598%5D%2C%20%5B-74.13640159999999%2C%2040.7708812%5D%5D%5D%2C%20%22type%22%3A%20%22Polygon%22%7D%2C%20%22properties%22%3A%20%7B%22zone_id%22%3A%20%22244%22%7D%2C%20%22type%22%3A%20%22Feature%22%7D%2C%20%7B%22geometry%22%3A%20%7B%22coordinates%22%3A%20%5B%5B%5B-74.11040899999998%2C%2040.7708812%5D%2C%20%5B-74.08441639999998%2C%2040.7708812%5D%2C%20%5B-74.08441639999998%2C%2040.7880598%5D%2C%20%5B-74.11040899999998%2C%2040.7880598%5D%2C%20%5B-74.11040899999998%2C%2040.7708812%5D%5D%5D%2C%20%22type%22%3A%20%22Polygon%22%7D%2C%20%22properties%22%3A%20%7B%22zone_id%22%3A%20%22245%22%7D%2C%20%22type%22%3A%20%22Feature%22%7D%2C%20%7B%22geometry%22%3A%20%7B%22coordinates%22%3A%20%5B%5B%5B-74.08441639999998%2C%2040.7708812%5D%2C%20%5B-74.05842379999999%2C%2040.7708812%5D%2C%20%5B-74.05842379999999%2C%2040.7880598%5D%2C%20%5B-74.08441639999998%2C%2040.7880598%5D%2C%20%5B-74.08441639999998%2C%2040.7708812%5D%5D%5D%2C%20%22type%22%3A%20%22Polygon%22%7D%2C%20%22properties%22%3A%20%7B%22zone_id%22%3A%20%22246%22%7D%2C%20%22type%22%3A%20%22Feature%22%7D%2C%20%7B%22geometry%22%3A%20%7B%22coordinates%22%3A%20%5B%5B%5B-74.05842379999999%2C%2040.7708812%5D%2C%20%5B-74.03243119999999%2C%2040.7708812%5D%2C%20%5B-74.03243119999999%2C%2040.7880598%5D%2C%20%5B-74.05842379999999%2C%2040.7880598%5D%2C%20%5B-74.05842379999999%2C%2040.7708812%5D%5D%5D%2C%20%22type%22%3A%20%22Polygon%22%7D%2C%20%22properties%22%3A%20%7B%22zone_id%22%3A%20%22247%22%7D%2C%20%22type%22%3A%20%22Feature%22%7D%2C%20%7B%22geometry%22%3A%20%7B%22coordinates%22%3A%20%5B%5B%5B-74.03243119999999%2C%2040.7708812%5D%2C%20%5B-74.00643859999998%2C%2040.7708812%5D%2C%20%5B-74.00643859999998%2C%2040.7880598%5D%2C%20%5B-74.03243119999999%2C%2040.7880598%5D%2C%20%5B-74.03243119999999%2C%2040.7708812%5D%5D%5D%2C%20%22type%22%3A%20%22Polygon%22%7D%2C%20%22properties%22%3A%20%7B%22zone_id%22%3A%20%22248%22%7D%2C%20%22type%22%3A%20%22Feature%22%7D%2C%20%7B%22geometry%22%3A%20%7B%22coordinates%22%3A%20%5B%5B%5B-74.00643859999998%2C%2040.7708812%5D%2C%20%5B-73.98044599999999%2C%2040.7708812%5D%2C%20%5B-73.98044599999999%2C%2040.7880598%5D%2C%20%5B-74.00643859999998%2C%2040.7880598%5D%2C%20%5B-74.00643859999998%2C%2040.7708812%5D%5D%5D%2C%20%22type%22%3A%20%22Polygon%22%7D%2C%20%22properties%22%3A%20%7B%22zone_id%22%3A%20%22249%22%7D%2C%20%22type%22%3A%20%22Feature%22%7D%2C%20%7B%22geometry%22%3A%20%7B%22coordinates%22%3A%20%5B%5B%5B-73.98044599999999%2C%2040.7708812%5D%2C%20%5B-73.95445339999999%2C%2040.7708812%5D%2C%20%5B-73.95445339999999%2C%2040.7880598%5D%2C%20%5B-73.98044599999999%2C%2040.7880598%5D%2C%20%5B-73.98044599999999%2C%2040.7708812%5D%5D%5D%2C%20%22type%22%3A%20%22Polygon%22%7D%2C%20%22properties%22%3A%20%7B%22zone_id%22%3A%20%22250%22%7D%2C%20%22type%22%3A%20%22Feature%22%7D%2C%20%7B%22geometry%22%3A%20%7B%22coordinates%22%3A%20%5B%5B%5B-73.95445339999999%2C%2040.7708812%5D%2C%20%5B-73.92846079999998%2C%2040.7708812%5D%2C%20%5B-73.92846079999998%2C%2040.7880598%5D%2C%20%5B-73.95445339999999%2C%2040.7880598%5D%2C%20%5B-73.95445339999999%2C%2040.7708812%5D%5D%5D%2C%20%22type%22%3A%20%22Polygon%22%7D%2C%20%22properties%22%3A%20%7B%22zone_id%22%3A%20%22251%22%7D%2C%20%22type%22%3A%20%22Feature%22%7D%2C%20%7B%22geometry%22%3A%20%7B%22coordinates%22%3A%20%5B%5B%5B-73.92846079999998%2C%2040.7708812%5D%2C%20%5B-73.90246819999999%2C%2040.7708812%5D%2C%20%5B-73.90246819999999%2C%2040.7880598%5D%2C%20%5B-73.92846079999998%2C%2040.7880598%5D%2C%20%5B-73.92846079999998%2C%2040.7708812%5D%5D%5D%2C%20%22type%22%3A%20%22Polygon%22%7D%2C%20%22properties%22%3A%20%7B%22zone_id%22%3A%20%22252%22%7D%2C%20%22type%22%3A%20%22Feature%22%7D%2C%20%7B%22geometry%22%3A%20%7B%22coordinates%22%3A%20%5B%5B%5B-73.90246819999999%2C%2040.7708812%5D%2C%20%5B-73.87647559999999%2C%2040.7708812%5D%2C%20%5B-73.87647559999999%2C%2040.7880598%5D%2C%20%5B-73.90246819999999%2C%2040.7880598%5D%2C%20%5B-73.90246819999999%2C%2040.7708812%5D%5D%5D%2C%20%22type%22%3A%20%22Polygon%22%7D%2C%20%22properties%22%3A%20%7B%22zone_id%22%3A%20%22253%22%7D%2C%20%22type%22%3A%20%22Feature%22%7D%2C%20%7B%22geometry%22%3A%20%7B%22coordinates%22%3A%20%5B%5B%5B-73.87647559999999%2C%2040.7708812%5D%2C%20%5B-73.850483%2C%2040.7708812%5D%2C%20%5B-73.850483%2C%2040.7880598%5D%2C%20%5B-73.87647559999999%2C%2040.7880598%5D%2C%20%5B-73.87647559999999%2C%2040.7708812%5D%5D%5D%2C%20%22type%22%3A%20%22Polygon%22%7D%2C%20%22properties%22%3A%20%7B%22zone_id%22%3A%20%22254%22%7D%2C%20%22type%22%3A%20%22Feature%22%7D%2C%20%7B%22geometry%22%3A%20%7B%22coordinates%22%3A%20%5B%5B%5B-73.850483%2C%2040.7708812%5D%2C%20%5B-73.82449039999999%2C%2040.7708812%5D%2C%20%5B-73.82449039999999%2C%2040.7880598%5D%2C%20%5B-73.850483%2C%2040.7880598%5D%2C%20%5B-73.850483%2C%2040.7708812%5D%5D%5D%2C%20%22type%22%3A%20%22Polygon%22%7D%2C%20%22properties%22%3A%20%7B%22zone_id%22%3A%20%22255%22%7D%2C%20%22type%22%3A%20%22Feature%22%7D%2C%20%7B%22geometry%22%3A%20%7B%22coordinates%22%3A%20%5B%5B%5B-73.82449039999999%2C%2040.7708812%5D%2C%20%5B-73.79849779999999%2C%2040.7708812%5D%2C%20%5B-73.79849779999999%2C%2040.7880598%5D%2C%20%5B-73.82449039999999%2C%2040.7880598%5D%2C%20%5B-73.82449039999999%2C%2040.7708812%5D%5D%5D%2C%20%22type%22%3A%20%22Polygon%22%7D%2C%20%22properties%22%3A%20%7B%22zone_id%22%3A%20%22256%22%7D%2C%20%22type%22%3A%20%22Feature%22%7D%2C%20%7B%22geometry%22%3A%20%7B%22coordinates%22%3A%20%5B%5B%5B-73.79849779999999%2C%2040.7708812%5D%2C%20%5B-73.7725052%2C%2040.7708812%5D%2C%20%5B-73.7725052%2C%2040.7880598%5D%2C%20%5B-73.79849779999999%2C%2040.7880598%5D%2C%20%5B-73.79849779999999%2C%2040.7708812%5D%5D%5D%2C%20%22type%22%3A%20%22Polygon%22%7D%2C%20%22properties%22%3A%20%7B%22zone_id%22%3A%20%22257%22%7D%2C%20%22type%22%3A%20%22Feature%22%7D%2C%20%7B%22geometry%22%3A%20%7B%22coordinates%22%3A%20%5B%5B%5B-73.7725052%2C%2040.7708812%5D%2C%20%5B-73.74651259999999%2C%2040.7708812%5D%2C%20%5B-73.74651259999999%2C%2040.7880598%5D%2C%20%5B-73.7725052%2C%2040.7880598%5D%2C%20%5B-73.7725052%2C%2040.7708812%5D%5D%5D%2C%20%22type%22%3A%20%22Polygon%22%7D%2C%20%22properties%22%3A%20%7B%22zone_id%22%3A%20%22258%22%7D%2C%20%22type%22%3A%20%22Feature%22%7D%2C%20%7B%22geometry%22%3A%20%7B%22coordinates%22%3A%20%5B%5B%5B-73.74651259999999%2C%2040.7708812%5D%2C%20%5B-73.72052%2C%2040.7708812%5D%2C%20%5B-73.72052%2C%2040.7880598%5D%2C%20%5B-73.74651259999999%2C%2040.7880598%5D%2C%20%5B-73.74651259999999%2C%2040.7708812%5D%5D%5D%2C%20%22type%22%3A%20%22Polygon%22%7D%2C%20%22properties%22%3A%20%7B%22zone_id%22%3A%20%22259%22%7D%2C%20%22type%22%3A%20%22Feature%22%7D%2C%20%7B%22geometry%22%3A%20%7B%22coordinates%22%3A%20%5B%5B%5B-74.24037199999998%2C%2040.7880598%5D%2C%20%5B-74.21437939999998%2C%2040.7880598%5D%2C%20%5B-74.21437939999998%2C%2040.8052384%5D%2C%20%5B-74.24037199999998%2C%2040.8052384%5D%2C%20%5B-74.24037199999998%2C%2040.7880598%5D%5D%5D%2C%20%22type%22%3A%20%22Polygon%22%7D%2C%20%22properties%22%3A%20%7B%22zone_id%22%3A%20%22260%22%7D%2C%20%22type%22%3A%20%22Feature%22%7D%2C%20%7B%22geometry%22%3A%20%7B%22coordinates%22%3A%20%5B%5B%5B-74.21437939999998%2C%2040.7880598%5D%2C%20%5B-74.18838679999998%2C%2040.7880598%5D%2C%20%5B-74.18838679999998%2C%2040.8052384%5D%2C%20%5B-74.21437939999998%2C%2040.8052384%5D%2C%20%5B-74.21437939999998%2C%2040.7880598%5D%5D%5D%2C%20%22type%22%3A%20%22Polygon%22%7D%2C%20%22properties%22%3A%20%7B%22zone_id%22%3A%20%22261%22%7D%2C%20%22type%22%3A%20%22Feature%22%7D%2C%20%7B%22geometry%22%3A%20%7B%22coordinates%22%3A%20%5B%5B%5B-74.18838679999998%2C%2040.7880598%5D%2C%20%5B-74.16239419999998%2C%2040.7880598%5D%2C%20%5B-74.16239419999998%2C%2040.8052384%5D%2C%20%5B-74.18838679999998%2C%2040.8052384%5D%2C%20%5B-74.18838679999998%2C%2040.7880598%5D%5D%5D%2C%20%22type%22%3A%20%22Polygon%22%7D%2C%20%22properties%22%3A%20%7B%22zone_id%22%3A%20%22262%22%7D%2C%20%22type%22%3A%20%22Feature%22%7D%2C%20%7B%22geometry%22%3A%20%7B%22coordinates%22%3A%20%5B%5B%5B-74.16239419999998%2C%2040.7880598%5D%2C%20%5B-74.13640159999999%2C%2040.7880598%5D%2C%20%5B-74.13640159999999%2C%2040.8052384%5D%2C%20%5B-74.16239419999998%2C%2040.8052384%5D%2C%20%5B-74.16239419999998%2C%2040.7880598%5D%5D%5D%2C%20%22type%22%3A%20%22Polygon%22%7D%2C%20%22properties%22%3A%20%7B%22zone_id%22%3A%20%22263%22%7D%2C%20%22type%22%3A%20%22Feature%22%7D%2C%20%7B%22geometry%22%3A%20%7B%22coordinates%22%3A%20%5B%5B%5B-74.13640159999999%2C%2040.7880598%5D%2C%20%5B-74.11040899999998%2C%2040.7880598%5D%2C%20%5B-74.11040899999998%2C%2040.8052384%5D%2C%20%5B-74.13640159999999%2C%2040.8052384%5D%2C%20%5B-74.13640159999999%2C%2040.7880598%5D%5D%5D%2C%20%22type%22%3A%20%22Polygon%22%7D%2C%20%22properties%22%3A%20%7B%22zone_id%22%3A%20%22264%22%7D%2C%20%22type%22%3A%20%22Feature%22%7D%2C%20%7B%22geometry%22%3A%20%7B%22coordinates%22%3A%20%5B%5B%5B-74.11040899999998%2C%2040.7880598%5D%2C%20%5B-74.08441639999998%2C%2040.7880598%5D%2C%20%5B-74.08441639999998%2C%2040.8052384%5D%2C%20%5B-74.11040899999998%2C%2040.8052384%5D%2C%20%5B-74.11040899999998%2C%2040.7880598%5D%5D%5D%2C%20%22type%22%3A%20%22Polygon%22%7D%2C%20%22properties%22%3A%20%7B%22zone_id%22%3A%20%22265%22%7D%2C%20%22type%22%3A%20%22Feature%22%7D%2C%20%7B%22geometry%22%3A%20%7B%22coordinates%22%3A%20%5B%5B%5B-74.08441639999998%2C%2040.7880598%5D%2C%20%5B-74.05842379999999%2C%2040.7880598%5D%2C%20%5B-74.05842379999999%2C%2040.8052384%5D%2C%20%5B-74.08441639999998%2C%2040.8052384%5D%2C%20%5B-74.08441639999998%2C%2040.7880598%5D%5D%5D%2C%20%22type%22%3A%20%22Polygon%22%7D%2C%20%22properties%22%3A%20%7B%22zone_id%22%3A%20%22266%22%7D%2C%20%22type%22%3A%20%22Feature%22%7D%2C%20%7B%22geometry%22%3A%20%7B%22coordinates%22%3A%20%5B%5B%5B-74.05842379999999%2C%2040.7880598%5D%2C%20%5B-74.03243119999999%2C%2040.7880598%5D%2C%20%5B-74.03243119999999%2C%2040.8052384%5D%2C%20%5B-74.05842379999999%2C%2040.8052384%5D%2C%20%5B-74.05842379999999%2C%2040.7880598%5D%5D%5D%2C%20%22type%22%3A%20%22Polygon%22%7D%2C%20%22properties%22%3A%20%7B%22zone_id%22%3A%20%22267%22%7D%2C%20%22type%22%3A%20%22Feature%22%7D%2C%20%7B%22geometry%22%3A%20%7B%22coordinates%22%3A%20%5B%5B%5B-74.03243119999999%2C%2040.7880598%5D%2C%20%5B-74.00643859999998%2C%2040.7880598%5D%2C%20%5B-74.00643859999998%2C%2040.8052384%5D%2C%20%5B-74.03243119999999%2C%2040.8052384%5D%2C%20%5B-74.03243119999999%2C%2040.7880598%5D%5D%5D%2C%20%22type%22%3A%20%22Polygon%22%7D%2C%20%22properties%22%3A%20%7B%22zone_id%22%3A%20%22268%22%7D%2C%20%22type%22%3A%20%22Feature%22%7D%2C%20%7B%22geometry%22%3A%20%7B%22coordinates%22%3A%20%5B%5B%5B-74.00643859999998%2C%2040.7880598%5D%2C%20%5B-73.98044599999999%2C%2040.7880598%5D%2C%20%5B-73.98044599999999%2C%2040.8052384%5D%2C%20%5B-74.00643859999998%2C%2040.8052384%5D%2C%20%5B-74.00643859999998%2C%2040.7880598%5D%5D%5D%2C%20%22type%22%3A%20%22Polygon%22%7D%2C%20%22properties%22%3A%20%7B%22zone_id%22%3A%20%22269%22%7D%2C%20%22type%22%3A%20%22Feature%22%7D%2C%20%7B%22geometry%22%3A%20%7B%22coordinates%22%3A%20%5B%5B%5B-73.98044599999999%2C%2040.7880598%5D%2C%20%5B-73.95445339999999%2C%2040.7880598%5D%2C%20%5B-73.95445339999999%2C%2040.8052384%5D%2C%20%5B-73.98044599999999%2C%2040.8052384%5D%2C%20%5B-73.98044599999999%2C%2040.7880598%5D%5D%5D%2C%20%22type%22%3A%20%22Polygon%22%7D%2C%20%22properties%22%3A%20%7B%22zone_id%22%3A%20%22270%22%7D%2C%20%22type%22%3A%20%22Feature%22%7D%2C%20%7B%22geometry%22%3A%20%7B%22coordinates%22%3A%20%5B%5B%5B-73.95445339999999%2C%2040.7880598%5D%2C%20%5B-73.92846079999998%2C%2040.7880598%5D%2C%20%5B-73.92846079999998%2C%2040.8052384%5D%2C%20%5B-73.95445339999999%2C%2040.8052384%5D%2C%20%5B-73.95445339999999%2C%2040.7880598%5D%5D%5D%2C%20%22type%22%3A%20%22Polygon%22%7D%2C%20%22properties%22%3A%20%7B%22zone_id%22%3A%20%22271%22%7D%2C%20%22type%22%3A%20%22Feature%22%7D%2C%20%7B%22geometry%22%3A%20%7B%22coordinates%22%3A%20%5B%5B%5B-73.92846079999998%2C%2040.7880598%5D%2C%20%5B-73.90246819999999%2C%2040.7880598%5D%2C%20%5B-73.90246819999999%2C%2040.8052384%5D%2C%20%5B-73.92846079999998%2C%2040.8052384%5D%2C%20%5B-73.92846079999998%2C%2040.7880598%5D%5D%5D%2C%20%22type%22%3A%20%22Polygon%22%7D%2C%20%22properties%22%3A%20%7B%22zone_id%22%3A%20%22272%22%7D%2C%20%22type%22%3A%20%22Feature%22%7D%2C%20%7B%22geometry%22%3A%20%7B%22coordinates%22%3A%20%5B%5B%5B-73.90246819999999%2C%2040.7880598%5D%2C%20%5B-73.87647559999999%2C%2040.7880598%5D%2C%20%5B-73.87647559999999%2C%2040.8052384%5D%2C%20%5B-73.90246819999999%2C%2040.8052384%5D%2C%20%5B-73.90246819999999%2C%2040.7880598%5D%5D%5D%2C%20%22type%22%3A%20%22Polygon%22%7D%2C%20%22properties%22%3A%20%7B%22zone_id%22%3A%20%22273%22%7D%2C%20%22type%22%3A%20%22Feature%22%7D%2C%20%7B%22geometry%22%3A%20%7B%22coordinates%22%3A%20%5B%5B%5B-73.87647559999999%2C%2040.7880598%5D%2C%20%5B-73.850483%2C%2040.7880598%5D%2C%20%5B-73.850483%2C%2040.8052384%5D%2C%20%5B-73.87647559999999%2C%2040.8052384%5D%2C%20%5B-73.87647559999999%2C%2040.7880598%5D%5D%5D%2C%20%22type%22%3A%20%22Polygon%22%7D%2C%20%22properties%22%3A%20%7B%22zone_id%22%3A%20%22274%22%7D%2C%20%22type%22%3A%20%22Feature%22%7D%2C%20%7B%22geometry%22%3A%20%7B%22coordinates%22%3A%20%5B%5B%5B-73.850483%2C%2040.7880598%5D%2C%20%5B-73.82449039999999%2C%2040.7880598%5D%2C%20%5B-73.82449039999999%2C%2040.8052384%5D%2C%20%5B-73.850483%2C%2040.8052384%5D%2C%20%5B-73.850483%2C%2040.7880598%5D%5D%5D%2C%20%22type%22%3A%20%22Polygon%22%7D%2C%20%22properties%22%3A%20%7B%22zone_id%22%3A%20%22275%22%7D%2C%20%22type%22%3A%20%22Feature%22%7D%2C%20%7B%22geometry%22%3A%20%7B%22coordinates%22%3A%20%5B%5B%5B-73.82449039999999%2C%2040.7880598%5D%2C%20%5B-73.79849779999999%2C%2040.7880598%5D%2C%20%5B-73.79849779999999%2C%2040.8052384%5D%2C%20%5B-73.82449039999999%2C%2040.8052384%5D%2C%20%5B-73.82449039999999%2C%2040.7880598%5D%5D%5D%2C%20%22type%22%3A%20%22Polygon%22%7D%2C%20%22properties%22%3A%20%7B%22zone_id%22%3A%20%22276%22%7D%2C%20%22type%22%3A%20%22Feature%22%7D%2C%20%7B%22geometry%22%3A%20%7B%22coordinates%22%3A%20%5B%5B%5B-73.79849779999999%2C%2040.7880598%5D%2C%20%5B-73.7725052%2C%2040.7880598%5D%2C%20%5B-73.7725052%2C%2040.8052384%5D%2C%20%5B-73.79849779999999%2C%2040.8052384%5D%2C%20%5B-73.79849779999999%2C%2040.7880598%5D%5D%5D%2C%20%22type%22%3A%20%22Polygon%22%7D%2C%20%22properties%22%3A%20%7B%22zone_id%22%3A%20%22277%22%7D%2C%20%22type%22%3A%20%22Feature%22%7D%2C%20%7B%22geometry%22%3A%20%7B%22coordinates%22%3A%20%5B%5B%5B-73.7725052%2C%2040.7880598%5D%2C%20%5B-73.74651259999999%2C%2040.7880598%5D%2C%20%5B-73.74651259999999%2C%2040.8052384%5D%2C%20%5B-73.7725052%2C%2040.8052384%5D%2C%20%5B-73.7725052%2C%2040.7880598%5D%5D%5D%2C%20%22type%22%3A%20%22Polygon%22%7D%2C%20%22properties%22%3A%20%7B%22zone_id%22%3A%20%22278%22%7D%2C%20%22type%22%3A%20%22Feature%22%7D%2C%20%7B%22geometry%22%3A%20%7B%22coordinates%22%3A%20%5B%5B%5B-73.74651259999999%2C%2040.7880598%5D%2C%20%5B-73.72052%2C%2040.7880598%5D%2C%20%5B-73.72052%2C%2040.8052384%5D%2C%20%5B-73.74651259999999%2C%2040.8052384%5D%2C%20%5B-73.74651259999999%2C%2040.7880598%5D%5D%5D%2C%20%22type%22%3A%20%22Polygon%22%7D%2C%20%22properties%22%3A%20%7B%22zone_id%22%3A%20%22279%22%7D%2C%20%22type%22%3A%20%22Feature%22%7D%2C%20%7B%22geometry%22%3A%20%7B%22coordinates%22%3A%20%5B%5B%5B-74.24037199999998%2C%2040.8052384%5D%2C%20%5B-74.21437939999998%2C%2040.8052384%5D%2C%20%5B-74.21437939999998%2C%2040.822417%5D%2C%20%5B-74.24037199999998%2C%2040.822417%5D%2C%20%5B-74.24037199999998%2C%2040.8052384%5D%5D%5D%2C%20%22type%22%3A%20%22Polygon%22%7D%2C%20%22properties%22%3A%20%7B%22zone_id%22%3A%20%22280%22%7D%2C%20%22type%22%3A%20%22Feature%22%7D%2C%20%7B%22geometry%22%3A%20%7B%22coordinates%22%3A%20%5B%5B%5B-74.21437939999998%2C%2040.8052384%5D%2C%20%5B-74.18838679999998%2C%2040.8052384%5D%2C%20%5B-74.18838679999998%2C%2040.822417%5D%2C%20%5B-74.21437939999998%2C%2040.822417%5D%2C%20%5B-74.21437939999998%2C%2040.8052384%5D%5D%5D%2C%20%22type%22%3A%20%22Polygon%22%7D%2C%20%22properties%22%3A%20%7B%22zone_id%22%3A%20%22281%22%7D%2C%20%22type%22%3A%20%22Feature%22%7D%2C%20%7B%22geometry%22%3A%20%7B%22coordinates%22%3A%20%5B%5B%5B-74.18838679999998%2C%2040.8052384%5D%2C%20%5B-74.16239419999998%2C%2040.8052384%5D%2C%20%5B-74.16239419999998%2C%2040.822417%5D%2C%20%5B-74.18838679999998%2C%2040.822417%5D%2C%20%5B-74.18838679999998%2C%2040.8052384%5D%5D%5D%2C%20%22type%22%3A%20%22Polygon%22%7D%2C%20%22properties%22%3A%20%7B%22zone_id%22%3A%20%22282%22%7D%2C%20%22type%22%3A%20%22Feature%22%7D%2C%20%7B%22geometry%22%3A%20%7B%22coordinates%22%3A%20%5B%5B%5B-74.16239419999998%2C%2040.8052384%5D%2C%20%5B-74.13640159999999%2C%2040.8052384%5D%2C%20%5B-74.13640159999999%2C%2040.822417%5D%2C%20%5B-74.16239419999998%2C%2040.822417%5D%2C%20%5B-74.16239419999998%2C%2040.8052384%5D%5D%5D%2C%20%22type%22%3A%20%22Polygon%22%7D%2C%20%22properties%22%3A%20%7B%22zone_id%22%3A%20%22283%22%7D%2C%20%22type%22%3A%20%22Feature%22%7D%2C%20%7B%22geometry%22%3A%20%7B%22coordinates%22%3A%20%5B%5B%5B-74.13640159999999%2C%2040.8052384%5D%2C%20%5B-74.11040899999998%2C%2040.8052384%5D%2C%20%5B-74.11040899999998%2C%2040.822417%5D%2C%20%5B-74.13640159999999%2C%2040.822417%5D%2C%20%5B-74.13640159999999%2C%2040.8052384%5D%5D%5D%2C%20%22type%22%3A%20%22Polygon%22%7D%2C%20%22properties%22%3A%20%7B%22zone_id%22%3A%20%22284%22%7D%2C%20%22type%22%3A%20%22Feature%22%7D%2C%20%7B%22geometry%22%3A%20%7B%22coordinates%22%3A%20%5B%5B%5B-74.11040899999998%2C%2040.8052384%5D%2C%20%5B-74.08441639999998%2C%2040.8052384%5D%2C%20%5B-74.08441639999998%2C%2040.822417%5D%2C%20%5B-74.11040899999998%2C%2040.822417%5D%2C%20%5B-74.11040899999998%2C%2040.8052384%5D%5D%5D%2C%20%22type%22%3A%20%22Polygon%22%7D%2C%20%22properties%22%3A%20%7B%22zone_id%22%3A%20%22285%22%7D%2C%20%22type%22%3A%20%22Feature%22%7D%2C%20%7B%22geometry%22%3A%20%7B%22coordinates%22%3A%20%5B%5B%5B-74.08441639999998%2C%2040.8052384%5D%2C%20%5B-74.05842379999999%2C%2040.8052384%5D%2C%20%5B-74.05842379999999%2C%2040.822417%5D%2C%20%5B-74.08441639999998%2C%2040.822417%5D%2C%20%5B-74.08441639999998%2C%2040.8052384%5D%5D%5D%2C%20%22type%22%3A%20%22Polygon%22%7D%2C%20%22properties%22%3A%20%7B%22zone_id%22%3A%20%22286%22%7D%2C%20%22type%22%3A%20%22Feature%22%7D%2C%20%7B%22geometry%22%3A%20%7B%22coordinates%22%3A%20%5B%5B%5B-74.05842379999999%2C%2040.8052384%5D%2C%20%5B-74.03243119999999%2C%2040.8052384%5D%2C%20%5B-74.03243119999999%2C%2040.822417%5D%2C%20%5B-74.05842379999999%2C%2040.822417%5D%2C%20%5B-74.05842379999999%2C%2040.8052384%5D%5D%5D%2C%20%22type%22%3A%20%22Polygon%22%7D%2C%20%22properties%22%3A%20%7B%22zone_id%22%3A%20%22287%22%7D%2C%20%22type%22%3A%20%22Feature%22%7D%2C%20%7B%22geometry%22%3A%20%7B%22coordinates%22%3A%20%5B%5B%5B-74.03243119999999%2C%2040.8052384%5D%2C%20%5B-74.00643859999998%2C%2040.8052384%5D%2C%20%5B-74.00643859999998%2C%2040.822417%5D%2C%20%5B-74.03243119999999%2C%2040.822417%5D%2C%20%5B-74.03243119999999%2C%2040.8052384%5D%5D%5D%2C%20%22type%22%3A%20%22Polygon%22%7D%2C%20%22properties%22%3A%20%7B%22zone_id%22%3A%20%22288%22%7D%2C%20%22type%22%3A%20%22Feature%22%7D%2C%20%7B%22geometry%22%3A%20%7B%22coordinates%22%3A%20%5B%5B%5B-74.00643859999998%2C%2040.8052384%5D%2C%20%5B-73.98044599999999%2C%2040.8052384%5D%2C%20%5B-73.98044599999999%2C%2040.822417%5D%2C%20%5B-74.00643859999998%2C%2040.822417%5D%2C%20%5B-74.00643859999998%2C%2040.8052384%5D%5D%5D%2C%20%22type%22%3A%20%22Polygon%22%7D%2C%20%22properties%22%3A%20%7B%22zone_id%22%3A%20%22289%22%7D%2C%20%22type%22%3A%20%22Feature%22%7D%2C%20%7B%22geometry%22%3A%20%7B%22coordinates%22%3A%20%5B%5B%5B-73.98044599999999%2C%2040.8052384%5D%2C%20%5B-73.95445339999999%2C%2040.8052384%5D%2C%20%5B-73.95445339999999%2C%2040.822417%5D%2C%20%5B-73.98044599999999%2C%2040.822417%5D%2C%20%5B-73.98044599999999%2C%2040.8052384%5D%5D%5D%2C%20%22type%22%3A%20%22Polygon%22%7D%2C%20%22properties%22%3A%20%7B%22zone_id%22%3A%20%22290%22%7D%2C%20%22type%22%3A%20%22Feature%22%7D%2C%20%7B%22geometry%22%3A%20%7B%22coordinates%22%3A%20%5B%5B%5B-73.95445339999999%2C%2040.8052384%5D%2C%20%5B-73.92846079999998%2C%2040.8052384%5D%2C%20%5B-73.92846079999998%2C%2040.822417%5D%2C%20%5B-73.95445339999999%2C%2040.822417%5D%2C%20%5B-73.95445339999999%2C%2040.8052384%5D%5D%5D%2C%20%22type%22%3A%20%22Polygon%22%7D%2C%20%22properties%22%3A%20%7B%22zone_id%22%3A%20%22291%22%7D%2C%20%22type%22%3A%20%22Feature%22%7D%2C%20%7B%22geometry%22%3A%20%7B%22coordinates%22%3A%20%5B%5B%5B-73.92846079999998%2C%2040.8052384%5D%2C%20%5B-73.90246819999999%2C%2040.8052384%5D%2C%20%5B-73.90246819999999%2C%2040.822417%5D%2C%20%5B-73.92846079999998%2C%2040.822417%5D%2C%20%5B-73.92846079999998%2C%2040.8052384%5D%5D%5D%2C%20%22type%22%3A%20%22Polygon%22%7D%2C%20%22properties%22%3A%20%7B%22zone_id%22%3A%20%22292%22%7D%2C%20%22type%22%3A%20%22Feature%22%7D%2C%20%7B%22geometry%22%3A%20%7B%22coordinates%22%3A%20%5B%5B%5B-73.90246819999999%2C%2040.8052384%5D%2C%20%5B-73.87647559999999%2C%2040.8052384%5D%2C%20%5B-73.87647559999999%2C%2040.822417%5D%2C%20%5B-73.90246819999999%2C%2040.822417%5D%2C%20%5B-73.90246819999999%2C%2040.8052384%5D%5D%5D%2C%20%22type%22%3A%20%22Polygon%22%7D%2C%20%22properties%22%3A%20%7B%22zone_id%22%3A%20%22293%22%7D%2C%20%22type%22%3A%20%22Feature%22%7D%2C%20%7B%22geometry%22%3A%20%7B%22coordinates%22%3A%20%5B%5B%5B-73.87647559999999%2C%2040.8052384%5D%2C%20%5B-73.850483%2C%2040.8052384%5D%2C%20%5B-73.850483%2C%2040.822417%5D%2C%20%5B-73.87647559999999%2C%2040.822417%5D%2C%20%5B-73.87647559999999%2C%2040.8052384%5D%5D%5D%2C%20%22type%22%3A%20%22Polygon%22%7D%2C%20%22properties%22%3A%20%7B%22zone_id%22%3A%20%22294%22%7D%2C%20%22type%22%3A%20%22Feature%22%7D%2C%20%7B%22geometry%22%3A%20%7B%22coordinates%22%3A%20%5B%5B%5B-73.850483%2C%2040.8052384%5D%2C%20%5B-73.82449039999999%2C%2040.8052384%5D%2C%20%5B-73.82449039999999%2C%2040.822417%5D%2C%20%5B-73.850483%2C%2040.822417%5D%2C%20%5B-73.850483%2C%2040.8052384%5D%5D%5D%2C%20%22type%22%3A%20%22Polygon%22%7D%2C%20%22properties%22%3A%20%7B%22zone_id%22%3A%20%22295%22%7D%2C%20%22type%22%3A%20%22Feature%22%7D%2C%20%7B%22geometry%22%3A%20%7B%22coordinates%22%3A%20%5B%5B%5B-73.82449039999999%2C%2040.8052384%5D%2C%20%5B-73.79849779999999%2C%2040.8052384%5D%2C%20%5B-73.79849779999999%2C%2040.822417%5D%2C%20%5B-73.82449039999999%2C%2040.822417%5D%2C%20%5B-73.82449039999999%2C%2040.8052384%5D%5D%5D%2C%20%22type%22%3A%20%22Polygon%22%7D%2C%20%22properties%22%3A%20%7B%22zone_id%22%3A%20%22296%22%7D%2C%20%22type%22%3A%20%22Feature%22%7D%2C%20%7B%22geometry%22%3A%20%7B%22coordinates%22%3A%20%5B%5B%5B-73.79849779999999%2C%2040.8052384%5D%2C%20%5B-73.7725052%2C%2040.8052384%5D%2C%20%5B-73.7725052%2C%2040.822417%5D%2C%20%5B-73.79849779999999%2C%2040.822417%5D%2C%20%5B-73.79849779999999%2C%2040.8052384%5D%5D%5D%2C%20%22type%22%3A%20%22Polygon%22%7D%2C%20%22properties%22%3A%20%7B%22zone_id%22%3A%20%22297%22%7D%2C%20%22type%22%3A%20%22Feature%22%7D%2C%20%7B%22geometry%22%3A%20%7B%22coordinates%22%3A%20%5B%5B%5B-73.7725052%2C%2040.8052384%5D%2C%20%5B-73.74651259999999%2C%2040.8052384%5D%2C%20%5B-73.74651259999999%2C%2040.822417%5D%2C%20%5B-73.7725052%2C%2040.822417%5D%2C%20%5B-73.7725052%2C%2040.8052384%5D%5D%5D%2C%20%22type%22%3A%20%22Polygon%22%7D%2C%20%22properties%22%3A%20%7B%22zone_id%22%3A%20%22298%22%7D%2C%20%22type%22%3A%20%22Feature%22%7D%2C%20%7B%22geometry%22%3A%20%7B%22coordinates%22%3A%20%5B%5B%5B-73.74651259999999%2C%2040.8052384%5D%2C%20%5B-73.72052%2C%2040.8052384%5D%2C%20%5B-73.72052%2C%2040.822417%5D%2C%20%5B-73.74651259999999%2C%2040.822417%5D%2C%20%5B-73.74651259999999%2C%2040.8052384%5D%5D%5D%2C%20%22type%22%3A%20%22Polygon%22%7D%2C%20%22properties%22%3A%20%7B%22zone_id%22%3A%20%22299%22%7D%2C%20%22type%22%3A%20%22Feature%22%7D%2C%20%7B%22geometry%22%3A%20%7B%22coordinates%22%3A%20%5B%5B%5B-74.24037199999998%2C%2040.822417%5D%2C%20%5B-74.21437939999998%2C%2040.822417%5D%2C%20%5B-74.21437939999998%2C%2040.8395956%5D%2C%20%5B-74.24037199999998%2C%2040.8395956%5D%2C%20%5B-74.24037199999998%2C%2040.822417%5D%5D%5D%2C%20%22type%22%3A%20%22Polygon%22%7D%2C%20%22properties%22%3A%20%7B%22zone_id%22%3A%20%22300%22%7D%2C%20%22type%22%3A%20%22Feature%22%7D%2C%20%7B%22geometry%22%3A%20%7B%22coordinates%22%3A%20%5B%5B%5B-74.21437939999998%2C%2040.822417%5D%2C%20%5B-74.18838679999998%2C%2040.822417%5D%2C%20%5B-74.18838679999998%2C%2040.8395956%5D%2C%20%5B-74.21437939999998%2C%2040.8395956%5D%2C%20%5B-74.21437939999998%2C%2040.822417%5D%5D%5D%2C%20%22type%22%3A%20%22Polygon%22%7D%2C%20%22properties%22%3A%20%7B%22zone_id%22%3A%20%22301%22%7D%2C%20%22type%22%3A%20%22Feature%22%7D%2C%20%7B%22geometry%22%3A%20%7B%22coordinates%22%3A%20%5B%5B%5B-74.18838679999998%2C%2040.822417%5D%2C%20%5B-74.16239419999998%2C%2040.822417%5D%2C%20%5B-74.16239419999998%2C%2040.8395956%5D%2C%20%5B-74.18838679999998%2C%2040.8395956%5D%2C%20%5B-74.18838679999998%2C%2040.822417%5D%5D%5D%2C%20%22type%22%3A%20%22Polygon%22%7D%2C%20%22properties%22%3A%20%7B%22zone_id%22%3A%20%22302%22%7D%2C%20%22type%22%3A%20%22Feature%22%7D%2C%20%7B%22geometry%22%3A%20%7B%22coordinates%22%3A%20%5B%5B%5B-74.16239419999998%2C%2040.822417%5D%2C%20%5B-74.13640159999999%2C%2040.822417%5D%2C%20%5B-74.13640159999999%2C%2040.8395956%5D%2C%20%5B-74.16239419999998%2C%2040.8395956%5D%2C%20%5B-74.16239419999998%2C%2040.822417%5D%5D%5D%2C%20%22type%22%3A%20%22Polygon%22%7D%2C%20%22properties%22%3A%20%7B%22zone_id%22%3A%20%22303%22%7D%2C%20%22type%22%3A%20%22Feature%22%7D%2C%20%7B%22geometry%22%3A%20%7B%22coordinates%22%3A%20%5B%5B%5B-74.13640159999999%2C%2040.822417%5D%2C%20%5B-74.11040899999998%2C%2040.822417%5D%2C%20%5B-74.11040899999998%2C%2040.8395956%5D%2C%20%5B-74.13640159999999%2C%2040.8395956%5D%2C%20%5B-74.13640159999999%2C%2040.822417%5D%5D%5D%2C%20%22type%22%3A%20%22Polygon%22%7D%2C%20%22properties%22%3A%20%7B%22zone_id%22%3A%20%22304%22%7D%2C%20%22type%22%3A%20%22Feature%22%7D%2C%20%7B%22geometry%22%3A%20%7B%22coordinates%22%3A%20%5B%5B%5B-74.11040899999998%2C%2040.822417%5D%2C%20%5B-74.08441639999998%2C%2040.822417%5D%2C%20%5B-74.08441639999998%2C%2040.8395956%5D%2C%20%5B-74.11040899999998%2C%2040.8395956%5D%2C%20%5B-74.11040899999998%2C%2040.822417%5D%5D%5D%2C%20%22type%22%3A%20%22Polygon%22%7D%2C%20%22properties%22%3A%20%7B%22zone_id%22%3A%20%22305%22%7D%2C%20%22type%22%3A%20%22Feature%22%7D%2C%20%7B%22geometry%22%3A%20%7B%22coordinates%22%3A%20%5B%5B%5B-74.08441639999998%2C%2040.822417%5D%2C%20%5B-74.05842379999999%2C%2040.822417%5D%2C%20%5B-74.05842379999999%2C%2040.8395956%5D%2C%20%5B-74.08441639999998%2C%2040.8395956%5D%2C%20%5B-74.08441639999998%2C%2040.822417%5D%5D%5D%2C%20%22type%22%3A%20%22Polygon%22%7D%2C%20%22properties%22%3A%20%7B%22zone_id%22%3A%20%22306%22%7D%2C%20%22type%22%3A%20%22Feature%22%7D%2C%20%7B%22geometry%22%3A%20%7B%22coordinates%22%3A%20%5B%5B%5B-74.05842379999999%2C%2040.822417%5D%2C%20%5B-74.03243119999999%2C%2040.822417%5D%2C%20%5B-74.03243119999999%2C%2040.8395956%5D%2C%20%5B-74.05842379999999%2C%2040.8395956%5D%2C%20%5B-74.05842379999999%2C%2040.822417%5D%5D%5D%2C%20%22type%22%3A%20%22Polygon%22%7D%2C%20%22properties%22%3A%20%7B%22zone_id%22%3A%20%22307%22%7D%2C%20%22type%22%3A%20%22Feature%22%7D%2C%20%7B%22geometry%22%3A%20%7B%22coordinates%22%3A%20%5B%5B%5B-74.03243119999999%2C%2040.822417%5D%2C%20%5B-74.00643859999998%2C%2040.822417%5D%2C%20%5B-74.00643859999998%2C%2040.8395956%5D%2C%20%5B-74.03243119999999%2C%2040.8395956%5D%2C%20%5B-74.03243119999999%2C%2040.822417%5D%5D%5D%2C%20%22type%22%3A%20%22Polygon%22%7D%2C%20%22properties%22%3A%20%7B%22zone_id%22%3A%20%22308%22%7D%2C%20%22type%22%3A%20%22Feature%22%7D%2C%20%7B%22geometry%22%3A%20%7B%22coordinates%22%3A%20%5B%5B%5B-74.00643859999998%2C%2040.822417%5D%2C%20%5B-73.98044599999999%2C%2040.822417%5D%2C%20%5B-73.98044599999999%2C%2040.8395956%5D%2C%20%5B-74.00643859999998%2C%2040.8395956%5D%2C%20%5B-74.00643859999998%2C%2040.822417%5D%5D%5D%2C%20%22type%22%3A%20%22Polygon%22%7D%2C%20%22properties%22%3A%20%7B%22zone_id%22%3A%20%22309%22%7D%2C%20%22type%22%3A%20%22Feature%22%7D%2C%20%7B%22geometry%22%3A%20%7B%22coordinates%22%3A%20%5B%5B%5B-73.98044599999999%2C%2040.822417%5D%2C%20%5B-73.95445339999999%2C%2040.822417%5D%2C%20%5B-73.95445339999999%2C%2040.8395956%5D%2C%20%5B-73.98044599999999%2C%2040.8395956%5D%2C%20%5B-73.98044599999999%2C%2040.822417%5D%5D%5D%2C%20%22type%22%3A%20%22Polygon%22%7D%2C%20%22properties%22%3A%20%7B%22zone_id%22%3A%20%22310%22%7D%2C%20%22type%22%3A%20%22Feature%22%7D%2C%20%7B%22geometry%22%3A%20%7B%22coordinates%22%3A%20%5B%5B%5B-73.95445339999999%2C%2040.822417%5D%2C%20%5B-73.92846079999998%2C%2040.822417%5D%2C%20%5B-73.92846079999998%2C%2040.8395956%5D%2C%20%5B-73.95445339999999%2C%2040.8395956%5D%2C%20%5B-73.95445339999999%2C%2040.822417%5D%5D%5D%2C%20%22type%22%3A%20%22Polygon%22%7D%2C%20%22properties%22%3A%20%7B%22zone_id%22%3A%20%22311%22%7D%2C%20%22type%22%3A%20%22Feature%22%7D%2C%20%7B%22geometry%22%3A%20%7B%22coordinates%22%3A%20%5B%5B%5B-73.92846079999998%2C%2040.822417%5D%2C%20%5B-73.90246819999999%2C%2040.822417%5D%2C%20%5B-73.90246819999999%2C%2040.8395956%5D%2C%20%5B-73.92846079999998%2C%2040.8395956%5D%2C%20%5B-73.92846079999998%2C%2040.822417%5D%5D%5D%2C%20%22type%22%3A%20%22Polygon%22%7D%2C%20%22properties%22%3A%20%7B%22zone_id%22%3A%20%22312%22%7D%2C%20%22type%22%3A%20%22Feature%22%7D%2C%20%7B%22geometry%22%3A%20%7B%22coordinates%22%3A%20%5B%5B%5B-73.90246819999999%2C%2040.822417%5D%2C%20%5B-73.87647559999999%2C%2040.822417%5D%2C%20%5B-73.87647559999999%2C%2040.8395956%5D%2C%20%5B-73.90246819999999%2C%2040.8395956%5D%2C%20%5B-73.90246819999999%2C%2040.822417%5D%5D%5D%2C%20%22type%22%3A%20%22Polygon%22%7D%2C%20%22properties%22%3A%20%7B%22zone_id%22%3A%20%22313%22%7D%2C%20%22type%22%3A%20%22Feature%22%7D%2C%20%7B%22geometry%22%3A%20%7B%22coordinates%22%3A%20%5B%5B%5B-73.87647559999999%2C%2040.822417%5D%2C%20%5B-73.850483%2C%2040.822417%5D%2C%20%5B-73.850483%2C%2040.8395956%5D%2C%20%5B-73.87647559999999%2C%2040.8395956%5D%2C%20%5B-73.87647559999999%2C%2040.822417%5D%5D%5D%2C%20%22type%22%3A%20%22Polygon%22%7D%2C%20%22properties%22%3A%20%7B%22zone_id%22%3A%20%22314%22%7D%2C%20%22type%22%3A%20%22Feature%22%7D%2C%20%7B%22geometry%22%3A%20%7B%22coordinates%22%3A%20%5B%5B%5B-73.850483%2C%2040.822417%5D%2C%20%5B-73.82449039999999%2C%2040.822417%5D%2C%20%5B-73.82449039999999%2C%2040.8395956%5D%2C%20%5B-73.850483%2C%2040.8395956%5D%2C%20%5B-73.850483%2C%2040.822417%5D%5D%5D%2C%20%22type%22%3A%20%22Polygon%22%7D%2C%20%22properties%22%3A%20%7B%22zone_id%22%3A%20%22315%22%7D%2C%20%22type%22%3A%20%22Feature%22%7D%2C%20%7B%22geometry%22%3A%20%7B%22coordinates%22%3A%20%5B%5B%5B-73.82449039999999%2C%2040.822417%5D%2C%20%5B-73.79849779999999%2C%2040.822417%5D%2C%20%5B-73.79849779999999%2C%2040.8395956%5D%2C%20%5B-73.82449039999999%2C%2040.8395956%5D%2C%20%5B-73.82449039999999%2C%2040.822417%5D%5D%5D%2C%20%22type%22%3A%20%22Polygon%22%7D%2C%20%22properties%22%3A%20%7B%22zone_id%22%3A%20%22316%22%7D%2C%20%22type%22%3A%20%22Feature%22%7D%2C%20%7B%22geometry%22%3A%20%7B%22coordinates%22%3A%20%5B%5B%5B-73.79849779999999%2C%2040.822417%5D%2C%20%5B-73.7725052%2C%2040.822417%5D%2C%20%5B-73.7725052%2C%2040.8395956%5D%2C%20%5B-73.79849779999999%2C%2040.8395956%5D%2C%20%5B-73.79849779999999%2C%2040.822417%5D%5D%5D%2C%20%22type%22%3A%20%22Polygon%22%7D%2C%20%22properties%22%3A%20%7B%22zone_id%22%3A%20%22317%22%7D%2C%20%22type%22%3A%20%22Feature%22%7D%2C%20%7B%22geometry%22%3A%20%7B%22coordinates%22%3A%20%5B%5B%5B-73.7725052%2C%2040.822417%5D%2C%20%5B-73.74651259999999%2C%2040.822417%5D%2C%20%5B-73.74651259999999%2C%2040.8395956%5D%2C%20%5B-73.7725052%2C%2040.8395956%5D%2C%20%5B-73.7725052%2C%2040.822417%5D%5D%5D%2C%20%22type%22%3A%20%22Polygon%22%7D%2C%20%22properties%22%3A%20%7B%22zone_id%22%3A%20%22318%22%7D%2C%20%22type%22%3A%20%22Feature%22%7D%2C%20%7B%22geometry%22%3A%20%7B%22coordinates%22%3A%20%5B%5B%5B-73.74651259999999%2C%2040.822417%5D%2C%20%5B-73.72052%2C%2040.822417%5D%2C%20%5B-73.72052%2C%2040.8395956%5D%2C%20%5B-73.74651259999999%2C%2040.8395956%5D%2C%20%5B-73.74651259999999%2C%2040.822417%5D%5D%5D%2C%20%22type%22%3A%20%22Polygon%22%7D%2C%20%22properties%22%3A%20%7B%22zone_id%22%3A%20%22319%22%7D%2C%20%22type%22%3A%20%22Feature%22%7D%2C%20%7B%22geometry%22%3A%20%7B%22coordinates%22%3A%20%5B%5B%5B-74.24037199999998%2C%2040.8395956%5D%2C%20%5B-74.21437939999998%2C%2040.8395956%5D%2C%20%5B-74.21437939999998%2C%2040.8567742%5D%2C%20%5B-74.24037199999998%2C%2040.8567742%5D%2C%20%5B-74.24037199999998%2C%2040.8395956%5D%5D%5D%2C%20%22type%22%3A%20%22Polygon%22%7D%2C%20%22properties%22%3A%20%7B%22zone_id%22%3A%20%22320%22%7D%2C%20%22type%22%3A%20%22Feature%22%7D%2C%20%7B%22geometry%22%3A%20%7B%22coordinates%22%3A%20%5B%5B%5B-74.21437939999998%2C%2040.8395956%5D%2C%20%5B-74.18838679999998%2C%2040.8395956%5D%2C%20%5B-74.18838679999998%2C%2040.8567742%5D%2C%20%5B-74.21437939999998%2C%2040.8567742%5D%2C%20%5B-74.21437939999998%2C%2040.8395956%5D%5D%5D%2C%20%22type%22%3A%20%22Polygon%22%7D%2C%20%22properties%22%3A%20%7B%22zone_id%22%3A%20%22321%22%7D%2C%20%22type%22%3A%20%22Feature%22%7D%2C%20%7B%22geometry%22%3A%20%7B%22coordinates%22%3A%20%5B%5B%5B-74.18838679999998%2C%2040.8395956%5D%2C%20%5B-74.16239419999998%2C%2040.8395956%5D%2C%20%5B-74.16239419999998%2C%2040.8567742%5D%2C%20%5B-74.18838679999998%2C%2040.8567742%5D%2C%20%5B-74.18838679999998%2C%2040.8395956%5D%5D%5D%2C%20%22type%22%3A%20%22Polygon%22%7D%2C%20%22properties%22%3A%20%7B%22zone_id%22%3A%20%22322%22%7D%2C%20%22type%22%3A%20%22Feature%22%7D%2C%20%7B%22geometry%22%3A%20%7B%22coordinates%22%3A%20%5B%5B%5B-74.16239419999998%2C%2040.8395956%5D%2C%20%5B-74.13640159999999%2C%2040.8395956%5D%2C%20%5B-74.13640159999999%2C%2040.8567742%5D%2C%20%5B-74.16239419999998%2C%2040.8567742%5D%2C%20%5B-74.16239419999998%2C%2040.8395956%5D%5D%5D%2C%20%22type%22%3A%20%22Polygon%22%7D%2C%20%22properties%22%3A%20%7B%22zone_id%22%3A%20%22323%22%7D%2C%20%22type%22%3A%20%22Feature%22%7D%2C%20%7B%22geometry%22%3A%20%7B%22coordinates%22%3A%20%5B%5B%5B-74.13640159999999%2C%2040.8395956%5D%2C%20%5B-74.11040899999998%2C%2040.8395956%5D%2C%20%5B-74.11040899999998%2C%2040.8567742%5D%2C%20%5B-74.13640159999999%2C%2040.8567742%5D%2C%20%5B-74.13640159999999%2C%2040.8395956%5D%5D%5D%2C%20%22type%22%3A%20%22Polygon%22%7D%2C%20%22properties%22%3A%20%7B%22zone_id%22%3A%20%22324%22%7D%2C%20%22type%22%3A%20%22Feature%22%7D%2C%20%7B%22geometry%22%3A%20%7B%22coordinates%22%3A%20%5B%5B%5B-74.11040899999998%2C%2040.8395956%5D%2C%20%5B-74.08441639999998%2C%2040.8395956%5D%2C%20%5B-74.08441639999998%2C%2040.8567742%5D%2C%20%5B-74.11040899999998%2C%2040.8567742%5D%2C%20%5B-74.11040899999998%2C%2040.8395956%5D%5D%5D%2C%20%22type%22%3A%20%22Polygon%22%7D%2C%20%22properties%22%3A%20%7B%22zone_id%22%3A%20%22325%22%7D%2C%20%22type%22%3A%20%22Feature%22%7D%2C%20%7B%22geometry%22%3A%20%7B%22coordinates%22%3A%20%5B%5B%5B-74.08441639999998%2C%2040.8395956%5D%2C%20%5B-74.05842379999999%2C%2040.8395956%5D%2C%20%5B-74.05842379999999%2C%2040.8567742%5D%2C%20%5B-74.08441639999998%2C%2040.8567742%5D%2C%20%5B-74.08441639999998%2C%2040.8395956%5D%5D%5D%2C%20%22type%22%3A%20%22Polygon%22%7D%2C%20%22properties%22%3A%20%7B%22zone_id%22%3A%20%22326%22%7D%2C%20%22type%22%3A%20%22Feature%22%7D%2C%20%7B%22geometry%22%3A%20%7B%22coordinates%22%3A%20%5B%5B%5B-74.05842379999999%2C%2040.8395956%5D%2C%20%5B-74.03243119999999%2C%2040.8395956%5D%2C%20%5B-74.03243119999999%2C%2040.8567742%5D%2C%20%5B-74.05842379999999%2C%2040.8567742%5D%2C%20%5B-74.05842379999999%2C%2040.8395956%5D%5D%5D%2C%20%22type%22%3A%20%22Polygon%22%7D%2C%20%22properties%22%3A%20%7B%22zone_id%22%3A%20%22327%22%7D%2C%20%22type%22%3A%20%22Feature%22%7D%2C%20%7B%22geometry%22%3A%20%7B%22coordinates%22%3A%20%5B%5B%5B-74.03243119999999%2C%2040.8395956%5D%2C%20%5B-74.00643859999998%2C%2040.8395956%5D%2C%20%5B-74.00643859999998%2C%2040.8567742%5D%2C%20%5B-74.03243119999999%2C%2040.8567742%5D%2C%20%5B-74.03243119999999%2C%2040.8395956%5D%5D%5D%2C%20%22type%22%3A%20%22Polygon%22%7D%2C%20%22properties%22%3A%20%7B%22zone_id%22%3A%20%22328%22%7D%2C%20%22type%22%3A%20%22Feature%22%7D%2C%20%7B%22geometry%22%3A%20%7B%22coordinates%22%3A%20%5B%5B%5B-74.00643859999998%2C%2040.8395956%5D%2C%20%5B-73.98044599999999%2C%2040.8395956%5D%2C%20%5B-73.98044599999999%2C%2040.8567742%5D%2C%20%5B-74.00643859999998%2C%2040.8567742%5D%2C%20%5B-74.00643859999998%2C%2040.8395956%5D%5D%5D%2C%20%22type%22%3A%20%22Polygon%22%7D%2C%20%22properties%22%3A%20%7B%22zone_id%22%3A%20%22329%22%7D%2C%20%22type%22%3A%20%22Feature%22%7D%2C%20%7B%22geometry%22%3A%20%7B%22coordinates%22%3A%20%5B%5B%5B-73.98044599999999%2C%2040.8395956%5D%2C%20%5B-73.95445339999999%2C%2040.8395956%5D%2C%20%5B-73.95445339999999%2C%2040.8567742%5D%2C%20%5B-73.98044599999999%2C%2040.8567742%5D%2C%20%5B-73.98044599999999%2C%2040.8395956%5D%5D%5D%2C%20%22type%22%3A%20%22Polygon%22%7D%2C%20%22properties%22%3A%20%7B%22zone_id%22%3A%20%22330%22%7D%2C%20%22type%22%3A%20%22Feature%22%7D%2C%20%7B%22geometry%22%3A%20%7B%22coordinates%22%3A%20%5B%5B%5B-73.95445339999999%2C%2040.8395956%5D%2C%20%5B-73.92846079999998%2C%2040.8395956%5D%2C%20%5B-73.92846079999998%2C%2040.8567742%5D%2C%20%5B-73.95445339999999%2C%2040.8567742%5D%2C%20%5B-73.95445339999999%2C%2040.8395956%5D%5D%5D%2C%20%22type%22%3A%20%22Polygon%22%7D%2C%20%22properties%22%3A%20%7B%22zone_id%22%3A%20%22331%22%7D%2C%20%22type%22%3A%20%22Feature%22%7D%2C%20%7B%22geometry%22%3A%20%7B%22coordinates%22%3A%20%5B%5B%5B-73.92846079999998%2C%2040.8395956%5D%2C%20%5B-73.90246819999999%2C%2040.8395956%5D%2C%20%5B-73.90246819999999%2C%2040.8567742%5D%2C%20%5B-73.92846079999998%2C%2040.8567742%5D%2C%20%5B-73.92846079999998%2C%2040.8395956%5D%5D%5D%2C%20%22type%22%3A%20%22Polygon%22%7D%2C%20%22properties%22%3A%20%7B%22zone_id%22%3A%20%22332%22%7D%2C%20%22type%22%3A%20%22Feature%22%7D%2C%20%7B%22geometry%22%3A%20%7B%22coordinates%22%3A%20%5B%5B%5B-73.90246819999999%2C%2040.8395956%5D%2C%20%5B-73.87647559999999%2C%2040.8395956%5D%2C%20%5B-73.87647559999999%2C%2040.8567742%5D%2C%20%5B-73.90246819999999%2C%2040.8567742%5D%2C%20%5B-73.90246819999999%2C%2040.8395956%5D%5D%5D%2C%20%22type%22%3A%20%22Polygon%22%7D%2C%20%22properties%22%3A%20%7B%22zone_id%22%3A%20%22333%22%7D%2C%20%22type%22%3A%20%22Feature%22%7D%2C%20%7B%22geometry%22%3A%20%7B%22coordinates%22%3A%20%5B%5B%5B-73.87647559999999%2C%2040.8395956%5D%2C%20%5B-73.850483%2C%2040.8395956%5D%2C%20%5B-73.850483%2C%2040.8567742%5D%2C%20%5B-73.87647559999999%2C%2040.8567742%5D%2C%20%5B-73.87647559999999%2C%2040.8395956%5D%5D%5D%2C%20%22type%22%3A%20%22Polygon%22%7D%2C%20%22properties%22%3A%20%7B%22zone_id%22%3A%20%22334%22%7D%2C%20%22type%22%3A%20%22Feature%22%7D%2C%20%7B%22geometry%22%3A%20%7B%22coordinates%22%3A%20%5B%5B%5B-73.850483%2C%2040.8395956%5D%2C%20%5B-73.82449039999999%2C%2040.8395956%5D%2C%20%5B-73.82449039999999%2C%2040.8567742%5D%2C%20%5B-73.850483%2C%2040.8567742%5D%2C%20%5B-73.850483%2C%2040.8395956%5D%5D%5D%2C%20%22type%22%3A%20%22Polygon%22%7D%2C%20%22properties%22%3A%20%7B%22zone_id%22%3A%20%22335%22%7D%2C%20%22type%22%3A%20%22Feature%22%7D%2C%20%7B%22geometry%22%3A%20%7B%22coordinates%22%3A%20%5B%5B%5B-73.82449039999999%2C%2040.8395956%5D%2C%20%5B-73.79849779999999%2C%2040.8395956%5D%2C%20%5B-73.79849779999999%2C%2040.8567742%5D%2C%20%5B-73.82449039999999%2C%2040.8567742%5D%2C%20%5B-73.82449039999999%2C%2040.8395956%5D%5D%5D%2C%20%22type%22%3A%20%22Polygon%22%7D%2C%20%22properties%22%3A%20%7B%22zone_id%22%3A%20%22336%22%7D%2C%20%22type%22%3A%20%22Feature%22%7D%2C%20%7B%22geometry%22%3A%20%7B%22coordinates%22%3A%20%5B%5B%5B-73.79849779999999%2C%2040.8395956%5D%2C%20%5B-73.7725052%2C%2040.8395956%5D%2C%20%5B-73.7725052%2C%2040.8567742%5D%2C%20%5B-73.79849779999999%2C%2040.8567742%5D%2C%20%5B-73.79849779999999%2C%2040.8395956%5D%5D%5D%2C%20%22type%22%3A%20%22Polygon%22%7D%2C%20%22properties%22%3A%20%7B%22zone_id%22%3A%20%22337%22%7D%2C%20%22type%22%3A%20%22Feature%22%7D%2C%20%7B%22geometry%22%3A%20%7B%22coordinates%22%3A%20%5B%5B%5B-73.7725052%2C%2040.8395956%5D%2C%20%5B-73.74651259999999%2C%2040.8395956%5D%2C%20%5B-73.74651259999999%2C%2040.8567742%5D%2C%20%5B-73.7725052%2C%2040.8567742%5D%2C%20%5B-73.7725052%2C%2040.8395956%5D%5D%5D%2C%20%22type%22%3A%20%22Polygon%22%7D%2C%20%22properties%22%3A%20%7B%22zone_id%22%3A%20%22338%22%7D%2C%20%22type%22%3A%20%22Feature%22%7D%2C%20%7B%22geometry%22%3A%20%7B%22coordinates%22%3A%20%5B%5B%5B-73.74651259999999%2C%2040.8395956%5D%2C%20%5B-73.72052%2C%2040.8395956%5D%2C%20%5B-73.72052%2C%2040.8567742%5D%2C%20%5B-73.74651259999999%2C%2040.8567742%5D%2C%20%5B-73.74651259999999%2C%2040.8395956%5D%5D%5D%2C%20%22type%22%3A%20%22Polygon%22%7D%2C%20%22properties%22%3A%20%7B%22zone_id%22%3A%20%22339%22%7D%2C%20%22type%22%3A%20%22Feature%22%7D%2C%20%7B%22geometry%22%3A%20%7B%22coordinates%22%3A%20%5B%5B%5B-74.24037199999998%2C%2040.8567742%5D%2C%20%5B-74.21437939999998%2C%2040.8567742%5D%2C%20%5B-74.21437939999998%2C%2040.8739528%5D%2C%20%5B-74.24037199999998%2C%2040.8739528%5D%2C%20%5B-74.24037199999998%2C%2040.8567742%5D%5D%5D%2C%20%22type%22%3A%20%22Polygon%22%7D%2C%20%22properties%22%3A%20%7B%22zone_id%22%3A%20%22340%22%7D%2C%20%22type%22%3A%20%22Feature%22%7D%2C%20%7B%22geometry%22%3A%20%7B%22coordinates%22%3A%20%5B%5B%5B-74.21437939999998%2C%2040.8567742%5D%2C%20%5B-74.18838679999998%2C%2040.8567742%5D%2C%20%5B-74.18838679999998%2C%2040.8739528%5D%2C%20%5B-74.21437939999998%2C%2040.8739528%5D%2C%20%5B-74.21437939999998%2C%2040.8567742%5D%5D%5D%2C%20%22type%22%3A%20%22Polygon%22%7D%2C%20%22properties%22%3A%20%7B%22zone_id%22%3A%20%22341%22%7D%2C%20%22type%22%3A%20%22Feature%22%7D%2C%20%7B%22geometry%22%3A%20%7B%22coordinates%22%3A%20%5B%5B%5B-74.18838679999998%2C%2040.8567742%5D%2C%20%5B-74.16239419999998%2C%2040.8567742%5D%2C%20%5B-74.16239419999998%2C%2040.8739528%5D%2C%20%5B-74.18838679999998%2C%2040.8739528%5D%2C%20%5B-74.18838679999998%2C%2040.8567742%5D%5D%5D%2C%20%22type%22%3A%20%22Polygon%22%7D%2C%20%22properties%22%3A%20%7B%22zone_id%22%3A%20%22342%22%7D%2C%20%22type%22%3A%20%22Feature%22%7D%2C%20%7B%22geometry%22%3A%20%7B%22coordinates%22%3A%20%5B%5B%5B-74.16239419999998%2C%2040.8567742%5D%2C%20%5B-74.13640159999999%2C%2040.8567742%5D%2C%20%5B-74.13640159999999%2C%2040.8739528%5D%2C%20%5B-74.16239419999998%2C%2040.8739528%5D%2C%20%5B-74.16239419999998%2C%2040.8567742%5D%5D%5D%2C%20%22type%22%3A%20%22Polygon%22%7D%2C%20%22properties%22%3A%20%7B%22zone_id%22%3A%20%22343%22%7D%2C%20%22type%22%3A%20%22Feature%22%7D%2C%20%7B%22geometry%22%3A%20%7B%22coordinates%22%3A%20%5B%5B%5B-74.13640159999999%2C%2040.8567742%5D%2C%20%5B-74.11040899999998%2C%2040.8567742%5D%2C%20%5B-74.11040899999998%2C%2040.8739528%5D%2C%20%5B-74.13640159999999%2C%2040.8739528%5D%2C%20%5B-74.13640159999999%2C%2040.8567742%5D%5D%5D%2C%20%22type%22%3A%20%22Polygon%22%7D%2C%20%22properties%22%3A%20%7B%22zone_id%22%3A%20%22344%22%7D%2C%20%22type%22%3A%20%22Feature%22%7D%2C%20%7B%22geometry%22%3A%20%7B%22coordinates%22%3A%20%5B%5B%5B-74.11040899999998%2C%2040.8567742%5D%2C%20%5B-74.08441639999998%2C%2040.8567742%5D%2C%20%5B-74.08441639999998%2C%2040.8739528%5D%2C%20%5B-74.11040899999998%2C%2040.8739528%5D%2C%20%5B-74.11040899999998%2C%2040.8567742%5D%5D%5D%2C%20%22type%22%3A%20%22Polygon%22%7D%2C%20%22properties%22%3A%20%7B%22zone_id%22%3A%20%22345%22%7D%2C%20%22type%22%3A%20%22Feature%22%7D%2C%20%7B%22geometry%22%3A%20%7B%22coordinates%22%3A%20%5B%5B%5B-74.08441639999998%2C%2040.8567742%5D%2C%20%5B-74.05842379999999%2C%2040.8567742%5D%2C%20%5B-74.05842379999999%2C%2040.8739528%5D%2C%20%5B-74.08441639999998%2C%2040.8739528%5D%2C%20%5B-74.08441639999998%2C%2040.8567742%5D%5D%5D%2C%20%22type%22%3A%20%22Polygon%22%7D%2C%20%22properties%22%3A%20%7B%22zone_id%22%3A%20%22346%22%7D%2C%20%22type%22%3A%20%22Feature%22%7D%2C%20%7B%22geometry%22%3A%20%7B%22coordinates%22%3A%20%5B%5B%5B-74.05842379999999%2C%2040.8567742%5D%2C%20%5B-74.03243119999999%2C%2040.8567742%5D%2C%20%5B-74.03243119999999%2C%2040.8739528%5D%2C%20%5B-74.05842379999999%2C%2040.8739528%5D%2C%20%5B-74.05842379999999%2C%2040.8567742%5D%5D%5D%2C%20%22type%22%3A%20%22Polygon%22%7D%2C%20%22properties%22%3A%20%7B%22zone_id%22%3A%20%22347%22%7D%2C%20%22type%22%3A%20%22Feature%22%7D%2C%20%7B%22geometry%22%3A%20%7B%22coordinates%22%3A%20%5B%5B%5B-74.03243119999999%2C%2040.8567742%5D%2C%20%5B-74.00643859999998%2C%2040.8567742%5D%2C%20%5B-74.00643859999998%2C%2040.8739528%5D%2C%20%5B-74.03243119999999%2C%2040.8739528%5D%2C%20%5B-74.03243119999999%2C%2040.8567742%5D%5D%5D%2C%20%22type%22%3A%20%22Polygon%22%7D%2C%20%22properties%22%3A%20%7B%22zone_id%22%3A%20%22348%22%7D%2C%20%22type%22%3A%20%22Feature%22%7D%2C%20%7B%22geometry%22%3A%20%7B%22coordinates%22%3A%20%5B%5B%5B-74.00643859999998%2C%2040.8567742%5D%2C%20%5B-73.98044599999999%2C%2040.8567742%5D%2C%20%5B-73.98044599999999%2C%2040.8739528%5D%2C%20%5B-74.00643859999998%2C%2040.8739528%5D%2C%20%5B-74.00643859999998%2C%2040.8567742%5D%5D%5D%2C%20%22type%22%3A%20%22Polygon%22%7D%2C%20%22properties%22%3A%20%7B%22zone_id%22%3A%20%22349%22%7D%2C%20%22type%22%3A%20%22Feature%22%7D%2C%20%7B%22geometry%22%3A%20%7B%22coordinates%22%3A%20%5B%5B%5B-73.98044599999999%2C%2040.8567742%5D%2C%20%5B-73.95445339999999%2C%2040.8567742%5D%2C%20%5B-73.95445339999999%2C%2040.8739528%5D%2C%20%5B-73.98044599999999%2C%2040.8739528%5D%2C%20%5B-73.98044599999999%2C%2040.8567742%5D%5D%5D%2C%20%22type%22%3A%20%22Polygon%22%7D%2C%20%22properties%22%3A%20%7B%22zone_id%22%3A%20%22350%22%7D%2C%20%22type%22%3A%20%22Feature%22%7D%2C%20%7B%22geometry%22%3A%20%7B%22coordinates%22%3A%20%5B%5B%5B-73.95445339999999%2C%2040.8567742%5D%2C%20%5B-73.92846079999998%2C%2040.8567742%5D%2C%20%5B-73.92846079999998%2C%2040.8739528%5D%2C%20%5B-73.95445339999999%2C%2040.8739528%5D%2C%20%5B-73.95445339999999%2C%2040.8567742%5D%5D%5D%2C%20%22type%22%3A%20%22Polygon%22%7D%2C%20%22properties%22%3A%20%7B%22zone_id%22%3A%20%22351%22%7D%2C%20%22type%22%3A%20%22Feature%22%7D%2C%20%7B%22geometry%22%3A%20%7B%22coordinates%22%3A%20%5B%5B%5B-73.92846079999998%2C%2040.8567742%5D%2C%20%5B-73.90246819999999%2C%2040.8567742%5D%2C%20%5B-73.90246819999999%2C%2040.8739528%5D%2C%20%5B-73.92846079999998%2C%2040.8739528%5D%2C%20%5B-73.92846079999998%2C%2040.8567742%5D%5D%5D%2C%20%22type%22%3A%20%22Polygon%22%7D%2C%20%22properties%22%3A%20%7B%22zone_id%22%3A%20%22352%22%7D%2C%20%22type%22%3A%20%22Feature%22%7D%2C%20%7B%22geometry%22%3A%20%7B%22coordinates%22%3A%20%5B%5B%5B-73.90246819999999%2C%2040.8567742%5D%2C%20%5B-73.87647559999999%2C%2040.8567742%5D%2C%20%5B-73.87647559999999%2C%2040.8739528%5D%2C%20%5B-73.90246819999999%2C%2040.8739528%5D%2C%20%5B-73.90246819999999%2C%2040.8567742%5D%5D%5D%2C%20%22type%22%3A%20%22Polygon%22%7D%2C%20%22properties%22%3A%20%7B%22zone_id%22%3A%20%22353%22%7D%2C%20%22type%22%3A%20%22Feature%22%7D%2C%20%7B%22geometry%22%3A%20%7B%22coordinates%22%3A%20%5B%5B%5B-73.87647559999999%2C%2040.8567742%5D%2C%20%5B-73.850483%2C%2040.8567742%5D%2C%20%5B-73.850483%2C%2040.8739528%5D%2C%20%5B-73.87647559999999%2C%2040.8739528%5D%2C%20%5B-73.87647559999999%2C%2040.8567742%5D%5D%5D%2C%20%22type%22%3A%20%22Polygon%22%7D%2C%20%22properties%22%3A%20%7B%22zone_id%22%3A%20%22354%22%7D%2C%20%22type%22%3A%20%22Feature%22%7D%2C%20%7B%22geometry%22%3A%20%7B%22coordinates%22%3A%20%5B%5B%5B-73.850483%2C%2040.8567742%5D%2C%20%5B-73.82449039999999%2C%2040.8567742%5D%2C%20%5B-73.82449039999999%2C%2040.8739528%5D%2C%20%5B-73.850483%2C%2040.8739528%5D%2C%20%5B-73.850483%2C%2040.8567742%5D%5D%5D%2C%20%22type%22%3A%20%22Polygon%22%7D%2C%20%22properties%22%3A%20%7B%22zone_id%22%3A%20%22355%22%7D%2C%20%22type%22%3A%20%22Feature%22%7D%2C%20%7B%22geometry%22%3A%20%7B%22coordinates%22%3A%20%5B%5B%5B-73.82449039999999%2C%2040.8567742%5D%2C%20%5B-73.79849779999999%2C%2040.8567742%5D%2C%20%5B-73.79849779999999%2C%2040.8739528%5D%2C%20%5B-73.82449039999999%2C%2040.8739528%5D%2C%20%5B-73.82449039999999%2C%2040.8567742%5D%5D%5D%2C%20%22type%22%3A%20%22Polygon%22%7D%2C%20%22properties%22%3A%20%7B%22zone_id%22%3A%20%22356%22%7D%2C%20%22type%22%3A%20%22Feature%22%7D%2C%20%7B%22geometry%22%3A%20%7B%22coordinates%22%3A%20%5B%5B%5B-73.79849779999999%2C%2040.8567742%5D%2C%20%5B-73.7725052%2C%2040.8567742%5D%2C%20%5B-73.7725052%2C%2040.8739528%5D%2C%20%5B-73.79849779999999%2C%2040.8739528%5D%2C%20%5B-73.79849779999999%2C%2040.8567742%5D%5D%5D%2C%20%22type%22%3A%20%22Polygon%22%7D%2C%20%22properties%22%3A%20%7B%22zone_id%22%3A%20%22357%22%7D%2C%20%22type%22%3A%20%22Feature%22%7D%2C%20%7B%22geometry%22%3A%20%7B%22coordinates%22%3A%20%5B%5B%5B-73.7725052%2C%2040.8567742%5D%2C%20%5B-73.74651259999999%2C%2040.8567742%5D%2C%20%5B-73.74651259999999%2C%2040.8739528%5D%2C%20%5B-73.7725052%2C%2040.8739528%5D%2C%20%5B-73.7725052%2C%2040.8567742%5D%5D%5D%2C%20%22type%22%3A%20%22Polygon%22%7D%2C%20%22properties%22%3A%20%7B%22zone_id%22%3A%20%22358%22%7D%2C%20%22type%22%3A%20%22Feature%22%7D%2C%20%7B%22geometry%22%3A%20%7B%22coordinates%22%3A%20%5B%5B%5B-73.74651259999999%2C%2040.8567742%5D%2C%20%5B-73.72052%2C%2040.8567742%5D%2C%20%5B-73.72052%2C%2040.8739528%5D%2C%20%5B-73.74651259999999%2C%2040.8739528%5D%2C%20%5B-73.74651259999999%2C%2040.8567742%5D%5D%5D%2C%20%22type%22%3A%20%22Polygon%22%7D%2C%20%22properties%22%3A%20%7B%22zone_id%22%3A%20%22359%22%7D%2C%20%22type%22%3A%20%22Feature%22%7D%2C%20%7B%22geometry%22%3A%20%7B%22coordinates%22%3A%20%5B%5B%5B-74.24037199999998%2C%2040.8739528%5D%2C%20%5B-74.21437939999998%2C%2040.8739528%5D%2C%20%5B-74.21437939999998%2C%2040.8911314%5D%2C%20%5B-74.24037199999998%2C%2040.8911314%5D%2C%20%5B-74.24037199999998%2C%2040.8739528%5D%5D%5D%2C%20%22type%22%3A%20%22Polygon%22%7D%2C%20%22properties%22%3A%20%7B%22zone_id%22%3A%20%22360%22%7D%2C%20%22type%22%3A%20%22Feature%22%7D%2C%20%7B%22geometry%22%3A%20%7B%22coordinates%22%3A%20%5B%5B%5B-74.21437939999998%2C%2040.8739528%5D%2C%20%5B-74.18838679999998%2C%2040.8739528%5D%2C%20%5B-74.18838679999998%2C%2040.8911314%5D%2C%20%5B-74.21437939999998%2C%2040.8911314%5D%2C%20%5B-74.21437939999998%2C%2040.8739528%5D%5D%5D%2C%20%22type%22%3A%20%22Polygon%22%7D%2C%20%22properties%22%3A%20%7B%22zone_id%22%3A%20%22361%22%7D%2C%20%22type%22%3A%20%22Feature%22%7D%2C%20%7B%22geometry%22%3A%20%7B%22coordinates%22%3A%20%5B%5B%5B-74.18838679999998%2C%2040.8739528%5D%2C%20%5B-74.16239419999998%2C%2040.8739528%5D%2C%20%5B-74.16239419999998%2C%2040.8911314%5D%2C%20%5B-74.18838679999998%2C%2040.8911314%5D%2C%20%5B-74.18838679999998%2C%2040.8739528%5D%5D%5D%2C%20%22type%22%3A%20%22Polygon%22%7D%2C%20%22properties%22%3A%20%7B%22zone_id%22%3A%20%22362%22%7D%2C%20%22type%22%3A%20%22Feature%22%7D%2C%20%7B%22geometry%22%3A%20%7B%22coordinates%22%3A%20%5B%5B%5B-74.16239419999998%2C%2040.8739528%5D%2C%20%5B-74.13640159999999%2C%2040.8739528%5D%2C%20%5B-74.13640159999999%2C%2040.8911314%5D%2C%20%5B-74.16239419999998%2C%2040.8911314%5D%2C%20%5B-74.16239419999998%2C%2040.8739528%5D%5D%5D%2C%20%22type%22%3A%20%22Polygon%22%7D%2C%20%22properties%22%3A%20%7B%22zone_id%22%3A%20%22363%22%7D%2C%20%22type%22%3A%20%22Feature%22%7D%2C%20%7B%22geometry%22%3A%20%7B%22coordinates%22%3A%20%5B%5B%5B-74.13640159999999%2C%2040.8739528%5D%2C%20%5B-74.11040899999998%2C%2040.8739528%5D%2C%20%5B-74.11040899999998%2C%2040.8911314%5D%2C%20%5B-74.13640159999999%2C%2040.8911314%5D%2C%20%5B-74.13640159999999%2C%2040.8739528%5D%5D%5D%2C%20%22type%22%3A%20%22Polygon%22%7D%2C%20%22properties%22%3A%20%7B%22zone_id%22%3A%20%22364%22%7D%2C%20%22type%22%3A%20%22Feature%22%7D%2C%20%7B%22geometry%22%3A%20%7B%22coordinates%22%3A%20%5B%5B%5B-74.11040899999998%2C%2040.8739528%5D%2C%20%5B-74.08441639999998%2C%2040.8739528%5D%2C%20%5B-74.08441639999998%2C%2040.8911314%5D%2C%20%5B-74.11040899999998%2C%2040.8911314%5D%2C%20%5B-74.11040899999998%2C%2040.8739528%5D%5D%5D%2C%20%22type%22%3A%20%22Polygon%22%7D%2C%20%22properties%22%3A%20%7B%22zone_id%22%3A%20%22365%22%7D%2C%20%22type%22%3A%20%22Feature%22%7D%2C%20%7B%22geometry%22%3A%20%7B%22coordinates%22%3A%20%5B%5B%5B-74.08441639999998%2C%2040.8739528%5D%2C%20%5B-74.05842379999999%2C%2040.8739528%5D%2C%20%5B-74.05842379999999%2C%2040.8911314%5D%2C%20%5B-74.08441639999998%2C%2040.8911314%5D%2C%20%5B-74.08441639999998%2C%2040.8739528%5D%5D%5D%2C%20%22type%22%3A%20%22Polygon%22%7D%2C%20%22properties%22%3A%20%7B%22zone_id%22%3A%20%22366%22%7D%2C%20%22type%22%3A%20%22Feature%22%7D%2C%20%7B%22geometry%22%3A%20%7B%22coordinates%22%3A%20%5B%5B%5B-74.05842379999999%2C%2040.8739528%5D%2C%20%5B-74.03243119999999%2C%2040.8739528%5D%2C%20%5B-74.03243119999999%2C%2040.8911314%5D%2C%20%5B-74.05842379999999%2C%2040.8911314%5D%2C%20%5B-74.05842379999999%2C%2040.8739528%5D%5D%5D%2C%20%22type%22%3A%20%22Polygon%22%7D%2C%20%22properties%22%3A%20%7B%22zone_id%22%3A%20%22367%22%7D%2C%20%22type%22%3A%20%22Feature%22%7D%2C%20%7B%22geometry%22%3A%20%7B%22coordinates%22%3A%20%5B%5B%5B-74.03243119999999%2C%2040.8739528%5D%2C%20%5B-74.00643859999998%2C%2040.8739528%5D%2C%20%5B-74.00643859999998%2C%2040.8911314%5D%2C%20%5B-74.03243119999999%2C%2040.8911314%5D%2C%20%5B-74.03243119999999%2C%2040.8739528%5D%5D%5D%2C%20%22type%22%3A%20%22Polygon%22%7D%2C%20%22properties%22%3A%20%7B%22zone_id%22%3A%20%22368%22%7D%2C%20%22type%22%3A%20%22Feature%22%7D%2C%20%7B%22geometry%22%3A%20%7B%22coordinates%22%3A%20%5B%5B%5B-74.00643859999998%2C%2040.8739528%5D%2C%20%5B-73.98044599999999%2C%2040.8739528%5D%2C%20%5B-73.98044599999999%2C%2040.8911314%5D%2C%20%5B-74.00643859999998%2C%2040.8911314%5D%2C%20%5B-74.00643859999998%2C%2040.8739528%5D%5D%5D%2C%20%22type%22%3A%20%22Polygon%22%7D%2C%20%22properties%22%3A%20%7B%22zone_id%22%3A%20%22369%22%7D%2C%20%22type%22%3A%20%22Feature%22%7D%2C%20%7B%22geometry%22%3A%20%7B%22coordinates%22%3A%20%5B%5B%5B-73.98044599999999%2C%2040.8739528%5D%2C%20%5B-73.95445339999999%2C%2040.8739528%5D%2C%20%5B-73.95445339999999%2C%2040.8911314%5D%2C%20%5B-73.98044599999999%2C%2040.8911314%5D%2C%20%5B-73.98044599999999%2C%2040.8739528%5D%5D%5D%2C%20%22type%22%3A%20%22Polygon%22%7D%2C%20%22properties%22%3A%20%7B%22zone_id%22%3A%20%22370%22%7D%2C%20%22type%22%3A%20%22Feature%22%7D%2C%20%7B%22geometry%22%3A%20%7B%22coordinates%22%3A%20%5B%5B%5B-73.95445339999999%2C%2040.8739528%5D%2C%20%5B-73.92846079999998%2C%2040.8739528%5D%2C%20%5B-73.92846079999998%2C%2040.8911314%5D%2C%20%5B-73.95445339999999%2C%2040.8911314%5D%2C%20%5B-73.95445339999999%2C%2040.8739528%5D%5D%5D%2C%20%22type%22%3A%20%22Polygon%22%7D%2C%20%22properties%22%3A%20%7B%22zone_id%22%3A%20%22371%22%7D%2C%20%22type%22%3A%20%22Feature%22%7D%2C%20%7B%22geometry%22%3A%20%7B%22coordinates%22%3A%20%5B%5B%5B-73.92846079999998%2C%2040.8739528%5D%2C%20%5B-73.90246819999999%2C%2040.8739528%5D%2C%20%5B-73.90246819999999%2C%2040.8911314%5D%2C%20%5B-73.92846079999998%2C%2040.8911314%5D%2C%20%5B-73.92846079999998%2C%2040.8739528%5D%5D%5D%2C%20%22type%22%3A%20%22Polygon%22%7D%2C%20%22properties%22%3A%20%7B%22zone_id%22%3A%20%22372%22%7D%2C%20%22type%22%3A%20%22Feature%22%7D%2C%20%7B%22geometry%22%3A%20%7B%22coordinates%22%3A%20%5B%5B%5B-73.90246819999999%2C%2040.8739528%5D%2C%20%5B-73.87647559999999%2C%2040.8739528%5D%2C%20%5B-73.87647559999999%2C%2040.8911314%5D%2C%20%5B-73.90246819999999%2C%2040.8911314%5D%2C%20%5B-73.90246819999999%2C%2040.8739528%5D%5D%5D%2C%20%22type%22%3A%20%22Polygon%22%7D%2C%20%22properties%22%3A%20%7B%22zone_id%22%3A%20%22373%22%7D%2C%20%22type%22%3A%20%22Feature%22%7D%2C%20%7B%22geometry%22%3A%20%7B%22coordinates%22%3A%20%5B%5B%5B-73.87647559999999%2C%2040.8739528%5D%2C%20%5B-73.850483%2C%2040.8739528%5D%2C%20%5B-73.850483%2C%2040.8911314%5D%2C%20%5B-73.87647559999999%2C%2040.8911314%5D%2C%20%5B-73.87647559999999%2C%2040.8739528%5D%5D%5D%2C%20%22type%22%3A%20%22Polygon%22%7D%2C%20%22properties%22%3A%20%7B%22zone_id%22%3A%20%22374%22%7D%2C%20%22type%22%3A%20%22Feature%22%7D%2C%20%7B%22geometry%22%3A%20%7B%22coordinates%22%3A%20%5B%5B%5B-73.850483%2C%2040.8739528%5D%2C%20%5B-73.82449039999999%2C%2040.8739528%5D%2C%20%5B-73.82449039999999%2C%2040.8911314%5D%2C%20%5B-73.850483%2C%2040.8911314%5D%2C%20%5B-73.850483%2C%2040.8739528%5D%5D%5D%2C%20%22type%22%3A%20%22Polygon%22%7D%2C%20%22properties%22%3A%20%7B%22zone_id%22%3A%20%22375%22%7D%2C%20%22type%22%3A%20%22Feature%22%7D%2C%20%7B%22geometry%22%3A%20%7B%22coordinates%22%3A%20%5B%5B%5B-73.82449039999999%2C%2040.8739528%5D%2C%20%5B-73.79849779999999%2C%2040.8739528%5D%2C%20%5B-73.79849779999999%2C%2040.8911314%5D%2C%20%5B-73.82449039999999%2C%2040.8911314%5D%2C%20%5B-73.82449039999999%2C%2040.8739528%5D%5D%5D%2C%20%22type%22%3A%20%22Polygon%22%7D%2C%20%22properties%22%3A%20%7B%22zone_id%22%3A%20%22376%22%7D%2C%20%22type%22%3A%20%22Feature%22%7D%2C%20%7B%22geometry%22%3A%20%7B%22coordinates%22%3A%20%5B%5B%5B-73.79849779999999%2C%2040.8739528%5D%2C%20%5B-73.7725052%2C%2040.8739528%5D%2C%20%5B-73.7725052%2C%2040.8911314%5D%2C%20%5B-73.79849779999999%2C%2040.8911314%5D%2C%20%5B-73.79849779999999%2C%2040.8739528%5D%5D%5D%2C%20%22type%22%3A%20%22Polygon%22%7D%2C%20%22properties%22%3A%20%7B%22zone_id%22%3A%20%22377%22%7D%2C%20%22type%22%3A%20%22Feature%22%7D%2C%20%7B%22geometry%22%3A%20%7B%22coordinates%22%3A%20%5B%5B%5B-73.7725052%2C%2040.8739528%5D%2C%20%5B-73.74651259999999%2C%2040.8739528%5D%2C%20%5B-73.74651259999999%2C%2040.8911314%5D%2C%20%5B-73.7725052%2C%2040.8911314%5D%2C%20%5B-73.7725052%2C%2040.8739528%5D%5D%5D%2C%20%22type%22%3A%20%22Polygon%22%7D%2C%20%22properties%22%3A%20%7B%22zone_id%22%3A%20%22378%22%7D%2C%20%22type%22%3A%20%22Feature%22%7D%2C%20%7B%22geometry%22%3A%20%7B%22coordinates%22%3A%20%5B%5B%5B-73.74651259999999%2C%2040.8739528%5D%2C%20%5B-73.72052%2C%2040.8739528%5D%2C%20%5B-73.72052%2C%2040.8911314%5D%2C%20%5B-73.74651259999999%2C%2040.8911314%5D%2C%20%5B-73.74651259999999%2C%2040.8739528%5D%5D%5D%2C%20%22type%22%3A%20%22Polygon%22%7D%2C%20%22properties%22%3A%20%7B%22zone_id%22%3A%20%22379%22%7D%2C%20%22type%22%3A%20%22Feature%22%7D%2C%20%7B%22geometry%22%3A%20%7B%22coordinates%22%3A%20%5B%5B%5B-74.24037199999998%2C%2040.8911314%5D%2C%20%5B-74.21437939999998%2C%2040.8911314%5D%2C%20%5B-74.21437939999998%2C%2040.90831%5D%2C%20%5B-74.24037199999998%2C%2040.90831%5D%2C%20%5B-74.24037199999998%2C%2040.8911314%5D%5D%5D%2C%20%22type%22%3A%20%22Polygon%22%7D%2C%20%22properties%22%3A%20%7B%22zone_id%22%3A%20%22380%22%7D%2C%20%22type%22%3A%20%22Feature%22%7D%2C%20%7B%22geometry%22%3A%20%7B%22coordinates%22%3A%20%5B%5B%5B-74.21437939999998%2C%2040.8911314%5D%2C%20%5B-74.18838679999998%2C%2040.8911314%5D%2C%20%5B-74.18838679999998%2C%2040.90831%5D%2C%20%5B-74.21437939999998%2C%2040.90831%5D%2C%20%5B-74.21437939999998%2C%2040.8911314%5D%5D%5D%2C%20%22type%22%3A%20%22Polygon%22%7D%2C%20%22properties%22%3A%20%7B%22zone_id%22%3A%20%22381%22%7D%2C%20%22type%22%3A%20%22Feature%22%7D%2C%20%7B%22geometry%22%3A%20%7B%22coordinates%22%3A%20%5B%5B%5B-74.18838679999998%2C%2040.8911314%5D%2C%20%5B-74.16239419999998%2C%2040.8911314%5D%2C%20%5B-74.16239419999998%2C%2040.90831%5D%2C%20%5B-74.18838679999998%2C%2040.90831%5D%2C%20%5B-74.18838679999998%2C%2040.8911314%5D%5D%5D%2C%20%22type%22%3A%20%22Polygon%22%7D%2C%20%22properties%22%3A%20%7B%22zone_id%22%3A%20%22382%22%7D%2C%20%22type%22%3A%20%22Feature%22%7D%2C%20%7B%22geometry%22%3A%20%7B%22coordinates%22%3A%20%5B%5B%5B-74.16239419999998%2C%2040.8911314%5D%2C%20%5B-74.13640159999999%2C%2040.8911314%5D%2C%20%5B-74.13640159999999%2C%2040.90831%5D%2C%20%5B-74.16239419999998%2C%2040.90831%5D%2C%20%5B-74.16239419999998%2C%2040.8911314%5D%5D%5D%2C%20%22type%22%3A%20%22Polygon%22%7D%2C%20%22properties%22%3A%20%7B%22zone_id%22%3A%20%22383%22%7D%2C%20%22type%22%3A%20%22Feature%22%7D%2C%20%7B%22geometry%22%3A%20%7B%22coordinates%22%3A%20%5B%5B%5B-74.13640159999999%2C%2040.8911314%5D%2C%20%5B-74.11040899999998%2C%2040.8911314%5D%2C%20%5B-74.11040899999998%2C%2040.90831%5D%2C%20%5B-74.13640159999999%2C%2040.90831%5D%2C%20%5B-74.13640159999999%2C%2040.8911314%5D%5D%5D%2C%20%22type%22%3A%20%22Polygon%22%7D%2C%20%22properties%22%3A%20%7B%22zone_id%22%3A%20%22384%22%7D%2C%20%22type%22%3A%20%22Feature%22%7D%2C%20%7B%22geometry%22%3A%20%7B%22coordinates%22%3A%20%5B%5B%5B-74.11040899999998%2C%2040.8911314%5D%2C%20%5B-74.08441639999998%2C%2040.8911314%5D%2C%20%5B-74.08441639999998%2C%2040.90831%5D%2C%20%5B-74.11040899999998%2C%2040.90831%5D%2C%20%5B-74.11040899999998%2C%2040.8911314%5D%5D%5D%2C%20%22type%22%3A%20%22Polygon%22%7D%2C%20%22properties%22%3A%20%7B%22zone_id%22%3A%20%22385%22%7D%2C%20%22type%22%3A%20%22Feature%22%7D%2C%20%7B%22geometry%22%3A%20%7B%22coordinates%22%3A%20%5B%5B%5B-74.08441639999998%2C%2040.8911314%5D%2C%20%5B-74.05842379999999%2C%2040.8911314%5D%2C%20%5B-74.05842379999999%2C%2040.90831%5D%2C%20%5B-74.08441639999998%2C%2040.90831%5D%2C%20%5B-74.08441639999998%2C%2040.8911314%5D%5D%5D%2C%20%22type%22%3A%20%22Polygon%22%7D%2C%20%22properties%22%3A%20%7B%22zone_id%22%3A%20%22386%22%7D%2C%20%22type%22%3A%20%22Feature%22%7D%2C%20%7B%22geometry%22%3A%20%7B%22coordinates%22%3A%20%5B%5B%5B-74.05842379999999%2C%2040.8911314%5D%2C%20%5B-74.03243119999999%2C%2040.8911314%5D%2C%20%5B-74.03243119999999%2C%2040.90831%5D%2C%20%5B-74.05842379999999%2C%2040.90831%5D%2C%20%5B-74.05842379999999%2C%2040.8911314%5D%5D%5D%2C%20%22type%22%3A%20%22Polygon%22%7D%2C%20%22properties%22%3A%20%7B%22zone_id%22%3A%20%22387%22%7D%2C%20%22type%22%3A%20%22Feature%22%7D%2C%20%7B%22geometry%22%3A%20%7B%22coordinates%22%3A%20%5B%5B%5B-74.03243119999999%2C%2040.8911314%5D%2C%20%5B-74.00643859999998%2C%2040.8911314%5D%2C%20%5B-74.00643859999998%2C%2040.90831%5D%2C%20%5B-74.03243119999999%2C%2040.90831%5D%2C%20%5B-74.03243119999999%2C%2040.8911314%5D%5D%5D%2C%20%22type%22%3A%20%22Polygon%22%7D%2C%20%22properties%22%3A%20%7B%22zone_id%22%3A%20%22388%22%7D%2C%20%22type%22%3A%20%22Feature%22%7D%2C%20%7B%22geometry%22%3A%20%7B%22coordinates%22%3A%20%5B%5B%5B-74.00643859999998%2C%2040.8911314%5D%2C%20%5B-73.98044599999999%2C%2040.8911314%5D%2C%20%5B-73.98044599999999%2C%2040.90831%5D%2C%20%5B-74.00643859999998%2C%2040.90831%5D%2C%20%5B-74.00643859999998%2C%2040.8911314%5D%5D%5D%2C%20%22type%22%3A%20%22Polygon%22%7D%2C%20%22properties%22%3A%20%7B%22zone_id%22%3A%20%22389%22%7D%2C%20%22type%22%3A%20%22Feature%22%7D%2C%20%7B%22geometry%22%3A%20%7B%22coordinates%22%3A%20%5B%5B%5B-73.98044599999999%2C%2040.8911314%5D%2C%20%5B-73.95445339999999%2C%2040.8911314%5D%2C%20%5B-73.95445339999999%2C%2040.90831%5D%2C%20%5B-73.98044599999999%2C%2040.90831%5D%2C%20%5B-73.98044599999999%2C%2040.8911314%5D%5D%5D%2C%20%22type%22%3A%20%22Polygon%22%7D%2C%20%22properties%22%3A%20%7B%22zone_id%22%3A%20%22390%22%7D%2C%20%22type%22%3A%20%22Feature%22%7D%2C%20%7B%22geometry%22%3A%20%7B%22coordinates%22%3A%20%5B%5B%5B-73.95445339999999%2C%2040.8911314%5D%2C%20%5B-73.92846079999998%2C%2040.8911314%5D%2C%20%5B-73.92846079999998%2C%2040.90831%5D%2C%20%5B-73.95445339999999%2C%2040.90831%5D%2C%20%5B-73.95445339999999%2C%2040.8911314%5D%5D%5D%2C%20%22type%22%3A%20%22Polygon%22%7D%2C%20%22properties%22%3A%20%7B%22zone_id%22%3A%20%22391%22%7D%2C%20%22type%22%3A%20%22Feature%22%7D%2C%20%7B%22geometry%22%3A%20%7B%22coordinates%22%3A%20%5B%5B%5B-73.92846079999998%2C%2040.8911314%5D%2C%20%5B-73.90246819999999%2C%2040.8911314%5D%2C%20%5B-73.90246819999999%2C%2040.90831%5D%2C%20%5B-73.92846079999998%2C%2040.90831%5D%2C%20%5B-73.92846079999998%2C%2040.8911314%5D%5D%5D%2C%20%22type%22%3A%20%22Polygon%22%7D%2C%20%22properties%22%3A%20%7B%22zone_id%22%3A%20%22392%22%7D%2C%20%22type%22%3A%20%22Feature%22%7D%2C%20%7B%22geometry%22%3A%20%7B%22coordinates%22%3A%20%5B%5B%5B-73.90246819999999%2C%2040.8911314%5D%2C%20%5B-73.87647559999999%2C%2040.8911314%5D%2C%20%5B-73.87647559999999%2C%2040.90831%5D%2C%20%5B-73.90246819999999%2C%2040.90831%5D%2C%20%5B-73.90246819999999%2C%2040.8911314%5D%5D%5D%2C%20%22type%22%3A%20%22Polygon%22%7D%2C%20%22properties%22%3A%20%7B%22zone_id%22%3A%20%22393%22%7D%2C%20%22type%22%3A%20%22Feature%22%7D%2C%20%7B%22geometry%22%3A%20%7B%22coordinates%22%3A%20%5B%5B%5B-73.87647559999999%2C%2040.8911314%5D%2C%20%5B-73.850483%2C%2040.8911314%5D%2C%20%5B-73.850483%2C%2040.90831%5D%2C%20%5B-73.87647559999999%2C%2040.90831%5D%2C%20%5B-73.87647559999999%2C%2040.8911314%5D%5D%5D%2C%20%22type%22%3A%20%22Polygon%22%7D%2C%20%22properties%22%3A%20%7B%22zone_id%22%3A%20%22394%22%7D%2C%20%22type%22%3A%20%22Feature%22%7D%2C%20%7B%22geometry%22%3A%20%7B%22coordinates%22%3A%20%5B%5B%5B-73.850483%2C%2040.8911314%5D%2C%20%5B-73.82449039999999%2C%2040.8911314%5D%2C%20%5B-73.82449039999999%2C%2040.90831%5D%2C%20%5B-73.850483%2C%2040.90831%5D%2C%20%5B-73.850483%2C%2040.8911314%5D%5D%5D%2C%20%22type%22%3A%20%22Polygon%22%7D%2C%20%22properties%22%3A%20%7B%22zone_id%22%3A%20%22395%22%7D%2C%20%22type%22%3A%20%22Feature%22%7D%2C%20%7B%22geometry%22%3A%20%7B%22coordinates%22%3A%20%5B%5B%5B-73.82449039999999%2C%2040.8911314%5D%2C%20%5B-73.79849779999999%2C%2040.8911314%5D%2C%20%5B-73.79849779999999%2C%2040.90831%5D%2C%20%5B-73.82449039999999%2C%2040.90831%5D%2C%20%5B-73.82449039999999%2C%2040.8911314%5D%5D%5D%2C%20%22type%22%3A%20%22Polygon%22%7D%2C%20%22properties%22%3A%20%7B%22zone_id%22%3A%20%22396%22%7D%2C%20%22type%22%3A%20%22Feature%22%7D%2C%20%7B%22geometry%22%3A%20%7B%22coordinates%22%3A%20%5B%5B%5B-73.79849779999999%2C%2040.8911314%5D%2C%20%5B-73.7725052%2C%2040.8911314%5D%2C%20%5B-73.7725052%2C%2040.90831%5D%2C%20%5B-73.79849779999999%2C%2040.90831%5D%2C%20%5B-73.79849779999999%2C%2040.8911314%5D%5D%5D%2C%20%22type%22%3A%20%22Polygon%22%7D%2C%20%22properties%22%3A%20%7B%22zone_id%22%3A%20%22397%22%7D%2C%20%22type%22%3A%20%22Feature%22%7D%2C%20%7B%22geometry%22%3A%20%7B%22coordinates%22%3A%20%5B%5B%5B-73.7725052%2C%2040.8911314%5D%2C%20%5B-73.74651259999999%2C%2040.8911314%5D%2C%20%5B-73.74651259999999%2C%2040.90831%5D%2C%20%5B-73.7725052%2C%2040.90831%5D%2C%20%5B-73.7725052%2C%2040.8911314%5D%5D%5D%2C%20%22type%22%3A%20%22Polygon%22%7D%2C%20%22properties%22%3A%20%7B%22zone_id%22%3A%20%22398%22%7D%2C%20%22type%22%3A%20%22Feature%22%7D%2C%20%7B%22geometry%22%3A%20%7B%22coordinates%22%3A%20%5B%5B%5B-73.74651259999999%2C%2040.8911314%5D%2C%20%5B-73.72052%2C%2040.8911314%5D%2C%20%5B-73.72052%2C%2040.90831%5D%2C%20%5B-73.74651259999999%2C%2040.90831%5D%2C%20%5B-73.74651259999999%2C%2040.8911314%5D%5D%5D%2C%20%22type%22%3A%20%22Polygon%22%7D%2C%20%22properties%22%3A%20%7B%22zone_id%22%3A%20%22399%22%7D%2C%20%22type%22%3A%20%22Feature%22%7D%5D%2C%20%22type%22%3A%20%22FeatureCollection%22%7D%29%3B%0A%0A%20%20%20%20%20%20%20%20%0A%20%20%20%20%0A%20%20%20%20var%20color_map_05648ffdc63d4bfdbddcfa3a34c63be3%20%3D%20%7B%7D%3B%0A%0A%20%20%20%20%0A%20%20%20%20color_map_05648ffdc63d4bfdbddcfa3a34c63be3.color%20%3D%20d3.scale.threshold%28%29%0A%20%20%20%20%20%20%20%20%20%20%20%20%20%20.domain%28%5B1.0%2C%20139.34468937875752%2C%20277.68937875751504%2C%20416.03406813627254%2C%20554.3787575150301%2C%20692.7234468937876%2C%20831.0681362725451%2C%20969.4128256513026%2C%201107.7575150300602%2C%201246.1022044088177%2C%201384.4468937875752%2C%201522.7915831663327%2C%201661.1362725450902%2C%201799.4809619238476%2C%201937.8256513026051%2C%202076.1703406813626%2C%202214.5150300601204%2C%202352.8597194388776%2C%202491.2044088176353%2C%202629.5490981963926%2C%202767.8937875751503%2C%202906.2384769539076%2C%203044.5831663326653%2C%203182.927855711423%2C%203321.2725450901803%2C%203459.617234468938%2C%203597.9619238476953%2C%203736.306613226453%2C%203874.6513026052103%2C%204012.995991983968%2C%204151.340681362725%2C%204289.685370741483%2C%204428.030060120241%2C%204566.374749498998%2C%204704.719438877755%2C%204843.064128256513%2C%204981.408817635271%2C%205119.753507014028%2C%205258.098196392785%2C%205396.442885771543%2C%205534.787575150301%2C%205673.132264529058%2C%205811.476953907815%2C%205949.821643286573%2C%206088.166332665331%2C%206226.511022044088%2C%206364.855711422846%2C%206503.200400801603%2C%206641.545090180361%2C%206779.889779559118%2C%206918.234468937876%2C%207056.579158316633%2C%207194.923847695391%2C%207333.268537074148%2C%207471.613226452906%2C%207609.957915831664%2C%207748.302605210421%2C%207886.647294589178%2C%208024.991983967936%2C%208163.336673346694%2C%208301.68136272545%2C%208440.02605210421%2C%208578.370741482966%2C%208716.715430861723%2C%208855.060120240481%2C%208993.404809619238%2C%209131.749498997997%2C%209270.094188376754%2C%209408.43887775551%2C%209546.78356713427%2C%209685.128256513026%2C%209823.472945891783%2C%209961.817635270541%2C%2010100.162324649298%2C%2010238.507014028057%2C%2010376.851703406814%2C%2010515.19639278557%2C%2010653.541082164329%2C%2010791.885771543086%2C%2010930.230460921844%2C%2011068.575150300601%2C%2011206.919839679358%2C%2011345.264529058117%2C%2011483.609218436874%2C%2011621.95390781563%2C%2011760.298597194389%2C%2011898.643286573146%2C%2012036.987975951904%2C%2012175.332665330661%2C%2012313.677354709418%2C%2012452.022044088177%2C%2012590.366733466934%2C%2012728.711422845692%2C%2012867.056112224449%2C%2013005.400801603206%2C%2013143.745490981964%2C%2013282.090180360721%2C%2013420.43486973948%2C%2013558.779559118237%2C%2013697.124248496993%2C%2013835.468937875752%2C%2013973.813627254509%2C%2014112.158316633266%2C%2014250.503006012024%2C%2014388.847695390781%2C%2014527.19238476954%2C%2014665.537074148297%2C%2014803.881763527053%2C%2014942.226452905812%2C%2015080.571142284569%2C%2015218.915831663327%2C%2015357.260521042084%2C%2015495.605210420841%2C%2015633.9498997996%2C%2015772.294589178357%2C%2015910.639278557113%2C%2016048.983967935872%2C%2016187.328657314629%2C%2016325.673346693387%2C%2016464.018036072146%2C%2016602.3627254509%2C%2016740.70741482966%2C%2016879.05210420842%2C%2017017.396793587173%2C%2017155.741482965932%2C%2017294.08617234469%2C%2017432.430861723446%2C%2017570.775551102204%2C%2017709.120240480963%2C%2017847.464929859718%2C%2017985.809619238476%2C%2018124.154308617235%2C%2018262.498997995994%2C%2018400.84368737475%2C%2018539.188376753507%2C%2018677.533066132266%2C%2018815.87775551102%2C%2018954.22244488978%2C%2019092.56713426854%2C%2019230.911823647293%2C%2019369.256513026052%2C%2019507.60120240481%2C%2019645.945891783565%2C%2019784.290581162324%2C%2019922.635270541083%2C%2020060.97995991984%2C%2020199.324649298596%2C%2020337.669338677355%2C%2020476.014028056114%2C%2020614.35871743487%2C%2020752.703406813627%2C%2020891.048096192386%2C%2021029.39278557114%2C%2021167.7374749499%2C%2021306.082164328658%2C%2021444.426853707413%2C%2021582.77154308617%2C%2021721.11623246493%2C%2021859.46092184369%2C%2021997.805611222444%2C%2022136.150300601203%2C%2022274.49498997996%2C%2022412.839679358716%2C%2022551.184368737475%2C%2022689.529058116234%2C%2022827.87374749499%2C%2022966.218436873747%2C%2023104.563126252506%2C%2023242.90781563126%2C%2023381.25250501002%2C%2023519.597194388778%2C%2023657.941883767537%2C%2023796.28657314629%2C%2023934.63126252505%2C%2024072.97595190381%2C%2024211.320641282564%2C%2024349.665330661323%2C%2024488.01002004008%2C%2024626.354709418836%2C%2024764.699398797595%2C%2024903.044088176353%2C%2025041.388777555112%2C%2025179.733466933867%2C%2025318.078156312626%2C%2025456.422845691384%2C%2025594.76753507014%2C%2025733.112224448898%2C%2025871.456913827657%2C%2026009.80160320641%2C%2026148.14629258517%2C%2026286.49098196393%2C%2026424.835671342684%2C%2026563.180360721442%2C%2026701.5250501002%2C%2026839.86973947896%2C%2026978.214428857715%2C%2027116.559118236473%2C%2027254.903807615232%2C%2027393.248496993987%2C%2027531.593186372746%2C%2027669.937875751504%2C%2027808.28256513026%2C%2027946.627254509018%2C%2028084.971943887776%2C%2028223.31663326653%2C%2028361.66132264529%2C%2028500.00601202405%2C%2028638.350701402807%2C%2028776.695390781562%2C%2028915.04008016032%2C%2029053.38476953908%2C%2029191.729458917835%2C%2029330.074148296593%2C%2029468.418837675352%2C%2029606.763527054107%2C%2029745.108216432865%2C%2029883.452905811624%2C%2030021.79759519038%2C%2030160.142284569138%2C%2030298.486973947896%2C%2030436.831663326655%2C%2030575.17635270541%2C%2030713.52104208417%2C%2030851.865731462927%2C%2030990.210420841682%2C%2031128.55511022044%2C%2031266.8997995992%2C%2031405.244488977954%2C%2031543.589178356713%2C%2031681.93386773547%2C%2031820.278557114227%2C%2031958.623246492985%2C%2032096.967935871744%2C%2032235.312625250503%2C%2032373.657314629258%2C%2032512.002004008016%2C%2032650.346693386775%2C%2032788.69138276553%2C%2032927.03607214429%2C%2033065.38076152305%2C%2033203.7254509018%2C%2033342.070140280564%2C%2033480.41482965932%2C%2033618.759519038074%2C%2033757.10420841684%2C%2033895.44889779559%2C%2034033.79358717435%2C%2034172.13827655311%2C%2034310.482965931864%2C%2034448.82765531062%2C%2034587.17234468938%2C%2034725.517034068136%2C%2034863.86172344689%2C%2035002.20641282565%2C%2035140.55110220441%2C%2035278.89579158316%2C%2035417.240480961926%2C%2035555.58517034068%2C%2035693.929859719436%2C%2035832.2745490982%2C%2035970.61923847695%2C%2036108.96392785571%2C%2036247.30861723447%2C%2036385.653306613225%2C%2036523.99799599199%2C%2036662.34268537074%2C%2036800.6873747495%2C%2036939.03206412826%2C%2037077.376753507015%2C%2037215.72144288577%2C%2037354.06613226453%2C%2037492.41082164329%2C%2037630.75551102204%2C%2037769.100200400804%2C%2037907.44488977956%2C%2038045.789579158314%2C%2038184.13426853708%2C%2038322.47895791583%2C%2038460.82364729459%2C%2038599.16833667335%2C%2038737.513026052104%2C%2038875.85771543086%2C%2039014.20240480962%2C%2039152.547094188376%2C%2039290.89178356713%2C%2039429.23647294589%2C%2039567.58116232465%2C%2039705.92585170341%2C%2039844.270541082165%2C%2039982.61523046092%2C%2040120.95991983968%2C%2040259.30460921844%2C%2040397.64929859719%2C%2040535.993987975955%2C%2040674.33867735471%2C%2040812.683366733465%2C%2040951.02805611223%2C%2041089.37274549098%2C%2041227.71743486974%2C%2041366.0621242485%2C%2041504.406813627254%2C%2041642.75150300601%2C%2041781.09619238477%2C%2041919.44088176353%2C%2042057.78557114228%2C%2042196.130260521044%2C%2042334.4749498998%2C%2042472.819639278554%2C%2042611.164328657316%2C%2042749.50901803607%2C%2042887.853707414826%2C%2043026.19839679359%2C%2043164.54308617234%2C%2043302.887775551106%2C%2043441.23246492986%2C%2043579.577154308616%2C%2043717.92184368738%2C%2043856.26653306613%2C%2043994.61122244489%2C%2044132.95591182365%2C%2044271.300601202405%2C%2044409.64529058116%2C%2044547.98997995992%2C%2044686.33466933868%2C%2044824.67935871743%2C%2044963.024048096195%2C%2045101.36873747495%2C%2045239.713426853705%2C%2045378.05811623247%2C%2045516.40280561122%2C%2045654.74749498998%2C%2045793.09218436874%2C%2045931.436873747494%2C%2046069.78156312625%2C%2046208.12625250501%2C%2046346.47094188377%2C%2046484.81563126252%2C%2046623.160320641284%2C%2046761.50501002004%2C%2046899.8496993988%2C%2047038.194388777556%2C%2047176.53907815631%2C%2047314.88376753507%2C%2047453.22845691383%2C%2047591.57314629258%2C%2047729.917835671346%2C%2047868.2625250501%2C%2048006.607214428856%2C%2048144.95190380762%2C%2048283.29659318637%2C%2048421.64128256513%2C%2048559.98597194389%2C%2048698.330661322645%2C%2048836.6753507014%2C%2048975.02004008016%2C%2049113.36472945892%2C%2049251.70941883767%2C%2049390.054108216435%2C%2049528.39879759519%2C%2049666.743486973945%2C%2049805.08817635271%2C%2049943.43286573146%2C%2050081.777555110224%2C%2050220.12224448898%2C%2050358.466933867734%2C%2050496.811623246496%2C%2050635.15631262525%2C%2050773.501002004006%2C%2050911.84569138277%2C%2051050.19038076152%2C%2051188.53507014028%2C%2051326.87975951904%2C%2051465.224448897796%2C%2051603.56913827655%2C%2051741.91382765531%2C%2051880.25851703407%2C%2052018.60320641282%2C%2052156.947895791585%2C%2052295.29258517034%2C%2052433.637274549095%2C%2052571.98196392786%2C%2052710.32665330661%2C%2052848.67134268537%2C%2052987.01603206413%2C%2053125.360721442885%2C%2053263.70541082164%2C%2053402.0501002004%2C%2053540.39478957916%2C%2053678.73947895792%2C%2053817.084168336674%2C%2053955.42885771543%2C%2054093.77354709419%2C%2054232.11823647295%2C%2054370.4629258517%2C%2054508.807615230464%2C%2054647.15230460922%2C%2054785.496993987974%2C%2054923.841683366736%2C%2055062.18637274549%2C%2055200.531062124246%2C%2055338.87575150301%2C%2055477.22044088176%2C%2055615.56513026052%2C%2055753.90981963928%2C%2055892.254509018036%2C%2056030.59919839679%2C%2056168.94388777555%2C%2056307.28857715431%2C%2056445.63326653306%2C%2056583.977955911825%2C%2056722.32264529058%2C%2056860.667334669335%2C%2056999.0120240481%2C%2057137.35671342685%2C%2057275.701402805615%2C%2057414.04609218437%2C%2057552.390781563125%2C%2057690.73547094189%2C%2057829.08016032064%2C%2057967.4248496994%2C%2058105.76953907816%2C%2058244.114228456914%2C%2058382.45891783567%2C%2058520.80360721443%2C%2058659.14829659319%2C%2058797.49298597194%2C%2058935.837675350704%2C%2059074.18236472946%2C%2059212.52705410821%2C%2059350.871743486976%2C%2059489.21643286573%2C%2059627.561122244486%2C%2059765.90581162325%2C%2059904.250501002%2C%2060042.59519038076%2C%2060180.93987975952%2C%2060319.284569138275%2C%2060457.62925851704%2C%2060595.97394789579%2C%2060734.31863727455%2C%2060872.66332665331%2C%2061011.008016032065%2C%2061149.35270541082%2C%2061287.69739478958%2C%2061426.04208416834%2C%2061564.38677354709%2C%2061702.731462925854%2C%2061841.07615230461%2C%2061979.420841683364%2C%2062117.76553106213%2C%2062256.11022044088%2C%2062394.45490981964%2C%2062532.7995991984%2C%2062671.144288577154%2C%2062809.48897795591%2C%2062947.83366733467%2C%2063086.178356713426%2C%2063224.52304609218%2C%2063362.86773547094%2C%2063501.2124248497%2C%2063639.55711422845%2C%2063777.901803607216%2C%2063916.24649298597%2C%2064054.59118236473%2C%2064192.93587174349%2C%2064331.28056112224%2C%2064469.625250501005%2C%2064607.96993987976%2C%2064746.314629258515%2C%2064884.65931863728%2C%2065023.00400801603%2C%2065161.34869739479%2C%2065299.69338677355%2C%2065438.038076152305%2C%2065576.38276553106%2C%2065714.72745490982%2C%2065853.07214428858%2C%2065991.41683366733%2C%2066129.7615230461%2C%2066268.10621242486%2C%2066406.4509018036%2C%2066544.79559118237%2C%2066683.14028056113%2C%2066821.48496993988%2C%2066959.82965931864%2C%2067098.1743486974%2C%2067236.51903807615%2C%2067374.86372745491%2C%2067513.20841683367%2C%2067651.55310621242%2C%2067789.89779559118%2C%2067928.24248496995%2C%2068066.5871743487%2C%2068204.93186372746%2C%2068343.27655310622%2C%2068481.62124248497%2C%2068619.96593186373%2C%2068758.31062124249%2C%2068896.65531062124%2C%2069035.0%5D%29%0A%20%20%20%20%20%20%20%20%20%20%20%20%20%20.range%28%5B%27%23ffffccff%27%2C%20%27%23ffffccff%27%2C%20%27%23ffffccff%27%2C%20%27%23ffffccff%27%2C%20%27%23ffffccff%27%2C%20%27%23ffffccff%27%2C%20%27%23ffffccff%27%2C%20%27%23ffffccff%27%2C%20%27%23ffffccff%27%2C%20%27%23ffffccff%27%2C%20%27%23ffffccff%27%2C%20%27%23ffffccff%27%2C%20%27%23ffffccff%27%2C%20%27%23ffffccff%27%2C%20%27%23ffffccff%27%2C%20%27%23ffffccff%27%2C%20%27%23ffffccff%27%2C%20%27%23ffffccff%27%2C%20%27%23ffffccff%27%2C%20%27%23ffffccff%27%2C%20%27%23ffffccff%27%2C%20%27%23ffffccff%27%2C%20%27%23ffffccff%27%2C%20%27%23ffffccff%27%2C%20%27%23ffffccff%27%2C%20%27%23ffffccff%27%2C%20%27%23ffffccff%27%2C%20%27%23ffffccff%27%2C%20%27%23ffffccff%27%2C%20%27%23ffffccff%27%2C%20%27%23ffffccff%27%2C%20%27%23ffffccff%27%2C%20%27%23ffffccff%27%2C%20%27%23ffffccff%27%2C%20%27%23ffffccff%27%2C%20%27%23ffffccff%27%2C%20%27%23ffffccff%27%2C%20%27%23ffffccff%27%2C%20%27%23ffffccff%27%2C%20%27%23ffffccff%27%2C%20%27%23ffffccff%27%2C%20%27%23ffffccff%27%2C%20%27%23ffffccff%27%2C%20%27%23ffffccff%27%2C%20%27%23ffffccff%27%2C%20%27%23ffffccff%27%2C%20%27%23ffffccff%27%2C%20%27%23ffffccff%27%2C%20%27%23ffffccff%27%2C%20%27%23ffffccff%27%2C%20%27%23ffffccff%27%2C%20%27%23ffffccff%27%2C%20%27%23ffffccff%27%2C%20%27%23ffffccff%27%2C%20%27%23ffffccff%27%2C%20%27%23ffffccff%27%2C%20%27%23ffffccff%27%2C%20%27%23ffffccff%27%2C%20%27%23ffffccff%27%2C%20%27%23ffffccff%27%2C%20%27%23ffffccff%27%2C%20%27%23ffffccff%27%2C%20%27%23ffffccff%27%2C%20%27%23ffffccff%27%2C%20%27%23ffffccff%27%2C%20%27%23ffffccff%27%2C%20%27%23ffffccff%27%2C%20%27%23ffffccff%27%2C%20%27%23ffffccff%27%2C%20%27%23ffffccff%27%2C%20%27%23ffffccff%27%2C%20%27%23ffffccff%27%2C%20%27%23ffffccff%27%2C%20%27%23ffffccff%27%2C%20%27%23ffffccff%27%2C%20%27%23ffffccff%27%2C%20%27%23ffffccff%27%2C%20%27%23ffffccff%27%2C%20%27%23ffffccff%27%2C%20%27%23ffffccff%27%2C%20%27%23ffffccff%27%2C%20%27%23ffffccff%27%2C%20%27%23ffffccff%27%2C%20%27%23ffffccff%27%2C%20%27%23d9f0a3ff%27%2C%20%27%23d9f0a3ff%27%2C%20%27%23d9f0a3ff%27%2C%20%27%23d9f0a3ff%27%2C%20%27%23d9f0a3ff%27%2C%20%27%23d9f0a3ff%27%2C%20%27%23d9f0a3ff%27%2C%20%27%23d9f0a3ff%27%2C%20%27%23d9f0a3ff%27%2C%20%27%23d9f0a3ff%27%2C%20%27%23d9f0a3ff%27%2C%20%27%23d9f0a3ff%27%2C%20%27%23d9f0a3ff%27%2C%20%27%23d9f0a3ff%27%2C%20%27%23d9f0a3ff%27%2C%20%27%23d9f0a3ff%27%2C%20%27%23d9f0a3ff%27%2C%20%27%23d9f0a3ff%27%2C%20%27%23d9f0a3ff%27%2C%20%27%23d9f0a3ff%27%2C%20%27%23d9f0a3ff%27%2C%20%27%23d9f0a3ff%27%2C%20%27%23d9f0a3ff%27%2C%20%27%23d9f0a3ff%27%2C%20%27%23d9f0a3ff%27%2C%20%27%23d9f0a3ff%27%2C%20%27%23d9f0a3ff%27%2C%20%27%23d9f0a3ff%27%2C%20%27%23d9f0a3ff%27%2C%20%27%23d9f0a3ff%27%2C%20%27%23d9f0a3ff%27%2C%20%27%23d9f0a3ff%27%2C%20%27%23d9f0a3ff%27%2C%20%27%23d9f0a3ff%27%2C%20%27%23d9f0a3ff%27%2C%20%27%23d9f0a3ff%27%2C%20%27%23d9f0a3ff%27%2C%20%27%23d9f0a3ff%27%2C%20%27%23d9f0a3ff%27%2C%20%27%23d9f0a3ff%27%2C%20%27%23d9f0a3ff%27%2C%20%27%23d9f0a3ff%27%2C%20%27%23d9f0a3ff%27%2C%20%27%23d9f0a3ff%27%2C%20%27%23d9f0a3ff%27%2C%20%27%23d9f0a3ff%27%2C%20%27%23d9f0a3ff%27%2C%20%27%23d9f0a3ff%27%2C%20%27%23d9f0a3ff%27%2C%20%27%23d9f0a3ff%27%2C%20%27%23d9f0a3ff%27%2C%20%27%23d9f0a3ff%27%2C%20%27%23d9f0a3ff%27%2C%20%27%23d9f0a3ff%27%2C%20%27%23d9f0a3ff%27%2C%20%27%23d9f0a3ff%27%2C%20%27%23d9f0a3ff%27%2C%20%27%23d9f0a3ff%27%2C%20%27%23d9f0a3ff%27%2C%20%27%23d9f0a3ff%27%2C%20%27%23d9f0a3ff%27%2C%20%27%23d9f0a3ff%27%2C%20%27%23d9f0a3ff%27%2C%20%27%23d9f0a3ff%27%2C%20%27%23d9f0a3ff%27%2C%20%27%23d9f0a3ff%27%2C%20%27%23d9f0a3ff%27%2C%20%27%23d9f0a3ff%27%2C%20%27%23d9f0a3ff%27%2C%20%27%23d9f0a3ff%27%2C%20%27%23d9f0a3ff%27%2C%20%27%23d9f0a3ff%27%2C%20%27%23d9f0a3ff%27%2C%20%27%23d9f0a3ff%27%2C%20%27%23d9f0a3ff%27%2C%20%27%23d9f0a3ff%27%2C%20%27%23d9f0a3ff%27%2C%20%27%23d9f0a3ff%27%2C%20%27%23d9f0a3ff%27%2C%20%27%23d9f0a3ff%27%2C%20%27%23d9f0a3ff%27%2C%20%27%23d9f0a3ff%27%2C%20%27%23d9f0a3ff%27%2C%20%27%23addd8eff%27%2C%20%27%23addd8eff%27%2C%20%27%23addd8eff%27%2C%20%27%23addd8eff%27%2C%20%27%23addd8eff%27%2C%20%27%23addd8eff%27%2C%20%27%23addd8eff%27%2C%20%27%23addd8eff%27%2C%20%27%23addd8eff%27%2C%20%27%23addd8eff%27%2C%20%27%23addd8eff%27%2C%20%27%23addd8eff%27%2C%20%27%23addd8eff%27%2C%20%27%23addd8eff%27%2C%20%27%23addd8eff%27%2C%20%27%23addd8eff%27%2C%20%27%23addd8eff%27%2C%20%27%23addd8eff%27%2C%20%27%23addd8eff%27%2C%20%27%23addd8eff%27%2C%20%27%23addd8eff%27%2C%20%27%23addd8eff%27%2C%20%27%23addd8eff%27%2C%20%27%23addd8eff%27%2C%20%27%23addd8eff%27%2C%20%27%23addd8eff%27%2C%20%27%23addd8eff%27%2C%20%27%23addd8eff%27%2C%20%27%23addd8eff%27%2C%20%27%23addd8eff%27%2C%20%27%23addd8eff%27%2C%20%27%23addd8eff%27%2C%20%27%23addd8eff%27%2C%20%27%23addd8eff%27%2C%20%27%23addd8eff%27%2C%20%27%23addd8eff%27%2C%20%27%23addd8eff%27%2C%20%27%23addd8eff%27%2C%20%27%23addd8eff%27%2C%20%27%23addd8eff%27%2C%20%27%23addd8eff%27%2C%20%27%23addd8eff%27%2C%20%27%23addd8eff%27%2C%20%27%23addd8eff%27%2C%20%27%23addd8eff%27%2C%20%27%23addd8eff%27%2C%20%27%23addd8eff%27%2C%20%27%23addd8eff%27%2C%20%27%23addd8eff%27%2C%20%27%23addd8eff%27%2C%20%27%23addd8eff%27%2C%20%27%23addd8eff%27%2C%20%27%23addd8eff%27%2C%20%27%23addd8eff%27%2C%20%27%23addd8eff%27%2C%20%27%23addd8eff%27%2C%20%27%23addd8eff%27%2C%20%27%23addd8eff%27%2C%20%27%23addd8eff%27%2C%20%27%23addd8eff%27%2C%20%27%23addd8eff%27%2C%20%27%23addd8eff%27%2C%20%27%23addd8eff%27%2C%20%27%23addd8eff%27%2C%20%27%23addd8eff%27%2C%20%27%23addd8eff%27%2C%20%27%23addd8eff%27%2C%20%27%23addd8eff%27%2C%20%27%23addd8eff%27%2C%20%27%23addd8eff%27%2C%20%27%23addd8eff%27%2C%20%27%23addd8eff%27%2C%20%27%23addd8eff%27%2C%20%27%23addd8eff%27%2C%20%27%23addd8eff%27%2C%20%27%23addd8eff%27%2C%20%27%23addd8eff%27%2C%20%27%23addd8eff%27%2C%20%27%23addd8eff%27%2C%20%27%23addd8eff%27%2C%20%27%23addd8eff%27%2C%20%27%23addd8eff%27%2C%20%27%23addd8eff%27%2C%20%27%2378c679ff%27%2C%20%27%2378c679ff%27%2C%20%27%2378c679ff%27%2C%20%27%2378c679ff%27%2C%20%27%2378c679ff%27%2C%20%27%2378c679ff%27%2C%20%27%2378c679ff%27%2C%20%27%2378c679ff%27%2C%20%27%2378c679ff%27%2C%20%27%2378c679ff%27%2C%20%27%2378c679ff%27%2C%20%27%2378c679ff%27%2C%20%27%2378c679ff%27%2C%20%27%2378c679ff%27%2C%20%27%2378c679ff%27%2C%20%27%2378c679ff%27%2C%20%27%2378c679ff%27%2C%20%27%2378c679ff%27%2C%20%27%2378c679ff%27%2C%20%27%2378c679ff%27%2C%20%27%2378c679ff%27%2C%20%27%2378c679ff%27%2C%20%27%2378c679ff%27%2C%20%27%2378c679ff%27%2C%20%27%2378c679ff%27%2C%20%27%2378c679ff%27%2C%20%27%2378c679ff%27%2C%20%27%2378c679ff%27%2C%20%27%2378c679ff%27%2C%20%27%2378c679ff%27%2C%20%27%2378c679ff%27%2C%20%27%2378c679ff%27%2C%20%27%2378c679ff%27%2C%20%27%2378c679ff%27%2C%20%27%2378c679ff%27%2C%20%27%2378c679ff%27%2C%20%27%2378c679ff%27%2C%20%27%2378c679ff%27%2C%20%27%2378c679ff%27%2C%20%27%2378c679ff%27%2C%20%27%2378c679ff%27%2C%20%27%2378c679ff%27%2C%20%27%2378c679ff%27%2C%20%27%2378c679ff%27%2C%20%27%2378c679ff%27%2C%20%27%2378c679ff%27%2C%20%27%2378c679ff%27%2C%20%27%2378c679ff%27%2C%20%27%2378c679ff%27%2C%20%27%2378c679ff%27%2C%20%27%2378c679ff%27%2C%20%27%2378c679ff%27%2C%20%27%2378c679ff%27%2C%20%27%2378c679ff%27%2C%20%27%2378c679ff%27%2C%20%27%2378c679ff%27%2C%20%27%2378c679ff%27%2C%20%27%2378c679ff%27%2C%20%27%2378c679ff%27%2C%20%27%2378c679ff%27%2C%20%27%2378c679ff%27%2C%20%27%2378c679ff%27%2C%20%27%2378c679ff%27%2C%20%27%2378c679ff%27%2C%20%27%2378c679ff%27%2C%20%27%2378c679ff%27%2C%20%27%2378c679ff%27%2C%20%27%2378c679ff%27%2C%20%27%2378c679ff%27%2C%20%27%2378c679ff%27%2C%20%27%2378c679ff%27%2C%20%27%2378c679ff%27%2C%20%27%2378c679ff%27%2C%20%27%2378c679ff%27%2C%20%27%2378c679ff%27%2C%20%27%2378c679ff%27%2C%20%27%2378c679ff%27%2C%20%27%2378c679ff%27%2C%20%27%2378c679ff%27%2C%20%27%2378c679ff%27%2C%20%27%2378c679ff%27%2C%20%27%2378c679ff%27%2C%20%27%2378c679ff%27%2C%20%27%2331a354ff%27%2C%20%27%2331a354ff%27%2C%20%27%2331a354ff%27%2C%20%27%2331a354ff%27%2C%20%27%2331a354ff%27%2C%20%27%2331a354ff%27%2C%20%27%2331a354ff%27%2C%20%27%2331a354ff%27%2C%20%27%2331a354ff%27%2C%20%27%2331a354ff%27%2C%20%27%2331a354ff%27%2C%20%27%2331a354ff%27%2C%20%27%2331a354ff%27%2C%20%27%2331a354ff%27%2C%20%27%2331a354ff%27%2C%20%27%2331a354ff%27%2C%20%27%2331a354ff%27%2C%20%27%2331a354ff%27%2C%20%27%2331a354ff%27%2C%20%27%2331a354ff%27%2C%20%27%2331a354ff%27%2C%20%27%2331a354ff%27%2C%20%27%2331a354ff%27%2C%20%27%2331a354ff%27%2C%20%27%2331a354ff%27%2C%20%27%2331a354ff%27%2C%20%27%2331a354ff%27%2C%20%27%2331a354ff%27%2C%20%27%2331a354ff%27%2C%20%27%2331a354ff%27%2C%20%27%2331a354ff%27%2C%20%27%2331a354ff%27%2C%20%27%2331a354ff%27%2C%20%27%2331a354ff%27%2C%20%27%2331a354ff%27%2C%20%27%2331a354ff%27%2C%20%27%2331a354ff%27%2C%20%27%2331a354ff%27%2C%20%27%2331a354ff%27%2C%20%27%2331a354ff%27%2C%20%27%2331a354ff%27%2C%20%27%2331a354ff%27%2C%20%27%2331a354ff%27%2C%20%27%2331a354ff%27%2C%20%27%2331a354ff%27%2C%20%27%2331a354ff%27%2C%20%27%2331a354ff%27%2C%20%27%2331a354ff%27%2C%20%27%2331a354ff%27%2C%20%27%2331a354ff%27%2C%20%27%2331a354ff%27%2C%20%27%2331a354ff%27%2C%20%27%2331a354ff%27%2C%20%27%2331a354ff%27%2C%20%27%2331a354ff%27%2C%20%27%2331a354ff%27%2C%20%27%2331a354ff%27%2C%20%27%2331a354ff%27%2C%20%27%2331a354ff%27%2C%20%27%2331a354ff%27%2C%20%27%2331a354ff%27%2C%20%27%2331a354ff%27%2C%20%27%2331a354ff%27%2C%20%27%2331a354ff%27%2C%20%27%2331a354ff%27%2C%20%27%2331a354ff%27%2C%20%27%2331a354ff%27%2C%20%27%2331a354ff%27%2C%20%27%2331a354ff%27%2C%20%27%2331a354ff%27%2C%20%27%2331a354ff%27%2C%20%27%2331a354ff%27%2C%20%27%2331a354ff%27%2C%20%27%2331a354ff%27%2C%20%27%2331a354ff%27%2C%20%27%2331a354ff%27%2C%20%27%2331a354ff%27%2C%20%27%2331a354ff%27%2C%20%27%2331a354ff%27%2C%20%27%2331a354ff%27%2C%20%27%2331a354ff%27%2C%20%27%2331a354ff%27%2C%20%27%2331a354ff%27%2C%20%27%23006837ff%27%2C%20%27%23006837ff%27%2C%20%27%23006837ff%27%2C%20%27%23006837ff%27%2C%20%27%23006837ff%27%2C%20%27%23006837ff%27%2C%20%27%23006837ff%27%2C%20%27%23006837ff%27%2C%20%27%23006837ff%27%2C%20%27%23006837ff%27%2C%20%27%23006837ff%27%2C%20%27%23006837ff%27%2C%20%27%23006837ff%27%2C%20%27%23006837ff%27%2C%20%27%23006837ff%27%2C%20%27%23006837ff%27%2C%20%27%23006837ff%27%2C%20%27%23006837ff%27%2C%20%27%23006837ff%27%2C%20%27%23006837ff%27%2C%20%27%23006837ff%27%2C%20%27%23006837ff%27%2C%20%27%23006837ff%27%2C%20%27%23006837ff%27%2C%20%27%23006837ff%27%2C%20%27%23006837ff%27%2C%20%27%23006837ff%27%2C%20%27%23006837ff%27%2C%20%27%23006837ff%27%2C%20%27%23006837ff%27%2C%20%27%23006837ff%27%2C%20%27%23006837ff%27%2C%20%27%23006837ff%27%2C%20%27%23006837ff%27%2C%20%27%23006837ff%27%2C%20%27%23006837ff%27%2C%20%27%23006837ff%27%2C%20%27%23006837ff%27%2C%20%27%23006837ff%27%2C%20%27%23006837ff%27%2C%20%27%23006837ff%27%2C%20%27%23006837ff%27%2C%20%27%23006837ff%27%2C%20%27%23006837ff%27%2C%20%27%23006837ff%27%2C%20%27%23006837ff%27%2C%20%27%23006837ff%27%2C%20%27%23006837ff%27%2C%20%27%23006837ff%27%2C%20%27%23006837ff%27%2C%20%27%23006837ff%27%2C%20%27%23006837ff%27%2C%20%27%23006837ff%27%2C%20%27%23006837ff%27%2C%20%27%23006837ff%27%2C%20%27%23006837ff%27%2C%20%27%23006837ff%27%2C%20%27%23006837ff%27%2C%20%27%23006837ff%27%2C%20%27%23006837ff%27%2C%20%27%23006837ff%27%2C%20%27%23006837ff%27%2C%20%27%23006837ff%27%2C%20%27%23006837ff%27%2C%20%27%23006837ff%27%2C%20%27%23006837ff%27%2C%20%27%23006837ff%27%2C%20%27%23006837ff%27%2C%20%27%23006837ff%27%2C%20%27%23006837ff%27%2C%20%27%23006837ff%27%2C%20%27%23006837ff%27%2C%20%27%23006837ff%27%2C%20%27%23006837ff%27%2C%20%27%23006837ff%27%2C%20%27%23006837ff%27%2C%20%27%23006837ff%27%2C%20%27%23006837ff%27%2C%20%27%23006837ff%27%2C%20%27%23006837ff%27%2C%20%27%23006837ff%27%2C%20%27%23006837ff%27%2C%20%27%23006837ff%27%2C%20%27%23006837ff%27%5D%29%3B%0A%20%20%20%20%0A%0A%20%20%20%20color_map_05648ffdc63d4bfdbddcfa3a34c63be3.x%20%3D%20d3.scale.linear%28%29%0A%20%20%20%20%20%20%20%20%20%20%20%20%20%20.domain%28%5B1.0%2C%2069035.0%5D%29%0A%20%20%20%20%20%20%20%20%20%20%20%20%20%20.range%28%5B0%2C%20400%5D%29%3B%0A%0A%20%20%20%20color_map_05648ffdc63d4bfdbddcfa3a34c63be3.legend%20%3D%20L.control%28%7Bposition%3A%20%27topright%27%7D%29%3B%0A%20%20%20%20color_map_05648ffdc63d4bfdbddcfa3a34c63be3.legend.onAdd%20%3D%20function%20%28map%29%20%7Bvar%20div%20%3D%20L.DomUtil.create%28%27div%27%2C%20%27legend%27%29%3B%20return%20div%7D%3B%0A%20%20%20%20color_map_05648ffdc63d4bfdbddcfa3a34c63be3.legend.addTo%28map_f769132f1cbd4bcf9a48ff98fee7acdb%29%3B%0A%0A%20%20%20%20color_map_05648ffdc63d4bfdbddcfa3a34c63be3.xAxis%20%3D%20d3.svg.axis%28%29%0A%20%20%20%20%20%20%20%20.scale%28color_map_05648ffdc63d4bfdbddcfa3a34c63be3.x%29%0A%20%20%20%20%20%20%20%20.orient%28%22top%22%29%0A%20%20%20%20%20%20%20%20.tickSize%281%29%0A%20%20%20%20%20%20%20%20.tickValues%28%5B1.0%2C%2011506.666666666666%2C%2023012.333333333332%2C%2034518.0%2C%2046023.666666666664%2C%2057529.33333333333%2C%2069035.0%5D%29%3B%0A%0A%20%20%20%20color_map_05648ffdc63d4bfdbddcfa3a34c63be3.svg%20%3D%20d3.select%28%22.legend.leaflet-control%22%29.append%28%22svg%22%29%0A%20%20%20%20%20%20%20%20.attr%28%22id%22%2C%20%27legend%27%29%0A%20%20%20%20%20%20%20%20.attr%28%22width%22%2C%20450%29%0A%20%20%20%20%20%20%20%20.attr%28%22height%22%2C%2040%29%3B%0A%0A%20%20%20%20color_map_05648ffdc63d4bfdbddcfa3a34c63be3.g%20%3D%20color_map_05648ffdc63d4bfdbddcfa3a34c63be3.svg.append%28%22g%22%29%0A%20%20%20%20%20%20%20%20.attr%28%22class%22%2C%20%22key%22%29%0A%20%20%20%20%20%20%20%20.attr%28%22transform%22%2C%20%22translate%2825%2C16%29%22%29%3B%0A%0A%20%20%20%20color_map_05648ffdc63d4bfdbddcfa3a34c63be3.g.selectAll%28%22rect%22%29%0A%20%20%20%20%20%20%20%20.data%28color_map_05648ffdc63d4bfdbddcfa3a34c63be3.color.range%28%29.map%28function%28d%2C%20i%29%20%7B%0A%20%20%20%20%20%20%20%20%20%20return%20%7B%0A%20%20%20%20%20%20%20%20%20%20%20%20x0%3A%20i%20%3F%20color_map_05648ffdc63d4bfdbddcfa3a34c63be3.x%28color_map_05648ffdc63d4bfdbddcfa3a34c63be3.color.domain%28%29%5Bi%20-%201%5D%29%20%3A%20color_map_05648ffdc63d4bfdbddcfa3a34c63be3.x.range%28%29%5B0%5D%2C%0A%20%20%20%20%20%20%20%20%20%20%20%20x1%3A%20i%20%3C%20color_map_05648ffdc63d4bfdbddcfa3a34c63be3.color.domain%28%29.length%20%3F%20color_map_05648ffdc63d4bfdbddcfa3a34c63be3.x%28color_map_05648ffdc63d4bfdbddcfa3a34c63be3.color.domain%28%29%5Bi%5D%29%20%3A%20color_map_05648ffdc63d4bfdbddcfa3a34c63be3.x.range%28%29%5B1%5D%2C%0A%20%20%20%20%20%20%20%20%20%20%20%20z%3A%20d%0A%20%20%20%20%20%20%20%20%20%20%7D%3B%0A%20%20%20%20%20%20%20%20%7D%29%29%0A%20%20%20%20%20%20.enter%28%29.append%28%22rect%22%29%0A%20%20%20%20%20%20%20%20.attr%28%22height%22%2C%2010%29%0A%20%20%20%20%20%20%20%20.attr%28%22x%22%2C%20function%28d%29%20%7B%20return%20d.x0%3B%20%7D%29%0A%20%20%20%20%20%20%20%20.attr%28%22width%22%2C%20function%28d%29%20%7B%20return%20d.x1%20-%20d.x0%3B%20%7D%29%0A%20%20%20%20%20%20%20%20.style%28%22fill%22%2C%20function%28d%29%20%7B%20return%20d.z%3B%20%7D%29%3B%0A%0A%20%20%20%20color_map_05648ffdc63d4bfdbddcfa3a34c63be3.g.call%28color_map_05648ffdc63d4bfdbddcfa3a34c63be3.xAxis%29.append%28%22text%22%29%0A%20%20%20%20%20%20%20%20.attr%28%22class%22%2C%20%22caption%22%29%0A%20%20%20%20%20%20%20%20.attr%28%22y%22%2C%2021%29%0A%20%20%20%20%20%20%20%20.text%28%27Distribution%20of%20pickups%27%29%3B%0A%20%20%20%20%0A%20%20%20%20%20%20%20%20%20%20%20%20var%20layer_control_8532508ca38a42fd867037df6e617123%20%3D%20%7B%0A%20%20%20%20%20%20%20%20%20%20%20%20%20%20%20%20base_layers%20%3A%20%7B%0A%20%20%20%20%20%20%20%20%20%20%20%20%20%20%20%20%20%20%20%20%22openstreetmap%22%20%3A%20tile_layer_31a7f0289bf44d5295672f4e8117a127%2C%0A%20%20%20%20%20%20%20%20%20%20%20%20%20%20%20%20%7D%2C%0A%20%20%20%20%20%20%20%20%20%20%20%20%20%20%20%20overlays%20%3A%20%20%7B%0A%20%20%20%20%20%20%20%20%20%20%20%20%20%20%20%20%20%20%20%20%22macro_element_858a7eb30a564a7f820f71f8ca71cd3b%22%20%3A%20choropleth_858a7eb30a564a7f820f71f8ca71cd3b%2C%0A%20%20%20%20%20%20%20%20%20%20%20%20%20%20%20%20%7D%2C%0A%20%20%20%20%20%20%20%20%20%20%20%20%7D%3B%0A%20%20%20%20%20%20%20%20%20%20%20%20L.control.layers%28%0A%20%20%20%20%20%20%20%20%20%20%20%20%20%20%20%20layer_control_8532508ca38a42fd867037df6e617123.base_layers%2C%0A%20%20%20%20%20%20%20%20%20%20%20%20%20%20%20%20layer_control_8532508ca38a42fd867037df6e617123.overlays%2C%0A%20%20%20%20%20%20%20%20%20%20%20%20%20%20%20%20%7B%22autoZIndex%22%3A%20true%2C%20%22collapsed%22%3A%20true%2C%20%22position%22%3A%20%22topright%22%7D%0A%20%20%20%20%20%20%20%20%20%20%20%20%29.addTo%28map_f769132f1cbd4bcf9a48ff98fee7acdb%29%3B%0A%20%20%20%20%20%20%20%20%0A%3C/script%3E onload=\"this.contentDocument.open();this.contentDocument.write(    decodeURIComponent(this.getAttribute('data-html')));this.contentDocument.close();\" allowfullscreen webkitallowfullscreen mozallowfullscreen></iframe></div></div>"
      ],
      "text/plain": [
       "<folium.folium.Map at 0x7fe6330ad860>"
      ]
     },
     "execution_count": 85,
     "metadata": {},
     "output_type": "execute_result"
    }
   ],
   "source": [
    "figure4()"
   ]
  },
  {
   "cell_type": "markdown",
   "metadata": {},
   "source": [
    "Create a scatter plot that compares tip amount versus distance for Yellow Taxi rides. You may remove any outliers how you see fit.\n"
   ]
  },
  {
   "cell_type": "code",
   "execution_count": 86,
   "metadata": {},
   "outputs": [],
   "source": [
    "def estimate_gaussian(dataset):\n",
    "    # define a function to sort out outliers\n",
    "    mu = np.mean(dataset) # moyenne cf mu\n",
    "    sigma = np.std(dataset) # standard deviation\n",
    "    limit = sigma * 1.5\n",
    "\n",
    "    min_threshold = mu - limit\n",
    "    max_threshold = mu + limit\n",
    "\n",
    "    return mu, sigma, min_threshold, max_threshold"
   ]
  },
  {
   "cell_type": "code",
   "execution_count": 99,
   "metadata": {},
   "outputs": [],
   "source": [
    "def figure5():\n",
    "    query1 = '''\n",
    "    select \n",
    "    tip,\n",
    "    distance\n",
    "\n",
    "    from \n",
    "\n",
    "    yellow_taxi\n",
    "    '''\n",
    "    \n",
    "    df = pd.DataFrame(data = engine.execute(query1).fetchall(),columns = ['tip','distance'])\n",
    "    \n",
    "    #In order to compute ratio, make sure that the distance is not zero\n",
    "    df['distance'] = df['distance'].apply(lambda x: x+1e-5 if x==0 else x)\n",
    "    df['ratio'] = df['tip']/df['distance']\n",
    "    \n",
    "    mu, sigma, min_threshold, max_threshold = estimate_gaussian(df['ratio'].values)\n",
    "\n",
    "    condition1 = (df['ratio'] < min_threshold)\n",
    "    condition2 = (df['ratio'] > max_threshold)\n",
    "    \n",
    "    outliers1 = np.extract(condition1, df['ratio'])\n",
    "    outliers2 = np.extract(condition2, df['ratio'])\n",
    "\n",
    "    outliers = np.concatenate((outliers1, outliers2), axis=0)\n",
    "    df_red = df[df['ratio'].isin(outliers)]\n",
    "    df = df[~df['ratio'].isin(outliers)]\n",
    "    \n",
    "    #assign different colors to normal points and outliers \n",
    "    plt.scatter(df['distance'],df['tip'],label = 'normal',zorder = 0)\n",
    "    plt.scatter(df_red['distance'],df_red['tip'], c ='brown',label = 'outliers',zorder = 1)\n",
    "    #add a fitted line \n",
    "    plt.plot(df['distance'], np.poly1d(np.polyfit(df['distance'], df['tip'], 1))(df['distance']),color = 'purple',label = 'fitted_values')\n",
    "    \n",
    "    plt.title('Relationship between tips and distance')\n",
    "    plt.xlabel('Distance')\n",
    "    plt.ylabel('Tips')\n",
    "    plt.legend()\n",
    "    plt.show()\n",
    "    "
   ]
  },
  {
   "cell_type": "code",
   "execution_count": 100,
   "metadata": {},
   "outputs": [
    {
     "name": "stdout",
     "output_type": "stream",
     "text": [
      "[sqlalchemy] \n",
      "    select \n",
      "    tip,\n",
      "    distance\n",
      "\n",
      "    from \n",
      "\n",
      "    yellow_taxi\n",
      "    \n",
      "[sqlalchemy] [raw sql] ()\n"
     ]
    },
    {
     "data": {
      "image/png": "[encoded data removed]",
      "text/plain": [
       "<Figure size 576x396 with 1 Axes>"
      ]
     },
     "metadata": {},
     "output_type": "display_data"
    }
   ],
   "source": [
    "figure5()"
   ]
  },
  {
   "cell_type": "markdown",
   "metadata": {},
   "source": [
    "As a whole, the tips are positively related to the distance. "
   ]
  },
  {
   "cell_type": "markdown",
   "metadata": {},
   "source": [
    "Create another scatter plot that compares tip amount versus precipitation amount for Yellow Taxi rides. You may remove any outliers how you see fit."
   ]
  },
  {
   "cell_type": "code",
   "execution_count": 101,
   "metadata": {},
   "outputs": [],
   "source": [
    "def figure6():\n",
    "    query1 = '''\n",
    "    select \n",
    "    t_1.date as date,\n",
    "    t_1.tip as tip,\n",
    "    t_2.precipitation as precipitation\n",
    "\n",
    "    from \n",
    "\n",
    "    (select\n",
    "\n",
    "    strftime ('%Y-%m-%d',pickup_time) as date,\n",
    "    avg(tip) as tip \n",
    "\n",
    "    from \n",
    "    yellow_taxi\n",
    "\n",
    "    group by \n",
    "    strftime ('%Y-%m-%d',pickup_time) \n",
    "    )t_1\n",
    "\n",
    "    left join \n",
    "\n",
    "    (select \n",
    "    strftime ('%Y-%m-%d',date) as date,\n",
    "    precipitation    \n",
    "\n",
    "    from \n",
    "    weather_daily\n",
    "    )t_2\n",
    "\n",
    "    on \n",
    "    t_1.date = t_2.date\n",
    "    '''\n",
    "    #similar logic as figure 5\n",
    "    df = pd.DataFrame(data = engine.execute(query1).fetchall(),columns = ['hourly_date','tip','precipitation'])\n",
    "\n",
    "    df['ratio'] = df['tip']/(df['precipitation'].apply(lambda x: x+0.0000001 if x==0 else x))\n",
    "    \n",
    "    mu, sigma, min_threshold, max_threshold = estimate_gaussian(df['ratio'].values)\n",
    "\n",
    "    condition1 = (df['ratio'] < min_threshold)\n",
    "    condition2 = (df['ratio'] > max_threshold)\n",
    "    \n",
    "    outliers1 = np.extract(condition1, df['ratio'])\n",
    "    outliers2 = np.extract(condition2, df['ratio'])\n",
    "\n",
    "    outliers = np.concatenate((outliers1, outliers2), axis=0)\n",
    "    df_red = df[df['ratio'].isin(outliers)]\n",
    "    df = df[~df['ratio'].isin(outliers)]\n",
    "    \n",
    "    plt.scatter(df['precipitation'],df['tip'],label = 'normal',zorder = 0)\n",
    "    plt.scatter(df_red['precipitation'],df_red['tip'], c ='brown',label = 'outliers',zorder = 1)\n",
    "    \n",
    "    plt.title('Relationship between tips and precipitation')\n",
    "    plt.xlabel('Precipitation')\n",
    "    plt.ylabel('Tips')\n",
    "    plt.legend()\n",
    "    plt.show()\n",
    "    "
   ]
  },
  {
   "cell_type": "code",
   "execution_count": 102,
   "metadata": {
    "scrolled": true
   },
   "outputs": [
    {
     "name": "stdout",
     "output_type": "stream",
     "text": [
      "[sqlalchemy] \n",
      "    select \n",
      "    t_1.date as date,\n",
      "    t_1.tip as tip,\n",
      "    t_2.precipitation as precipitation\n",
      "\n",
      "    from \n",
      "\n",
      "    (select\n",
      "\n",
      "    strftime ('%Y-%m-%d',pickup_time) as date,\n",
      "    avg(tip) as tip \n",
      "\n",
      "    from \n",
      "    yellow_taxi\n",
      "\n",
      "    group by \n",
      "    strftime ('%Y-%m-%d',pickup_time) \n",
      "    )t_1\n",
      "\n",
      "    left join \n",
      "\n",
      "    (select \n",
      "    strftime ('%Y-%m-%d',date) as date,\n",
      "    precipitation    \n",
      "\n",
      "    from \n",
      "    weather_daily\n",
      "    )t_2\n",
      "\n",
      "    on \n",
      "    t_1.date = t_2.date\n",
      "    \n",
      "[sqlalchemy] [raw sql] ()\n"
     ]
    },
    {
     "data": {
      "image/png": "[encoded data removed]",
      "text/plain": [
       "<Figure size 576x396 with 1 Axes>"
      ]
     },
     "metadata": {},
     "output_type": "display_data"
    }
   ],
   "source": [
    "figure6()"
   ]
  },
  {
   "cell_type": "markdown",
   "metadata": {},
   "source": [
    "No particular trend has been detected"
   ]
  },
  {
   "cell_type": "markdown",
   "metadata": {},
   "source": [
    "Come up with 3 questions on your own that can be answered based on the data in the 4 tables. Create at least one visualization to answer each question. At least one visualization should require data from at least 3 tables.\n"
   ]
  },
  {
   "cell_type": "markdown",
   "metadata": {},
   "source": [
    "<li> 1.What is the trend of yellow taxi' tips during one year?"
   ]
  },
  {
   "cell_type": "code",
   "execution_count": 91,
   "metadata": {},
   "outputs": [],
   "source": [
    "def figure7_1():\n",
    "    query1 = '''\n",
    "    select \n",
    "    strftime ('%m',pickup_time) as date,\n",
    "    avg(tip) as tip\n",
    "\n",
    "    from \n",
    "\n",
    "    yellow_taxi\n",
    "\n",
    "    group by \n",
    "\n",
    "    strftime ('%m',pickup_time) \n",
    "    '''\n",
    "    \n",
    "    df = pd.DataFrame(data = engine.execute(query1).fetchall(),columns = ['month','tip'])\n",
    "\n",
    "    plt.plot(df['month'],df['tip'])\n",
    "     \n",
    "    plt.title('Trend of tips')\n",
    "    plt.xlabel('Month')\n",
    "    plt.ylabel('Tips')\n",
    "    plt.show()\n",
    "    "
   ]
  },
  {
   "cell_type": "code",
   "execution_count": 92,
   "metadata": {
    "scrolled": true
   },
   "outputs": [
    {
     "name": "stdout",
     "output_type": "stream",
     "text": [
      "[sqlalchemy] \n",
      "    select \n",
      "    strftime ('%m',pickup_time) as date,\n",
      "    avg(tip) as tip\n",
      "\n",
      "    from \n",
      "\n",
      "    yellow_taxi\n",
      "\n",
      "    group by \n",
      "\n",
      "    strftime ('%m',pickup_time) \n",
      "    \n",
      "[sqlalchemy] [raw sql] ()\n"
     ]
    },
    {
     "data": {
      "image/png": "[encoded data removed]",
      "text/plain": [
       "<Figure size 576x396 with 1 Axes>"
      ]
     },
     "metadata": {},
     "output_type": "display_data"
    }
   ],
   "source": [
    "figure7_1()"
   ]
  },
  {
   "cell_type": "markdown",
   "metadata": {},
   "source": [
    "The tips increases as the weather gets colder, especially in winter."
   ]
  },
  {
   "cell_type": "markdown",
   "metadata": {},
   "source": [
    "<li> 2.What is the relationship between precpitation and charge for all hired trips? (widget on year)"
   ]
  },
  {
   "cell_type": "code",
   "execution_count": 103,
   "metadata": {},
   "outputs": [],
   "source": [
    "def figure7_2(selected_year = 2009):\n",
    "    query1 = '''\n",
    "    select \n",
    "    t_1.year as year,\n",
    "    t_1.date as date,\n",
    "    t_1.precipitation as precipitation,\n",
    "    t_2.avg_charge as avg_charge\n",
    "\n",
    "\n",
    "    from \n",
    "\n",
    "\n",
    "    (select \n",
    "    strftime ('%Y',date) as year,\n",
    "    strftime ('%Y-%m-%d',date) as date,\n",
    "    precipitation \n",
    "\n",
    "    from \n",
    "\n",
    "    weather_daily\n",
    "\n",
    "    where date between '2009-01-01' and '2015-12-31'\n",
    "    )t_1\n",
    "\n",
    "    left join \n",
    "\n",
    "    (select\n",
    "\n",
    "    strftime ('%Y',pickup_time) as year,\n",
    "    strftime ('%Y-%m-%d',pickup_time) as date,\n",
    "    avg(charge) as avg_charge \n",
    "\n",
    "    from \n",
    "\n",
    "    yellow_taxi\n",
    "\n",
    "    where pickup_time between '2009-01-01' and '2015-12-31'\n",
    "\n",
    "    group by \n",
    "    strftime ('%Y-%m-%d',pickup_time) \n",
    "\n",
    "    union \n",
    "\n",
    "    select\n",
    "\n",
    "    strftime ('%Y',pickup_time) as year,\n",
    "    strftime ('%Y-%m-%d',pickup_time)  as date,\n",
    "    avg(charge) as avg_charge \n",
    "\n",
    "    from \n",
    "\n",
    "    Uber\n",
    "\n",
    "    where pickup_time between '2009-01-01' and '2015-12-31'\n",
    "\n",
    "    group by \n",
    "    strftime ('%Y-%m-%d',pickup_time) \n",
    "    )t_2\n",
    "\n",
    "    on t_1.date = t_2.date\n",
    "    and t_1.year = t_2.year\n",
    "\n",
    "    '''\n",
    "    df = pd.DataFrame(data = engine.execute(query1).fetchall(),columns = ['year','date','precipitation','avg_charge'])\n",
    "    df.year = df.year.astype(int)\n",
    "    df = df[df.year == selected_year]\n",
    "    fig,ax = plt.subplots()\n",
    "    df.plot(kind=\"scatter\", x=\"precipitation\", y=\"avg_charge\", label=\"average charge\",figsize=(10,7),ax=ax)\n",
    "    plt.legend()\n",
    "    plt.show();\n",
    "    "
   ]
  },
  {
   "cell_type": "code",
   "execution_count": 104,
   "metadata": {
    "scrolled": false
   },
   "outputs": [
    {
     "data": {
      "application/vnd.jupyter.widget-view+json": {
       "model_id": "5f7da9c98afe4ef7b903925d3534aab1",
       "version_major": 2,
       "version_minor": 0
      },
      "text/plain": [
       "interactive(children=(Dropdown(description='selected_year', options=(2009, 2010, 2011, 2012, 2013, 2014, 2015)…"
      ]
     },
     "metadata": {},
     "output_type": "display_data"
    },
    {
     "data": {
      "text/plain": [
       "<function __main__.figure7_2(selected_year=2009)>"
      ]
     },
     "execution_count": 104,
     "metadata": {},
     "output_type": "execute_result"
    }
   ],
   "source": [
    "interact(figure7_2,\n",
    "            selected_year = [2009,2010,2011,2012,2013,2014,2015])"
   ]
  },
  {
   "cell_type": "markdown",
   "metadata": {},
   "source": [
    "No significant relationship has been found, the distribution seems to have no pattern"
   ]
  },
  {
   "cell_type": "markdown",
   "metadata": {},
   "source": [
    "<li> 3.What is the relationship between tip amount and hours? (wdiget on day)"
   ]
  },
  {
   "cell_type": "code",
   "execution_count": 105,
   "metadata": {},
   "outputs": [],
   "source": [
    "def figure7_3(selected_weekday = 'Monday'):\n",
    "    query1 = '''\n",
    "    select \n",
    "    strftime ('%H',pickup_time) as hour,\n",
    "    strftime ('%w',pickup_time) as day,\n",
    "    tip\n",
    "\n",
    "\n",
    "    from \n",
    "\n",
    "    yellow_taxi\n",
    "    '''\n",
    "    df = pd.DataFrame(data = engine.execute(query1).fetchall(),columns = ['hour','day','tip'])\n",
    "    df = df.astype({'hour':int,'day':int})\n",
    "    df = df.groupby(['day','hour']).mean()\n",
    "    df.index.set_levels([[u'Sunday', u'Monday', u'Tuesday', u'Wednesday',u'Thursday',u'Friday',u'Saturday'],np.arange(0,24)], inplace=True)\n",
    "    df = df.loc[selected_weekday].reset_index()\n",
    "    plt.bar(df['hour'],df['tip']);\n",
    "\n",
    "    "
   ]
  },
  {
   "cell_type": "code",
   "execution_count": 106,
   "metadata": {},
   "outputs": [
    {
     "data": {
      "application/vnd.jupyter.widget-view+json": {
       "model_id": "a04bcd29a8044adf8ba991e1e5787219",
       "version_major": 2,
       "version_minor": 0
      },
      "text/plain": [
       "interactive(children=(Dropdown(description='selected_weekday', options=('Monday', 'Tuesday', 'Wednesday', 'Thu…"
      ]
     },
     "metadata": {},
     "output_type": "display_data"
    },
    {
     "data": {
      "text/plain": [
       "<function __main__.figure7_3(selected_weekday='Monday')>"
      ]
     },
     "execution_count": 106,
     "metadata": {},
     "output_type": "execute_result"
    }
   ],
   "source": [
    "interact(figure7_3,\n",
    "            selected_weekday = ['Monday','Tuesday','Wednesday','Thursday','Friday','Saturday','Sunday'])"
   ]
  },
  {
   "cell_type": "markdown",
   "metadata": {},
   "source": [
    "The tip is higher when it is early morning (around 5 o'clock)"
   ]
  },
  {
   "cell_type": "markdown",
   "metadata": {},
   "source": [
    "## Unit Test"
   ]
  },
  {
   "cell_type": "code",
   "execution_count": 102,
   "metadata": {},
   "outputs": [],
   "source": [
    "import pytest\n",
    "import ipytest\n",
    "\n",
    "ipytest.autoconfig(raise_on_error=True)"
   ]
  },
  {
   "cell_type": "markdown",
   "metadata": {},
   "source": [
    "### test create_weather_csv(filename)"
   ]
  },
  {
   "cell_type": "code",
   "execution_count": 103,
   "metadata": {},
   "outputs": [],
   "source": [
    "create_weather_csv('2072_weather.csv')"
   ]
  },
  {
   "cell_type": "code",
   "execution_count": 104,
   "metadata": {},
   "outputs": [],
   "source": [
    "def test_create_weather_csv():\n",
    "    df_1 = pd.read_csv('2072_weather_days.csv')\n",
    "    df_2 = pd.read_csv('2072_weather_hours.csv')\n",
    "    assert ('DailyPrecipitation' in df_1.columns) == True\n",
    "    assert ('DailyWindSpeed' in df_1.columns) == True \n",
    "    assert ('HourlyPrecipitation' in df_2.columns) == True\n",
    "    assert ('HourlyWindSpeed' in df_2.columns) == True\n",
    "    \n",
    "    "
   ]
  },
  {
   "cell_type": "code",
   "execution_count": 105,
   "metadata": {},
   "outputs": [
    {
     "name": "stdout",
     "output_type": "stream",
     "text": [
      "\u001b[1m======================================= test session starts =======================================\u001b[0m\n",
      "platform win32 -- Python 3.9.7, pytest-6.2.4, py-1.10.0, pluggy-0.13.1 -- D:\\Anon\\python.exe\n",
      "cachedir: .pytest_cache\n",
      "rootdir: d:\\TFA_project\\UberTaxisAnalysis\n",
      "plugins: anyio-3.5.0\n",
      "\u001b[1mcollecting ... \u001b[0mcollected 5 items / 2 deselected / 3 selected\n",
      "\n",
      "tmp62a03o20.py::test_create_weather_csv \u001b[32mPASSED\u001b[0m\u001b[32m                                               [ 33%]\u001b[0m\n",
      "tmp62a03o20.py::test_create_weather_csv_1 \u001b[32mPASSED\u001b[0m\u001b[32m                                             [ 66%]\u001b[0m\n",
      "tmp62a03o20.py::test_create_weather_csv_2 \u001b[32mPASSED\u001b[0m\u001b[32m                                             [100%]\u001b[0m\n",
      "\n",
      "\u001b[32m================================= \u001b[32m\u001b[1m3 passed\u001b[0m, \u001b[33m2 deselected\u001b[0m\u001b[32m in 0.05s\u001b[0m\u001b[32m =================================\u001b[0m\n"
     ]
    },
    {
     "data": {
      "text/plain": [
       "<ExitCode.OK: 0>"
      ]
     },
     "execution_count": 105,
     "metadata": {},
     "output_type": "execute_result"
    }
   ],
   "source": [
    "### BEGIN TESTS\n",
    "ipytest.run(\"-vv\", \"-k\", \"test_create_weather_csv\")\n",
    "### END TESTS    "
   ]
  },
  {
   "cell_type": "markdown",
   "metadata": {},
   "source": [
    "### test get_distance()"
   ]
  },
  {
   "cell_type": "code",
   "execution_count": 67,
   "metadata": {},
   "outputs": [],
   "source": [
    "@pytest.mark.parametrize(\n",
    "    \"x1,x2,x3,x4,result\",\n",
    "    (\n",
    "        (1,2,3,4,314),\n",
    "        (0,0,1,1,157),\n",
    "    )\n",
    ")\n",
    "\n",
    "def test_get_distance(x1,x2,x3,x4,result):\n",
    "    assert round(get_distance(x1,x2,x3,x4)) == result\n",
    "    "
   ]
  },
  {
   "cell_type": "code",
   "execution_count": 69,
   "metadata": {},
   "outputs": [
    {
     "name": "stdout",
     "output_type": "stream",
     "text": [
      "\u001b[1m======================================= test session starts =======================================\u001b[0m\n",
      "platform win32 -- Python 3.9.7, pytest-6.2.4, py-1.10.0, pluggy-0.13.1 -- D:\\Anon\\python.exe\n",
      "cachedir: .pytest_cache\n",
      "rootdir: d:\\TFA_project\\UberTaxisAnalysis\n",
      "plugins: anyio-3.5.0\n",
      "\u001b[1mcollecting ... \u001b[0mcollected 2 items\n",
      "\n",
      "tmpzxbf4zsr.py::test_get_distance[1-2-3-4-314] \u001b[32mPASSED\u001b[0m\u001b[32m                                        [ 50%]\u001b[0m\n",
      "tmpzxbf4zsr.py::test_get_distance[0-0-1-1-157] \u001b[32mPASSED\u001b[0m\u001b[32m                                        [100%]\u001b[0m\n",
      "\n",
      "\u001b[32m======================================== \u001b[32m\u001b[1m2 passed\u001b[0m\u001b[32m in 0.02s\u001b[0m\u001b[32m ========================================\u001b[0m\n"
     ]
    },
    {
     "data": {
      "text/plain": [
       "<ExitCode.OK: 0>"
      ]
     },
     "execution_count": 69,
     "metadata": {},
     "output_type": "execute_result"
    }
   ],
   "source": [
    "### BEGIN TESTS\n",
    "ipytest.run(\"-vv\", \"-k\", \"test_get_distance\")\n",
    "### END TESTS    "
   ]
  },
  {
   "cell_type": "markdown",
   "metadata": {},
   "source": [
    "### test add_distance()"
   ]
  },
  {
   "cell_type": "code",
   "execution_count": 120,
   "metadata": {},
   "outputs": [],
   "source": [
    "uber = pd.read_csv('uber_rides_sample.csv')"
   ]
  },
  {
   "cell_type": "code",
   "execution_count": 121,
   "metadata": {},
   "outputs": [],
   "source": [
    "def test_add_distance():\n",
    "    add_distance(uber)\n",
    "    assert ('distance' in uber.columns) == True\n",
    "    "
   ]
  },
  {
   "cell_type": "code",
   "execution_count": 122,
   "metadata": {},
   "outputs": [
    {
     "name": "stdout",
     "output_type": "stream",
     "text": [
      "\u001b[1m======================================= test session starts =======================================\u001b[0m\n",
      "platform win32 -- Python 3.9.7, pytest-6.2.4, py-1.10.0, pluggy-0.13.1 -- D:\\Anon\\python.exe\n",
      "cachedir: .pytest_cache\n",
      "rootdir: d:\\TFA_project\\UberTaxisAnalysis\n",
      "plugins: anyio-3.5.0\n",
      "\u001b[1mcollecting ... \u001b[0mcollected 6 items / 5 deselected / 1 selected\n",
      "\n",
      "tmppfr9bbra.py::test_add_distance \u001b[32mPASSED\u001b[0m\u001b[32m                                                     [100%]\u001b[0m\n",
      "\n",
      "\u001b[32m================================= \u001b[32m\u001b[1m1 passed\u001b[0m, \u001b[33m5 deselected\u001b[0m\u001b[32m in 0.43s\u001b[0m\u001b[32m =================================\u001b[0m\n"
     ]
    },
    {
     "data": {
      "text/plain": [
       "<ExitCode.OK: 0>"
      ]
     },
     "execution_count": 122,
     "metadata": {},
     "output_type": "execute_result"
    }
   ],
   "source": [
    "### BEGIN TESTS\n",
    "ipytest.run(\"-vv\", \"-k\", \"test_add_distance\")\n",
    "### END TESTS  "
   ]
  },
  {
   "cell_type": "markdown",
   "metadata": {},
   "source": [
    "### test get_csv_links()"
   ]
  },
  {
   "cell_type": "code",
   "execution_count": 125,
   "metadata": {},
   "outputs": [],
   "source": [
    "def test_get_csv_links():\n",
    "    assert len(get_csv_links()) == 84\n",
    "    "
   ]
  },
  {
   "cell_type": "code",
   "execution_count": 126,
   "metadata": {},
   "outputs": [
    {
     "name": "stdout",
     "output_type": "stream",
     "text": [
      "\u001b[1m======================================= test session starts =======================================\u001b[0m\n",
      "platform win32 -- Python 3.9.7, pytest-6.2.4, py-1.10.0, pluggy-0.13.1 -- D:\\Anon\\python.exe\n",
      "cachedir: .pytest_cache\n",
      "rootdir: d:\\TFA_project\\UberTaxisAnalysis\n",
      "plugins: anyio-3.5.0\n",
      "\u001b[1mcollecting ... \u001b[0mcollected 7 items / 6 deselected / 1 selected\n",
      "\n",
      "tmpm6lsf50c.py::test_get_csv_links \u001b[32mPASSED\u001b[0m\u001b[32m                                                    [100%]\u001b[0m\n",
      "\n",
      "\u001b[32m================================= \u001b[32m\u001b[1m1 passed\u001b[0m, \u001b[33m6 deselected\u001b[0m\u001b[32m in 0.13s\u001b[0m\u001b[32m =================================\u001b[0m\n"
     ]
    },
    {
     "data": {
      "text/plain": [
       "<ExitCode.OK: 0>"
      ]
     },
     "execution_count": 126,
     "metadata": {},
     "output_type": "execute_result"
    }
   ],
   "source": [
    "### BEGIN TESTS\n",
    "ipytest.run(\"-vv\", \"-k\", \"test_get_csv_links\")\n",
    "### END TESTS  "
   ]
  },
  {
   "cell_type": "markdown",
   "metadata": {},
   "source": [
    "### test fix_longitude()"
   ]
  },
  {
   "cell_type": "code",
   "execution_count": 137,
   "metadata": {},
   "outputs": [],
   "source": [
    "def test_fix_longitude():\n",
    "    assert (fix_longitude(0)) is np.NaN"
   ]
  },
  {
   "cell_type": "code",
   "execution_count": 138,
   "metadata": {},
   "outputs": [
    {
     "name": "stdout",
     "output_type": "stream",
     "text": [
      "\u001b[1m======================================= test session starts =======================================\u001b[0m\n",
      "platform win32 -- Python 3.9.7, pytest-6.2.4, py-1.10.0, pluggy-0.13.1 -- D:\\Anon\\python.exe\n",
      "cachedir: .pytest_cache\n",
      "rootdir: d:\\TFA_project\\UberTaxisAnalysis\n",
      "plugins: anyio-3.5.0\n",
      "\u001b[1mcollecting ... \u001b[0mcollected 8 items / 7 deselected / 1 selected\n",
      "\n",
      "tmp09vvhu0e.py::test_fix_longitude \u001b[32mPASSED\u001b[0m\u001b[32m                                                    [100%]\u001b[0m\n",
      "\n",
      "\u001b[32m================================= \u001b[32m\u001b[1m1 passed\u001b[0m, \u001b[33m7 deselected\u001b[0m\u001b[32m in 0.01s\u001b[0m\u001b[32m =================================\u001b[0m\n"
     ]
    },
    {
     "data": {
      "text/plain": [
       "<ExitCode.OK: 0>"
      ]
     },
     "execution_count": 138,
     "metadata": {},
     "output_type": "execute_result"
    }
   ],
   "source": [
    "### BEGIN TESTS\n",
    "ipytest.run(\"-vv\", \"-k\", \"test_fix_longitude\")\n",
    "### END TESTS  "
   ]
  },
  {
   "cell_type": "markdown",
   "metadata": {},
   "source": [
    "### test fix_latitude()"
   ]
  },
  {
   "cell_type": "code",
   "execution_count": 139,
   "metadata": {},
   "outputs": [],
   "source": [
    "def test_fix_latitude():\n",
    "    assert (fix_latitude(0)) is np.NaN"
   ]
  },
  {
   "cell_type": "code",
   "execution_count": 140,
   "metadata": {},
   "outputs": [
    {
     "name": "stdout",
     "output_type": "stream",
     "text": [
      "\u001b[1m======================================= test session starts =======================================\u001b[0m\n",
      "platform win32 -- Python 3.9.7, pytest-6.2.4, py-1.10.0, pluggy-0.13.1 -- D:\\Anon\\python.exe\n",
      "cachedir: .pytest_cache\n",
      "rootdir: d:\\TFA_project\\UberTaxisAnalysis\n",
      "plugins: anyio-3.5.0\n",
      "\u001b[1mcollecting ... \u001b[0mcollected 9 items / 8 deselected / 1 selected\n",
      "\n",
      "tmpzwuomar0.py::test_fix_latitude \u001b[32mPASSED\u001b[0m\u001b[32m                                                     [100%]\u001b[0m\n",
      "\n",
      "\u001b[32m================================= \u001b[32m\u001b[1m1 passed\u001b[0m, \u001b[33m8 deselected\u001b[0m\u001b[32m in 0.01s\u001b[0m\u001b[32m =================================\u001b[0m\n"
     ]
    },
    {
     "data": {
      "text/plain": [
       "<ExitCode.OK: 0>"
      ]
     },
     "execution_count": 140,
     "metadata": {},
     "output_type": "execute_result"
    }
   ],
   "source": [
    "### BEGIN TESTS\n",
    "ipytest.run(\"-vv\", \"-k\", \"test_fix_latitude\")\n",
    "### END TESTS  "
   ]
  },
  {
   "cell_type": "markdown",
   "metadata": {},
   "source": [
    "### test fix_df()"
   ]
  },
  {
   "cell_type": "code",
   "execution_count": 147,
   "metadata": {},
   "outputs": [],
   "source": [
    "test_df = pd.DataFrame([[1,1,2,3]], columns = ['pickup_longitude','dropoff_longitude','pickup_latitude','dropoff_latitude'])"
   ]
  },
  {
   "cell_type": "code",
   "execution_count": 148,
   "metadata": {},
   "outputs": [],
   "source": [
    "def test_fix_df():\n",
    "    fix_df(test_df)\n",
    "    assert len(test_df) == 0"
   ]
  },
  {
   "cell_type": "code",
   "execution_count": 149,
   "metadata": {},
   "outputs": [
    {
     "name": "stdout",
     "output_type": "stream",
     "text": [
      "\u001b[1m======================================= test session starts =======================================\u001b[0m\n",
      "platform win32 -- Python 3.9.7, pytest-6.2.4, py-1.10.0, pluggy-0.13.1 -- D:\\Anon\\python.exe\n",
      "cachedir: .pytest_cache\n",
      "rootdir: d:\\TFA_project\\UberTaxisAnalysis\n",
      "plugins: anyio-3.5.0\n",
      "\u001b[1mcollecting ... \u001b[0mcollected 10 items / 9 deselected / 1 selected\n",
      "\n",
      "tmp03532757.py::test_fix_df \u001b[32mPASSED\u001b[0m\u001b[32m                                                           [100%]\u001b[0m\n",
      "\n",
      "\u001b[32m================================= \u001b[32m\u001b[1m1 passed\u001b[0m, \u001b[33m9 deselected\u001b[0m\u001b[32m in 0.02s\u001b[0m\u001b[32m =================================\u001b[0m\n"
     ]
    },
    {
     "data": {
      "text/plain": [
       "<ExitCode.OK: 0>"
      ]
     },
     "execution_count": 149,
     "metadata": {},
     "output_type": "execute_result"
    }
   ],
   "source": [
    "### BEGIN TESTS\n",
    "ipytest.run(\"-vv\", \"-k\", \"test_fix_df\")\n",
    "### END TESTS  "
   ]
  },
  {
   "cell_type": "markdown",
   "metadata": {},
   "source": [
    "### readsql(filename)"
   ]
  },
  {
   "cell_type": "code",
   "execution_count": 155,
   "metadata": {},
   "outputs": [],
   "source": [
    "def test_readsql():\n",
    "    assert len(readsql('testsql.sql')) == 194376"
   ]
  },
  {
   "cell_type": "code",
   "execution_count": 156,
   "metadata": {},
   "outputs": [
    {
     "name": "stdout",
     "output_type": "stream",
     "text": [
      "\u001b[1m======================================= test session starts =======================================\u001b[0m\n",
      "platform win32 -- Python 3.9.7, pytest-6.2.4, py-1.10.0, pluggy-0.13.1 -- D:\\Anon\\python.exe\n",
      "cachedir: .pytest_cache\n",
      "rootdir: d:\\TFA_project\\UberTaxisAnalysis\n",
      "plugins: anyio-3.5.0\n",
      "\u001b[1mcollecting ... \u001b[0mcollected 11 items / 10 deselected / 1 selected\n",
      "\n",
      "tmp3l8si2s_.py::test_readsql [sqlalchemy] SELECT \n",
      "*\n",
      "FROM\n",
      "yellow_taxi\n",
      "[sqlalchemy] [cached since 98.97s ago] ()\n",
      "\u001b[32mPASSED\u001b[0m\u001b[32m                                                          [100%]\u001b[0m\n",
      "\n",
      "\u001b[32m================================ \u001b[32m\u001b[1m1 passed\u001b[0m, \u001b[33m10 deselected\u001b[0m\u001b[32m in 0.77s\u001b[0m\u001b[32m =================================\u001b[0m\n"
     ]
    },
    {
     "data": {
      "text/plain": [
       "<ExitCode.OK: 0>"
      ]
     },
     "execution_count": 156,
     "metadata": {},
     "output_type": "execute_result"
    }
   ],
   "source": [
    "### BEGIN TESTS\n",
    "ipytest.run(\"-vv\", \"-k\", \"test_readsql\")\n",
    "### END TESTS  "
   ]
  },
  {
   "cell_type": "markdown",
   "metadata": {},
   "source": [
    "### test createuber()"
   ]
  },
  {
   "cell_type": "code",
   "execution_count": 158,
   "metadata": {},
   "outputs": [],
   "source": [
    "def test_createuber():\n",
    "    uber = createuber()\n",
    "    assert len(uber) == 194367\n"
   ]
  },
  {
   "cell_type": "code",
   "execution_count": 159,
   "metadata": {},
   "outputs": [
    {
     "name": "stdout",
     "output_type": "stream",
     "text": [
      "\u001b[1m======================================= test session starts =======================================\u001b[0m\n",
      "platform win32 -- Python 3.9.7, pytest-6.2.4, py-1.10.0, pluggy-0.13.1 -- D:\\Anon\\python.exe\n",
      "cachedir: .pytest_cache\n",
      "rootdir: d:\\TFA_project\\UberTaxisAnalysis\n",
      "plugins: anyio-3.5.0\n",
      "\u001b[1mcollecting ... \u001b[0mcollected 12 items / 11 deselected / 1 selected\n",
      "\n",
      "tmp8hthx29d.py::test_createuber \u001b[32mPASSED\u001b[0m\u001b[32m                                                       [100%]\u001b[0m\n",
      "\n",
      "\u001b[32m================================ \u001b[32m\u001b[1m1 passed\u001b[0m, \u001b[33m11 deselected\u001b[0m\u001b[32m in 0.31s\u001b[0m\u001b[32m =================================\u001b[0m\n"
     ]
    },
    {
     "data": {
      "text/plain": [
       "<ExitCode.OK: 0>"
      ]
     },
     "execution_count": 159,
     "metadata": {},
     "output_type": "execute_result"
    }
   ],
   "source": [
    "### BEGIN TESTS\n",
    "ipytest.run(\"-vv\", \"-k\", \"test_createuber\")\n",
    "### END TESTS  "
   ]
  },
  {
   "cell_type": "markdown",
   "metadata": {},
   "source": [
    "### test createtaxi()"
   ]
  },
  {
   "cell_type": "code",
   "execution_count": 170,
   "metadata": {},
   "outputs": [],
   "source": [
    "def test_createtaxi():\n",
    "    taxi = createtaxi()\n",
    "    assert len(taxi) == 194376\n"
   ]
  },
  {
   "cell_type": "code",
   "execution_count": 171,
   "metadata": {},
   "outputs": [
    {
     "name": "stdout",
     "output_type": "stream",
     "text": [
      "\u001b[1m======================================= test session starts =======================================\u001b[0m\n",
      "platform win32 -- Python 3.9.7, pytest-6.2.4, py-1.10.0, pluggy-0.13.1 -- D:\\Anon\\python.exe\n",
      "cachedir: .pytest_cache\n",
      "rootdir: d:\\TFA_project\\UberTaxisAnalysis\n",
      "plugins: anyio-3.5.0\n",
      "\u001b[1mcollecting ... \u001b[0mcollected 13 items / 12 deselected / 1 selected\n",
      "\n",
      "tmph5cjstlw.py::test_createtaxi \u001b[32mPASSED\u001b[0m\u001b[32m                                                       [100%]\u001b[0m\n",
      "\n",
      "\u001b[32m================================ \u001b[32m\u001b[1m1 passed\u001b[0m, \u001b[33m12 deselected\u001b[0m\u001b[32m in 1.17s\u001b[0m\u001b[32m =================================\u001b[0m\n"
     ]
    },
    {
     "data": {
      "text/plain": [
       "<ExitCode.OK: 0>"
      ]
     },
     "execution_count": 171,
     "metadata": {},
     "output_type": "execute_result"
    }
   ],
   "source": [
    "### BEGIN TESTS\n",
    "ipytest.run(\"-vv\", \"-k\", \"test_createtaxi\")\n",
    "### END TESTS  "
   ]
  },
  {
   "cell_type": "markdown",
   "metadata": {},
   "source": [
    "### test createhourlyweather()"
   ]
  },
  {
   "cell_type": "code",
   "execution_count": 175,
   "metadata": {},
   "outputs": [],
   "source": [
    "def test_createhourlyweather():\n",
    "    weather_hourly= createhourlyweather()\n",
    "    assert len(weather_hourly) == 60458"
   ]
  },
  {
   "cell_type": "code",
   "execution_count": 176,
   "metadata": {},
   "outputs": [
    {
     "name": "stdout",
     "output_type": "stream",
     "text": [
      "\u001b[1m======================================= test session starts =======================================\u001b[0m\n",
      "platform win32 -- Python 3.9.7, pytest-6.2.4, py-1.10.0, pluggy-0.13.1 -- D:\\Anon\\python.exe\n",
      "cachedir: .pytest_cache\n",
      "rootdir: d:\\TFA_project\\UberTaxisAnalysis\n",
      "plugins: anyio-3.5.0\n",
      "\u001b[1mcollecting ... \u001b[0mcollected 14 items / 13 deselected / 1 selected\n",
      "\n",
      "tmp787p6kt1.py::test_createhourlyweather \u001b[32mPASSED\u001b[0m\u001b[32m                                              [100%]\u001b[0m\n",
      "\n",
      "\u001b[32m================================ \u001b[32m\u001b[1m1 passed\u001b[0m, \u001b[33m13 deselected\u001b[0m\u001b[32m in 0.12s\u001b[0m\u001b[32m =================================\u001b[0m\n"
     ]
    },
    {
     "data": {
      "text/plain": [
       "<ExitCode.OK: 0>"
      ]
     },
     "execution_count": 176,
     "metadata": {},
     "output_type": "execute_result"
    }
   ],
   "source": [
    "### BEGIN TESTS\n",
    "ipytest.run(\"-vv\", \"-k\", \"test_createhourlyweather\")\n",
    "### END TESTS  "
   ]
  },
  {
   "cell_type": "markdown",
   "metadata": {},
   "source": [
    "### test createdailyweather()"
   ]
  },
  {
   "cell_type": "code",
   "execution_count": 178,
   "metadata": {},
   "outputs": [],
   "source": [
    "def test_createdailyweather():\n",
    "    weather_daily = createdailyweather()\n",
    "    assert len(weather_daily) == 2556\n"
   ]
  },
  {
   "cell_type": "code",
   "execution_count": 179,
   "metadata": {},
   "outputs": [
    {
     "name": "stdout",
     "output_type": "stream",
     "text": [
      "\u001b[1m======================================= test session starts =======================================\u001b[0m\n",
      "platform win32 -- Python 3.9.7, pytest-6.2.4, py-1.10.0, pluggy-0.13.1 -- D:\\Anon\\python.exe\n",
      "cachedir: .pytest_cache\n",
      "rootdir: d:\\TFA_project\\UberTaxisAnalysis\n",
      "plugins: anyio-3.5.0\n",
      "\u001b[1mcollecting ... \u001b[0mcollected 15 items / 14 deselected / 1 selected\n",
      "\n",
      "tmpk4z8n04v.py::test_createdailyweather \u001b[32mPASSED\u001b[0m\u001b[32m                                               [100%]\u001b[0m\n",
      "\n",
      "\u001b[32m================================ \u001b[32m\u001b[1m1 passed\u001b[0m, \u001b[33m14 deselected\u001b[0m\u001b[32m in 0.03s\u001b[0m\u001b[32m =================================\u001b[0m\n"
     ]
    },
    {
     "data": {
      "text/plain": [
       "<ExitCode.OK: 0>"
      ]
     },
     "execution_count": 179,
     "metadata": {},
     "output_type": "execute_result"
    }
   ],
   "source": [
    "### BEGIN TESTS\n",
    "ipytest.run(\"-vv\", \"-k\", \"test_createdailyweather\")\n",
    "### END TESTS  "
   ]
  }
 ],
 "metadata": {
  "kernelspec": {
   "display_name": "Python 3",
   "language": "python",
   "name": "python3"
  },
  "language_info": {
   "codemirror_mode": {
    "name": "ipython",
    "version": 3
   },
   "file_extension": ".py",
   "mimetype": "text/x-python",
   "name": "python",
   "nbconvert_exporter": "python",
   "pygments_lexer": "ipython3",
   "version": "3.6.10"
  }
 },
 "nbformat": 4,
 "nbformat_minor": 5
}
