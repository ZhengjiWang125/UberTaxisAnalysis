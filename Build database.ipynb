{
 "cells": [
  {
   "cell_type": "code",
   "execution_count": 1,
   "id": "e153741a",
   "metadata": {},
   "outputs": [],
   "source": [
    "import numpy as np\n",
    "import pandas as pd"
   ]
  },
  {
   "cell_type": "code",
   "execution_count": 28,
   "id": "7eb6905c",
   "metadata": {},
   "outputs": [],
   "source": [
    "def createuber():\n",
    "    #this function reads in uber.csv and returns the data in pd.DataFrame format\n",
    "    uber = pd.read_csv('uber.csv')\n",
    "    uber.pickup_time = pd.to_datetime(uber.pickup_time)\n",
    "    return uber"
   ]
  },
  {
   "cell_type": "code",
   "execution_count": 29,
   "id": "e4d437a0",
   "metadata": {},
   "outputs": [],
   "source": [
    "def createtaxi():\n",
    "    #this function reads in yellow_trip_{year}-{month}.csv and returns the data in pd.DataFrame format\n",
    "    filenames = []\n",
    "    for i in range(2009,2016):\n",
    "        for j in range(1,13):\n",
    "            if j <10:\n",
    "                filename = f'yellow_tripdata_{i}-0{j}.csv'\n",
    "                filenames.append(filename)\n",
    "            else:\n",
    "                filename = f'yellow_tripdata_{i}-{j}.csv'\n",
    "                filenames.append(filename)\n",
    "    taxi = pd.read_csv('yellow_tripdata_2009-01.csv',usecols = ['pickup_time','dropoff_time','pickup_longitude','pickup_latitude','dropoff_longitude','dropoff_latitude','charge','tip'],nrows = 2381)\n",
    "    for i in range(1,len(filenames)):\n",
    "        df = pd.read_csv(filenames[i],usecols = ['pickup_time','dropoff_time','pickup_longitude','pickup_latitude','dropoff_longitude','dropoff_latitude','charge','tip'], nrows = 2381)\n",
    "        taxi = pd.concat([taxi,df])\n",
    "    taxi.reset_index(inplace = True, drop = True)\n",
    "    taxi.pickup_time = pd.to_datetime(taxi.pickup_time)\n",
    "    taxi.dropoff_time = pd.to_datetime(taxi.dropoff_time)\n",
    "    return taxi"
   ]
  },
  {
   "cell_type": "code",
   "execution_count": 30,
   "id": "5981a915",
   "metadata": {},
   "outputs": [],
   "source": [
    "def createhourlyweather():\n",
    "    #this function reads in {year}_weather_hours.csv and returns the data in pd.DataFrame format\n",
    "    filenames = []\n",
    "    for i in range(2009,2016):\n",
    "        filenames.append(f'{i}_weather_hours.csv')\n",
    "    weather_hourly = pd.read_csv('2009_weather_hours.csv')\n",
    "    for i in range(1,len(filenames)):\n",
    "        df = pd.read_csv(filenames[i])\n",
    "        weather_hourly = pd.concat([weather_hourly,df])\n",
    "    weather_hourly.reset_index(inplace = True, drop = True)\n",
    "    weather_hourly.DATE = pd.to_datetime(weather_hourly.DATE)\n",
    "    weather_hourly['DATE'] = weather_hourly['DATE'].dt.floor('H')\n",
    "    weather_hourly = weather_hourly.drop_duplicates('DATE',keep = 'first')\n",
    "    return weather_hourly\n",
    "    "
   ]
  },
  {
   "cell_type": "code",
   "execution_count": 31,
   "id": "16ecccfa",
   "metadata": {},
   "outputs": [],
   "source": [
    "def createdailyweather():\n",
    "    #this function reads in {year}_weather_days.csv and returns the data in pd.DataFrame format\n",
    "    filenames = []\n",
    "    for i in range(2009,2016):\n",
    "        filenames.append(f'{i}_weather_days.csv')\n",
    "    weather_daily = pd.read_csv('2009_weather_days.csv')\n",
    "    for i in range(1,len(filenames)):\n",
    "        df = pd.read_csv(filenames[i])\n",
    "        weather_daily = pd.concat([weather_daily,df])\n",
    "    weather_daily.reset_index(inplace = True, drop = True)\n",
    "    weather_daily.DATE = pd.to_datetime(weather_daily.DATE)\n",
    "    return weather_daily"
   ]
  },
  {
   "cell_type": "code",
   "execution_count": 32,
   "id": "6e19a5e0",
   "metadata": {},
   "outputs": [],
   "source": [
    "uber = createuber()\n",
    "taxi = createtaxi()\n",
    "weather_hourly= createhourlyweather()\n",
    "weather_daily = createdailyweather()"
   ]
  },
  {
   "cell_type": "code",
   "execution_count": null,
   "id": "c06cf95d",
   "metadata": {},
   "outputs": [],
   "source": []
  }
 ],
 "metadata": {
  "kernelspec": {
   "display_name": "Python 3 (ipykernel)",
   "language": "python",
   "name": "python3"
  },
  "language_info": {
   "codemirror_mode": {
    "name": "ipython",
    "version": 3
   },
   "file_extension": ".py",
   "mimetype": "text/x-python",
   "name": "python",
   "nbconvert_exporter": "python",
   "pygments_lexer": "ipython3",
   "version": "3.9.7"
  }
 },
 "nbformat": 4,
 "nbformat_minor": 5
}
