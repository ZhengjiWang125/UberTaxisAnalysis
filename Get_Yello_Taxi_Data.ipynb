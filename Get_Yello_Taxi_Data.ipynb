{
 "cells": [
  {
   "cell_type": "code",
   "execution_count": 1,
   "id": "efa0ec94",
   "metadata": {},
   "outputs": [],
   "source": [
    "import numpy as np\n",
    "import pandas as pd\n",
    "from bs4 import BeautifulSoup\n",
    "import requests\n",
    "import re"
   ]
  },
  {
   "cell_type": "markdown",
   "id": "430cf050",
   "metadata": {},
   "source": [
    "Get Distance Function"
   ]
  },
  {
   "cell_type": "code",
   "execution_count": 2,
   "id": "a7fb362e",
   "metadata": {},
   "outputs": [],
   "source": [
    "def get_distance(lon1,lat1,lon2,lat2):\n",
    "    from math import sin, cos, sqrt, atan2, radians\n",
    "    R = 6373\n",
    "    lon1 = radians(lon1)\n",
    "    lat1 = radians(lat1)\n",
    "    lon2 = radians(lon2)\n",
    "    lat2 = radians(lat2)\n",
    "    \n",
    "    dlon = lon1 - lon2\n",
    "    dlat = lat1 - lat2\n",
    "    a = sin(dlat / 2)**2 + cos(lat1) * cos(lat2) * sin(dlon / 2)**2\n",
    "    c = 2 * atan2(sqrt(a), sqrt(1 - a))\n",
    "    \n",
    "    distance = R * c\n",
    "    return distance\n",
    "    "
   ]
  },
  {
   "cell_type": "markdown",
   "id": "2600a5b9",
   "metadata": {},
   "source": [
    "Get all Yellow Taxi csv links"
   ]
  },
  {
   "cell_type": "code",
   "execution_count": 3,
   "id": "58dec19e",
   "metadata": {},
   "outputs": [],
   "source": [
    "def get_csv_links():\n",
    "    #this function visits： https://www1.nyc.gov/site/tlc/about/tlc-trip-record-data.page\n",
    "    #It requests the source code on the website and get all the hrefs related to csv\n",
    "    #the urls are saved in link_lists\n",
    "    link_lists = []\n",
    "    url = \"https://www1.nyc.gov/site/tlc/about/tlc-trip-record-data.page\"\n",
    "    page = requests.get(url)\n",
    "    soup = BeautifulSoup(page.text, 'html.parser')\n",
    "    aclasses = soup.find_all('a')\n",
    "    for a in aclasses:\n",
    "        link_lists.append(a.get('href'))\n",
    "    #Then we filter on link_lists using re because we only want to grab csv for yellow taxi ranging from 2009 - 2015.\n",
    "    csv_links = []\n",
    "    pattern = re.compile(r'.yellow_tripdata_(200[9]|201[0-5])-\\d\\d\\.csv$')\n",
    "    for i in link_lists:\n",
    "        if re.search(pattern,i):\n",
    "            csv_links.append(i)\n",
    "    return csv_links\n",
    "    "
   ]
  },
  {
   "cell_type": "markdown",
   "id": "9b7ddfdd",
   "metadata": {},
   "source": [
    "Remove trip outside"
   ]
  },
  {
   "cell_type": "code",
   "execution_count": 4,
   "id": "3b1ef524",
   "metadata": {},
   "outputs": [],
   "source": [
    "westlimit=-74.242330; southlimit=40.560445; eastlimit=-73.717047; northlimit=40.908524\n",
    "#Remove the data that is not within the limits specified above\n",
    "\n",
    "def fix_longitude(input_longitude):\n",
    "    try:\n",
    "        input_longitude = float(input_longitude)\n",
    "    except:\n",
    "        return np.NaN\n",
    "    if input_longitude < westlimit or input_longitude > eastlimit:\n",
    "        return np.NaN\n",
    "    return input_longitude\n",
    "\n",
    "\n",
    "def fix_latitude(input_latitude):\n",
    "    try:\n",
    "        input_latitude = float(input_latitude)\n",
    "    except:\n",
    "        return np.NaN\n",
    "    if input_latitude < southlimit or input_latitude > northlimit:\n",
    "        return np.NaN\n",
    "    return input_latitude\n",
    "\n",
    "\n",
    "def fix_df(df):\n",
    "    df['pickup_longitude']=df['pickup_longitude'].apply(fix_longitude)\n",
    "    df['dropoff_longitude']=df['dropoff_longitude'].apply(fix_longitude)\n",
    "    df['pickup_latitude']=df['pickup_latitude'].apply(fix_latitude)\n",
    "    df['dropoff_latitude']=df['dropoff_latitude'].apply(fix_latitude)\n",
    "    df.dropna(inplace = True)"
   ]
  },
  {
   "cell_type": "markdown",
   "id": "28bf0eee",
   "metadata": {},
   "source": [
    "Add distance column in dataframe #math module don't support series"
   ]
  },
  {
   "cell_type": "code",
   "execution_count": 5,
   "id": "7fe4f568",
   "metadata": {},
   "outputs": [],
   "source": [
    "def add_distance(df):\n",
    "    distance = []\n",
    "    lon1 = list(df['pickup_longitude'])\n",
    "    lon2 = list(df['dropoff_longitude'])\n",
    "    lat1 = list(df['pickup_latitude'])\n",
    "    lat2 = list(df['dropoff_latitude'])\n",
    "    for i in range(len(lon1)):\n",
    "        distance.append(get_distance(lon1[i],lat1[i],lon2[i],lat2[i]))\n",
    "    df['distance']  = distance"
   ]
  },
  {
   "cell_type": "markdown",
   "id": "08bf31be",
   "metadata": {},
   "source": [
    "download csv link into a pandas dataframe and clean it, then output into clean csv"
   ]
  },
  {
   "cell_type": "code",
   "execution_count": 6,
   "id": "05ff5ff2",
   "metadata": {},
   "outputs": [],
   "source": [
    "def create_csv(csv_link):\n",
    "   \n",
    "    # make sure the output title is consistent \n",
    "    title = \"\"\n",
    "    m = re.search(r'(yellow.+)', csv_link)\n",
    "    if m:\n",
    "        title = m.group(1)\n",
    "   \n",
    "    #read the data into a dataframe\n",
    "    df = pd.read_csv(csv_link,on_bad_lines='skip')\n",
    "    df = df.rename(columns = lambda x: x.strip())\n",
    "   \n",
    "    #drop and rename column\n",
    "    to_drop = [\n",
    "        \"Unnamed: 0\",\n",
    "        \"vendor_name\",\n",
    "        \"vendor_id\",\n",
    "        \"Vendor_id\",\n",
    "        'VendorID',\n",
    "        \"Trip_distance\",\n",
    "        \"Trip_Distance\",\n",
    "        \"trip_distance\",\n",
    "        \"Rate_Code\",\n",
    "        \"store_and_forward\",\n",
    "        \"store_and_fwd_flag\",\n",
    "        \"Payment_Type\",\n",
    "        \"Fare_Amt\",\n",
    "        \"surcharge\",\n",
    "        \"mta_tax\",\n",
    "        \"Tolls_Amt\",\n",
    "        \"rate_code\",\n",
    "        \"RatecodeID\",\n",
    "        \"RateCodeID\",\n",
    "        \"payment_type\",\n",
    "        \"fare_amount\",\n",
    "        \"extra\",\n",
    "        \"tolls_amount\",\n",
    "        \"improvement_surcharge\",\n",
    "        \"Passenger_Count\",\n",
    "        \"passenger_count\"\n",
    "    ]\n",
    "    \n",
    "    mapper = {\n",
    "        \"Trip_Pickup_DateTime\" : \"pickup_time\",\n",
    "        \"tpep_pickup_datetime\" : \"pickup_time\",\n",
    "        \"pickup_datetime\": \"pickup_time\",\n",
    "        \"dropoff_datetime\" : \"dropoff_time\",\n",
    "        \"Trip_Dropoff_DateTime\" : \"dropoff_time\",\n",
    "        \"tpep_dropoff_datetime\" : \"dropoff_time\",\n",
    "        \"Start_Lon\" : \"pickup_longitude\",\n",
    "        \"Start_Lat\" : \"pickup_latitude\",\n",
    "        \"End_Lon\" : \"dropoff_longitude\",\n",
    "        \"End_Lat\" : \"dropoff_latitude\",\n",
    "        \"Tip_Amt\" : 'tip',\n",
    "        \"tip_amount\" : \"tip\",\n",
    "        \"Total_Amt\" : \"charge\",\n",
    "        \"total_amount\" : \"charge\"\n",
    "    }\n",
    "    df = df.drop(to_drop, axis = 1,errors = \"ignore\")\n",
    "    df = df.rename(mapper, axis = 1)\n",
    "    df.dropna(inplace = True)\n",
    "    \n",
    "    #modify datatype\n",
    "    df = df.astype({\"pickup_time\":np.datetime64,\"dropoff_time\": np.datetime64})\n",
    "    \n",
    "    \n",
    "    #make sure the trip is within(40.560445, -74.242330) and (40.908524, -73.717047)\n",
    "    fix_df(df)\n",
    "    \n",
    "    #sample 3000 rows\n",
    "    df = df.sample(n=3000)\n",
    "    \n",
    "    #add distance\n",
    "    add_distance(df)\n",
    "    df.reset_index(inplace = True, drop = True)\n",
    "    \n",
    "    df.to_csv(title,index= False)"
   ]
  },
  {
   "cell_type": "markdown",
   "id": "0bde6e70",
   "metadata": {},
   "source": [
    "Run to get all yellow taxi data"
   ]
  },
  {
   "cell_type": "code",
   "execution_count": 7,
   "id": "a340c170",
   "metadata": {},
   "outputs": [
    {
     "name": "stderr",
     "output_type": "stream",
     "text": [
      "  0%|                                                                                           | 0/23 [00:00<?, ?it/s]C:\\Users\\lzabr\\AppData\\Local\\Temp/ipykernel_18016/1627789895.py:4: DtypeWarning: Columns (8) have mixed types.Specify dtype option on import or set low_memory=False.\n",
      "  create_csv(links[i])\n",
      "100%|███████████████████████████████████████████████████████████████████████████████| 23/23 [1:14:43<00:00, 194.92s/it]\n"
     ]
    }
   ],
   "source": [
    "from tqdm import tqdm\n",
    "links = get_csv_links()\n",
    "for i in tqdm(range(len(links))):\n",
    "    create_csv(links[i])\n",
    "    "
   ]
  },
  {
   "cell_type": "code",
   "execution_count": null,
   "id": "f5a54720",
   "metadata": {},
   "outputs": [],
   "source": [
    "DF,DROP([],)"
   ]
  }
 ],
 "metadata": {
  "kernelspec": {
   "display_name": "Python 3 (ipykernel)",
   "language": "python",
   "name": "python3"
  },
  "language_info": {
   "codemirror_mode": {
    "name": "ipython",
    "version": 3
   },
   "file_extension": ".py",
   "mimetype": "text/x-python",
   "name": "python",
   "nbconvert_exporter": "python",
   "pygments_lexer": "ipython3",
   "version": "3.9.7"
  }
 },
 "nbformat": 4,
 "nbformat_minor": 5
}
